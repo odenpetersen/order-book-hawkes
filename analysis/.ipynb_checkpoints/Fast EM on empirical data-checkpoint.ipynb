{
 "cells": [
  {
   "cell_type": "markdown",
   "id": "80a49496",
   "metadata": {},
   "source": [
    "- Scale up to empirical data\n",
    "- Check goodness of fit, model comparison. AIC/BIC etc.\n",
    "- Check residuals of different models (quantile plot, acf plot) & ljung-box test, ks test\n",
    "- L-test: OOS likelihood vs parametric bootstrap likelihoods\n",
    "- Number of events of each type OOS vs parametric bootstrap results"
   ]
  },
  {
   "cell_type": "code",
   "execution_count": 20,
   "id": "76953910",
   "metadata": {},
   "outputs": [],
   "source": [
    "import mpoints.hybrid_hawkes_exp\n",
    "import numpy as np"
   ]
  },
  {
   "cell_type": "code",
   "execution_count": 12,
   "id": "44d2dff4",
   "metadata": {},
   "outputs": [],
   "source": [
    "model = mpoints.hybrid_hawkes_exp.HybridHawkesExp(3,4,[0,1,2],[0,1,2,3])"
   ]
  },
  {
   "cell_type": "code",
   "execution_count": 48,
   "id": "fd16a9c8",
   "metadata": {},
   "outputs": [],
   "source": [
    "m = np.random.uniform(size=(4,3,4))\n",
    "model.set_transition_probabilities(m/m.sum(axis=(0,1)))\n",
    "model.set_hawkes_parameters(np.random.uniform(size=3)*5,np.random.uniform(size=(3,4,3)),np.random.uniform(size=(3,4,3)))"
   ]
  },
  {
   "cell_type": "code",
   "execution_count": 56,
   "id": "22ca7151",
   "metadata": {},
   "outputs": [],
   "source": [
    "times, events, states = model.simulate(0,10)"
   ]
  },
  {
   "cell_type": "code",
   "execution_count": 52,
   "id": "a23dc06e",
   "metadata": {},
   "outputs": [],
   "source": [
    "import sys\n",
    "sys.path.append('../code')\n",
    "import fast_em_classes"
   ]
  },
  {
   "cell_type": "code",
   "execution_count": 75,
   "id": "d32dddbf",
   "metadata": {},
   "outputs": [],
   "source": [
    "alpha = model.impact_coefficients.transpose((0,2,1))\n",
    "beta = model.decay_coefficients.transpose((0,2,1))\n",
    "nu = model.base_rates\n",
    "kernel = fast_em_classes.CompositeKernel([fast_em_classes.ExponentialHawkesKernel(alpha,beta),fast_em_classes.ConstantKernel(nu)])"
   ]
  },
  {
   "cell_type": "code",
   "execution_count": null,
   "id": "0a04068f",
   "metadata": {},
   "outputs": [],
   "source": [
    "%time kernel.em(0,10,times,events,states)"
   ]
  },
  {
   "cell_type": "code",
   "execution_count": null,
   "id": "db1cb5ec",
   "metadata": {},
   "outputs": [],
   "source": []
  }
 ],
 "metadata": {
  "kernelspec": {
   "display_name": "Python 3 (ipykernel)",
   "language": "python",
   "name": "python3"
  },
  "language_info": {
   "codemirror_mode": {
    "name": "ipython",
    "version": 3
   },
   "file_extension": ".py",
   "mimetype": "text/x-python",
   "name": "python",
   "nbconvert_exporter": "python",
   "pygments_lexer": "ipython3",
   "version": "3.9.0"
  }
 },
 "nbformat": 4,
 "nbformat_minor": 5
}
