{
 "cells": [
  {
   "cell_type": "code",
   "execution_count": 1,
   "id": "ae1815e2",
   "metadata": {},
   "outputs": [],
   "source": [
    "import numpy as np\n",
    "import pandas as pd\n",
    "import matplotlib.pyplot as plt\n",
    "import itertools\n",
    "import scipy as sp\n",
    "import tqdm\n",
    "import scipy.stats"
   ]
  },
  {
   "cell_type": "code",
   "execution_count": 2,
   "id": "314b6244",
   "metadata": {},
   "outputs": [],
   "source": [
    "trades = pd.read_csv('../data/2023-06-11/trades.csv')\n",
    "\n",
    "trades.index = pd.to_datetime(trades.DATE+' '+trades.TIME_M)\n",
    "del trades['DATE'], trades['TIME_M']"
   ]
  },
  {
   "cell_type": "code",
   "execution_count": 3,
   "id": "e0ea6268",
   "metadata": {},
   "outputs": [],
   "source": [
    "times = trades.index.to_series().astype(int).values*1e-9"
   ]
  },
  {
   "cell_type": "code",
   "execution_count": 4,
   "id": "25f1d30e",
   "metadata": {},
   "outputs": [],
   "source": [
    "events = trades.EX.factorize()[0]#*3 + (np.sign(trades.PRICE.diff().fillna(0))+1).astype(int).values"
   ]
  },
  {
   "cell_type": "code",
   "execution_count": 29,
   "id": "64cc47f5",
   "metadata": {},
   "outputs": [
    {
     "data": {
      "text/plain": [
       "array([1.68654240e+09, 1.68654240e+09, 1.68654240e+09, ...,\n",
       "       1.68659999e+09, 1.68659999e+09, 1.68659999e+09])"
      ]
     },
     "execution_count": 29,
     "metadata": {},
     "output_type": "execute_result"
    }
   ],
   "source": [
    "times"
   ]
  },
  {
   "cell_type": "code",
   "execution_count": 139,
   "id": "716b18e0",
   "metadata": {},
   "outputs": [
    {
     "data": {
      "text/plain": [
       "<Axes: >"
      ]
     },
     "execution_count": 139,
     "metadata": {},
     "output_type": "execute_result"
    },
    {
     "data": {
      "image/png": "[encoded data removed]",
      "text/plain": [
       "<Figure size 432x288 with 1 Axes>"
      ]
     },
     "metadata": {
      "needs_background": "light"
     },
     "output_type": "display_data"
    }
   ],
   "source": [
    "trades[trades.EX!='D'].PRICE.plot()"
   ]
  },
  {
   "cell_type": "code",
   "execution_count": 136,
   "id": "85c94bf5",
   "metadata": {},
   "outputs": [
    {
     "data": {
      "text/html": [
       "<div>\n",
       "<style scoped>\n",
       "    .dataframe tbody tr th:only-of-type {\n",
       "        vertical-align: middle;\n",
       "    }\n",
       "\n",
       "    .dataframe tbody tr th {\n",
       "        vertical-align: top;\n",
       "    }\n",
       "\n",
       "    .dataframe thead th {\n",
       "        text-align: right;\n",
       "    }\n",
       "</style>\n",
       "<table border=\"1\" class=\"dataframe\">\n",
       "  <thead>\n",
       "    <tr style=\"text-align: right;\">\n",
       "      <th></th>\n",
       "      <th>EX</th>\n",
       "      <th>SYM_ROOT</th>\n",
       "      <th>SYM_SUFFIX</th>\n",
       "      <th>TR_SCOND</th>\n",
       "      <th>SIZE</th>\n",
       "      <th>PRICE</th>\n",
       "      <th>TR_STOP_IND</th>\n",
       "      <th>TR_CORR</th>\n",
       "      <th>TR_SEQNUM</th>\n",
       "      <th>TR_ID</th>\n",
       "      <th>TR_SOURCE</th>\n",
       "      <th>TR_RF</th>\n",
       "    </tr>\n",
       "  </thead>\n",
       "  <tbody>\n",
       "    <tr>\n",
       "      <th>2023-06-12 16:59:48.031749376</th>\n",
       "      <td>Q</td>\n",
       "      <td>INTC</td>\n",
       "      <td>NaN</td>\n",
       "      <td>@ TI</td>\n",
       "      <td>85</td>\n",
       "      <td>33.14</td>\n",
       "      <td>NaN</td>\n",
       "      <td>0</td>\n",
       "      <td>6243657</td>\n",
       "      <td>61502</td>\n",
       "      <td>N</td>\n",
       "      <td>NaN</td>\n",
       "    </tr>\n",
       "    <tr>\n",
       "      <th>2023-06-12 16:59:51.868560993</th>\n",
       "      <td>Q</td>\n",
       "      <td>INTC</td>\n",
       "      <td>NaN</td>\n",
       "      <td>@ TI</td>\n",
       "      <td>15</td>\n",
       "      <td>33.14</td>\n",
       "      <td>NaN</td>\n",
       "      <td>0</td>\n",
       "      <td>6243670</td>\n",
       "      <td>61503</td>\n",
       "      <td>N</td>\n",
       "      <td>NaN</td>\n",
       "    </tr>\n",
       "    <tr>\n",
       "      <th>2023-06-12 16:59:51.868563519</th>\n",
       "      <td>Q</td>\n",
       "      <td>INTC</td>\n",
       "      <td>NaN</td>\n",
       "      <td>@ TI</td>\n",
       "      <td>70</td>\n",
       "      <td>33.14</td>\n",
       "      <td>NaN</td>\n",
       "      <td>0</td>\n",
       "      <td>6243671</td>\n",
       "      <td>61504</td>\n",
       "      <td>N</td>\n",
       "      <td>NaN</td>\n",
       "    </tr>\n",
       "    <tr>\n",
       "      <th>2023-06-12 16:59:56.152583120</th>\n",
       "      <td>Q</td>\n",
       "      <td>INTC</td>\n",
       "      <td>NaN</td>\n",
       "      <td>@FTI</td>\n",
       "      <td>30</td>\n",
       "      <td>33.14</td>\n",
       "      <td>NaN</td>\n",
       "      <td>0</td>\n",
       "      <td>6243690</td>\n",
       "      <td>61505</td>\n",
       "      <td>N</td>\n",
       "      <td>NaN</td>\n",
       "    </tr>\n",
       "    <tr>\n",
       "      <th>2023-06-12 16:59:56.152585147</th>\n",
       "      <td>Q</td>\n",
       "      <td>INTC</td>\n",
       "      <td>NaN</td>\n",
       "      <td>@FT</td>\n",
       "      <td>100</td>\n",
       "      <td>33.14</td>\n",
       "      <td>NaN</td>\n",
       "      <td>0</td>\n",
       "      <td>6243691</td>\n",
       "      <td>61506</td>\n",
       "      <td>N</td>\n",
       "      <td>NaN</td>\n",
       "    </tr>\n",
       "    <tr>\n",
       "      <th>2023-06-12 16:59:56.152914216</th>\n",
       "      <td>P</td>\n",
       "      <td>INTC</td>\n",
       "      <td>NaN</td>\n",
       "      <td>@ TI</td>\n",
       "      <td>48</td>\n",
       "      <td>33.14</td>\n",
       "      <td>NaN</td>\n",
       "      <td>0</td>\n",
       "      <td>6243693</td>\n",
       "      <td>26789</td>\n",
       "      <td>N</td>\n",
       "      <td>NaN</td>\n",
       "    </tr>\n",
       "    <tr>\n",
       "      <th>2023-06-12 16:59:59.764187479</th>\n",
       "      <td>P</td>\n",
       "      <td>INTC</td>\n",
       "      <td>NaN</td>\n",
       "      <td>@ TI</td>\n",
       "      <td>3</td>\n",
       "      <td>33.14</td>\n",
       "      <td>NaN</td>\n",
       "      <td>0</td>\n",
       "      <td>6243717</td>\n",
       "      <td>26790</td>\n",
       "      <td>N</td>\n",
       "      <td>NaN</td>\n",
       "    </tr>\n",
       "    <tr>\n",
       "      <th>2023-06-12 16:59:59.764187565</th>\n",
       "      <td>P</td>\n",
       "      <td>INTC</td>\n",
       "      <td>NaN</td>\n",
       "      <td>@ TI</td>\n",
       "      <td>1</td>\n",
       "      <td>33.14</td>\n",
       "      <td>NaN</td>\n",
       "      <td>0</td>\n",
       "      <td>6243718</td>\n",
       "      <td>26791</td>\n",
       "      <td>N</td>\n",
       "      <td>NaN</td>\n",
       "    </tr>\n",
       "    <tr>\n",
       "      <th>2023-06-12 16:59:59.764187671</th>\n",
       "      <td>P</td>\n",
       "      <td>INTC</td>\n",
       "      <td>NaN</td>\n",
       "      <td>@ TI</td>\n",
       "      <td>3</td>\n",
       "      <td>33.14</td>\n",
       "      <td>NaN</td>\n",
       "      <td>0</td>\n",
       "      <td>6243719</td>\n",
       "      <td>26792</td>\n",
       "      <td>N</td>\n",
       "      <td>NaN</td>\n",
       "    </tr>\n",
       "    <tr>\n",
       "      <th>2023-06-12 16:59:59.764187759</th>\n",
       "      <td>P</td>\n",
       "      <td>INTC</td>\n",
       "      <td>NaN</td>\n",
       "      <td>@ TI</td>\n",
       "      <td>10</td>\n",
       "      <td>33.14</td>\n",
       "      <td>NaN</td>\n",
       "      <td>0</td>\n",
       "      <td>6243720</td>\n",
       "      <td>26793</td>\n",
       "      <td>N</td>\n",
       "      <td>NaN</td>\n",
       "    </tr>\n",
       "    <tr>\n",
       "      <th>2023-06-12 16:59:59.764838242</th>\n",
       "      <td>Q</td>\n",
       "      <td>INTC</td>\n",
       "      <td>NaN</td>\n",
       "      <td>@ TI</td>\n",
       "      <td>71</td>\n",
       "      <td>33.15</td>\n",
       "      <td>NaN</td>\n",
       "      <td>0</td>\n",
       "      <td>6243721</td>\n",
       "      <td>61507</td>\n",
       "      <td>N</td>\n",
       "      <td>NaN</td>\n",
       "    </tr>\n",
       "    <tr>\n",
       "      <th>2023-06-12 16:59:59.780652287</th>\n",
       "      <td>Z</td>\n",
       "      <td>INTC</td>\n",
       "      <td>NaN</td>\n",
       "      <td>@ TI</td>\n",
       "      <td>1</td>\n",
       "      <td>33.14</td>\n",
       "      <td>NaN</td>\n",
       "      <td>0</td>\n",
       "      <td>6243723</td>\n",
       "      <td>22422</td>\n",
       "      <td>N</td>\n",
       "      <td>NaN</td>\n",
       "    </tr>\n",
       "    <tr>\n",
       "      <th>2023-06-12 16:59:59.781268095</th>\n",
       "      <td>Q</td>\n",
       "      <td>INTC</td>\n",
       "      <td>NaN</td>\n",
       "      <td>@ TI</td>\n",
       "      <td>29</td>\n",
       "      <td>33.15</td>\n",
       "      <td>NaN</td>\n",
       "      <td>0</td>\n",
       "      <td>6243724</td>\n",
       "      <td>61508</td>\n",
       "      <td>N</td>\n",
       "      <td>NaN</td>\n",
       "    </tr>\n",
       "    <tr>\n",
       "      <th>2023-06-12 16:59:59.781272989</th>\n",
       "      <td>Q</td>\n",
       "      <td>INTC</td>\n",
       "      <td>NaN</td>\n",
       "      <td>@ TI</td>\n",
       "      <td>55</td>\n",
       "      <td>33.15</td>\n",
       "      <td>NaN</td>\n",
       "      <td>0</td>\n",
       "      <td>6243725</td>\n",
       "      <td>61509</td>\n",
       "      <td>N</td>\n",
       "      <td>NaN</td>\n",
       "    </tr>\n",
       "    <tr>\n",
       "      <th>2023-06-12 16:59:59.805432394</th>\n",
       "      <td>Q</td>\n",
       "      <td>INTC</td>\n",
       "      <td>NaN</td>\n",
       "      <td>@ TI</td>\n",
       "      <td>88</td>\n",
       "      <td>33.15</td>\n",
       "      <td>NaN</td>\n",
       "      <td>0</td>\n",
       "      <td>6243733</td>\n",
       "      <td>61510</td>\n",
       "      <td>N</td>\n",
       "      <td>NaN</td>\n",
       "    </tr>\n",
       "    <tr>\n",
       "      <th>2023-06-12 17:00:00.591737378</th>\n",
       "      <td>D</td>\n",
       "      <td>INTC</td>\n",
       "      <td>NaN</td>\n",
       "      <td>@ TI</td>\n",
       "      <td>1</td>\n",
       "      <td>31.34</td>\n",
       "      <td>NaN</td>\n",
       "      <td>0</td>\n",
       "      <td>6243764</td>\n",
       "      <td>88306</td>\n",
       "      <td>N</td>\n",
       "      <td>Q</td>\n",
       "    </tr>\n",
       "    <tr>\n",
       "      <th>2023-06-12 17:00:00.620026197</th>\n",
       "      <td>D</td>\n",
       "      <td>INTC</td>\n",
       "      <td>NaN</td>\n",
       "      <td>@ TI</td>\n",
       "      <td>3</td>\n",
       "      <td>31.34</td>\n",
       "      <td>NaN</td>\n",
       "      <td>0</td>\n",
       "      <td>6243768</td>\n",
       "      <td>88307</td>\n",
       "      <td>N</td>\n",
       "      <td>Q</td>\n",
       "    </tr>\n",
       "    <tr>\n",
       "      <th>2023-06-12 17:00:13.913618956</th>\n",
       "      <td>P</td>\n",
       "      <td>INTC</td>\n",
       "      <td>NaN</td>\n",
       "      <td>@ TI</td>\n",
       "      <td>8</td>\n",
       "      <td>33.15</td>\n",
       "      <td>NaN</td>\n",
       "      <td>0</td>\n",
       "      <td>6243869</td>\n",
       "      <td>26794</td>\n",
       "      <td>N</td>\n",
       "      <td>NaN</td>\n",
       "    </tr>\n",
       "    <tr>\n",
       "      <th>2023-06-12 17:00:19.317241179</th>\n",
       "      <td>D</td>\n",
       "      <td>INTC</td>\n",
       "      <td>NaN</td>\n",
       "      <td>@ TI</td>\n",
       "      <td>15</td>\n",
       "      <td>33.13</td>\n",
       "      <td>NaN</td>\n",
       "      <td>0</td>\n",
       "      <td>6243878</td>\n",
       "      <td>10995</td>\n",
       "      <td>N</td>\n",
       "      <td>N</td>\n",
       "    </tr>\n",
       "    <tr>\n",
       "      <th>2023-06-12 17:00:21.152623433</th>\n",
       "      <td>P</td>\n",
       "      <td>INTC</td>\n",
       "      <td>NaN</td>\n",
       "      <td>@FTI</td>\n",
       "      <td>3</td>\n",
       "      <td>33.14</td>\n",
       "      <td>NaN</td>\n",
       "      <td>0</td>\n",
       "      <td>6243881</td>\n",
       "      <td>26795</td>\n",
       "      <td>N</td>\n",
       "      <td>NaN</td>\n",
       "    </tr>\n",
       "  </tbody>\n",
       "</table>\n",
       "</div>"
      ],
      "text/plain": [
       "                              EX SYM_ROOT  SYM_SUFFIX TR_SCOND  SIZE  PRICE  \\\n",
       "2023-06-12 16:59:48.031749376  Q     INTC         NaN     @ TI    85  33.14   \n",
       "2023-06-12 16:59:51.868560993  Q     INTC         NaN     @ TI    15  33.14   \n",
       "2023-06-12 16:59:51.868563519  Q     INTC         NaN     @ TI    70  33.14   \n",
       "2023-06-12 16:59:56.152583120  Q     INTC         NaN     @FTI    30  33.14   \n",
       "2023-06-12 16:59:56.152585147  Q     INTC         NaN      @FT   100  33.14   \n",
       "2023-06-12 16:59:56.152914216  P     INTC         NaN     @ TI    48  33.14   \n",
       "2023-06-12 16:59:59.764187479  P     INTC         NaN     @ TI     3  33.14   \n",
       "2023-06-12 16:59:59.764187565  P     INTC         NaN     @ TI     1  33.14   \n",
       "2023-06-12 16:59:59.764187671  P     INTC         NaN     @ TI     3  33.14   \n",
       "2023-06-12 16:59:59.764187759  P     INTC         NaN     @ TI    10  33.14   \n",
       "2023-06-12 16:59:59.764838242  Q     INTC         NaN     @ TI    71  33.15   \n",
       "2023-06-12 16:59:59.780652287  Z     INTC         NaN     @ TI     1  33.14   \n",
       "2023-06-12 16:59:59.781268095  Q     INTC         NaN     @ TI    29  33.15   \n",
       "2023-06-12 16:59:59.781272989  Q     INTC         NaN     @ TI    55  33.15   \n",
       "2023-06-12 16:59:59.805432394  Q     INTC         NaN     @ TI    88  33.15   \n",
       "2023-06-12 17:00:00.591737378  D     INTC         NaN     @ TI     1  31.34   \n",
       "2023-06-12 17:00:00.620026197  D     INTC         NaN     @ TI     3  31.34   \n",
       "2023-06-12 17:00:13.913618956  P     INTC         NaN     @ TI     8  33.15   \n",
       "2023-06-12 17:00:19.317241179  D     INTC         NaN     @ TI    15  33.13   \n",
       "2023-06-12 17:00:21.152623433  P     INTC         NaN     @FTI     3  33.14   \n",
       "\n",
       "                               TR_STOP_IND  TR_CORR  TR_SEQNUM  TR_ID  \\\n",
       "2023-06-12 16:59:48.031749376          NaN        0    6243657  61502   \n",
       "2023-06-12 16:59:51.868560993          NaN        0    6243670  61503   \n",
       "2023-06-12 16:59:51.868563519          NaN        0    6243671  61504   \n",
       "2023-06-12 16:59:56.152583120          NaN        0    6243690  61505   \n",
       "2023-06-12 16:59:56.152585147          NaN        0    6243691  61506   \n",
       "2023-06-12 16:59:56.152914216          NaN        0    6243693  26789   \n",
       "2023-06-12 16:59:59.764187479          NaN        0    6243717  26790   \n",
       "2023-06-12 16:59:59.764187565          NaN        0    6243718  26791   \n",
       "2023-06-12 16:59:59.764187671          NaN        0    6243719  26792   \n",
       "2023-06-12 16:59:59.764187759          NaN        0    6243720  26793   \n",
       "2023-06-12 16:59:59.764838242          NaN        0    6243721  61507   \n",
       "2023-06-12 16:59:59.780652287          NaN        0    6243723  22422   \n",
       "2023-06-12 16:59:59.781268095          NaN        0    6243724  61508   \n",
       "2023-06-12 16:59:59.781272989          NaN        0    6243725  61509   \n",
       "2023-06-12 16:59:59.805432394          NaN        0    6243733  61510   \n",
       "2023-06-12 17:00:00.591737378          NaN        0    6243764  88306   \n",
       "2023-06-12 17:00:00.620026197          NaN        0    6243768  88307   \n",
       "2023-06-12 17:00:13.913618956          NaN        0    6243869  26794   \n",
       "2023-06-12 17:00:19.317241179          NaN        0    6243878  10995   \n",
       "2023-06-12 17:00:21.152623433          NaN        0    6243881  26795   \n",
       "\n",
       "                              TR_SOURCE TR_RF  \n",
       "2023-06-12 16:59:48.031749376         N   NaN  \n",
       "2023-06-12 16:59:51.868560993         N   NaN  \n",
       "2023-06-12 16:59:51.868563519         N   NaN  \n",
       "2023-06-12 16:59:56.152583120         N   NaN  \n",
       "2023-06-12 16:59:56.152585147         N   NaN  \n",
       "2023-06-12 16:59:56.152914216         N   NaN  \n",
       "2023-06-12 16:59:59.764187479         N   NaN  \n",
       "2023-06-12 16:59:59.764187565         N   NaN  \n",
       "2023-06-12 16:59:59.764187671         N   NaN  \n",
       "2023-06-12 16:59:59.764187759         N   NaN  \n",
       "2023-06-12 16:59:59.764838242         N   NaN  \n",
       "2023-06-12 16:59:59.780652287         N   NaN  \n",
       "2023-06-12 16:59:59.781268095         N   NaN  \n",
       "2023-06-12 16:59:59.781272989         N   NaN  \n",
       "2023-06-12 16:59:59.805432394         N   NaN  \n",
       "2023-06-12 17:00:00.591737378         N     Q  \n",
       "2023-06-12 17:00:00.620026197         N     Q  \n",
       "2023-06-12 17:00:13.913618956         N   NaN  \n",
       "2023-06-12 17:00:19.317241179         N     N  \n",
       "2023-06-12 17:00:21.152623433         N   NaN  "
      ]
     },
     "execution_count": 136,
     "metadata": {},
     "output_type": "execute_result"
    }
   ],
   "source": [
    "trades.sort_index().tail(1040).head(20)"
   ]
  },
  {
   "cell_type": "code",
   "execution_count": 32,
   "id": "03358055",
   "metadata": {},
   "outputs": [],
   "source": [
    "exchanges = trades.EX.unique()"
   ]
  },
  {
   "cell_type": "code",
   "execution_count": 36,
   "id": "236c298c",
   "metadata": {},
   "outputs": [
    {
     "data": {
      "text/plain": [
       "<matplotlib.legend.Legend at 0x7f8299b5f2b0>"
      ]
     },
     "execution_count": 36,
     "metadata": {},
     "output_type": "execute_result"
    },
    {
     "data": {
      "image/png": "[encoded data removed]",
      "text/plain": [
       "<Figure size 432x288 with 1 Axes>"
      ]
     },
     "metadata": {
      "needs_background": "light"
     },
     "output_type": "display_data"
    }
   ],
   "source": [
    "for ex in exchanges:\n",
    "    ex_times = trades[trades.EX==ex].index\n",
    "    np.log(pd.Series(1,index=ex_times).cumsum().asof(pd.date_range(ex_times.min(),ex_times.max(),100))).plot(label=ex,linestyle='',marker='.')\n",
    "plt.legend()"
   ]
  },
  {
   "cell_type": "markdown",
   "id": "74c96304",
   "metadata": {},
   "source": [
    "Validation: parametric bootstrap with ~250 datapoints, branching ratio ~0.5"
   ]
  },
  {
   "cell_type": "markdown",
   "id": "4a670d29",
   "metadata": {},
   "source": [
    "# Quasi EM"
   ]
  },
  {
   "cell_type": "markdown",
   "id": "858e5317",
   "metadata": {},
   "source": [
    "\\begin{equation}\n",
    "\\log L(\\mathcal T;\\nu,\\alpha,\\beta,B) = \\sum_{t\\in \\mathcal T}\\log\\lambda(t) - \\int_0^T \\lambda(t)dt\n",
    "\\\\= \\sum_{j}B_{0,j}\\log\\nu + \\sum_{j}\\sum_{i>0} B_{i,j} \\left(\\log(\\alpha) + \\beta (t_i-t_j)\\right) - T\\nu - \\sum_{t\\in\\mathcal T} \\int_t^T \\alpha\\exp\\left(-\\beta(s-t)\\right)ds\n",
    "\\\\= \\sum_{j}B_{0,j}\\log\\nu + \\sum_{j}\\sum_{i>0} B_{i,j} \\left(\\log(\\alpha) + \\beta (t_i-t_j)\\right) - T\\nu - \\sum_{t\\in\\mathcal T} \\left[-\\frac{\\alpha}{\\beta}\\exp\\left(-\\beta(s-t)\\right)\\right]_t^T\n",
    "\\\\= \\sum_{j}B_{0,j}\\log\\nu + \\sum_{j}\\sum_{i>0} B_{i,j} \\left(\\log(\\alpha) + \\beta (t_i-t_j)\\right) - T\\nu + \\frac{\\alpha}{\\beta}\\sum_{t\\in\\mathcal T} \\left[\\exp\\left(-\\beta(s-t)\\right)\\right]_t^T\n",
    "\\\\\\approx \\sum_{j}B_{0,j}\\log\\nu + \\sum_{j}\\sum_{i>0} B_{i,j} \\left(\\log(\\alpha) + \\beta (t_i-t_j)\\right) - T\\nu - \\frac{\\alpha}{\\beta}N_T \\text{ (quasi-EM approximation)}\n",
    "\\\\= \\log(\\nu) \\left(\\sum_{j}B_{0,j}\\right) + \\log(\\alpha) \\left(\\sum_{j}\\sum_{i>0} B_{i,j}\\right) + \\beta \\left(\\sum_{j}\\sum_{i>0} B_{i,j}(t_i-t_j)\\right) -\\nu (T)- \\frac{\\alpha}{\\beta}\\left(N_T\\right)\n",
    "\\end{equation}\n",
    "\n",
    "where\n",
    "\\begin{equation}\n",
    "B_{i,j} = \\frac{1}{\\lambda(t_j)} \\cdot \\begin{cases}\\alpha\\exp(-\\beta(t_j-t_i)), & i>0\\\\ \\nu, & i=0\\end{cases}\n",
    "\\end{equation}\n",
    "\n",
    "implying\n",
    "\n",
    "\\begin{equation}\n",
    "\\nu = \\frac{\\sum_{j}B_{0,j}}{T} \\\\\n",
    "\\frac{\\alpha}{\\beta} = \\frac{\\sum_{j}\\sum_{i>0} B_{i,j}}{N_T} \\\\\n",
    "\\frac{\\alpha}{\\beta^2} = -\\frac{\\sum_{j}\\sum_{i>0} B_{i,j}(t_i-t_j)}{N_T}\n",
    "\\end{equation}\n",
    "\n",
    "i.e.\n",
    "\n",
    "\\begin{equation}\n",
    "\\nu = \\frac{\\sum_{j}B_{0,j}}{T} \\\\\n",
    "\\beta = -\\frac{\\sum_{j}\\sum_{i>0} B_{i,j}}{\\sum_{j}\\sum_{i>0} B_{i,j}(t_i-t_j)} \\\\\n",
    "\\alpha = -\\frac{\\left(\\sum_{j}\\sum_{i>0} B_{i,j}\\right)^2}{N_T\\sum_{j}\\sum_{i>0} B_{i,j}(t_i-t_j)}\n",
    "\\end{equation}\n"
   ]
  },
  {
   "cell_type": "markdown",
   "id": "bfc8b0fe",
   "metadata": {},
   "source": [
    "Note that $$\\sum_j\\sum_i B_{i,j}(t_i-t_j)$$ can be computed in linear time with a backwards and forwards pass, since\n",
    "\n",
    "\\begin{equation}\n",
    "\\sum_j\\sum_{i<j} B_{i,j}(t_i-t_j)\n",
    "\\\\= \\sum_i t_i\\sum_{j>i} B_{i,j} - \\sum_j t_j\\sum_{0<i<j} B_{i,j}\n",
    "\\\\= \\sum_i t_i\\sum_{j>i} \\frac{\\alpha}{\\lambda(t_j)}\\exp\\left(-\\beta(t_j-t_i)\\right) - \\sum_j t_j\\sum_{0<i<j} \\frac{\\alpha}{\\lambda(t_j)}\\exp\\left(-\\beta(t_j-t_i)\\right)\n",
    "\\\\= \\sum_i t_i\\sum_{j>i} \\frac{\\alpha}{\\lambda(t_j)}\\exp\\left(-\\beta(t_j-t_i)\\right) - \\sum_j t_j \\frac{\\alpha}{\\lambda(t_j)}\\sum_{0<i<j}\\exp\\left(-\\beta(t_j-t_i)\\right)\n",
    "\\\\= \\text{backwards} - \\text{forwards}\n",
    "\\end{equation}\n",
    "\n",
    "with $B_{i,j}$ computed recursively each time (using the final intensity from the forwards pass as the initial intensity for the backwards pass). There is some risk here of catastrophic cancellation."
   ]
  },
  {
   "cell_type": "markdown",
   "id": "41d9dfa0",
   "metadata": {},
   "source": [
    "## Feature-driven Kernel"
   ]
  },
  {
   "cell_type": "markdown",
   "id": "347b8d04",
   "metadata": {},
   "source": [
    "\\begin{equation}\n",
    "\\log L(\\mathcal T;\\nu,\\alpha,\\beta,B) = \\sum_{t\\in \\mathcal T}\\log\\lambda(t) - \\int_0^T \\lambda(t)dt\n",
    "\\\\= \\sum_{j}B_{0,j}\\log\\nu + \\sum_{j}\\sum_{i>0} B_{i,j} \\left(\\log(\\alpha) + X_ic + \\beta (t_i-t_j)\\right) - T\\nu - \\sum_{i>0} \\int_{t_i}^T \\alpha e^{X_ic}\\exp\\left(-\\beta(s-t_i)\\right)ds\n",
    "\\\\= \\sum_{j}B_{0,j}\\log\\nu + \\sum_{j}\\sum_{i>0} B_{i,j} \\left(\\log(\\alpha) + X_ic + \\beta (t_i-t_j)\\right) - T\\nu - \\sum_{i>0} \\left[-\\frac{\\alpha e^{X_ic}}{\\beta}\\exp\\left(-\\beta(s-t_i)\\right)\\right]_{t_i}^T\n",
    "\\\\= \\sum_{j}B_{0,j}\\log\\nu + \\sum_{j}\\sum_{i>0} B_{i,j} \\left(\\log(\\alpha) + X_ic + \\beta (t_i-t_j)\\right) - T\\nu + \\frac{\\alpha}{\\beta}\\sum_{i>0} e^{X_ic}\\left[\\exp\\left(-\\beta(s-t_i)\\right)\\right]_{t_i}^T\n",
    "\\\\\\approx \\sum_{j}B_{0,j}\\log\\nu + \\sum_{j}\\sum_{i>0} B_{i,j} \\left(\\log(\\alpha) + X_ic + \\beta (t_i-t_j)\\right) - T\\nu - \\frac{\\alpha}{\\beta}\\sum_{i>0} e^{X_ic} \\text{ (quasi-EM approximation)}\n",
    "\\\\= \\log(\\nu) \\left(\\sum_{j}B_{0,j}\\right) + \\log(\\alpha) \\left(\\sum_{j}\\sum_{i>0} B_{i,j}\\right) + \\left(\\sum_{j}\\sum_{i>0} B_{i,j}X_i\\right)c + \\beta \\left(\\sum_{j}\\sum_{i>0} B_{i,j}(t_i-t_j)\\right) -\\nu (T)- \\frac{\\alpha}{\\beta}\\sum_{i>0} e^{X_ic}\n",
    "\\end{equation}\n",
    "\n",
    "where\n",
    "\\begin{equation}\n",
    "B_{i,j} = \\frac{1}{\\lambda(t_j)} \\cdot \\begin{cases}\\alpha e^{X_ic}\\exp(-\\beta(t_j-t_i)), & i>0\\\\ \\nu, & i=0\\end{cases}\n",
    "\\end{equation}\n",
    "\n",
    "implying\n",
    "\n",
    "\\begin{equation}\n",
    "\\nu = \\frac{\\sum_{j}B_{0,j}}{T} \\\\\n",
    "\\frac{\\partial}{\\partial c} = \\left(\\sum_{j}\\sum_{i>0} B_{i,j}X_i\\right) - \\frac{\\sum_{i>0} X_ie^{X_ic}}{\\sum_{i>0}e^{X_ic}}\\sum_{j}\\sum_{i>0} B_{i,j}\\\\\n",
    "\\frac{\\alpha}{\\beta} = \\frac{\\sum_{j}\\sum_{i>0} B_{i,j}}{\\sum_{i>0}e^{X_ic}} \\\\\n",
    "\\frac{\\alpha}{\\beta^2} = -\\frac{\\sum_{j}\\sum_{i>0} B_{i,j}(t_i-t_j)}{N_T}\n",
    "\\end{equation}\n",
    "\n",
    "i.e.\n",
    "\n",
    "\\begin{equation}\n",
    "\\nu = \\frac{\\sum_{j}B_{0,j}}{T} \\\\\n",
    "\\beta = -\\frac{\\sum_{j}\\sum_{i>0} B_{i,j}}{\\sum_{j}\\sum_{i>0} B_{i,j}(t_i-t_j)} = -\\frac{\\sum_{j}\\frac{\\lambda(t_j)-\\nu}{\\lambda(t_j)}}{\\sum_{j}\\left(\\left(\\frac{1}{\\lambda(t_j)}\\sum_{i>0} \\exp\\left(-\\beta(t_j-t_i)\\right)\\exp(X_ic)\\alpha t_i\\right)-\\frac{\\lambda(t_j)-\\nu}{\\lambda(t_j)}t_j\\right)} \\\\\n",
    "\\alpha = -\\frac{\\left(\\sum_{j}\\sum_{i>0} B_{i,j}\\right)^2}{N_T\\sum_{j}\\sum_{i>0} B_{i,j}(t_i-t_j)} = -\\frac{\\left(\\sum_{j}\\frac{\\lambda(t_j)-\\nu}{\\lambda(t_j)}\\right)^2}{N_T\\sum_{j}\\left(\\left(\\frac{1}{\\lambda(t_j)}\\sum_{i>0} \\exp\\left(-\\beta(t_j-t_i)\\right)\\exp(X_ic)\\alpha t_i\\right)-\\frac{\\lambda(t_j)-\\nu}{\\lambda(t_j)}t_j\\right)}\n",
    "\\end{equation}\n"
   ]
  },
  {
   "cell_type": "markdown",
   "id": "2b26065d",
   "metadata": {},
   "source": [
    "## Univariate"
   ]
  },
  {
   "cell_type": "code",
   "execution_count": 85,
   "id": "3c1bee06",
   "metadata": {},
   "outputs": [],
   "source": [
    "import jax\n",
    "import jax.numpy as jnp\n",
    "import numpy as np\n",
    "import scipy as sp\n",
    "import scipy.optimize\n",
    "import tqdm\n",
    "def em(times, T=None, iters=100, verbose=False):\n",
    "    times = times.copy() - times[0]\n",
    "    if T is None:\n",
    "        T = times[-1]\n",
    "    N_T = len(times)\n",
    "        \n",
    "    nu = np.float64(1.0)\n",
    "    alpha = np.float64(1.0)\n",
    "    beta = np.float64(2.0)\n",
    "    \n",
    "    for _ in tqdm.trange(iters) if verbose else range(iters):\n",
    "        #E step\n",
    "        sum_j_B_0_j = 0\n",
    "        sum_j_sum_i_B_i_j = 0\n",
    "        forwards_pass = 0\n",
    "        backwards_pass = 0\n",
    "        \n",
    "        intensities = np.zeros_like(times)\n",
    "        endo_intensity = 0\n",
    "        prev_t = 0\n",
    "        for i,t in enumerate(times):\n",
    "            endo_intensity *= np.exp(-beta*(t-prev_t))\n",
    "            intensities[i] = nu+endo_intensity\n",
    "            B_0_j = nu/intensities[i]\n",
    "            sum_j_B_0_j += B_0_j\n",
    "            sum_i_B_i_j = endo_intensity/intensities[i]\n",
    "            sum_j_sum_i_B_i_j += sum_i_B_i_j\n",
    "            forwards_pass += t*sum_i_B_i_j\n",
    "            endo_intensity += alpha\n",
    "            prev_t = t\n",
    "\n",
    "        sum_j_B_i_j = 0\n",
    "        next_t = T\n",
    "        for i,t in reversed(list(enumerate(times))):\n",
    "            sum_j_B_i_j *= np.exp(-beta*(next_t-t))\n",
    "            backwards_pass += t*sum_j_B_i_j\n",
    "            sum_j_B_i_j += alpha/intensities[i]\n",
    "            next_t = t\n",
    "            \n",
    "            \n",
    "        constants = np.array([sum_j_B_0_j, sum_j_sum_i_B_i_j, backwards_pass, forwards_pass, T, N_T])\n",
    "        #constants /= np.std(constants)\n",
    "        sum_j_B_0_j, sum_j_sum_i_B_i_j, backwards_pass, forwards_pass, T, N_T = constants\n",
    "        \n",
    "        #M step\n",
    "#         def partial_ll(log_nu,log_alpha,log_beta):\n",
    "#             return log_nu*(sum_j_B_0_j) + log_alpha*sum_j_sum_i_B_i_j + jnp.exp(log_beta)*(backwards_pass-forwards_pass) - jnp.exp(log_nu)*T - jnp.exp(log_alpha-log_beta)*N_T\n",
    "        \n",
    "#         print(sum_j_B_0_j, sum_j_sum_i_B_i_j, backwards_pass, forwards_pass, T, N_T)\n",
    "        \n",
    "#         starting_partial_ll = partial_ll(log_nu,log_alpha,log_beta)\n",
    "#         def loss(params):\n",
    "#             return -partial_ll(*params)/starting_partial_ll\n",
    "        \n",
    "#         print(intensities)\n",
    "#         print(loss([log_nu,log_alpha,log_beta]))\n",
    "#         print(jax.grad(loss)([log_nu,log_alpha,log_beta]))\n",
    "#         print(log_nu,log_alpha,log_beta)\n",
    "        \n",
    "        \n",
    "#         constraint = sp.optimize.LinearConstraint([[0,-1,1]], lb=[0], ub=[np.inf], keep_feasible=False)\n",
    "#         sol=sp.optimize.minimize(loss, jac=jax.grad(loss), x0=[log_nu,log_alpha,log_beta], constraints=constraint, method='trust-constr',options=dict(maxiter=2))\n",
    "#         print(sol)\n",
    "#         log_nu,log_alpha,log_beta = sol.x\n",
    "\n",
    "        assert backwards_pass<forwards_pass, (backwards_pass,forwards_pass)\n",
    "        nu = sum_j_B_0_j/T\n",
    "        alpha = -sum_j_sum_i_B_i_j**2/(N_T*(backwards_pass-forwards_pass))\n",
    "        beta = -sum_j_sum_i_B_i_j/(backwards_pass-forwards_pass)\n",
    "        #print(nu,alpha,beta)\n",
    "        \n",
    "    return nu,alpha,beta"
   ]
  },
  {
   "cell_type": "code",
   "execution_count": 55,
   "id": "d82f4764",
   "metadata": {},
   "outputs": [],
   "source": [
    "import mpoints.hybrid_hawkes_exp\n",
    "model = mpoints.hybrid_hawkes_exp.HybridHawkesExp(1,1,[0],[0])"
   ]
  },
  {
   "cell_type": "code",
   "execution_count": 38,
   "id": "9416c573",
   "metadata": {},
   "outputs": [
    {
     "data": {
      "text/plain": [
       "(   message: Multiple messages because parallel estimation\n",
       "    success: True\n",
       "     status: -999\n",
       "        fun: -1542538.357981156\n",
       "          x: [ 1.800e+00  3.436e+03  5.271e+03]\n",
       "        nit: 26\n",
       "  successes: [True]\n",
       "   statuses: [2]\n",
       "   messages: ['Converged (|x_n-x_(n-1)| ~= 0)']\n",
       "       jacs: [array([ 1.797e-02, -1.639e-06,  1.428e-08])]\n",
       "      hesss: []\n",
       "       nfev: 95,\n",
       " array([2.58538576, 1.48987182, 2.46547522]),\n",
       " 'random ')"
      ]
     },
     "execution_count": 38,
     "metadata": {},
     "output_type": "execute_result"
    }
   ],
   "source": [
    "model.estimate_hawkes_parameters(times,np.zeros_like(times,dtype=int),np.zeros_like(times,dtype=int),times[0],times[-1])"
   ]
  },
  {
   "cell_type": "code",
   "execution_count": 59,
   "id": "bb2bbbc2",
   "metadata": {},
   "outputs": [],
   "source": [
    "model.base_rates = np.array([0.5],dtype=np.float64)\n",
    "model.impact_coefficients = np.array([[[1]]],dtype=np.float64)\n",
    "model.decay_coefficients = np.array([[[2]]],dtype=np.float64)\n",
    "model.transition_probabilities = np.array([[[1]]],dtype=np.float64)\n",
    "\n",
    "samples = np.array([em(model.simulate(0,500)[0],iters=5) for _ in tqdm.trange(100,position=0,leave=True)])\n",
    "\n",
    "for i,var in enumerate((model.base_rates, model.impact_coefficients, model.decay_coefficients)):\n",
    "    print(np.quantile(samples[:,i],[0.025,0.5,0.975]), var)"
   ]
  },
  {
   "cell_type": "code",
   "execution_count": 81,
   "id": "766159ed",
   "metadata": {},
   "outputs": [
    {
     "name": "stderr",
     "output_type": "stream",
     "text": [
      "100%|████████████████████████████████████████████████████████████████████████████████████████████████████████████████████████████████████████████████████████████████████████████████████████████████████████████████████████████████████████████████████████████████████████████████████████| 5/5 [00:09<00:00,  1.89s/it]\n"
     ]
    }
   ],
   "source": [
    "nu,alpha,beta = em(times,iters=5,verbose=True)"
   ]
  },
  {
   "cell_type": "code",
   "execution_count": 82,
   "id": "34e1a3fb",
   "metadata": {},
   "outputs": [
    {
     "data": {
      "text/plain": [
       "(297793.9936200842, 297795)"
      ]
     },
     "execution_count": 82,
     "metadata": {},
     "output_type": "execute_result"
    }
   ],
   "source": [
    "#https://math.stackexchange.com/a/4498377\n",
    "expected_number_events = nu*(times[-1]-times[0])/(1-alpha/beta) + (alpha*nu/(alpha-beta)**2)*(np.exp(-(times[-1]-times[0])*(beta-alpha))-1)\n",
    "expected_number_events, len(times)"
   ]
  },
  {
   "cell_type": "markdown",
   "id": "e42d5780",
   "metadata": {},
   "source": [
    "# Multivariate"
   ]
  },
  {
   "cell_type": "markdown",
   "id": "bd8051c3",
   "metadata": {},
   "source": []
  },
  {
   "cell_type": "markdown",
   "id": "3b20e86b",
   "metadata": {},
   "source": [
    "\\begin{equation}\n",
    "\\log L(\\mathcal T;\\nu,\\alpha,\\beta,B) \\approx \\sum_{e}\\left(\\log(\\nu_e) \\left(\\sum_{j}B_{0,j} \\delta_{e,e_j}\\right) -\\nu_e (T) + \\sum_{e'} \\left(\\log(\\alpha_{e',e}) \\left(\\sum_{j}\\sum_{i>0} B_{i,j}\\delta_{e',e_i}\\delta_{e,e_j}\\right) + \\beta_{e',e} \\left(\\sum_{j}\\sum_{i>0} B_{i,j}(t_i-t_j)\\delta_{e',e_i}\\delta_{e,e_j}\\right)- \\frac{\\alpha_{e',e}}{\\beta_{e',e}}\\sum_i \\delta_{e',e_i}\\right)\\right)\n",
    "\\end{equation}\n",
    "\n",
    "where\n",
    "\\begin{equation}\n",
    "B_{i,j} = \\frac{1}{\\lambda_{e_j}(t_j)} \\cdot \\begin{cases}\\alpha_{e_i,e_j}\\exp(-\\beta_{e_i,e_j}(t_j-t_i)), & i>0\\\\ \\nu_{e_j}, & i=0\\end{cases}\n",
    "\\end{equation}\n",
    "\n",
    "so\n",
    "\\begin{equation}\n",
    "\\nu_e = \\frac{\\sum_{j}B_{0,j} \\delta_{e,e_j}}{T} \\\\\n",
    "\\alpha_{e',e} = -\\frac{\\left(\\sum_{j}\\sum_{i>0} B_{i,j}\\delta_{e',e_i}\\delta_{e,e_j}\\right)^2}{\\left(\\sum_i \\delta_{e',e_i}\\right)\\left(\\sum_{j}\\sum_{i>0} B_{i,j}(t_i-t_j)\\delta_{e',e_i}\\delta_{e,e_j}\\right)} \\\\\n",
    "\\beta_{e',e} = -\\frac{\\sum_{j}\\sum_{i>0} B_{i,j}\\delta_{e',e_i}\\delta_{e,e_j}}{\\sum_{j}\\sum_{i>0} B_{i,j}(t_i-t_j)\\delta_{e',e_i}\\delta_{e,e_j}}\n",
    "\\end{equation}"
   ]
  },
  {
   "cell_type": "code",
   "execution_count": 77,
   "id": "df08cf75",
   "metadata": {},
   "outputs": [
    {
     "data": {
      "text/plain": [
       "array([[1, 2, 9],\n",
       "       [3, 4, 5]])"
      ]
     },
     "execution_count": 77,
     "metadata": {},
     "output_type": "execute_result"
    }
   ],
   "source": [
    "np.vstack([[1,2,9],[3,4,5]])"
   ]
  },
  {
   "cell_type": "code",
   "execution_count": 2,
   "id": "b3e3c3a6",
   "metadata": {},
   "outputs": [
    {
     "data": {
      "text/plain": [
       "0.16166463163308056"
      ]
     },
     "execution_count": 2,
     "metadata": {},
     "output_type": "execute_result"
    }
   ],
   "source": [
    "import scipy as sp\n",
    "import scipy.stats\n",
    "(sp.stats.gaussian_kde([0,1,2,3,4])).integrate_box_1d(0,1)"
   ]
  },
  {
   "cell_type": "code",
   "execution_count": 6,
   "id": "8a7b6383",
   "metadata": {},
   "outputs": [],
   "source": []
  },
  {
   "cell_type": "code",
   "execution_count": 24,
   "id": "477f7f89",
   "metadata": {},
   "outputs": [],
   "source": [
    "x = (lambda x : 500*0.5*(1+np.sin(0.8*(x-0.5)*np.pi)))(np.random.uniform(size=500))"
   ]
  },
  {
   "cell_type": "code",
   "execution_count": 27,
   "id": "5ba3dd1d",
   "metadata": {},
   "outputs": [
    {
     "data": {
      "text/plain": [
       "[<matplotlib.lines.Line2D at 0x7fdcfe3d4670>]"
      ]
     },
     "execution_count": 27,
     "metadata": {},
     "output_type": "execute_result"
    },
    {
     "data": {
      "image/png": "[encoded data removed]",
      "text/plain": [
       "<Figure size 432x288 with 1 Axes>"
      ]
     },
     "metadata": {
      "needs_background": "light"
     },
     "output_type": "display_data"
    }
   ],
   "source": [
    "plt.plot(sorted(x),np.arange(len(x)))"
   ]
  },
  {
   "cell_type": "markdown",
   "id": "73311cf1",
   "metadata": {},
   "source": [
    "- Reflecting points (or see literature)\n",
    "- Simulation\n",
    "- State-dependent\n",
    "- Scaling to more data, probably not more than a week, may need to compare splines to kde"
   ]
  },
  {
   "cell_type": "code",
   "execution_count": 15,
   "id": "03a04095",
   "metadata": {},
   "outputs": [
    {
     "name": "stderr",
     "output_type": "stream",
     "text": [
      "/var/folders/5l/jdr1h_pn3x3_7nt8kgthzmv00000gn/T/ipykernel_12742/1027779557.py:11: RuntimeWarning: invalid value encountered in log\n",
      "  children = (parents + -(1/b)*np.log(a/(b*np.log(increments)+a)))[increments>np.exp(-a/b)]\n"
     ]
    },
    {
     "data": {
      "image/png": "[encoded data removed]",
      "text/plain": [
       "<Figure size 432x288 with 1 Axes>"
      ]
     },
     "metadata": {
      "needs_background": "light"
     },
     "output_type": "display_data"
    }
   ],
   "source": [
    "import jax.flatten_util\n",
    "\n",
    "\n",
    "def get_samples():\n",
    "    parents = (lambda x : 500*0.5*(1+np.sin(0.8*(x-0.5)*np.pi)))(np.random.uniform(size=500))\n",
    "    samples = set(parents)\n",
    "    #plt.plot(sorted(samples),np.arange(len(samples)))\n",
    "    a,b=5,6\n",
    "    while True:\n",
    "        increments = np.random.uniform(size=len(parents))\n",
    "        children = (parents + -(1/b)*np.log(a/(b*np.log(increments)+a)))[increments>np.exp(-a/b)]\n",
    "        children = children[children<500]\n",
    "        samples = samples.union(set(children))\n",
    "        if len(children)==0:\n",
    "            break\n",
    "        parents = children\n",
    "    samples = np.array(sorted(samples))\n",
    "    return samples\n",
    "\n",
    "kernel = CompositeKernel([ExponentialHawkesKernel(1.0,1.0),SmoothingKernel(1.0)])\n",
    "def parametric_bootstrap():\n",
    "    samples = get_samples()\n",
    "    kernel.em(0,500,samples)\n",
    "    return jax.flatten_util.ravel_pytree(kernel.get_params())[0]\n",
    "\n",
    "example_points = get_samples()\n",
    "kernel.em(0,500,example_points)\n",
    "plt.plot(example_points,kernel.components[0].get_intensities(0,500,example_points))\n",
    "plt.plot(example_points,kernel.components[1].get_intensities(0,500,example_points))\n",
    "\n",
    "plt.show()"
   ]
  },
  {
   "cell_type": "code",
   "execution_count": 4,
   "id": "c0006381",
   "metadata": {},
   "outputs": [
    {
     "name": "stderr",
     "output_type": "stream",
     "text": [
      "  0%|                                                                                                                                                                                                                 | 0/100 [00:00<?, ?it/s]/var/folders/5l/jdr1h_pn3x3_7nt8kgthzmv00000gn/T/ipykernel_12742/2075637485.py:11: RuntimeWarning: invalid value encountered in log\n",
      "  children = (parents + -(1/b)*np.log(a/(b*np.log(increments)+a)))[increments>np.exp(-a/b)]\n",
      "100%|█████████████████████████████████████████████████████████████████████████████████████████████████████████████████████████████████████████████████████████████████████████████████████████████████████| 100/100 [1:18:01<00:00, 46.81s/it]\n"
     ]
    }
   ],
   "source": [
    "samples = [parametric_bootstrap() for _ in tqdm.trange(100)]"
   ]
  },
  {
   "cell_type": "code",
   "execution_count": 8,
   "id": "902168b8",
   "metadata": {},
   "outputs": [
    {
     "data": {
      "text/plain": [
       "array([[2.97686946, 4.86980138, 0.85182428],\n",
       "       [3.52048159, 6.05003762, 0.95928574],\n",
       "       [3.91822296, 7.10279285, 1.0511374 ]])"
      ]
     },
     "execution_count": 8,
     "metadata": {},
     "output_type": "execute_result"
    }
   ],
   "source": [
    "np.quantile(samples,[0.025,0.5,0.975],axis=0)"
   ]
  },
  {
   "cell_type": "code",
   "execution_count": 17,
   "id": "062fab8b",
   "metadata": {},
   "outputs": [
    {
     "ename": "TypeError",
     "evalue": "simulate() missing 1 required positional argument: 'time_end'",
     "output_type": "error",
     "traceback": [
      "\u001b[0;31m---------------------------------------------------------------------------\u001b[0m",
      "\u001b[0;31mTypeError\u001b[0m                                 Traceback (most recent call last)",
      "\u001b[0;32m/var/folders/5l/jdr1h_pn3x3_7nt8kgthzmv00000gn/T/ipykernel_12742/2545582292.py\u001b[0m in \u001b[0;36m<module>\u001b[0;34m\u001b[0m\n\u001b[1;32m      5\u001b[0m \u001b[0mmodel\u001b[0m\u001b[0;34m.\u001b[0m\u001b[0mdecay_coefficients\u001b[0m \u001b[0;34m=\u001b[0m \u001b[0mnp\u001b[0m\u001b[0;34m.\u001b[0m\u001b[0marray\u001b[0m\u001b[0;34m(\u001b[0m\u001b[0;34m[\u001b[0m\u001b[0;34m[\u001b[0m\u001b[0;34m[\u001b[0m\u001b[0;36m6\u001b[0m\u001b[0;34m]\u001b[0m\u001b[0;34m]\u001b[0m\u001b[0;34m]\u001b[0m\u001b[0;34m,\u001b[0m\u001b[0mdtype\u001b[0m\u001b[0;34m=\u001b[0m\u001b[0mnp\u001b[0m\u001b[0;34m.\u001b[0m\u001b[0mfloat64\u001b[0m\u001b[0;34m)\u001b[0m\u001b[0;34m\u001b[0m\u001b[0;34m\u001b[0m\u001b[0m\n\u001b[1;32m      6\u001b[0m \u001b[0mmodel\u001b[0m\u001b[0;34m.\u001b[0m\u001b[0mtransition_probabilities\u001b[0m \u001b[0;34m=\u001b[0m \u001b[0mnp\u001b[0m\u001b[0;34m.\u001b[0m\u001b[0marray\u001b[0m\u001b[0;34m(\u001b[0m\u001b[0;34m[\u001b[0m\u001b[0;34m[\u001b[0m\u001b[0;34m[\u001b[0m\u001b[0;36m1\u001b[0m\u001b[0;34m]\u001b[0m\u001b[0;34m]\u001b[0m\u001b[0;34m]\u001b[0m\u001b[0;34m,\u001b[0m\u001b[0mdtype\u001b[0m\u001b[0;34m=\u001b[0m\u001b[0mnp\u001b[0m\u001b[0;34m.\u001b[0m\u001b[0mfloat64\u001b[0m\u001b[0;34m)\u001b[0m\u001b[0;34m\u001b[0m\u001b[0;34m\u001b[0m\u001b[0m\n\u001b[0;32m----> 7\u001b[0;31m \u001b[0mmodel\u001b[0m\u001b[0;34m.\u001b[0m\u001b[0msimulate\u001b[0m\u001b[0;34m(\u001b[0m\u001b[0;36m40\u001b[0m\u001b[0;34m)\u001b[0m\u001b[0;34m\u001b[0m\u001b[0;34m\u001b[0m\u001b[0m\n\u001b[0m",
      "\u001b[0;31mTypeError\u001b[0m: simulate() missing 1 required positional argument: 'time_end'"
     ]
    }
   ],
   "source": []
  },
  {
   "cell_type": "code",
   "execution_count": 40,
   "id": "5d22e284",
   "metadata": {},
   "outputs": [],
   "source": [
    "import jax.flatten_util\n",
    "import sys\n",
    "sys.path.append('../code/')\n",
    "import fast_em_classes\n",
    "import numpy as np\n",
    "\n",
    "import mpoints.hybrid_hawkes_exp\n",
    "model = mpoints.hybrid_hawkes_exp.HybridHawkesExp(1,1,[0],[0])\n",
    "model.base_rates = np.array([1],dtype=np.float64)\n",
    "model.impact_coefficients = np.array([[[5]]],dtype=np.float64)\n",
    "model.decay_coefficients = np.array([[[6]]],dtype=np.float64)\n",
    "model.transition_probabilities = np.array([[[1]]],dtype=np.float64)\n",
    "\n",
    "def get_samples():\n",
    "    return model.simulate(0,500)[0].reshape(-1)\n",
    "\n",
    "kernel = fast_em_classes.CompositeKernel([fast_em_classes.ExponentialHawkesKernel(1.0,1.0),fast_em_classes.SmoothingKernel(1.0)])\n",
    "def parametric_bootstrap():\n",
    "    samples = get_samples()\n",
    "    kernel.em(0,500,samples)\n",
    "    return jax.flatten_util.ravel_pytree(kernel.get_params())[0]\n",
    "\n",
    "# plt.plot(samples,kernel.components[0].get_intensities(0,500,samples))\n",
    "# plt.plot(samples,kernel.components[1].get_intensities(0,500,samples))\n",
    "\n",
    "# plt.show()\n"
   ]
  },
  {
   "cell_type": "code",
   "execution_count": 43,
   "id": "2bdec72b",
   "metadata": {},
   "outputs": [
    {
     "name": "stderr",
     "output_type": "stream",
     "text": [
      "100%|███████████████████████████████████████████████████████████████████████████████████████████████████████████████████████████████████████████████████████████████████████████████████████████████████████████| 5/5 [05:50<00:00, 70.07s/it]\n"
     ]
    },
    {
     "data": {
      "text/plain": [
       "[Array([5.231594 , 6.648819 , 1.1805534], dtype=float32),\n",
       " Array([5.248033 , 6.4647083, 1.0643648], dtype=float32),\n",
       " Array([4.6290526, 5.797114 , 1.0470414], dtype=float32),\n",
       " Array([5.0111256 , 6.106792  , 0.93388265], dtype=float32),\n",
       " Array([4.74518   , 5.613333  , 0.99561036], dtype=float32)]"
      ]
     },
     "execution_count": 43,
     "metadata": {},
     "output_type": "execute_result"
    }
   ],
   "source": [
    "[parametric_bootstrap() for _ in tqdm.trange(5)]"
   ]
  },
  {
   "cell_type": "code",
   "execution_count": 45,
   "id": "64bc3cd7",
   "metadata": {},
   "outputs": [
    {
     "name": "stderr",
     "output_type": "stream",
     "text": [
      "[autoreload of fast_em_classes failed: Traceback (most recent call last):\n",
      "  File \"/Library/Frameworks/Python.framework/Versions/3.9/lib/python3.9/site-packages/IPython/extensions/autoreload.py\", line 245, in check\n",
      "    superreload(m, reload, self.old_objects)\n",
      "  File \"/Library/Frameworks/Python.framework/Versions/3.9/lib/python3.9/site-packages/IPython/extensions/autoreload.py\", line 410, in superreload\n",
      "    update_generic(old_obj, new_obj)\n",
      "  File \"/Library/Frameworks/Python.framework/Versions/3.9/lib/python3.9/site-packages/IPython/extensions/autoreload.py\", line 347, in update_generic\n",
      "    update(a, b)\n",
      "  File \"/Library/Frameworks/Python.framework/Versions/3.9/lib/python3.9/site-packages/IPython/extensions/autoreload.py\", line 302, in update_class\n",
      "    if update_generic(old_obj, new_obj): continue\n",
      "  File \"/Library/Frameworks/Python.framework/Versions/3.9/lib/python3.9/site-packages/IPython/extensions/autoreload.py\", line 347, in update_generic\n",
      "    update(a, b)\n",
      "  File \"/Library/Frameworks/Python.framework/Versions/3.9/lib/python3.9/site-packages/IPython/extensions/autoreload.py\", line 266, in update_function\n",
      "    setattr(old, name, getattr(new, name))\n",
      "ValueError: __init__() requires a code object with 1 free vars, not 0\n",
      "]\n",
      " 20%|████████████████████████████████████████▌                                                                                                                                                                  | 1/5 [00:43<02:52, 43.12s/it]"
     ]
    },
    {
     "name": "stdout",
     "output_type": "stream",
     "text": [
      "[4.952623  5.9897785 1.118631 ]\n"
     ]
    },
    {
     "name": "stderr",
     "output_type": "stream",
     "text": [
      "\r",
      " 40%|█████████████████████████████████████████████████████████████████████████████████▏                                                                                                                         | 2/5 [01:12<01:44, 34.89s/it]"
     ]
    },
    {
     "name": "stdout",
     "output_type": "stream",
     "text": [
      "[5.1780562 6.2213807 1.0686644]\n"
     ]
    },
    {
     "name": "stderr",
     "output_type": "stream",
     "text": [
      "\r",
      " 60%|█████████████████████████████████████████████████████████████████████████████████████████████████████████████████████████▊                                                                                 | 3/5 [01:43<01:06, 33.22s/it]"
     ]
    },
    {
     "name": "stdout",
     "output_type": "stream",
     "text": [
      "[4.790776  5.7645526 1.1219528]\n"
     ]
    },
    {
     "name": "stderr",
     "output_type": "stream",
     "text": [
      "\r",
      " 80%|██████████████████████████████████████████████████████████████████████████████████████████████████████████████████████████████████████████████████████████████████▍                                        | 4/5 [02:04<00:28, 28.60s/it]"
     ]
    },
    {
     "name": "stdout",
     "output_type": "stream",
     "text": [
      "[4.8297353 5.834975  0.8798609]\n"
     ]
    },
    {
     "name": "stderr",
     "output_type": "stream",
     "text": [
      "100%|███████████████████████████████████████████████████████████████████████████████████████████████████████████████████████████████████████████████████████████████████████████████████████████████████████████| 5/5 [03:07<00:00, 37.48s/it]"
     ]
    },
    {
     "name": "stdout",
     "output_type": "stream",
     "text": [
      "[5.051428  6.208271  1.2393265]\n"
     ]
    },
    {
     "name": "stderr",
     "output_type": "stream",
     "text": [
      "\n"
     ]
    },
    {
     "data": {
      "text/plain": [
       "[None, None, None, None, None]"
      ]
     },
     "execution_count": 45,
     "metadata": {},
     "output_type": "execute_result"
    }
   ],
   "source": [
    "[print(parametric_bootstrap()) for _ in tqdm.trange(5)]"
   ]
  },
  {
   "cell_type": "code",
   "execution_count": 46,
   "id": "12bb6473",
   "metadata": {},
   "outputs": [
    {
     "name": "stderr",
     "output_type": "stream",
     "text": [
      "[autoreload of fast_em_classes failed: Traceback (most recent call last):\n",
      "  File \"/Library/Frameworks/Python.framework/Versions/3.9/lib/python3.9/site-packages/IPython/extensions/autoreload.py\", line 245, in check\n",
      "    superreload(m, reload, self.old_objects)\n",
      "  File \"/Library/Frameworks/Python.framework/Versions/3.9/lib/python3.9/site-packages/IPython/extensions/autoreload.py\", line 410, in superreload\n",
      "    update_generic(old_obj, new_obj)\n",
      "  File \"/Library/Frameworks/Python.framework/Versions/3.9/lib/python3.9/site-packages/IPython/extensions/autoreload.py\", line 347, in update_generic\n",
      "    update(a, b)\n",
      "  File \"/Library/Frameworks/Python.framework/Versions/3.9/lib/python3.9/site-packages/IPython/extensions/autoreload.py\", line 302, in update_class\n",
      "    if update_generic(old_obj, new_obj): continue\n",
      "  File \"/Library/Frameworks/Python.framework/Versions/3.9/lib/python3.9/site-packages/IPython/extensions/autoreload.py\", line 347, in update_generic\n",
      "    update(a, b)\n",
      "  File \"/Library/Frameworks/Python.framework/Versions/3.9/lib/python3.9/site-packages/IPython/extensions/autoreload.py\", line 266, in update_function\n",
      "    setattr(old, name, getattr(new, name))\n",
      "ValueError: __init__() requires a code object with 1 free vars, not 0\n",
      "]\n"
     ]
    }
   ],
   "source": [
    "import jax.flatten_util\n",
    "import sys\n",
    "sys.path.append('../code/')\n",
    "import fast_em_classes\n",
    "import numpy as np\n",
    "\n",
    "import mpoints.hybrid_hawkes_exp\n",
    "model = mpoints.hybrid_hawkes_exp.HybridHawkesExp(1,1,[0],[0])\n",
    "model.base_rates = np.array([1],dtype=np.float64)\n",
    "model.impact_coefficients = np.array([[[5]]],dtype=np.float64)\n",
    "model.decay_coefficients = np.array([[[6]]],dtype=np.float64)\n",
    "model.transition_probabilities = np.array([[[1]]],dtype=np.float64)\n",
    "\n",
    "def get_samples():\n",
    "    return model.simulate(0,500)[0].reshape(-1)\n",
    "\n",
    "kernel = fast_em_classes.CompositeKernel([fast_em_classes.ExponentialHawkesKernel(1.0,1.0),fast_em_classes.ConstantKernel(1.0),*[fast_em_classes.MononomialExogenousKernel(1.0,n) for n in range(1,6)]])\n",
    "def parametric_bootstrap():\n",
    "    samples = get_samples()\n",
    "    kernel.em(0,500,samples)\n",
    "    return jax.flatten_util.ravel_pytree(kernel.get_params())[0]\n",
    "\n",
    "# plt.plot(samples,kernel.components[0].get_intensities(0,500,samples))\n",
    "# plt.plot(samples,kernel.components[1].get_intensities(0,500,samples))\n",
    "\n",
    "# plt.show()\n"
   ]
  },
  {
   "cell_type": "code",
   "execution_count": 47,
   "id": "817e561f",
   "metadata": {},
   "outputs": [
    {
     "name": "stderr",
     "output_type": "stream",
     "text": [
      " 20%|████████████████████████████████████████▍                                                                                                                                                                 | 1/5 [02:10<08:40, 130.25s/it]"
     ]
    },
    {
     "name": "stdout",
     "output_type": "stream",
     "text": [
      "[5.3644614e+00 6.6309657e+00 1.0167964e+00 3.1779194e-07 2.5620374e-12\n",
      " 1.7121086e-16 1.6131555e-19 1.5828190e-21]\n"
     ]
    },
    {
     "name": "stderr",
     "output_type": "stream",
     "text": [
      "\n",
      "KeyboardInterrupt\n",
      "\n"
     ]
    }
   ],
   "source": [
    "[print(parametric_bootstrap()) for _ in tqdm.trange(5)]"
   ]
  },
  {
   "cell_type": "code",
   "execution_count": null,
   "id": "ec9ac1b3",
   "metadata": {},
   "outputs": [],
   "source": []
  },
  {
   "cell_type": "code",
   "execution_count": 14,
   "id": "6de0886f",
   "metadata": {},
   "outputs": [
    {
     "name": "stderr",
     "output_type": "stream",
     "text": [
      "\n",
      "\n",
      "  0%|                                                                                                                                                                                                                 | 0/100 [00:00<?, ?it/s]\u001b[A\u001b[A/var/folders/5l/jdr1h_pn3x3_7nt8kgthzmv00000gn/T/ipykernel_12742/3062057355.py:11: RuntimeWarning: invalid value encountered in log\n",
      "  children = (parents + -(1/b)*np.log(a/(b*np.log(increments)+a)))[increments>np.exp(-a/b)]\n",
      "\n",
      "\n",
      "  1%|██                                                                                                                                                                                                       | 1/100 [00:23<38:35, 23.39s/it]\u001b[A\u001b[A\n",
      "\n",
      "  2%|████                                                                                                                                                                                                     | 2/100 [00:35<27:44, 16.99s/it]\u001b[A\u001b[A\n",
      "\n",
      "  3%|██████                                                                                                                                                                                                   | 3/100 [00:49<24:48, 15.35s/it]\u001b[A\u001b[A\n",
      "\n",
      "  4%|████████                                                                                                                                                                                                 | 4/100 [01:02<23:23, 14.62s/it]\u001b[A\u001b[A\n",
      "\n",
      "  5%|██████████                                                                                                                                                                                               | 5/100 [01:19<24:07, 15.24s/it]\u001b[A\u001b[A\n",
      "\n",
      "  6%|████████████                                                                                                                                                                                             | 6/100 [01:42<28:23, 18.12s/it]\u001b[A\u001b[A\n",
      "\n",
      "  7%|██████████████                                                                                                                                                                                           | 7/100 [01:55<25:04, 16.18s/it]\u001b[A\u001b[A\n",
      "\n",
      "  8%|████████████████                                                                                                                                                                                         | 8/100 [02:06<22:26, 14.64s/it]\u001b[A\u001b[A\n",
      "\n",
      "  9%|██████████████████                                                                                                                                                                                       | 9/100 [02:25<24:18, 16.03s/it]\u001b[A\u001b[A\n",
      "\n",
      " 10%|████████████████████                                                                                                                                                                                    | 10/100 [02:42<24:24, 16.27s/it]\u001b[A\u001b[A\n",
      "\n",
      " 11%|██████████████████████                                                                                                                                                                                  | 11/100 [02:58<24:17, 16.37s/it]\u001b[A\u001b[A\n",
      "\n",
      " 12%|████████████████████████                                                                                                                                                                                | 12/100 [03:14<23:40, 16.14s/it]\u001b[A\u001b[A\n",
      "\n",
      " 13%|██████████████████████████                                                                                                                                                                              | 13/100 [03:24<20:41, 14.27s/it]\u001b[A\u001b[A\n",
      "\n",
      " 14%|████████████████████████████                                                                                                                                                                            | 14/100 [03:49<25:07, 17.53s/it]\u001b[A\u001b[A\n",
      "\n",
      " 15%|██████████████████████████████                                                                                                                                                                          | 15/100 [04:04<23:48, 16.80s/it]\u001b[A\u001b[A\n",
      "\n",
      " 16%|████████████████████████████████                                                                                                                                                                        | 16/100 [04:26<25:30, 18.22s/it]\u001b[A\u001b[A\n",
      "\n",
      " 17%|██████████████████████████████████                                                                                                                                                                      | 17/100 [04:41<23:51, 17.25s/it]\u001b[A\u001b[A\n",
      "\n",
      " 18%|████████████████████████████████████                                                                                                                                                                    | 18/100 [04:55<22:26, 16.42s/it]\u001b[A\u001b[A\n",
      "\n",
      " 19%|██████████████████████████████████████                                                                                                                                                                  | 19/100 [05:11<21:56, 16.25s/it]\u001b[A\u001b[A\n",
      "\n",
      " 20%|████████████████████████████████████████                                                                                                                                                                | 20/100 [05:28<21:59, 16.49s/it]\u001b[A\u001b[A\n",
      "\n",
      " 21%|██████████████████████████████████████████                                                                                                                                                              | 21/100 [05:42<20:36, 15.65s/it]\u001b[A\u001b[A\n",
      "\n",
      " 22%|████████████████████████████████████████████                                                                                                                                                            | 22/100 [05:50<17:38, 13.58s/it]\u001b[A\u001b[A\n",
      "\n",
      " 23%|██████████████████████████████████████████████                                                                                                                                                          | 23/100 [06:06<18:01, 14.05s/it]\u001b[A\u001b[A\n",
      "\n",
      " 24%|████████████████████████████████████████████████                                                                                                                                                        | 24/100 [06:24<19:34, 15.45s/it]\u001b[A\u001b[A\n",
      "\n",
      " 25%|██████████████████████████████████████████████████                                                                                                                                                      | 25/100 [06:44<20:44, 16.60s/it]\u001b[A\u001b[A\n",
      "\n",
      " 26%|████████████████████████████████████████████████████                                                                                                                                                    | 26/100 [06:55<18:38, 15.11s/it]\u001b[A\u001b[A\n",
      "\n",
      " 27%|██████████████████████████████████████████████████████                                                                                                                                                  | 27/100 [07:04<16:05, 13.22s/it]\u001b[A\u001b[A\n",
      "\n",
      " 28%|████████████████████████████████████████████████████████                                                                                                                                                | 28/100 [07:15<15:04, 12.57s/it]\u001b[A\u001b[A\n",
      "\n",
      " 29%|█████████████████████████████████████████████████████████▉                                                                                                                                              | 29/100 [07:23<13:19, 11.27s/it]\u001b[A\u001b[A\n",
      "\n",
      " 30%|████████████████████████████████████████████████████████████                                                                                                                                            | 30/100 [07:34<12:58, 11.12s/it]\u001b[A\u001b[A\n",
      "\n",
      " 31%|██████████████████████████████████████████████████████████████                                                                                                                                          | 31/100 [07:43<12:10, 10.59s/it]\u001b[A\u001b[A\n",
      "\n",
      " 32%|████████████████████████████████████████████████████████████████                                                                                                                                        | 32/100 [07:50<10:34,  9.33s/it]\u001b[A\u001b[A\n",
      "\n",
      " 33%|██████████████████████████████████████████████████████████████████                                                                                                                                      | 33/100 [07:52<08:07,  7.27s/it]\u001b[A\u001b[A\n",
      "\n",
      " 34%|████████████████████████████████████████████████████████████████████                                                                                                                                    | 34/100 [08:09<11:08, 10.12s/it]\u001b[A\u001b[A\n",
      "\n",
      " 35%|██████████████████████████████████████████████████████████████████████                                                                                                                                  | 35/100 [08:21<11:35, 10.70s/it]\u001b[A\u001b[A\n",
      "\n",
      "  0%|                                                                                                                                                                                                                 | 0/100 [08:55<?, ?it/s]\u001b[A\u001b[A\n",
      "IOStream.flush timed out\n",
      "\n",
      "\n",
      " 37%|██████████████████████████████████████████████████████████████████████████                                                                                                                              | 37/100 [08:48<10:14,  9.76s/it]IOStream.flush timed out\n",
      "\u001b[A\u001b[AIOStream.flush timed out\n",
      "IOStream.flush timed out\n",
      "  0%|                                                                                                                                                                                                                 | 0/100 [09:28<?, ?it/s]\n",
      "IOStream.flush timed out\n",
      "\n",
      "\n",
      " 38%|████████████████████████████████████████████████████████████████████████████                                                                                                                            | 38/100 [09:18<19:26, 18.81s/it]\u001b[A\u001b[A\n",
      "\n",
      " 39%|██████████████████████████████████████████████████████████████████████████████                                                                                                                          | 39/100 [09:31<17:22, 17.09s/it]\u001b[A\u001b[A\n",
      "\n",
      " 40%|████████████████████████████████████████████████████████████████████████████████                                                                                                                        | 40/100 [09:37<13:41, 13.69s/it]\u001b[A\u001b[A\n",
      "\n",
      " 41%|██████████████████████████████████████████████████████████████████████████████████                                                                                                                      | 41/100 [09:47<12:15, 12.46s/it]\u001b[A\u001b[A\n",
      "\n",
      " 42%|████████████████████████████████████████████████████████████████████████████████████                                                                                                                    | 42/100 [09:57<11:33, 11.95s/it]\u001b[A\u001b[A\n",
      "\n",
      " 43%|██████████████████████████████████████████████████████████████████████████████████████                                                                                                                  | 43/100 [10:08<10:58, 11.56s/it]\u001b[A\u001b[A\n",
      "\n",
      " 44%|████████████████████████████████████████████████████████████████████████████████████████                                                                                                                | 44/100 [10:22<11:26, 12.26s/it]\u001b[A\u001b[A\n",
      "\n",
      " 45%|██████████████████████████████████████████████████████████████████████████████████████████                                                                                                              | 45/100 [10:33<10:55, 11.91s/it]\u001b[A\u001b[A\n",
      "\n",
      " 46%|████████████████████████████████████████████████████████████████████████████████████████████                                                                                                            | 46/100 [10:43<10:06, 11.23s/it]\u001b[A\u001b[A\n",
      "\n",
      " 47%|██████████████████████████████████████████████████████████████████████████████████████████████                                                                                                          | 47/100 [10:57<10:44, 12.16s/it]\u001b[A\u001b[A\n",
      "\n",
      " 48%|████████████████████████████████████████████████████████████████████████████████████████████████                                                                                                        | 48/100 [11:10<10:47, 12.45s/it]\u001b[A\u001b[A\n",
      "\n",
      " 49%|██████████████████████████████████████████████████████████████████████████████████████████████████                                                                                                      | 49/100 [11:22<10:25, 12.27s/it]\u001b[A\u001b[A\n",
      "\n",
      " 50%|████████████████████████████████████████████████████████████████████████████████████████████████████                                                                                                    | 50/100 [11:32<09:31, 11.43s/it]\u001b[A\u001b[A\n",
      "\n",
      " 51%|██████████████████████████████████████████████████████████████████████████████████████████████████████                                                                                                  | 51/100 [11:45<09:47, 11.99s/it]\u001b[A\u001b[A\n",
      "\n",
      " 52%|████████████████████████████████████████████████████████████████████████████████████████████████████████                                                                                                | 52/100 [11:56<09:23, 11.74s/it]\u001b[A\u001b[A\n",
      "\n",
      " 53%|██████████████████████████████████████████████████████████████████████████████████████████████████████████                                                                                              | 53/100 [12:11<10:02, 12.83s/it]\u001b[A\u001b[A\n",
      "\n",
      " 54%|████████████████████████████████████████████████████████████████████████████████████████████████████████████                                                                                            | 54/100 [12:21<09:11, 11.99s/it]\u001b[A\u001b[A\n",
      "\n",
      " 55%|██████████████████████████████████████████████████████████████████████████████████████████████████████████████                                                                                          | 55/100 [12:32<08:37, 11.49s/it]\u001b[A\u001b[A\n",
      "\n",
      " 56%|████████████████████████████████████████████████████████████████████████████████████████████████████████████████                                                                                        | 56/100 [12:51<10:10, 13.88s/it]\u001b[A\u001b[A\n",
      "\n",
      " 57%|█████████████████████████████████████████████████████████████████████████████████████████████████████████████████▉                                                                                      | 57/100 [12:57<08:18, 11.60s/it]\u001b[A\u001b[A\n",
      "\n",
      " 58%|███████████████████████████████████████████████████████████████████████████████████████████████████████████████████▉                                                                                    | 58/100 [13:08<07:50, 11.20s/it]\u001b[A\u001b[A\n",
      "\n",
      " 59%|██████████████████████████████████████████████████████████████████████████████████████████████████████████████████████                                                                                  | 59/100 [13:23<08:29, 12.42s/it]\u001b[A\u001b[A\n",
      "\n",
      " 60%|████████████████████████████████████████████████████████████████████████████████████████████████████████████████████████                                                                                | 60/100 [13:33<07:53, 11.84s/it]\u001b[A\u001b[A\n",
      "\n",
      " 61%|██████████████████████████████████████████████████████████████████████████████████████████████████████████████████████████                                                                              | 61/100 [13:40<06:45, 10.39s/it]\u001b[A\u001b[A\n",
      "\n",
      " 62%|████████████████████████████████████████████████████████████████████████████████████████████████████████████████████████████                                                                            | 62/100 [13:50<06:22, 10.07s/it]\u001b[A\u001b[A\n",
      "\n"
     ]
    },
    {
     "name": "stderr",
     "output_type": "stream",
     "text": [
      " 63%|██████████████████████████████████████████████████████████████████████████████████████████████████████████████████████████████                                                                          | 63/100 [14:03<06:49, 11.06s/it]\u001b[A\u001b[A\n",
      "\n",
      " 64%|████████████████████████████████████████████████████████████████████████████████████████████████████████████████████████████████                                                                        | 64/100 [14:11<06:02, 10.08s/it]\u001b[A\u001b[A\n",
      "\n",
      " 65%|██████████████████████████████████████████████████████████████████████████████████████████████████████████████████████████████████                                                                      | 65/100 [14:23<06:18, 10.83s/it]\u001b[A\u001b[A\n",
      "\n",
      " 66%|████████████████████████████████████████████████████████████████████████████████████████████████████████████████████████████████████                                                                    | 66/100 [14:33<05:51, 10.34s/it]\u001b[A\u001b[A\n",
      "\n",
      " 67%|██████████████████████████████████████████████████████████████████████████████████████████████████████████████████████████████████████                                                                  | 67/100 [14:37<04:42,  8.56s/it]\u001b[A\u001b[A\n",
      "\n",
      " 68%|████████████████████████████████████████████████████████████████████████████████████████████████████████████████████████████████████████                                                                | 68/100 [14:45<04:31,  8.48s/it]\u001b[A\u001b[A\n",
      "\n",
      " 69%|██████████████████████████████████████████████████████████████████████████████████████████████████████████████████████████████████████████                                                              | 69/100 [14:53<04:16,  8.26s/it]\u001b[A\u001b[A\n",
      "\n",
      " 70%|████████████████████████████████████████████████████████████████████████████████████████████████████████████████████████████████████████████                                                            | 70/100 [15:05<04:36,  9.23s/it]\u001b[A\u001b[A\n",
      "\n",
      " 71%|██████████████████████████████████████████████████████████████████████████████████████████████████████████████████████████████████████████████                                                          | 71/100 [15:20<05:17, 10.93s/it]\u001b[A\u001b[A\n",
      "\n",
      " 72%|████████████████████████████████████████████████████████████████████████████████████████████████████████████████████████████████████████████████                                                        | 72/100 [15:27<04:35,  9.84s/it]\u001b[A\u001b[A\n",
      "\n",
      " 73%|██████████████████████████████████████████████████████████████████████████████████████████████████████████████████████████████████████████████████                                                      | 73/100 [15:37<04:30, 10.03s/it]\u001b[A\u001b[A\n",
      "\n",
      " 74%|████████████████████████████████████████████████████████████████████████████████████████████████████████████████████████████████████████████████████                                                    | 74/100 [15:47<04:14,  9.79s/it]\u001b[A\u001b[A\n",
      "\n",
      " 75%|██████████████████████████████████████████████████████████████████████████████████████████████████████████████████████████████████████████████████████                                                  | 75/100 [15:59<04:21, 10.46s/it]\u001b[A\u001b[A\n",
      "\n",
      " 76%|████████████████████████████████████████████████████████████████████████████████████████████████████████████████████████████████████████████████████████                                                | 76/100 [16:12<04:35, 11.47s/it]\u001b[A\u001b[A\n",
      "\n",
      " 77%|██████████████████████████████████████████████████████████████████████████████████████████████████████████████████████████████████████████████████████████                                              | 77/100 [16:23<04:19, 11.27s/it]\u001b[A\u001b[A\n",
      "\n",
      " 78%|████████████████████████████████████████████████████████████████████████████████████████████████████████████████████████████████████████████████████████████                                            | 78/100 [16:40<04:42, 12.86s/it]\u001b[A\u001b[A\n",
      "\n",
      " 79%|██████████████████████████████████████████████████████████████████████████████████████████████████████████████████████████████████████████████████████████████                                          | 79/100 [16:51<04:16, 12.22s/it]\u001b[A\u001b[A\n",
      "\n",
      " 80%|████████████████████████████████████████████████████████████████████████████████████████████████████████████████████████████████████████████████████████████████                                        | 80/100 [17:00<03:49, 11.49s/it]\u001b[A\u001b[A\n",
      "\n",
      " 81%|██████████████████████████████████████████████████████████████████████████████████████████████████████████████████████████████████████████████████████████████████                                      | 81/100 [17:12<03:37, 11.45s/it]\u001b[A\u001b[A\n",
      "\n",
      " 82%|████████████████████████████████████████████████████████████████████████████████████████████████████████████████████████████████████████████████████████████████████                                    | 82/100 [17:20<03:09, 10.50s/it]\u001b[A\u001b[A\n",
      "\n",
      " 83%|██████████████████████████████████████████████████████████████████████████████████████████████████████████████████████████████████████████████████████████████████████                                  | 83/100 [17:27<02:41,  9.52s/it]\u001b[A\u001b[A\n",
      "\n",
      " 84%|████████████████████████████████████████████████████████████████████████████████████████████████████████████████████████████████████████████████████████████████████████                                | 84/100 [17:34<02:20,  8.75s/it]\u001b[A\u001b[A\n",
      "\n",
      " 85%|██████████████████████████████████████████████████████████████████████████████████████████████████████████████████████████████████████████████████████████████████████████                              | 85/100 [17:43<02:10,  8.71s/it]\u001b[A\u001b[A\n",
      "\n",
      " 86%|████████████████████████████████████████████████████████████████████████████████████████████████████████████████████████████████████████████████████████████████████████████                            | 86/100 [17:54<02:11,  9.39s/it]\u001b[A\u001b[A\n",
      "\n",
      " 87%|██████████████████████████████████████████████████████████████████████████████████████████████████████████████████████████████████████████████████████████████████████████████                          | 87/100 [18:05<02:09,  9.93s/it]\u001b[A\u001b[A\n",
      "\n",
      " 88%|████████████████████████████████████████████████████████████████████████████████████████████████████████████████████████████████████████████████████████████████████████████████                        | 88/100 [18:15<02:01, 10.09s/it]\u001b[A\u001b[A\n",
      "\n",
      " 89%|██████████████████████████████████████████████████████████████████████████████████████████████████████████████████████████████████████████████████████████████████████████████████                      | 89/100 [18:28<02:00, 10.95s/it]\u001b[A\u001b[A\n",
      "\n",
      " 90%|████████████████████████████████████████████████████████████████████████████████████████████████████████████████████████████████████████████████████████████████████████████████████                    | 90/100 [18:36<01:39,  9.98s/it]\u001b[A\u001b[A\n",
      "\n",
      " 91%|██████████████████████████████████████████████████████████████████████████████████████████████████████████████████████████████████████████████████████████████████████████████████████                  | 91/100 [18:45<01:25,  9.52s/it]\u001b[A\u001b[A\n",
      "\n",
      " 92%|████████████████████████████████████████████████████████████████████████████████████████████████████████████████████████████████████████████████████████████████████████████████████████                | 92/100 [18:54<01:15,  9.45s/it]\u001b[A\u001b[A\n",
      "\n",
      " 93%|██████████████████████████████████████████████████████████████████████████████████████████████████████████████████████████████████████████████████████████████████████████████████████████              | 93/100 [19:05<01:08,  9.83s/it]\u001b[A\u001b[A\n",
      "\n",
      " 94%|████████████████████████████████████████████████████████████████████████████████████████████████████████████████████████████████████████████████████████████████████████████████████████████            | 94/100 [19:17<01:03, 10.60s/it]\u001b[A\u001b[A\n",
      "\n",
      " 95%|██████████████████████████████████████████████████████████████████████████████████████████████████████████████████████████████████████████████████████████████████████████████████████████████          | 95/100 [19:31<00:58, 11.67s/it]\u001b[A\u001b[A\n",
      "\n",
      " 96%|████████████████████████████████████████████████████████████████████████████████████████████████████████████████████████████████████████████████████████████████████████████████████████████████        | 96/100 [19:44<00:48, 12.04s/it]\u001b[A\u001b[A\n",
      "\n",
      " 97%|██████████████████████████████████████████████████████████████████████████████████████████████████████████████████████████████████████████████████████████████████████████████████████████████████      | 97/100 [19:56<00:35, 11.96s/it]\u001b[A\u001b[A\n",
      "\n",
      " 98%|████████████████████████████████████████████████████████████████████████████████████████████████████████████████████████████████████████████████████████████████████████████████████████████████████    | 98/100 [20:09<00:24, 12.40s/it]\u001b[A\u001b[A\n",
      "\n",
      " 99%|██████████████████████████████████████████████████████████████████████████████████████████████████████████████████████████████████████████████████████████████████████████████████████████████████████  | 99/100 [20:18<00:11, 11.36s/it]\u001b[A\u001b[A\n",
      "\n",
      "100%|███████████████████████████████████████████████████████████████████████████████████████████████████████████████████████████████████████████████████████████████████████████████████████████████████████| 100/100 [20:27<00:00, 12.28s/it]\u001b[A\u001b[A\n"
     ]
    },
    {
     "data": {
      "text/plain": [
       "array([[2.57913011e+01, 2.58385461e+01, 2.01053558e-03],\n",
       "       [3.11089115e+01, 3.11423702e+01, 2.05313426e-03],\n",
       "       [3.77805568e+01, 3.78689060e+01, 6.04675831e-03]])"
      ]
     },
     "execution_count": 14,
     "metadata": {},
     "output_type": "execute_result"
    }
   ],
   "source": [
    "samples_homogenous = [parametric_bootstrap() for _ in tqdm.trange(100)]\n",
    "np.quantile(samples_homogenous,[0.025,0.5,0.975],axis=0)"
   ]
  },
  {
   "cell_type": "markdown",
   "id": "bc003902",
   "metadata": {},
   "source": [
    "\\begin{equation}\n",
    "\\log(\\alpha_{e',e}) \\left(\\sum_{j}\\sum_{i>0} \\frac{w_j}{\\lambda_j}\\alpha e^{-\\beta(t_j-t_i)}\\delta_{e',e_i}\\delta_{e,e_j}\\right) + \\beta_{e',e} \\left(\\sum_{j}\\sum_{i>0} \\frac{w_j}{\\lambda_j}\\alpha e^{-\\beta(t_j-t_i)}(t_i-t_j)\\delta_{e',e_i}\\delta_{e,e_j}\\right)- \\frac{\\alpha_{e',e}}{\\beta_{e',e}}\\sum_i \\delta_{e',e_i} \\\\\n",
    "= \\log(\\alpha_{e',e}) \\left(\\sum_{j}\\frac{w_j}{\\lambda_j}\\alpha \\sum_{i>0} e^{-\\beta(t_j-t_i)}\\delta_{e',e_i}\\delta_{e,e_j}\\right) + \\beta_{e',e} \\left(\\sum_{j}\\sum_{i>0} \\frac{w_j}{\\lambda_j}\\alpha e^{-\\beta(t_j-t_i)}(t_i-t_j)\\delta_{e',e_i}\\delta_{e,e_j}\\right)- \\frac{\\alpha_{e',e}}{\\beta_{e',e}}\\sum_i \\delta_{e',e_i}\n",
    "\\end{equation}"
   ]
  },
  {
   "cell_type": "code",
   "execution_count": 151,
   "id": "2224fb7b",
   "metadata": {},
   "outputs": [
    {
     "data": {
      "text/plain": [
       "array([486.84596048, 486.98631616, 487.61428834, 492.92306994,\n",
       "       494.16925102, 495.37079563, 495.61058112, 496.15892385,\n",
       "       497.50252495, 498.95528401])"
      ]
     },
     "execution_count": 151,
     "metadata": {},
     "output_type": "execute_result"
    }
   ],
   "source": [
    "sim[0][-10:]"
   ]
  },
  {
   "cell_type": "code",
   "execution_count": 296,
   "id": "83f5df07",
   "metadata": {},
   "outputs": [],
   "source": [
    "kernel = CompositeKernel([ExponentialHawkesKernel(1.0,2.0),ConstantKernel(0.5)])"
   ]
  },
  {
   "cell_type": "code",
   "execution_count": 288,
   "id": "09fe1557",
   "metadata": {},
   "outputs": [],
   "source": [
    "kernel=CompositeKernel([ConstantKernel(np.random.exponential()) for _ in range(1)])"
   ]
  },
  {
   "cell_type": "code",
   "execution_count": 607,
   "id": "6b40c3e4",
   "metadata": {},
   "outputs": [
    {
     "data": {
      "text/plain": [
       "CompositeKernel([ExponentialHawkesKernel([[8.56546813]],[[13.4401909]]), ConstantKernel([0.11969015])])"
      ]
     },
     "execution_count": 607,
     "metadata": {},
     "output_type": "execute_result"
    }
   ],
   "source": [
    "kernel"
   ]
  },
  {
   "cell_type": "code",
   "execution_count": 589,
   "id": "fd33f7a9",
   "metadata": {},
   "outputs": [],
   "source": []
  },
  {
   "cell_type": "code",
   "execution_count": 588,
   "id": "62bfd5d0",
   "metadata": {},
   "outputs": [],
   "source": []
  },
  {
   "cell_type": "code",
   "execution_count": 590,
   "id": "7867a07f",
   "metadata": {},
   "outputs": [
    {
     "data": {
      "text/plain": [
       "True"
      ]
     },
     "execution_count": 590,
     "metadata": {},
     "output_type": "execute_result"
    }
   ],
   "source": []
  },
  {
   "cell_type": "code",
   "execution_count": 595,
   "id": "edaeef47",
   "metadata": {},
   "outputs": [
    {
     "data": {
      "text/plain": [
       "[<matplotlib.lines.Line2D at 0x7f7c221bc910>]"
      ]
     },
     "execution_count": 595,
     "metadata": {},
     "output_type": "execute_result"
    },
    {
     "data": {
      "image/png": "[encoded data removed]",
      "text/plain": [
       "<Figure size 432x288 with 1 Axes>"
      ]
     },
     "metadata": {
      "needs_background": "light"
     },
     "output_type": "display_data"
    }
   ],
   "source": []
  },
  {
   "cell_type": "code",
   "execution_count": 532,
   "id": "3a87426b",
   "metadata": {},
   "outputs": [
    {
     "data": {
      "text/plain": [
       "(array([52., 29., 30., 18., 18., 33., 33., 18., 29., 46.]),\n",
       " array([ 12.46247092,  59.85839561, 107.25432031, 154.65024501,\n",
       "        202.0461697 , 249.4420944 , 296.8380191 , 344.23394379,\n",
       "        391.62986849, 439.02579319, 486.42171788]),\n",
       " <BarContainer object of 10 artists>)"
      ]
     },
     "execution_count": 532,
     "metadata": {},
     "output_type": "execute_result"
    },
    {
     "data": {
      "image/png": "[encoded data removed]",
      "text/plain": [
       "<Figure size 432x288 with 1 Axes>"
      ]
     },
     "metadata": {
      "needs_background": "light"
     },
     "output_type": "display_data"
    }
   ],
   "source": [
    "plt.hist(samples)"
   ]
  },
  {
   "cell_type": "code",
   "execution_count": 469,
   "id": "e73f80ac",
   "metadata": {},
   "outputs": [],
   "source": [
    "import sympy\n",
    "a=sympy.Symbol('a')\n",
    "b=sympy.Symbol('b')\n",
    "t=sympy.Symbol('t')\n",
    "u=sympy.Symbol('u')\n",
    "x=sympy.Symbol('x')"
   ]
  },
  {
   "cell_type": "code",
   "execution_count": 507,
   "id": "a92ff513",
   "metadata": {},
   "outputs": [
    {
     "data": {
      "text/plain": [
       "[Piecewise((-log(u)/a, Eq(b, 0) | (b >= oo) | (b <= -oo)), (nan, True)),\n",
       " Piecewise((log(a/(a + b*log(u)))/b, (b > -oo) & (b < oo) & Ne(b, 0)), (nan, True))]"
      ]
     },
     "execution_count": 507,
     "metadata": {},
     "output_type": "execute_result"
    }
   ],
   "source": [
    "sympy.solve(sympy.integrate(a*sympy.exp(-b*x),(x,0,t))+sympy.log(u),t)"
   ]
  },
  {
   "cell_type": "code",
   "execution_count": null,
   "id": "5d2149ee",
   "metadata": {},
   "outputs": [],
   "source": []
  },
  {
   "cell_type": "code",
   "execution_count": 466,
   "id": "8c3c74c2",
   "metadata": {},
   "outputs": [
    {
     "data": {
      "text/plain": [
       "(array([16., 23., 21., 15.,  9.,  6.,  6.,  2.,  0.,  2.]),\n",
       " array([1.48473720e-03, 2.04218717e-01, 4.06952697e-01, 6.09686677e-01,\n",
       "        8.12420657e-01, 1.01515464e+00, 1.21788862e+00, 1.42062260e+00,\n",
       "        1.62335658e+00, 1.82609056e+00, 2.02882454e+00]),\n",
       " <BarContainer object of 10 artists>)"
      ]
     },
     "execution_count": 466,
     "metadata": {},
     "output_type": "execute_result"
    },
    {
     "data": {
      "image/png": "[encoded data removed]",
      "text/plain": [
       "<Figure size 432x288 with 1 Axes>"
      ]
     },
     "metadata": {
      "needs_background": "light"
     },
     "output_type": "display_data"
    }
   ],
   "source": [
    "plt.hist(np.log(1-np.log(np.random.uniform(size=100))))"
   ]
  },
  {
   "cell_type": "code",
   "execution_count": 461,
   "id": "66228405",
   "metadata": {},
   "outputs": [
    {
     "name": "stderr",
     "output_type": "stream",
     "text": [
      "/var/folders/5l/jdr1h_pn3x3_7nt8kgthzmv00000gn/T/ipykernel_1116/3631539476.py:1: RuntimeWarning: invalid value encountered in log\n",
      "  plt.hist(-np.log(1+np.log(np.random.uniform(size=100))))\n"
     ]
    },
    {
     "data": {
      "text/plain": [
       "(array([26., 13.,  7.,  2.,  3.,  4.,  2.,  2.,  0.,  1.]),\n",
       " array([6.52467350e-04, 3.36322168e-01, 6.71991868e-01, 1.00766157e+00,\n",
       "        1.34333127e+00, 1.67900097e+00, 2.01467067e+00, 2.35034037e+00,\n",
       "        2.68601007e+00, 3.02167977e+00, 3.35734947e+00]),\n",
       " <BarContainer object of 10 artists>)"
      ]
     },
     "execution_count": 461,
     "metadata": {},
     "output_type": "execute_result"
    },
    {
     "data": {
      "image/png": "[encoded data removed]",
      "text/plain": [
       "<Figure size 432x288 with 1 Axes>"
      ]
     },
     "metadata": {
      "needs_background": "light"
     },
     "output_type": "display_data"
    }
   ],
   "source": [
    "plt.hist(-np.log(1+np.log(np.random.uniform(size=100))))"
   ]
  },
  {
   "cell_type": "code",
   "execution_count": 458,
   "id": "35284bd2",
   "metadata": {},
   "outputs": [
    {
     "data": {
      "text/plain": [
       "[Piecewise((-log(u)/a, Eq(b, 0)), (nan, True)),\n",
       " Piecewise((log(a/(b*log(u)))/b, Ne(b, 0)), (nan, True))]"
      ]
     },
     "execution_count": 458,
     "metadata": {},
     "output_type": "execute_result"
    }
   ],
   "source": [
    "sympy.solve(sympy.integrate(a*sympy.exp(-b*t),t)+sympy.log(u),t)"
   ]
  },
  {
   "cell_type": "code",
   "execution_count": 440,
   "id": "81ed29d2",
   "metadata": {},
   "outputs": [
    {
     "data": {
      "text/plain": [
       "[<matplotlib.lines.Line2D at 0x7f7c1ac673a0>]"
      ]
     },
     "execution_count": 440,
     "metadata": {},
     "output_type": "execute_result"
    },
    {
     "data": {
      "image/png": "[encoded data removed]",
      "text/plain": [
       "<Figure size 432x288 with 1 Axes>"
      ]
     },
     "metadata": {
      "needs_background": "light"
     },
     "output_type": "display_data"
    }
   ],
   "source": [
    "x = np.linspace(0,500)\n",
    "plt.plot(x,sp.stats.gaussian_kde(samples,bw_method=0.01)(x))"
   ]
  },
  {
   "cell_type": "code",
   "execution_count": null,
   "id": "8fec514f",
   "metadata": {},
   "outputs": [],
   "source": []
  },
  {
   "cell_type": "code",
   "execution_count": 289,
   "id": "58c19f9d",
   "metadata": {},
   "outputs": [
    {
     "data": {
      "text/plain": [
       "True"
      ]
     },
     "execution_count": 289,
     "metadata": {},
     "output_type": "execute_result"
    }
   ],
   "source": [
    "kernel.em(0,500,x)"
   ]
  },
  {
   "cell_type": "code",
   "execution_count": 290,
   "id": "3490ffa3",
   "metadata": {},
   "outputs": [
    {
     "data": {
      "text/plain": [
       "[array([0.98])]"
      ]
     },
     "execution_count": 290,
     "metadata": {},
     "output_type": "execute_result"
    }
   ],
   "source": [
    "[c.nu for c in kernel.components]"
   ]
  },
  {
   "cell_type": "code",
   "execution_count": 297,
   "id": "51f2277b",
   "metadata": {},
   "outputs": [
    {
     "data": {
      "text/plain": [
       "True"
      ]
     },
     "execution_count": 297,
     "metadata": {},
     "output_type": "execute_result"
    }
   ],
   "source": [
    "kernel.em(0,500,*sim)"
   ]
  },
  {
   "cell_type": "code",
   "execution_count": 265,
   "id": "a5e44252",
   "metadata": {},
   "outputs": [
    {
     "data": {
      "text/plain": [
       "0.98"
      ]
     },
     "execution_count": 265,
     "metadata": {},
     "output_type": "execute_result"
    }
   ],
   "source": [
    "len(x)/500"
   ]
  },
  {
   "cell_type": "code",
   "execution_count": 299,
   "id": "5db3c2a8",
   "metadata": {},
   "outputs": [
    {
     "data": {
      "text/plain": [
       "[ExponentialHawkesKernel([[1.09906186]],[[2.71738943]]),\n",
       " ConstantKernel([0.58006079])]"
      ]
     },
     "execution_count": 299,
     "metadata": {},
     "output_type": "execute_result"
    }
   ],
   "source": [
    "[c for c in kernel.components]"
   ]
  },
  {
   "cell_type": "code",
   "execution_count": 246,
   "id": "6ee368db",
   "metadata": {},
   "outputs": [
    {
     "data": {
      "text/plain": [
       "array([  0.72695656,   0.75318707,   0.76555746,   2.39528649,\n",
       "         3.99167663,   4.15838903,   4.88334147,   4.89520327,\n",
       "         5.35247895,   5.4809588 ,   5.53938069,   5.80404773,\n",
       "         6.13123979,   7.53393245,   9.19238818,   9.22173993,\n",
       "        10.86986712,  11.16076309,  13.22138623,  13.66309199,\n",
       "        14.62624691,  14.64473905,  16.31028391,  18.28446124,\n",
       "        20.78071421,  20.88640155,  22.90933105,  23.50463865,\n",
       "        24.59105624,  25.5057976 ,  30.7536105 ,  31.29838409,\n",
       "        32.01257672,  32.1082154 ,  32.57739229,  32.67425665,\n",
       "        34.12670979,  34.86467873,  36.30204627,  45.68128621,\n",
       "        48.23407818,  51.1967446 ,  51.47360524,  51.72130526,\n",
       "        52.16378233,  53.06671973,  55.37689087,  56.20139637,\n",
       "        57.62632111,  57.72844196,  60.26196226,  60.27756254,\n",
       "        61.4629618 ,  61.67524522,  61.96221401,  64.42843298,\n",
       "        65.14728346,  65.42611857,  65.45826121,  66.28574834,\n",
       "        66.4653655 ,  67.39573387,  67.7436445 ,  68.23763214,\n",
       "        68.58376183,  70.14755856,  72.87597935,  74.2867517 ,\n",
       "        74.30516699,  78.67087827,  78.78121331,  79.50494586,\n",
       "        80.72615817,  81.90881413,  83.3632593 ,  83.53714791,\n",
       "        83.75288105,  84.0704724 ,  85.47914729,  85.60146977,\n",
       "        86.47714382,  88.13820495,  88.91388045,  89.20065617,\n",
       "        89.20741326,  89.37377804,  89.39644845,  89.41525231,\n",
       "        89.79190114,  90.56532667,  90.866297  ,  92.17456971,\n",
       "        93.53716897,  93.78687944,  95.63125196,  96.05530135,\n",
       "        96.15405468,  97.06425836,  97.43127482,  98.33335744,\n",
       "        98.86370835, 102.49497797, 102.57329395, 102.96991458,\n",
       "       103.73455645, 103.73703923, 104.32259903, 104.54180559,\n",
       "       104.74576331, 106.03086276, 106.18146881, 106.333671  ,\n",
       "       109.56866354, 110.33575968, 110.72365789, 110.87146229,\n",
       "       112.04807163, 112.67974331, 112.74067174, 116.39364757,\n",
       "       116.54284725, 121.96748414, 123.86557087, 124.72409337,\n",
       "       124.93592973, 125.10728201, 125.59745965, 125.71654413,\n",
       "       126.61292387, 128.0674712 , 128.25808407, 131.07294721,\n",
       "       132.21192128, 132.2577585 , 132.62575196, 140.76130697,\n",
       "       141.23039649, 141.45575605, 142.93443004, 144.08541896,\n",
       "       150.37404637, 153.00589908, 155.78749625, 155.87608144,\n",
       "       156.29241007, 157.14328287, 158.02130484, 159.22982938,\n",
       "       160.03478547, 161.42887364, 162.27684154, 162.32491323,\n",
       "       163.67855178, 164.44586278, 166.26946136, 167.78517455,\n",
       "       168.99768405, 169.1375858 , 169.37503892, 170.48917553,\n",
       "       170.96781469, 173.92327867, 174.250017  , 175.20658238,\n",
       "       175.83103388, 176.88243103, 178.31615285, 178.78021457,\n",
       "       179.89012234, 181.73025751, 182.52005274, 182.54767409,\n",
       "       182.62589018, 182.91181811, 183.34483633, 184.63120699,\n",
       "       185.35453456, 186.40884308, 187.07058673, 187.17018161,\n",
       "       189.12328231, 190.52960736, 191.17687679, 191.79876557,\n",
       "       192.15842307, 192.98633035, 194.42523589, 195.07003923,\n",
       "       197.726936  , 198.41767104, 199.50296954, 202.25951202,\n",
       "       202.63342371, 202.67564923, 205.30052401, 205.77107018,\n",
       "       205.90173802, 206.19884188, 207.16591317, 207.26474029,\n",
       "       208.90914683, 209.57040826, 210.8302259 , 212.6598796 ,\n",
       "       215.32158502, 216.33387916, 218.49370558, 218.93349001,\n",
       "       220.52612687, 221.33978681, 223.31229284, 223.63956592,\n",
       "       224.07939077, 224.72067573, 225.25181949, 226.15742653,\n",
       "       228.09889305, 229.89576351, 231.13991865, 231.60756576,\n",
       "       232.13396464, 235.75210969, 237.45855626, 237.72982355,\n",
       "       237.99629583, 238.1955599 , 238.50655919, 240.15086636,\n",
       "       240.69154823, 242.85805463, 243.22975651, 246.21532602,\n",
       "       246.85985101, 247.86112047, 248.48135648, 248.93251257,\n",
       "       250.82194361, 251.53804417, 251.78529783, 252.02541277,\n",
       "       253.17695137, 253.89985417, 253.93491744, 256.13346358,\n",
       "       257.56606241, 259.80802117, 260.57427452, 260.98971989,\n",
       "       262.53800963, 262.89253317, 262.93603231, 263.04753486,\n",
       "       263.6193995 , 266.40901376, 269.11556497, 269.19020017,\n",
       "       269.28279195, 269.75452026, 271.25859143, 272.79362947,\n",
       "       272.90720461, 273.879841  , 274.11377924, 274.27160285,\n",
       "       275.17968238, 276.22569432, 279.75389417, 279.83077933,\n",
       "       279.87804736, 280.31434741, 282.10098836, 282.33980858,\n",
       "       282.34207925, 283.04820594, 284.4210376 , 284.92259501,\n",
       "       286.3050402 , 286.59445044, 287.22176825, 288.65134448,\n",
       "       291.27467208, 291.53449252, 292.24260754, 293.57240438,\n",
       "       294.21941281, 294.68978004, 296.6218519 , 298.8163973 ,\n",
       "       299.54550682, 303.03267526, 304.0007627 , 304.26610251,\n",
       "       306.53413526, 306.77502529, 307.536402  , 308.04863413,\n",
       "       309.20783805, 309.23463411, 309.62394958, 309.90985739,\n",
       "       311.1829574 , 312.35192144, 314.51482881, 316.22549976,\n",
       "       316.39619055, 317.1176752 , 317.7654378 , 318.38932746,\n",
       "       319.77255991, 320.1564248 , 320.20059019, 320.95886929,\n",
       "       321.4931655 , 321.64651061, 321.68976238, 322.5279988 ,\n",
       "       329.80466882, 330.1130715 , 331.23098378, 332.03570098,\n",
       "       332.51813536, 334.24687991, 335.20828398, 335.98448528,\n",
       "       336.20083171, 341.12718053, 343.2553919 , 343.55036017,\n",
       "       343.63715485, 346.70062372, 347.88300394, 348.931282  ,\n",
       "       349.35934741, 350.70831106, 350.72694616, 351.7719417 ,\n",
       "       353.8244859 , 353.87170519, 353.90342788, 356.93579648,\n",
       "       358.50758267, 360.42797325, 360.52175412, 360.75527535,\n",
       "       361.35703566, 363.99207407, 364.88597711, 365.2388224 ,\n",
       "       365.46640797, 367.42690774, 369.45957669, 369.84508289,\n",
       "       370.07193753, 370.25171414, 371.27582688, 371.5275165 ,\n",
       "       376.74797511, 377.06314813, 377.24920544, 378.60617074,\n",
       "       379.91777831, 380.68413823, 382.77736184, 382.90310626,\n",
       "       384.02763074, 384.43826561, 384.47419354, 385.30394544,\n",
       "       386.49806478, 388.39675097, 388.47619506, 389.74765507,\n",
       "       394.05578595, 394.0708309 , 394.41858428, 395.37360251,\n",
       "       396.01268059, 398.00948092, 398.60911224, 400.68696725,\n",
       "       404.31616578, 404.34194337, 404.43303298, 406.75227701,\n",
       "       406.83701862, 409.05349239, 410.11022462, 410.15747657,\n",
       "       410.23082661, 410.31299539, 410.73577408, 411.96117551,\n",
       "       412.1394358 , 413.53145734, 413.80852593, 416.4787255 ,\n",
       "       416.51006789, 417.94437525, 419.54734949, 421.65622944,\n",
       "       421.79365677, 421.97920734, 422.42216923, 422.42382312,\n",
       "       422.42898208, 422.65231909, 423.24329858, 423.35081379,\n",
       "       424.75097843, 429.14271276, 431.61820627, 431.71910187,\n",
       "       432.47061765, 433.56834604, 434.14079633, 435.42899236,\n",
       "       436.03111443, 436.10988144, 436.70581248, 437.38719155,\n",
       "       439.12373171, 440.3445067 , 440.78397478, 442.5993042 ,\n",
       "       443.40887552, 444.20057367, 444.4918738 , 444.51939976,\n",
       "       444.84176449, 448.04440426, 448.16074284, 449.00391613,\n",
       "       449.53474496, 450.63864011, 452.68326567, 453.16898172,\n",
       "       453.59386211, 454.38676823, 455.82317208, 457.46253148,\n",
       "       457.80805307, 458.01265063, 458.05241586, 458.64728424,\n",
       "       459.00718006, 459.55124652, 461.39247823, 461.63838653,\n",
       "       462.1839594 , 463.1987935 , 466.2781026 , 467.39886266,\n",
       "       468.06244636, 471.30908909, 471.77875489, 471.90653532,\n",
       "       472.12814973, 474.45755533, 474.76612898, 476.24613593,\n",
       "       476.31892917, 476.96810308, 479.99466363, 481.12232528,\n",
       "       481.46108068, 482.21260166, 482.45491427, 482.88317493,\n",
       "       483.04646177, 483.48560044, 483.5836106 , 483.90261685,\n",
       "       485.98524979, 486.4073425 , 486.75359904, 486.96940681,\n",
       "       489.31067033, 490.09466527, 490.73738338, 493.6946545 ,\n",
       "       493.81467416, 494.09754823, 494.38778714, 494.90301457,\n",
       "       496.01326663, 496.50569164, 497.93479536, 498.36322927,\n",
       "       498.53335013, 498.7242019 ])"
      ]
     },
     "execution_count": 246,
     "metadata": {},
     "output_type": "execute_result"
    }
   ],
   "source": [
    "x=np.random.exponential(size=700).cumsum()\n",
    "x=x[x<500]\n",
    "x"
   ]
  },
  {
   "cell_type": "code",
   "execution_count": 291,
   "id": "a65923ec",
   "metadata": {},
   "outputs": [
    {
     "data": {
      "text/plain": [
       "True"
      ]
     },
     "execution_count": 291,
     "metadata": {},
     "output_type": "execute_result"
    }
   ],
   "source": [
    "kernel.em(0,500,*sim)"
   ]
  },
  {
   "cell_type": "code",
   "execution_count": 292,
   "id": "96dc1a49",
   "metadata": {},
   "outputs": [
    {
     "data": {
      "text/plain": [
       "True"
      ]
     },
     "execution_count": 292,
     "metadata": {},
     "output_type": "execute_result"
    }
   ],
   "source": [
    "kernel = CompositeKernel([ExponentialHawkesKernel(1.0,2.0),ConstantKernel(0.5)])\n",
    "kernel.em(0,500,*sim)"
   ]
  },
  {
   "cell_type": "code",
   "execution_count": 293,
   "id": "cd1601b8",
   "metadata": {},
   "outputs": [
    {
     "data": {
      "text/plain": [
       "[<__main__.ExponentialHawkesKernel at 0x7f7c7bf9c640>,\n",
       " <__main__.ConstantKernel at 0x7f7c7be5f190>]"
      ]
     },
     "execution_count": 293,
     "metadata": {},
     "output_type": "execute_result"
    }
   ],
   "source": [
    "[c for c in kernel.components]"
   ]
  },
  {
   "cell_type": "code",
   "execution_count": 119,
   "id": "09fa43c4",
   "metadata": {},
   "outputs": [],
   "source": [
    "sim=model.simulate(0,500)[:2]"
   ]
  },
  {
   "cell_type": "code",
   "execution_count": 134,
   "id": "3e14bb91",
   "metadata": {},
   "outputs": [
    {
     "name": "stdout",
     "output_type": "stream",
     "text": [
      "nu [[0.002]]\n",
      "nu [[0.002]]\n"
     ]
    },
    {
     "data": {
      "text/plain": [
       "True"
      ]
     },
     "execution_count": 134,
     "metadata": {},
     "output_type": "execute_result"
    }
   ],
   "source": [
    "kernel = ConstantKernel(1.0)\n",
    "kernel.em(0,500,sim)"
   ]
  },
  {
   "cell_type": "code",
   "execution_count": 300,
   "id": "70709d58",
   "metadata": {},
   "outputs": [
    {
     "name": "stderr",
     "output_type": "stream",
     "text": [
      "100%|████████████████████████████████████████████████████████████████████████████████████████████████████████████████████████████████████████████████████████████████████████████████████████████████████| 100/100 [06:57<00:00,  4.17s/it]"
     ]
    },
    {
     "name": "stdout",
     "output_type": "stream",
     "text": [
      "[0.42079137 0.50391806 0.59534541] 0.5\n",
      "[0.72422418 1.00867763 1.26033148] 1.0\n",
      "[1.45678653 2.01799852 2.8103147 ] 2.0\n"
     ]
    },
    {
     "name": "stderr",
     "output_type": "stream",
     "text": [
      "\n"
     ]
    }
   ],
   "source": [
    "model = mpoints.hybrid_hawkes_exp.HybridHawkesExp(1,1,[0],[0])\n",
    "model.base_rates = np.array([0.5],dtype=np.float64)\n",
    "model.impact_coefficients = np.array([[[1]]],dtype=np.float64)\n",
    "model.decay_coefficients = np.array([[[2]]],dtype=np.float64)\n",
    "model.transition_probabilities = np.array([[[1]]],dtype=np.float64)\n",
    "\n",
    "kernel = CompositeKernel([ExponentialHawkesKernel(1.0,1.0),ConstantKernel(1.0)])\n",
    "\n",
    "samples = [(kernel.em(0,500,*model.simulate(0,500)[:2]),np.hstack([*map(np.squeeze,(kernel.components[1].nu,kernel.components[0].alpha,kernel.components[0].beta))]))[1] for _ in tqdm.trange(100,position=0,leave=True)]\n",
    "nus,alphas,betas = map(lambda x : np.quantile(x,[0.025,0.5,0.975],axis=0),map(np.array,zip(*samples)))\n",
    "\n",
    "for x,y in list(zip(nus.reshape(3,-1).T,model.base_rates.reshape(-1))) + list(zip(alphas.reshape(3,-1).T,model.impact_coefficients.reshape(-1))) + list(zip(betas.reshape(3,-1).T,model.decay_coefficients.reshape(-1))):\n",
    "    print(x,y)"
   ]
  },
  {
   "cell_type": "code",
   "execution_count": 76,
   "id": "8beaba48",
   "metadata": {},
   "outputs": [],
   "source": [
    "import jax\n",
    "import jax.numpy as jnp\n",
    "import numpy as np\n",
    "import scipy as sp\n",
    "import scipy.optimize\n",
    "import tqdm\n",
    "import itertools\n",
    "def em(times, events, T=None, max_iters=None, verbose=False):\n",
    "    assert len(times) == len(events), (len(times),len(events))\n",
    "    times = times.copy() - times[0]\n",
    "    if T is None:\n",
    "        T = times[-1]\n",
    "    N_T = len(times)\n",
    "    num_event_types = len(set(events))\n",
    "    \n",
    "    event_type_count = np.zeros(num_event_types)\n",
    "    for e in events:\n",
    "        event_type_count[e] += 1\n",
    "        \n",
    "    nu = np.ones(num_event_types)\n",
    "    alpha = np.ones((num_event_types,num_event_types))\n",
    "    beta = 2*np.ones((num_event_types,num_event_types))\n",
    "    \n",
    "    iter_generator = itertools.count() if max_iters is None else range(max_iters)\n",
    "    for iteration in tqdm.tqdm(iter_generator) if verbose else iter_generator:\n",
    "        #E step\n",
    "        sum_j_B_0_j = np.zeros(num_event_types)\n",
    "        sum_j_sum_i_B_i_j = np.zeros((num_event_types,num_event_types))\n",
    "        forwards_pass = np.zeros((num_event_types,num_event_types))\n",
    "        backwards_pass = np.zeros((num_event_types,num_event_types))\n",
    "        \n",
    "        intensities = np.zeros_like(times)\n",
    "        endo_intensity = np.zeros((num_event_types,num_event_types))\n",
    "        prev_t = 0\n",
    "        for j,(t,e) in enumerate(zip(times,events)):\n",
    "            endo_intensity *= np.exp(-beta*(t-prev_t))\n",
    "            intensities[j] = nu[e]+endo_intensity[:,e].sum()\n",
    "            B_0_j = nu[e]/intensities[j]\n",
    "            sum_j_B_0_j[e] += B_0_j\n",
    "            sum_i_B_i_j = endo_intensity[:,e]/intensities[j]\n",
    "            sum_j_sum_i_B_i_j[:,e] += sum_i_B_i_j\n",
    "            forwards_pass[:,e] += t*sum_i_B_i_j\n",
    "            endo_intensity[e,:] += alpha[e,:]\n",
    "            prev_t = t\n",
    "\n",
    "        sum_j_B_i_j = np.zeros((num_event_types,num_event_types))\n",
    "        next_t = T\n",
    "        for i,(t,e) in reversed(list(enumerate(zip(times,events)))):\n",
    "            sum_j_B_i_j *= np.exp(-beta*(next_t-t))\n",
    "            backwards_pass[e,:] += t*sum_j_B_i_j[e,:]\n",
    "            sum_j_B_i_j[:,e] += alpha[:,e]/intensities[i]\n",
    "            next_t = t\n",
    "            \n",
    "        #M step\n",
    "#         def partial_ll(log_nu,log_alpha,log_beta):\n",
    "#             return log_nu*(sum_j_B_0_j) + log_alpha*sum_j_sum_i_B_i_j + jnp.exp(log_beta)*(backwards_pass-forwards_pass) - jnp.exp(log_nu)*T - jnp.exp(log_alpha-log_beta)*N_T\n",
    "        \n",
    "#         print(sum_j_B_0_j, sum_j_sum_i_B_i_j, backwards_pass, forwards_pass, T, N_T)\n",
    "        \n",
    "#         starting_partial_ll = partial_ll(log_nu,log_alpha,log_beta)\n",
    "#         def loss(params):\n",
    "#             return -partial_ll(*params)/starting_partial_ll\n",
    "        \n",
    "#         print(intensities)\n",
    "#         print(loss([log_nu,log_alpha,log_beta]))\n",
    "#         print(jax.grad(loss)([log_nu,log_alpha,log_beta]))\n",
    "#         print(log_nu,log_alpha,log_beta)\n",
    "        \n",
    "        \n",
    "#         constraint = sp.optimize.LinearConstraint([[0,-1,1]], lb=[0], ub=[np.inf], keep_feasible=False)\n",
    "#         sol=sp.optimize.minimize(loss, jac=jax.grad(loss), x0=[log_nu,log_alpha,log_beta], constraints=constraint, method='trust-constr',options=dict(maxiter=2))\n",
    "#         print(sol)\n",
    "#         log_nu,log_alpha,log_beta = sol.x\n",
    "        beta_coef = backwards_pass-forwards_pass\n",
    "        #assert np.all(beta_coef<0), (beta_coef,beta_coef.max())\n",
    "        \n",
    "        old_params = [nu,alpha,beta]\n",
    "        nu = sum_j_B_0_j/T\n",
    "        alpha = np.nan_to_num(np.where(beta_coef<0,-sum_j_sum_i_B_i_j**2/(event_type_count*beta_coef),0))\n",
    "        beta = np.nan_to_num(np.where(beta_coef<0,-sum_j_sum_i_B_i_j/beta_coef,0))\n",
    "        beta = beta.clip(alpha,np.inf)\n",
    "        new_params = [nu,alpha,beta]\n",
    "        if all(np.isclose(*[np.hstack([param.reshape(-1) for param in params]) for params in (new_params,old_params)])):\n",
    "            break\n",
    "        if verbose:\n",
    "            print(nu,alpha,beta)\n",
    "            plt.imshow(alpha/beta)\n",
    "            plt.show()\n",
    "        \n",
    "    return nu,alpha,beta"
   ]
  },
  {
   "cell_type": "code",
   "execution_count": 77,
   "id": "902ae965",
   "metadata": {},
   "outputs": [
    {
     "name": "stderr",
     "output_type": "stream",
     "text": [
      "100%|████████████████████████████████████████████████████████████████████████████████████████████████████████████████████████████████████████████████████████████████████████████████████████████████████████████████████████████████████████████████████████████████████████████████████| 100/100 [05:17<00:00,  3.18s/it]"
     ]
    },
    {
     "name": "stdout",
     "output_type": "stream",
     "text": [
      "[0.42900367 0.51416466 0.60240436] 0.5\n",
      "[0.78031113 0.98907116 1.26344049] 1.0\n",
      "[1.6132549  2.04530832 2.65695313] 2.0\n"
     ]
    },
    {
     "name": "stderr",
     "output_type": "stream",
     "text": [
      "\n"
     ]
    }
   ],
   "source": [
    "model = mpoints.hybrid_hawkes_exp.HybridHawkesExp(1,1,[0],[0])\n",
    "model.base_rates = np.array([0.5],dtype=np.float64)\n",
    "model.impact_coefficients = np.array([[[1]]],dtype=np.float64)\n",
    "model.decay_coefficients = np.array([[[2]]],dtype=np.float64)\n",
    "model.transition_probabilities = np.array([[[1]]],dtype=np.float64)\n",
    "\n",
    "samples = [em(*model.simulate(0,500)[:2],max_iters=None) for _ in tqdm.trange(100,position=0,leave=True)]\n",
    "nus,alphas,betas = map(lambda x : np.quantile(x,[0.025,0.5,0.975],axis=0),map(np.array,zip(*samples)))\n",
    "\n",
    "for x,y in list(zip(nus.reshape(3,-1).T,model.base_rates.reshape(-1))) + list(zip(alphas.reshape(3,-1).T,model.impact_coefficients.reshape(-1))) + list(zip(betas.reshape(3,-1).T,model.decay_coefficients.reshape(-1))):\n",
    "    print(x,y)"
   ]
  },
  {
   "cell_type": "code",
   "execution_count": 166,
   "id": "b366bddd",
   "metadata": {},
   "outputs": [],
   "source": [
    "model = mpoints.hybrid_hawkes_exp.HybridHawkesExp(2,1,[0,1],[0])"
   ]
  },
  {
   "cell_type": "code",
   "execution_count": 172,
   "id": "15367d58",
   "metadata": {},
   "outputs": [
    {
     "data": {
      "text/plain": [
       "2986"
      ]
     },
     "execution_count": 172,
     "metadata": {},
     "output_type": "execute_result"
    }
   ],
   "source": [
    "model = mpoints.hybrid_hawkes_exp.HybridHawkesExp(2,1,[0,1],[0])\n",
    "nu = np.array([1,1],dtype=np.float64)\n",
    "alpha = np.array([[[2,1]],[[1,3]]],dtype=np.float64)\n",
    "beta = np.array([[[6,3]],[[3,9]]],dtype=np.float64)\n",
    "model.set_hawkes_parameters(nu,alpha,beta)\n",
    "model.set_transition_probabilities(np.array([[[1],[1]]],dtype=np.float64))\n",
    "len(model.simulate(0,500)[0])"
   ]
  },
  {
   "cell_type": "code",
   "execution_count": 167,
   "id": "508fde98",
   "metadata": {},
   "outputs": [
    {
     "name": "stderr",
     "output_type": "stream",
     "text": [
      "100%|████████████████████████████████████████████████████████████████████████████████████████████████████████████████████████████████████████████████████████████████████████████████████████████████████████████████████████████████████████████████████████████████████████████████████| 100/100 [07:54<00:00,  4.74s/it]"
     ]
    },
    {
     "name": "stdout",
     "output_type": "stream",
     "text": [
      "[0.80725268 0.99676283 1.2295013 ] 1.0\n",
      "[0.70882681 0.9811661  1.21107011] 1.0\n",
      "[1.48360918 1.91268809 2.60839203] 2.0\n",
      "[0.68232822 0.97812456 1.28831475] 1.0\n",
      "[0.76683144 0.96471421 1.2081332 ] 1.0\n",
      "[2.17072521 2.86431684 3.47848161] 3.0\n",
      "[4.03705494 5.45893844 7.51397634] 6.0\n",
      "[1.90359632 2.99438108 4.6687455 ] 3.0\n",
      "[2.34753799 3.12688987 4.47316742] 3.0\n",
      "[ 6.33070587  8.30501324 10.74512345] 9.0\n"
     ]
    },
    {
     "name": "stderr",
     "output_type": "stream",
     "text": [
      "\n"
     ]
    }
   ],
   "source": [
    "model = mpoints.hybrid_hawkes_exp.HybridHawkesExp(2,1,[0,1],[0])\n",
    "nu = np.array([1,1],dtype=np.float64)\n",
    "alpha = np.array([[[2,1]],[[1,3]]],dtype=np.float64)\n",
    "beta = np.array([[[6,3]],[[3,9]]],dtype=np.float64)\n",
    "model.set_hawkes_parameters(nu,alpha,beta)\n",
    "model.set_transition_probabilities(np.array([[[1],[1]]],dtype=np.float64))\n",
    "\n",
    "samples = [em(*model.simulate(0,500)[:2],iters=30) for _ in tqdm.trange(100,position=0,leave=True)]\n",
    "nus,alphas,betas = map(lambda x : np.quantile(x,[0.025,0.5,0.975],axis=0),map(np.array,zip(*samples)))\n",
    "\n",
    "for x,y in list(zip(nus.reshape(3,-1).T,model.base_rates.reshape(-1))) + list(zip(alphas.reshape(3,-1).T,model.impact_coefficients.reshape(-1))) + list(zip(betas.reshape(3,-1).T,model.decay_coefficients.reshape(-1))):\n",
    "    print(x,y)"
   ]
  },
  {
   "cell_type": "code",
   "execution_count": null,
   "id": "485bd0e6",
   "metadata": {},
   "outputs": [],
   "source": [
    "nu,alpha,beta = em(times,np.zeros_like(times,dtype=int),iters=5,verbose=True)"
   ]
  },
  {
   "cell_type": "code",
   "execution_count": null,
   "id": "24d8bc03",
   "metadata": {},
   "outputs": [],
   "source": [
    "nu,alpha,beta"
   ]
  },
  {
   "cell_type": "markdown",
   "id": "9c9ef5ff",
   "metadata": {},
   "source": [
    "# KDE for $\\nu$"
   ]
  },
  {
   "cell_type": "code",
   "execution_count": null,
   "id": "22909c48",
   "metadata": {},
   "outputs": [],
   "source": []
  },
  {
   "cell_type": "code",
   "execution_count": 61,
   "id": "cde1b4b1",
   "metadata": {},
   "outputs": [],
   "source": [
    "import itertools"
   ]
  },
  {
   "cell_type": "code",
   "execution_count": 31,
   "id": "0ea7751c",
   "metadata": {},
   "outputs": [
    {
     "data": {
      "text/plain": [
       "(0.9999997695565017, 3.2704208591229566e-14)"
      ]
     },
     "execution_count": 31,
     "metadata": {},
     "output_type": "execute_result"
    }
   ],
   "source": [
    "x=[1,2,4,5,9]\n",
    "kde=sp.stats.gaussian_kde(x)\n",
    "sp.integrate.quad(kde,-10,20)"
   ]
  },
  {
   "cell_type": "code",
   "execution_count": 14,
   "id": "4300a772",
   "metadata": {},
   "outputs": [
    {
     "data": {
      "text/plain": [
       "[<matplotlib.lines.Line2D at 0x7fa71ae8b130>]"
      ]
     },
     "execution_count": 14,
     "metadata": {},
     "output_type": "execute_result"
    },
    {
     "data": {
      "image/png": "[encoded data removed]",
      "text/plain": [
       "<Figure size 432x288 with 1 Axes>"
      ]
     },
     "metadata": {
      "needs_background": "light"
     },
     "output_type": "display_data"
    }
   ],
   "source": [
    "import numpy as np\n",
    "import matplotlib.pyplot as plt\n",
    "plt.vlines([1,2,4,5,9],ymin=0.04,ymax=0.1)\n",
    "plt.plot(np.linspace(0,10),sp.stats.gaussian_kde([1,2,4,5,9])(np.linspace(0,10)))"
   ]
  },
  {
   "cell_type": "markdown",
   "id": "cf081960",
   "metadata": {},
   "source": [
    "\\begin{equation}\n",
    "\\log L(\\mathcal T;\\nu,\\alpha,\\beta,B) \\approx \\sum_{e}\\left(\\left(\\sum_{j}B_{0,j} \\delta_{e,e_j}\\log(\\nu_ek_e(t_j))\\right) -\\nu_e\\left(\\int_0^T k_e(t)dt\\right) + \\sum_{e'} \\left(\\log(\\alpha_{e',e}) \\left(\\sum_{j}\\sum_{i>0} B_{i,j}\\delta_{e',e_i}\\delta_{e,e_j}\\right) + \\beta_{e',e} \\left(\\sum_{j}\\sum_{i>0} B_{i,j}(t_i-t_j)\\delta_{e',e_i}\\delta_{e,e_j}\\right)- \\frac{\\alpha_{e',e}}{\\beta_{e',e}}\\sum_i \\delta_{e',e_i}\\right)\\right) \\\\\n",
    "= \\sum_{e}\\left(\\left(\\sum_{j}B_{0,j} \\delta_{e,e_j}\\log(k_e(t_j))\\right) + \\left(\\sum_{j}B_{0,j} \\delta_{e,e_j}\\log(\\nu_e)\\right) -\\nu_eT + \\sum_{e'} \\left(\\log(\\alpha_{e',e}) \\left(\\sum_{j}\\sum_{i>0} B_{i,j}\\delta_{e',e_i}\\delta_{e,e_j}\\right) + \\beta_{e',e} \\left(\\sum_{j}\\sum_{i>0} B_{i,j}(t_i-t_j)\\delta_{e',e_i}\\delta_{e,e_j}\\right)- \\frac{\\alpha_{e',e}}{\\beta_{e',e}}\\sum_i \\delta_{e',e_i}\\right)\\right)\n",
    "\\end{equation}\n",
    "\n",
    "where $k_e$ is a smoothing function normalised to integrate to $1$ over the interval $[0,T]$ (e.g. a KDE fit to events of type $e$ weighted by $B_{0,\\cdot}$ and divided by its integral from $0$ to $T$) and\n",
    "\\begin{equation}\n",
    "B_{i,j} = \\frac{1}{\\lambda_{e_j}(t_j)} \\cdot \\begin{cases}\\alpha_{e_i,e_j}\\exp(-\\beta_{e_i,e_j}(t_j-t_i)), & i>0\\\\ \\nu_{e_j}(t_j)k_{e_j}(t_j), & i=0\\end{cases}\n",
    "\\end{equation}\n",
    "\n",
    "so\n",
    "\\begin{equation}\n",
    "\\nu_e = \\frac{\\sum_{j}B_{0,j} \\delta_{e,e_j}}{T} \\\\\n",
    "\\alpha_{e',e} = -\\frac{\\left(\\sum_{j}\\sum_{i>0} B_{i,j}\\delta_{e',e_i}\\delta_{e,e_j}\\right)^2}{\\left(\\sum_i \\delta_{e',e_i}\\right)\\left(\\sum_{j}\\sum_{i>0} B_{i,j}(t_i-t_j)\\delta_{e',e_i}\\delta_{e,e_j}\\right)} \\\\\n",
    "\\beta_{e',e} = -\\frac{\\sum_{j}\\sum_{i>0} B_{i,j}\\delta_{e',e_i}\\delta_{e,e_j}}{\\sum_{j}\\sum_{i>0} B_{i,j}(t_i-t_j)\\delta_{e',e_i}\\delta_{e,e_j}}.\n",
    "\\end{equation}"
   ]
  },
  {
   "cell_type": "code",
   "execution_count": 60,
   "id": "46238b27",
   "metadata": {},
   "outputs": [
    {
     "name": "stdout",
     "output_type": "stream",
     "text": [
      "ERROR! Session/line number was not unique in database. History logging moved to new session 1263\n"
     ]
    }
   ],
   "source": [
    "import jax\n",
    "import jax.numpy as jnp\n",
    "import numpy as np\n",
    "import scipy as sp\n",
    "import scipy.optimize\n",
    "import tqdm\n",
    "def em(times, events, T=None, iters=100, verbose=False, fit_kde=True):\n",
    "    assert len(times) == len(events), (len(times),len(events))\n",
    "    times = times.copy() - times[0]\n",
    "    if T is None:\n",
    "        T = times[-1]\n",
    "    N_T = len(times)\n",
    "    num_event_types = len(set(events))\n",
    "    \n",
    "    event_type_count = np.zeros(num_event_types)\n",
    "    for e in events:\n",
    "        event_type_count[e] += 1\n",
    "        \n",
    "    nu = np.ones(num_event_types)\n",
    "    alpha = np.ones((num_event_types,num_event_types))\n",
    "    beta = 2*np.ones((num_event_types,num_event_types))\n",
    "    k = [lambda t : 1/T for _ in range(num_event_types)]\n",
    "    \n",
    "    for iteration in tqdm.trange(iters) if verbose else range(iters):\n",
    "        #E step\n",
    "        sum_j_B_0_j = np.zeros(num_event_types)\n",
    "        sum_j_sum_i_B_i_j = np.zeros((num_event_types,num_event_types))\n",
    "        forwards_pass = np.zeros((num_event_types,num_event_types))\n",
    "        backwards_pass = np.zeros((num_event_types,num_event_types))\n",
    "        \n",
    "        intensities = np.zeros_like(times)\n",
    "        endo_intensity = np.zeros((num_event_types,num_event_types))\n",
    "        prev_t = 0\n",
    "        if fit_kde:\n",
    "            times_by_event_type = [[] for _ in range(num_event_types)]\n",
    "            kde_weights = [[] for _ in range(num_event_types)]\n",
    "        for j,(t,e) in enumerate(zip(times,events)):\n",
    "            endo_intensity *= np.exp(-beta*(t-prev_t))\n",
    "            intensities[j] = nu[e]*k[e](t)+endo_intensity[:,e].sum()\n",
    "            B_0_j = nu[e]*k[e](t)/intensities[j]\n",
    "            if fit_kde:\n",
    "                times_by_event_type[e].append(t)\n",
    "                kde_weights[e].append(B_0_j)\n",
    "            sum_j_B_0_j[e] += B_0_j\n",
    "            sum_i_B_i_j = endo_intensity[:,e]/intensities[j]\n",
    "            sum_j_sum_i_B_i_j[:,e] += sum_i_B_i_j\n",
    "            forwards_pass[:,e] += t*sum_i_B_i_j\n",
    "            endo_intensity[e,:] += alpha[e,:]\n",
    "            prev_t = t\n",
    "\n",
    "        sum_j_B_i_j = np.zeros((num_event_types,num_event_types))\n",
    "        next_t = T\n",
    "        for i,(t,e) in reversed(list(enumerate(zip(times,events)))):\n",
    "            sum_j_B_i_j *= np.exp(-beta*(next_t-t))\n",
    "            backwards_pass[e,:] += t*sum_j_B_i_j[e,:]\n",
    "            sum_j_B_i_j[:,e] += alpha[:,e]/intensities[i]\n",
    "            next_t = t\n",
    "            \n",
    "        #M step\n",
    "#         def partial_ll(log_nu,log_alpha,log_beta):\n",
    "#             return log_nu*(sum_j_B_0_j) + log_alpha*sum_j_sum_i_B_i_j + jnp.exp(log_beta)*(backwards_pass-forwards_pass) - jnp.exp(log_nu)*T - jnp.exp(log_alpha-log_beta)*N_T\n",
    "        \n",
    "#         print(sum_j_B_0_j, sum_j_sum_i_B_i_j, backwards_pass, forwards_pass, T, N_T)\n",
    "        \n",
    "#         starting_partial_ll = partial_ll(log_nu,log_alpha,log_beta)\n",
    "#         def loss(params):\n",
    "#             return -partial_ll(*params)/starting_partial_ll\n",
    "        \n",
    "#         print(intensities)\n",
    "#         print(loss([log_nu,log_alpha,log_beta]))\n",
    "#         print(jax.grad(loss)([log_nu,log_alpha,log_beta]))\n",
    "#         print(log_nu,log_alpha,log_beta)\n",
    "        \n",
    "        \n",
    "#         constraint = sp.optimize.LinearConstraint([[0,-1,1]], lb=[0], ub=[np.inf], keep_feasible=False)\n",
    "#         sol=sp.optimize.minimize(loss, jac=jax.grad(loss), x0=[log_nu,log_alpha,log_beta], constraints=constraint, method='trust-constr',options=dict(maxiter=2))\n",
    "#         print(sol)\n",
    "#         log_nu,log_alpha,log_beta = sol.x\n",
    "        beta_coef = backwards_pass-forwards_pass\n",
    "        #assert np.all(beta_coef<0), (beta_coef,beta_coef.max())\n",
    "        \n",
    "        nu = sum_j_B_0_j/T\n",
    "        alpha = np.nan_to_num(np.where(beta_coef<0,-sum_j_sum_i_B_i_j**2/(event_type_count*beta_coef),0))\n",
    "        beta = np.nan_to_num(np.where(beta_coef<0,-sum_j_sum_i_B_i_j/beta_coef,0))\n",
    "        beta = beta.clip(alpha,np.inf)\n",
    "        if fit_kde: #kde is expensive\n",
    "            kdes = [sp.stats.gaussian_kde(times_by_event_type[e],weights=kde_weights[e]) for e in range(num_event_types)]\n",
    "            k = [lambda t : kdes[e](t).squeeze()/kdes[e].integrate_box_1d(0,T) for e in range(num_event_types)]\n",
    "        if verbose:\n",
    "            print(nu,alpha,beta)\n",
    "            plt.imshow(alpha/beta)\n",
    "            plt.show()\n",
    "        \n",
    "    return nu,alpha,beta"
   ]
  },
  {
   "cell_type": "code",
   "execution_count": 59,
   "id": "a1613462",
   "metadata": {},
   "outputs": [
    {
     "name": "stderr",
     "output_type": "stream",
     "text": [
      "  0%|                                                                                                                                                                                                                                                                                              | 0/100 [00:00<?, ?it/s]\n",
      "  0%|                                                                                                                                                                                                                                                                                               | 0/30 [00:00<?, ?it/s]\u001b[A"
     ]
    },
    {
     "name": "stdout",
     "output_type": "stream",
     "text": [
      "[0.00322935 0.00630355] [[0.94684767 0.86815416]\n",
      " [0.96382753 1.10705181]] [[1.94436551 1.89067296]\n",
      " [1.88292404 2.05479456]]\n"
     ]
    },
    {
     "data": {
      "image/png": "[encoded data removed]",
      "text/plain": [
       "<Figure size 432x288 with 1 Axes>"
      ]
     },
     "metadata": {
      "needs_background": "light"
     },
     "output_type": "display_data"
    },
    {
     "name": "stderr",
     "output_type": "stream",
     "text": [
      "\n",
      "  3%|█████████▎                                                                                                                                                                                                                                                                             | 1/30 [00:02<01:21,  2.82s/it]\u001b[A"
     ]
    },
    {
     "name": "stdout",
     "output_type": "stream",
     "text": [
      "[1.00065686e-05 2.03451034e-03] [[0.90974647 0.77121692]\n",
      " [0.93348677 1.19430467]] [[1.9103548  1.79445761]\n",
      " [1.78221892 2.09689455]]\n"
     ]
    },
    {
     "data": {
      "image/png": "[encoded data removed]",
      "text/plain": [
       "<Figure size 432x288 with 1 Axes>"
      ]
     },
     "metadata": {
      "needs_background": "light"
     },
     "output_type": "display_data"
    },
    {
     "name": "stderr",
     "output_type": "stream",
     "text": [
      "\n",
      "  7%|██████████████████▌                                                                                                                                                                                                                                                                    | 2/30 [00:05<01:16,  2.73s/it]\u001b[A"
     ]
    },
    {
     "name": "stdout",
     "output_type": "stream",
     "text": [
      "[2.96549592e-08 2.01290740e-03] [[0.883123   0.69614154]\n",
      " [0.90580028 1.26383815]] [[1.8960845  1.70848009]\n",
      " [1.69549771 2.13529274]]\n"
     ]
    },
    {
     "data": {
      "image/png": "[encoded data removed]",
      "text/plain": [
       "<Figure size 432x288 with 1 Axes>"
      ]
     },
     "metadata": {
      "needs_background": "light"
     },
     "output_type": "display_data"
    },
    {
     "name": "stderr",
     "output_type": "stream",
     "text": [
      "\n",
      " 10%|███████████████████████████▉                                                                                                                                                                                                                                                           | 3/30 [00:08<01:12,  2.69s/it]\u001b[A"
     ]
    },
    {
     "name": "stdout",
     "output_type": "stream",
     "text": [
      "[8.50423904e-11 2.01295431e-03] [[0.86557294 0.6372538 ]\n",
      " [0.88079439 1.32057289]] [[1.89835351 1.62935508]\n",
      " [1.61898778 2.17115577]]\n"
     ]
    },
    {
     "data": {
      "image/png": "[encoded data removed]",
      "text/plain": [
       "<Figure size 432x288 with 1 Axes>"
      ]
     },
     "metadata": {
      "needs_background": "light"
     },
     "output_type": "display_data"
    },
    {
     "name": "stderr",
     "output_type": "stream",
     "text": [
      "\n",
      " 13%|█████████████████████████████████████▏                                                                                                                                                                                                                                                 | 4/30 [00:11<01:12,  2.78s/it]\u001b[A"
     ]
    },
    {
     "name": "stdout",
     "output_type": "stream",
     "text": [
      "[2.37659891e-13 2.01313312e-03] [[0.8555073  0.58991571]\n",
      " [0.8577464  1.36767294]] [[1.91527345 1.555039  ]\n",
      " [1.55017114 2.205976  ]]\n"
     ]
    },
    {
     "data": {
      "image/png": "[encoded data removed]",
      "text/plain": [
       "<Figure size 432x288 with 1 Axes>"
      ]
     },
     "metadata": {
      "needs_background": "light"
     },
     "output_type": "display_data"
    },
    {
     "name": "stderr",
     "output_type": "stream",
     "text": [
      "\n",
      "  0%|                                                                                                                                                                                                                                                                                              | 0/100 [07:55<?, ?it/s]\u001b[A\n",
      "  0%|                                                                                                                                                                                                                                                                                              | 0/100 [07:34<?, ?it/s]\n",
      "  0%|                                                                                                                                                                                                                                                                                              | 0/100 [05:59<?, ?it/s]\n",
      "  0%|                                                                                                                                                                                                                                                                                              | 0/100 [06:15<?, ?it/s]\n",
      "  0%|                                                                                                                                                                                                                                                                                              | 0/100 [04:57<?, ?it/s]\n",
      "  0%|                                                                                                                                                                                                                                                                                              | 0/100 [05:21<?, ?it/s]\n",
      "  0%|                                                                                                                                                                                                                                                                                              | 0/100 [04:05<?, ?it/s]\n",
      "  0%|                                                                                                                                                                                                                                                                                              | 0/100 [03:51<?, ?it/s]\n",
      "  0%|                                                                                                                                                                                                                                                                                              | 0/100 [03:01<?, ?it/s]\n",
      "  0%|                                                                                                                                                                                                                                                                                              | 0/100 [02:23<?, ?it/s]\n",
      "  1%|██▊                                                                                                                                                                                                                                                                                | 1/100 [01:58<3:15:41, 118.60s/it]\n"
     ]
    },
    {
     "name": "stdout",
     "output_type": "stream",
     "text": [
      "[6.50375022e-16 2.01332171e-03] [[0.85189884 0.55091501]\n",
      " [0.83616021 1.4079263 ]] [[1.94581511 1.48422572]\n",
      " [1.48732879 2.24133989]]\n"
     ]
    },
    {
     "data": {
      "image/png": "[encoded data removed]",
      "text/plain": [
       "<Figure size 432x288 with 1 Axes>"
      ]
     },
     "metadata": {
      "needs_background": "light"
     },
     "output_type": "display_data"
    },
    {
     "name": "stderr",
     "output_type": "stream",
     "text": [
      "\n",
      " 20%|███████████████████████████████████████████████████████▊                                                                                                                                                                                                                               | 6/30 [00:18<01:20,  3.34s/it]\u001b[A"
     ]
    },
    {
     "name": "stdout",
     "output_type": "stream",
     "text": [
      "[1.74886492e-18 2.01351025e-03] [[0.85409226 0.51798555]\n",
      " [0.81569533 1.44371354]] [[1.9895369  1.41602364]\n",
      " [1.42926911 2.27880446]]\n"
     ]
    },
    {
     "data": {
      "image/png": "[encoded data removed]",
      "text/plain": [
       "<Figure size 432x288 with 1 Axes>"
      ]
     },
     "metadata": {
      "needs_background": "light"
     },
     "output_type": "display_data"
    },
    {
     "name": "stderr",
     "output_type": "stream",
     "text": [
      "\n",
      " 23%|█████████████████████████████████████████████████████████████████                                                                                                                                                                                                                      | 7/30 [00:21<01:18,  3.40s/it]\u001b[A"
     ]
    },
    {
     "name": "stdout",
     "output_type": "stream",
     "text": [
      "[4.63261621e-21 2.01368288e-03] [[0.86168631 0.48950241]\n",
      " [0.79611997 1.47704259]] [[2.04641544 1.34978635]\n",
      " [1.37516007 2.31987363]]\n"
     ]
    },
    {
     "data": {
      "image/png": "[encoded data removed]",
      "text/plain": [
       "<Figure size 432x288 with 1 Axes>"
      ]
     },
     "metadata": {
      "needs_background": "light"
     },
     "output_type": "display_data"
    },
    {
     "name": "stderr",
     "output_type": "stream",
     "text": [
      "\n",
      " 27%|██████████████████████████████████████████████████████████████████████████▍                                                                                                                                                                                                            | 8/30 [00:25<01:14,  3.40s/it]\u001b[A"
     ]
    },
    {
     "name": "stdout",
     "output_type": "stream",
     "text": [
      "[1.21113041e-23 2.01380828e-03] [[0.87445772 0.46428587]\n",
      " [0.77728    1.50961934]] [[2.11673225 1.28503086]\n",
      " [1.32442033 2.36602836]]\n"
     ]
    },
    {
     "data": {
      "image/png": "[encoded data removed]",
      "text/plain": [
       "<Figure size 432x288 with 1 Axes>"
      ]
     },
     "metadata": {
      "needs_background": "light"
     },
     "output_type": "display_data"
    },
    {
     "name": "stderr",
     "output_type": "stream",
     "text": [
      "\n",
      " 30%|███████████████████████████████████████████████████████████████████████████████████▋                                                                                                                                                                                                   | 9/30 [00:27<01:07,  3.22s/it]\u001b[A"
     ]
    },
    {
     "name": "stdout",
     "output_type": "stream",
     "text": [
      "[3.12947643e-26 2.01383261e-03] [[0.89230865 0.44147842]\n",
      " [0.75907765 1.54292275]] [[2.20099063 1.22141953]\n",
      " [1.27664538 2.41876965]]\n"
     ]
    },
    {
     "data": {
      "image/png": "[encoded data removed]",
      "text/plain": [
       "<Figure size 432x288 with 1 Axes>"
      ]
     },
     "metadata": {
      "needs_background": "light"
     },
     "output_type": "display_data"
    },
    {
     "name": "stderr",
     "output_type": "stream",
     "text": [
      "\n",
      " 33%|████████████████████████████████████████████████████████████████████████████████████████████▋                                                                                                                                                                                         | 10/30 [00:31<01:02,  3.14s/it]\n",
      "ERROR:root:Internal Python error in the inspect module.\n",
      "Below is the traceback from this internal error.\n",
      "\n",
      "ERROR:root:Internal Python error in the inspect module.\n",
      "Below is the traceback from this internal error.\n",
      "\n"
     ]
    },
    {
     "name": "stdout",
     "output_type": "stream",
     "text": [
      "Traceback (most recent call last):\n",
      "  File \"/Library/Frameworks/Python.framework/Versions/3.9/lib/python3.9/site-packages/IPython/core/interactiveshell.py\", line 3457, in run_code\n",
      "    exec(code_obj, self.user_global_ns, self.user_ns)\n",
      "  File \"/var/folders/5l/jdr1h_pn3x3_7nt8kgthzmv00000gn/T/ipykernel_1171/2490250521.py\", line 8, in <module>\n",
      "    samples = [em(*model.simulate(0,500)[:2],iters=30,verbose=True) for _ in tqdm.trange(100,position=0,leave=True)]\n",
      "  File \"/var/folders/5l/jdr1h_pn3x3_7nt8kgthzmv00000gn/T/ipykernel_1171/2490250521.py\", line 8, in <listcomp>\n",
      "    samples = [em(*model.simulate(0,500)[:2],iters=30,verbose=True) for _ in tqdm.trange(100,position=0,leave=True)]\n",
      "  File \"/var/folders/5l/jdr1h_pn3x3_7nt8kgthzmv00000gn/T/ipykernel_1171/2118364473.py\", line 24, in em\n",
      "    for iteration in tqdm.trange(iters) if verbose else range(iters):\n",
      "  File \"/Library/Frameworks/Python.framework/Versions/3.9/lib/python3.9/site-packages/tqdm/std.py\", line 1190, in __iter__\n",
      "    self.update(n - last_print_n)\n",
      "  File \"/Library/Frameworks/Python.framework/Versions/3.9/lib/python3.9/site-packages/tqdm/std.py\", line 1241, in update\n",
      "    self.refresh(lock_args=self.lock_args)\n",
      "  File \"/Library/Frameworks/Python.framework/Versions/3.9/lib/python3.9/site-packages/tqdm/std.py\", line 1346, in refresh\n",
      "    self.display()\n",
      "  File \"/Library/Frameworks/Python.framework/Versions/3.9/lib/python3.9/site-packages/tqdm/std.py\", line 1493, in display\n",
      "    self.moveto(pos)\n",
      "  File \"/Library/Frameworks/Python.framework/Versions/3.9/lib/python3.9/site-packages/tqdm/std.py\", line 1443, in moveto\n",
      "    self.fp.flush()\n",
      "  File \"/Library/Frameworks/Python.framework/Versions/3.9/lib/python3.9/site-packages/tqdm/utils.py\", line 145, in inner\n",
      "    return func(*args, **kwargs)\n",
      "  File \"/Library/Frameworks/Python.framework/Versions/3.9/lib/python3.9/site-packages/ipykernel/iostream.py\", line 466, in flush\n",
      "    if not evt.wait(self.flush_timeout):\n",
      "  File \"/Library/Frameworks/Python.framework/Versions/3.9/lib/python3.9/threading.py\", line 574, in wait\n",
      "    signaled = self._cond.wait(timeout)\n",
      "  File \"/Library/Frameworks/Python.framework/Versions/3.9/lib/python3.9/threading.py\", line 316, in wait\n",
      "    gotit = waiter.acquire(True, timeout)\n",
      "KeyboardInterrupt\n",
      "\n",
      "During handling of the above exception, another exception occurred:\n",
      "\n",
      "Traceback (most recent call last):\n",
      "  File \"/Library/Frameworks/Python.framework/Versions/3.9/lib/python3.9/site-packages/IPython/core/interactiveshell.py\", line 2077, in showtraceback\n",
      "    stb = value._render_traceback_()\n",
      "AttributeError: 'KeyboardInterrupt' object has no attribute '_render_traceback_'\n",
      "\n",
      "During handling of the above exception, another exception occurred:\n",
      "\n",
      "Traceback (most recent call last):\n",
      "  File \"/Library/Frameworks/Python.framework/Versions/3.9/lib/python3.9/site-packages/IPython/core/ultratb.py\", line 1101, in get_records\n",
      "    return _fixed_getinnerframes(etb, number_of_lines_of_context, tb_offset)\n",
      "  File \"/Library/Frameworks/Python.framework/Versions/3.9/lib/python3.9/site-packages/IPython/core/ultratb.py\", line 248, in wrapped\n",
      "    return f(*args, **kwargs)\n",
      "  File \"/Library/Frameworks/Python.framework/Versions/3.9/lib/python3.9/site-packages/IPython/core/ultratb.py\", line 281, in _fixed_getinnerframes\n",
      "    records = fix_frame_records_filenames(inspect.getinnerframes(etb, context))\n",
      "  File \"/Library/Frameworks/Python.framework/Versions/3.9/lib/python3.9/inspect.py\", line 1529, in getinnerframes\n",
      "    frameinfo = (tb.tb_frame,) + getframeinfo(tb, context)\n",
      "  File \"/Library/Frameworks/Python.framework/Versions/3.9/lib/python3.9/inspect.py\", line 1491, in getframeinfo\n",
      "    lines, lnum = findsource(frame)\n",
      "  File \"/Library/Frameworks/Python.framework/Versions/3.9/lib/python3.9/site-packages/IPython/core/ultratb.py\", line 170, in findsource\n",
      "    file = getsourcefile(object) or getfile(object)\n",
      "  File \"/Library/Frameworks/Python.framework/Versions/3.9/lib/python3.9/inspect.py\", line 709, in getsourcefile\n",
      "    if getattr(getmodule(object, filename), '__loader__', None) is not None:\n",
      "  File \"/Library/Frameworks/Python.framework/Versions/3.9/lib/python3.9/inspect.py\", line 748, in getmodule\n",
      "    if f == _filesbymodname.get(modname, None):\n",
      "KeyboardInterrupt\n",
      "Traceback (most recent call last):\n",
      "  File \"/Library/Frameworks/Python.framework/Versions/3.9/lib/python3.9/site-packages/IPython/core/interactiveshell.py\", line 3457, in run_code\n",
      "    exec(code_obj, self.user_global_ns, self.user_ns)\n",
      "  File \"/var/folders/5l/jdr1h_pn3x3_7nt8kgthzmv00000gn/T/ipykernel_1171/2490250521.py\", line 8, in <module>\n",
      "    samples = [em(*model.simulate(0,500)[:2],iters=30,verbose=True) for _ in tqdm.trange(100,position=0,leave=True)]\n",
      "  File \"/var/folders/5l/jdr1h_pn3x3_7nt8kgthzmv00000gn/T/ipykernel_1171/2490250521.py\", line 8, in <listcomp>\n",
      "    samples = [em(*model.simulate(0,500)[:2],iters=30,verbose=True) for _ in tqdm.trange(100,position=0,leave=True)]\n",
      "  File \"/var/folders/5l/jdr1h_pn3x3_7nt8kgthzmv00000gn/T/ipykernel_1171/2118364473.py\", line 24, in em\n",
      "    for iteration in tqdm.trange(iters) if verbose else range(iters):\n",
      "  File \"/Library/Frameworks/Python.framework/Versions/3.9/lib/python3.9/site-packages/tqdm/std.py\", line 1190, in __iter__\n",
      "    self.update(n - last_print_n)\n",
      "  File \"/Library/Frameworks/Python.framework/Versions/3.9/lib/python3.9/site-packages/tqdm/std.py\", line 1241, in update\n",
      "    self.refresh(lock_args=self.lock_args)\n",
      "  File \"/Library/Frameworks/Python.framework/Versions/3.9/lib/python3.9/site-packages/tqdm/std.py\", line 1346, in refresh\n",
      "    self.display()\n",
      "  File \"/Library/Frameworks/Python.framework/Versions/3.9/lib/python3.9/site-packages/tqdm/std.py\", line 1493, in display\n",
      "    self.moveto(pos)\n",
      "  File \"/Library/Frameworks/Python.framework/Versions/3.9/lib/python3.9/site-packages/tqdm/std.py\", line 1443, in moveto\n",
      "    self.fp.flush()\n",
      "  File \"/Library/Frameworks/Python.framework/Versions/3.9/lib/python3.9/site-packages/tqdm/utils.py\", line 145, in inner\n",
      "    return func(*args, **kwargs)\n",
      "  File \"/Library/Frameworks/Python.framework/Versions/3.9/lib/python3.9/site-packages/ipykernel/iostream.py\", line 466, in flush\n",
      "    if not evt.wait(self.flush_timeout):\n",
      "  File \"/Library/Frameworks/Python.framework/Versions/3.9/lib/python3.9/threading.py\", line 574, in wait\n",
      "    signaled = self._cond.wait(timeout)\n",
      "  File \"/Library/Frameworks/Python.framework/Versions/3.9/lib/python3.9/threading.py\", line 316, in wait\n",
      "    gotit = waiter.acquire(True, timeout)\n",
      "KeyboardInterrupt\n",
      "\n",
      "During handling of the above exception, another exception occurred:\n",
      "\n",
      "Traceback (most recent call last):\n",
      "  File \"/Library/Frameworks/Python.framework/Versions/3.9/lib/python3.9/site-packages/IPython/core/interactiveshell.py\", line 2077, in showtraceback\n",
      "    stb = value._render_traceback_()\n",
      "AttributeError: 'KeyboardInterrupt' object has no attribute '_render_traceback_'\n",
      "\n",
      "During handling of the above exception, another exception occurred:\n",
      "\n",
      "Traceback (most recent call last):\n",
      "  File \"/Library/Frameworks/Python.framework/Versions/3.9/lib/python3.9/site-packages/IPython/core/interactiveshell.py\", line 3377, in run_ast_nodes\n",
      "    if (await self.run_code(code, result,  async_=asy)):\n",
      "  File \"/Library/Frameworks/Python.framework/Versions/3.9/lib/python3.9/site-packages/IPython/core/interactiveshell.py\", line 3474, in run_code\n",
      "    self.showtraceback(running_compiled_code=True)\n",
      "  File \"/Library/Frameworks/Python.framework/Versions/3.9/lib/python3.9/site-packages/IPython/core/interactiveshell.py\", line 2079, in showtraceback\n",
      "    stb = self.InteractiveTB.structured_traceback(etype,\n",
      "  File \"/Library/Frameworks/Python.framework/Versions/3.9/lib/python3.9/site-packages/IPython/core/ultratb.py\", line 1367, in structured_traceback\n",
      "    return FormattedTB.structured_traceback(\n",
      "  File \"/Library/Frameworks/Python.framework/Versions/3.9/lib/python3.9/site-packages/IPython/core/ultratb.py\", line 1267, in structured_traceback\n",
      "    return VerboseTB.structured_traceback(\n",
      "  File \"/Library/Frameworks/Python.framework/Versions/3.9/lib/python3.9/site-packages/IPython/core/ultratb.py\", line 1124, in structured_traceback\n",
      "    formatted_exception = self.format_exception_as_a_whole(etype, evalue, etb, number_of_lines_of_context,\n",
      "  File \"/Library/Frameworks/Python.framework/Versions/3.9/lib/python3.9/site-packages/IPython/core/ultratb.py\", line 1082, in format_exception_as_a_whole\n",
      "    last_unique, recursion_repeat = find_recursion(orig_etype, evalue, records)\n",
      "  File \"/Library/Frameworks/Python.framework/Versions/3.9/lib/python3.9/site-packages/IPython/core/ultratb.py\", line 382, in find_recursion\n",
      "    return len(records), 0\n",
      "TypeError: object of type 'NoneType' has no len()\n",
      "\n",
      "During handling of the above exception, another exception occurred:\n",
      "\n",
      "Traceback (most recent call last):\n",
      "  File \"/Library/Frameworks/Python.framework/Versions/3.9/lib/python3.9/site-packages/IPython/core/interactiveshell.py\", line 2077, in showtraceback\n",
      "    stb = value._render_traceback_()\n",
      "AttributeError: 'TypeError' object has no attribute '_render_traceback_'\n",
      "\n",
      "During handling of the above exception, another exception occurred:\n",
      "\n",
      "Traceback (most recent call last):\n",
      "  File \"/Library/Frameworks/Python.framework/Versions/3.9/lib/python3.9/site-packages/IPython/core/ultratb.py\", line 1101, in get_records\n",
      "    return _fixed_getinnerframes(etb, number_of_lines_of_context, tb_offset)\n",
      "  File \"/Library/Frameworks/Python.framework/Versions/3.9/lib/python3.9/site-packages/IPython/core/ultratb.py\", line 248, in wrapped\n",
      "    return f(*args, **kwargs)\n",
      "  File \"/Library/Frameworks/Python.framework/Versions/3.9/lib/python3.9/site-packages/IPython/core/ultratb.py\", line 281, in _fixed_getinnerframes\n",
      "    records = fix_frame_records_filenames(inspect.getinnerframes(etb, context))\n",
      "  File \"/Library/Frameworks/Python.framework/Versions/3.9/lib/python3.9/inspect.py\", line 1529, in getinnerframes\n",
      "    frameinfo = (tb.tb_frame,) + getframeinfo(tb, context)\n",
      "  File \"/Library/Frameworks/Python.framework/Versions/3.9/lib/python3.9/inspect.py\", line 1487, in getframeinfo\n",
      "    filename = getsourcefile(frame) or getfile(frame)\n",
      "  File \"/Library/Frameworks/Python.framework/Versions/3.9/lib/python3.9/inspect.py\", line 709, in getsourcefile\n",
      "    if getattr(getmodule(object, filename), '__loader__', None) is not None:\n",
      "  File \"/Library/Frameworks/Python.framework/Versions/3.9/lib/python3.9/inspect.py\", line 746, in getmodule\n",
      "    if ismodule(module) and hasattr(module, '__file__'):\n",
      "KeyboardInterrupt\n"
     ]
    },
    {
     "name": "stderr",
     "output_type": "stream",
     "text": [
      "\n",
      "KeyboardInterrupt\n",
      "\n"
     ]
    }
   ],
   "source": [
    "model = mpoints.hybrid_hawkes_exp.HybridHawkesExp(2,1,[0,1],[0])\n",
    "nu = np.array([1,1],dtype=np.float64)\n",
    "alpha = np.array([[[2,1]],[[1,3]]],dtype=np.float64)\n",
    "beta = np.array([[[6,3]],[[3,9]]],dtype=np.float64)\n",
    "model.set_hawkes_parameters(nu,alpha,beta)\n",
    "model.set_transition_probabilities(np.array([[[1],[1]]],dtype=np.float64))\n",
    "\n",
    "samples = [em(*model.simulate(0,500)[:2],iters=30) for _ in tqdm.trange(100,position=0,leave=True)]\n",
    "nus,alphas,betas = map(lambda x : np.quantile(x,[0.025,0.5,0.975],axis=0),map(np.array,zip(*samples)))\n",
    "\n",
    "for x,y in list(zip(nus.reshape(3,-1).T,model.base_rates.reshape(-1))) + list(zip(alphas.reshape(3,-1).T,model.impact_coefficients.reshape(-1))) + list(zip(betas.reshape(3,-1).T,model.decay_coefficients.reshape(-1))):\n",
    "    print(x,y)"
   ]
  },
  {
   "cell_type": "markdown",
   "id": "67221750",
   "metadata": {},
   "source": [
    "# Multi-Kernel"
   ]
  },
  {
   "cell_type": "markdown",
   "id": "8a2f4367",
   "metadata": {},
   "source": [
    "\\begin{equation}\n",
    "\\log L(\\mathcal T;\\nu,\\alpha,\\beta,B) \\approx \\sum_{e}\\left(\\log(\\nu_e) \\left(\\sum_{j}B_{0,j} \\delta_{e,e_j}\\right) + \\sum_{e'} \\left(\\log(\\alpha_{e',e,K}) \\left(\\sum_{j}\\sum_{i>0} B_{i,j,K}\\delta_{e',e_i}\\delta_{e,e_j}\\right) + \\beta_{e',e,K} \\left(\\sum_{j}\\sum_{i>0} B_{i,j_K}(t_i-t_j)\\delta_{e',e_i}\\delta_{e,e_j}\\right) -\\nu_e (T)- \\frac{\\alpha_{e',e,K}}{\\beta_{e',e,K}}\\sum_i \\delta_{e',e_i}\\right)\\right)\n",
    "\\end{equation}"
   ]
  },
  {
   "cell_type": "markdown",
   "id": "928c3bcb",
   "metadata": {},
   "source": [
    "\\begin{equation}\n",
    "\\log L(\\mathcal T;\\nu,\\alpha,\\beta,B) = \\sum_{t\\in \\mathcal T}\\log\\lambda(t) - \\int_0^T \\lambda(t)dt\n",
    "\\\\= \\sum_{j}B_{0,j}\\log\\nu + \\sum_{j}\\sum_{i>0} B_{i,j,K} \\left(\\log(\\alpha_K) + \\beta_K (t_i-t_j)\\right) - T\\nu - \\sum_{t\\in\\mathcal T} \\int_t^T \\alpha_K\\exp\\left(-\\beta_K(s-t)\\right)ds\n",
    "\\\\= \\sum_{j}B_{0,j}\\log\\nu + \\sum_{j}\\sum_{i>0} B_{i,j,K} \\left(\\log(\\alpha_K) + \\beta_K (t_i-t_j)\\right) - T\\nu - \\sum_{t\\in\\mathcal T} \\left[-\\frac{\\alpha_K}{\\beta_K}\\exp\\left(-\\beta_K(s-t)\\right)\\right]_t^T\n",
    "\\\\= \\sum_{j}B_{0,j}\\log\\nu + \\sum_{j}\\sum_{i>0} B_{i,j,K} \\left(\\log(\\alpha_K) + \\beta_K (t_i-t_j)\\right) - T\\nu + \\frac{\\alpha_K}{\\beta}\\sum_{t\\in\\mathcal T} \\left[\\exp\\left(-\\beta_K(s-t)\\right)\\right]_t^T\n",
    "\\\\\\approx \\sum_{j}B_{0,j}\\log\\nu + \\sum_{j}\\sum_{i>0} B_{i,j,K} \\left(\\log(\\alpha_K) + \\beta_K (t_i-t_j)\\right) - T\\nu - \\frac{\\alpha_K}{\\beta_K}N_T \\text{ (quasi-EM approximation)}\n",
    "\\\\= \\log(\\nu) \\left(\\sum_{j}B_{0,j}\\right) + \\log(\\alpha_K) \\left(\\sum_{j}\\sum_{i>0} B_{i,j,K}\\right) + \\beta_K \\left(\\sum_{j}\\sum_{i>0} B_{i,j,K}(t_i-t_j)\\right) -\\nu (T)- \\frac{\\alpha_K}{\\beta_K}\\left(N_T\\right)\n",
    "\\end{equation}\n",
    "\n",
    "where\n",
    "\\begin{equation}\n",
    "B_{i,j} = \\frac{1}{\\lambda(t_j)} \\cdot \\begin{cases}\\alpha\\exp(-\\beta(t_j-t_i)), & i>0\\\\ \\nu, & i=0\\end{cases}\n",
    "\\end{equation}\n",
    "\n",
    "implying\n",
    "\n",
    "\\begin{equation}\n",
    "\\nu = \\frac{\\sum_{j}B_{0,j}}{T} \\\\\n",
    "\\frac{\\alpha}{\\beta} = \\frac{\\sum_{j}\\sum_{i>0} B_{i,j}}{N_T} \\\\\n",
    "\\frac{\\alpha}{\\beta^2} = -\\frac{\\sum_{j}\\sum_{i>0} B_{i,j}(t_i-t_j)}{N_T}\n",
    "\\end{equation}\n",
    "\n",
    "i.e.\n",
    "\n",
    "\\begin{equation}\n",
    "\\nu = \\frac{\\sum_{j}B_{0,j}}{T} \\\\\n",
    "\\beta = -\\frac{\\sum_{j}\\sum_{i>0} B_{i,j}}{\\sum_{j}\\sum_{i>0} B_{i,j}(t_i-t_j)} \\\\\n",
    "\\alpha = -\\frac{\\left(\\sum_{j}\\sum_{i>0} B_{i,j}\\right)^2}{N_T\\sum_{j}\\sum_{i>0} B_{i,j}(t_i-t_j)}\n",
    "\\end{equation}\n"
   ]
  },
  {
   "cell_type": "markdown",
   "id": "3dafd105",
   "metadata": {
    "heading_collapsed": true
   },
   "source": [
    "# State-Dependent"
   ]
  },
  {
   "cell_type": "markdown",
   "id": "e39fa21c",
   "metadata": {
    "hidden": true
   },
   "source": [
    "\\begin{equation}\n",
    "\\log L(\\mathcal T;\\nu,\\alpha,\\beta,B) \\approx \\sum_{e}\\left(\\log(\\nu_e) \\left(\\sum_{j}B_{0,j} \\delta_{e,e_j}\\right) + \\sum_{e'} \\left(\\log(\\alpha_{e',e}) \\left(\\sum_{j}\\sum_{i>0} B_{i,j}\\delta_{e',e_i}\\delta_{e,e_j}\\right) + \\beta_{e',e} \\left(\\sum_{j}\\sum_{i>0} B_{i,j}(t_i-t_j)\\delta_{e',e_i}\\delta_{e,e_j}\\right) -\\nu_e (T)- \\frac{\\alpha_{e',e}}{\\beta_{e',e}}\\sum_i \\delta_{e',e_i}\\right)\\right)\n",
    "\\end{equation}\n",
    "\n",
    "where\n",
    "\\begin{equation}\n",
    "B_{i,j} = \\frac{1}{\\lambda_{e_j}(t_j)} \\cdot \\begin{cases}\\alpha_{e_i,e_j}\\exp(-\\beta_{e_i,e_j}(t_j-t_i)), & i>0\\\\ \\nu_{e_j}, & i=0\\end{cases}\n",
    "\\end{equation}"
   ]
  },
  {
   "cell_type": "markdown",
   "id": "106a03c7",
   "metadata": {},
   "source": [
    "# Non-Monotonic"
   ]
  },
  {
   "cell_type": "markdown",
   "id": "d26c38f2",
   "metadata": {},
   "source": [
    "\\begin{equation}\n",
    "\\log L(\\mathcal T;\\nu,\\alpha,\\beta,B) = \\sum_{t\\in \\mathcal T}\\log\\lambda(t) - \\int_0^T \\lambda(t)dt\n",
    "\\\\= \\sum_{j}B_{0,j}\\log\\nu + \\sum_{j}\\sum_{i>0} B_{i,j} \\left(\\log(\\alpha) + \\beta (t_i-t_j) - \\gamma(t_i-t_j)^2\\right) - T\\nu - \\sum_{t\\in\\mathcal T} \\int_t^T \\alpha\\exp\\left(-\\beta(s-t)-\\gamma(s-t)^2\\right)ds\n",
    "\\\\= \\sum_{j}B_{0,j}\\log\\nu + \\sum_{j}\\sum_{i>0} B_{i,j} \\left(\\log(\\alpha) + \\beta (t_i-t_j) - \\gamma(t_i-t_j)^2\\right) - T\\nu - \\sum_{t\\in\\mathcal T} \\int_t^T \\alpha\\exp\\left(-\\gamma\\left(\\frac{2\\beta}{2\\gamma}(s-t)+(s-t)^2\\right)\\right)ds\n",
    "\\\\= \\sum_{j}B_{0,j}\\log\\nu + \\sum_{j}\\sum_{i>0} B_{i,j} \\left(\\log(\\alpha) + \\beta (t_i-t_j) - \\gamma(t_i-t_j)^2\\right) - T\\nu - \\sum_{t\\in\\mathcal T} \\int_t^T \\alpha\\exp\\left(-\\gamma\\left(\\frac{2\\beta}{2\\gamma}(s-t)+(s-t)^2+\\left(\\frac{\\beta}{2\\gamma}\\right)^2-\\left(\\frac{\\beta}{2\\gamma}\\right)^2\\right)\\right)ds\n",
    "\\\\= \\sum_{j}B_{0,j}\\log\\nu + \\sum_{j}\\sum_{i>0} B_{i,j} \\left(\\log(\\alpha) + \\beta (t_i-t_j) - \\gamma(t_i-t_j)^2\\right) - T\\nu - \\sum_{t\\in\\mathcal T} \\int_t^T \\alpha\\exp\\left(-\\gamma\\left(\\left(s-t+\\frac{\\beta}{2\\gamma}\\right)^2-\\left(\\frac{\\beta}{2\\gamma}\\right)^2\\right)\\right)ds\n",
    "\\\\= \\sum_{j}B_{0,j}\\log\\nu + \\sum_{j}\\sum_{i>0} B_{i,j} \\left(\\log(\\alpha) + \\beta (t_i-t_j) - \\gamma(t_i-t_j)^2\\right) - T\\nu - \\sum_{t\\in\\mathcal T} \\int_t^T \\alpha\\exp\\left(-\\gamma\\left(s-t+\\frac{\\beta}{2\\gamma}\\right)^2+\\frac{\\beta^2}{4\\gamma}\\right)ds\n",
    "\\\\= \\sum_{j}B_{0,j}\\log\\nu + \\sum_{j}\\sum_{i>0} B_{i,j} \\left(\\log(\\alpha) + \\beta (t_i-t_j) - \\gamma(t_i-t_j)^2\\right) - T\\nu - \\sum_{t\\in\\mathcal T} \\int_t^T \\alpha\\exp\\left(-\\left(\\sqrt{\\gamma}(s-t)+\\frac{\\beta}{2\\sqrt{\\gamma}}\\right)^2+\\frac{\\beta^2}{4\\gamma}\\right)ds\n",
    "\\\\= \\sum_{j}B_{0,j}\\log\\nu + \\sum_{j}\\sum_{i>0} B_{i,j} \\left(\\log(\\alpha) + \\beta (t_i-t_j) - \\gamma(t_i-t_j)^2\\right) - T\\nu - \\sum_{t\\in\\mathcal T} \\int_t^T \\alpha\\exp\\left(-\\frac{1}{2}\\left(\\sqrt{2\\gamma}(s-t)+\\frac{\\beta}{\\sqrt{2\\gamma}}\\right)^2+\\frac{\\beta^2}{4\\gamma}\\right)ds\n",
    "\\\\= \\sum_{j}B_{0,j}\\log\\nu + \\sum_{j}\\sum_{i>0} B_{i,j} \\left(\\log(\\alpha) + \\beta (t_i-t_j) - \\gamma(t_i-t_j)^2\\right) - T\\nu - \\alpha\\exp\\left(\\frac{\\beta^2}{4\\gamma}\\right)\\sqrt{\\frac{\\pi}{\\gamma}}\\sum_{t\\in\\mathcal T} \\left(\\Phi\\left(\\sqrt{2\\gamma}(T-t)+\\frac{\\beta}{\\sqrt{2\\gamma}}\\right)-\\Phi\\left(\\frac{\\beta}{\\sqrt{2\\gamma}}\\right)\\right)\n",
    "\\\\\\approx \\log(\\nu) \\left(\\sum_{j}B_{0,j}\\right) + \\log(\\alpha) \\left(\\sum_{j}\\sum_{i>0} B_{i,j}\\right) + \\beta \\left(\\sum_{j}\\sum_{i>0} B_{i,j}(t_i-t_j)\\right) - \\gamma \\left(\\sum_{j}\\sum_{i>0} B_{i,j}(t_i-t_j)^2\\right) -\\nu (T)- \\alpha\\exp\\left(\\frac{\\beta^2}{4\\gamma}\\right)\\sqrt{\\frac{\\pi}{\\gamma}}\\left(1-\\Phi\\left(\\frac{\\beta}{\\sqrt{2\\gamma}}\\right)\\right)N_T\n",
    "\\\\= \\log(\\nu) \\left(\\sum_{j}B_{0,j}\\right) + \\log(\\alpha) \\left(\\sum_{j}\\sum_{i>0} B_{i,j}\\right) + \\beta \\left(\\sum_{j}\\sum_{i>0} B_{i,j}(t_i-t_j)\\right) - \\gamma \\left(\\sum_{j}\\sum_{i>0} B_{i,j}t_i^2 + \\sum_{j}t_j^2\\sum_{i>0} B_{i,j} - 2\\sum_{j}t_j\\sum_{i>0} B_{i,j}t_i\\right) -\\nu (T)- \\alpha\\exp\\left(\\frac{\\beta^2}{4\\gamma}\\right)\\sqrt{\\frac{\\pi}{\\gamma}}\\left(1-\\Phi\\left(\\frac{\\beta}{\\sqrt{2\\gamma}}\\right)\\right)N_T\n",
    "\\end{equation}\n",
    "\n",
    "where\n",
    "\\begin{equation}\n",
    "B_{i,j} = \\frac{1}{\\lambda(t_j)} \\cdot \\begin{cases}\\alpha\\exp(-\\beta(t_j-t_i) - \\gamma(t_j-t_i)^2), & i>0\\\\ \\nu, & i=0\\end{cases}\n",
    "\\\\ = \\frac{1}{\\lambda(t_j)} \\cdot \\begin{cases}\\alpha\\exp(-\\beta(t_j-t_k+t_k-t_i) - \\gamma(t_j-t_k+t_k-t_i)^2), & i>0\\\\ \\nu, & i=0\\end{cases}\n",
    "\\\\ = \\frac{1}{\\lambda(t_j)} \\cdot \\begin{cases}\\alpha\\exp(-\\beta(t_j-t_k+t_k-t_i) - \\gamma((t_j-t_k)^2+(t_k-t_i)^2+2(t_j-t_k)(t_k-t_i))), & i>0\\\\ \\nu, & i=0\\end{cases}\n",
    "\\\\ = \\frac{1}{\\lambda(t_j)} \\cdot \\begin{cases}\\alpha\\exp(-\\beta(t_j-t_k))\\exp(-\\gamma(t_j-t_k)^2)\\exp(- \\gamma(t_k-t_i))^{2(t_j-t_k)}\\exp(-\\beta(t_k-t_i))\\exp(-\\gamma(t_k-t_i)^2), & i>0\\\\ \\nu, & i=0\\end{cases}\n",
    "\\end{equation}"
   ]
  },
  {
   "cell_type": "markdown",
   "id": "a73e889b",
   "metadata": {},
   "source": [
    "\\begin{equation}\n",
    "\\log L(\\mathcal T;\\nu,\\alpha,\\beta,B) = \\sum_{t\\in \\mathcal T}\\log\\lambda(t) - \\int_0^T \\lambda(t)dt\n",
    "\\\\= \\sum_{j}\\sum_{i>0} B_{i,j} \\left(\\log(\\alpha) - \\frac{1}{2} \\left(\\frac{t_j-t_i-\\mu}{\\sigma}\\right)^2\\right) - \\sum_{t\\in\\mathcal T} \\int_t^T \\alpha\\exp\\left(- \\frac{1}{2} \\left(\\frac{s-t-\\mu}{\\sigma}\\right)^2\\right)ds\n",
    "\\\\= \\sum_{j}\\sum_{i>0} B_{i,j} \\left(\\log(\\alpha) - \\frac{1}{2} \\left(\\frac{t_j-t_i-\\mu}{\\sigma}\\right)^2\\right) - \\alpha\\sigma\\sqrt{2\\pi}\\sum_{t\\in\\mathcal T} \\left(1-\\Phi\\left(\\frac{-\\mu}{\\sigma}\\right)\\right)\n",
    "\\\\= \\sum_{j}\\sum_{i>0} B_{i,j} \\left(\\log(\\alpha) - \\frac{1}{2} \\left(\\frac{t_j-t_i-\\mu}{\\sigma}\\right)^2\\right) - \\alpha\\sigma\\sqrt{2\\pi}N_T \\Phi\\left(\\frac{\\mu}{\\sigma}\\right)\n",
    "\\\\= \\sum_{j}\\sum_{i>0} B_{i,j} \\left(\\log(\\alpha) -\\frac{1}{2\\sigma^2}t_j^2-\\frac{1}{2\\sigma^2}t_i^2-\\frac{1}{2\\sigma^2}\\mu^2+\\frac{1}{\\sigma^2}t_j\\mu-\\frac{1}{\\sigma^2}t_i\\mu+\\frac{1}{\\sigma^2}t_jt_i\\right) - \\alpha\\sigma\\sqrt{2\\pi}N_T \\Phi\\left(\\frac{\\mu}{\\sigma}\\right)\n",
    "\\\\= \\left(\\sum_{j}\\sum_{i>0} B_{i,j} \\log(\\alpha) -\\sum_{j}\\sum_{i>0} B_{i,j} \\frac{1}{2\\sigma^2}t_j^2-\\sum_{j}\\sum_{i>0} B_{i,j} \\frac{1}{2\\sigma^2}t_i^2-\\sum_{j}\\sum_{i>0} B_{i,j} \\frac{1}{2\\sigma^2}\\mu^2+\\sum_{j}\\sum_{i>0} B_{i,j} \\frac{1}{\\sigma^2}t_j\\mu-\\sum_{j}\\sum_{i>0} B_{i,j} \\frac{1}{\\sigma^2}t_i\\mu+\\sum_{j}\\sum_{i>0} B_{i,j} \\frac{1}{\\sigma^2}t_jt_i\\right) - \\alpha\\sigma\\sqrt{2\\pi}N_T \\Phi\\left(\\frac{\\mu}{\\sigma}\\right)\n",
    "\\\\= \\log(\\alpha)\\sum_{j}\\sum_{i>0} B_{i,j} -\\frac{1}{2\\sigma^2}\\sum_{j}t_j^2\\sum_{i>0} B_{i,j} -\\sum_{j}\\sum_{i>0} B_{i,j} \\frac{1}{2\\sigma^2}t_i^2-\\sum_{j}\\sum_{i>0} B_{i,j} \\frac{1}{2\\sigma^2}\\mu^2+\\sum_{j}\\sum_{i>0} B_{i,j} \\frac{1}{\\sigma^2}t_j\\mu-\\sum_{j}\\sum_{i>0} B_{i,j} \\frac{1}{\\sigma^2}t_i\\mu+\\sum_{j}\\sum_{i>0} B_{i,j} \\frac{1}{\\sigma^2}t_jt_i - \\alpha\\sigma\\sqrt{2\\pi}N_T \\Phi\\left(\\frac{\\mu}{\\sigma}\\right)\n",
    "\\end{equation}\n",
    "\n",
    "where\n",
    "\\begin{equation}\n",
    "B_{i,j} = \\frac{1}{\\lambda(t_i)} \\alpha\\exp\\left(- \\frac{1}{2} \\left(\\frac{t_j-t_i-\\mu}{\\sigma}\\right)^2\\right)\n",
    "\\end{equation}\n"
   ]
  },
  {
   "cell_type": "code",
   "execution_count": null,
   "id": "bb6e4975",
   "metadata": {},
   "outputs": [],
   "source": [
    "sp.special.erf((2)/(2*np.sqrt(gamma)))"
   ]
  },
  {
   "cell_type": "code",
   "execution_count": 180,
   "id": "096e50e4",
   "metadata": {},
   "outputs": [
    {
     "data": {
      "text/latex": [
       "$\\displaystyle - \\alpha \\left(\\begin{cases} \\frac{\\sqrt{\\pi} e^{\\frac{\\left|{\\beta}\\right|^{2}}{4 \\left|{\\gamma}\\right|}} \\operatorname{erf}{\\left(\\frac{2 t \\left|{\\gamma}\\right| + \\left|{\\beta}\\right|}{2 \\sqrt{\\left|{\\gamma}\\right|}} \\right)}}{2 \\sqrt{\\left|{\\gamma}\\right|}} & \\text{for}\\: \\left|{\\gamma}\\right| > 0 \\\\- \\frac{\\sqrt{\\pi} \\sqrt{- \\frac{1}{\\left|{\\gamma}\\right|}} e^{\\frac{\\left|{\\beta}\\right|^{2}}{4 \\left|{\\gamma}\\right|}} \\operatorname{erfi}{\\left(\\frac{i \\left(- 2 t \\left|{\\gamma}\\right| - \\left|{\\beta}\\right|\\right)}{2 \\sqrt{\\left|{\\gamma}\\right|}} \\right)}}{2} & \\text{otherwise} \\end{cases}\\right) + \\alpha \\left(\\begin{cases} \\frac{\\sqrt{\\pi} e^{\\frac{\\left|{\\beta}\\right|^{2}}{4 \\left|{\\gamma}\\right|}} \\operatorname{erf}{\\left(\\frac{\\left|{\\beta}\\right| + \\infty \\left|{\\gamma}\\right|}{2 \\sqrt{\\left|{\\gamma}\\right|}} \\right)}}{2 \\sqrt{\\left|{\\gamma}\\right|}} & \\text{for}\\: \\left|{\\gamma}\\right| > 0 \\\\- \\frac{\\sqrt{\\pi} \\sqrt{- \\frac{1}{\\left|{\\gamma}\\right|}} e^{\\frac{\\left|{\\beta}\\right|^{2}}{4 \\left|{\\gamma}\\right|}} \\operatorname{erfi}{\\left(\\frac{i \\left(- \\left|{\\beta}\\right| - \\infty \\left|{\\gamma}\\right|\\right)}{2 \\sqrt{\\left|{\\gamma}\\right|}} \\right)}}{2} & \\text{otherwise} \\end{cases}\\right)$"
      ],
      "text/plain": [
       "-alpha*Piecewise((sqrt(pi)*exp(Abs(beta)**2/(4*Abs(gamma)))*erf((2*t*Abs(gamma) + Abs(beta))/(2*sqrt(Abs(gamma))))/(2*sqrt(Abs(gamma))), Abs(gamma) > 0), (-sqrt(pi)*sqrt(-1/Abs(gamma))*exp(Abs(beta)**2/(4*Abs(gamma)))*erfi(I*(-2*t*Abs(gamma) - Abs(beta))/(2*sqrt(Abs(gamma))))/2, True)) + alpha*Piecewise((sqrt(pi)*exp(Abs(beta)**2/(4*Abs(gamma)))*erf((Abs(beta) + oo*Abs(gamma))/(2*sqrt(Abs(gamma))))/(2*sqrt(Abs(gamma))), Abs(gamma) > 0), (-sqrt(pi)*sqrt(-1/Abs(gamma))*exp(Abs(beta)**2/(4*Abs(gamma)))*erfi(I*(-Abs(beta) - oo*Abs(gamma))/(2*sqrt(Abs(gamma))))/2, True))"
      ]
     },
     "execution_count": 180,
     "metadata": {},
     "output_type": "execute_result"
    }
   ],
   "source": [
    "import sympy\n",
    "alpha = sympy.Symbol('alpha')\n",
    "beta = sympy.Symbol('beta')\n",
    "gamma = sympy.Symbol('gamma')\n",
    "t = sympy.Symbol('t')\n",
    "integral = (alpha*sympy.exp(-abs(beta)*t-abs(gamma)*t**2)).integrate(t)\n",
    "integral.subs(t,sympy.oo) - integral"
   ]
  },
  {
   "cell_type": "code",
   "execution_count": 184,
   "id": "8cd9e3d4",
   "metadata": {},
   "outputs": [
    {
     "data": {
      "text/latex": [
       "$\\displaystyle \\frac{\\sqrt{\\pi} \\alpha \\sqrt{\\frac{1}{\\gamma}} e^{\\frac{\\beta^{2}}{4 \\gamma}}}{2} - \\alpha \\left(\\begin{cases} \\frac{\\sqrt{\\pi} e^{\\frac{\\left|{\\beta}\\right|^{2}}{4 \\left|{\\gamma}\\right|}} \\operatorname{erf}{\\left(\\frac{2 t \\left|{\\gamma}\\right| + \\left|{\\beta}\\right|}{2 \\sqrt{\\left|{\\gamma}\\right|}} \\right)}}{2 \\sqrt{\\left|{\\gamma}\\right|}} & \\text{for}\\: \\left|{\\gamma}\\right| > 0 \\\\- \\frac{\\sqrt{\\pi} \\sqrt{- \\frac{1}{\\left|{\\gamma}\\right|}} e^{\\frac{\\left|{\\beta}\\right|^{2}}{4 \\left|{\\gamma}\\right|}} \\operatorname{erfi}{\\left(\\frac{i \\left(- 2 t \\left|{\\gamma}\\right| - \\left|{\\beta}\\right|\\right)}{2 \\sqrt{\\left|{\\gamma}\\right|}} \\right)}}{2} & \\text{otherwise} \\end{cases}\\right)$"
      ],
      "text/plain": [
       "sqrt(pi)*alpha*sqrt(1/gamma)*exp(beta**2/(4*gamma))/2 - alpha*Piecewise((sqrt(pi)*exp(Abs(beta)**2/(4*Abs(gamma)))*erf((2*t*Abs(gamma) + Abs(beta))/(2*sqrt(Abs(gamma))))/(2*sqrt(Abs(gamma))), Abs(gamma) > 0), (-sqrt(pi)*sqrt(-1/Abs(gamma))*exp(Abs(beta)**2/(4*Abs(gamma)))*erfi(I*(-2*t*Abs(gamma) - Abs(beta))/(2*sqrt(Abs(gamma))))/2, True))"
      ]
     },
     "execution_count": 184,
     "metadata": {},
     "output_type": "execute_result"
    }
   ],
   "source": [
    "(alpha*sympy.sqrt(sympy.pi/gamma)*sympy.exp(beta**2 / (4*gamma))/2 - integral)"
   ]
  },
  {
   "cell_type": "markdown",
   "id": "67440b6c",
   "metadata": {},
   "source": [
    "# Simulation"
   ]
  },
  {
   "cell_type": "markdown",
   "id": "3e3ea72d",
   "metadata": {},
   "source": [
    "## Multivariate State-Dependent Hawkes"
   ]
  },
  {
   "cell_type": "code",
   "execution_count": 2,
   "id": "ebe4848f",
   "metadata": {},
   "outputs": [
    {
     "name": "stdout",
     "output_type": "stream",
     "text": [
      "hello\n"
     ]
    }
   ],
   "source": [
    "import numpy as np\n",
    "import matplotlib.pyplot as plt\n",
    "import tqdm\n",
    "import sys\n",
    "sys.path.append('../code/')\n",
    "import fast_em_classes\n",
    "import cProfile"
   ]
  },
  {
   "cell_type": "code",
   "execution_count": 3,
   "id": "85c64cd9",
   "metadata": {},
   "outputs": [],
   "source": [
    "def simulate(exo_intensity, alpha, beta, transition, start_time=0,end_time=500):\n",
    "    num_event_types = alpha.shape[0]\n",
    "    num_states = alpha.shape[2]\n",
    "    \n",
    "    prev_time = start_time\n",
    "    endo_intensity = np.zeros_like(alpha)\n",
    "    times = []\n",
    "    events = []\n",
    "    states = []\n",
    "    state = 0\n",
    "    while True:\n",
    "        intensity_upper_bound = exo_intensity + endo_intensity[:,:,state].sum(axis=0)\n",
    "        time = prev_time + np.random.exponential(1/intensity_upper_bound.sum())\n",
    "        if time>end_time:\n",
    "            break\n",
    "        endo_intensity *= np.exp(-beta * (time-prev_time))\n",
    "        intensity = exo_intensity + endo_intensity[:,:,state].sum(axis=0)\n",
    "        if np.random.uniform() * intensity_upper_bound.sum() < intensity.sum():\n",
    "            times.append(time)\n",
    "            assert len(intensity.shape) == 1\n",
    "            event = np.random.choice(np.arange(num_event_types),p=intensity/intensity.sum())\n",
    "            events.append(event)\n",
    "            state = np.random.choice(np.arange(num_states),p=transition[state,event,:])\n",
    "            states.append(state)\n",
    "            endo_intensity[event,:,state] += alpha[event,:,state]\n",
    "        prev_time = time\n",
    "    return np.array(times),np.array(events),np.array(states)"
   ]
  },
  {
   "cell_type": "code",
   "execution_count": 6,
   "id": "10fcb189",
   "metadata": {},
   "outputs": [],
   "source": [
    "nu = np.array([4,5],dtype=np.float64)\n",
    "alpha = np.array([[[1,9],[2,6]],[[3,9],[4,8]]],dtype=np.float64)\n",
    "beta = np.array([[[5,11],[6,9]],[[7,10],[8,15]]],dtype=np.float64)\n",
    "transition = np.array([[[0,1],[0.3,0.7]],[[0.1,0.9],[0.6,0.4]]],dtype=np.float64)\n"
   ]
  },
  {
   "cell_type": "code",
   "execution_count": null,
   "id": "bdcb8e45",
   "metadata": {},
   "outputs": [
    {
     "name": "stderr",
     "output_type": "stream",
     "text": [
      "\r",
      "  0%|                                                                                                                                                                                                                 | 0/100 [00:00<?, ?it/s]"
     ]
    },
    {
     "name": "stdout",
     "output_type": "stream",
     "text": [
      "simulating\n",
      "setting up kernel\n",
      "running em\n",
      "getting intensities\n"
     ]
    }
   ],
   "source": [
    "results = []\n",
    "for _ in tqdm.trange(100):\n",
    "    print('simulating')\n",
    "    times, events, states = simulate(nu, alpha, beta, transition, 0,5)\n",
    "    print('setting up kernel')\n",
    "    kernel = fast_em_classes.CompositeKernel([fast_em_classes.ExponentialHawkesKernel(alpha,beta),fast_em_classes.ConstantKernel(nu)])\n",
    "    print('running em')\n",
    "    kernel.em(0,5,times,events,states)#cProfile.run('kernel.em(0,500,times,events,states)')\n",
    "    print('recording results')\n",
    "    results.append(kernel.get_params())"
   ]
  },
  {
   "cell_type": "markdown",
   "id": "ba7dbef6",
   "metadata": {},
   "source": [
    "## Inhomogenous Univariate Hawkes"
   ]
  },
  {
   "cell_type": "code",
   "execution_count": 8,
   "id": "ccfd2096",
   "metadata": {},
   "outputs": [],
   "source": [
    "import numpy as np\n",
    "import matplotlib.pyplot as plt"
   ]
  },
  {
   "cell_type": "code",
   "execution_count": 3,
   "id": "35db9ba7",
   "metadata": {},
   "outputs": [],
   "source": [
    "import sympy"
   ]
  },
  {
   "cell_type": "code",
   "execution_count": null,
   "id": "b6f9b26a",
   "metadata": {},
   "outputs": [],
   "source": []
  },
  {
   "cell_type": "code",
   "execution_count": 128,
   "id": "bb8f8a0d",
   "metadata": {},
   "outputs": [
    {
     "data": {
      "text/plain": [
       "0.23779963785636068"
      ]
     },
     "execution_count": 128,
     "metadata": {},
     "output_type": "execute_result"
    }
   ],
   "source": [
    "np.mean([exo_intensity(i) for i in range(500)])"
   ]
  },
  {
   "cell_type": "code",
   "execution_count": 1,
   "id": "84ec5471",
   "metadata": {},
   "outputs": [],
   "source": [
    "def exo_intensity(t):\n",
    "    return 3*(t/500)\n",
    "    #return 3*np.exp(-(t-250)**2/500)\n",
    "\n",
    "def simulate(exo_intensity=exo_intensity, exo_intensity_upper_bound=3, alpha=10, beta=21, start_time=0,end_time=500):\n",
    "    prev_time = start_time\n",
    "    endo_intensity = 0\n",
    "    times = []\n",
    "    exo = []\n",
    "    endo = []\n",
    "    while True:\n",
    "        intensity_upper_bound = exo_intensity_upper_bound + endo_intensity\n",
    "        time = prev_time + np.random.exponential(1/intensity_upper_bound)\n",
    "        if time>end_time:\n",
    "            break\n",
    "        endo_intensity *= np.exp(-beta * (time-prev_time))\n",
    "        if np.random.uniform() * intensity_upper_bound < exo_intensity(time) + endo_intensity:\n",
    "            times.append(time)\n",
    "            exo.append(exo_intensity(time))\n",
    "            endo.append(endo_intensity)\n",
    "            endo_intensity += alpha\n",
    "        prev_time = time\n",
    "    return np.array(times),np.array(exo),np.array(endo)"
   ]
  },
  {
   "cell_type": "code",
   "execution_count": 11,
   "id": "655a980f",
   "metadata": {},
   "outputs": [],
   "source": [
    "times,exo,endo = simulate()"
   ]
  },
  {
   "cell_type": "code",
   "execution_count": 134,
   "id": "7e39351c",
   "metadata": {},
   "outputs": [
    {
     "data": {
      "text/plain": [
       "<matplotlib.collections.PathCollection at 0x7fd2c2befc70>"
      ]
     },
     "execution_count": 134,
     "metadata": {},
     "output_type": "execute_result"
    },
    {
     "data": {
      "image/png": "[encoded data removed]",
      "text/plain": [
       "<Figure size 432x288 with 1 Axes>"
      ]
     },
     "metadata": {
      "needs_background": "light"
     },
     "output_type": "display_data"
    }
   ],
   "source": [
    "plt.scatter(times,np.arange(len(times)))"
   ]
  },
  {
   "cell_type": "code",
   "execution_count": 135,
   "id": "e40ed904",
   "metadata": {},
   "outputs": [
    {
     "data": {
      "text/plain": [
       "[<matplotlib.lines.Line2D at 0x7fd2c2d32a90>]"
      ]
     },
     "execution_count": 135,
     "metadata": {},
     "output_type": "execute_result"
    },
    {
     "data": {
      "image/png": "[encoded data removed]",
      "text/plain": [
       "<Figure size 432x288 with 1 Axes>"
      ]
     },
     "metadata": {
      "needs_background": "light"
     },
     "output_type": "display_data"
    }
   ],
   "source": [
    "plt.plot(times,exo)\n",
    "plt.plot(times,endo)"
   ]
  },
  {
   "cell_type": "markdown",
   "id": "350f0a89",
   "metadata": {},
   "source": [
    "### KDE"
   ]
  },
  {
   "cell_type": "code",
   "execution_count": 136,
   "id": "d68c0c2e",
   "metadata": {},
   "outputs": [],
   "source": [
    "import sys\n",
    "sys.path.append('../code/')\n",
    "import fast_em_classes"
   ]
  },
  {
   "cell_type": "code",
   "execution_count": 137,
   "id": "7dfa60a9",
   "metadata": {},
   "outputs": [
    {
     "data": {
      "text/plain": [
       "[[array([[9.54792769]]), array([[20.18475938]])], [array([1.39331772]), None]]"
      ]
     },
     "execution_count": 137,
     "metadata": {},
     "output_type": "execute_result"
    },
    {
     "data": {
      "image/png": "[encoded data removed]",
      "text/plain": [
       "<Figure size 432x288 with 1 Axes>"
      ]
     },
     "metadata": {
      "needs_background": "light"
     },
     "output_type": "display_data"
    }
   ],
   "source": [
    "kernel = fast_em_classes.CompositeKernel([fast_em_classes.ExponentialHawkesKernel(1.0,1.0),fast_em_classes.SmoothingKernel(1.0)])\n",
    "\n",
    "kernel.em(0,500,times)\n",
    "endo,exo=kernel.get_component_intensities(0,500,times)\n",
    "plt.plot(times,endo)\n",
    "plt.plot(times,exo)\n",
    "kernel.get_params()"
   ]
  },
  {
   "cell_type": "markdown",
   "id": "55a814aa",
   "metadata": {},
   "source": [
    "### Reflected KDE"
   ]
  },
  {
   "cell_type": "code",
   "execution_count": 138,
   "id": "a029c3a0",
   "metadata": {},
   "outputs": [
    {
     "data": {
      "text/plain": [
       "[[array([[9.54222841]]), array([[20.0385646]])], [array([1.38494515]), None]]"
      ]
     },
     "execution_count": 138,
     "metadata": {},
     "output_type": "execute_result"
    },
    {
     "data": {
      "image/png": "[encoded data removed]",
      "text/plain": [
       "<Figure size 432x288 with 1 Axes>"
      ]
     },
     "metadata": {
      "needs_background": "light"
     },
     "output_type": "display_data"
    }
   ],
   "source": [
    "kernel = fast_em_classes.CompositeKernel([fast_em_classes.ExponentialHawkesKernel(1.0,1.0),fast_em_classes.ReflectedSmoothingKernel(1.0,frac_reflected=0.1)])\n",
    "\n",
    "kernel.em(0,500,times)\n",
    "endo,exo=kernel.get_component_intensities(0,500,times)\n",
    "plt.plot(times,endo)\n",
    "plt.plot(times,exo)\n",
    "kernel.get_params()"
   ]
  },
  {
   "cell_type": "markdown",
   "id": "db1785bc",
   "metadata": {},
   "source": [
    "### Constant"
   ]
  },
  {
   "cell_type": "code",
   "execution_count": 139,
   "id": "2fa20c06",
   "metadata": {},
   "outputs": [
    {
     "data": {
      "text/plain": [
       "[[array([[8.89090904]]), array([[16.59175022]])], array([1.22717759])]"
      ]
     },
     "execution_count": 139,
     "metadata": {},
     "output_type": "execute_result"
    },
    {
     "data": {
      "image/png": "[encoded data removed]",
      "text/plain": [
       "<Figure size 432x288 with 1 Axes>"
      ]
     },
     "metadata": {
      "needs_background": "light"
     },
     "output_type": "display_data"
    }
   ],
   "source": [
    "kernel = fast_em_classes.CompositeKernel([fast_em_classes.ExponentialHawkesKernel(1.0,1.0),fast_em_classes.ConstantKernel(1.0)])\n",
    "\n",
    "kernel.em(0,500,times)\n",
    "endo,exo=kernel.get_component_intensities(0,500,times)\n",
    "plt.plot(times,endo)\n",
    "plt.plot(times,exo)\n",
    "kernel.get_params()"
   ]
  },
  {
   "cell_type": "markdown",
   "id": "d9490231",
   "metadata": {},
   "source": [
    "### Polynomial"
   ]
  },
  {
   "cell_type": "code",
   "execution_count": 140,
   "id": "2791caff",
   "metadata": {},
   "outputs": [
    {
     "data": {
      "text/plain": [
       "[[array([[9.48207237]]), array([[20.20259915]])],\n",
       " [array([0.36742935]),\n",
       "  array([3.1068344]),\n",
       "  array([4.21493124e-166]),\n",
       "  array([3.34239756e-07]),\n",
       "  array([4.26821959e-270]),\n",
       "  array([5.93048328e-13]),\n",
       "  array([0.]),\n",
       "  array([1.1447097e-17]),\n",
       "  array([0.]),\n",
       "  array([1.41770542e-21]),\n",
       "  array([0.])]]"
      ]
     },
     "execution_count": 140,
     "metadata": {},
     "output_type": "execute_result"
    },
    {
     "data": {
      "image/png": "[encoded data removed]",
      "text/plain": [
       "<Figure size 432x288 with 1 Axes>"
      ]
     },
     "metadata": {
      "needs_background": "light"
     },
     "output_type": "display_data"
    }
   ],
   "source": [
    "kernel = fast_em_classes.CompositeKernel([fast_em_classes.ExponentialHawkesKernel(1.0,1.0),fast_em_classes.PolynomialExogenousKernel(1.0,5)])\n",
    "\n",
    "kernel.em(0,500,times)\n",
    "endo,exo=kernel.get_component_intensities(0,500,times)\n",
    "plt.plot(times,endo)\n",
    "plt.plot(times,exo)\n",
    "kernel.get_params()"
   ]
  },
  {
   "cell_type": "code",
   "execution_count": 141,
   "id": "22bc9f7b",
   "metadata": {},
   "outputs": [
    {
     "data": {
      "text/plain": [
       "961.3804460625887"
      ]
     },
     "execution_count": 141,
     "metadata": {},
     "output_type": "execute_result"
    }
   ],
   "source": [
    "exo.mean()*500"
   ]
  },
  {
   "cell_type": "code",
   "execution_count": 142,
   "id": "415389c8",
   "metadata": {},
   "outputs": [
    {
     "data": {
      "text/plain": [
       "[<matplotlib.lines.Line2D at 0x7fd2c31ddd30>]"
      ]
     },
     "execution_count": 142,
     "metadata": {},
     "output_type": "execute_result"
    },
    {
     "data": {
      "image/png": "[encoded data removed]",
      "text/plain": [
       "<Figure size 432x288 with 1 Axes>"
      ]
     },
     "metadata": {
      "needs_background": "light"
     },
     "output_type": "display_data"
    }
   ],
   "source": [
    "plt.plot(times,exo)"
   ]
  },
  {
   "cell_type": "markdown",
   "id": "9b146303",
   "metadata": {},
   "source": [
    "- State dependence & multivariate tests"
   ]
  },
  {
   "cell_type": "markdown",
   "id": "066b401f",
   "metadata": {},
   "source": [
    "$e^{-\\beta_1t}$"
   ]
  },
  {
   "cell_type": "markdown",
   "id": "08c2262b",
   "metadata": {},
   "source": [
    "$1 - e^{-\\beta_2t}$"
   ]
  },
  {
   "cell_type": "markdown",
   "id": "7cb54899",
   "metadata": {},
   "source": [
    "## Negative Intensity"
   ]
  },
  {
   "cell_type": "code",
   "execution_count": 42,
   "id": "91c27b2b",
   "metadata": {},
   "outputs": [
    {
     "name": "stderr",
     "output_type": "stream",
     "text": [
      "\n",
      "KeyboardInterrupt\n",
      "\n"
     ]
    }
   ],
   "source": [
    "prev_time = 0\n",
    "endo_intensity = 0\n",
    "negative_intensity = 0\n",
    "times = []\n",
    "while True:\n",
    "    intensity_upper_bound = 3 + endo_intensity\n",
    "    time = prev_time + np.random.exponential(1/intensity_upper_bound)\n",
    "    if time>300:\n",
    "        break\n",
    "    endo_intensity *= np.exp(- (time-prev_time))\n",
    "    negative_intensity *= np.exp(-2 * (time-prev_time))\n",
    "    if np.random.uniform() * intensity_upper_bound < 3 + endo_intensity - negative_intensity:\n",
    "        times.append(time)\n",
    "        endo_intensity += 1\n",
    "        negative_intensity -= 1\n",
    "    prev_time = time\n",
    "times = np.array(times)"
   ]
  },
  {
   "cell_type": "code",
   "execution_count": 76,
   "id": "442c94fd",
   "metadata": {},
   "outputs": [],
   "source": [
    "kernel = fast_em_classes.CompositeKernel([fast_em_classes.ExponentialHawkesKernel(1.0,1.0), fast_em_classes.ExponentialHawkesKernel(-1.0,2.0),fast_em_classes.ConstantKernel(1.0)])"
   ]
  },
  {
   "cell_type": "code",
   "execution_count": 77,
   "id": "b427da43",
   "metadata": {},
   "outputs": [
    {
     "name": "stdout",
     "output_type": "stream",
     "text": [
      "components [ 1.0477909  -0.63463625  0.58684535]\n",
      "components [ 1.4707079  -0.92313643  0.45242853]\n",
      "components [ 1.76761261 -1.11634201  0.3487294 ]\n",
      "components [ 1.93551005 -1.22289452  0.28738448]\n",
      "components [ 2.02431969 -1.27868444  0.25436475]\n",
      "components [ 2.07100348 -1.30796816  0.23696468]\n",
      "components [ 2.09574365 -1.32351252  0.22776887]\n",
      "components [ 2.10897558 -1.33184214  0.22286655]\n",
      "components [ 2.11610938 -1.33633912  0.22022975]\n",
      "components [ 2.11998162 -1.33878215  0.21880053]\n",
      "components [ 2.12209548 -1.34011641  0.21802093]\n",
      "components [ 2.12325487 -1.3408484   0.21759353]\n",
      "components [ 2.12389319 -1.34125145  0.21735826]\n",
      "components [ 2.12424569 -1.34147405  0.21722835]\n",
      "components [ 2.12444083 -1.34159727  0.21715644]\n",
      "components [ 2.12454905 -1.34166561  0.21711656]\n",
      "components [ 2.12460916 -1.34170357  0.21709441]\n",
      "components [ 2.12464258 -1.34172468  0.2170821 ]\n",
      "components [ 2.12466118 -1.34173642  0.21707525]\n",
      "components [ 2.12467153 -1.34174296  0.21707143]\n",
      "components [ 2.1246773  -1.34174661  0.2170693 ]\n"
     ]
    },
    {
     "data": {
      "text/plain": [
       "True"
      ]
     },
     "execution_count": 77,
     "metadata": {},
     "output_type": "execute_result"
    }
   ],
   "source": [
    "kernel.em(0,10,np.log(1+np.linspace(0,10,10)))"
   ]
  },
  {
   "cell_type": "code",
   "execution_count": 78,
   "id": "c18dca09",
   "metadata": {},
   "outputs": [
    {
     "data": {
      "text/plain": [
       "[[array([[[4.88226852]]]), array([[[2.29788708]]])],\n",
       " [array([[[-3.08318267]]]), array([[[2.29788744]]])],\n",
       " array([0.2170693])]"
      ]
     },
     "execution_count": 78,
     "metadata": {},
     "output_type": "execute_result"
    }
   ],
   "source": [
    "kernel.get_params()"
   ]
  },
  {
   "cell_type": "code",
   "execution_count": null,
   "id": "bf23dd37",
   "metadata": {},
   "outputs": [],
   "source": [
    "params=kernel.get_params()\n",
    "plt.plot(sum([(params[i][0] * np.exp(-params[i][1]*np.linspace(0,10))).squeeze() for i in (0,1)]))"
   ]
  },
  {
   "cell_type": "code",
   "execution_count": null,
   "id": "d0554700",
   "metadata": {},
   "outputs": [],
   "source": []
  }
 ],
 "metadata": {
  "kernelspec": {
   "display_name": "Python 3 (ipykernel)",
   "language": "python",
   "name": "python3"
  },
  "language_info": {
   "codemirror_mode": {
    "name": "ipython",
    "version": 3
   },
   "file_extension": ".py",
   "mimetype": "text/x-python",
   "name": "python",
   "nbconvert_exporter": "python",
   "pygments_lexer": "ipython3",
   "version": "3.9.0"
  }
 },
 "nbformat": 4,
 "nbformat_minor": 5
}
