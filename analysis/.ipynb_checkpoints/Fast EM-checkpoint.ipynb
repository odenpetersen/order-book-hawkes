{
 "cells": [
  {
   "cell_type": "code",
   "execution_count": 1,
   "id": "4b48cef4",
   "metadata": {},
   "outputs": [],
   "source": [
    "import pandas as pd\n",
    "import matplotlib.pyplot as plt"
   ]
  },
  {
   "cell_type": "code",
   "execution_count": 2,
   "id": "f0d5a352",
   "metadata": {},
   "outputs": [],
   "source": [
    "trades = pd.read_csv('../data/2023-06-11/trades.csv')\n",
    "\n",
    "trades.index = pd.to_datetime(trades.DATE+' '+trades.TIME_M)\n",
    "del trades['DATE'], trades['TIME_M']"
   ]
  },
  {
   "cell_type": "code",
   "execution_count": 3,
   "id": "cea64e9f",
   "metadata": {},
   "outputs": [],
   "source": [
    "times = trades.index.to_series().astype(int).values*1e-9"
   ]
  },
  {
   "cell_type": "code",
   "execution_count": 141,
   "id": "1b081c57",
   "metadata": {},
   "outputs": [],
   "source": [
    "events = 3*trades.EX.factorize()[0] + (np.sign(trades.PRICE.diff().fillna(0))+1).astype(int).values"
   ]
  },
  {
   "cell_type": "markdown",
   "id": "a73c34ea",
   "metadata": {},
   "source": [
    "# Quasi EM"
   ]
  },
  {
   "cell_type": "markdown",
   "id": "ee756efd",
   "metadata": {},
   "source": [
    "\\begin{equation}\n",
    "\\log L(\\mathcal T;\\nu,\\alpha,\\beta,B) = \\sum_{t\\in \\mathcal T}\\log\\lambda(t) - \\int_0^T \\lambda(t)dt\n",
    "\\\\= \\sum_{j}B_{0,j}\\log\\nu + \\sum_{j}\\sum_{i>0} B_{i,j} \\left(\\log(\\alpha) + \\beta (t_i-t_j)\\right) - T\\nu - \\sum_{t\\in\\mathcal T} \\int_t^T \\alpha\\exp\\left(-\\beta(s-t)\\right)ds\n",
    "\\\\= \\sum_{j}B_{0,j}\\log\\nu + \\sum_{j}\\sum_{i>0} B_{i,j} \\left(\\log(\\alpha) + \\beta (t_i-t_j)\\right) - T\\nu - \\sum_{t\\in\\mathcal T} \\left[-\\frac{\\alpha}{\\beta}\\exp\\left(-\\beta(s-t)\\right)\\right]_t^T\n",
    "\\\\= \\sum_{j}B_{0,j}\\log\\nu + \\sum_{j}\\sum_{i>0} B_{i,j} \\left(\\log(\\alpha) + \\beta (t_i-t_j)\\right) - T\\nu + \\frac{\\alpha}{\\beta}\\sum_{t\\in\\mathcal T} \\left[\\exp\\left(-\\beta(s-t)\\right)\\right]_t^T\n",
    "\\\\\\approx \\sum_{j}B_{0,j}\\log\\nu + \\sum_{j}\\sum_{i>0} B_{i,j} \\left(\\log(\\alpha) + \\beta (t_i-t_j)\\right) - T\\nu - \\frac{\\alpha}{\\beta}N_T \\text{ (quasi-EM approximation)}\n",
    "\\\\= \\log(\\nu) \\left(\\sum_{j}B_{0,j}\\right) + \\log(\\alpha) \\left(\\sum_{j}\\sum_{i>0} B_{i,j}\\right) + \\beta \\left(\\sum_{j}\\sum_{i>0} B_{i,j}(t_i-t_j)\\right) -\\nu (T)- \\frac{\\alpha}{\\beta}\\left(N_T\\right)\n",
    "\\end{equation}\n",
    "\n",
    "where\n",
    "\\begin{equation}\n",
    "B_{i,j} = \\frac{1}{\\lambda(t_j)} \\cdot \\begin{cases}\\alpha\\exp(-\\beta(t_j-t_i)), & i>0\\\\ \\nu, & i=0\\end{cases}\n",
    "\\end{equation}\n",
    "\n",
    "implying\n",
    "\n",
    "\\begin{equation}\n",
    "\\nu = \\frac{\\sum_{j}B_{0,j}}{T} \\\\\n",
    "\\frac{\\alpha}{\\beta} = \\frac{\\sum_{j}\\sum_{i>0} B_{i,j}}{N_T} \\\\\n",
    "\\frac{\\alpha}{\\beta^2} = -\\frac{\\sum_{j}\\sum_{i>0} B_{i,j}(t_i-t_j)}{N_T}\n",
    "\\end{equation}\n",
    "\n",
    "i.e.\n",
    "\n",
    "\\begin{equation}\n",
    "\\nu = \\frac{\\sum_{j}B_{0,j}}{T} \\\\\n",
    "\\beta = -\\frac{\\sum_{j}\\sum_{i>0} B_{i,j}}{\\sum_{j}\\sum_{i>0} B_{i,j}(t_i-t_j)} \\\\\n",
    "\\alpha = -\\frac{\\left(\\sum_{j}\\sum_{i>0} B_{i,j}\\right)^2}{N_T\\sum_{j}\\sum_{i>0} B_{i,j}(t_i-t_j)}\n",
    "\\end{equation}\n"
   ]
  },
  {
   "cell_type": "markdown",
   "id": "9d4f5544",
   "metadata": {},
   "source": [
    "Note that $$\\sum_j\\sum_i B_{i,j}(t_i-t_j)$$ can be computed in linear time with a backwards and forwards pass, since\n",
    "\n",
    "\\begin{equation}\n",
    "\\sum_j\\sum_{i<j} B_{i,j}(t_i-t_j)\n",
    "\\\\= \\sum_i t_i\\sum_{j>i} B_{i,j} - \\sum_j t_j\\sum_{0<i<j} B_{i,j}\n",
    "\\\\= \\sum_i t_i\\sum_{j>i} \\frac{\\alpha}{\\lambda(t_j)}\\exp\\left(-\\beta(t_j-t_i)\\right) - \\sum_j t_j\\sum_{0<i<j} \\frac{\\alpha}{\\lambda(t_j)}\\exp\\left(-\\beta(t_j-t_i)\\right)\n",
    "\\\\= \\sum_i t_i\\sum_{j>i} \\frac{\\alpha}{\\lambda(t_j)}\\exp\\left(-\\beta(t_j-t_i)\\right) - \\sum_j t_j \\frac{\\alpha}{\\lambda(t_j)}\\sum_{0<i<j}\\exp\\left(-\\beta(t_j-t_i)\\right)\n",
    "\\\\= \\text{backwards} - \\text{forwards}\n",
    "\\end{equation}\n",
    "\n",
    "with $B_{i,j}$ computed recursively each time (using the final intensity from the forwards pass as the initial intensity for the backwards pass). There is some risk here of catastrophic cancellation."
   ]
  },
  {
   "cell_type": "markdown",
   "id": "9190b68d",
   "metadata": {},
   "source": [
    "## Univariate"
   ]
  },
  {
   "cell_type": "code",
   "execution_count": 83,
   "id": "dd3b9849",
   "metadata": {},
   "outputs": [],
   "source": [
    "import jax\n",
    "import jax.numpy as jnp\n",
    "import numpy as np\n",
    "import scipy as sp\n",
    "import scipy.optimize\n",
    "import tqdm\n",
    "def em(times, T=None, iters=100):\n",
    "    times = times.copy() - times[0]\n",
    "    if T is None:\n",
    "        T = times[-1]\n",
    "    N_T = len(times)\n",
    "        \n",
    "    nu = np.float64(1.0)\n",
    "    alpha = np.float64(1.0)\n",
    "    beta = np.float64(2.0)\n",
    "    \n",
    "    for _ in tqdm.trange(iters):\n",
    "        #E step\n",
    "        sum_j_B_0_j = 0\n",
    "        sum_j_sum_i_B_i_j = 0\n",
    "        forwards_pass = 0\n",
    "        backwards_pass = 0\n",
    "        \n",
    "        intensities = np.zeros_like(times)\n",
    "        endo_intensity = 0\n",
    "        prev_t = 0\n",
    "        for i,t in enumerate(times):\n",
    "            endo_intensity *= np.exp(-beta*(t-prev_t))\n",
    "            intensities[i] = nu+endo_intensity\n",
    "            B_0_j = nu/intensities[i]\n",
    "            sum_j_B_0_j += B_0_j\n",
    "            sum_i_B_i_j = endo_intensity/intensities[i]\n",
    "            sum_j_sum_i_B_i_j += sum_i_B_i_j\n",
    "            forwards_pass += t*sum_i_B_i_j\n",
    "            endo_intensity += alpha\n",
    "            prev_t = t\n",
    "\n",
    "        sum_j_B_i_j = 0\n",
    "        next_t = T\n",
    "        for i,t in reversed(list(enumerate(times))):\n",
    "            sum_j_B_i_j *= np.exp(-beta*(next_t-t))\n",
    "            backwards_pass += t*sum_j_B_i_j\n",
    "            sum_j_B_i_j += alpha/intensities[i]\n",
    "            next_t = t\n",
    "            \n",
    "            \n",
    "        constants = np.array([sum_j_B_0_j, sum_j_sum_i_B_i_j, backwards_pass, forwards_pass, T, N_T])\n",
    "        #constants /= np.std(constants)\n",
    "        sum_j_B_0_j, sum_j_sum_i_B_i_j, backwards_pass, forwards_pass, T, N_T = constants\n",
    "        \n",
    "        #M step\n",
    "#         def partial_ll(log_nu,log_alpha,log_beta):\n",
    "#             return log_nu*(sum_j_B_0_j) + log_alpha*sum_j_sum_i_B_i_j + jnp.exp(log_beta)*(backwards_pass-forwards_pass) - jnp.exp(log_nu)*T - jnp.exp(log_alpha-log_beta)*N_T\n",
    "        \n",
    "#         print(sum_j_B_0_j, sum_j_sum_i_B_i_j, backwards_pass, forwards_pass, T, N_T)\n",
    "        \n",
    "#         starting_partial_ll = partial_ll(log_nu,log_alpha,log_beta)\n",
    "#         def loss(params):\n",
    "#             return -partial_ll(*params)/starting_partial_ll\n",
    "        \n",
    "#         print(intensities)\n",
    "#         print(loss([log_nu,log_alpha,log_beta]))\n",
    "#         print(jax.grad(loss)([log_nu,log_alpha,log_beta]))\n",
    "#         print(log_nu,log_alpha,log_beta)\n",
    "        \n",
    "        \n",
    "#         constraint = sp.optimize.LinearConstraint([[0,-1,1]], lb=[0], ub=[np.inf], keep_feasible=False)\n",
    "#         sol=sp.optimize.minimize(loss, jac=jax.grad(loss), x0=[log_nu,log_alpha,log_beta], constraints=constraint, method='trust-constr',options=dict(maxiter=2))\n",
    "#         print(sol)\n",
    "#         log_nu,log_alpha,log_beta = sol.x\n",
    "\n",
    "        assert backwards_pass<forwards_pass, (backwards_pass,forwards_pass)\n",
    "        nu = sum_j_B_0_j/T\n",
    "        alpha = -sum_j_sum_i_B_i_j**2/(N_T*(backwards_pass-forwards_pass))\n",
    "        beta = -sum_j_sum_i_B_i_j/(backwards_pass-forwards_pass)\n",
    "        print(nu,alpha,beta)\n",
    "        \n",
    "    return nu,alpha,beta"
   ]
  },
  {
   "cell_type": "code",
   "execution_count": 85,
   "id": "af26e111",
   "metadata": {},
   "outputs": [
    {
     "name": "stderr",
     "output_type": "stream",
     "text": [
      "  1%|██                                                                                                                                                                                                       | 1/100 [00:01<02:53,  1.75s/it]"
     ]
    },
    {
     "name": "stdout",
     "output_type": "stream",
     "text": [
      "0.6514700338268925 3.0441386001158555 3.4829597509139463\n"
     ]
    },
    {
     "name": "stderr",
     "output_type": "stream",
     "text": [
      "\r",
      "  2%|████                                                                                                                                                                                                     | 2/100 [00:05<04:29,  2.75s/it]"
     ]
    },
    {
     "name": "stdout",
     "output_type": "stream",
     "text": [
      "0.37941400962270616 5.649282654772688 6.096633323369974\n"
     ]
    },
    {
     "name": "stderr",
     "output_type": "stream",
     "text": [
      "\r",
      "  3%|██████                                                                                                                                                                                                   | 3/100 [00:09<05:16,  3.26s/it]"
     ]
    },
    {
     "name": "stdout",
     "output_type": "stream",
     "text": [
      "0.34965898082895625 9.91746630391001 10.636746581153275\n"
     ]
    },
    {
     "name": "stderr",
     "output_type": "stream",
     "text": [
      "\r",
      "  4%|████████                                                                                                                                                                                                 | 4/100 [00:11<04:49,  3.01s/it]"
     ]
    },
    {
     "name": "stdout",
     "output_type": "stream",
     "text": [
      "0.4578452149886453 17.145979261970243 18.811654484028303\n"
     ]
    },
    {
     "name": "stderr",
     "output_type": "stream",
     "text": [
      "\r",
      "  5%|██████████                                                                                                                                                                                               | 5/100 [00:12<03:45,  2.38s/it]"
     ]
    },
    {
     "name": "stdout",
     "output_type": "stream",
     "text": [
      "0.6539888332073709 30.99745959278329 35.48560831709483\n"
     ]
    },
    {
     "name": "stderr",
     "output_type": "stream",
     "text": [
      "\r",
      "  6%|████████████                                                                                                                                                                                             | 6/100 [00:14<03:12,  2.05s/it]"
     ]
    },
    {
     "name": "stdout",
     "output_type": "stream",
     "text": [
      "0.8846757821262076 62.10303202028686 74.9214690894854\n"
     ]
    },
    {
     "name": "stderr",
     "output_type": "stream",
     "text": [
      "\r",
      "  7%|██████████████                                                                                                                                                                                           | 7/100 [00:15<02:55,  1.88s/it]"
     ]
    },
    {
     "name": "stdout",
     "output_type": "stream",
     "text": [
      "1.1079515731525382 138.23296899050064 175.9297996758537\n"
     ]
    },
    {
     "name": "stderr",
     "output_type": "stream",
     "text": [
      "\r",
      "  8%|████████████████                                                                                                                                                                                         | 8/100 [00:17<02:42,  1.77s/it]"
     ]
    },
    {
     "name": "stdout",
     "output_type": "stream",
     "text": [
      "1.2952721884429803 311.97285923591545 416.2406539285096\n"
     ]
    },
    {
     "name": "stderr",
     "output_type": "stream",
     "text": [
      "\r",
      "  9%|██████████████████                                                                                                                                                                                       | 9/100 [00:18<02:32,  1.67s/it]"
     ]
    },
    {
     "name": "stdout",
     "output_type": "stream",
     "text": [
      "1.4344479328788955 622.3440290819066 861.2741127388559\n"
     ]
    },
    {
     "name": "stderr",
     "output_type": "stream",
     "text": [
      "\r",
      " 10%|████████████████████                                                                                                                                                                                    | 10/100 [00:20<02:33,  1.71s/it]"
     ]
    },
    {
     "name": "stdout",
     "output_type": "stream",
     "text": [
      "1.537294045173328 1043.5033592366763 1485.0009365781943\n"
     ]
    },
    {
     "name": "stderr",
     "output_type": "stream",
     "text": [
      "\r",
      " 11%|██████████████████████                                                                                                                                                                                  | 11/100 [00:22<02:24,  1.62s/it]"
     ]
    },
    {
     "name": "stdout",
     "output_type": "stream",
     "text": [
      "1.6118527900126078 1503.8457382561248 2184.9452901811824\n"
     ]
    },
    {
     "name": "stderr",
     "output_type": "stream",
     "text": [
      "\r",
      " 12%|████████████████████████                                                                                                                                                                                | 12/100 [00:23<02:14,  1.53s/it]"
     ]
    },
    {
     "name": "stdout",
     "output_type": "stream",
     "text": [
      "1.665196390541888 1929.7216828788744 2846.3660185316826\n"
     ]
    },
    {
     "name": "stderr",
     "output_type": "stream",
     "text": [
      "\r",
      " 13%|██████████████████████████                                                                                                                                                                              | 13/100 [00:24<02:11,  1.51s/it]"
     ]
    },
    {
     "name": "stdout",
     "output_type": "stream",
     "text": [
      "1.7037389464362005 2289.469021636931 3414.539946594609\n"
     ]
    },
    {
     "name": "stderr",
     "output_type": "stream",
     "text": [
      "\r",
      " 14%|████████████████████████████                                                                                                                                                                            | 14/100 [00:26<02:09,  1.50s/it]"
     ]
    },
    {
     "name": "stdout",
     "output_type": "stream",
     "text": [
      "1.731035938813934 2577.3749459312776 3874.4306527819317\n"
     ]
    },
    {
     "name": "stderr",
     "output_type": "stream",
     "text": [
      "\r",
      " 15%|██████████████████████████████                                                                                                                                                                          | 15/100 [00:28<02:10,  1.54s/it]"
     ]
    },
    {
     "name": "stdout",
     "output_type": "stream",
     "text": [
      "1.750368007398624 2799.0119715783985 4231.387127440961\n"
     ]
    },
    {
     "name": "stderr",
     "output_type": "stream",
     "text": [
      "\r",
      " 16%|████████████████████████████████                                                                                                                                                                        | 16/100 [00:29<02:14,  1.60s/it]"
     ]
    },
    {
     "name": "stdout",
     "output_type": "stream",
     "text": [
      "1.7641562318642043 2965.940540529296 4501.888116925212\n"
     ]
    },
    {
     "name": "stderr",
     "output_type": "stream",
     "text": [
      "\r",
      " 17%|██████████████████████████████████                                                                                                                                                                      | 17/100 [00:33<03:05,  2.24s/it]"
     ]
    },
    {
     "name": "stdout",
     "output_type": "stream",
     "text": [
      "1.7740466373584454 3090.1621767639635 4704.096780238626\n"
     ]
    },
    {
     "name": "stderr",
     "output_type": "stream",
     "text": [
      "\r",
      " 18%|████████████████████████████████████                                                                                                                                                                    | 18/100 [00:35<02:48,  2.06s/it]"
     ]
    },
    {
     "name": "stdout",
     "output_type": "stream",
     "text": [
      "1.7811739147035806 3182.0151330540325 4854.108112650902\n"
     ]
    },
    {
     "name": "stderr",
     "output_type": "stream",
     "text": [
      "\r",
      " 19%|██████████████████████████████████████                                                                                                                                                                  | 19/100 [00:36<02:36,  1.93s/it]"
     ]
    },
    {
     "name": "stdout",
     "output_type": "stream",
     "text": [
      "1.786330185216009 3249.6454451490813 4964.829484168831\n"
     ]
    },
    {
     "name": "stderr",
     "output_type": "stream",
     "text": [
      "\r",
      " 20%|████████████████████████████████████████                                                                                                                                                                | 20/100 [00:38<02:42,  2.03s/it]"
     ]
    },
    {
     "name": "stdout",
     "output_type": "stream",
     "text": [
      "1.7900695877622008 3299.3554884798377 5046.352427630929\n"
     ]
    },
    {
     "name": "stderr",
     "output_type": "stream",
     "text": [
      "\r",
      " 21%|██████████████████████████████████████████                                                                                                                                                              | 21/100 [00:40<02:28,  1.88s/it]"
     ]
    },
    {
     "name": "stdout",
     "output_type": "stream",
     "text": [
      "1.7927885224200322 3335.8466633227417 5106.272276363961\n"
     ]
    },
    {
     "name": "stderr",
     "output_type": "stream",
     "text": [
      "\r",
      " 22%|████████████████████████████████████████████                                                                                                                                                            | 22/100 [00:42<02:24,  1.85s/it]"
     ]
    },
    {
     "name": "stdout",
     "output_type": "stream",
     "text": [
      "1.7947689947381888 3362.5869998368116 5150.223961929643\n"
     ]
    },
    {
     "name": "stderr",
     "output_type": "stream",
     "text": [
      "\r",
      " 23%|██████████████████████████████████████████████                                                                                                                                                          | 23/100 [00:43<02:17,  1.79s/it]"
     ]
    },
    {
     "name": "stdout",
     "output_type": "stream",
     "text": [
      "1.796212263764344 3382.1777066154928 5182.445125997617\n"
     ]
    },
    {
     "name": "stderr",
     "output_type": "stream",
     "text": [
      "\r",
      " 24%|████████████████████████████████████████████████                                                                                                                                                        | 24/100 [00:45<02:14,  1.77s/it]"
     ]
    },
    {
     "name": "stdout",
     "output_type": "stream",
     "text": [
      "1.7972653127992635 3396.5206556184444 5206.047122321802\n"
     ]
    },
    {
     "name": "stderr",
     "output_type": "stream",
     "text": [
      "\r",
      " 25%|██████████████████████████████████████████████████                                                                                                                                                      | 25/100 [00:48<02:28,  1.98s/it]"
     ]
    },
    {
     "name": "stdout",
     "output_type": "stream",
     "text": [
      "1.7980340159225714 3407.020788309489 5223.331506807876\n"
     ]
    },
    {
     "name": "stderr",
     "output_type": "stream",
     "text": [
      "\r",
      " 26%|████████████████████████████████████████████████████                                                                                                                                                    | 26/100 [00:51<02:48,  2.27s/it]"
     ]
    },
    {
     "name": "stdout",
     "output_type": "stream",
     "text": [
      "1.7985955386609425 3414.7114991336075 5235.993932544099\n"
     ]
    },
    {
     "name": "stderr",
     "output_type": "stream",
     "text": [
      "\r",
      " 27%|██████████████████████████████████████████████████████                                                                                                                                                  | 27/100 [00:54<03:01,  2.48s/it]"
     ]
    },
    {
     "name": "stdout",
     "output_type": "stream",
     "text": [
      "1.7990061420211478 3420.352449611831 5245.282236826642\n"
     ]
    },
    {
     "name": "stderr",
     "output_type": "stream",
     "text": [
      "\r",
      " 28%|████████████████████████████████████████████████████████                                                                                                                                                | 28/100 [00:55<02:40,  2.23s/it]"
     ]
    },
    {
     "name": "stdout",
     "output_type": "stream",
     "text": [
      "1.7993069140323505 3424.477484872158 5252.076687198012\n"
     ]
    },
    {
     "name": "stderr",
     "output_type": "stream",
     "text": [
      "\r",
      " 29%|█████████████████████████████████████████████████████████▉                                                                                                                                              | 29/100 [00:57<02:26,  2.07s/it]"
     ]
    },
    {
     "name": "stdout",
     "output_type": "stream",
     "text": [
      "1.7995267315362449 3427.5147989315633 5257.0777347311005\n"
     ]
    },
    {
     "name": "stderr",
     "output_type": "stream",
     "text": [
      "\r",
      " 30%|████████████████████████████████████████████████████████████                                                                                                                                            | 30/100 [00:59<02:22,  2.04s/it]"
     ]
    },
    {
     "name": "stdout",
     "output_type": "stream",
     "text": [
      "1.7996883803457202 3429.715726003101 5260.705735250913\n"
     ]
    },
    {
     "name": "stderr",
     "output_type": "stream",
     "text": [
      "\r",
      " 31%|██████████████████████████████████████████████████████████████                                                                                                                                          | 31/100 [01:01<02:17,  2.00s/it]"
     ]
    },
    {
     "name": "stdout",
     "output_type": "stream",
     "text": [
      "1.7998056379898755 3431.3421316401223 5263.383492970632\n"
     ]
    },
    {
     "name": "stderr",
     "output_type": "stream",
     "text": [
      "\r",
      " 32%|████████████████████████████████████████████████████████████████                                                                                                                                        | 32/100 [01:03<02:18,  2.04s/it]"
     ]
    },
    {
     "name": "stdout",
     "output_type": "stream",
     "text": [
      "1.7998921051952337 3432.5230702234044 5265.330009844201\n"
     ]
    },
    {
     "name": "stderr",
     "output_type": "stream",
     "text": [
      "\r",
      " 33%|██████████████████████████████████████████████████████████████████                                                                                                                                      | 33/100 [01:05<02:10,  1.94s/it]"
     ]
    },
    {
     "name": "stdout",
     "output_type": "stream",
     "text": [
      "1.799954970698601 3433.3827422211234 5266.746929168057\n"
     ]
    },
    {
     "name": "stderr",
     "output_type": "stream",
     "text": [
      "\r",
      " 34%|████████████████████████████████████████████████████████████████████                                                                                                                                    | 34/100 [01:09<02:59,  2.73s/it]"
     ]
    },
    {
     "name": "stdout",
     "output_type": "stream",
     "text": [
      "1.800000721348353 3433.999524187785 5267.76455864468\n"
     ]
    },
    {
     "name": "stderr",
     "output_type": "stream",
     "text": [
      "\r",
      " 35%|██████████████████████████████████████████████████████████████████████                                                                                                                                  | 35/100 [01:16<04:22,  4.04s/it]"
     ]
    },
    {
     "name": "stdout",
     "output_type": "stream",
     "text": [
      "1.8000335882815242 3434.4511586417307 5268.508738076484\n"
     ]
    },
    {
     "name": "stderr",
     "output_type": "stream",
     "text": [
      "\r",
      " 36%|████████████████████████████████████████████████████████████████████████                                                                                                                                | 36/100 [01:19<03:48,  3.57s/it]"
     ]
    },
    {
     "name": "stdout",
     "output_type": "stream",
     "text": [
      "1.8000576076358672 3434.800573459185 5269.082293239087\n"
     ]
    },
    {
     "name": "stderr",
     "output_type": "stream",
     "text": [
      "\r",
      " 37%|██████████████████████████████████████████████████████████████████████████                                                                                                                              | 37/100 [01:20<03:06,  2.96s/it]"
     ]
    },
    {
     "name": "stdout",
     "output_type": "stream",
     "text": [
      "1.8000760887941856 3435.0525109585383 5269.4976644938515\n"
     ]
    },
    {
     "name": "stderr",
     "output_type": "stream",
     "text": [
      "\r",
      " 38%|████████████████████████████████████████████████████████████████████████████                                                                                                                            | 38/100 [01:22<02:45,  2.67s/it]"
     ]
    },
    {
     "name": "stdout",
     "output_type": "stream",
     "text": [
      "1.8000894967008565 3435.2320322491496 5269.7940189121255\n"
     ]
    },
    {
     "name": "stderr",
     "output_type": "stream",
     "text": [
      "\r",
      " 39%|██████████████████████████████████████████████████████████████████████████████                                                                                                                          | 39/100 [01:25<02:41,  2.65s/it]"
     ]
    },
    {
     "name": "stdout",
     "output_type": "stream",
     "text": [
      "1.8000990674449824 3435.3540239360746 5269.996123092219\n"
     ]
    },
    {
     "name": "stderr",
     "output_type": "stream",
     "text": [
      "\r",
      " 40%|████████████████████████████████████████████████████████████████████████████████                                                                                                                        | 40/100 [01:27<02:28,  2.47s/it]"
     ]
    },
    {
     "name": "stdout",
     "output_type": "stream",
     "text": [
      "1.8001056038428913 3435.462197879473 5270.172286957559\n"
     ]
    },
    {
     "name": "stderr",
     "output_type": "stream",
     "text": [
      "\r",
      " 41%|██████████████████████████████████████████████████████████████████████████████████                                                                                                                      | 41/100 [01:29<02:15,  2.29s/it]"
     ]
    },
    {
     "name": "stdout",
     "output_type": "stream",
     "text": [
      "1.8001112603497427 3435.534635331232 5270.292254040727\n"
     ]
    },
    {
     "name": "stderr",
     "output_type": "stream",
     "text": [
      "\r",
      " 42%|████████████████████████████████████████████████████████████████████████████████████                                                                                                                    | 42/100 [01:31<02:11,  2.27s/it]"
     ]
    },
    {
     "name": "stdout",
     "output_type": "stream",
     "text": [
      "1.8001151395832677 3435.5759181788467 5270.3616496836585\n"
     ]
    },
    {
     "name": "stderr",
     "output_type": "stream",
     "text": [
      "\r",
      " 43%|██████████████████████████████████████████████████████████████████████████████████████                                                                                                                  | 43/100 [01:33<02:02,  2.16s/it]"
     ]
    },
    {
     "name": "stdout",
     "output_type": "stream",
     "text": [
      "1.800117397244622 3435.618550838429 5270.430580646406\n"
     ]
    },
    {
     "name": "stderr",
     "output_type": "stream",
     "text": [
      "\r",
      " 44%|████████████████████████████████████████████████████████████████████████████████████████                                                                                                                | 44/100 [01:35<01:55,  2.07s/it]"
     ]
    },
    {
     "name": "stdout",
     "output_type": "stream",
     "text": [
      "1.8001196037128646 3435.6725867695936 5270.516924920289\n"
     ]
    },
    {
     "name": "stderr",
     "output_type": "stream",
     "text": [
      "\r",
      " 45%|██████████████████████████████████████████████████████████████████████████████████████████                                                                                                              | 45/100 [01:37<01:50,  2.01s/it]"
     ]
    },
    {
     "name": "stdout",
     "output_type": "stream",
     "text": [
      "1.8001223535076423 3435.678189926445 5270.529820205609\n"
     ]
    },
    {
     "name": "stderr",
     "output_type": "stream",
     "text": [
      "\r",
      " 46%|████████████████████████████████████████████████████████████████████████████████████████████                                                                                                            | 46/100 [01:38<01:44,  1.94s/it]"
     ]
    },
    {
     "name": "stdout",
     "output_type": "stream",
     "text": [
      "1.8001228188732028 3435.6997480767545 5270.563619335421\n"
     ]
    },
    {
     "name": "stderr",
     "output_type": "stream",
     "text": [
      "\r",
      " 47%|██████████████████████████████████████████████████████████████████████████████████████████████                                                                                                          | 47/100 [01:40<01:40,  1.89s/it]"
     ]
    },
    {
     "name": "stdout",
     "output_type": "stream",
     "text": [
      "1.8001238862582882 3435.7022870127694 5270.56918324526\n"
     ]
    },
    {
     "name": "stderr",
     "output_type": "stream",
     "text": [
      "\r",
      " 48%|████████████████████████████████████████████████████████████████████████████████████████████████                                                                                                        | 48/100 [01:42<01:35,  1.84s/it]"
     ]
    },
    {
     "name": "stdout",
     "output_type": "stream",
     "text": [
      "1.8001240843573159 3435.7055305557637 5270.574468792254\n"
     ]
    },
    {
     "name": "stderr",
     "output_type": "stream",
     "text": [
      "\r",
      " 49%|██████████████████████████████████████████████████████████████████████████████████████████████████                                                                                                      | 49/100 [01:44<01:33,  1.84s/it]"
     ]
    },
    {
     "name": "stdout",
     "output_type": "stream",
     "text": [
      "1.800124254107988 3435.7181728235837 5270.5941282097965\n"
     ]
    },
    {
     "name": "stderr",
     "output_type": "stream",
     "text": [
      "\r",
      " 50%|████████████████████████████████████████████████████████████████████████████████████████████████████                                                                                                    | 50/100 [01:46<01:30,  1.81s/it]"
     ]
    },
    {
     "name": "stdout",
     "output_type": "stream",
     "text": [
      "1.8001248726737153 3435.695205362045 5270.559861999007\n"
     ]
    },
    {
     "name": "stderr",
     "output_type": "stream",
     "text": [
      "\r",
      " 51%|██████████████████████████████████████████████████████████████████████████████████████████████████████                                                                                                  | 51/100 [01:47<01:28,  1.80s/it]"
     ]
    },
    {
     "name": "stdout",
     "output_type": "stream",
     "text": [
      "1.800123815182245 3435.7120396805285 5270.584033271404\n"
     ]
    },
    {
     "name": "stderr",
     "output_type": "stream",
     "text": [
      "\r",
      " 52%|████████████████████████████████████████████████████████████████████████████████████████████████████████                                                                                                | 52/100 [01:49<01:24,  1.77s/it]"
     ]
    },
    {
     "name": "stdout",
     "output_type": "stream",
     "text": [
      "1.8001245470966938 3435.699427498367 5270.565829912371\n"
     ]
    },
    {
     "name": "stderr",
     "output_type": "stream",
     "text": [
      "\r",
      " 53%|██████████████████████████████████████████████████████████████████████████████████████████████████████████                                                                                              | 53/100 [01:51<01:24,  1.79s/it]"
     ]
    },
    {
     "name": "stdout",
     "output_type": "stream",
     "text": [
      "1.800123994435663 3435.708471657455 5270.578840007151\n"
     ]
    },
    {
     "name": "stderr",
     "output_type": "stream",
     "text": [
      "\r",
      " 54%|████████████████████████████████████████████████████████████████████████████████████████████████████████████                                                                                            | 54/100 [01:53<01:21,  1.77s/it]"
     ]
    },
    {
     "name": "stdout",
     "output_type": "stream",
     "text": [
      "1.8001243887594092 3435.706600256771 5270.576585760232\n"
     ]
    },
    {
     "name": "stderr",
     "output_type": "stream",
     "text": [
      "\r",
      " 55%|██████████████████████████████████████████████████████████████████████████████████████████████████████████████                                                                                          | 55/100 [01:54<01:18,  1.75s/it]"
     ]
    },
    {
     "name": "stdout",
     "output_type": "stream",
     "text": [
      "1.8001243271823775 3435.702188789988 5270.56972202417\n"
     ]
    },
    {
     "name": "stderr",
     "output_type": "stream",
     "text": [
      "\r",
      " 56%|████████████████████████████████████████████████████████████████████████████████████████████████████████████████                                                                                        | 56/100 [01:56<01:14,  1.69s/it]"
     ]
    },
    {
     "name": "stdout",
     "output_type": "stream",
     "text": [
      "1.800124111168641 3435.7124148532243 5270.585071633649\n"
     ]
    },
    {
     "name": "stderr",
     "output_type": "stream",
     "text": [
      "\r",
      " 57%|█████████████████████████████████████████████████████████████████████████████████████████████████████████████████▉                                                                                      | 57/100 [01:59<01:37,  2.27s/it]"
     ]
    },
    {
     "name": "stdout",
     "output_type": "stream",
     "text": [
      "1.8001245862538433 3435.714115176831 5270.588422907813\n"
     ]
    },
    {
     "name": "stderr",
     "output_type": "stream",
     "text": [
      "\r",
      " 58%|███████████████████████████████████████████████████████████████████████████████████████████████████████████████████▉                                                                                    | 58/100 [02:05<02:20,  3.35s/it]"
     ]
    },
    {
     "name": "stdout",
     "output_type": "stream",
     "text": [
      "1.8001247017808173 3435.7279355970177 5270.6098048960575\n"
     ]
    },
    {
     "name": "stderr",
     "output_type": "stream",
     "text": [
      "\r",
      " 59%|██████████████████████████████████████████████████████████████████████████████████████████████████████████████████████                                                                                  | 59/100 [02:13<03:04,  4.50s/it]"
     ]
    },
    {
     "name": "stdout",
     "output_type": "stream",
     "text": [
      "1.8001253729829592 3435.722208144162 5270.60206818774\n"
     ]
    },
    {
     "name": "stderr",
     "output_type": "stream",
     "text": [
      "\r",
      " 60%|████████████████████████████████████████████████████████████████████████████████████████████████████████████████████████                                                                                | 60/100 [02:19<03:23,  5.08s/it]"
     ]
    },
    {
     "name": "stdout",
     "output_type": "stream",
     "text": [
      "1.8001251462326786 3435.7361036731195 5270.623030189681\n"
     ]
    },
    {
     "name": "stderr",
     "output_type": "stream",
     "text": [
      "\r",
      " 61%|██████████████████████████████████████████████████████████████████████████████████████████████████████████████████████████                                                                              | 61/100 [02:23<03:09,  4.85s/it]"
     ]
    },
    {
     "name": "stdout",
     "output_type": "stream",
     "text": [
      "1.8001257965664288 3435.735578550695 5270.623241536597\n"
     ]
    },
    {
     "name": "stderr",
     "output_type": "stream",
     "text": [
      "\r",
      " 62%|████████████████████████████████████████████████████████████████████████████████████████████████████████████████████████████                                                                            | 62/100 [02:26<02:35,  4.10s/it]"
     ]
    },
    {
     "name": "stdout",
     "output_type": "stream",
     "text": [
      "1.8001258178714825 3435.7172979170236 5270.595231268616\n"
     ]
    },
    {
     "name": "stderr",
     "output_type": "stream",
     "text": [
      "\r",
      " 63%|██████████████████████████████████████████████████████████████████████████████████████████████████████████████████████████████                                                                          | 63/100 [02:28<02:07,  3.45s/it]"
     ]
    },
    {
     "name": "stdout",
     "output_type": "stream",
     "text": [
      "1.800124942503462 3435.719171413301 5270.596736532059\n"
     ]
    },
    {
     "name": "stderr",
     "output_type": "stream",
     "text": [
      "\r",
      " 64%|████████████████████████████████████████████████████████████████████████████████████████████████████████████████████████████████                                                                        | 64/100 [02:30<01:54,  3.18s/it]"
     ]
    },
    {
     "name": "stdout",
     "output_type": "stream",
     "text": [
      "1.8001249697896045 3435.7246314117233 5270.6051551595165\n"
     ]
    },
    {
     "name": "stderr",
     "output_type": "stream",
     "text": [
      "\r",
      " 65%|██████████████████████████████████████████████████████████████████████████████████████████████████████████████████████████████████                                                                      | 65/100 [02:33<01:44,  2.98s/it]"
     ]
    },
    {
     "name": "stdout",
     "output_type": "stream",
     "text": [
      "1.80012523364753 3435.732366974556 5270.617434561199\n"
     ]
    },
    {
     "name": "stderr",
     "output_type": "stream",
     "text": [
      "\r",
      " 66%|████████████████████████████████████████████████████████████████████████████████████████████████████████████████████████████████████                                                                    | 66/100 [02:35<01:33,  2.75s/it]"
     ]
    },
    {
     "name": "stdout",
     "output_type": "stream",
     "text": [
      "1.8001256235731387 3435.717071285588 5270.5945797828535\n"
     ]
    },
    {
     "name": "stderr",
     "output_type": "stream",
     "text": [
      "\r",
      " 67%|██████████████████████████████████████████████████████████████████████████████████████████████████████████████████████████████████████                                                                  | 67/100 [02:37<01:24,  2.57s/it]"
     ]
    },
    {
     "name": "stdout",
     "output_type": "stream",
     "text": [
      "1.8001249177413512 3435.729452500823 5270.612469609198\n"
     ]
    },
    {
     "name": "stderr",
     "output_type": "stream",
     "text": [
      "\r",
      " 68%|████████████████████████████████████████████████████████████████████████████████████████████████████████████████████████████████████████                                                                | 68/100 [02:39<01:14,  2.34s/it]"
     ]
    },
    {
     "name": "stdout",
     "output_type": "stream",
     "text": [
      "1.8001254611858517 3435.7239854912623 5270.604932664759\n"
     ]
    },
    {
     "name": "stderr",
     "output_type": "stream",
     "text": [
      "\r",
      " 69%|██████████████████████████████████████████████████████████████████████████████████████████████████████████████████████████████████████████                                                              | 69/100 [02:42<01:19,  2.56s/it]"
     ]
    },
    {
     "name": "stdout",
     "output_type": "stream",
     "text": [
      "1.8001252377950283 3435.728533148009 5270.611559728741\n"
     ]
    },
    {
     "name": "stderr",
     "output_type": "stream",
     "text": [
      "\r",
      " 70%|████████████████████████████████████████████████████████████████████████████████████████████████████████████████████████████████████████████                                                            | 70/100 [02:45<01:19,  2.66s/it]"
     ]
    },
    {
     "name": "stdout",
     "output_type": "stream",
     "text": [
      "1.8001254399675797 3435.710862449677 5270.584767959894\n"
     ]
    },
    {
     "name": "stderr",
     "output_type": "stream",
     "text": [
      "\r",
      " 71%|██████████████████████████████████████████████████████████████████████████████████████████████████████████████████████████████████████████████                                                          | 71/100 [02:46<01:08,  2.36s/it]"
     ]
    },
    {
     "name": "stdout",
     "output_type": "stream",
     "text": [
      "1.8001246067868173 3435.7161194279724 5270.591529654483\n"
     ]
    },
    {
     "name": "stderr",
     "output_type": "stream",
     "text": [
      "\r",
      " 72%|████████████████████████████████████████████████████████████████████████████████████████████████████████████████████████████████████████████████                                                        | 72/100 [02:48<00:59,  2.13s/it]"
     ]
    },
    {
     "name": "stdout",
     "output_type": "stream",
     "text": [
      "1.8001247993895126 3435.7361880183007 5270.622617227281\n"
     ]
    },
    {
     "name": "stderr",
     "output_type": "stream",
     "text": [
      "\r",
      " 73%|██████████████████████████████████████████████████████████████████████████████████████████████████████████████████████████████████████████████████                                                      | 73/100 [02:50<00:54,  2.01s/it]"
     ]
    },
    {
     "name": "stdout",
     "output_type": "stream",
     "text": [
      "1.8001257758155729 3435.743805416805 5270.63582959196\n"
     ]
    },
    {
     "name": "stderr",
     "output_type": "stream",
     "text": [
      "\r",
      " 74%|████████████████████████████████████████████████████████████████████████████████████████████████████████████████████████████████████████████████████                                                    | 74/100 [02:52<00:51,  2.00s/it]"
     ]
    },
    {
     "name": "stdout",
     "output_type": "stream",
     "text": [
      "1.800126211015809 3435.7428292434356 5270.635012600684\n"
     ]
    },
    {
     "name": "stderr",
     "output_type": "stream",
     "text": [
      "\r",
      " 75%|██████████████████████████████████████████████████████████████████████████████████████████████████████████████████████████████████████████████████████                                                  | 75/100 [02:53<00:46,  1.86s/it]"
     ]
    },
    {
     "name": "stdout",
     "output_type": "stream",
     "text": [
      "1.8001261953042589 3435.733075390956 5270.620025039183\n"
     ]
    },
    {
     "name": "stderr",
     "output_type": "stream",
     "text": [
      "\r",
      " 76%|████████████████████████████████████████████████████████████████████████████████████████████████████████████████████████████████████████████████████████                                                | 76/100 [02:55<00:43,  1.83s/it]"
     ]
    },
    {
     "name": "stdout",
     "output_type": "stream",
     "text": [
      "1.8001257263060335 3435.7331418764625 5270.619393668081\n"
     ]
    },
    {
     "name": "stderr",
     "output_type": "stream",
     "text": [
      "\r",
      " 77%|██████████████████████████████████████████████████████████████████████████████████████████████████████████████████████████████████████████████████████████                                              | 77/100 [02:57<00:41,  1.82s/it]"
     ]
    },
    {
     "name": "stdout",
     "output_type": "stream",
     "text": [
      "1.8001256959653187 3435.753220363971 5270.6501478209\n"
     ]
    },
    {
     "name": "stderr",
     "output_type": "stream",
     "text": [
      "\r",
      " 78%|████████████████████████████████████████████████████████████████████████████████████████████████████████████████████████████████████████████████████████████                                            | 78/100 [02:58<00:38,  1.73s/it]"
     ]
    },
    {
     "name": "stdout",
     "output_type": "stream",
     "text": [
      "1.8001266569242884 3435.74307671964 5270.636089505514\n"
     ]
    },
    {
     "name": "stderr",
     "output_type": "stream",
     "text": [
      "\r",
      " 79%|██████████████████████████████████████████████████████████████████████████████████████████████████████████████████████████████████████████████████████████████                                          | 79/100 [03:00<00:36,  1.74s/it]"
     ]
    },
    {
     "name": "stdout",
     "output_type": "stream",
     "text": [
      "1.800126239054558 3435.7349433724935 5270.622959046455\n"
     ]
    },
    {
     "name": "stderr",
     "output_type": "stream",
     "text": [
      "\r",
      " 80%|████████████████████████████████████████████████████████████████████████████████████████████████████████████████████████████████████████████████████████████████                                        | 80/100 [03:02<00:33,  1.67s/it]"
     ]
    },
    {
     "name": "stdout",
     "output_type": "stream",
     "text": [
      "1.8001258190377538 3435.7325080203454 5270.618566297924\n"
     ]
    },
    {
     "name": "stderr",
     "output_type": "stream",
     "text": [
      "\r",
      " 81%|██████████████████████████████████████████████████████████████████████████████████████████████████████████████████████████████████████████████████████████████████                                      | 81/100 [03:03<00:31,  1.66s/it]"
     ]
    },
    {
     "name": "stdout",
     "output_type": "stream",
     "text": [
      "1.8001256721900196 3435.7365438074257 5270.624527812077\n"
     ]
    },
    {
     "name": "stderr",
     "output_type": "stream",
     "text": [
      "\r",
      " 82%|████████████████████████████████████████████████████████████████████████████████████████████████████████████████████████████████████████████████████████████████████                                    | 82/100 [03:05<00:30,  1.67s/it]"
     ]
    },
    {
     "name": "stdout",
     "output_type": "stream",
     "text": [
      "1.800125855280974 3435.7307438516914 5270.6159166310235\n"
     ]
    },
    {
     "name": "stderr",
     "output_type": "stream",
     "text": [
      "\r",
      " 83%|██████████████████████████████████████████████████████████████████████████████████████████████████████████████████████████████████████████████████████████████████████                                  | 83/100 [03:07<00:29,  1.73s/it]"
     ]
    },
    {
     "name": "stdout",
     "output_type": "stream",
     "text": [
      "1.8001255901570992 3435.7222102184837 5270.602410960231\n"
     ]
    },
    {
     "name": "stderr",
     "output_type": "stream",
     "text": [
      "\r",
      " 84%|████████████████████████████████████████████████████████████████████████████████████████████████████████████████████████████████████████████████████████████████████████                                | 84/100 [03:09<00:28,  1.79s/it]"
     ]
    },
    {
     "name": "stdout",
     "output_type": "stream",
     "text": [
      "1.8001251618586822 3435.7351821937777 5270.621641019702\n"
     ]
    },
    {
     "name": "stderr",
     "output_type": "stream",
     "text": [
      "\r",
      " 85%|██████████████████████████████████████████████████████████████████████████████████████████████████████████████████████████████████████████████████████████████████████████                              | 85/100 [03:11<00:26,  1.80s/it]"
     ]
    },
    {
     "name": "stdout",
     "output_type": "stream",
     "text": [
      "1.80012575348186 3435.7298838354636 5270.614438133417\n"
     ]
    },
    {
     "name": "stderr",
     "output_type": "stream",
     "text": [
      "\r",
      " 86%|████████████████████████████████████████████████████████████████████████████████████████████████████████████████████████████████████████████████████████████████████████████                            | 86/100 [03:12<00:25,  1.82s/it]"
     ]
    },
    {
     "name": "stdout",
     "output_type": "stream",
     "text": [
      "1.8001255416257 3435.7265793239812 5270.6090375402655\n"
     ]
    },
    {
     "name": "stderr",
     "output_type": "stream",
     "text": [
      "\r",
      " 87%|██████████████████████████████████████████████████████████████████████████████████████████████████████████████████████████████████████████████████████████████████████████████                          | 87/100 [03:14<00:22,  1.75s/it]"
     ]
    },
    {
     "name": "stdout",
     "output_type": "stream",
     "text": [
      "1.8001253679677238 3435.7375198515524 5270.625549414464\n"
     ]
    },
    {
     "name": "stderr",
     "output_type": "stream",
     "text": [
      "\r",
      " 88%|████████████████████████████████████████████████████████████████████████████████████████████████████████████████████████████████████████████████████████████████████████████████                        | 88/100 [03:16<00:20,  1.73s/it]"
     ]
    },
    {
     "name": "stdout",
     "output_type": "stream",
     "text": [
      "1.800125880350496 3435.7306037830263 5270.615740957534\n"
     ]
    },
    {
     "name": "stderr",
     "output_type": "stream",
     "text": [
      "\r",
      " 89%|██████████████████████████████████████████████████████████████████████████████████████████████████████████████████████████████████████████████████████████████████████████████████                      | 89/100 [03:17<00:19,  1.75s/it]"
     ]
    },
    {
     "name": "stdout",
     "output_type": "stream",
     "text": [
      "1.8001255852304867 3435.716348798106 5270.5934114887805\n"
     ]
    },
    {
     "name": "stderr",
     "output_type": "stream",
     "text": [
      "\r",
      " 90%|████████████████████████████████████████████████████████████████████████████████████████████████████████████████████████████████████████████████████████████████████████████████████                    | 90/100 [03:19<00:18,  1.81s/it]"
     ]
    },
    {
     "name": "stdout",
     "output_type": "stream",
     "text": [
      "1.800124880343604 3435.7072883679643 5270.5784100387655\n"
     ]
    },
    {
     "name": "stderr",
     "output_type": "stream",
     "text": [
      "\r",
      " 91%|██████████████████████████████████████████████████████████████████████████████████████████████████████████████████████████████████████████████████████████████████████████████████████                  | 91/100 [03:24<00:22,  2.49s/it]"
     ]
    },
    {
     "name": "stdout",
     "output_type": "stream",
     "text": [
      "1.8001243953346362 3435.7139706189196 5270.587902612226\n"
     ]
    },
    {
     "name": "stderr",
     "output_type": "stream",
     "text": [
      "\r",
      " 92%|████████████████████████████████████████████████████████████████████████████████████████████████████████████████████████████████████████████████████████████████████████████████████████                | 92/100 [03:27<00:23,  2.92s/it]"
     ]
    },
    {
     "name": "stdout",
     "output_type": "stream",
     "text": [
      "1.8001246811973508 3435.708317074906 5270.579676737112\n"
     ]
    },
    {
     "name": "stderr",
     "output_type": "stream",
     "text": [
      "\r",
      " 93%|██████████████████████████████████████████████████████████████████████████████████████████████████████████████████████████████████████████████████████████████████████████████████████████              | 93/100 [03:31<00:21,  3.09s/it]"
     ]
    },
    {
     "name": "stdout",
     "output_type": "stream",
     "text": [
      "1.800124430442611 3435.701711401657 5270.569151147001\n"
     ]
    },
    {
     "name": "stderr",
     "output_type": "stream",
     "text": [
      "\r",
      " 94%|████████████████████████████████████████████████████████████████████████████████████████████████████████████████████████████████████████████████████████████████████████████████████████████            | 94/100 [03:34<00:18,  3.11s/it]"
     ]
    },
    {
     "name": "stdout",
     "output_type": "stream",
     "text": [
      "1.8001240956513267 3435.7011484592244 5270.567764058172\n"
     ]
    },
    {
     "name": "stderr",
     "output_type": "stream",
     "text": [
      "\r",
      " 95%|██████████████████████████████████████████████████████████████████████████████████████████████████████████████████████████████████████████████████████████████████████████████████████████████          | 95/100 [03:36<00:13,  2.78s/it]"
     ]
    },
    {
     "name": "stdout",
     "output_type": "stream",
     "text": [
      "1.8001240447128448 3435.6974270029536 5270.561975474308\n"
     ]
    },
    {
     "name": "stderr",
     "output_type": "stream",
     "text": [
      "\r",
      " 96%|████████████████████████████████████████████████████████████████████████████████████████████████████████████████████████████████████████████████████████████████████████████████████████████████        | 96/100 [03:38<00:09,  2.45s/it]"
     ]
    },
    {
     "name": "stdout",
     "output_type": "stream",
     "text": [
      "1.8001238625582032 3435.7100749176225 5270.5810932899685\n"
     ]
    },
    {
     "name": "stderr",
     "output_type": "stream",
     "text": [
      "\r",
      " 97%|██████████████████████████████████████████████████████████████████████████████████████████████████████████████████████████████████████████████████████████████████████████████████████████████████      | 97/100 [03:40<00:06,  2.30s/it]"
     ]
    },
    {
     "name": "stdout",
     "output_type": "stream",
     "text": [
      "1.8001244562369922 3435.709042562841 5270.580437914861\n"
     ]
    },
    {
     "name": "stderr",
     "output_type": "stream",
     "text": [
      "\r",
      " 98%|████████████████████████████████████████████████████████████████████████████████████████████████████████████████████████████████████████████████████████████████████████████████████████████████████    | 98/100 [03:42<00:04,  2.18s/it]"
     ]
    },
    {
     "name": "stdout",
     "output_type": "stream",
     "text": [
      "1.8001244491601995 3435.7191985723775 5270.5960067665865\n"
     ]
    },
    {
     "name": "stderr",
     "output_type": "stream",
     "text": [
      "\r",
      " 99%|██████████████████████████████████████████████████████████████████████████████████████████████████████████████████████████████████████████████████████████████████████████████████████████████████████  | 99/100 [03:44<00:02,  2.15s/it]"
     ]
    },
    {
     "name": "stdout",
     "output_type": "stream",
     "text": [
      "1.8001249358219233 3435.7288818689813 5270.61162249851\n"
     ]
    },
    {
     "name": "stderr",
     "output_type": "stream",
     "text": [
      "100%|███████████████████████████████████████████████████████████████████████████████████████████████████████████████████████████████████████████████████████████████████████████████████████████████████████| 100/100 [03:46<00:00,  2.26s/it]"
     ]
    },
    {
     "name": "stdout",
     "output_type": "stream",
     "text": [
      "1.8001254351062614 3435.7359595820553 5270.6232608516675\n"
     ]
    },
    {
     "name": "stderr",
     "output_type": "stream",
     "text": [
      "\n"
     ]
    }
   ],
   "source": [
    "nu,alpha,beta = em(times)"
   ]
  },
  {
   "cell_type": "code",
   "execution_count": 86,
   "id": "6e54c160",
   "metadata": {},
   "outputs": [
    {
     "data": {
      "text/plain": [
       "(297794.9981630469, 297795)"
      ]
     },
     "execution_count": 86,
     "metadata": {},
     "output_type": "execute_result"
    }
   ],
   "source": [
    "#https://math.stackexchange.com/a/4498377\n",
    "expected_number_events = nu*(times[-1]-times[0])/(1-alpha/beta) + (alpha*nu/(alpha-beta)**2)*(np.exp(-(times[-1]-times[0])*(beta-alpha))-1)\n",
    "expected_number_events, len(times)"
   ]
  },
  {
   "cell_type": "markdown",
   "id": "99128c94",
   "metadata": {},
   "source": [
    "# Multivariate"
   ]
  },
  {
   "cell_type": "markdown",
   "id": "ddc3d7af",
   "metadata": {},
   "source": [
    "\\begin{equation}\n",
    "\\log L(\\mathcal T;\\nu,\\alpha,\\beta,B) \\approx \\sum_{e}\\left(\\log(\\nu_e) \\left(\\sum_{j}B_{0,j} \\delta_{e,e_j}\\right) + \\sum_{e'} \\left(\\log(\\alpha_{e',e}) \\left(\\sum_{j}\\sum_{i>0} B_{i,j}\\delta_{e',e_i}\\delta_{e,e_j}\\right) + \\beta_{e',e} \\left(\\sum_{j}\\sum_{i>0} B_{i,j}(t_i-t_j)\\delta_{e',e_i}\\delta_{e,e_j}\\right) -\\nu_e (T)- \\frac{\\alpha_{e',e}}{\\beta_{e',e}}\\sum_i \\delta_{e',e_i}\\right)\\right)\n",
    "\\end{equation}\n",
    "\n",
    "where\n",
    "\\begin{equation}\n",
    "B_{i,j} = \\frac{1}{\\lambda_{e_j}(t_j)} \\cdot \\begin{cases}\\alpha_{e_i,e_j}\\exp(-\\beta_{e_i,e_j}(t_j-t_i)), & i>0\\\\ \\nu_{e_j}, & i=0\\end{cases}\n",
    "\\end{equation}"
   ]
  },
  {
   "cell_type": "code",
   "execution_count": 159,
   "id": "f56a1fbd",
   "metadata": {},
   "outputs": [],
   "source": [
    "import jax\n",
    "import jax.numpy as jnp\n",
    "import numpy as np\n",
    "import scipy as sp\n",
    "import scipy.optimize\n",
    "import tqdm\n",
    "def em(times, events, T=None, iters=100):\n",
    "    assert len(times) == len(events), (len(times),len(events))\n",
    "    times = times.copy() - times[0]\n",
    "    if T is None:\n",
    "        T = times[-1]\n",
    "    N_T = len(times)\n",
    "    num_event_types = len(set(events))\n",
    "        \n",
    "    nu = np.ones(num_event_types)\n",
    "    alpha = np.ones((num_event_types,num_event_types))\n",
    "    beta = 2*np.ones((num_event_types,num_event_types))\n",
    "    \n",
    "    for _ in tqdm.trange(iters):\n",
    "        #E step\n",
    "        sum_j_B_0_j = np.zeros(num_event_types)\n",
    "        sum_j_sum_i_B_i_j = np.zeros((num_event_types,num_event_types))\n",
    "        forwards_pass = np.zeros((num_event_types,num_event_types))\n",
    "        backwards_pass = np.zeros((num_event_types,num_event_types))\n",
    "        \n",
    "        intensities = np.zeros_like(times)\n",
    "        endo_intensity = np.zeros((num_event_types,num_event_types))\n",
    "        prev_t = 0\n",
    "        for j,(t,e) in enumerate(zip(times,events)):\n",
    "            endo_intensity *= np.exp(-beta*(t-prev_t))\n",
    "            intensities[j] = nu[e]+endo_intensity[:,e].sum()\n",
    "            B_0_j = nu[e]/intensities[j]\n",
    "            sum_j_B_0_j[e] += B_0_j\n",
    "            sum_i_B_i_j = endo_intensity[:,e]/intensities[j]\n",
    "            sum_j_sum_i_B_i_j[:,e] += sum_i_B_i_j\n",
    "            forwards_pass[:,e] += t*sum_i_B_i_j\n",
    "            endo_intensity[e,:] += alpha[e,:]\n",
    "            prev_t = t\n",
    "\n",
    "        sum_j_B_i_j = np.zeros((num_event_types,num_event_types))\n",
    "        next_t = T\n",
    "        for i,(t,e) in reversed(list(enumerate(zip(times,events)))):\n",
    "            sum_j_B_i_j *= np.exp(-beta*(next_t-t))\n",
    "            backwards_pass[e,:] += t*sum_j_B_i_j[e,:]\n",
    "            sum_j_B_i_j[:,e] += alpha[:,e]/intensities[i]\n",
    "            next_t = t\n",
    "            \n",
    "        #M step\n",
    "#         def partial_ll(log_nu,log_alpha,log_beta):\n",
    "#             return log_nu*(sum_j_B_0_j) + log_alpha*sum_j_sum_i_B_i_j + jnp.exp(log_beta)*(backwards_pass-forwards_pass) - jnp.exp(log_nu)*T - jnp.exp(log_alpha-log_beta)*N_T\n",
    "        \n",
    "#         print(sum_j_B_0_j, sum_j_sum_i_B_i_j, backwards_pass, forwards_pass, T, N_T)\n",
    "        \n",
    "#         starting_partial_ll = partial_ll(log_nu,log_alpha,log_beta)\n",
    "#         def loss(params):\n",
    "#             return -partial_ll(*params)/starting_partial_ll\n",
    "        \n",
    "#         print(intensities)\n",
    "#         print(loss([log_nu,log_alpha,log_beta]))\n",
    "#         print(jax.grad(loss)([log_nu,log_alpha,log_beta]))\n",
    "#         print(log_nu,log_alpha,log_beta)\n",
    "        \n",
    "        \n",
    "#         constraint = sp.optimize.LinearConstraint([[0,-1,1]], lb=[0], ub=[np.inf], keep_feasible=False)\n",
    "#         sol=sp.optimize.minimize(loss, jac=jax.grad(loss), x0=[log_nu,log_alpha,log_beta], constraints=constraint, method='trust-constr',options=dict(maxiter=2))\n",
    "#         print(sol)\n",
    "#         log_nu,log_alpha,log_beta = sol.x\n",
    "        beta_coef = backwards_pass-forwards_pass\n",
    "        #assert np.all(beta_coef<0), (beta_coef,beta_coef.max())\n",
    "        \n",
    "        nu = sum_j_B_0_j/T\n",
    "        alpha = np.nan_to_num(np.where(beta_coef<0,-sum_j_sum_i_B_i_j**2/(N_T*beta_coef),0))\n",
    "        beta = np.nan_to_num(np.where(beta_coef<0,-sum_j_sum_i_B_i_j/beta_coef,0))\n",
    "        beta = beta.clip(alpha,np.inf)\n",
    "\n",
    "        print(nu,alpha,beta)\n",
    "        plt.imshow(alpha/beta)\n",
    "        plt.show()\n",
    "        \n",
    "    return nu,alpha,beta"
   ]
  },
  {
   "cell_type": "code",
   "execution_count": 155,
   "id": "a5b06d7b",
   "metadata": {},
   "outputs": [
    {
     "data": {
      "text/plain": [
       "(array([1.80012544]), array([[3435.73595958]]), array([[5270.62326085]]))"
      ]
     },
     "execution_count": 155,
     "metadata": {},
     "output_type": "execute_result"
    }
   ],
   "source": [
    "nu,alpha,beta = em(times,np.zeros_like(times,dtype=int))"
   ]
  },
  {
   "cell_type": "code",
   "execution_count": 160,
   "id": "4965ce61",
   "metadata": {},
   "outputs": [
    {
     "name": "stderr",
     "output_type": "stream",
     "text": [
      "\r",
      "  0%|                                                                                                                                                                                                                 | 0/100 [00:00<?, ?it/s]"
     ]
    },
    {
     "name": "stdout",
     "output_type": "stream",
     "text": [
      "[4.18494741e-03 1.77371660e-02 3.71838644e-03 1.55171845e-02\n",
      " 7.48519814e-02 1.56751980e-02 6.99749087e-03 2.44730727e-02\n",
      " 7.66730086e-03 7.11264755e-03 9.98679225e-03 7.98556685e-03\n",
      " 2.44707191e-03 1.87098905e-02 3.45767008e-03 1.42762555e-03\n",
      " 5.26228422e-03 1.80936572e-03 1.28750072e-01 9.30691736e-02\n",
      " 1.29948700e-01 5.59781222e-03 1.35100427e-02 5.29780363e-03\n",
      " 1.19990729e-03 8.96101636e-03 1.36400350e-03 2.24994499e-03\n",
      " 4.61616695e-03 1.84602328e-03 1.64850231e-03 3.41437922e-03\n",
      " 1.23171175e-03 2.28471439e-03 5.38463968e-03 1.39765074e-03\n",
      " 4.59759970e-04 3.72743400e-03 6.41400041e-04 1.04453690e-05\n",
      " 5.63059469e-05 2.82826095e-05 3.52302575e-04 4.35046754e-03\n",
      " 4.03576757e-04 7.68548757e-05 5.00569149e-04 6.87276202e-05] [[3.66794680e-04 5.17305904e-03 6.86176527e-04 ... 5.99735650e-06\n",
      "  5.31636031e-05 3.30310997e-06]\n",
      " [7.39096598e-04 9.74366755e-02 9.51698195e-04 ... 5.96953134e-05\n",
      "  2.47087518e-03 1.02028819e-04]\n",
      " [2.99935845e-04 5.04136438e-03 2.60205392e-04 ... 7.15671200e-06\n",
      "  4.15956448e-05 3.15568160e-05]\n",
      " ...\n",
      " [5.69651449e-06 1.40729187e-05 1.90511967e-06 ... 3.40337062e-06\n",
      "  3.97154696e-04 4.08618332e-05]\n",
      " [1.84740429e-05 6.40843993e-04 1.88311706e-05 ... 3.89863181e-05\n",
      "  4.82689349e-04 3.14169942e-06]\n",
      " [1.02393542e-06 2.23513495e-05 3.50408954e-07 ... 1.52330769e-06\n",
      "  4.01156458e-06 7.90252811e-07]] [[  5.51682623   9.9175434   11.81502987 ...   4.88588402   5.99252657\n",
      "    4.17062681]\n",
      " [  3.39940154  12.33608089   4.36815773 ...   5.58650394  11.08200419\n",
      "   10.01771168]\n",
      " [  8.43598692  11.93956432   7.00246057 ...   4.94441755   5.94022974\n",
      "   49.39294489]\n",
      " ...\n",
      " [  5.26999982   3.54906346   2.05283215 ...   4.9546301  104.05371802\n",
      "  897.33364685]\n",
      " [  2.86847331   5.39063865   3.4998357  ...  11.00708693  10.19589163\n",
      "    4.87090562]\n",
      " [  1.85830064   3.94225434   1.86055607 ...   5.53768613   4.18349416\n",
      "   11.2122157 ]]\n"
     ]
    },
    {
     "name": "stderr",
     "output_type": "stream",
     "text": [
      "/var/folders/5l/jdr1h_pn3x3_7nt8kgthzmv00000gn/T/ipykernel_20956/2873065089.py:72: RuntimeWarning: invalid value encountered in divide\n",
      "  alpha = np.nan_to_num(np.where(beta_coef<0,-sum_j_sum_i_B_i_j**2/(N_T*beta_coef),0))\n",
      "/var/folders/5l/jdr1h_pn3x3_7nt8kgthzmv00000gn/T/ipykernel_20956/2873065089.py:73: RuntimeWarning: invalid value encountered in divide\n",
      "  beta = np.nan_to_num(np.where(beta_coef<0,-sum_j_sum_i_B_i_j/beta_coef,0))\n",
      "/var/folders/5l/jdr1h_pn3x3_7nt8kgthzmv00000gn/T/ipykernel_20956/2873065089.py:77: RuntimeWarning: invalid value encountered in divide\n",
      "  plt.imshow(alpha/beta)\n"
     ]
    },
    {
     "data": {
      "image/png": "[encoded data removed]",
      "text/plain": [
       "<Figure size 432x288 with 1 Axes>"
      ]
     },
     "metadata": {
      "needs_background": "light"
     },
     "output_type": "display_data"
    },
    {
     "name": "stderr",
     "output_type": "stream",
     "text": [
      "\r",
      "  1%|██                                                                                                                                                                                                       | 1/100 [00:20<33:00, 20.00s/it]"
     ]
    },
    {
     "name": "stdout",
     "output_type": "stream",
     "text": [
      "[8.65700063e-03 1.42978525e-02 7.58231571e-03 3.85326251e-02\n",
      " 8.03374027e-02 3.80973329e-02 1.48718672e-02 2.36159911e-02\n",
      " 1.54172807e-02 1.76673573e-02 2.33293559e-02 1.93258248e-02\n",
      " 5.36015356e-03 1.68136573e-02 7.44236685e-03 3.20308754e-03\n",
      " 7.37266672e-03 4.10304743e-03 3.05742558e-01 2.06093629e-01\n",
      " 3.10201939e-01 1.43094155e-02 2.90435449e-02 1.33582473e-02\n",
      " 2.66013997e-03 6.07720172e-03 2.93571188e-03 5.66538957e-03\n",
      " 1.04120138e-02 4.62886258e-03 4.00478802e-03 5.80395151e-03\n",
      " 2.85988311e-03 5.60825271e-03 1.19103011e-02 3.26870938e-03\n",
      " 1.04780624e-03 4.57879481e-03 1.57330842e-03 1.70670695e-05\n",
      " 5.04918675e-05 4.25980476e-05 7.46037795e-04 2.43958201e-03\n",
      " 8.10723498e-04 1.47739930e-04 3.31049988e-04 1.32419536e-04] [[3.80801091e-04 1.86462280e-02 4.01416179e-03 ... 8.16522019e-07\n",
      "  3.47872417e-06 2.42560256e-07]\n",
      " [5.88995056e-04 1.18040760e+00 1.25694400e-03 ... 1.31045838e-04\n",
      "  1.82099272e-02 2.84235599e-04]\n",
      " [9.47830482e-04 2.74735025e-02 5.12239450e-04 ... 8.44125733e-07\n",
      "  1.66002958e-06 1.14751759e-04]\n",
      " ...\n",
      " [9.17033074e-08 1.14868289e-08 2.92488171e-09 ... 3.26327913e-07\n",
      "  2.18773456e-01 1.83119850e-04]\n",
      " [2.42854948e-07 1.85149585e-05 7.29960961e-07 ... 6.31771503e-05\n",
      "  2.62651583e-03 2.40189296e-07]\n",
      " [9.15215752e-10 3.55948398e-08 9.85236568e-11 ... 4.84693454e-08\n",
      "  4.24761297e-08 1.66853462e-07]] [[2.80806387e+01 1.72372084e+02 1.60166040e+02 ... 9.89295987e+00\n",
      "  1.78590323e+01 6.34697023e+00]\n",
      " [5.76772530e+00 1.27909307e+02 1.02071190e+01 ... 1.70099017e+01\n",
      "  9.75122242e+01 3.04338483e+01]\n",
      " [1.51367237e+02 3.07368368e+02 7.87998600e+01 ... 7.07080369e+00\n",
      "  1.56698428e+01 6.98761527e+02]\n",
      " ...\n",
      " [2.15538731e+01 5.81850367e+00 2.34533863e+00 ... 8.42978915e+00\n",
      "  5.17026004e+04 1.13268667e+04]\n",
      " [3.25308138e+00 1.35573581e+01 8.08231603e+00 ... 3.48254697e+01\n",
      "  1.53111037e+02 5.51466151e+00]\n",
      " [1.61409193e+00 1.04908900e+01 1.56526089e+00 ... 9.66017071e+00\n",
      "  1.62684158e+01 3.71993826e+02]]\n"
     ]
    },
    {
     "data": {
      "image/png": "[encoded data removed]",
      "text/plain": [
       "<Figure size 432x288 with 1 Axes>"
      ]
     },
     "metadata": {
      "needs_background": "light"
     },
     "output_type": "display_data"
    },
    {
     "name": "stderr",
     "output_type": "stream",
     "text": [
      "\r",
      "  2%|████                                                                                                                                                                                                     | 2/100 [00:42<34:35, 21.18s/it]"
     ]
    },
    {
     "name": "stdout",
     "output_type": "stream",
     "text": [
      "[1.06423665e-02 1.40487151e-02 8.80478425e-03 5.10414756e-02\n",
      " 8.03664625e-02 4.99553493e-02 1.69811227e-02 2.41046709e-02\n",
      " 1.73691086e-02 2.41733719e-02 2.67949610e-02 2.51381369e-02\n",
      " 7.30337563e-03 1.73739202e-02 9.61123780e-03 4.24450078e-03\n",
      " 9.29943350e-03 5.56348960e-03 4.02937495e-01 2.65937713e-01\n",
      " 4.10531833e-01 1.98851825e-02 3.42224449e-02 1.82762715e-02\n",
      " 3.59895199e-03 5.85543847e-03 3.83789158e-03 7.67826848e-03\n",
      " 8.05484402e-03 6.03763251e-03 5.34702481e-03 5.20211781e-03\n",
      " 3.61550735e-03 7.39742826e-03 1.02868914e-02 4.27343084e-03\n",
      " 1.44520837e-03 4.63554925e-03 2.14697117e-03 2.27079525e-05\n",
      " 2.86935970e-05 3.56269697e-05 9.92572343e-04 2.17525742e-03\n",
      " 1.07794271e-03 1.74363250e-04 2.77678108e-04 1.78912441e-04] [[3.16993004e-03 9.34011221e-01 8.73925406e-02 ... 3.39763885e-08\n",
      "  3.25968278e-08 7.49055447e-09]\n",
      " [3.47911837e-04 9.65016241e+00 1.00768365e-03 ... 2.15801546e-04\n",
      "  6.47459921e-02 5.73217126e-04]\n",
      " [5.32445813e-02 3.38524681e+00 6.14973084e-03 ... 3.14154254e-08\n",
      "  1.01267147e-08 2.11342123e-04]\n",
      " ...\n",
      " [5.00269830e-10 1.47320780e-11 2.99101734e-12 ... 3.31326971e-08\n",
      "  1.06976159e+01 3.74190931e-02]\n",
      " [1.52030651e-09 4.41514882e-07 2.45013318e-08 ... 1.47394379e-04\n",
      "  6.61623916e-03 2.96879724e-08]\n",
      " [6.61246120e-13 3.93551671e-10 6.75678945e-14 ... 5.40096610e-10\n",
      "  7.77915207e-09 3.26703053e-08]] [[5.11963515e+02 3.52466608e+03 1.91895885e+03 ... 1.36842147e+01\n",
      "  8.87348055e+00 5.53147400e+00]\n",
      " [9.00130655e+00 1.02836128e+03 2.01818099e+01 ... 5.56622820e+01\n",
      "  6.35947026e+02 1.06807741e+02]\n",
      " [5.96008862e+03 1.19269068e+04 1.24042541e+03 ... 7.44469259e+00\n",
      "  7.11750325e+00 2.45830612e+03]\n",
      " ...\n",
      " [3.53251675e+01 9.12215115e+00 2.73477025e+00 ... 2.25873305e+01\n",
      "  6.73388490e+05 2.71903829e+06]\n",
      " [2.53184714e+00 2.40161760e+01 1.74703612e+01 ... 1.39238091e+02\n",
      "  6.26594304e+02 5.29445593e+00]\n",
      " [1.38602152e+00 7.30466374e+01 1.84187305e+00 ... 1.19197739e+01\n",
      "  3.98389484e+01 2.16326385e+03]]\n"
     ]
    },
    {
     "data": {
      "image/png": "[encoded data removed]",
      "text/plain": [
       "<Figure size 432x288 with 1 Axes>"
      ]
     },
     "metadata": {
      "needs_background": "light"
     },
     "output_type": "display_data"
    },
    {
     "name": "stderr",
     "output_type": "stream",
     "text": [
      "\r",
      "  3%|██████                                                                                                                                                                                                   | 3/100 [00:58<30:47, 19.04s/it]"
     ]
    },
    {
     "name": "stdout",
     "output_type": "stream",
     "text": [
      "[1.15447218e-02 1.59305077e-02 9.12801729e-03 5.55640015e-02\n",
      " 8.58565956e-02 5.42553392e-02 1.75431902e-02 2.51347052e-02\n",
      " 1.78097424e-02 2.69701115e-02 1.99912223e-02 2.72436313e-02\n",
      " 8.60332602e-03 1.77366569e-02 1.09832441e-02 4.82122585e-03\n",
      " 1.06336785e-02 6.40310198e-03 4.45026866e-01 2.84795489e-01\n",
      " 4.55053589e-01 2.23732066e-02 3.36737419e-02 2.03475193e-02\n",
      " 4.12452487e-03 6.57906466e-03 4.42438669e-03 8.23358583e-03\n",
      " 5.57811524e-03 6.54147011e-03 5.98560310e-03 5.62960819e-03\n",
      " 3.86289565e-03 7.99689726e-03 6.39757910e-03 4.61460516e-03\n",
      " 1.57335297e-03 4.98429574e-03 2.26732950e-03 2.90684999e-05\n",
      " 2.34964568e-05 3.10936461e-05 1.17835930e-03 2.65574259e-03\n",
      " 1.24655241e-03 1.60952885e-04 3.22365173e-04 1.89359929e-04] [[1.43214739e-01 2.05863733e+01 1.95335967e+00 ... 1.74181874e-09\n",
      "  3.04520723e-09 6.37748235e-10]\n",
      " [2.16942006e-04 5.14438974e+01 7.59860045e-04 ... 2.13283094e-04\n",
      "  1.59705953e-01 1.24069979e-03]\n",
      " [1.89955540e+00 3.52450981e+01 2.37518372e-01 ... 2.28806062e-10\n",
      "  8.85358430e-10 8.08337176e-05]\n",
      " ...\n",
      " [6.85473906e-13 4.93789766e-14 6.76255484e-15 ... 5.31536677e-08\n",
      "  2.39427627e+01 0.00000000e+00]\n",
      " [1.76504263e-11 2.71657050e-08 9.81962541e-10 ... 3.41416812e-04\n",
      "  3.04686886e-02 9.51444757e-09]\n",
      " [6.04160097e-16 1.73172485e-11 1.43433582e-16 ... 1.24583838e-12\n",
      "  5.08847616e-09 7.16952851e-09]] [[5.55587330e+03 3.27993725e+04 1.28418136e+04 ... 3.04527019e+01\n",
      "  5.97282455e+00 6.70957248e+00]\n",
      " [1.21819392e+01 4.49736500e+03 3.13011367e+01 ... 1.23636968e+02\n",
      "  2.33187418e+03 4.57933210e+02]\n",
      " [2.33275003e+04 5.19819708e+04 1.04794545e+04 ... 4.14776703e+00\n",
      "  6.34284406e+00 3.48380198e+03]\n",
      " ...\n",
      " [2.87977806e+01 1.53529154e+01 4.09247424e+00 ... 1.78610615e+03\n",
      "  1.08462160e+06 0.00000000e+00]\n",
      " [2.12394219e+00 4.19833386e+01 2.16477505e+01 ... 3.37369982e+02\n",
      "  2.35561467e+03 5.94797774e+00]\n",
      " [1.24226562e+00 2.63490039e+02 2.59737949e+00 ... 1.34339744e+01\n",
      "  7.34769678e+01 1.15033369e+04]]\n"
     ]
    },
    {
     "name": "stderr",
     "output_type": "stream",
     "text": [
      "/var/folders/5l/jdr1h_pn3x3_7nt8kgthzmv00000gn/T/ipykernel_20956/2873065089.py:72: RuntimeWarning: divide by zero encountered in divide\n",
      "  alpha = np.nan_to_num(np.where(beta_coef<0,-sum_j_sum_i_B_i_j**2/(N_T*beta_coef),0))\n",
      "/var/folders/5l/jdr1h_pn3x3_7nt8kgthzmv00000gn/T/ipykernel_20956/2873065089.py:73: RuntimeWarning: divide by zero encountered in divide\n",
      "  beta = np.nan_to_num(np.where(beta_coef<0,-sum_j_sum_i_B_i_j/beta_coef,0))\n"
     ]
    },
    {
     "data": {
      "image/png": "[encoded data removed]",
      "text/plain": [
       "<Figure size 432x288 with 1 Axes>"
      ]
     },
     "metadata": {
      "needs_background": "light"
     },
     "output_type": "display_data"
    },
    {
     "name": "stderr",
     "output_type": "stream",
     "text": [
      "\r",
      "  4%|████████                                                                                                                                                                                                 | 4/100 [01:14<28:35, 17.87s/it]"
     ]
    },
    {
     "name": "stdout",
     "output_type": "stream",
     "text": [
      "[1.19215819e-02 1.71572388e-02 9.25832778e-03 5.61663708e-02\n",
      " 9.65823507e-02 5.43142965e-02 1.74968352e-02 2.71662316e-02\n",
      " 1.78864851e-02 2.79733453e-02 1.91430457e-02 2.82851529e-02\n",
      " 9.30112248e-03 1.88237801e-02 1.17664647e-02 5.01466434e-03\n",
      " 1.07541584e-02 6.63161656e-03 4.60351815e-01 2.90726917e-01\n",
      " 4.71961171e-01 2.32015443e-02 3.21740779e-02 2.11339517e-02\n",
      " 4.38285067e-03 7.20917063e-03 4.72350018e-03 8.10952049e-03\n",
      " 5.25528082e-03 6.69756353e-03 6.28336878e-03 5.23802064e-03\n",
      " 3.89845931e-03 8.06432073e-03 6.70846844e-03 4.51737607e-03\n",
      " 1.66168274e-03 5.00946176e-03 2.38831850e-03 3.55444409e-05\n",
      " 2.06431702e-05 2.84485246e-05 1.28845325e-03 2.88075124e-03\n",
      " 1.31136462e-03 1.57465727e-04 3.18145906e-04 1.99118746e-04] [[1.39581807e+00 4.59070638e+01 1.08030159e+01 ... 1.02534191e-10\n",
      "  5.73655076e-10 1.23309242e-10]\n",
      " [1.47551301e-04 2.06450931e+02 8.93248277e-04 ... 6.30943860e-05\n",
      "  2.15411536e-01 9.76417379e-04]\n",
      " [7.35542945e+00 5.91730050e+01 1.33115305e+00 ... 2.49250431e-12\n",
      "  1.21245716e-10 8.11421414e-06]\n",
      " ...\n",
      " [8.48404022e-16 2.10959830e-16 1.71250605e-17 ... 3.79179867e-08\n",
      "  2.64757305e+01 0.00000000e+00]\n",
      " [2.05206337e-13 2.36091630e-09 4.68107993e-11 ... 4.91283421e-04\n",
      "  3.63847179e-01 3.48395638e-09]\n",
      " [5.99311930e-19 6.30542379e-13 3.70624176e-19 ... 4.61672691e-16\n",
      "  5.42953717e-09 5.80984510e-10]] [[1.54489002e+04 5.80845047e+04 4.41129086e+04 ... 3.92051629e+01\n",
      "  5.55491245e+00 1.15287617e+01]\n",
      " [1.54021262e+01 1.23947894e+04 4.55985937e+01 ... 1.19412572e+02\n",
      "  3.17009352e+03 6.79913850e+02]\n",
      " [5.20694788e+04 7.68746434e+04 2.16282331e+04 ... 2.55755744e+00\n",
      "  6.73054073e+00 3.65106344e+03]\n",
      " ...\n",
      " [1.76638006e+01 2.11071138e+01 5.47910486e+00 ... 6.87137419e+03\n",
      "  1.14812456e+06 0.00000000e+00]\n",
      " [1.93962353e+00 7.04679610e+01 2.48025715e+01 ... 4.42762119e+02\n",
      "  1.25144326e+04 6.70968706e+00]\n",
      " [1.15254373e+00 3.91395145e+02 3.01898892e+00 ... 1.53431356e+01\n",
      "  1.41098310e+02 2.28968601e+04]]\n"
     ]
    },
    {
     "data": {
      "image/png": "[encoded data removed]",
      "text/plain": [
       "<Figure size 432x288 with 1 Axes>"
      ]
     },
     "metadata": {
      "needs_background": "light"
     },
     "output_type": "display_data"
    },
    {
     "name": "stderr",
     "output_type": "stream",
     "text": [
      "\r",
      "  5%|██████████                                                                                                                                                                                               | 5/100 [01:32<28:07, 17.77s/it]"
     ]
    },
    {
     "name": "stdout",
     "output_type": "stream",
     "text": [
      "[1.23033909e-02 1.72139332e-02 9.27573325e-03 5.48081381e-02\n",
      " 1.00915191e-01 5.28875965e-02 1.71605657e-02 2.84602857e-02\n",
      " 1.77643490e-02 2.85411937e-02 1.99570584e-02 2.88666864e-02\n",
      " 9.51153772e-03 1.99469359e-02 1.19522241e-02 5.09307307e-03\n",
      " 1.02586116e-02 6.73955661e-03 4.64702869e-01 2.98189244e-01\n",
      " 4.76270131e-01 2.30168746e-02 3.33890286e-02 2.12798242e-02\n",
      " 4.53509110e-03 7.41441256e-03 4.89122337e-03 8.01044601e-03\n",
      " 5.40916002e-03 6.61585186e-03 6.42560045e-03 4.72305670e-03\n",
      " 3.89329674e-03 7.95333971e-03 6.91171152e-03 4.51578484e-03\n",
      " 1.74835115e-03 4.71522151e-03 2.49757252e-03 4.11794440e-05\n",
      " 2.32199155e-05 2.70950819e-05 1.32363100e-03 2.82718823e-03\n",
      " 1.32601666e-03 1.45872559e-04 3.23165831e-04 2.04610549e-04] [[2.45577573e+00 5.51436995e+01 2.03848833e+01 ... 4.16434966e-12\n",
      "  1.37307364e-10 2.56774979e-11]\n",
      " [1.52319306e-04 6.21642488e+02 1.81849751e-03 ... 1.94359893e-05\n",
      "  2.30729880e-01 5.46924489e-04]\n",
      " [1.20176578e+01 6.62090586e+01 2.78484972e+00 ... 5.05486231e-14\n",
      "  1.90389182e-11 5.16849084e-07]\n",
      " ...\n",
      " [1.91473873e-18 6.84727909e-19 4.22395280e-20 ... 1.43444540e-08\n",
      "  2.68876606e+01 0.00000000e+00]\n",
      " [2.51630230e-15 3.05452376e-10 3.52703221e-12 ... 4.26377357e-04\n",
      "  2.00369694e+00 1.28402412e-09]\n",
      " [6.12634252e-22 1.72116922e-14 9.74254240e-22 ... 1.18564038e-19\n",
      "  1.51468513e-08 1.94297384e-11]] [[2.17776156e+04 7.24270640e+04 7.40071481e+04 ... 3.95923588e+01\n",
      "  5.55861954e+00 1.69517213e+01]\n",
      " [2.25402227e+01 2.62461285e+04 7.23164306e+01 ... 1.25498336e+02\n",
      "  3.38145707e+03 7.04447441e+02]\n",
      " [8.51917148e+04 9.38096099e+04 3.67853624e+04 ... 2.46688848e+00\n",
      "  6.85772239e+00 3.26480524e+03]\n",
      " ...\n",
      " [1.39121885e+01 2.56734641e+01 6.58655317e+00 ... 1.09983602e+04\n",
      "  1.15740482e+06 0.00000000e+00]\n",
      " [1.89843601e+00 1.30578297e+02 3.35935230e+01 ... 4.70008561e+02\n",
      "  2.92735733e+04 7.41878764e+00]\n",
      " [1.08166519e+00 4.13643675e+02 3.13464316e+00 ... 1.83937812e+01\n",
      "  4.56943263e+02 2.42662412e+04]]\n"
     ]
    },
    {
     "data": {
      "image/png": "[encoded data removed]",
      "text/plain": [
       "<Figure size 432x288 with 1 Axes>"
      ]
     },
     "metadata": {
      "needs_background": "light"
     },
     "output_type": "display_data"
    },
    {
     "name": "stderr",
     "output_type": "stream",
     "text": [
      "\r",
      "  6%|████████████                                                                                                                                                                                             | 6/100 [01:50<28:22, 18.11s/it]"
     ]
    },
    {
     "name": "stdout",
     "output_type": "stream",
     "text": [
      "[1.22483573e-02 1.68744598e-02 9.29585606e-03 5.28248297e-02\n",
      " 9.96571593e-02 5.31525037e-02 1.70524671e-02 2.91669104e-02\n",
      " 1.75573293e-02 2.87282704e-02 2.01265680e-02 2.87640010e-02\n",
      " 9.86084327e-03 2.06046716e-02 1.18035912e-02 5.08613317e-03\n",
      " 9.83635998e-03 6.81737180e-03 4.66366063e-01 3.08613779e-01\n",
      " 4.76232462e-01 2.28419939e-02 3.42466498e-02 2.12181987e-02\n",
      " 4.61039643e-03 7.25933987e-03 4.96815604e-03 7.98626286e-03\n",
      " 5.62952965e-03 6.48747024e-03 6.49760981e-03 4.73988987e-03\n",
      " 3.85850002e-03 7.75231420e-03 6.84845358e-03 4.56153346e-03\n",
      " 1.77778543e-03 4.34394733e-03 2.57182577e-03 4.46495248e-05\n",
      " 1.86467416e-05 2.65859075e-05 1.34668648e-03 2.87094928e-03\n",
      " 1.32018114e-03 1.27536241e-04 3.30185630e-04 2.07467485e-04] [[2.82568588e+00 6.04121518e+01 2.41364920e+01 ... 9.48652728e-14\n",
      "  3.73173215e-11 4.93166805e-12]\n",
      " [2.69510258e-04 1.30910111e+03 4.94046078e-03 ... 7.31620117e-06\n",
      "  2.29608055e-01 2.75368731e-04]\n",
      " [1.20815400e+01 7.01462681e+01 3.95458669e+00 ... 1.15653808e-15\n",
      "  3.36640840e-12 3.16327657e-08]\n",
      " ...\n",
      " [5.30908872e-21 1.87716284e-21 1.00263138e-22 ... 5.17841645e-09\n",
      "  2.70572398e+01 0.00000000e+00]\n",
      " [2.47749625e-17 5.53841562e-11 3.65041544e-13 ... 1.62030028e-04\n",
      "  6.45602299e+00 4.65364240e-10]\n",
      " [6.21382057e-25 4.73095805e-16 2.68620659e-24 ... 3.04093780e-23\n",
      "  3.77795636e-06 5.10688292e-13]] [[2.65662455e+04 8.30475144e+04 9.01632030e+04 ... 4.10262162e+01\n",
      "  5.69012583e+00 2.11538003e+01]\n",
      " [4.09497072e+01 4.39803067e+04 1.13098759e+02 ... 1.93110349e+02\n",
      "  3.42502540e+03 6.10131180e+02]\n",
      " [9.24274100e+04 1.05204547e+05 5.01112012e+04 ... 2.53504670e+00\n",
      "  6.98961249e+00 2.82313758e+03]\n",
      " ...\n",
      " [1.28202904e+01 3.09745515e+01 7.33702026e+00 ... 1.53859589e+04\n",
      "  1.16106872e+06 0.00000000e+00]\n",
      " [1.91280316e+00 2.59705659e+02 5.18293150e+01 ... 4.32025000e+02\n",
      "  5.74539643e+04 8.00905917e+00]\n",
      " [1.03073067e+00 4.17494715e+02 3.11811940e+00 ... 2.22119342e+01\n",
      "  4.85039632e+04 2.39582206e+04]]\n"
     ]
    },
    {
     "data": {
      "image/png": "[encoded data removed]",
      "text/plain": [
       "<Figure size 432x288 with 1 Axes>"
      ]
     },
     "metadata": {
      "needs_background": "light"
     },
     "output_type": "display_data"
    },
    {
     "name": "stderr",
     "output_type": "stream",
     "text": [
      "\r",
      "  7%|██████████████                                                                                                                                                                                           | 7/100 [02:11<29:11, 18.84s/it]"
     ]
    },
    {
     "name": "stdout",
     "output_type": "stream",
     "text": [
      "[1.21081106e-02 1.63581144e-02 9.22245255e-03 5.26377707e-02\n",
      " 9.78897385e-02 5.25665303e-02 1.70333066e-02 2.91700541e-02\n",
      " 1.74536111e-02 2.84889814e-02 1.96573306e-02 2.82054732e-02\n",
      " 1.00197154e-02 2.06857684e-02 1.18984069e-02 5.03971972e-03\n",
      " 9.58439040e-03 6.82452291e-03 4.68227614e-01 3.18037228e-01\n",
      " 4.76264840e-01 2.28846897e-02 3.41317719e-02 2.11627171e-02\n",
      " 4.65244449e-03 7.09666014e-03 4.95004309e-03 7.99645543e-03\n",
      " 5.75867819e-03 6.48447595e-03 6.51772299e-03 4.74382625e-03\n",
      " 3.85535573e-03 7.67057994e-03 6.55520494e-03 4.61389036e-03\n",
      " 1.78924061e-03 4.19980439e-03 2.60454613e-03 4.53905389e-05\n",
      " 1.23906883e-05 2.65034499e-05 1.33455216e-03 2.93520363e-03\n",
      " 1.30593513e-03 1.20683917e-04 3.35514020e-04 2.08883656e-04] [[3.21368637e+00 6.60122938e+01 2.44849660e+01 ... 1.09931359e-15\n",
      "  1.07808842e-11 8.97805247e-13]\n",
      " [7.41102201e-04 1.98965729e+03 1.34194005e-02 ... 5.88180633e-06\n",
      "  2.21620241e-01 1.25593084e-04]\n",
      " [1.15226226e+01 7.30207807e+01 4.80415310e+00 ... 2.95736587e-17\n",
      "  6.46999665e-13 2.11142677e-09]\n",
      " ...\n",
      " [1.56469856e-23 4.65858641e-24 2.30423865e-25 ... 1.93403533e-09\n",
      "  2.72419115e+01 0.00000000e+00]\n",
      " [2.50812375e-19 1.12679788e-11 5.67010616e-14 ... 2.95413728e-05\n",
      "  1.57831588e+01 1.63656127e-10]\n",
      " [6.35429581e-28 1.40609987e-17 7.62782094e-27 ... 8.44212868e-27\n",
      "  4.54358151e-03 1.23660524e-14]] [[3.31376254e+04 9.27085472e+04 9.60335164e+04 ... 4.50416363e+01\n",
      "  5.87479277e+00 2.48551772e+01]\n",
      " [8.35195449e+01 5.99985519e+04 1.66596828e+02 ... 5.73080216e+02\n",
      "  3.41892526e+03 4.24137545e+02]\n",
      " [9.30683796e+04 1.10952217e+05 6.16796973e+04 ... 2.56928074e+00\n",
      "  7.22154380e+00 2.52034051e+03]\n",
      " ...\n",
      " [1.24387453e+01 3.79433604e+01 7.79792214e+00 ... 2.05823847e+04\n",
      "  1.16500441e+06 0.00000000e+00]\n",
      " [1.95997013e+00 5.05087159e+02 1.02583019e+02 ... 3.30236047e+02\n",
      "  1.07228216e+05 8.43716290e+00]\n",
      " [9.94907524e-01 4.19831983e+02 3.11239366e+00 ... 2.81274561e+01\n",
      "  2.99651875e+05 2.35441423e+04]]\n"
     ]
    },
    {
     "data": {
      "image/png": "[encoded data removed]",
      "text/plain": [
       "<Figure size 432x288 with 1 Axes>"
      ]
     },
     "metadata": {
      "needs_background": "light"
     },
     "output_type": "display_data"
    },
    {
     "name": "stderr",
     "output_type": "stream",
     "text": [
      "\r",
      "  8%|████████████████                                                                                                                                                                                         | 8/100 [02:31<29:33, 19.27s/it]"
     ]
    },
    {
     "name": "stdout",
     "output_type": "stream",
     "text": [
      "[1.20130554e-02 1.59500942e-02 9.09551216e-03 5.27799674e-02\n",
      " 9.73472978e-02 5.28733976e-02 1.70017714e-02 2.92853856e-02\n",
      " 1.73275413e-02 2.81733232e-02 1.90850513e-02 2.77321989e-02\n",
      " 9.94498138e-03 2.05490538e-02 1.19883003e-02 4.92860891e-03\n",
      " 9.37227768e-03 6.78640948e-03 4.70207620e-01 3.23313261e-01\n",
      " 4.77243319e-01 2.29482097e-02 3.31205960e-02 2.10788379e-02\n",
      " 4.62710524e-03 7.13118414e-03 4.85137545e-03 7.96482163e-03\n",
      " 5.78071441e-03 6.48903928e-03 6.50059823e-03 4.63972199e-03\n",
      " 3.85151913e-03 7.65042596e-03 6.25594902e-03 4.64796683e-03\n",
      " 1.78102404e-03 4.13305370e-03 2.62894467e-03 4.43945121e-05\n",
      " 7.45378643e-06 2.66140168e-05 1.29645545e-03 3.08954298e-03\n",
      " 1.29925722e-03 1.21359615e-04 3.33824333e-04 2.09561657e-04] [[3.92050692e+00 7.16608282e+01 2.40452039e+01 ... 9.64403707e-18\n",
      "  3.39351192e-12 1.56737343e-13]\n",
      " [3.00035056e-03 2.44084956e+03 2.93429382e-02 ... 6.37116593e-06\n",
      "  2.08770824e-01 6.27518712e-05]\n",
      " [1.11808904e+01 7.45543564e+01 5.75340603e+00 ... 7.88794323e-19\n",
      "  1.37927121e-13 1.53591709e-10]\n",
      " ...\n",
      " [4.59422570e-26 9.82489469e-27 5.23789730e-28 ... 7.62106874e-10\n",
      "  2.74113164e+01 0.00000000e+00]\n",
      " [2.68025895e-21 2.53208778e-12 1.58345608e-14 ... 5.07231279e-06\n",
      "  3.03005692e+01 5.56829713e-11]\n",
      " [6.68056023e-31 4.51333438e-19 2.18818414e-29 ... 2.97752906e-30\n",
      "  6.90642327e-01 2.92865663e-16]] [[4.32422186e+04 1.01774119e+05 9.78984588e+04 ... 4.88647590e+01\n",
      "  6.26378750e+00 2.84155334e+01]\n",
      " [1.77135480e+02 7.07487372e+04 2.27450713e+02 ... 1.16374112e+03\n",
      "  3.38561225e+03 2.46024827e+02]\n",
      " [9.31128357e+04 1.13188530e+05 7.65127568e+04 ... 2.57525283e+00\n",
      "  7.61338005e+00 2.36724565e+03]\n",
      " ...\n",
      " [1.21772137e+01 4.40540153e+01 8.06721731e+00 ... 2.71092198e+04\n",
      "  1.16860688e+06 0.00000000e+00]\n",
      " [2.04156074e+00 9.81436157e+02 2.66839448e+02 ... 2.37594773e+02\n",
      "  1.79678739e+05 8.70419204e+00]\n",
      " [9.82110709e-01 4.21129090e+02 3.10896932e+00 ... 4.23879163e+01\n",
      "  2.99816914e+05 2.32914637e+04]]\n"
     ]
    },
    {
     "data": {
      "image/png": "[encoded data removed]",
      "text/plain": [
       "<Figure size 432x288 with 1 Axes>"
      ]
     },
     "metadata": {
      "needs_background": "light"
     },
     "output_type": "display_data"
    },
    {
     "name": "stderr",
     "output_type": "stream",
     "text": [
      "\r",
      "  9%|██████████████████                                                                                                                                                                                       | 9/100 [02:49<28:41, 18.91s/it]"
     ]
    },
    {
     "name": "stdout",
     "output_type": "stream",
     "text": [
      "[1.18041691e-02 1.58572164e-02 9.00323899e-03 5.29312813e-02\n",
      " 9.61601189e-02 5.32216768e-02 1.69437539e-02 2.91988351e-02\n",
      " 1.71328358e-02 2.79907934e-02 1.85254394e-02 2.74024187e-02\n",
      " 9.80019135e-03 2.01884871e-02 1.19661985e-02 4.75208740e-03\n",
      " 9.17395675e-03 6.71059229e-03 4.72106289e-01 3.21100853e-01\n",
      " 4.78731704e-01 2.29961552e-02 3.24019332e-02 2.09988558e-02\n",
      " 4.61412227e-03 7.54510697e-03 4.73142901e-03 7.94899902e-03\n",
      " 5.79518635e-03 6.46336448e-03 6.52278428e-03 4.54411547e-03\n",
      " 3.87463954e-03 7.62896840e-03 6.12771306e-03 4.65786254e-03\n",
      " 1.76784707e-03 4.09812656e-03 2.63925725e-03 4.25639105e-05\n",
      " 4.26617628e-06 2.68063661e-05 1.24215208e-03 3.17360397e-03\n",
      " 1.30228338e-03 1.22269743e-04 3.35186760e-04 2.09906807e-04] [[5.28707681e+00 7.59810474e+01 2.35757995e+01 ... 7.58273436e-20\n",
      "  1.09057823e-12 2.63793160e-14]\n",
      " [1.33623698e-02 2.68414827e+03 4.84552195e-02 ... 5.45442652e-06\n",
      "  1.89147592e-01 5.45028638e-05]\n",
      " [1.10336631e+01 7.51708003e+01 6.62848755e+00 ... 2.08786674e-20\n",
      "  3.00175439e-14 1.16797837e-11]\n",
      " ...\n",
      " [1.29237430e-28 1.72782935e-29 1.19527635e-30 ... 3.15199483e-10\n",
      "  2.74573085e+01 0.00000000e+00]\n",
      " [2.86424073e-23 7.75327731e-13 6.72115405e-15 ... 1.14216006e-06\n",
      "  4.91169455e+01 1.84271405e-11]\n",
      " [7.13283922e-34 1.51405186e-20 6.30285136e-32 ... 2.77881347e-33\n",
      "  1.17955258e+00 6.90950601e-18]] [[6.08076347e+04 1.09076201e+05 9.85658929e+04 ... 5.13416896e+01\n",
      "  6.46973974e+00 3.18870684e+01]\n",
      " [3.40899259e+02 7.69376484e+04 2.85712769e+02 ... 1.44893727e+03\n",
      "  3.32260506e+03 1.75758260e+02]\n",
      " [9.36505825e+04 1.14024517e+05 9.08466109e+04 ... 2.57656526e+00\n",
      "  7.75161800e+00 2.30331473e+03]\n",
      " ...\n",
      " [1.18344618e+01 4.72449749e+01 8.22209140e+00 ... 3.51756853e+04\n",
      "  1.16957545e+06 0.00000000e+00]\n",
      " [2.11985427e+00 2.20440339e+03 6.31784664e+02 ... 1.99604743e+02\n",
      "  2.78820332e+05 8.84644195e+00]\n",
      " [9.91893862e-01 4.21625437e+02 3.09328488e+00 ... 1.36827633e+02\n",
      "  3.10843448e+05 2.31747451e+04]]\n"
     ]
    },
    {
     "data": {
      "image/png": "[encoded data removed]",
      "text/plain": [
       "<Figure size 432x288 with 1 Axes>"
      ]
     },
     "metadata": {
      "needs_background": "light"
     },
     "output_type": "display_data"
    },
    {
     "name": "stderr",
     "output_type": "stream",
     "text": [
      "\r",
      " 10%|████████████████████                                                                                                                                                                                    | 10/100 [03:11<29:36, 19.74s/it]"
     ]
    },
    {
     "name": "stdout",
     "output_type": "stream",
     "text": [
      "[1.15319149e-02 1.59406513e-02 8.95197939e-03 5.30313017e-02\n",
      " 9.52643251e-02 5.33817691e-02 1.68455571e-02 2.90498664e-02\n",
      " 1.70046917e-02 2.78645134e-02 1.80971070e-02 2.71006408e-02\n",
      " 9.69914738e-03 1.99386233e-02 1.18975647e-02 4.59553883e-03\n",
      " 9.08661666e-03 6.62329785e-03 4.73733669e-01 3.09993072e-01\n",
      " 4.80258611e-01 2.30118740e-02 3.23381136e-02 2.08649679e-02\n",
      " 4.48724894e-03 7.78421541e-03 4.60638975e-03 7.92823724e-03\n",
      " 5.71919355e-03 6.44320126e-03 6.49747513e-03 4.41907174e-03\n",
      " 3.88642753e-03 7.58065244e-03 6.07207761e-03 4.64975954e-03\n",
      " 1.76148650e-03 4.07286519e-03 2.62351586e-03 4.04297833e-05\n",
      " 2.37314632e-06 2.70325102e-05 1.20587943e-03 3.26699114e-03\n",
      " 1.31098183e-03 1.22831134e-04 3.20221124e-04 2.10088114e-04] [[7.45625114e+00 7.81381404e+01 2.32063700e+01 ... 5.62125738e-22\n",
      "  3.29445115e-13 4.29651962e-15]\n",
      " [4.29895436e-02 2.80485961e+03 6.55182466e-02 ... 4.26729842e-06\n",
      "  1.55635598e-01 6.62517839e-05]\n",
      " [1.09956095e+01 7.52940609e+01 7.00190699e+00 ... 5.48341807e-22\n",
      "  6.09736447e-15 9.03361570e-13]\n",
      " ...\n",
      " [3.45904153e-31 2.54614807e-32 2.74393276e-33 ... 1.31499702e-10\n",
      "  2.72084662e+01 0.00000000e+00]\n",
      " [2.96657566e-25 3.22709236e-13 3.38138659e-15 ... 3.01678540e-07\n",
      "  7.19171964e+01 5.98300733e-12]\n",
      " [7.68251857e-37 5.12280792e-22 1.80387641e-34 ... 2.71681897e-33\n",
      "  1.13525954e+00 1.62915400e-19]] [[8.73835652e+04 1.13671643e+05 9.88613235e+04 ... 5.30898329e+01\n",
      "  6.46168757e+00 3.51633141e+01]\n",
      " [5.39226334e+02 8.03043468e+04 3.37557532e+02 ... 1.59790798e+03\n",
      "  3.19717109e+03 1.61983031e+02]\n",
      " [9.49776604e+04 1.14379725e+05 9.80099398e+04 ... 2.57718240e+00\n",
      "  7.62466398e+00 2.27917336e+03]\n",
      " ...\n",
      " [1.13606253e+01 4.72341341e+01 8.31206174e+00 ... 4.36011849e+04\n",
      "  1.16428054e+06 0.00000000e+00]\n",
      " [2.16230093e+00 5.00247821e+03 1.15904155e+03 ... 1.88692169e+02\n",
      "  4.10703964e+05 8.90931062e+00]\n",
      " [1.01342122e+00 4.21598070e+02 3.06411959e+00 ... 1.55036428e+05\n",
      "  3.06992079e+05 2.31232811e+04]]\n"
     ]
    },
    {
     "data": {
      "image/png": "[encoded data removed]",
      "text/plain": [
       "<Figure size 432x288 with 1 Axes>"
      ]
     },
     "metadata": {
      "needs_background": "light"
     },
     "output_type": "display_data"
    },
    {
     "name": "stderr",
     "output_type": "stream",
     "text": [
      "\r",
      " 11%|██████████████████████                                                                                                                                                                                  | 11/100 [03:30<28:55, 19.50s/it]"
     ]
    },
    {
     "name": "stdout",
     "output_type": "stream",
     "text": [
      "[1.13350257e-02 1.61337099e-02 8.92411298e-03 5.30577800e-02\n",
      " 9.51386567e-02 5.35504222e-02 1.67311608e-02 2.90691119e-02\n",
      " 1.69088598e-02 2.77054851e-02 1.77202482e-02 2.66613383e-02\n",
      " 9.64673269e-03 1.99171204e-02 1.18356336e-02 4.50873820e-03\n",
      " 9.09307929e-03 6.52419414e-03 4.74804029e-01 2.97625777e-01\n",
      " 4.81342741e-01 2.29635337e-02 3.25259053e-02 2.05770657e-02\n",
      " 4.29323450e-03 7.94111677e-03 4.54848978e-03 7.89751381e-03\n",
      " 5.58800433e-03 6.33412472e-03 6.40199539e-03 4.35471137e-03\n",
      " 3.87003827e-03 7.55775830e-03 6.07826124e-03 4.62826955e-03\n",
      " 1.75751554e-03 4.07796702e-03 2.59643731e-03 3.82667895e-05\n",
      " 1.29636934e-06 2.72742620e-05 1.19880073e-03 3.28632635e-03\n",
      " 1.31649969e-03 1.23235399e-04 2.99509539e-04 2.10090537e-04] [[8.74680323e+00 7.85083769e+01 2.29566817e+01 ... 4.00784723e-24\n",
      "  1.00638017e-13 6.77009270e-16]\n",
      " [8.58931768e-02 2.85997897e+03 7.92530205e-02 ... 3.20472613e-06\n",
      "  1.14733777e-01 8.61002691e-05]\n",
      " [1.09989646e+01 7.51662929e+01 7.06704910e+00 ... 1.43336577e-23\n",
      "  1.29519652e-15 7.01425713e-14]\n",
      " ...\n",
      " [9.03068279e-34 2.96088647e-35 6.32431934e-36 ... 5.25908617e-11\n",
      "  2.68532007e+01 0.00000000e+00]\n",
      " [3.03480332e-27 1.30174762e-13 1.36060612e-15 ... 8.39149339e-08\n",
      "  9.95557295e+01 1.92122864e-12]\n",
      " [8.34505936e-40 1.72405580e-23 5.05545415e-37 ... 1.33776133e-33\n",
      "  1.05555519e+00 3.83929898e-21]] [[1.02666240e+05 1.15965558e+05 9.90719843e+04 ... 5.45070856e+01\n",
      "  6.42077862e+00 3.80346367e+01]\n",
      " [7.25862676e+02 8.20843084e+04 3.85471707e+02 ... 1.68094454e+03\n",
      "  3.00121734e+03 1.59964725e+02]\n",
      " [9.67838874e+04 1.14563373e+05 1.00549801e+05 ... 2.57763301e+00\n",
      "  7.60007884e+00 2.27159710e+03]\n",
      " ...\n",
      " [1.08852130e+01 4.38030224e+01 8.36412422e+00 ... 5.00558232e+04\n",
      "  1.15679246e+06 0.00000000e+00]\n",
      " [2.18615117e+00 8.29343435e+03 1.46840273e+03 ... 1.85329429e+02\n",
      "  5.89771470e+05 8.92671867e+00]\n",
      " [1.03822306e+00 4.21499844e+02 3.01957626e+00 ... 1.82361334e+05\n",
      "  3.01414871e+05 2.30960841e+04]]\n"
     ]
    },
    {
     "data": {
      "image/png": "[encoded data removed]",
      "text/plain": [
       "<Figure size 432x288 with 1 Axes>"
      ]
     },
     "metadata": {
      "needs_background": "light"
     },
     "output_type": "display_data"
    },
    {
     "name": "stderr",
     "output_type": "stream",
     "text": [
      "\r",
      " 12%|████████████████████████                                                                                                                                                                                | 12/100 [03:58<32:35, 22.22s/it]"
     ]
    },
    {
     "name": "stdout",
     "output_type": "stream",
     "text": [
      "[1.12238550e-02 1.63122062e-02 8.89375402e-03 5.29346573e-02\n",
      " 9.55606002e-02 5.36435468e-02 1.66150853e-02 2.91784228e-02\n",
      " 1.68493443e-02 2.74809716e-02 1.73812080e-02 2.61227472e-02\n",
      " 9.60891822e-03 2.00304418e-02 1.17900125e-02 4.47616970e-03\n",
      " 9.14406958e-03 6.38024828e-03 4.75242878e-01 2.89096834e-01\n",
      " 4.81850872e-01 2.28482673e-02 3.27631709e-02 2.00664783e-02\n",
      " 4.17936178e-03 8.07269941e-03 4.52873649e-03 7.87966715e-03\n",
      " 5.46991409e-03 6.24970680e-03 6.38740571e-03 4.36198578e-03\n",
      " 3.82699512e-03 7.54480637e-03 6.12717777e-03 4.59501126e-03\n",
      " 1.75318911e-03 4.11305154e-03 2.56233189e-03 3.62055266e-05\n",
      " 6.99364251e-07 2.75271480e-05 1.20213442e-03 3.26714608e-03\n",
      " 1.32272337e-03 1.23638948e-04 2.87727559e-04 2.09719108e-04] [[9.15870808e+00 7.80798428e+01 2.28050769e+01 ... 2.77425124e-26\n",
      "  3.20860044e-14 1.02786110e-16]\n",
      " [1.25708084e-01 2.87877134e+03 9.04876911e-02 ... 2.35729082e-06\n",
      "  8.69444434e-02 1.12048865e-04]\n",
      " [1.10486932e+01 7.49672139e+01 7.04372690e+00 ... 3.73423699e-25\n",
      "  2.83609708e-16 5.43234745e-15]\n",
      " ...\n",
      " [2.34760092e-36 2.42439614e-38 1.46099345e-38 ... 1.99423527e-11\n",
      "  2.72925873e+01 0.00000000e+00]\n",
      " [3.10628778e-29 4.17033848e-14 4.40645393e-16 ... 2.36930509e-08\n",
      "  1.29069168e+02 6.13801490e-13]\n",
      " [9.07071961e-43 5.74096980e-25 1.37053843e-39 ... 5.67594353e-34\n",
      "  1.03362494e+00 9.03998921e-23]] [[1.08272190e+05 1.16989433e+05 9.93014714e+04 ... 5.57861405e+01\n",
      "  6.39644008e+00 4.02930273e+01]\n",
      " [8.90606854e+02 8.29733585e+04 4.34131918e+02 ... 1.72979278e+03\n",
      "  2.83270642e+03 1.59906605e+02]\n",
      " [9.87665489e+04 1.14655154e+05 1.01461144e+05 ... 2.57803386e+00\n",
      "  7.51906744e+00 2.27133389e+03]\n",
      " ...\n",
      " [1.05181819e+01 3.57954860e+01 8.39356332e+00 ... 5.37639627e+04\n",
      "  1.16637432e+06 0.00000000e+00]\n",
      " [2.20993873e+00 1.03816141e+04 1.60735613e+03 ... 1.83871065e+02\n",
      "  8.03684522e+05 8.91994104e+00]\n",
      " [1.06291485e+00 4.21618578e+02 2.95944237e+00 ... 1.82360884e+05\n",
      "  2.99789593e+05 2.30745364e+04]]\n"
     ]
    },
    {
     "data": {
      "image/png": "[encoded data removed]",
      "text/plain": [
       "<Figure size 432x288 with 1 Axes>"
      ]
     },
     "metadata": {
      "needs_background": "light"
     },
     "output_type": "display_data"
    },
    {
     "name": "stderr",
     "output_type": "stream",
     "text": [
      "\r",
      " 13%|██████████████████████████                                                                                                                                                                              | 13/100 [04:14<29:27, 20.31s/it]"
     ]
    },
    {
     "name": "stdout",
     "output_type": "stream",
     "text": [
      "[1.11500595e-02 1.64695638e-02 8.83690731e-03 5.25249001e-02\n",
      " 9.61494071e-02 5.36603097e-02 1.65070467e-02 2.92723654e-02\n",
      " 1.67646666e-02 2.71106269e-02 1.71572953e-02 2.57538084e-02\n",
      " 9.55611283e-03 2.01867506e-02 1.17573639e-02 4.48027425e-03\n",
      " 9.20393073e-03 6.23054506e-03 4.75019584e-01 2.88367479e-01\n",
      " 4.81736464e-01 2.26808375e-02 3.29830858e-02 1.96266128e-02\n",
      " 4.14137610e-03 8.16200980e-03 4.52767357e-03 7.86980430e-03\n",
      " 5.40086246e-03 6.17459939e-03 6.41938412e-03 4.41224733e-03\n",
      " 3.78014287e-03 7.53694898e-03 6.11197062e-03 4.55329130e-03\n",
      " 1.74837247e-03 4.16380948e-03 2.53149191e-03 3.43011442e-05\n",
      " 3.73828125e-07 2.77933644e-05 1.20601129e-03 3.19901205e-03\n",
      " 1.32809846e-03 1.24147903e-04 2.81982539e-04 2.08472383e-04] [[9.25830514e+00 7.75475346e+01 2.27182618e+01 ... 1.87363639e-28\n",
      "  1.04648022e-14 1.48809572e-17]\n",
      " [1.57346765e-01 2.87617647e+03 1.00905478e-01 ... 1.71448485e-06\n",
      "  7.41273809e-02 1.44034281e-04]\n",
      " [1.10991211e+01 7.47841322e+01 7.00196036e+00 ... 9.69622667e-27\n",
      "  6.32706005e-17 4.18090192e-16]\n",
      " ...\n",
      " [6.14803173e-39 1.62137052e-41 3.38786510e-41 ... 7.30223366e-12\n",
      "  2.83039310e+01 0.00000000e+00]\n",
      " [3.19221221e-31 1.10849322e-14 1.17887158e-16 ... 6.71136527e-09\n",
      "  1.47103225e+02 1.95520833e-13]\n",
      " [9.78370930e-46 1.89789555e-26 3.58472626e-42 ... 2.41018298e-34\n",
      "  1.02896442e+00 2.12589970e-24]] [[1.10277069e+05 1.17447541e+05 9.96014034e+04 ... 5.70364643e+01\n",
      "  6.38826863e+00 4.18248288e+01]\n",
      " [1.03773447e+03 8.33286263e+04 4.89862912e+02 ... 1.76022183e+03\n",
      "  2.73154201e+03 1.60248446e+02]\n",
      " [1.00253445e+05 1.14628903e+05 1.01896118e+05 ... 2.57842708e+00\n",
      "  7.45993137e+00 2.27472708e+03]\n",
      " ...\n",
      " [1.02899470e+01 2.51070446e+01 8.41228991e+00 ... 5.55756719e+04\n",
      "  1.18789228e+06 0.00000000e+00]\n",
      " [2.24361852e+00 1.14176650e+04 1.67995040e+03 ... 1.82976064e+02\n",
      "  9.49911531e+05 8.90430948e+00]\n",
      " [1.08504413e+00 4.22069738e+02 2.89020923e+00 ... 1.82361049e+05\n",
      "  2.99301397e+05 2.30504720e+04]]\n"
     ]
    },
    {
     "data": {
      "image/png": "[encoded data removed]",
      "text/plain": [
       "<Figure size 432x288 with 1 Axes>"
      ]
     },
     "metadata": {
      "needs_background": "light"
     },
     "output_type": "display_data"
    },
    {
     "name": "stderr",
     "output_type": "stream",
     "text": [
      "\r",
      " 14%|████████████████████████████                                                                                                                                                                            | 14/100 [04:40<31:46, 22.17s/it]"
     ]
    },
    {
     "name": "stdout",
     "output_type": "stream",
     "text": [
      "[1.10910647e-02 1.66125108e-02 8.71985235e-03 5.18612717e-02\n",
      " 9.66224350e-02 5.36148378e-02 1.63958643e-02 2.93185670e-02\n",
      " 1.66109774e-02 2.65187836e-02 1.70270898e-02 2.56184329e-02\n",
      " 9.48083770e-03 2.03192234e-02 1.17225070e-02 4.47254955e-03\n",
      " 9.25709405e-03 6.16813184e-03 4.73806177e-01 2.89467440e-01\n",
      " 4.80607667e-01 2.24258652e-02 3.31716656e-02 1.94697967e-02\n",
      " 4.13003407e-03 8.26910395e-03 4.53232407e-03 7.86079252e-03\n",
      " 5.35942283e-03 6.08706338e-03 6.43320800e-03 4.45117065e-03\n",
      " 3.74332256e-03 7.53242175e-03 5.96471697e-03 4.50068634e-03\n",
      " 1.74334498e-03 4.21856179e-03 2.51431712e-03 3.25706204e-05\n",
      " 1.98375179e-07 2.80791492e-05 1.20830372e-03 3.12499983e-03\n",
      " 1.33253852e-03 1.24859856e-04 2.78687250e-04 2.05641440e-04] [[9.27459422e+00 7.71925011e+01 2.26943718e+01 ... 1.23773561e-30\n",
      "  3.42629467e-15 2.01418956e-18]\n",
      " [1.82112314e-01 2.86222784e+03 1.12510031e-01 ... 1.23893724e-06\n",
      "  6.94037349e-02 1.81851150e-04]\n",
      " [1.11385817e+01 7.46832844e+01 6.96391550e+00 ... 2.50729029e-28\n",
      "  1.41880365e-17 3.18879490e-17]\n",
      " ...\n",
      " [1.63260409e-41 1.25144859e-44 7.91539259e-44 ... 2.62648045e-12\n",
      "  2.90828840e+01 0.00000000e+00]\n",
      " [3.30200735e-33 2.61789590e-15 2.66952733e-17 ... 1.89768837e-09\n",
      "  1.54120680e+02 6.21479087e-14]\n",
      " [1.04599556e-48 6.23162939e-28 9.10894446e-45 ... 1.02420073e-34\n",
      "  1.02822076e+00 4.99142808e-26]] [[1.11098627e+05 1.17676985e+05 1.00044576e+05 ... 5.83511829e+01\n",
      "  6.38340306e+00 4.26078158e+01]\n",
      " [1.16923722e+03 8.33598304e+04 5.61082559e+02 ... 1.78062047e+03\n",
      "  2.68470605e+03 1.60769908e+02]\n",
      " [1.01229017e+05 1.14580711e+05 1.02189887e+05 ... 2.57884143e+00\n",
      "  7.43370562e+00 2.28053348e+03]\n",
      " ...\n",
      " [1.01773907e+01 1.63617071e+01 8.42660926e+00 ... 5.63984674e+04\n",
      "  1.20420361e+06 0.00000000e+00]\n",
      " [2.29211089e+00 1.19383945e+04 1.78895736e+03 ... 1.82291405e+02\n",
      "  1.01349719e+06 8.89188495e+00]\n",
      " [1.10273946e+00 4.22510456e+02 2.82269362e+00 ... 1.82360982e+05\n",
      "  2.99136118e+05 2.30204492e+04]]\n"
     ]
    },
    {
     "data": {
      "image/png": "[encoded data removed]",
      "text/plain": [
       "<Figure size 432x288 with 1 Axes>"
      ]
     },
     "metadata": {
      "needs_background": "light"
     },
     "output_type": "display_data"
    },
    {
     "name": "stderr",
     "output_type": "stream",
     "text": [
      "\r",
      " 15%|██████████████████████████████                                                                                                                                                                          | 15/100 [05:26<41:23, 29.21s/it]"
     ]
    },
    {
     "name": "stdout",
     "output_type": "stream",
     "text": [
      "[1.10356616e-02 1.67552731e-02 8.59139614e-03 5.14409640e-02\n",
      " 9.70702174e-02 5.33845383e-02 1.62751261e-02 2.93706390e-02\n",
      " 1.64354428e-02 2.60451353e-02 1.70844188e-02 2.55954564e-02\n",
      " 9.40972300e-03 2.04059290e-02 1.16801944e-02 4.46728814e-03\n",
      " 9.25158968e-03 6.16366410e-03 4.70702868e-01 2.90460735e-01\n",
      " 4.77374699e-01 2.21555345e-02 3.33268376e-02 1.94445482e-02\n",
      " 4.12950673e-03 8.36224488e-03 4.53590241e-03 7.85011617e-03\n",
      " 5.31854455e-03 5.99906451e-03 6.44388892e-03 4.47208731e-03\n",
      " 3.71295333e-03 7.51563694e-03 5.84752072e-03 4.43977107e-03\n",
      " 1.73760887e-03 4.26958965e-03 2.50789724e-03 3.10122140e-05\n",
      " 1.04633218e-07 2.83944509e-05 1.20912453e-03 3.08871183e-03\n",
      " 1.33610442e-03 1.25923989e-04 2.76139138e-04 2.02248610e-04] [[9.27313654e+00 7.70429744e+01 2.27502015e+01 ... 8.00487202e-33\n",
      "  1.11583562e-15 2.59794811e-19]\n",
      " [2.01742597e-01 2.84517036e+03 1.27083119e-01 ... 8.91813267e-07\n",
      "  6.78624226e-02 2.24386162e-04]\n",
      " [1.11699312e+01 7.46830633e+01 6.93508013e+00 ... 6.44643037e-30\n",
      "  3.16616401e-18 2.40417391e-18]\n",
      " ...\n",
      " [4.40521006e-44 1.41425153e-47 1.87536259e-46 ... 9.36854089e-13\n",
      "  2.94503556e+01 0.00000000e+00]\n",
      " [3.45071617e-35 5.71897024e-16 5.19839724e-18 ... 5.33945304e-10\n",
      "  1.56675703e+02 1.98455029e-14]\n",
      " [1.11337960e-51 2.02877007e-29 2.27823413e-47 ... 4.35534397e-35\n",
      "  1.02810455e+00 1.16969794e-27]] [[1.11526087e+05 1.17810415e+05 1.00766470e+05 ... 5.98523966e+01\n",
      "  6.37440536e+00 4.28298383e+01]\n",
      " [1.28333264e+03 8.32257582e+04 6.56517028e+02 ... 1.79574149e+03\n",
      "  2.66752348e+03 1.61463876e+02]\n",
      " [1.01880502e+05 1.14594213e+05 1.02423892e+05 ... 2.57931015e+00\n",
      "  7.42087531e+00 2.28844932e+03]\n",
      " ...\n",
      " [1.01401446e+01 1.17716102e+01 8.43744489e+00 ... 5.67591521e+04\n",
      "  1.21183177e+06 0.00000000e+00]\n",
      " [2.35947481e+00 1.22146551e+04 1.94404617e+03 ... 1.81678470e+02\n",
      "  1.03800751e+06 8.88389742e+00]\n",
      " [1.11537882e+00 4.22647082e+02 2.76521606e+00 ... 1.82361182e+05\n",
      "  2.99084238e+05 2.29825489e+04]]\n"
     ]
    },
    {
     "data": {
      "image/png": "[encoded data removed]",
      "text/plain": [
       "<Figure size 432x288 with 1 Axes>"
      ]
     },
     "metadata": {
      "needs_background": "light"
     },
     "output_type": "display_data"
    },
    {
     "name": "stderr",
     "output_type": "stream",
     "text": [
      "\r",
      " 16%|████████████████████████████████                                                                                                                                                                        | 16/100 [05:45<36:41, 26.20s/it]"
     ]
    },
    {
     "name": "stdout",
     "output_type": "stream",
     "text": [
      "[1.09811227e-02 1.68958265e-02 8.52011509e-03 5.13434256e-02\n",
      " 9.75366533e-02 5.28363379e-02 1.61594290e-02 2.94477001e-02\n",
      " 1.63139055e-02 2.58482889e-02 1.71967254e-02 2.56107994e-02\n",
      " 9.36437994e-03 2.04704823e-02 1.16303943e-02 4.46434687e-03\n",
      " 9.13806337e-03 6.17546682e-03 4.65417692e-01 2.91165208e-01\n",
      " 4.72183325e-01 2.19294425e-02 3.34317014e-02 1.94526040e-02\n",
      " 4.13199732e-03 8.42640438e-03 4.53045520e-03 7.83685737e-03\n",
      " 5.29326543e-03 5.96651239e-03 6.45130759e-03 4.48154422e-03\n",
      " 3.69507212e-03 7.43010958e-03 5.81029532e-03 4.39219178e-03\n",
      " 1.73043408e-03 4.30916396e-03 2.50184150e-03 2.96154973e-05\n",
      " 5.48959646e-08 2.87542069e-05 1.20907545e-03 3.07472425e-03\n",
      " 1.33889818e-03 1.27651860e-04 2.73178940e-04 2.00365012e-04] [[9.26997290e+00 7.70331195e+01 2.28980151e+01 ... 5.06619877e-35\n",
      "  3.59799962e-16 3.30439418e-20]\n",
      " [2.17363336e-01 2.83026918e+03 1.46900247e-01 ... 6.40360269e-07\n",
      "  6.73784909e-02 2.70332368e-04]\n",
      " [1.11951429e+01 7.47369592e+01 6.91437230e+00 ... 1.64346776e-31\n",
      "  6.99583592e-19 1.79061557e-19]\n",
      " ...\n",
      " [1.20800400e-46 2.19916113e-50 4.50944734e-49 ... 3.32909064e-13\n",
      "  2.95823159e+01 0.00000000e+00]\n",
      " [3.67145631e-37 1.18493534e-16 8.68890642e-19 ... 1.49148235e-10\n",
      "  1.57638428e+02 6.37670132e-15]\n",
      " [1.18751865e-54 6.54800649e-31 5.65386119e-50 ... 1.85329420e-35\n",
      "  1.02801121e+00 2.73498833e-29]] [[1.11808073e+05 1.17901098e+05 1.01894438e+05 ... 6.17485948e+01\n",
      "  6.35842145e+00 4.27762138e+01]\n",
      " [1.37759417e+03 8.30405753e+04 7.86006697e+02 ... 1.80851307e+03\n",
      "  2.66247509e+03 1.62253624e+02]\n",
      " [1.02342254e+05 1.14647691e+05 1.02629008e+05 ... 2.57988300e+00\n",
      "  7.41279413e+00 2.29684701e+03]\n",
      " ...\n",
      " [1.01441985e+01 9.97635348e+00 8.44460741e+00 ... 5.69131760e+04\n",
      "  1.21456738e+06 0.00000000e+00]\n",
      " [2.45334418e+00 1.23688369e+04 2.04585357e+03 ... 1.81031041e+02\n",
      "  1.04724547e+06 8.87711933e+00]\n",
      " [1.12386670e+00 4.22665053e+02 2.72186756e+00 ... 1.82361088e+05\n",
      "  2.99068277e+05 2.29348779e+04]]\n"
     ]
    },
    {
     "data": {
      "image/png": "[encoded data removed]",
      "text/plain": [
       "<Figure size 432x288 with 1 Axes>"
      ]
     },
     "metadata": {
      "needs_background": "light"
     },
     "output_type": "display_data"
    },
    {
     "name": "stderr",
     "output_type": "stream",
     "text": [
      "\r",
      " 17%|██████████████████████████████████                                                                                                                                                                      | 17/100 [06:23<40:55, 29.59s/it]"
     ]
    },
    {
     "name": "stdout",
     "output_type": "stream",
     "text": [
      "[1.09342147e-02 1.70157768e-02 8.47917883e-03 5.13570433e-02\n",
      " 9.79301578e-02 5.21963250e-02 1.60752385e-02 2.95469837e-02\n",
      " 1.62515502e-02 2.57782200e-02 1.72826826e-02 2.56418198e-02\n",
      " 9.35216284e-03 2.05209906e-02 1.15687636e-02 4.46321510e-03\n",
      " 9.07761023e-03 6.19015128e-03 4.60557316e-01 2.91645197e-01\n",
      " 4.68330620e-01 2.18192611e-02 3.33309391e-02 1.94646843e-02\n",
      " 4.13414369e-03 8.47369222e-03 4.52504589e-03 7.81974735e-03\n",
      " 5.28927881e-03 5.96787655e-03 6.44506660e-03 4.45116646e-03\n",
      " 3.68269706e-03 7.26611613e-03 5.80806980e-03 4.37059394e-03\n",
      " 1.71798981e-03 4.33487952e-03 2.48556861e-03 2.83665170e-05\n",
      " 2.86618146e-08 2.91815351e-05 1.20867812e-03 3.06826143e-03\n",
      " 1.34101576e-03 1.30755797e-04 2.70070372e-04 1.99538425e-04] [[9.26891353e+00 7.70924114e+01 2.31160257e+01 ... 3.13426085e-37\n",
      "  1.14927930e-16 4.13940268e-21]\n",
      " [2.29502519e-01 2.81928600e+03 1.74583857e-01 ... 4.59067352e-07\n",
      "  6.72056535e-02 3.18592606e-04]\n",
      " [1.12144101e+01 7.48037876e+01 6.89917835e+00 ... 4.13359717e-33\n",
      "  1.53352054e-19 1.31859353e-20]\n",
      " ...\n",
      " [3.36550707e-49 4.04330580e-53 1.09314775e-51 ... 1.18093786e-13\n",
      "  2.96203705e+01 0.00000000e+00]\n",
      " [4.02966560e-39 2.36700886e-17 1.27098616e-19 ... 4.13053718e-11\n",
      "  1.58002584e+02 2.05139709e-15]\n",
      " [1.27612590e-57 2.09605819e-32 1.38978215e-52 ... 7.89105822e-36\n",
      "  1.02784775e+00 6.38038879e-31]] [[1.12032350e+05 1.17974229e+05 1.03380005e+05 ... 6.44670390e+01\n",
      "  6.34501688e+00 4.25723814e+01]\n",
      " [1.44796962e+03 8.28663238e+04 9.62330185e+02 ... 1.82090817e+03\n",
      "  2.66073710e+03 1.63055991e+02]\n",
      " [1.02692742e+05 1.14715723e+05 1.02852022e+05 ... 2.58064600e+00\n",
      "  7.42025050e+00 2.30438972e+03]\n",
      " ...\n",
      " [1.01687673e+01 9.36304983e+00 8.44893146e+00 ... 5.69765198e+04\n",
      "  1.21535723e+06 0.00000000e+00]\n",
      " [2.58837597e+00 1.24628659e+04 2.07324965e+03 ... 1.80217075e+02\n",
      "  1.05066272e+06 8.87178935e+00]\n",
      " [1.12985512e+00 4.22668696e+02 2.69177569e+00 ... 1.82360955e+05\n",
      "  2.99065639e+05 2.28799419e+04]]\n"
     ]
    },
    {
     "data": {
      "image/png": "[encoded data removed]",
      "text/plain": [
       "<Figure size 432x288 with 1 Axes>"
      ]
     },
     "metadata": {
      "needs_background": "light"
     },
     "output_type": "display_data"
    },
    {
     "name": "stderr",
     "output_type": "stream",
     "text": [
      "\r",
      " 18%|████████████████████████████████████                                                                                                                                                                    | 18/100 [07:07<46:28, 34.01s/it]"
     ]
    },
    {
     "name": "stdout",
     "output_type": "stream",
     "text": [
      "[1.08983452e-02 1.71111112e-02 8.45002739e-03 5.13789235e-02\n",
      " 9.82312792e-02 5.18588561e-02 1.60289960e-02 2.96666690e-02\n",
      " 1.62235639e-02 2.57683322e-02 1.72486761e-02 2.56794855e-02\n",
      " 9.35638283e-03 2.05594929e-02 1.14926803e-02 4.46326360e-03\n",
      " 9.04703665e-03 6.20462787e-03 4.57571186e-01 2.91971586e-01\n",
      " 4.66365387e-01 2.17675983e-02 3.28052408e-02 1.94741829e-02\n",
      " 4.13478421e-03 8.50753047e-03 4.52518164e-03 7.79094415e-03\n",
      " 5.29873379e-03 5.97841415e-03 6.44535618e-03 4.45149596e-03\n",
      " 3.67551298e-03 7.18191173e-03 5.81464967e-03 4.36642571e-03\n",
      " 1.69299031e-03 4.34202581e-03 2.47923943e-03 2.72504288e-05\n",
      " 1.48968815e-08 2.97143451e-05 1.20824025e-03 3.06446998e-03\n",
      " 1.34252182e-03 1.36024830e-04 2.66559982e-04 1.99165639e-04] [[9.27135149e+00 7.71712409e+01 2.33354907e+01 ... 1.89776786e-39\n",
      "  3.62940667e-17 5.12173394e-22]\n",
      " [2.38507629e-01 2.81194690e+03 2.12321605e-01 ... 3.28833288e-07\n",
      "  6.71239956e-02 3.67408824e-04]\n",
      " [1.12251382e+01 7.48622118e+01 6.88146324e+00 ... 1.01525321e-34\n",
      "  3.32124949e-20 9.60584304e-22]\n",
      " ...\n",
      " [9.51478104e-52 8.11095535e-56 2.66217259e-54 ... 4.18574116e-14\n",
      "  2.96277763e+01 0.00000000e+00]\n",
      " [4.60346663e-41 4.60683292e-18 1.67101435e-20 ... 1.13496158e-11\n",
      "  1.58145418e+02 6.59619731e-16]\n",
      " [1.38523779e-60 6.66311520e-34 3.37702153e-55 ... 3.36157428e-36\n",
      "  1.02770863e+00 1.48538813e-32]] [[1.12242734e+05 1.18036629e+05 1.04911244e+05 ... 6.91323024e+01\n",
      "  6.33290677e+00 4.22806564e+01]\n",
      " [1.49181063e+03 8.27272062e+04 1.20134967e+03 ... 1.83368750e+03\n",
      "  2.66004319e+03 1.63880881e+02]\n",
      " [1.02976940e+05 1.14781859e+05 1.03141336e+05 ... 2.58177241e+00\n",
      "  7.42463934e+00 2.31153494e+03]\n",
      " ...\n",
      " [1.02026421e+01 9.23330086e+00 8.45136846e+00 ... 5.70009203e+04\n",
      "  1.21551211e+06 0.00000000e+00]\n",
      " [2.78029614e+00 1.25253548e+04 2.05067555e+03 ... 1.79039712e+02\n",
      "  1.05192789e+06 8.86820099e+00]\n",
      " [1.13451223e+00 4.22669308e+02 2.66973467e+00 ... 1.82360931e+05\n",
      "  2.99066382e+05 2.28233918e+04]]\n"
     ]
    },
    {
     "data": {
      "image/png": "[encoded data removed]",
      "text/plain": [
       "<Figure size 432x288 with 1 Axes>"
      ]
     },
     "metadata": {
      "needs_background": "light"
     },
     "output_type": "display_data"
    },
    {
     "name": "stderr",
     "output_type": "stream",
     "text": [
      "\r",
      " 19%|██████████████████████████████████████                                                                                                                                                                  | 19/100 [08:04<55:11, 40.89s/it]"
     ]
    },
    {
     "name": "stdout",
     "output_type": "stream",
     "text": [
      "[1.08717491e-02 1.71877801e-02 8.43049130e-03 5.13845880e-02\n",
      " 9.84639466e-02 5.17511907e-02 1.60089462e-02 2.98013302e-02\n",
      " 1.62123588e-02 2.57887308e-02 1.71479510e-02 2.57229129e-02\n",
      " 9.36310156e-03 2.05880701e-02 1.14117256e-02 4.46399101e-03\n",
      " 9.02851707e-03 6.21756230e-03 4.55751592e-01 2.92195351e-01\n",
      " 4.65009334e-01 2.17313578e-02 3.25489665e-02 1.94802321e-02\n",
      " 4.13355810e-03 8.53090319e-03 4.52814399e-03 7.71783542e-03\n",
      " 5.31254801e-03 5.98972109e-03 6.44701367e-03 4.46923870e-03\n",
      " 3.67281527e-03 7.15833629e-03 5.82270894e-03 4.36996425e-03\n",
      " 1.68171343e-03 4.34647637e-03 2.47954400e-03 2.62528096e-05\n",
      " 7.70932234e-09 3.04191688e-05 1.20789012e-03 3.06203035e-03\n",
      " 1.34345862e-03 1.38969939e-04 2.62349358e-04 1.98993068e-04] [[9.27638587e+00 7.72455772e+01 2.34827060e+01 ... 1.15168284e-41\n",
      "  1.13135217e-17 6.28545015e-23]\n",
      " [2.45235239e-01 2.80733978e+03 2.63541009e-01 ... 2.35574073e-07\n",
      "  6.70748876e-02 4.14735533e-04]\n",
      " [1.12203111e+01 7.49091471e+01 6.84783284e+00 ... 2.39822870e-36\n",
      "  7.07517192e-21 6.92652727e-23]\n",
      " ...\n",
      " [2.72473940e-54 1.71004184e-58 6.50445936e-57 ... 1.48305092e-14\n",
      "  2.96266772e+01 0.00000000e+00]\n",
      " [5.42099713e-43 8.79593310e-19 2.00958021e-21 ... 3.12030169e-12\n",
      "  1.58201774e+02 2.12028344e-16]\n",
      " [1.51888659e-63 2.10653284e-35 8.11047008e-58 ... 1.43182782e-36\n",
      "  1.02762746e+00 3.45179534e-34]] [[1.12471976e+05 1.18091799e+05 1.06085113e+05 ... 7.95244839e+01\n",
      "  6.31504341e+00 4.19399378e+01]\n",
      " [1.52064091e+03 8.26266907e+04 1.53008996e+03 ... 1.83443001e+03\n",
      "  2.65973709e+03 1.64724262e+02]\n",
      " [1.03194156e+05 1.14842679e+05 1.03517719e+05 ... 2.58337784e+00\n",
      "  7.40409939e+00 2.31853541e+03]\n",
      " ...\n",
      " [1.02396702e+01 9.30676081e+00 8.45249607e+00 ... 5.70117540e+04\n",
      "  1.21548660e+06 0.00000000e+00]\n",
      " [3.02902793e+00 1.25679381e+04 1.99373102e+03 ... 1.77484916e+02\n",
      "  1.05237153e+06 8.86577055e+00]\n",
      " [1.13818797e+00 4.22665987e+02 2.65150994e+00 ... 1.82361066e+05\n",
      "  2.99065383e+05 2.27681391e+04]]\n"
     ]
    },
    {
     "data": {
      "image/png": "[encoded data removed]",
      "text/plain": [
       "<Figure size 432x288 with 1 Axes>"
      ]
     },
     "metadata": {
      "needs_background": "light"
     },
     "output_type": "display_data"
    },
    {
     "name": "stderr",
     "output_type": "stream",
     "text": [
      "\r",
      " 20%|████████████████████████████████████████                                                                                                                                                                | 20/100 [08:24<46:17, 34.72s/it]"
     ]
    },
    {
     "name": "stdout",
     "output_type": "stream",
     "text": [
      "[1.08550723e-02 1.72509490e-02 8.41867103e-03 5.13677847e-02\n",
      " 9.86418496e-02 5.17025734e-02 1.60022133e-02 2.99531375e-02\n",
      " 1.62096183e-02 2.58199771e-02 1.70924969e-02 2.57636530e-02\n",
      " 9.36699439e-03 2.06124477e-02 1.13430581e-02 4.46506538e-03\n",
      " 9.01573470e-03 6.22792324e-03 4.54607739e-01 2.92350387e-01\n",
      " 4.63697943e-01 2.16976279e-02 3.24382142e-02 1.94828617e-02\n",
      " 4.12942562e-03 8.53576454e-03 4.53280968e-03 7.58262190e-03\n",
      " 5.32564403e-03 5.99985562e-03 6.45087389e-03 4.46361529e-03\n",
      " 3.67453177e-03 7.15152437e-03 5.82693717e-03 4.37617363e-03\n",
      " 1.67475552e-03 4.35315105e-03 2.48197607e-03 2.53602695e-05\n",
      " 3.97334947e-09 3.14201384e-05 1.20764487e-03 3.06032919e-03\n",
      " 1.34390591e-03 1.39590307e-04 2.58383570e-04 1.98914890e-04] [[9.27535349e+00 7.73075676e+01 2.35554980e+01 ... 7.39782242e-44\n",
      "  3.50204215e-18 7.67437006e-24]\n",
      " [2.49858648e-01 2.80461842e+03 3.37136096e-01 ... 1.67654376e-07\n",
      "  6.70376331e-02 4.58785717e-04]\n",
      " [1.11893777e+01 7.49444703e+01 6.77999916e+00 ... 5.54403364e-38\n",
      "  1.49462999e-21 4.94777522e-24]\n",
      " ...\n",
      " [7.88879184e-57 3.71508149e-61 1.59252470e-59 ... 5.25511167e-15\n",
      "  2.96243246e+01 0.00000000e+00]\n",
      " [6.54808585e-45 1.65515412e-19 2.22950262e-22 ... 8.88753693e-13\n",
      "  1.58216467e+02 6.81558154e-17]\n",
      " [1.68020746e-66 6.63068265e-37 1.92888656e-60 ... 6.07286109e-37\n",
      "  1.02757605e+00 8.00883512e-36]] [[1.12731657e+05 1.18141075e+05 1.06827843e+05 ... 9.88593607e+01\n",
      "  6.30222935e+00 4.15789722e+01]\n",
      " [1.54862613e+03 8.25602749e+04 2.01150269e+03 ... 1.78786980e+03\n",
      "  2.65894272e+03 1.65557480e+02]\n",
      " [1.03273498e+05 1.14894080e+05 1.03976194e+05 ... 2.58354782e+00\n",
      "  7.38157638e+00 2.32520263e+03]\n",
      " ...\n",
      " [1.02762949e+01 9.45681819e+00 8.45235012e+00 ... 5.70379927e+04\n",
      "  1.21544130e+06 0.00000000e+00]\n",
      " [3.34072776e+00 1.25954756e+04 1.89868274e+03 ... 1.76829171e+02\n",
      "  1.05246072e+06 8.86389616e+00]\n",
      " [1.14074638e+00 4.22660256e+02 2.63623569e+00 ... 1.82360923e+05\n",
      "  2.99064898e+05 2.27154816e+04]]\n"
     ]
    },
    {
     "data": {
      "image/png": "[encoded data removed]",
      "text/plain": [
       "<Figure size 432x288 with 1 Axes>"
      ]
     },
     "metadata": {
      "needs_background": "light"
     },
     "output_type": "display_data"
    },
    {
     "name": "stderr",
     "output_type": "stream",
     "text": [
      "\r",
      " 21%|██████████████████████████████████████████                                                                                                                                                              | 21/100 [08:44<39:37, 30.09s/it]"
     ]
    },
    {
     "name": "stdout",
     "output_type": "stream",
     "text": [
      "[1.08583804e-02 1.73036013e-02 8.41219782e-03 5.13195912e-02\n",
      " 9.87724589e-02 5.16415574e-02 1.60023807e-02 3.01546254e-02\n",
      " 1.62121115e-02 2.58516188e-02 1.70645535e-02 2.57984023e-02\n",
      " 9.36789527e-03 2.06328478e-02 1.12916548e-02 4.46629176e-03\n",
      " 9.00676844e-03 6.23515236e-03 4.53955899e-01 2.92458876e-01\n",
      " 4.62517423e-01 2.16653196e-02 3.21302882e-02 1.94806290e-02\n",
      " 4.12380174e-03 8.50082866e-03 4.53805448e-03 7.47356086e-03\n",
      " 5.33710417e-03 6.00858258e-03 6.44183864e-03 4.42878430e-03\n",
      " 3.67739986e-03 7.15070909e-03 5.82679684e-03 4.38262872e-03\n",
      " 1.66833498e-03 4.35464767e-03 2.48315370e-03 2.45606909e-05\n",
      " 2.03997260e-09 3.29415411e-05 1.20741518e-03 3.05862304e-03\n",
      " 1.33786026e-03 1.39973352e-04 2.55438513e-04 1.98883022e-04] [[9.25828872e+00 7.73572667e+01 2.35972522e+01 ... 5.54567212e-46\n",
      "  1.08325413e-18 9.34166217e-25]\n",
      " [2.53330555e-01 2.80303354e+03 4.55185897e-01 ... 1.19096431e-07\n",
      "  6.70128707e-02 4.98308546e-04]\n",
      " [1.11217928e+01 7.49705045e+01 6.68045346e+00 ... 1.27558844e-39\n",
      "  3.15617254e-22 3.50500403e-25]\n",
      " ...\n",
      " [2.30407704e-59 8.22289797e-64 3.90319157e-62 ... 1.86270476e-15\n",
      "  2.96217817e+01 0.00000000e+00]\n",
      " [8.18271183e-47 3.07949464e-20 2.28347881e-23 ... 2.62602000e-13\n",
      "  1.58228483e+02 2.19138816e-17]\n",
      " [1.87191717e-69 2.07967220e-38 4.55468589e-63 ... 2.54902023e-37\n",
      "  1.02754684e+00 1.85577012e-37]] [[1.12988812e+05 1.18185450e+05 1.07329810e+05 ... 1.39149884e+02\n",
      "  6.29994325e+00 4.12187660e+01]\n",
      " [1.58041250e+03 8.25174986e+04 2.79541752e+03 ... 1.73779310e+03\n",
      "  2.65858073e+03 1.66347645e+02]\n",
      " [1.03084566e+05 1.14935530e+05 1.04529495e+05 ... 2.58227095e+00\n",
      "  7.37245590e+00 2.33126986e+03]\n",
      " ...\n",
      " [1.03099848e+01 9.62296854e+00 8.45077804e+00 ... 5.71024358e+04\n",
      "  1.21538025e+06 0.00000000e+00]\n",
      " [3.74498315e+00 1.26104118e+04 1.73767748e+03 ... 1.77457782e+02\n",
      "  1.05250933e+06 8.86223057e+00]\n",
      " [1.14178363e+00 4.22653546e+02 2.62412100e+00 ... 1.82361113e+05\n",
      "  2.99064462e+05 2.26665222e+04]]\n"
     ]
    },
    {
     "data": {
      "image/png": "[encoded data removed]",
      "text/plain": [
       "<Figure size 432x288 with 1 Axes>"
      ]
     },
     "metadata": {
      "needs_background": "light"
     },
     "output_type": "display_data"
    },
    {
     "name": "stderr",
     "output_type": "stream",
     "text": [
      "\r",
      " 22%|████████████████████████████████████████████                                                                                                                                                            | 22/100 [09:01<34:04, 26.21s/it]"
     ]
    },
    {
     "name": "stdout",
     "output_type": "stream",
     "text": [
      "[1.08742559e-02 1.73476614e-02 8.40691023e-03 5.12493132e-02\n",
      " 9.88638480e-02 5.15536140e-02 1.60058466e-02 3.04763832e-02\n",
      " 1.62194744e-02 2.58777706e-02 1.70618941e-02 2.58326957e-02\n",
      " 9.36723787e-03 2.06511500e-02 1.12508095e-02 4.46756913e-03\n",
      " 9.00014126e-03 6.23949829e-03 4.53647839e-01 2.92535414e-01\n",
      " 4.61727552e-01 2.16362909e-02 3.16867125e-02 1.94682221e-02\n",
      " 4.12075185e-03 8.38586746e-03 4.54306488e-03 7.42551043e-03\n",
      " 5.34720809e-03 6.01597936e-03 6.42893354e-03 4.41602465e-03\n",
      " 3.67928656e-03 7.15337099e-03 5.82595681e-03 4.38891648e-03\n",
      " 1.65748275e-03 4.34932436e-03 2.48376516e-03 2.38432727e-05\n",
      " 1.04370392e-09 3.50651651e-05 1.20580944e-03 3.05611700e-03\n",
      " 1.34645876e-03 1.40128368e-04 2.53277540e-04 1.98874068e-04] [[9.23212314e+00 7.73942150e+01 2.36326285e+01 ... 7.65880557e-48\n",
      "  3.34882982e-19 1.13515919e-25]\n",
      " [2.57687191e-01 2.80209251e+03 6.84810671e-01 ... 8.51025258e-08\n",
      "  6.69964456e-02 5.32654352e-04]\n",
      " [1.10303687e+01 7.49899396e+01 6.57532123e+00 ... 2.92745419e-41\n",
      "  6.66339286e-23 2.46533311e-26]\n",
      " ...\n",
      " [6.76707439e-62 1.84180808e-66 9.57106753e-65 ... 6.60429178e-16\n",
      "  2.96201257e+01 0.00000000e+00]\n",
      " [1.06940118e-48 5.67855094e-21 2.16749618e-24 ... 8.00871836e-14\n",
      "  1.58230561e+02 7.04838420e-18]\n",
      " [2.09513561e-72 6.50349143e-40 1.06982448e-65 ... 1.06344855e-37\n",
      "  1.02752819e+00 4.29558489e-39]] [[1.13193470e+05 1.18221449e+05 1.07785008e+05 ... 3.17577186e+02\n",
      "  6.30210692e+00 4.08736955e+01]\n",
      " [1.61747966e+03 8.24896899e+04 4.32210258e+03 ... 1.70570370e+03\n",
      "  2.65859629e+03 1.67068621e+02]\n",
      " [1.02597517e+05 1.14968485e+05 1.05282678e+05 ... 2.58007554e+00\n",
      "  7.36956361e+00 2.33656660e+03]\n",
      " ...\n",
      " [1.03392530e+01 9.77752010e+00 8.44832564e+00 ... 5.71642876e+04\n",
      "  1.21534628e+06 0.00000000e+00]\n",
      " [4.29291853e+00 1.26141897e+04 1.48100970e+03 ... 1.80011166e+02\n",
      "  1.05249319e+06 8.86064562e+00]\n",
      " [1.14091247e+00 4.22646650e+02 2.61442796e+00 ... 1.82361180e+05\n",
      "  2.99065247e+05 2.26222772e+04]]\n"
     ]
    },
    {
     "data": {
      "image/png": "[encoded data removed]",
      "text/plain": [
       "<Figure size 432x288 with 1 Axes>"
      ]
     },
     "metadata": {
      "needs_background": "light"
     },
     "output_type": "display_data"
    },
    {
     "name": "stderr",
     "output_type": "stream",
     "text": [
      "\r",
      " 23%|██████████████████████████████████████████████                                                                                                                                                          | 23/100 [09:15<29:11, 22.75s/it]"
     ]
    },
    {
     "name": "stdout",
     "output_type": "stream",
     "text": [
      "[1.08888972e-02 1.73846129e-02 8.40049930e-03 5.11529070e-02\n",
      " 9.89263387e-02 5.14458584e-02 1.60038006e-02 3.08920060e-02\n",
      " 1.62334108e-02 2.58936658e-02 1.70754659e-02 2.58644241e-02\n",
      " 9.36638660e-03 2.06710974e-02 1.12207120e-02 4.46885306e-03\n",
      " 8.99467164e-03 6.24186453e-03 4.53542683e-01 2.92589747e-01\n",
      " 4.61360204e-01 2.16121291e-02 3.14701793e-02 1.94492669e-02\n",
      " 4.11534641e-03 8.31611099e-03 4.54715094e-03 7.41109551e-03\n",
      " 5.35593525e-03 6.02213152e-03 6.42697229e-03 4.38861816e-03\n",
      " 3.68009838e-03 7.15441636e-03 5.82512822e-03 4.39480899e-03\n",
      " 1.62977921e-03 4.34447851e-03 2.48421750e-03 2.31984754e-05\n",
      " 5.32422017e-10 3.57348001e-05 1.19832318e-03 3.05393597e-03\n",
      " 1.34630962e-03 1.40128082e-04 2.51677061e-04 1.98876122e-04] [[9.20710338e+00 7.74241425e+01 2.36643893e+01 ... 1.44099539e-48\n",
      "  1.03437098e-19 1.37820997e-26]\n",
      " [2.63851505e-01 2.80168357e+03 1.21156326e+00 ... 6.11827773e-08\n",
      "  6.69845971e-02 5.61702532e-04]\n",
      " [1.09354907e+01 7.50052317e+01 6.46301056e+00 ... 6.71446508e-43\n",
      "  1.40606232e-23 1.72382610e-27]\n",
      " ...\n",
      " [1.99406771e-64 4.15781226e-69 2.34807555e-67 ... 2.34125653e-16\n",
      "  2.96192089e+01 0.00000000e+00]\n",
      " [1.48175043e-50 1.03969268e-21 2.01671400e-25 ... 2.50029919e-14\n",
      "  1.58228956e+02 2.26791472e-18]\n",
      " [2.35176426e-75 2.02875875e-41 2.50187870e-68 ... 4.42763132e-38\n",
      "  1.02750863e+00 9.93502803e-41]] [[1.13341669e+05 1.18254356e+05 1.08434800e+05 ... 5.06354893e+03\n",
      "  6.30486959e+00 4.05527729e+01]\n",
      " [1.66097636e+03 8.24762346e+04 7.66915376e+03 ... 1.68841444e+03\n",
      "  2.65867891e+03 1.67704377e+02]\n",
      " [1.01921177e+05 1.14995358e+05 1.06450598e+05 ... 2.57740675e+00\n",
      "  7.36850824e+00 2.34103915e+03]\n",
      " ...\n",
      " [1.03642656e+01 9.90990631e+00 8.44582167e+00 ... 5.72034667e+04\n",
      "  1.21533339e+06 0.00000000e+00]\n",
      " [5.06903671e+00 1.26079853e+04 1.20771291e+03 ... 1.83975364e+02\n",
      "  1.05245617e+06 8.85913302e+00]\n",
      " [1.13894841e+00 4.22639930e+02 2.60552852e+00 ... 1.82360846e+05\n",
      "  2.99064786e+05 2.25834763e+04]]\n"
     ]
    },
    {
     "data": {
      "image/png": "[encoded data removed]",
      "text/plain": [
       "<Figure size 432x288 with 1 Axes>"
      ]
     },
     "metadata": {
      "needs_background": "light"
     },
     "output_type": "display_data"
    },
    {
     "name": "stderr",
     "output_type": "stream",
     "text": [
      "\r",
      " 24%|████████████████████████████████████████████████                                                                                                                                                        | 24/100 [09:33<27:00, 21.32s/it]"
     ]
    },
    {
     "name": "stdout",
     "output_type": "stream",
     "text": [
      "[1.09019896e-02 1.74156536e-02 8.40346650e-03 5.10598960e-02\n",
      " 9.89682154e-02 5.13319594e-02 1.59991763e-02 3.13593938e-02\n",
      " 1.62474702e-02 2.58898561e-02 1.70800520e-02 2.58928963e-02\n",
      " 9.36624459e-03 2.06898169e-02 1.12031810e-02 4.47012229e-03\n",
      " 8.98956979e-03 6.24323057e-03 4.53538370e-01 2.92628489e-01\n",
      " 4.61258150e-01 2.15933049e-02 3.13640655e-02 1.94348187e-02\n",
      " 4.10227066e-03 8.29253515e-03 4.54704421e-03 7.40339633e-03\n",
      " 5.36319063e-03 6.02712300e-03 6.42715982e-03 4.36827608e-03\n",
      " 3.67972980e-03 7.15021871e-03 5.82416222e-03 4.40017451e-03\n",
      " 1.60015159e-03 4.34350765e-03 2.48473126e-03 2.26179192e-05\n",
      " 2.71002954e-10 3.54855780e-05 1.19749421e-03 3.05413688e-03\n",
      " 1.34706376e-03 1.40030377e-04 2.50488483e-04 1.98882985e-04] [[9.19041656e+00 7.74470613e+01 2.36776377e+01 ... 2.02842194e-49\n",
      "  3.19235801e-20 1.67279403e-27]\n",
      " [2.71305520e-01 2.80145045e+03 2.61783590e+00 ... 4.41597526e-08\n",
      "  6.69768386e-02 5.85722415e-04]\n",
      " [1.08622562e+01 7.50167069e+01 6.30801569e+00 ... 1.54115440e-44\n",
      "  2.96549618e-24 1.19956320e-28]\n",
      " ...\n",
      " [5.89198333e-67 9.43661987e-72 5.76479479e-70 ... 8.29765183e-17\n",
      "  2.96180668e+01 0.00000000e+00]\n",
      " [2.21642061e-52 1.89286575e-22 1.95018102e-26 ... 7.89313658e-15\n",
      "  1.58224384e+02 7.30003428e-19]\n",
      " [2.64601412e-78 6.31574625e-43 5.83366754e-71 ... 1.84272415e-38\n",
      "  1.02749351e+00 2.29643191e-42]] [[1.13458043e+05 1.18281880e+05 1.09642037e+05 ... 7.60594707e+03\n",
      "  6.30720667e+00 4.02609270e+01]\n",
      " [1.71100458e+03 8.24678740e+04 1.57396487e+04 ... 1.67903036e+03\n",
      "  2.65876370e+03 1.68248796e+02]\n",
      " [1.01339024e+05 1.15016045e+05 1.08268796e+05 ... 2.57493744e+00\n",
      "  7.36800177e+00 2.34471967e+03]\n",
      " ...\n",
      " [1.03862610e+01 1.00182131e+01 8.44376693e+00 ... 5.72230392e+04\n",
      "  1.21530404e+06 0.00000000e+00]\n",
      " [6.21594710e+00 1.25931103e+04 1.00223913e+03 ... 1.88378153e+02\n",
      "  1.05240353e+06 8.85772726e+00]\n",
      " [1.13738339e+00 4.22633702e+02 2.59721757e+00 ... 1.82361132e+05\n",
      "  2.99064493e+05 2.25503624e+04]]\n"
     ]
    },
    {
     "data": {
      "image/png": "[encoded data removed]",
      "text/plain": [
       "<Figure size 432x288 with 1 Axes>"
      ]
     },
     "metadata": {
      "needs_background": "light"
     },
     "output_type": "display_data"
    },
    {
     "name": "stderr",
     "output_type": "stream",
     "text": [
      "\r",
      " 25%|██████████████████████████████████████████████████                                                                                                                                                      | 25/100 [09:54<26:32, 21.24s/it]"
     ]
    },
    {
     "name": "stdout",
     "output_type": "stream",
     "text": [
      "[1.09141324e-02 1.74417241e-02 8.40644974e-03 5.09781221e-02\n",
      " 9.89956863e-02 5.12245079e-02 1.59972376e-02 3.19068153e-02\n",
      " 1.62525367e-02 2.58509492e-02 1.70210116e-02 2.59164191e-02\n",
      " 9.36712836e-03 2.07058354e-02 1.11939904e-02 4.47134298e-03\n",
      " 8.98434149e-03 6.23350760e-03 4.53575814e-01 2.92656198e-01\n",
      " 4.61269811e-01 2.15793595e-02 3.12973236e-02 1.94216979e-02\n",
      " 4.10069013e-03 8.28206948e-03 4.54063021e-03 7.40047569e-03\n",
      " 5.36900460e-03 6.03106263e-03 6.42734165e-03 4.35913223e-03\n",
      " 3.66643256e-03 7.14067509e-03 5.82260994e-03 4.40494177e-03\n",
      " 1.58930405e-03 4.34378683e-03 2.48540576e-03 2.20942655e-05\n",
      " 1.37736930e-10 3.54124105e-05 1.20035971e-03 3.05618039e-03\n",
      " 1.34840079e-03 1.39900634e-04 2.49604537e-04 1.98891436e-04] [[9.18322103e+00 7.74647028e+01 2.36269697e+01 ... 2.28732319e-50\n",
      "  9.84618036e-21 2.03044477e-28]\n",
      " [2.79450199e-01 2.80133870e+03 6.25144296e+00 ... 3.19468087e-08\n",
      "  6.69729680e-02 6.05221611e-04]\n",
      " [1.08176523e+01 7.50259600e+01 6.06538066e+00 ... 3.54216928e-46\n",
      "  6.25193006e-25 8.31542563e-30]\n",
      " ...\n",
      " [1.74508213e-69 2.14999447e-74 1.41486808e-72 ... 2.94021963e-17\n",
      "  2.96172150e+01 0.00000000e+00]\n",
      " [3.66263394e-54 3.43071228e-23 1.98255232e-27 ... 2.51093536e-15\n",
      "  1.58222337e+02 2.35054526e-19]\n",
      " [2.98171972e-81 1.96280111e-44 1.35676317e-73 ... 7.66920145e-39\n",
      "  1.02748632e+00 5.30574951e-44]] [[1.13561644e+05 1.18304741e+05 1.11878833e+05 ... 8.38778423e+03\n",
      "  6.30899968e+00 4.00001327e+01]\n",
      " [1.76761325e+03 8.24633041e+04 3.27320394e+04 ... 1.67382497e+03\n",
      "  2.65884710e+03 1.68703658e+02]\n",
      " [1.00991596e+05 1.15032814e+05 1.10785742e+05 ... 2.57263190e+00\n",
      "  7.36769728e+00 2.34769002e+03]\n",
      " ...\n",
      " [1.04061798e+01 1.01044693e+01 8.44230000e+00 ... 5.72316622e+04\n",
      "  1.21528360e+06 0.00000000e+00]\n",
      " [7.98269557e+00 1.25707964e+04 8.66844367e+02 ... 1.92992792e+02\n",
      "  1.05237080e+06 8.85646372e+00]\n",
      " [1.13647193e+00 4.22628079e+02 2.59041380e+00 ... 1.82361017e+05\n",
      "  2.99065514e+05 2.25227684e+04]]\n"
     ]
    },
    {
     "data": {
      "image/png": "[encoded data removed]",
      "text/plain": [
       "<Figure size 432x288 with 1 Axes>"
      ]
     },
     "metadata": {
      "needs_background": "light"
     },
     "output_type": "display_data"
    },
    {
     "name": "stderr",
     "output_type": "stream",
     "text": [
      "\r",
      " 26%|████████████████████████████████████████████████████                                                                                                                                                    | 26/100 [10:10<23:59, 19.45s/it]"
     ]
    },
    {
     "name": "stdout",
     "output_type": "stream",
     "text": [
      "[1.09251511e-02 1.74636303e-02 8.41424955e-03 5.09097819e-02\n",
      " 9.90129994e-02 5.11314071e-02 1.59923087e-02 3.25675225e-02\n",
      " 1.62578227e-02 2.57823716e-02 1.69413831e-02 2.59356478e-02\n",
      " 9.36826775e-03 2.07198336e-02 1.11866985e-02 4.47246069e-03\n",
      " 8.97869376e-03 6.22377613e-03 4.53625704e-01 2.92676039e-01\n",
      " 4.61312611e-01 2.15693808e-02 3.12518259e-02 1.94062203e-02\n",
      " 4.09991066e-03 8.27642212e-03 4.54025528e-03 7.39983912e-03\n",
      " 5.37348305e-03 6.03408756e-03 6.42696683e-03 4.35015243e-03\n",
      " 3.66029429e-03 7.12710631e-03 5.81986632e-03 4.40908619e-03\n",
      " 1.58641942e-03 4.34376708e-03 2.48625906e-03 2.16210969e-05\n",
      " 6.99413968e-11 3.53840695e-05 1.20236728e-03 3.05881269e-03\n",
      " 1.34995340e-03 1.39767224e-04 2.48946267e-04 1.98899855e-04] [[9.18387235e+00 7.74793521e+01 2.34884453e+01 ... 2.41510972e-51\n",
      "  3.03534659e-21 2.46520950e-29]\n",
      " [2.88200293e-01 2.80124392e+03 1.22645092e+01 ... 2.31414193e-08\n",
      "  6.69725478e-02 6.20817827e-04]\n",
      " [1.07944565e+01 7.50329906e+01 5.76363433e+00 ... 8.15355879e-48\n",
      "  1.31762864e-25 5.74685148e-31]\n",
      " ...\n",
      " [5.17933398e-72 4.91253854e-77 3.47154185e-75 ... 1.04171604e-17\n",
      "  2.96169659e+01 0.00000000e+00]\n",
      " [6.88525675e-56 6.19600714e-24 2.10150824e-28 ... 8.07120615e-16\n",
      "  1.58219169e+02 7.57074191e-20]\n",
      " [3.36279255e-84 6.09127407e-46 3.15030466e-76 ... 3.19198645e-39\n",
      "  1.02747764e+00 1.22546907e-45]] [[1.13661681e+05 1.18325188e+05 1.15121029e+05 ... 8.61985023e+03\n",
      "  6.31033646e+00 3.97703368e+01]\n",
      " [1.83227095e+03 8.24595454e+04 5.41422602e+04 ... 1.67090834e+03\n",
      "  2.65893399e+03 1.69076054e+02]\n",
      " [1.00844632e+05 1.15045660e+05 1.13422398e+05 ... 2.57022698e+00\n",
      "  7.36749188e+00 2.35005172e+03]\n",
      " ...\n",
      " [1.04246328e+01 1.01721122e+01 8.44143050e+00 ... 5.72350830e+04\n",
      "  1.21528442e+06 0.00000000e+00]\n",
      " [1.08241825e+01 1.25424309e+04 7.82096137e+02 ... 1.98112290e+02\n",
      "  1.05233435e+06 8.85536318e+00]\n",
      " [1.13597419e+00 4.22623202e+02 2.58536203e+00 ... 1.82361059e+05\n",
      "  2.99065364e+05 2.25002318e+04]]\n"
     ]
    },
    {
     "data": {
      "image/png": "[encoded data removed]",
      "text/plain": [
       "<Figure size 432x288 with 1 Axes>"
      ]
     },
     "metadata": {
      "needs_background": "light"
     },
     "output_type": "display_data"
    },
    {
     "name": "stderr",
     "output_type": "stream",
     "text": [
      "\r",
      " 27%|██████████████████████████████████████████████████████                                                                                                                                                  | 27/100 [10:32<24:45, 20.35s/it]"
     ]
    },
    {
     "name": "stdout",
     "output_type": "stream",
     "text": [
      "[1.09348195e-02 1.74820579e-02 8.41819455e-03 5.08541028e-02\n",
      " 9.90241807e-02 5.10555310e-02 1.59882427e-02 3.34715704e-02\n",
      " 1.62637870e-02 2.57178059e-02 1.69135598e-02 2.59512617e-02\n",
      " 9.36874706e-03 2.07333353e-02 1.11820362e-02 4.47356155e-03\n",
      " 8.97240972e-03 6.24956213e-03 4.53675208e-01 2.92690249e-01\n",
      " 4.61353453e-01 2.15623891e-02 3.12202847e-02 1.93879484e-02\n",
      " 4.09931925e-03 8.27302526e-03 4.54174747e-03 7.40313575e-03\n",
      " 5.37676658e-03 6.03634699e-03 6.42284751e-03 4.33280121e-03\n",
      " 3.65810056e-03 7.11267115e-03 5.81578388e-03 4.41262209e-03\n",
      " 1.58525811e-03 4.34312572e-03 2.48728629e-03 2.11928026e-05\n",
      " 3.54964193e-11 3.53700283e-05 1.20357113e-03 3.06140789e-03\n",
      " 1.35148968e-03 1.39633736e-04 2.48455257e-04 1.98907494e-04] [[9.19020731e+00 7.74910242e+01 2.33674724e+01 ... 2.49953176e-52\n",
      "  9.35368888e-22 2.99420366e-30]\n",
      " [2.97914273e-01 2.80125454e+03 1.82697043e+01 ... 1.67746029e-08\n",
      "  6.69748953e-02 6.33145992e-04]\n",
      " [1.07840179e+01 7.50386239e+01 5.52015377e+00 ... 1.87968616e-49\n",
      "  2.77628649e-26 3.96230240e-32]\n",
      " ...\n",
      " [1.54010957e-74 1.12497314e-79 8.51102074e-78 ... 3.69041523e-18\n",
      "  2.96163211e+01 0.00000000e+00]\n",
      " [1.53722372e-57 1.11593377e-24 2.31190561e-29 ... 2.64001491e-16\n",
      "  1.58216184e+02 2.43901414e-20]\n",
      " [3.79399219e-87 1.88808858e-47 7.31845251e-79 ... 1.32857499e-39\n",
      "  1.02746947e+00 2.82982467e-47]] [[1.13762764e+05 1.18342393e+05 1.18048732e+05 ... 8.68699366e+03\n",
      "  6.31132577e+00 3.95701711e+01]\n",
      " [1.90814025e+03 8.24591408e+04 7.16868074e+04 ... 1.66926418e+03\n",
      "  2.65902445e+03 1.69375948e+02]\n",
      " [1.00824922e+05 1.15055881e+05 1.15362666e+05 ... 2.56737956e+00\n",
      "  7.36734677e+00 2.35190838e+03]\n",
      " ...\n",
      " [1.04420598e+01 1.02247406e+01 8.44128335e+00 ... 5.72362153e+04\n",
      "  1.21526526e+06 0.00000000e+00]\n",
      " [1.57016294e+01 1.25094452e+04 7.32161983e+02 ... 2.04408492e+02\n",
      "  1.05230139e+06 8.85442991e+00]\n",
      " [1.13568010e+00 4.22619095e+02 2.58348102e+00 ... 1.82361113e+05\n",
      "  2.99064811e+05 2.24821157e+04]]\n"
     ]
    },
    {
     "data": {
      "image/png": "[encoded data removed]",
      "text/plain": [
       "<Figure size 432x288 with 1 Axes>"
      ]
     },
     "metadata": {
      "needs_background": "light"
     },
     "output_type": "display_data"
    },
    {
     "name": "stderr",
     "output_type": "stream",
     "text": [
      "\r",
      " 28%|████████████████████████████████████████████████████████                                                                                                                                                | 28/100 [10:47<22:29, 18.75s/it]"
     ]
    },
    {
     "name": "stdout",
     "output_type": "stream",
     "text": [
      "[1.09431597e-02 1.74975675e-02 8.42185642e-03 5.08106403e-02\n",
      " 9.90315142e-02 5.09962240e-02 1.59864939e-02 3.41155731e-02\n",
      " 1.62705213e-02 2.56695203e-02 1.68965084e-02 2.59638319e-02\n",
      " 9.36966625e-03 2.07469791e-02 1.11799350e-02 4.47507100e-03\n",
      " 8.96505659e-03 6.24726680e-03 4.53719498e-01 2.92700402e-01\n",
      " 4.61382623e-01 2.15575388e-02 3.11980250e-02 1.93685241e-02\n",
      " 4.09881693e-03 8.27081367e-03 4.54290614e-03 7.40124840e-03\n",
      " 5.37895360e-03 6.03798271e-03 6.39287190e-03 4.30900364e-03\n",
      " 3.65570655e-03 7.09955079e-03 5.81129346e-03 4.41559292e-03\n",
      " 1.58470064e-03 4.34212106e-03 2.48852018e-03 2.08044748e-05\n",
      " 1.80091303e-11 3.53619652e-05 1.20429365e-03 3.06375715e-03\n",
      " 1.35290371e-03 1.39493128e-04 2.48088251e-04 1.98914072e-04] [[9.20068137e+00 7.75005581e+01 2.33089813e+01 ... 2.57006496e-53\n",
      "  2.88157016e-22 3.63828638e-31]\n",
      " [3.09282383e-01 2.80125293e+03 2.27197858e+01 ... 1.21635250e-08\n",
      "  6.69792925e-02 6.42800658e-04]\n",
      " [1.07807221e+01 7.50425704e+01 5.37650704e+00 ... 4.34021029e-51\n",
      "  5.84858321e-27 2.72689351e-33]\n",
      " ...\n",
      " [4.58788219e-77 2.58077430e-82 2.08587243e-80 ... 1.30724433e-18\n",
      "  2.96159788e+01 0.00000000e+00]\n",
      " [4.49140055e-59 2.00559999e-25 2.60640115e-30 ... 8.89658831e-17\n",
      "  1.58206536e+02 7.85918331e-21]\n",
      " [4.28128648e-90 5.84660537e-49 1.70156597e-81 ... 5.52988295e-40\n",
      "  1.02746541e+00 6.53350357e-49]] [[1.13869864e+05 1.18357099e+05 1.19859163e+05 ... 8.70545852e+03\n",
      "  6.31205778e+00 3.93974799e+01]\n",
      " [2.00042121e+03 8.24586364e+04 8.45152362e+04 ... 1.66832706e+03\n",
      "  2.65911537e+03 1.69614295e+02]\n",
      " [1.00882368e+05 1.15063129e+05 1.16495777e+05 ... 2.56361066e+00\n",
      "  7.36724291e+00 2.35335579e+03]\n",
      " ...\n",
      " [1.04588120e+01 1.02655740e+01 8.44164812e+00 ... 5.72363130e+04\n",
      "  1.21525824e+06 0.00000000e+00]\n",
      " [2.56145269e+01 1.24733254e+04 7.03406320e+02 ... 2.13097301e+02\n",
      "  1.05222612e+06 8.85365552e+00]\n",
      " [1.13547985e+00 4.22615754e+02 2.58296448e+00 ... 1.82360964e+05\n",
      "  2.99065016e+05 2.24677230e+04]]\n"
     ]
    },
    {
     "data": {
      "image/png": "[encoded data removed]",
      "text/plain": [
       "<Figure size 432x288 with 1 Axes>"
      ]
     },
     "metadata": {
      "needs_background": "light"
     },
     "output_type": "display_data"
    },
    {
     "name": "stderr",
     "output_type": "stream",
     "text": [
      "\r",
      " 29%|█████████████████████████████████████████████████████████▉                                                                                                                                              | 29/100 [11:03<21:15, 17.97s/it]"
     ]
    },
    {
     "name": "stdout",
     "output_type": "stream",
     "text": [
      "[1.09504028e-02 1.75106126e-02 8.42293547e-03 5.07768446e-02\n",
      " 9.90358689e-02 5.09510877e-02 1.59855414e-02 3.43450460e-02\n",
      " 1.62777401e-02 2.56326754e-02 1.68751857e-02 2.59738769e-02\n",
      " 9.37003529e-03 2.07604080e-02 1.11795569e-02 4.47712006e-03\n",
      " 8.95554187e-03 6.24853698e-03 4.53757315e-01 2.92707655e-01\n",
      " 4.61399386e-01 2.15541789e-02 3.11818376e-02 1.93510300e-02\n",
      " 4.09831558e-03 8.26926399e-03 4.54306493e-03 7.40219510e-03\n",
      " 5.37999209e-03 6.03911573e-03 6.35001919e-03 4.29498111e-03\n",
      " 3.65310200e-03 7.08843783e-03 5.80753137e-03 4.41806173e-03\n",
      " 1.58450840e-03 4.34118288e-03 2.49009072e-03 2.04518159e-05\n",
      " 9.13505910e-12 3.53568652e-05 1.20473205e-03 3.06582475e-03\n",
      " 1.35417551e-03 1.39327326e-04 2.47813225e-04 1.98919554e-04] [[9.21434294e+00 7.75075816e+01 2.32874553e+01 ... 2.63545743e-54\n",
      "  8.87513713e-23 4.42288491e-32]\n",
      " [3.23389675e-01 2.80124506e+03 2.54709750e+01 ... 8.82089337e-09\n",
      "  6.69850587e-02 6.50306932e-04]\n",
      " [1.07818652e+01 7.50465066e+01 5.30669591e+00 ... 1.00402033e-52\n",
      "  1.23188252e-27 1.87401856e-34]\n",
      " ...\n",
      " [1.36914983e-79 5.92906491e-85 5.11022377e-83 ... 4.63001005e-19\n",
      "  2.96157047e+01 0.00000000e+00]\n",
      " [2.25071502e-60 3.59873472e-26 2.98248801e-31 ... 3.12807943e-17\n",
      "  1.58209200e+02 2.53285917e-21]\n",
      " [4.83203354e-93 1.80893477e-50 3.95938303e-84 ... 2.30165167e-40\n",
      "  1.02746346e+00 1.50828315e-50]] [[1.13989011e+05 1.18368417e+05 1.20765522e+05 ... 8.70939820e+03\n",
      "  6.31260071e+00 3.92497007e+01]\n",
      " [2.11754683e+03 8.24580999e+04 9.29840353e+04 ... 1.66777254e+03\n",
      "  2.65920648e+03 1.69801748e+02]\n",
      " [1.00995880e+05 1.15070051e+05 1.17085043e+05 ... 2.55872995e+00\n",
      "  7.36716874e+00 2.35447674e+03]\n",
      " ...\n",
      " [1.04751701e+01 1.02972823e+01 8.44226361e+00 ... 5.72358762e+04\n",
      "  1.21525262e+06 0.00000000e+00]\n",
      " [5.54453099e+01 1.24353482e+04 6.86979560e+02 ... 2.25585575e+02\n",
      "  1.05223210e+06 8.85302414e+00]\n",
      " [1.13533705e+00 4.22613090e+02 2.58310135e+00 ... 1.82360695e+05\n",
      "  2.99065526e+05 2.24564377e+04]]\n"
     ]
    },
    {
     "data": {
      "image/png": "[encoded data removed]",
      "text/plain": [
       "<Figure size 432x288 with 1 Axes>"
      ]
     },
     "metadata": {
      "needs_background": "light"
     },
     "output_type": "display_data"
    },
    {
     "name": "stderr",
     "output_type": "stream",
     "text": [
      "\r",
      " 30%|████████████████████████████████████████████████████████████                                                                                                                                            | 30/100 [11:19<20:15, 17.37s/it]"
     ]
    },
    {
     "name": "stdout",
     "output_type": "stream",
     "text": [
      "[1.09569238e-02 1.75215874e-02 8.42319264e-03 5.07487760e-02\n",
      " 9.90381982e-02 5.09172865e-02 1.59854052e-02 3.43929212e-02\n",
      " 1.62838731e-02 2.56021718e-02 1.68496866e-02 2.59819090e-02\n",
      " 9.36439098e-03 2.07736211e-02 1.11813450e-02 4.47932928e-03\n",
      " 8.94184600e-03 6.24982124e-03 4.53788860e-01 2.92712807e-01\n",
      " 4.61405881e-01 2.15518404e-02 3.11696074e-02 1.93383230e-02\n",
      " 4.09777190e-03 8.26810457e-03 4.54168019e-03 7.40286166e-03\n",
      " 5.37943716e-03 6.03984077e-03 6.32312701e-03 4.28656991e-03\n",
      " 3.65040417e-03 7.07934618e-03 5.80483821e-03 4.42010662e-03\n",
      " 1.58450804e-03 4.34055305e-03 2.49226699e-03 2.01310566e-05\n",
      " 4.63310048e-12 3.53534084e-05 1.20499871e-03 3.06760905e-03\n",
      " 1.35533422e-03 1.39086232e-04 2.47606488e-04 1.98924023e-04] [[9.23039346e+00 7.75138919e+01 2.32778416e+01 ... 2.69797365e-55\n",
      "  2.73301107e-23 5.37899934e-33]\n",
      " [3.42017051e-01 2.80124258e+03 2.68679946e+01 ... 6.39635923e-09\n",
      "  6.69917036e-02 6.56110083e-04]\n",
      " [1.07861943e+01 7.50495201e+01 5.27896879e+00 ... 2.32898391e-54\n",
      "  2.59437621e-28 1.28649231e-35]\n",
      " ...\n",
      " [4.09334035e-82 1.36377090e-87 1.25184706e-85 ... 1.63954234e-19\n",
      "  2.96159193e+01 0.00000000e+00]\n",
      " [2.49416161e-61 6.44962746e-27 3.44463039e-32 ... 1.09645008e-17\n",
      "  1.58210512e+02 8.16396111e-22]\n",
      " [5.45516137e-96 5.59292405e-52 9.22175454e-87 ... 9.57944925e-41\n",
      "  1.02746073e+00 3.48163658e-52]] [[1.14127574e+05 1.18378824e+05 1.21163238e+05 ... 8.70874314e+03\n",
      "  6.31300479e+00 3.91241232e+01]\n",
      " [2.27392079e+03 8.24578230e+04 9.76267993e+04 ... 1.66739534e+03\n",
      "  2.65929541e+03 1.69947977e+02]\n",
      " [1.01161814e+05 1.15075378e+05 1.17376732e+05 ... 2.55623127e+00\n",
      "  7.36711620e+00 2.35534053e+03]\n",
      " ...\n",
      " [1.04913456e+01 1.03219854e+01 8.44288166e+00 ... 5.72350694e+04\n",
      "  1.21526590e+06 0.00000000e+00]\n",
      " [1.57981756e+02 1.23966906e+04 6.77655276e+02 ... 2.37515376e+02\n",
      "  1.05223359e+06 8.85251640e+00]\n",
      " [1.13526190e+00 4.22611014e+02 2.58350978e+00 ... 1.82361063e+05\n",
      "  2.99065606e+05 2.24476464e+04]]\n"
     ]
    },
    {
     "data": {
      "image/png": "[encoded data removed]",
      "text/plain": [
       "<Figure size 432x288 with 1 Axes>"
      ]
     },
     "metadata": {
      "needs_background": "light"
     },
     "output_type": "display_data"
    },
    {
     "name": "stderr",
     "output_type": "stream",
     "text": [
      "\r",
      " 31%|██████████████████████████████████████████████████████████████                                                                                                                                          | 31/100 [11:36<19:40, 17.11s/it]"
     ]
    },
    {
     "name": "stdout",
     "output_type": "stream",
     "text": [
      "[1.09632029e-02 1.75308329e-02 8.42354100e-03 5.07232125e-02\n",
      " 9.90377864e-02 5.08922882e-02 1.59873666e-02 3.43974218e-02\n",
      " 1.62847780e-02 2.55755733e-02 1.68212953e-02 2.59884162e-02\n",
      " 9.34096951e-03 2.07876307e-02 1.11848017e-02 4.48136766e-03\n",
      " 8.92174554e-03 6.25105795e-03 4.53814845e-01 2.92716456e-01\n",
      " 4.61404859e-01 2.15501976e-02 3.11600319e-02 1.93311057e-02\n",
      " 4.09718036e-03 8.26718111e-03 4.53932277e-03 7.40323904e-03\n",
      " 5.37662663e-03 6.04022621e-03 6.30341010e-03 4.28210293e-03\n",
      " 3.64774227e-03 7.07182710e-03 5.80300445e-03 4.42181026e-03\n",
      " 1.58456823e-03 4.34022766e-03 2.49538687e-03 1.98388853e-05\n",
      " 2.34959713e-12 3.53509401e-05 1.20515921e-03 3.06910752e-03\n",
      " 1.35643082e-03 1.38865258e-04 2.47450495e-04 1.98927608e-04] [[9.24769848e+00 7.75183956e+01 2.32720797e+01 ... 2.75968237e-56\n",
      "  8.41479903e-24 6.54442832e-34]\n",
      " [3.68372484e-01 2.80129061e+03 2.75159947e+01 ... 4.63759706e-09\n",
      "  6.69987792e-02 6.60576954e-04]\n",
      " [1.07933954e+01 7.50516588e+01 5.27108124e+00 ... 5.41784869e-56\n",
      "  5.46325173e-29 8.82426782e-37]\n",
      " ...\n",
      " [1.22603987e-84 3.13999796e-90 3.06655037e-88 ... 5.80420041e-20\n",
      "  2.96155096e+01 0.00000000e+00]\n",
      " [3.77413895e-62 1.15489197e-27 4.00250631e-33 ... 3.60776333e-18\n",
      "  1.58210551e+02 2.63169294e-22]\n",
      " [6.16141474e-99 1.72822903e-53 2.14964921e-89 ... 3.98653662e-41\n",
      "  1.02745914e+00 8.03633043e-54]] [[1.14295271e+05 1.18386580e+05 1.21317680e+05 ... 8.70742492e+03\n",
      "  6.31330669e+00 3.90180619e+01]\n",
      " [2.49601123e+03 8.24591108e+04 9.99912803e+04 ... 1.66710095e+03\n",
      "  2.65938099e+03 1.70061317e+02]\n",
      " [1.01391243e+05 1.15079176e+05 1.17513967e+05 ... 2.55779832e+00\n",
      "  7.36707853e+00 2.35600397e+03]\n",
      " ...\n",
      " [1.05074883e+01 1.03413250e+01 8.44336704e+00 ... 5.72339040e+04\n",
      "  1.21525157e+06 0.00000000e+00]\n",
      " [3.12912805e+02 1.23583110e+04 6.72449320e+02 ... 2.42225721e+02\n",
      "  1.05222796e+06 8.85211252e+00]\n",
      " [1.13529643e+00 4.22609474e+02 2.58400918e+00 ... 1.82360978e+05\n",
      "  2.99065851e+05 2.24408406e+04]]\n"
     ]
    },
    {
     "data": {
      "image/png": "[encoded data removed]",
      "text/plain": [
       "<Figure size 432x288 with 1 Axes>"
      ]
     },
     "metadata": {
      "needs_background": "light"
     },
     "output_type": "display_data"
    },
    {
     "name": "stderr",
     "output_type": "stream",
     "text": [
      "\r",
      " 32%|████████████████████████████████████████████████████████████████                                                                                                                                        | 32/100 [11:55<20:02, 17.69s/it]"
     ]
    },
    {
     "name": "stdout",
     "output_type": "stream",
     "text": [
      "[1.09697782e-02 1.75386301e-02 8.42394002e-03 5.06979584e-02\n",
      " 9.90337639e-02 5.08741841e-02 1.59989757e-02 3.43947346e-02\n",
      " 1.62825137e-02 2.55522328e-02 1.67903323e-02 2.59937307e-02\n",
      " 9.30904142e-03 2.08035700e-02 1.11897193e-02 4.48323977e-03\n",
      " 8.89505115e-03 6.25225263e-03 4.53836100e-01 2.92719021e-01\n",
      " 4.61398866e-01 2.15490259e-02 3.11523820e-02 1.93284470e-02\n",
      " 4.09655263e-03 8.26641078e-03 4.53759506e-03 7.40343896e-03\n",
      " 5.37234935e-03 6.04031721e-03 6.28888734e-03 4.27966702e-03\n",
      " 3.64522531e-03 7.06467331e-03 5.80173909e-03 4.42323140e-03\n",
      " 1.58461445e-03 4.34009428e-03 2.49930858e-03 1.95723866e-05\n",
      " 1.19148648e-12 3.53491050e-05 1.20525331e-03 3.07028601e-03\n",
      " 1.35751715e-03 1.38811080e-04 2.47332284e-04 1.98930451e-04] [[9.26430013e+000 7.75221030e+001 2.32680904e+001 ... 2.82308344e-057\n",
      "  2.59056181e-024 7.96526426e-035]\n",
      " [4.08855743e-001 2.80131804e+003 2.78228568e+001 ... 3.36261248e-009\n",
      "  6.70059768e-002 6.64003879e-004]\n",
      " [1.08036472e+001 7.50544684e+001 5.27109221e+000 ... 1.26160520e-057\n",
      "  1.15035420e-029 6.04886063e-038]\n",
      " ...\n",
      " [3.67904519e-087 7.23569001e-093 7.51150057e-091 ... 2.05448726e-020\n",
      "  2.96156085e+001 0.00000000e+000]\n",
      " [4.41517720e-063 2.06674036e-028 4.66953967e-034 ... 1.16776230e-018\n",
      "  1.58205215e+002 8.48407030e-023]\n",
      " [6.96368320e-102 5.33766034e-055 5.01422540e-092 ... 1.65899154e-041\n",
      "  1.02745756e+000 1.85486630e-055]] [[1.14507233e+05 1.18393060e+05 1.21368179e+05 ... 8.70719408e+03\n",
      "  6.31353336e+00 3.89289657e+01]\n",
      " [2.83678233e+03 8.24598750e+04 1.01229883e+05 ... 1.66694804e+03\n",
      "  2.65946198e+03 1.70148742e+02]\n",
      " [1.01711052e+05 1.15083871e+05 1.17576242e+05 ... 2.55813777e+00\n",
      "  7.36705281e+00 2.35651179e+03]\n",
      " ...\n",
      " [1.05236947e+01 1.03565555e+01 8.44370184e+00 ... 5.72328604e+04\n",
      "  1.21525953e+06 0.00000000e+00]\n",
      " [3.62704335e+02 1.23210455e+04 6.69633991e+02 ... 2.44240226e+02\n",
      "  1.05218719e+06 8.85179400e+00]\n",
      " [1.13550588e+00 4.22608330e+02 2.58450769e+00 ... 1.82360961e+05\n",
      "  2.99065939e+05 2.24355789e+04]]\n"
     ]
    },
    {
     "data": {
      "image/png": "[encoded data removed]",
      "text/plain": [
       "<Figure size 432x288 with 1 Axes>"
      ]
     },
     "metadata": {
      "needs_background": "light"
     },
     "output_type": "display_data"
    },
    {
     "name": "stderr",
     "output_type": "stream",
     "text": [
      "\r",
      " 33%|██████████████████████████████████████████████████████████████████                                                                                                                                      | 33/100 [12:10<19:01, 17.03s/it]"
     ]
    },
    {
     "name": "stdout",
     "output_type": "stream",
     "text": [
      "[1.09770928e-02 1.75452006e-02 8.42428345e-03 5.06716581e-02\n",
      " 9.90232633e-02 5.08616910e-02 1.60116510e-02 3.43899648e-02\n",
      " 1.62862166e-02 2.55321277e-02 1.67586349e-02 2.59977176e-02\n",
      " 9.28736383e-03 2.08215209e-02 1.11962641e-02 4.48505898e-03\n",
      " 8.86521669e-03 6.25338730e-03 4.53853412e-01 2.92720805e-01\n",
      " 4.61389975e-01 2.15481577e-02 3.11462777e-02 1.93287379e-02\n",
      " 4.09590936e-03 8.26574340e-03 4.53698875e-03 7.40353605e-03\n",
      " 5.36857265e-03 6.04014052e-03 6.27306392e-03 4.27818919e-03\n",
      " 3.64292897e-03 7.05601070e-03 5.80083197e-03 4.42439092e-03\n",
      " 1.58461602e-03 4.34003721e-03 2.50266498e-03 1.93289885e-05\n",
      " 6.04181314e-13 3.53476957e-05 1.20530663e-03 3.07109122e-03\n",
      " 1.35862650e-03 1.38797880e-04 2.47242250e-04 1.98932686e-04] [[9.27667254e+000 7.75258968e+001 2.32654597e+001 ... 2.88811745e-058\n",
      "  7.97445436e-025 9.69771533e-036]\n",
      " [4.77607073e-001 2.80130263e+003 2.79801485e+001 ... 2.43832318e-009\n",
      "  6.70130455e-002 6.66626033e-004]\n",
      " [1.08173429e+001 7.50560138e+001 5.27359115e+000 ... 2.93854630e-059\n",
      "  2.42203087e-030 4.14435963e-039]\n",
      " ...\n",
      " [1.10601127e-089 1.66853540e-095 1.83983185e-093 ... 7.27205698e-021\n",
      "  2.96153670e+001 0.00000000e+000]\n",
      " [4.68995908e-064 3.69703292e-029 5.46224633e-035 ... 3.76095635e-019\n",
      "  1.58206226e+002 2.73527069e-023]\n",
      " [7.87729149e-105 1.64786629e-056 1.17014954e-094 ... 6.90402872e-042\n",
      "  1.02745341e+000 4.28108269e-057]] [[1.14790490e+05 1.18399639e+05 1.21379704e+05 ... 8.70722389e+03\n",
      "  6.31370442e+00 3.88544787e+01]\n",
      " [3.41227765e+03 8.24594079e+04 1.01924593e+05 ... 1.66695480e+03\n",
      "  2.65953757e+03 1.70215913e+02]\n",
      " [1.02174106e+05 1.15086580e+05 1.17603174e+05 ... 2.55817891e+00\n",
      "  7.36703511e+00 2.35689986e+03]\n",
      " ...\n",
      " [1.05400020e+01 1.03686272e+01 8.44391686e+00 ... 5.72321987e+04\n",
      "  1.21525161e+06 0.00000000e+00]\n",
      " [3.68195312e+02 1.22854540e+04 6.68183981e+02 ... 2.45194890e+02\n",
      "  1.05218767e+06 8.85154444e+00]\n",
      " [1.13596093e+00 4.22607521e+02 2.58494584e+00 ... 1.82361071e+05\n",
      "  2.99065177e+05 2.24315477e+04]]\n"
     ]
    },
    {
     "data": {
      "image/png": "[encoded data removed]",
      "text/plain": [
       "<Figure size 432x288 with 1 Axes>"
      ]
     },
     "metadata": {
      "needs_background": "light"
     },
     "output_type": "display_data"
    },
    {
     "name": "stderr",
     "output_type": "stream",
     "text": [
      "\r",
      " 34%|████████████████████████████████████████████████████████████████████                                                                                                                                    | 34/100 [12:26<18:13, 16.57s/it]"
     ]
    },
    {
     "name": "stdout",
     "output_type": "stream",
     "text": [
      "[1.09849123e-02 1.75507366e-02 8.42452021e-03 5.06436596e-02\n",
      " 9.89964559e-02 5.08539245e-02 1.60150779e-02 3.43845075e-02\n",
      " 1.62932322e-02 2.55152553e-02 1.67296496e-02 2.59989124e-02\n",
      " 9.27547022e-03 2.08399020e-02 1.12029595e-02 4.48680154e-03\n",
      " 8.83733120e-03 6.25444426e-03 4.53867477e-01 2.92722026e-01\n",
      " 4.61379735e-01 2.15474156e-02 3.11414987e-02 1.93305069e-02\n",
      " 4.09527832e-03 8.26514912e-03 4.53707941e-03 7.40357504e-03\n",
      " 5.36534253e-03 6.03971046e-03 6.25743722e-03 4.27725974e-03\n",
      " 3.64089473e-03 7.04737742e-03 5.80015337e-03 4.42527573e-03\n",
      " 1.58456710e-03 4.33989982e-03 2.50522074e-03 1.91064165e-05\n",
      " 3.06361062e-13 3.53465848e-05 1.20533671e-03 3.07149520e-03\n",
      " 1.35975237e-03 1.38794586e-04 2.47173284e-04 1.98934431e-04] [[9.27784704e+000 7.75290866e+001 2.32635942e+001 ... 2.95477106e-059\n",
      "  2.45454888e-025 1.18103297e-036]\n",
      " [6.07876729e-001 2.80127831e+003 2.80685389e+001 ... 1.76815341e-009\n",
      "  6.70198452e-002 6.68628493e-004]\n",
      " [1.08338972e+001 7.50571185e+001 5.27649273e+000 ... 6.84503605e-061\n",
      "  5.09917493e-031 2.83844490e-040]\n",
      " ...\n",
      " [3.33082588e-092 3.84988702e-098 4.50617762e-096 ... 2.57400866e-021\n",
      "  2.96152413e+001 0.00000000e+000]\n",
      " [4.85444099e-065 6.61160136e-030 6.40034592e-036 ... 1.20868779e-019\n",
      "  1.58207446e+002 8.81895744e-024]\n",
      " [8.91976120e-108 5.08561085e-058 2.73159598e-097 ... 2.87323850e-042\n",
      "  1.02745311e+000 9.88061766e-059]] [[1.15196219e+05 1.18405289e+05 1.21377481e+05 ... 8.70730737e+03\n",
      "  6.31383428e+00 3.87924730e+01]\n",
      " [4.48952149e+03 8.24586693e+04 1.02341928e+05 ... 1.66707618e+03\n",
      "  2.65960693e+03 1.70267375e+02]\n",
      " [1.02878138e+05 1.15088507e+05 1.17615146e+05 ... 2.55818419e+00\n",
      "  7.36702319e+00 2.35719602e+03]\n",
      " ...\n",
      " [1.05563351e+01 1.03782588e+01 8.44404920e+00 ... 5.72318021e+04\n",
      "  1.21524903e+06 0.00000000e+00]\n",
      " [3.69034211e+02 1.22519001e+04 6.67487753e+02 ... 2.45658229e+02\n",
      "  1.05219173e+06 8.85134995e+00]\n",
      " [1.13668058e+00 4.22606978e+02 2.58529482e+00 ... 1.82361197e+05\n",
      "  2.99065451e+05 2.24284540e+04]]\n"
     ]
    },
    {
     "data": {
      "image/png": "[encoded data removed]",
      "text/plain": [
       "<Figure size 432x288 with 1 Axes>"
      ]
     },
     "metadata": {
      "needs_background": "light"
     },
     "output_type": "display_data"
    },
    {
     "name": "stderr",
     "output_type": "stream",
     "text": [
      "\r",
      " 35%|██████████████████████████████████████████████████████████████████████                                                                                                                                  | 35/100 [12:41<17:29, 16.15s/it]"
     ]
    },
    {
     "name": "stdout",
     "output_type": "stream",
     "text": [
      "[1.09910330e-02 1.75554032e-02 8.42463201e-03 5.06139408e-02\n",
      " 9.89346619e-02 5.08501335e-02 1.60147686e-02 3.43789793e-02\n",
      " 1.62961391e-02 2.55014704e-02 1.67059626e-02 2.59921977e-02\n",
      " 9.27077334e-03 2.08573139e-02 1.12138300e-02 4.48842020e-03\n",
      " 8.81472403e-03 6.25541177e-03 4.53878882e-01 2.92722846e-01\n",
      " 4.61369202e-01 2.15465114e-02 3.11378553e-02 1.93327620e-02\n",
      " 4.09469117e-03 8.26460914e-03 4.53748414e-03 7.40358242e-03\n",
      " 5.36158356e-03 6.03903613e-03 6.24282276e-03 4.27658276e-03\n",
      " 3.63913530e-03 7.04167416e-03 5.79962695e-03 4.42579220e-03\n",
      " 1.58447286e-03 4.33930185e-03 2.50806773e-03 1.89026554e-05\n",
      " 1.55343026e-13 3.53456899e-05 1.20535507e-03 3.07159402e-03\n",
      " 1.36082944e-03 1.38794291e-04 2.47120115e-04 1.98935786e-04] [[9.25304441e+000 7.75314622e+001 2.32621793e+001 ... 3.02309518e-060\n",
      "  7.55459889e-026 1.43867066e-037]\n",
      " [8.65076964e-001 2.80133564e+003 2.81217565e+001 ... 1.28218704e-009\n",
      "  6.70262858e-002 6.70155436e-004]\n",
      " [1.08488742e+001 7.50581572e+001 5.27901440e+000 ... 1.59451411e-062\n",
      "  1.07348449e-031 1.94348409e-041]\n",
      " ...\n",
      " [1.00480443e-094 8.88745955e-101 1.10363093e-098 ... 9.11091323e-022\n",
      "  2.96149982e+001 0.00000000e+000]\n",
      " [4.74037006e-066 1.18221306e-030 7.50727628e-037 ... 3.88054950e-020\n",
      "  1.58201460e+002 2.84348051e-024]\n",
      " [1.01097097e-110 1.56905633e-059 6.37798167e-100 ... 1.19578136e-042\n",
      "  1.02745102e+000 2.28037753e-060]] [[1.15815789e+05 1.18409647e+05 1.21371296e+05 ... 8.70741083e+03\n",
      "  6.31393355e+00 3.87410580e+01]\n",
      " [6.56223458e+03 8.24603344e+04 1.02604665e+05 ... 1.66727851e+03\n",
      "  2.65967147e+03 1.70306704e+02]\n",
      " [1.03991337e+05 1.15090256e+05 1.17619924e+05 ... 2.55818531e+00\n",
      "  7.36701539e+00 2.35742143e+03]\n",
      " ...\n",
      " [1.05723742e+01 1.03859927e+01 8.44412845e+00 ... 5.72315212e+04\n",
      "  1.21524108e+06 0.00000000e+00]\n",
      " [3.70919158e+02 1.22206451e+04 6.67186080e+02 ... 2.45884504e+02\n",
      "  1.05214879e+06 8.85119901e+00]\n",
      " [1.13753512e+00 4.22606649e+02 2.58555064e+00 ... 1.82361115e+05\n",
      "  2.99065146e+05 2.24260853e+04]]\n"
     ]
    },
    {
     "data": {
      "image/png": "[encoded data removed]",
      "text/plain": [
       "<Figure size 432x288 with 1 Axes>"
      ]
     },
     "metadata": {
      "needs_background": "light"
     },
     "output_type": "display_data"
    },
    {
     "name": "stderr",
     "output_type": "stream",
     "text": [
      "\r",
      " 36%|████████████████████████████████████████████████████████████████████████                                                                                                                                | 36/100 [12:59<17:42, 16.60s/it]"
     ]
    },
    {
     "name": "stdout",
     "output_type": "stream",
     "text": [
      "[1.09938027e-02 1.75593624e-02 8.42461431e-03 5.05830273e-02\n",
      " 9.88325013e-02 5.08495608e-02 1.60145886e-02 3.43734487e-02\n",
      " 1.63008066e-02 2.54905296e-02 1.66882580e-02 2.59658414e-02\n",
      " 9.26649275e-03 2.08740626e-02 1.12294438e-02 4.48991079e-03\n",
      " 8.79804509e-03 6.25628525e-03 4.53888120e-01 2.92723280e-01\n",
      " 4.61359031e-01 2.15454094e-02 3.11351495e-02 1.93349658e-02\n",
      " 4.09417675e-03 8.26411310e-03 4.53801635e-03 7.40357374e-03\n",
      " 5.35660771e-03 6.03812961e-03 6.22825639e-03 4.27405148e-03\n",
      " 3.63764213e-03 7.03779846e-03 5.79920571e-03 4.42523545e-03\n",
      " 1.58434158e-03 4.33727074e-03 2.50977146e-03 1.87159150e-05\n",
      " 7.87670246e-14 3.53449555e-05 1.20536778e-03 3.07156009e-03\n",
      " 1.36174206e-03 1.38794969e-04 2.47078834e-04 1.98936834e-04] [[9.18083415e+000 7.75327525e+001 2.32608636e+001 ... 3.09315446e-061\n",
      "  2.32500737e-026 1.75288025e-038]\n",
      " [1.29177221e+000 2.80133441e+003 2.81553136e+001 ... 9.29775463e-010\n",
      "  6.70322397e-002 6.71318412e-004]\n",
      " [1.08493558e+001 7.50591694e+001 5.28098824e+000 ... 3.71434186e-064\n",
      "  2.25980037e-032 1.33041865e-042]\n",
      " ...\n",
      " [3.03647972e-097 2.05253595e-103 2.70291328e-101 ... 3.22487353e-022\n",
      "  2.96151689e+001 0.00000000e+000]\n",
      " [4.23614158e-067 2.11379466e-031 8.81085026e-038 ... 1.24526792e-020\n",
      "  1.58204638e+002 9.16844296e-025]\n",
      " [1.14694930e-113 4.83981054e-061 1.48939666e-102 ... 4.97673006e-043\n",
      "  1.02745266e+000 5.26288501e-062]] [[1.16770391e+05 1.18412206e+05 1.21363718e+05 ... 8.70752946e+03\n",
      "  6.31401005e+00 3.86985746e+01]\n",
      " [9.81672294e+03 8.24603363e+04 1.02775119e+05 ... 1.66754368e+03\n",
      "  2.65973004e+03 1.70336723e+02]\n",
      " [1.05653207e+05 1.15091921e+05 1.17621518e+05 ... 2.55818585e+00\n",
      "  7.36701075e+00 2.35759308e+03]\n",
      " ...\n",
      " [1.05874808e+01 1.03922414e+01 8.44417495e+00 ... 5.72312817e+04\n",
      "  1.21525051e+06 0.00000000e+00]\n",
      " [3.74167346e+02 1.21918954e+04 6.67074510e+02 ... 2.45995895e+02\n",
      "  1.05216512e+06 8.85108221e+00]\n",
      " [1.13835113e+00 4.22606480e+02 2.58572305e+00 ... 1.82360996e+05\n",
      "  2.99065863e+05 2.24242884e+04]]\n"
     ]
    },
    {
     "data": {
      "image/png": "[encoded data removed]",
      "text/plain": [
       "<Figure size 432x288 with 1 Axes>"
      ]
     },
     "metadata": {
      "needs_background": "light"
     },
     "output_type": "display_data"
    },
    {
     "name": "stderr",
     "output_type": "stream",
     "text": [
      "\r",
      " 37%|██████████████████████████████████████████████████████████████████████████                                                                                                                              | 37/100 [13:16<17:39, 16.82s/it]"
     ]
    },
    {
     "name": "stdout",
     "output_type": "stream",
     "text": [
      "[1.09985175e-02 1.75626950e-02 8.42447024e-03 5.05518556e-02\n",
      " 9.87221187e-02 5.08514463e-02 1.60145323e-02 3.43659892e-02\n",
      " 1.62965107e-02 2.54821674e-02 1.66759174e-02 2.59075808e-02\n",
      " 9.25899737e-03 2.08908742e-02 1.12239496e-02 4.49130174e-03\n",
      " 8.78637292e-03 6.25706468e-03 4.53895597e-01 2.92722755e-01\n",
      " 4.61349561e-01 2.15452869e-02 3.11331837e-02 1.93368844e-02\n",
      " 4.09375145e-03 8.26365325e-03 4.53860031e-03 7.40355808e-03\n",
      " 5.35053362e-03 6.03701389e-03 6.21504978e-03 4.26275733e-03\n",
      " 3.63638947e-03 7.03463105e-03 5.79885608e-03 4.42303970e-03\n",
      " 1.58418101e-03 4.33298631e-03 2.50477057e-03 1.85446015e-05\n",
      " 3.99386461e-14 3.53443436e-05 1.20537706e-03 3.07160255e-03\n",
      " 1.36239350e-03 1.38795932e-04 2.47046537e-04 1.98937642e-04] [[9.06479372e+000 7.75348843e+001 2.32596875e+001 ... 3.16501928e-062\n",
      "  7.15506805e-027 2.13609651e-039]\n",
      " [1.85695469e+000 2.80132799e+003 2.81767128e+001 ... 6.74209467e-010\n",
      "  6.70377288e-002 6.72203354e-004]\n",
      " [1.08218569e+001 7.50599259e+001 5.28246007e+000 ... 8.65233595e-066\n",
      "  4.75691176e-033 9.10594010e-044]\n",
      " ...\n",
      " [9.19360073e-100 4.74196784e-106 6.61973074e-104 ... 1.14146291e-022\n",
      "  2.96147030e+001 0.00000000e+000]\n",
      " [3.43401854e-068 3.77945172e-032 1.03440195e-038 ... 3.99513771e-021\n",
      "  1.58203532e+002 2.95631253e-025]\n",
      " [1.30299492e-116 1.49254969e-062 3.47838177e-105 ... 2.07133316e-043\n",
      "  1.02745109e+000 1.21460862e-063]] [[1.18034250e+05 1.18415944e+05 1.21356534e+05 ... 8.70766349e+03\n",
      "  6.31406955e+00 3.86635842e+01]\n",
      " [1.38078743e+04 8.24601617e+04 1.02886441e+05 ... 1.66786403e+03\n",
      "  2.65978259e+03 1.70359600e+02]\n",
      " [1.07570741e+05 1.15093200e+05 1.17621918e+05 ... 2.55818631e+00\n",
      "  7.36700853e+00 2.35772376e+03]\n",
      " ...\n",
      " [1.06009950e+01 1.03973209e+01 8.44420178e+00 ... 5.72309984e+04\n",
      "  1.21523206e+06 0.00000000e+00]\n",
      " [3.78129953e+02 1.21656306e+04 6.67041556e+02 ... 2.46051766e+02\n",
      "  1.05215569e+06 8.85099205e+00]\n",
      " [1.13912255e+00 4.22606405e+02 2.58582705e+00 ... 1.82361072e+05\n",
      "  2.99065635e+05 2.24229030e+04]]\n"
     ]
    },
    {
     "data": {
      "image/png": "[encoded data removed]",
      "text/plain": [
       "<Figure size 432x288 with 1 Axes>"
      ]
     },
     "metadata": {
      "needs_background": "light"
     },
     "output_type": "display_data"
    },
    {
     "name": "stderr",
     "output_type": "stream",
     "text": [
      "\r",
      " 38%|████████████████████████████████████████████████████████████████████████████                                                                                                                            | 38/100 [13:32<17:06, 16.56s/it]"
     ]
    },
    {
     "name": "stdout",
     "output_type": "stream",
     "text": [
      "[1.10086676e-02 1.75655211e-02 8.42421035e-03 5.05215647e-02\n",
      " 9.86255604e-02 5.08550850e-02 1.60145179e-02 3.43586390e-02\n",
      " 1.63022648e-02 2.54761128e-02 1.66677655e-02 2.58224367e-02\n",
      " 9.24935188e-03 2.09078857e-02 1.12238832e-02 4.49263601e-03\n",
      " 8.77838333e-03 6.25775340e-03 4.53901646e-01 2.92718290e-01\n",
      " 4.61340894e-01 2.15464070e-02 3.11317752e-02 1.93384496e-02\n",
      " 4.09341603e-03 8.26322717e-03 4.53920687e-03 7.40354064e-03\n",
      " 5.34411400e-03 6.03572857e-03 6.20515971e-03 4.25874745e-03\n",
      " 3.63515380e-03 7.03187205e-03 5.79855465e-03 4.42236164e-03\n",
      " 1.58399701e-03 4.32859105e-03 2.49017370e-03 1.83872932e-05\n",
      " 2.02506804e-14 3.53438268e-05 1.20538353e-03 3.07192721e-03\n",
      " 1.36279350e-03 1.38796935e-04 2.47021054e-04 1.98938263e-04] [[8.93767480e+000 7.75364943e+001 2.32585974e+001 ... 3.23876718e-063\n",
      "  2.20182273e-027 2.60348526e-040]\n",
      " [2.62368743e+000 2.80138616e+003 2.81906894e+001 ... 4.88874853e-010\n",
      "  6.70427277e-002 6.72876305e-004]\n",
      " [1.07709288e+001 7.50601064e+001 5.28351929e+000 ... 2.01549641e-067\n",
      "  1.00129637e-033 6.23171110e-045]\n",
      " ...\n",
      " [2.78785465e-102 1.09586613e-108 1.62127016e-106 ... 4.04026104e-023\n",
      "  2.96148630e+001 0.00000000e+000]\n",
      " [2.52993828e-069 6.75790683e-033 1.21457217e-039 ... 1.28160078e-021\n",
      "  1.58199097e+002 9.53262021e-026]\n",
      " [1.48193528e-119 4.60208106e-064 8.12401665e-108 ... 8.62122846e-044\n",
      "  1.02745104e+000 2.80314629e-065]] [[1.19400115e+05 1.18418848e+05 1.21349996e+05 ... 8.70781609e+03\n",
      "  6.31411627e+00 3.86348502e+01]\n",
      " [1.89825301e+04 8.24618793e+04 1.02960325e+05 ... 1.66823795e+03\n",
      "  2.65983012e+03 1.70377022e+02]\n",
      " [1.09256894e+05 1.15093560e+05 1.17621758e+05 ... 2.55818680e+00\n",
      "  7.36700768e+00 2.35782291e+03]\n",
      " ...\n",
      " [1.06124353e+01 1.04014718e+01 8.44421698e+00 ... 5.72306892e+04\n",
      "  1.21524127e+06 0.00000000e+00]\n",
      " [3.82326981e+02 1.21418098e+04 6.67030129e+02 ... 2.46080934e+02\n",
      "  1.05212367e+06 8.85092261e+00]\n",
      " [1.13978936e+00 4.22606403e+02 2.58587752e+00 ... 1.82360851e+05\n",
      "  2.99065785e+05 2.24218547e+04]]\n"
     ]
    },
    {
     "data": {
      "image/png": "[encoded data removed]",
      "text/plain": [
       "<Figure size 432x288 with 1 Axes>"
      ]
     },
     "metadata": {
      "needs_background": "light"
     },
     "output_type": "display_data"
    },
    {
     "name": "stderr",
     "output_type": "stream",
     "text": [
      "\r",
      " 39%|██████████████████████████████████████████████████████████████████████████████                                                                                                                          | 39/100 [13:48<16:39, 16.38s/it]"
     ]
    },
    {
     "name": "stdout",
     "output_type": "stream",
     "text": [
      "[1.10208097e-02 1.75679207e-02 8.42385519e-03 5.04932593e-02\n",
      " 9.85405848e-02 5.08598537e-02 1.60145211e-02 3.43532283e-02\n",
      " 1.63029320e-02 2.54720619e-02 1.66625657e-02 2.57302408e-02\n",
      " 9.24231571e-03 2.09249967e-02 1.12183799e-02 4.49396138e-03\n",
      " 8.77291779e-03 6.25835584e-03 4.53906535e-01 2.92711397e-01\n",
      " 4.61332907e-01 2.15477642e-02 3.11307742e-02 1.93396624e-02\n",
      " 4.09315941e-03 8.26283182e-03 4.53982347e-03 7.40352427e-03\n",
      " 5.33811889e-03 6.03433043e-03 6.19938202e-03 4.25243391e-03\n",
      " 3.62988684e-03 7.02950633e-03 5.79828468e-03 4.42151226e-03\n",
      " 1.58379337e-03 4.32607820e-03 2.47865935e-03 1.82427188e-05\n",
      " 1.02679575e-14 3.53433852e-05 1.20538760e-03 3.07255503e-03\n",
      " 1.36304308e-03 1.38797892e-04 2.47000772e-04 1.98938739e-04] [[8.81405297e+000 7.75373224e+001 2.32575398e+001 ... 3.31448157e-064\n",
      "  6.77535790e-028 3.17354326e-041]\n",
      " [3.83008803e+000 2.80140740e+003 2.81998324e+001 ... 3.54473005e-010\n",
      "  6.70472540e-002 6.73387740e-004]\n",
      " [1.07097773e+001 7.50617218e+001 5.28425865e+000 ... 4.69491505e-069\n",
      "  2.10758097e-034 4.26431091e-046]\n",
      " ...\n",
      " [8.46081582e-105 2.53318532e-111 3.97085020e-109 ... 1.43006484e-023\n",
      "  2.96148413e+001 0.00000000e+000]\n",
      " [1.70537548e-070 1.20845230e-033 1.42618689e-040 ... 4.11103776e-022\n",
      "  1.58198376e+002 3.07382907e-026]\n",
      " [1.68647234e-122 1.41878454e-065 1.89750491e-110 ... 3.58843033e-044\n",
      "  1.02745111e+000 6.46923306e-067]] [[1.20810249e+05 1.18420485e+05 1.21343963e+05 ... 8.70798825e+03\n",
      "  6.31415336e+00 3.86113176e+01]\n",
      " [2.69311876e+04 8.24625524e+04 1.03009491e+05 ... 1.66866728e+03\n",
      "  2.65987257e+03 1.70390275e+02]\n",
      " [1.10648650e+05 1.15096069e+05 1.17621199e+05 ... 2.55818737e+00\n",
      "  7.36700789e+00 2.35789825e+03]\n",
      " ...\n",
      " [1.06216877e+01 1.04048794e+01 8.44422538e+00 ... 5.72303729e+04\n",
      "  1.21524082e+06 0.00000000e+00]\n",
      " [3.86616081e+02 1.21203992e+04 6.67013667e+02 ... 2.46097342e+02\n",
      "  1.05211552e+06 8.85086919e+00]\n",
      " [1.14038834e+00 4.22606498e+02 2.58588735e+00 ... 1.82361075e+05\n",
      "  2.99065956e+05 2.24210602e+04]]\n"
     ]
    },
    {
     "data": {
      "image/png": "[encoded data removed]",
      "text/plain": [
       "<Figure size 432x288 with 1 Axes>"
      ]
     },
     "metadata": {
      "needs_background": "light"
     },
     "output_type": "display_data"
    },
    {
     "name": "stderr",
     "output_type": "stream",
     "text": [
      "\r",
      " 40%|████████████████████████████████████████████████████████████████████████████████                                                                                                                        | 40/100 [14:03<15:57, 15.96s/it]"
     ]
    },
    {
     "name": "stdout",
     "output_type": "stream",
     "text": [
      "[1.10281344e-02 1.75699396e-02 8.42343577e-03 5.04678128e-02\n",
      " 9.84602537e-02 5.08651834e-02 1.60145321e-02 3.43443552e-02\n",
      " 1.63016902e-02 2.54696627e-02 1.66593210e-02 2.56520611e-02\n",
      " 9.23768989e-03 2.09415898e-02 1.12127250e-02 4.49532693e-03\n",
      " 8.76912649e-03 6.25887678e-03 4.53910483e-01 2.92709029e-01\n",
      " 4.61325170e-01 2.15488747e-02 3.11300639e-02 1.93405307e-02\n",
      " 4.09296541e-03 8.26246220e-03 4.54044149e-03 7.40351040e-03\n",
      " 5.33295567e-03 6.03288730e-03 6.19702131e-03 4.23629253e-03\n",
      " 3.62652852e-03 7.02755170e-03 5.79803124e-03 4.42010475e-03\n",
      " 1.58357225e-03 4.32478947e-03 2.47490361e-03 1.81097390e-05\n",
      " 5.20627595e-15 3.53430040e-05 1.20538977e-03 3.07329356e-03\n",
      " 1.36323339e-03 1.38798772e-04 2.46984481e-04 1.98939103e-04] [[8.69263262e+000 7.75390426e+001 2.32565100e+001 ... 3.39225460e-065\n",
      "  2.08480391e-028 3.86883002e-042]\n",
      " [5.67861624e+000 2.80139436e+003 2.82058450e+001 ... 2.57008752e-010\n",
      "  6.70513456e-002 6.73776181e-004]\n",
      " [1.06426003e+001 7.50615434e+001 5.28477430e+000 ... 1.09363062e-070\n",
      "  4.43599735e-035 2.91782531e-047]\n",
      " ...\n",
      " [2.56870949e-107 5.85692682e-114 9.72589816e-112 ... 5.06174704e-024\n",
      "  2.96146552e+001 0.00000000e+000]\n",
      " [1.05884723e-071 2.16114798e-034 1.67464980e-041 ... 1.31868338e-022\n",
      "  1.58194728e+002 9.91177187e-027]\n",
      " [1.91973375e-125 4.37345727e-067 4.43208683e-113 ... 1.49367443e-044\n",
      "  1.02745023e+000 1.49299343e-068]] [[1.22321992e+05 1.18423440e+05 1.21338394e+05 ... 8.70818283e+03\n",
      "  6.31418318e+00 3.85920927e+01]\n",
      " [3.84291534e+04 8.24622002e+04 1.03042422e+05 ... 1.66915591e+03\n",
      "  2.65991067e+03 1.70400350e+02]\n",
      " [1.11812343e+05 1.15095901e+05 1.17620648e+05 ... 2.55818804e+00\n",
      "  7.36700888e+00 2.35795566e+03]\n",
      " ...\n",
      " [1.06288085e+01 1.04076907e+01 8.44422984e+00 ... 5.72300131e+04\n",
      "  1.21523405e+06 0.00000000e+00]\n",
      " [3.90994705e+02 1.21012296e+04 6.66981996e+02 ... 2.46107732e+02\n",
      "  1.05208900e+06 8.85082814e+00]\n",
      " [1.14091721e+00 4.22606600e+02 2.58586693e+00 ... 1.82361180e+05\n",
      "  2.99065827e+05 2.24204502e+04]]\n"
     ]
    },
    {
     "data": {
      "image/png": "[encoded data removed]",
      "text/plain": [
       "<Figure size 432x288 with 1 Axes>"
      ]
     },
     "metadata": {
      "needs_background": "light"
     },
     "output_type": "display_data"
    },
    {
     "name": "stderr",
     "output_type": "stream",
     "text": [
      "\r",
      " 41%|██████████████████████████████████████████████████████████████████████████████████                                                                                                                      | 41/100 [14:19<15:53, 16.17s/it]"
     ]
    },
    {
     "name": "stdout",
     "output_type": "stream",
     "text": [
      "[1.10293717e-02 1.75716521e-02 8.42299008e-03 5.04457556e-02\n",
      " 9.83826859e-02 5.08704563e-02 1.60145456e-02 3.43365202e-02\n",
      " 1.63067111e-02 2.54685380e-02 1.66573291e-02 2.55979907e-02\n",
      " 9.23398183e-03 2.09568061e-02 1.12096250e-02 4.49678033e-03\n",
      " 8.76643110e-03 6.25931758e-03 4.53913663e-01 2.92708572e-01\n",
      " 4.61316784e-01 2.15496794e-02 3.11295588e-02 1.93410145e-02\n",
      " 4.09281793e-03 8.26211870e-03 4.54105131e-03 7.40349971e-03\n",
      " 5.32873854e-03 6.03146663e-03 6.19676895e-03 4.22778889e-03\n",
      " 3.62604042e-03 7.02599133e-03 5.79777786e-03 4.41835372e-03\n",
      " 1.58333461e-03 4.32393030e-03 2.47415201e-03 1.79873310e-05\n",
      " 2.63978973e-15 3.53426720e-05 1.20539057e-03 3.07403682e-03\n",
      " 1.36339884e-03 1.38799567e-04 2.46971276e-04 1.98939381e-04] [[8.58568090e+000 7.75403464e+001 2.32555210e+001 ... 3.47218730e-066\n",
      "  6.41479444e-029 4.71686050e-043]\n",
      " [7.86007371e+000 2.80132590e+003 2.82093937e+001 ... 1.86332479e-010\n",
      "  6.70549973e-002 6.74071208e-004]\n",
      " [1.05714181e+001 7.50614740e+001 5.28511196e+000 ... 2.54748159e-072\n",
      "  9.33651445e-036 1.99639286e-048]\n",
      " ...\n",
      " [7.80187905e-110 1.35441541e-116 2.38230536e-114 ... 1.79160952e-024\n",
      "  2.96145839e+001 0.00000000e+000]\n",
      " [6.08458421e-073 3.86526383e-035 1.96631126e-042 ... 4.22986410e-023\n",
      "  1.58198162e+002 3.19614186e-027]\n",
      " [2.18543725e-128 1.34799507e-068 1.03524426e-115 ... 6.21762290e-045\n",
      "  1.02745170e+000 3.44557549e-070]] [[1.23810538e+05 1.18425742e+05 1.21333292e+05 ... 8.70840352e+03\n",
      "  6.31420744e+00 3.85764233e+01]\n",
      " [5.08940583e+04 8.24601911e+04 1.03063101e+05 ... 1.66970920e+03\n",
      "  2.65994491e+03 1.70408004e+02]\n",
      " [1.12647141e+05 1.15095816e+05 1.17619711e+05 ... 2.55818883e+00\n",
      "  7.36701033e+00 2.35799906e+03]\n",
      " ...\n",
      " [1.06336435e+01 1.04100183e+01 8.44423204e+00 ... 5.72295836e+04\n",
      "  1.21523258e+06 0.00000000e+00]\n",
      " [3.95539345e+02 1.20841119e+04 6.66933312e+02 ... 2.46115362e+02\n",
      "  1.05210905e+06 8.85079666e+00]\n",
      " [1.14116177e+00 4.22606726e+02 2.58582436e+00 ... 1.82360962e+05\n",
      "  2.99066359e+05 2.24199948e+04]]\n"
     ]
    },
    {
     "data": {
      "image/png": "[encoded data removed]",
      "text/plain": [
       "<Figure size 432x288 with 1 Axes>"
      ]
     },
     "metadata": {
      "needs_background": "light"
     },
     "output_type": "display_data"
    },
    {
     "name": "stderr",
     "output_type": "stream",
     "text": [
      "\r",
      " 42%|████████████████████████████████████████████████████████████████████████████████████                                                                                                                    | 42/100 [14:38<16:09, 16.72s/it]"
     ]
    },
    {
     "name": "stdout",
     "output_type": "stream",
     "text": [
      "[1.10304562e-02 1.75730857e-02 8.42255605e-03 5.04272653e-02\n",
      " 9.83088676e-02 5.08747728e-02 1.60145597e-02 3.43261411e-02\n",
      " 1.63318588e-02 2.54683268e-02 1.66561237e-02 2.55652609e-02\n",
      " 9.23061519e-03 2.09700428e-02 1.12079324e-02 4.49836178e-03\n",
      " 8.76445441e-03 6.25967238e-03 4.53916205e-01 2.92708448e-01\n",
      " 4.61306778e-01 2.15502333e-02 3.11291968e-02 1.93409557e-02\n",
      " 4.09270308e-03 8.26179873e-03 4.54164040e-03 7.40349227e-03\n",
      " 5.32541550e-03 6.03012571e-03 6.19743869e-03 4.22580131e-03\n",
      " 3.62529937e-03 7.02477876e-03 5.79747466e-03 4.41662874e-03\n",
      " 1.58308083e-03 4.32315085e-03 2.47412209e-03 1.78745747e-05\n",
      " 1.33847647e-15 3.53423804e-05 1.20539049e-03 3.07471591e-03\n",
      " 1.36353995e-03 1.38800272e-04 2.46960474e-04 1.98939593e-04] [[8.51587473e+000 7.75408747e+001 2.32545114e+001 ... 3.55438931e-067\n",
      "  1.97372249e-029 5.75119333e-044]\n",
      " [1.01011480e+001 2.80131240e+003 2.82114216e+001 ... 1.35083237e-010\n",
      "  6.70582525e-002 6.74295211e-004]\n",
      " [1.05086794e+001 7.50627061e+001 5.28533908e+000 ... 5.93402266e-074\n",
      "  1.96501445e-036 1.36588689e-049]\n",
      " ...\n",
      " [2.37088605e-112 3.13257105e-119 5.83563388e-117 ... 6.34139566e-025\n",
      "  2.96145506e+001 0.00000000e+000]\n",
      " [3.25307534e-074 6.91371671e-036 2.30862742e-043 ... 1.35678998e-023\n",
      "  1.58197450e+002 1.03063099e-027]\n",
      " [2.48847538e-131 4.15445079e-070 2.41814771e-118 ... 2.58828803e-045\n",
      "  1.02744991e+000 7.95177630e-072]] [[1.24981151e+05 1.18426848e+05 1.21328256e+05 ... 8.70865047e+03\n",
      "  6.31422747e+00 3.85636789e+01]\n",
      " [6.32759756e+04 8.24597519e+04 1.03075939e+05 ... 1.67033304e+03\n",
      "  2.65997383e+03 1.70413820e+02]\n",
      " [1.13122688e+05 1.15097713e+05 1.17618868e+05 ... 2.55818973e+00\n",
      "  7.36701233e+00 2.35803199e+03]\n",
      " ...\n",
      " [1.06360137e+01 1.04119518e+01 8.44423297e+00 ... 5.72291347e+04\n",
      "  1.21523190e+06 0.00000000e+00]\n",
      " [4.00296518e+02 1.20688427e+04 6.66869554e+02 ... 2.46121823e+02\n",
      "  1.05210380e+06 8.85077251e+00]\n",
      " [1.14108255e+00 4.22606863e+02 2.58576606e+00 ... 1.82360915e+05\n",
      "  2.99065939e+05 2.24196278e+04]]\n"
     ]
    },
    {
     "data": {
      "image/png": "[encoded data removed]",
      "text/plain": [
       "<Figure size 432x288 with 1 Axes>"
      ]
     },
     "metadata": {
      "needs_background": "light"
     },
     "output_type": "display_data"
    },
    {
     "name": "stderr",
     "output_type": "stream",
     "text": [
      "\r",
      " 43%|██████████████████████████████████████████████████████████████████████████████████████                                                                                                                  | 43/100 [14:57<16:46, 17.66s/it]"
     ]
    },
    {
     "name": "stdout",
     "output_type": "stream",
     "text": [
      "[1.10328913e-02 1.75743087e-02 8.42216392e-03 5.04122292e-02\n",
      " 9.82407200e-02 5.08764120e-02 1.60145741e-02 3.43120919e-02\n",
      " 1.63340534e-02 2.54687176e-02 1.66554074e-02 2.55468732e-02\n",
      " 9.22740877e-03 2.09811758e-02 1.12065371e-02 4.50009127e-03\n",
      " 8.76295613e-03 6.25991713e-03 4.53918198e-01 2.92708382e-01\n",
      " 4.61295959e-01 2.15506007e-02 3.11289332e-02 1.93399767e-02\n",
      " 4.09260943e-03 8.26150144e-03 4.54219347e-03 7.40348795e-03\n",
      " 5.32287755e-03 6.02891942e-03 6.19830116e-03 4.22532651e-03\n",
      " 3.62460863e-03 7.02385730e-03 5.79668237e-03 4.41520227e-03\n",
      " 1.58281125e-03 4.32232937e-03 2.47422755e-03 1.77706407e-05\n",
      " 6.78658913e-16 3.53421226e-05 1.20538988e-03 3.07532697e-03\n",
      " 1.36365160e-03 1.38800889e-04 2.46951552e-04 1.98939755e-04] [[8.48241146e+000 7.75415523e+001 2.32536517e+001 ... 3.63898250e-068\n",
      "  6.07262283e-030 7.01275881e-045]\n",
      " [1.22583504e+001 2.80133507e+003 2.82128551e+001 ... 9.79225585e-011\n",
      "  6.70611584e-002 6.74465249e-004]\n",
      " [1.04607911e+001 7.50625717e+001 5.28550064e+000 ... 1.38224617e-075\n",
      "  4.13556604e-037 9.34479503e-051]\n",
      " ...\n",
      " [7.20620465e-115 7.24614452e-122 1.42955538e-119 ... 2.24452495e-025\n",
      "  2.96143723e+001 0.00000000e+000]\n",
      " [1.62855307e-075 1.23676347e-036 2.71034768e-044 ... 4.35212435e-024\n",
      "  1.58202131e+002 3.32339656e-028]\n",
      " [2.83422412e-134 1.28028682e-071 5.64838345e-121 ... 1.07751253e-045\n",
      "  1.02744933e+000 1.83512679e-073]] [[1.25783050e+05 1.18428103e+05 1.21324122e+05 ... 8.70892797e+03\n",
      "  6.31424418e+00 3.85533338e+01]\n",
      " [7.52886076e+04 8.24604062e+04 1.03085054e+05 ... 1.67103430e+03\n",
      "  2.66000060e+03 1.70418243e+02]\n",
      " [1.13390042e+05 1.15097547e+05 1.17618379e+05 ... 2.55819077e+00\n",
      "  7.36701403e+00 2.35805694e+03]\n",
      " ...\n",
      " [1.06361584e+01 1.04135615e+01 8.44423327e+00 ... 5.72286076e+04\n",
      "  1.21522528e+06 0.00000000e+00]\n",
      " [4.05224483e+02 1.20553190e+04 6.66793865e+02 ... 2.46127899e+02\n",
      "  1.05213376e+06 8.85075400e+00]\n",
      " [1.14085591e+00 4.22607043e+02 2.58569705e+00 ... 1.82360999e+05\n",
      "  2.99065855e+05 2.24193621e+04]]\n"
     ]
    },
    {
     "data": {
      "image/png": "[encoded data removed]",
      "text/plain": [
       "<Figure size 432x288 with 1 Axes>"
      ]
     },
     "metadata": {
      "needs_background": "light"
     },
     "output_type": "display_data"
    },
    {
     "name": "stderr",
     "output_type": "stream",
     "text": [
      "\r",
      " 44%|████████████████████████████████████████████████████████████████████████████████████████                                                                                                                | 44/100 [15:18<17:23, 18.63s/it]"
     ]
    },
    {
     "name": "stdout",
     "output_type": "stream",
     "text": [
      "[1.10338321e-02 1.75753509e-02 8.42183152e-03 5.04003363e-02\n",
      " 9.81798681e-02 5.08719536e-02 1.60145864e-02 3.42949813e-02\n",
      " 1.63328757e-02 2.54694615e-02 1.66549940e-02 2.55370197e-02\n",
      " 9.22427497e-03 2.09905908e-02 1.12050190e-02 4.50195007e-03\n",
      " 8.76178024e-03 6.25999127e-03 4.53919678e-01 2.92708336e-01\n",
      " 4.61286999e-01 2.15508325e-02 3.11287363e-02 1.93374369e-02\n",
      " 4.09252683e-03 8.26122841e-03 4.54269332e-03 7.40348650e-03\n",
      " 5.32098491e-03 6.02791335e-03 6.19905395e-03 4.22517416e-03\n",
      " 3.62404820e-03 7.02317152e-03 5.79144420e-03 4.41415760e-03\n",
      " 1.58252659e-03 4.32142380e-03 2.47430059e-03 1.76747799e-05\n",
      " 3.44105713e-16 3.53418931e-05 1.20538902e-03 3.07587090e-03\n",
      " 1.36373323e-03 1.38801417e-04 2.46944122e-04 1.98939878e-04] [[8.47360718e+000 7.75421026e+001 2.32527738e+001 ... 3.72609980e-069\n",
      "  1.86833323e-030 8.55147813e-046]\n",
      " [1.39995585e+001 2.80139657e+003 2.82137005e+001 ... 7.09787260e-011\n",
      "  6.70637182e-002 6.74594218e-004]\n",
      " [1.04256784e+001 7.50629480e+001 5.28560232e+000 ... 3.21973360e-077\n",
      "  8.70348526e-038 6.39314353e-052]\n",
      " ...\n",
      " [2.18986065e-117 1.67633636e-124 3.50214506e-122 ... 7.94441932e-026\n",
      "  2.96144635e+001 0.00000000e+000]\n",
      " [7.68149232e-077 2.21261096e-037 3.18173161e-045 ... 1.39602726e-024\n",
      "  1.58201153e+002 1.07167355e-028]\n",
      " [3.22840013e-137 3.94524408e-073 1.31935713e-123 ... 4.48595413e-046\n",
      "  1.02744656e+000 4.23513464e-075]] [[1.26296085e+05 1.18429126e+05 1.21320030e+05 ... 8.70923846e+03\n",
      "  6.31425833e+00 3.85449514e+01]\n",
      " [8.50806848e+04 8.24622327e+04 1.03091031e+05 ... 1.67181993e+03\n",
      "  2.66002383e+03 1.70421594e+02]\n",
      " [1.13559889e+05 1.15098121e+05 1.17617766e+05 ... 2.55819196e+00\n",
      "  7.36701589e+00 2.35807607e+03]\n",
      " ...\n",
      " [1.06344983e+01 1.04149062e+01 8.44423331e+00 ... 5.72280133e+04\n",
      "  1.21523011e+06 0.00000000e+00]\n",
      " [4.10241344e+02 1.20434155e+04 6.66709487e+02 ... 2.46133991e+02\n",
      "  1.05212763e+06 8.85073981e+00]\n",
      " [1.14060655e+00 4.22607207e+02 2.58562098e+00 ... 1.82360903e+05\n",
      "  2.99065134e+05 2.24191509e+04]]\n"
     ]
    },
    {
     "data": {
      "image/png": "[encoded data removed]",
      "text/plain": [
       "<Figure size 432x288 with 1 Axes>"
      ]
     },
     "metadata": {
      "needs_background": "light"
     },
     "output_type": "display_data"
    },
    {
     "name": "stderr",
     "output_type": "stream",
     "text": [
      "\r",
      " 45%|██████████████████████████████████████████████████████████████████████████████████████████                                                                                                              | 45/100 [15:35<16:34, 18.09s/it]"
     ]
    },
    {
     "name": "stdout",
     "output_type": "stream",
     "text": [
      "[1.10323033e-02 1.75762414e-02 8.42156427e-03 5.03911736e-02\n",
      " 9.81273123e-02 5.08582923e-02 1.60145959e-02 3.42790414e-02\n",
      " 1.63314858e-02 2.54703693e-02 1.66547646e-02 2.55319626e-02\n",
      " 9.22108936e-03 2.09986985e-02 1.12034261e-02 4.50387888e-03\n",
      " 8.76082749e-03 6.25976341e-03 4.53920599e-01 2.92708300e-01\n",
      " 4.61280913e-01 2.15509642e-02 3.11285857e-02 1.93327731e-02\n",
      " 4.09244467e-03 8.26097447e-03 4.54312299e-03 7.40348753e-03\n",
      " 5.31959956e-03 6.02712950e-03 6.19962534e-03 4.22510602e-03\n",
      " 3.62361072e-03 7.02267098e-03 5.78203948e-03 4.41344843e-03\n",
      " 1.58222833e-03 4.32044669e-03 2.47428353e-03 1.75863148e-05\n",
      " 1.74474429e-16 3.53416876e-05 1.20538807e-03 3.07634140e-03\n",
      " 1.36378856e-03 1.38801858e-04 2.46937884e-04 1.98939971e-04] [[8.47846717e+000 7.75417599e+001 2.32518847e+001 ... 3.81588716e-070\n",
      "  5.74805622e-031 1.04282388e-046]\n",
      " [1.50775449e+001 2.80145694e+003 2.82139863e+001 ... 5.14438169e-011\n",
      "  6.70659457e-002 6.74692079e-004]\n",
      " [1.04010181e+001 7.50628135e+001 5.28565289e+000 ... 7.49985948e-079\n",
      "  1.83164453e-038 4.37372224e-053]\n",
      " ...\n",
      " [6.65239290e-120 3.87843025e-127 8.57994321e-125 ... 2.81188798e-026\n",
      "  2.96144461e+001 0.00000000e+000]\n",
      " [3.43292563e-078 3.95882761e-038 3.73480641e-046 ... 4.47807781e-025\n",
      "  1.58198832e+002 3.45576263e-029]\n",
      " [3.67789219e-140 1.21567510e-074 3.08171743e-126 ... 1.86772501e-046\n",
      "  1.02744824e+000 9.77390648e-077]] [[1.26594646e+05 1.18428764e+05 1.21315939e+05 ... 8.70958514e+03\n",
      "  6.31427049e+00 3.85381709e+01]\n",
      " [9.12209402e+04 8.24640628e+04 1.03094286e+05 ... 1.67269705e+03\n",
      "  2.66004416e+03 1.70424140e+02]\n",
      " [1.13668321e+05 1.15097923e+05 1.17616854e+05 ... 2.55819330e+00\n",
      "  7.36701832e+00 2.35809048e+03]\n",
      " ...\n",
      " [1.06313229e+01 1.04160323e+01 8.44423329e+00 ... 5.72273564e+04\n",
      "  1.21522975e+06 0.00000000e+00]\n",
      " [4.15220305e+02 1.20329932e+04 6.66619195e+02 ... 2.46140315e+02\n",
      "  1.05211128e+06 8.85072895e+00]\n",
      " [1.14038525e+00 4.22607379e+02 2.58554042e+00 ... 1.82360891e+05\n",
      "  2.99065697e+05 2.24190024e+04]]\n"
     ]
    },
    {
     "data": {
      "image/png": "[encoded data removed]",
      "text/plain": [
       "<Figure size 432x288 with 1 Axes>"
      ]
     },
     "metadata": {
      "needs_background": "light"
     },
     "output_type": "display_data"
    },
    {
     "name": "stderr",
     "output_type": "stream",
     "text": [
      "\r",
      " 46%|████████████████████████████████████████████████████████████████████████████████████████████                                                                                                            | 46/100 [15:51<15:45, 17.50s/it]"
     ]
    },
    {
     "name": "stdout",
     "output_type": "stream",
     "text": [
      "[1.10296229e-02 1.75769972e-02 8.42135862e-03 5.03842988e-02\n",
      " 9.80822812e-02 5.08459481e-02 1.60146025e-02 3.42642067e-02\n",
      " 1.63300901e-02 2.54712981e-02 1.66546448e-02 2.55294771e-02\n",
      " 9.21756141e-03 2.10056417e-02 1.12020006e-02 4.50582746e-03\n",
      " 8.76003620e-03 6.25901299e-03 4.53920772e-01 2.92708282e-01\n",
      " 4.61276861e-01 2.15510190e-02 3.11284639e-02 1.93263657e-02\n",
      " 4.09234982e-03 8.26074017e-03 4.54346853e-03 7.40349071e-03\n",
      " 5.31859777e-03 6.02651139e-03 6.20003028e-03 4.22506955e-03\n",
      " 3.62327071e-03 7.02231172e-03 5.77905027e-03 4.41298735e-03\n",
      " 1.58191886e-03 4.31943769e-03 2.47417317e-03 1.75046316e-05\n",
      " 8.84649650e-17 3.53415026e-05 1.20538712e-03 3.07675996e-03\n",
      " 1.36382303e-03 1.38802213e-04 2.46932605e-04 1.98940042e-04] [[8.48843227e+000 7.75422256e+001 2.32511177e+001 ... 3.90850448e-071\n",
      "  1.76838584e-031 1.27173032e-047]\n",
      " [1.56434691e+001 2.80148968e+003 2.82137142e+001 ... 3.72814434e-011\n",
      "  6.70679548e-002 6.74766334e-004]\n",
      " [1.03851566e+001 7.50636587e+001 5.28569875e+000 ... 1.74696922e-080\n",
      "  3.85460145e-039 2.99214009e-054]\n",
      " ...\n",
      " [2.02014660e-122 8.97398100e-130 2.10207634e-127 ... 9.95248961e-027\n",
      "  2.96144325e+001 0.00000000e+000]\n",
      " [1.46176314e-079 7.08381750e-039 4.38367092e-047 ... 1.43646683e-025\n",
      "  1.58194060e+002 1.11436147e-029]\n",
      " [4.19100168e-143 3.74577289e-076 7.19798909e-129 ... 7.77676760e-047\n",
      "  1.02745009e+000 2.25563358e-078]] [[1.26746429e+05 1.18429555e+05 1.21312498e+05 ... 8.70997092e+03\n",
      "  6.31428105e+00 3.85326949e+01]\n",
      " [9.45458830e+04 8.24650856e+04 1.03095003e+05 ... 1.67367268e+03\n",
      "  2.66006280e+03 1.70426077e+02]\n",
      " [1.13727041e+05 1.15099238e+05 1.17616432e+05 ... 2.55819482e+00\n",
      "  7.36702051e+00 2.35810139e+03]\n",
      " ...\n",
      " [1.06268469e+01 1.04169787e+01 8.44423332e+00 ... 5.72266122e+04\n",
      "  1.21522948e+06 0.00000000e+00]\n",
      " [4.20009324e+02 1.20238843e+04 6.66525153e+02 ... 2.46146999e+02\n",
      "  1.05207814e+06 8.85072065e+00]\n",
      " [1.14022676e+00 4.22607505e+02 2.58545717e+00 ... 1.82360990e+05\n",
      "  2.99066283e+05 2.24188787e+04]]\n"
     ]
    },
    {
     "data": {
      "image/png": "[encoded data removed]",
      "text/plain": [
       "<Figure size 432x288 with 1 Axes>"
      ]
     },
     "metadata": {
      "needs_background": "light"
     },
     "output_type": "display_data"
    },
    {
     "name": "stderr",
     "output_type": "stream",
     "text": [
      "\r",
      " 47%|██████████████████████████████████████████████████████████████████████████████████████████████                                                                                                          | 47/100 [16:10<15:53, 17.99s/it]"
     ]
    },
    {
     "name": "stdout",
     "output_type": "stream",
     "text": [
      "[1.10267164e-02 1.75776429e-02 8.42120599e-03 5.03792863e-02\n",
      " 9.80444142e-02 5.08502885e-02 1.60146013e-02 3.42514811e-02\n",
      " 1.63288148e-02 2.54721372e-02 1.66545883e-02 2.55282419e-02\n",
      " 9.21312006e-03 2.10114009e-02 1.12009237e-02 4.50782665e-03\n",
      " 8.75936292e-03 6.25752841e-03 4.53919743e-01 2.92708271e-01\n",
      " 4.61273959e-01 2.15510103e-02 3.11283604e-02 1.93197584e-02\n",
      " 4.09222780e-03 8.26052254e-03 4.54372167e-03 7.40349569e-03\n",
      " 5.31787772e-03 6.02600384e-03 6.20030498e-03 4.22504640e-03\n",
      " 3.62300357e-03 7.02205709e-03 5.77813470e-03 4.41269529e-03\n",
      " 1.58160167e-03 4.31844594e-03 2.47399684e-03 1.74291733e-05\n",
      " 4.48549615e-17 3.53413353e-05 1.20538624e-03 3.07712134e-03\n",
      " 1.36384196e-03 1.38802482e-04 2.46928107e-04 1.98940096e-04] [[8.49838741e+000 7.75435104e+001 2.32503544e+001 ... 4.00412624e-072\n",
      "  5.44030254e-032 1.55092473e-048]\n",
      " [1.59221992e+001 2.80142956e+003 2.82137021e+001 ... 2.70147803e-011\n",
      "  6.70696841e-002 6.74822619e-004]\n",
      " [1.03757033e+001 7.50635165e+001 5.28571353e+000 ... 4.06927102e-082\n",
      "  8.11163940e-040 2.04695388e-055]\n",
      " ...\n",
      " [6.13207880e-125 2.07655462e-132 5.15018907e-130 ... 3.52260090e-027\n",
      "  2.96145539e+001 0.00000000e+000]\n",
      " [5.96809236e-081 1.26766057e-039 5.14485143e-048 ... 4.60794039e-026\n",
      "  1.58195609e+002 3.59342734e-030]\n",
      " [4.77731199e-146 1.15411411e-077 1.68117784e-131 ... 3.23828432e-047\n",
      "  1.02744979e+000 5.20557644e-080]] [[1.26815500e+05 1.18431608e+05 1.21309096e+05 ... 8.71039900e+03\n",
      "  6.31429033e+00 3.85282786e+01]\n",
      " [9.62513770e+04 8.24633593e+04 1.03096256e+05 ... 1.67475361e+03\n",
      "  2.66007818e+03 1.70427545e+02]\n",
      " [1.13755048e+05 1.15099065e+05 1.17615754e+05 ... 2.55819652e+00\n",
      "  7.36702281e+00 2.35810962e+03]\n",
      " ...\n",
      " [1.06212768e+01 1.04177744e+01 8.44423348e+00 ... 5.72258066e+04\n",
      "  1.21523493e+06 0.00000000e+00]\n",
      " [4.24465033e+02 1.20159237e+04 6.66428824e+02 ... 2.46154130e+02\n",
      "  1.05208617e+06 8.85071428e+00]\n",
      " [1.14016948e+00 4.22607644e+02 2.58537237e+00 ... 1.82360782e+05\n",
      "  2.99066240e+05 2.24187915e+04]]\n"
     ]
    },
    {
     "data": {
      "image/png": "[encoded data removed]",
      "text/plain": [
       "<Figure size 432x288 with 1 Axes>"
      ]
     },
     "metadata": {
      "needs_background": "light"
     },
     "output_type": "display_data"
    },
    {
     "name": "stderr",
     "output_type": "stream",
     "text": [
      "\r",
      " 48%|████████████████████████████████████████████████████████████████████████████████████████████████                                                                                                        | 48/100 [16:38<17:59, 20.75s/it]"
     ]
    },
    {
     "name": "stdout",
     "output_type": "stream",
     "text": [
      "[1.10239306e-02 1.75781717e-02 8.42109619e-03 5.03757582e-02\n",
      " 9.80130623e-02 5.08644675e-02 1.60145805e-02 3.42385782e-02\n",
      " 1.63277171e-02 2.54727956e-02 1.66545707e-02 2.55274386e-02\n",
      " 9.20741303e-03 2.10160564e-02 1.12002155e-02 4.50989446e-03\n",
      " 8.75878056e-03 6.25543107e-03 4.53916540e-01 2.92708267e-01\n",
      " 4.61271738e-01 2.15509447e-02 3.11282654e-02 1.93144347e-02\n",
      " 4.09207706e-03 8.26032418e-03 4.54388132e-03 7.40350212e-03\n",
      " 5.31736707e-03 6.02558811e-03 6.20048392e-03 4.22502796e-03\n",
      " 3.62278928e-03 7.02187807e-03 5.77755877e-03 4.41251478e-03\n",
      " 1.58128115e-03 4.31752152e-03 2.47379545e-03 1.73594334e-05\n",
      " 2.27430833e-17 3.53411834e-05 1.20538545e-03 3.07744200e-03\n",
      " 1.36384978e-03 1.38802667e-04 2.46924253e-04 1.98940136e-04] [[8.50632707e+000 7.75439838e+001 2.32495982e+001 ... 4.10294249e-073\n",
      "  1.67363081e-032 1.89145437e-049]\n",
      " [1.60571990e+001 2.80143834e+003 2.82134890e+001 ... 1.95728288e-011\n",
      "  6.70712316e-002 6.74865241e-004]\n",
      " [1.03702293e+001 7.50630864e+001 5.28572989e+000 ... 9.47867226e-084\n",
      "  1.70698279e-040 1.40033106e-056]\n",
      " ...\n",
      " [1.86042041e-127 4.80536229e-135 1.26184425e-132 ... 1.24678860e-027\n",
      "  2.96145596e+001 0.00000000e+000]\n",
      " [2.35213299e-082 2.26863093e-040 6.03771527e-049 ... 1.47817700e-026\n",
      "  1.58195755e+002 1.15875628e-030]\n",
      " [5.44768334e-149 3.55583650e-079 3.92642220e-134 ... 1.34854317e-047\n",
      "  1.02744832e+000 1.20134842e-081]] [[1.26844841e+05 1.18432505e+05 1.21305742e+05 ... 8.71087235e+03\n",
      "  6.31429857e+00 3.85247217e+01]\n",
      " [9.71105522e+04 8.24635887e+04 1.03096596e+05 ... 1.67594593e+03\n",
      "  2.66009234e+03 1.70428663e+02]\n",
      " [1.13767533e+05 1.15098418e+05 1.17615364e+05 ... 2.55819840e+00\n",
      "  7.36702500e+00 2.35811597e+03]\n",
      " ...\n",
      " [1.06148029e+01 1.04184453e+01 8.44423377e+00 ... 5.72249106e+04\n",
      "  1.21523504e+06 0.00000000e+00]\n",
      " [4.28475969e+02 1.20088959e+04 6.66331226e+02 ... 2.46161766e+02\n",
      "  1.05208665e+06 8.85070941e+00]\n",
      " [1.14023808e+00 4.22607740e+02 2.58528657e+00 ... 1.82360936e+05\n",
      "  2.99065868e+05 2.24187283e+04]]\n"
     ]
    },
    {
     "data": {
      "image/png": "[encoded data removed]",
      "text/plain": [
       "<Figure size 432x288 with 1 Axes>"
      ]
     },
     "metadata": {
      "needs_background": "light"
     },
     "output_type": "display_data"
    },
    {
     "name": "stderr",
     "output_type": "stream",
     "text": [
      "\r",
      " 49%|██████████████████████████████████████████████████████████████████████████████████████████████████                                                                                                      | 49/100 [16:57<17:25, 20.50s/it]"
     ]
    },
    {
     "name": "stdout",
     "output_type": "stream",
     "text": [
      "[1.10213389e-02 1.75786295e-02 8.42101926e-03 5.03733886e-02\n",
      " 9.79872678e-02 5.08794488e-02 1.60145008e-02 3.42279852e-02\n",
      " 1.63267884e-02 2.54731959e-02 1.66545750e-02 2.55265293e-02\n",
      " 9.20157561e-03 2.10197126e-02 1.11997942e-02 4.51173209e-03\n",
      " 8.75827109e-03 6.25332183e-03 4.53909242e-01 2.92708272e-01\n",
      " 4.61269976e-01 2.15508237e-02 3.11281722e-02 1.93108547e-02\n",
      " 4.09193194e-03 8.26014011e-03 4.54395360e-03 7.40350972e-03\n",
      " 5.31699948e-03 6.02525734e-03 6.20059394e-03 4.22501447e-03\n",
      " 3.62260900e-03 7.02175271e-03 5.77704092e-03 4.41240763e-03\n",
      " 1.58096244e-03 4.31669333e-03 2.47361067e-03 1.72949512e-05\n",
      " 1.15315553e-17 3.53410447e-05 1.20538476e-03 3.07772260e-03\n",
      " 1.36384988e-03 1.38802769e-04 2.46920930e-04 1.98940167e-04] [[8.51196817e+000 7.75441010e+001 2.32488944e+001 ... 4.20515875e-074\n",
      "  5.14857918e-033 2.30679337e-050]\n",
      " [1.61226991e+001 2.80137837e+003 2.82130829e+001 ... 1.41789163e-011\n",
      "  6.70725876e-002 6.74897556e-004]\n",
      " [1.03670783e+001 7.50630823e+001 5.28573428e+000 ... 2.20789400e-085\n",
      "  3.59204272e-041 9.57967369e-058]\n",
      " ...\n",
      " [5.64086459e-130 1.11206478e-137 3.09167629e-135 ... 4.41285455e-028\n",
      "  2.96144070e+001 0.00000000e+000]\n",
      " [9.00641374e-084 4.06025460e-041 7.08496031e-050 ... 4.74193318e-027\n",
      "  1.58195011e+002 3.73659198e-031]\n",
      " [6.21429415e-152 1.09552764e-080 9.16977340e-137 ... 5.61630339e-048\n",
      "  1.02744914e+000 2.77248303e-083]] [[1.26856693e+05 1.18432796e+05 1.21302646e+05 ... 8.71139251e+03\n",
      "  6.31430595e+00 3.85218608e+01]\n",
      " [9.75413750e+04 8.24618246e+04 1.03096066e+05 ... 1.67725459e+03\n",
      "  2.66010430e+03 1.70429509e+02]\n",
      " [1.13773536e+05 1.15098383e+05 1.17614902e+05 ... 2.55820049e+00\n",
      "  7.36702734e+00 2.35812070e+03]\n",
      " ...\n",
      " [1.06076237e+01 1.04190099e+01 8.44423420e+00 ... 5.72239053e+04\n",
      "  1.21522895e+06 0.00000000e+00]\n",
      " [4.31977424e+02 1.20027518e+04 6.66233019e+02 ... 2.46169958e+02\n",
      "  1.05208130e+06 8.85070569e+00]\n",
      " [1.14043494e+00 4.22607865e+02 2.58520010e+00 ... 1.82360993e+05\n",
      "  2.99066145e+05 2.24186773e+04]]\n"
     ]
    },
    {
     "data": {
      "image/png": "[encoded data removed]",
      "text/plain": [
       "<Figure size 432x288 with 1 Axes>"
      ]
     },
     "metadata": {
      "needs_background": "light"
     },
     "output_type": "display_data"
    },
    {
     "name": "stderr",
     "output_type": "stream",
     "text": [
      "\r",
      " 50%|████████████████████████████████████████████████████████████████████████████████████████████████████                                                                                                    | 50/100 [17:13<15:46, 18.94s/it]"
     ]
    },
    {
     "name": "stdout",
     "output_type": "stream",
     "text": [
      "[1.10189246e-02 1.75790132e-02 8.42096661e-03 5.03719104e-02\n",
      " 9.79659066e-02 5.08912412e-02 1.60142327e-02 3.42184413e-02\n",
      " 1.63259962e-02 2.54732739e-02 1.66545865e-02 2.55251687e-02\n",
      " 9.19711236e-03 2.10225549e-02 1.11995606e-02 4.51281087e-03\n",
      " 8.75781989e-03 6.25174942e-03 4.53894301e-01 2.92708285e-01\n",
      " 4.61268550e-01 2.15506460e-02 3.11280762e-02 1.93087082e-02\n",
      " 4.09183359e-03 8.25997320e-03 4.54395030e-03 7.40351824e-03\n",
      " 5.31674079e-03 6.02500177e-03 6.20065419e-03 4.22500331e-03\n",
      " 3.62242120e-03 7.02166500e-03 5.77652833e-03 4.41234904e-03\n",
      " 1.58065107e-03 4.31598425e-03 2.47347320e-03 1.72353067e-05\n",
      " 5.84690638e-18 3.53409178e-05 1.20538418e-03 3.07795763e-03\n",
      " 1.36384472e-03 1.38802790e-04 2.46918053e-04 1.98940190e-04] [[8.51569506e+000 7.75439866e+001 2.32483642e+001 ... 4.31099694e-075\n",
      "  1.58382332e-033 2.81337570e-051]\n",
      " [1.61544221e+001 2.80140676e+003 2.82126297e+001 ... 1.02698327e-011\n",
      "  6.70737971e-002 6.74922002e-004]\n",
      " [1.03652548e+001 7.50634276e+001 5.28571622e+000 ... 5.14291137e-087\n",
      "  7.55868186e-042 6.55343047e-059]\n",
      " ...\n",
      " [1.70910434e-132 2.57366382e-140 7.57506332e-138 ... 1.56186546e-028\n",
      "  2.96139395e+001 0.00000000e+000]\n",
      " [3.36971996e-085 7.26715056e-042 8.31318313e-051 ... 1.52123000e-027\n",
      "  1.58192606e+002 1.20492361e-031]\n",
      " [7.09077742e-155 3.37516426e-082 2.14139325e-139 ... 2.33924044e-048\n",
      "  1.02744673e+000 6.39835801e-085]] [[1.26861047e+05 1.18432675e+05 1.21300422e+05 ... 8.71196123e+03\n",
      "  6.31431261e+00 3.85195624e+01]\n",
      " [9.77556654e+04 8.24626230e+04 1.03095208e+05 ... 1.67868352e+03\n",
      "  2.66011586e+03 1.70430146e+02]\n",
      " [1.13777332e+05 1.15098902e+05 1.17614069e+05 ... 2.55820278e+00\n",
      "  7.36702939e+00 2.35812434e+03]\n",
      " ...\n",
      " [1.05999594e+01 1.04194859e+01 8.44423472e+00 ... 5.72227819e+04\n",
      "  1.21521048e+06 0.00000000e+00]\n",
      " [4.34953805e+02 1.19973533e+04 6.66134743e+02 ... 2.46178740e+02\n",
      "  1.05206467e+06 8.85070284e+00]\n",
      " [1.14074446e+00 4.22607979e+02 2.58511307e+00 ... 1.82360857e+05\n",
      "  2.99065477e+05 2.24186300e+04]]\n"
     ]
    },
    {
     "data": {
      "image/png": "[encoded data removed]",
      "text/plain": [
       "<Figure size 432x288 with 1 Axes>"
      ]
     },
     "metadata": {
      "needs_background": "light"
     },
     "output_type": "display_data"
    },
    {
     "name": "stderr",
     "output_type": "stream",
     "text": [
      "\r",
      " 51%|██████████████████████████████████████████████████████████████████████████████████████████████████████                                                                                                  | 51/100 [17:39<17:10, 21.02s/it]"
     ]
    },
    {
     "name": "stdout",
     "output_type": "stream",
     "text": [
      "[1.10166547e-02 1.75793508e-02 8.42093160e-03 5.03711038e-02\n",
      " 9.79481116e-02 5.08975338e-02 1.60134035e-02 3.42073991e-02\n",
      " 1.63253118e-02 2.54729866e-02 1.66546020e-02 2.55232110e-02\n",
      " 9.19406085e-03 2.10247348e-02 1.11994385e-02 4.51298808e-03\n",
      " 8.75741800e-03 6.25079112e-03 4.53865944e-01 2.92708296e-01\n",
      " 4.61267370e-01 2.15504089e-02 3.11279706e-02 1.93075040e-02\n",
      " 4.09177963e-03 8.25982020e-03 4.54388613e-03 7.40352743e-03\n",
      " 5.31655788e-03 6.02480858e-03 6.20067763e-03 4.22499287e-03\n",
      " 3.62201251e-03 7.02160354e-03 5.77601093e-03 4.41232287e-03\n",
      " 1.58035232e-03 4.31539588e-03 2.47339868e-03 1.71801167e-05\n",
      " 2.96458638e-18 3.53408012e-05 1.20538368e-03 3.07817005e-03\n",
      " 1.36383602e-03 1.38802732e-04 2.46915550e-04 1.98940207e-04] [[8.51807192e+000 7.75440913e+001 2.32476098e+001 ... 4.42069460e-076\n",
      "  4.87212172e-034 3.43124550e-052]\n",
      " [1.61697764e+001 2.80137874e+003 2.82122582e+001 ... 7.43717356e-012\n",
      "  6.70748363e-002 6.74940527e-004]\n",
      " [1.03642017e+001 7.50634714e+001 5.28572133e+000 ... 1.19795430e-088\n",
      "  1.59053534e-042 4.48316926e-060]\n",
      " ...\n",
      " [5.17424773e-135 5.95646637e-143 1.85601403e-140 ... 5.52796285e-029\n",
      "  2.96142923e+001 0.00000000e+000]\n",
      " [1.23792764e-086 1.30076825e-042 9.75355537e-052 ... 4.88029249e-028\n",
      "  1.58196411e+002 3.88546988e-032]\n",
      " [8.09242738e-158 1.03982012e-083 5.00044853e-142 ... 9.74411488e-049\n",
      "  1.02744993e+000 1.47661844e-086]] [[1.26862818e+05 1.18432855e+05 1.21297044e+05 ... 8.71257918e+03\n",
      "  6.31431868e+00 3.85177179e+01]\n",
      " [9.78616483e+04 8.24618101e+04 1.03094529e+05 ... 1.68023491e+03\n",
      "  2.66012501e+03 1.70430632e+02]\n",
      " [1.13780718e+05 1.15098967e+05 1.17613825e+05 ... 2.55820527e+00\n",
      "  7.36703176e+00 2.35812710e+03]\n",
      " ...\n",
      " [1.05920391e+01 1.04198873e+01 8.44423531e+00 ... 5.72215915e+04\n",
      "  1.21522660e+06 0.00000000e+00]\n",
      " [4.37429655e+02 1.19926750e+04 6.66036724e+02 ... 2.46188142e+02\n",
      "  1.05208884e+06 8.85070067e+00]\n",
      " [1.14114088e+00 4.22608101e+02 2.58502565e+00 ... 1.82361188e+05\n",
      "  2.99066420e+05 2.24186022e+04]]\n"
     ]
    },
    {
     "data": {
      "image/png": "[encoded data removed]",
      "text/plain": [
       "<Figure size 432x288 with 1 Axes>"
      ]
     },
     "metadata": {
      "needs_background": "light"
     },
     "output_type": "display_data"
    },
    {
     "name": "stderr",
     "output_type": "stream",
     "text": [
      "\r",
      " 52%|████████████████████████████████████████████████████████████████████████████████████████████████████████                                                                                                | 52/100 [17:54<15:31, 19.42s/it]"
     ]
    },
    {
     "name": "stdout",
     "output_type": "stream",
     "text": [
      "[1.10145033e-02 1.75796286e-02 8.42090892e-03 5.03707945e-02\n",
      " 9.79328543e-02 5.09041323e-02 1.60111515e-02 3.41991888e-02\n",
      " 1.63247114e-02 2.54723237e-02 1.66546193e-02 2.55207492e-02\n",
      " 9.19189385e-03 2.10263986e-02 1.11993792e-02 4.51259644e-03\n",
      " 8.75705803e-03 6.25026773e-03 4.53816835e-01 2.92708322e-01\n",
      " 4.61266349e-01 2.15501113e-02 3.11278515e-02 1.93068555e-02\n",
      " 4.09174932e-03 8.25968003e-03 4.54377615e-03 7.40353711e-03\n",
      " 5.31642673e-03 6.02466466e-03 6.20067258e-03 4.22498239e-03\n",
      " 3.62014628e-03 7.02156035e-03 5.77549048e-03 4.41231838e-03\n",
      " 1.58005451e-03 4.31492187e-03 2.47339211e-03 1.71290310e-05\n",
      " 1.50314821e-18 3.53406937e-05 1.20538326e-03 3.07834926e-03\n",
      " 1.36382500e-03 1.38802599e-04 2.46913368e-04 1.98940220e-04] [[8.51954456e+000 7.75444050e+001 2.32470565e+001 ... 4.53450619e-077\n",
      "  1.49872514e-034 4.18485020e-053]\n",
      " [1.61769486e+001 2.80144937e+003 2.82119716e+001 ... 5.38480295e-012\n",
      "  6.70757574e-002 6.74954648e-004]\n",
      " [1.03635328e+001 7.50636220e+001 5.28570945e+000 ... 2.79043638e-090\n",
      "  3.34682925e-043 3.06690538e-061]\n",
      " ...\n",
      " [1.56516951e-137 1.37859978e-145 4.54755608e-143 ... 1.95651738e-029\n",
      "  2.96141917e+001 0.00000000e+000]\n",
      " [4.48310681e-088 2.32837602e-043 1.14426023e-052 ... 1.56570291e-028\n",
      "  1.58193628e+002 1.25293266e-032]\n",
      " [9.23645324e-161 3.20342140e-085 1.16760249e-144 ... 4.05932204e-049\n",
      "  1.02744847e+000 3.40775116e-088]] [[1.26863758e+05 1.18433363e+05 1.21294640e+05 ... 8.71324820e+03\n",
      "  6.31432422e+00 3.85162396e+01]\n",
      " [9.79123714e+04 8.24638712e+04 1.03094127e+05 ... 1.68190875e+03\n",
      "  2.66013368e+03 1.70431000e+02]\n",
      " [1.13783519e+05 1.15099210e+05 1.17613302e+05 ... 2.55820797e+00\n",
      "  7.36703369e+00 2.35812900e+03]\n",
      " ...\n",
      " [1.05840797e+01 1.04202276e+01 8.44423593e+00 ... 5.72203039e+04\n",
      "  1.21522157e+06 0.00000000e+00]\n",
      " [4.39455346e+02 1.19885744e+04 6.65939126e+02 ... 2.46198175e+02\n",
      "  1.05207095e+06 8.85069904e+00]\n",
      " [1.14159506e+00 4.22608173e+02 2.58493787e+00 ... 1.82360848e+05\n",
      "  2.99066048e+05 2.24185783e+04]]\n"
     ]
    },
    {
     "data": {
      "image/png": "[encoded data removed]",
      "text/plain": [
       "<Figure size 432x288 with 1 Axes>"
      ]
     },
     "metadata": {
      "needs_background": "light"
     },
     "output_type": "display_data"
    },
    {
     "name": "stderr",
     "output_type": "stream",
     "text": [
      "\r",
      " 53%|██████████████████████████████████████████████████████████████████████████████████████████████████████████                                                                                              | 53/100 [18:11<14:37, 18.66s/it]"
     ]
    },
    {
     "name": "stdout",
     "output_type": "stream",
     "text": [
      "[1.10124555e-02 1.75798789e-02 8.42089432e-03 5.03708433e-02\n",
      " 9.79194955e-02 5.09147451e-02 1.60066012e-02 3.41874286e-02\n",
      " 1.63241814e-02 2.54713171e-02 1.66546355e-02 2.55180862e-02\n",
      " 9.19026280e-03 2.10276903e-02 1.11993543e-02 4.51198872e-03\n",
      " 8.75673460e-03 6.24999684e-03 4.53741945e-01 2.92708355e-01\n",
      " 4.61265366e-01 2.15497557e-02 3.11277148e-02 1.93065180e-02\n",
      " 4.09172990e-03 8.25955158e-03 4.54363373e-03 7.40354712e-03\n",
      " 5.31633035e-03 6.02455843e-03 6.20064404e-03 4.22497453e-03\n",
      " 3.61242930e-03 7.02152986e-03 5.77497185e-03 4.41232825e-03\n",
      " 1.57845680e-03 4.31454974e-03 2.47345433e-03 1.70817294e-05\n",
      " 7.62147865e-19 3.53405944e-05 1.20538292e-03 3.07850673e-03\n",
      " 1.36381248e-03 1.38802395e-04 2.46911458e-04 1.98940230e-04] [[8.52038324e+000 7.75439587e+001 2.32465494e+001 ... 4.65269946e-078\n",
      "  4.61018870e-035 5.10400738e-054]\n",
      " [1.61800841e+001 2.80145456e+003 2.82117115e+001 ... 3.89800281e-012\n",
      "  6.70765169e-002 6.74965270e-004]\n",
      " [1.03631022e+001 7.50635804e+001 5.28570737e+000 ... 6.49987380e-092\n",
      "  7.04234250e-044 2.09804466e-062]\n",
      " ...\n",
      " [4.73045421e-140 3.19079287e-148 1.11423312e-145 ... 6.92467149e-030\n",
      "  2.96141630e+001 0.00000000e+000]\n",
      " [1.60552940e-089 4.16801509e-044 1.34231151e-053 ... 5.02326845e-029\n",
      "  1.58192182e+002 4.04028519e-033]\n",
      " [1.05422685e-163 9.86879108e-087 2.72617459e-147 ... 1.69127351e-049\n",
      "  1.02744832e+000 7.86443274e-090]] [[1.26863772e+05 1.18432721e+05 1.21292477e+05 ... 8.71396626e+03\n",
      "  6.31432933e+00 3.85150552e+01]\n",
      " [9.79354741e+04 8.24640678e+04 1.03093773e+05 ... 1.68370274e+03\n",
      "  2.66014022e+03 1.70431283e+02]\n",
      " [1.13786184e+05 1.15099146e+05 1.17613008e+05 ... 2.55821088e+00\n",
      "  7.36703566e+00 2.35813055e+03]\n",
      " ...\n",
      " [1.05762706e+01 1.04205155e+01 8.44423660e+00 ... 5.72189126e+04\n",
      "  1.21522098e+06 0.00000000e+00]\n",
      " [4.41094150e+02 1.19850681e+04 6.65842147e+02 ... 2.46208842e+02\n",
      "  1.05206039e+06 8.85069776e+00]\n",
      " [1.14207904e+00 4.22608261e+02 2.58484966e+00 ... 1.82360951e+05\n",
      "  2.99066027e+05 2.24185580e+04]]\n"
     ]
    },
    {
     "data": {
      "image/png": "[encoded data removed]",
      "text/plain": [
       "<Figure size 432x288 with 1 Axes>"
      ]
     },
     "metadata": {
      "needs_background": "light"
     },
     "output_type": "display_data"
    },
    {
     "name": "stderr",
     "output_type": "stream",
     "text": [
      "\r",
      " 54%|████████████████████████████████████████████████████████████████████████████████████████████████████████████                                                                                            | 54/100 [18:31<14:30, 18.92s/it]"
     ]
    },
    {
     "name": "stdout",
     "output_type": "stream",
     "text": [
      "[1.10105029e-02 1.75800755e-02 8.42088485e-03 5.03711398e-02\n",
      " 9.79069661e-02 5.09278070e-02 1.60010305e-02 3.41780361e-02\n",
      " 1.63237104e-02 2.54700388e-02 1.66546515e-02 2.55155941e-02\n",
      " 9.18899855e-03 2.10286759e-02 1.11993481e-02 4.51134938e-03\n",
      " 8.75644220e-03 6.24986285e-03 4.53644620e-01 2.92708398e-01\n",
      " 4.61264246e-01 2.15493506e-02 3.11275592e-02 1.93063496e-02\n",
      " 4.09171596e-03 8.25943460e-03 4.54346917e-03 7.40355732e-03\n",
      " 5.31626462e-03 6.02448051e-03 6.20059469e-03 4.22496450e-03\n",
      " 3.59932976e-03 7.02150824e-03 5.77445941e-03 4.41234741e-03\n",
      " 1.56410729e-03 4.31426094e-03 2.47358644e-03 1.70379187e-05\n",
      " 3.86434965e-19 3.53405023e-05 1.20538263e-03 3.07864977e-03\n",
      " 1.36379904e-03 1.38802124e-04 2.46909787e-04 1.98940237e-04] [[8.52083060e+000 7.75444547e+001 2.32459099e+001 ... 4.77555609e-079\n",
      "  1.41810577e-035 6.22508529e-055]\n",
      " [1.61814417e+001 2.80146840e+003 2.82111570e+001 ... 2.82109707e-012\n",
      "  6.70771877e-002 6.74973343e-004]\n",
      " [1.03628788e+001 7.50638127e+001 5.28569618e+000 ... 1.51404540e-093\n",
      "  1.48181646e-044 1.43525282e-063]\n",
      " ...\n",
      " [1.42847857e-142 7.38529717e-151 2.73007659e-148 ... 2.45081914e-030\n",
      "  2.96141489e+001 0.00000000e+000]\n",
      " [5.70010108e-091 7.46140547e-045 1.57452318e-054 ... 1.61167634e-029\n",
      "  1.58192443e+002 1.30285595e-033]\n",
      " [1.20291920e-166 3.04024340e-088 6.36479280e-150 ... 7.04734342e-050\n",
      "  1.02744817e+000 1.81495944e-091]] [[1.26863543e+05 1.18433501e+05 1.21289608e+05 ... 8.71473262e+03\n",
      "  6.31433406e+00 3.85141076e+01]\n",
      " [9.79464148e+04 8.24644918e+04 1.03092305e+05 ... 1.68561195e+03\n",
      "  2.66014635e+03 1.70431494e+02]\n",
      " [1.13789487e+05 1.15099515e+05 1.17612522e+05 ... 2.55821398e+00\n",
      "  7.36703768e+00 2.35813177e+03]\n",
      " ...\n",
      " [1.05687643e+01 1.04207599e+01 8.44423727e+00 ... 5.72174011e+04\n",
      "  1.21522070e+06 0.00000000e+00]\n",
      " [4.42411823e+02 1.19820182e+04 6.65745984e+02 ... 2.46220127e+02\n",
      "  1.05206126e+06 8.85069680e+00]\n",
      " [1.14256831e+00 4.22608331e+02 2.58476108e+00 ... 1.82361143e+05\n",
      "  2.99066004e+05 2.24185444e+04]]\n"
     ]
    },
    {
     "data": {
      "image/png": "[encoded data removed]",
      "text/plain": [
       "<Figure size 432x288 with 1 Axes>"
      ]
     },
     "metadata": {
      "needs_background": "light"
     },
     "output_type": "display_data"
    },
    {
     "name": "stderr",
     "output_type": "stream",
     "text": [
      "\r",
      " 55%|██████████████████████████████████████████████████████████████████████████████████████████████████████████████                                                                                          | 55/100 [18:52<14:37, 19.50s/it]"
     ]
    },
    {
     "name": "stdout",
     "output_type": "stream",
     "text": [
      "[1.10086290e-02 1.75802477e-02 8.42087809e-03 5.03715937e-02\n",
      " 9.78938501e-02 5.09421653e-02 1.59971793e-02 3.41678203e-02\n",
      " 1.63232912e-02 2.54685794e-02 1.66546643e-02 2.55135448e-02\n",
      " 9.18801212e-03 2.10294267e-02 1.11993516e-02 4.51074527e-03\n",
      " 8.75617831e-03 6.24980128e-03 4.53537460e-01 2.92708434e-01\n",
      " 4.61262683e-01 2.15489113e-02 3.11273809e-02 1.93062718e-02\n",
      " 4.09170498e-03 8.25932691e-03 4.54328886e-03 7.40356759e-03\n",
      " 5.31621818e-03 6.02442358e-03 6.20052565e-03 4.22495155e-03\n",
      " 3.59091435e-03 7.02149285e-03 5.77395430e-03 4.41237229e-03\n",
      " 1.55769544e-03 4.31403153e-03 2.47379156e-03 1.69973300e-05\n",
      " 1.95935598e-19 3.53404166e-05 1.20538240e-03 3.07877077e-03\n",
      " 1.36378508e-03 1.38801793e-04 2.46908322e-04 1.98940242e-04] [[8.52103295e+000 7.75446206e+001 2.32453555e+001 ... 4.90336866e-080\n",
      "  4.36206454e-036 7.59244107e-056]\n",
      " [1.61824840e+001 2.80148361e+003 2.82107779e+001 ... 2.04122444e-012\n",
      "  6.70778278e-002 6.74979471e-004]\n",
      " [1.03626687e+001 7.50638366e+001 5.28568461e+000 ... 3.52674674e-095\n",
      "  3.11792514e-045 9.81841869e-065]\n",
      " ...\n",
      " [4.31006944e-145 1.70940641e-153 6.68919881e-151 ... 8.67401566e-031\n",
      "  2.96141550e+001 0.00000000e+000]\n",
      " [2.00995938e-092 1.33575515e-045 1.84676993e-055 ... 5.17111867e-030\n",
      "  1.58190762e+002 4.20127241e-034]\n",
      " [0.00000000e+000 9.36587778e-090 1.48588901e-152 ... 2.93690274e-050\n",
      "  1.02744698e+000 4.18857606e-093]] [[1.26863527e+05 1.18433829e+05 1.21287111e+05 ... 8.71554303e+03\n",
      "  6.31433846e+00 3.85133500e+01]\n",
      " [9.79557221e+04 8.24649562e+04 1.03091400e+05 ... 1.68762853e+03\n",
      "  2.66015215e+03 1.70431658e+02]\n",
      " [1.13792113e+05 1.15099565e+05 1.17612093e+05 ... 2.55821726e+00\n",
      "  7.36703978e+00 2.35813263e+03]\n",
      " ...\n",
      " [1.05616760e+01 1.04209672e+01 8.44423793e+00 ... 5.72158242e+04\n",
      "  1.21522082e+06 0.00000000e+00]\n",
      " [4.43470721e+02 1.19793824e+04 6.65650676e+02 ... 2.46232004e+02\n",
      "  1.05204991e+06 8.85069606e+00]\n",
      " [1.14304257e+00 4.22608381e+02 2.58467222e+00 ... 1.82360857e+05\n",
      "  2.99065671e+05 2.24185338e+04]]\n"
     ]
    },
    {
     "data": {
      "image/png": "[encoded data removed]",
      "text/plain": [
       "<Figure size 432x288 with 1 Axes>"
      ]
     },
     "metadata": {
      "needs_background": "light"
     },
     "output_type": "display_data"
    },
    {
     "name": "stderr",
     "output_type": "stream",
     "text": [
      "\r",
      " 56%|████████████████████████████████████████████████████████████████████████████████████████████████████████████████                                                                                        | 56/100 [19:10<14:01, 19.14s/it]"
     ]
    },
    {
     "name": "stdout",
     "output_type": "stream",
     "text": [
      "[1.10067339e-02 1.75804024e-02 8.42087199e-03 5.03721299e-02\n",
      " 9.78785429e-02 5.09566158e-02 1.59956782e-02 3.41592256e-02\n",
      " 1.63229180e-02 2.54670112e-02 1.66546758e-02 2.55120362e-02\n",
      " 9.18724524e-03 2.10300128e-02 1.11993599e-02 4.51018832e-03\n",
      " 8.75593907e-03 6.24977793e-03 4.53434266e-01 2.92708477e-01\n",
      " 4.61260127e-01 2.15484581e-02 3.11271806e-02 1.93062414e-02\n",
      " 4.09169596e-03 8.25922949e-03 4.54309391e-03 7.40357785e-03\n",
      " 5.31618119e-03 6.02438213e-03 6.20043697e-03 4.22494123e-03\n",
      " 3.58537772e-03 7.02148181e-03 5.77345326e-03 4.41240040e-03\n",
      " 1.55417678e-03 4.31382382e-03 2.47407551e-03 1.69597168e-05\n",
      " 9.93459214e-20 3.53403369e-05 1.20538220e-03 3.07887804e-03\n",
      " 1.36377090e-03 1.38801408e-04 2.46907036e-04 1.98940246e-04] [[8.52093722e+000 7.75442905e+001 2.32449561e+001 ... 5.03644143e-081\n",
      "  1.34174318e-036 9.26017612e-057]\n",
      " [1.61838086e+001 2.80151098e+003 2.82105266e+001 ... 1.47656977e-012\n",
      "  6.70783526e-002 6.74984095e-004]\n",
      " [1.03624450e+001 7.50637133e+001 5.28566832e+000 ... 8.21506982e-097\n",
      "  6.56041310e-046 6.71667429e-066]\n",
      " ...\n",
      " [1.29942317e-147 3.95666550e-156 1.63898033e-153 ... 3.06990995e-031\n",
      "  2.96147256e+001 0.00000000e+000]\n",
      " [7.04910517e-094 2.39136577e-046 2.16593377e-056 ... 1.65923191e-030\n",
      "  1.58194432e+002 1.35476925e-034]\n",
      " [0.00000000e+000 2.88525982e-091 3.46864306e-155 ... 1.22408305e-050\n",
      "  1.02744795e+000 9.66642296e-095]] [[1.26863821e+05 1.18433342e+05 1.21285409e+05 ... 8.71639628e+03\n",
      "  6.31434255e+00 3.85127447e+01]\n",
      " [9.79684970e+04 8.24657797e+04 1.03090940e+05 ... 1.68974173e+03\n",
      "  2.66015659e+03 1.70431784e+02]\n",
      " [1.13794888e+05 1.15099375e+05 1.17611581e+05 ... 2.55822070e+00\n",
      "  7.36704161e+00 2.35813334e+03]\n",
      " ...\n",
      " [1.05550843e+01 1.04211429e+01 8.44423859e+00 ... 5.72141583e+04\n",
      "  1.21524437e+06 0.00000000e+00]\n",
      " [4.44326866e+02 1.19770992e+04 6.65556212e+02 ... 2.46244425e+02\n",
      "  1.05207362e+06 8.85069549e+00]\n",
      " [0.00000000e+00 4.22608439e+02 2.58458306e+00 ... 1.82361054e+05\n",
      "  2.99065972e+05 2.24185215e+04]]\n"
     ]
    },
    {
     "data": {
      "image/png": "[encoded data removed]",
      "text/plain": [
       "<Figure size 432x288 with 1 Axes>"
      ]
     },
     "metadata": {
      "needs_background": "light"
     },
     "output_type": "display_data"
    },
    {
     "name": "stderr",
     "output_type": "stream",
     "text": [
      "\r",
      " 57%|█████████████████████████████████████████████████████████████████████████████████████████████████████████████████▉                                                                                      | 57/100 [19:27<13:12, 18.44s/it]"
     ]
    },
    {
     "name": "stdout",
     "output_type": "stream",
     "text": [
      "[1.10044315e-02 1.75805286e-02 8.42086447e-03 5.03726839e-02\n",
      " 9.78590881e-02 5.09700803e-02 1.59955679e-02 3.41501011e-02\n",
      " 1.63225853e-02 2.54653480e-02 1.66546836e-02 2.55110261e-02\n",
      " 9.18665310e-03 2.10304449e-02 1.11993706e-02 4.50966733e-03\n",
      " 8.75572122e-03 6.24977412e-03 4.53342182e-01 2.92708516e-01\n",
      " 4.61255564e-01 2.15480131e-02 3.11269571e-02 1.93062352e-02\n",
      " 4.09168825e-03 8.25914126e-03 4.54287264e-03 7.40358800e-03\n",
      " 5.31615559e-03 6.02435205e-03 6.20032824e-03 4.22492992e-03\n",
      " 3.57864251e-03 7.02147386e-03 5.77295071e-03 4.41242997e-03\n",
      " 1.55179212e-03 4.31351885e-03 2.47444686e-03 1.69248528e-05\n",
      " 5.03716884e-20 3.53402624e-05 1.20538205e-03 3.07896871e-03\n",
      " 1.36375667e-03 1.38800977e-04 2.46905906e-04 1.98940249e-04] [[8.51944164e+000 7.75442400e+001 2.32444453e+001 ... 5.17508202e-082\n",
      "  4.12706059e-037 1.12942767e-057]\n",
      " [1.61815868e+001 2.80147533e+003 2.82103829e+001 ... 1.06782924e-012\n",
      "  6.70788554e-002 6.74987554e-004]\n",
      " [1.03622802e+001 7.50640416e+001 5.28566710e+000 ... 1.91359504e-098\n",
      "  1.38035622e-046 4.59480105e-067]\n",
      " ...\n",
      " [3.91464772e-150 9.15838326e-159 4.01581507e-156 ... 1.08649443e-031\n",
      "  2.96145251e+001 0.00000000e+000]\n",
      " [2.46110755e-095 4.28131533e-047 2.54007574e-057 ... 5.32409919e-031\n",
      "  1.58194174e+002 4.36867621e-035]\n",
      " [0.00000000e+000 8.88828580e-093 8.09661945e-158 ... 5.10257927e-051\n",
      "  1.02744765e+000 2.23082431e-096]] [[1.26868496e+05 1.18433270e+05 1.21283147e+05 ... 8.71728397e+03\n",
      "  6.31434635e+00 3.85122614e+01]\n",
      " [9.79631572e+04 8.24647541e+04 1.03090860e+05 ... 1.69193809e+03\n",
      "  2.66016172e+03 1.70431874e+02]\n",
      " [1.13797568e+05 1.15099881e+05 1.17611387e+05 ... 2.55822427e+00\n",
      "  7.36704313e+00 2.35813387e+03]\n",
      " ...\n",
      " [1.05490106e+01 1.04212922e+01 8.44423922e+00 ... 5.72124150e+04\n",
      "  1.21523434e+06 0.00000000e+00]\n",
      " [4.45026972e+02 1.19751385e+04 6.65462664e+02 ... 2.46257327e+02\n",
      "  1.05207276e+06 8.85069505e+00]\n",
      " [0.00000000e+00 4.22608495e+02 2.58449355e+00 ... 1.82361054e+05\n",
      "  2.99065928e+05 2.24185216e+04]]\n"
     ]
    },
    {
     "data": {
      "image/png": "[encoded data removed]",
      "text/plain": [
       "<Figure size 432x288 with 1 Axes>"
      ]
     },
     "metadata": {
      "needs_background": "light"
     },
     "output_type": "display_data"
    },
    {
     "name": "stderr",
     "output_type": "stream",
     "text": [
      "\r",
      " 58%|███████████████████████████████████████████████████████████████████████████████████████████████████████████████████▉                                                                                    | 58/100 [19:43<12:30, 17.86s/it]"
     ]
    },
    {
     "name": "stdout",
     "output_type": "stream",
     "text": [
      "[1.10022765e-02 1.75806257e-02 8.42085328e-03 5.03731958e-02\n",
      " 9.78329506e-02 5.09847884e-02 1.59959281e-02 3.41434357e-02\n",
      " 1.63222902e-02 2.54635211e-02 1.66546890e-02 2.55104070e-02\n",
      " 9.18619855e-03 2.10307540e-02 1.11993821e-02 4.50916223e-03\n",
      " 8.75552331e-03 6.24978077e-03 4.53261454e-01 2.92708569e-01\n",
      " 4.61247139e-01 2.15475967e-02 3.11267165e-02 1.93062405e-02\n",
      " 4.09168141e-03 8.25906184e-03 4.54252521e-03 7.40359799e-03\n",
      " 5.31613463e-03 6.02433028e-03 6.20019890e-03 4.22491606e-03\n",
      " 3.57004989e-03 7.02146811e-03 5.77243955e-03 4.41245979e-03\n",
      " 1.55015766e-03 4.31273049e-03 2.47491711e-03 1.68925299e-05\n",
      " 2.55401095e-20 3.53401927e-05 1.20538192e-03 3.07905388e-03\n",
      " 1.36374255e-03 1.38800507e-04 2.46904914e-04 1.98940251e-04] [[8.50995112e+000 7.75442543e+001 2.32439333e+001 ... 5.31960501e-083\n",
      "  1.26942402e-037 1.37752245e-058]\n",
      " [1.61741173e+001 2.80145610e+003 2.82100646e+001 ... 7.72020793e-013\n",
      "  6.70792879e-002 6.74990141e-004]\n",
      " [1.03638031e+001 7.50641344e+001 5.28565363e+000 ... 4.45749392e-100\n",
      "  2.90432996e-047 3.14324967e-068]\n",
      " ...\n",
      " [1.17849553e-152 2.11988873e-161 9.83952358e-159 ... 3.84526157e-032\n",
      "  2.96144948e+001 0.00000000e+000]\n",
      " [8.55783123e-097 7.66504987e-048 2.97863980e-058 ... 1.70844904e-031\n",
      "  1.58190697e+002 1.40875156e-035]\n",
      " [0.00000000e+000 2.73809381e-094 1.88981210e-160 ... 2.12729711e-051\n",
      "  1.02744759e+000 5.14831027e-098]] [[1.26898182e+05 1.18433315e+05 1.21280851e+05 ... 8.71820089e+03\n",
      "  6.31434992e+00 3.85118757e+01]\n",
      " [9.79536717e+04 8.24641707e+04 1.03090157e+05 ... 1.69420131e+03\n",
      "  2.66016580e+03 1.70431948e+02]\n",
      " [1.13802622e+05 1.15100047e+05 1.17610936e+05 ... 2.55822796e+00\n",
      "  7.36704485e+00 2.35813422e+03]\n",
      " ...\n",
      " [1.05432774e+01 1.04214192e+01 8.44423984e+00 ... 5.72106276e+04\n",
      "  1.21523371e+06 0.00000000e+00]\n",
      " [4.45595577e+02 1.19734065e+04 6.65370052e+02 ... 2.46270631e+02\n",
      "  1.05204969e+06 8.85069471e+00]\n",
      " [0.00000000e+00 4.22608524e+02 2.58440377e+00 ... 1.82361028e+05\n",
      "  2.99065919e+05 2.24185111e+04]]\n"
     ]
    },
    {
     "data": {
      "image/png": "[encoded data removed]",
      "text/plain": [
       "<Figure size 432x288 with 1 Axes>"
      ]
     },
     "metadata": {
      "needs_background": "light"
     },
     "output_type": "display_data"
    },
    {
     "name": "stderr",
     "output_type": "stream",
     "text": [
      "\r",
      " 59%|██████████████████████████████████████████████████████████████████████████████████████████████████████████████████████                                                                                  | 59/100 [20:03<12:41, 18.58s/it]"
     ]
    },
    {
     "name": "stdout",
     "output_type": "stream",
     "text": [
      "[1.10005081e-02 1.75807160e-02 8.42083537e-03 5.03736080e-02\n",
      " 9.77981461e-02 5.10059150e-02 1.59962974e-02 3.41371648e-02\n",
      " 1.63220291e-02 2.54613918e-02 1.66546953e-02 2.55100634e-02\n",
      " 9.18585132e-03 2.10308839e-02 1.11993936e-02 4.50865019e-03\n",
      " 8.75534312e-03 6.24979124e-03 4.53189253e-01 2.92708612e-01\n",
      " 4.61231596e-01 2.15472237e-02 3.11264621e-02 1.93062509e-02\n",
      " 4.09167507e-03 8.25898856e-03 4.53928304e-03 7.40360778e-03\n",
      " 5.31612054e-03 6.02431458e-03 6.20004873e-03 4.22490005e-03\n",
      " 3.56253413e-03 7.02146391e-03 5.77191436e-03 4.41248905e-03\n",
      " 1.54903778e-03 4.31033333e-03 2.47550081e-03 1.68625567e-05\n",
      " 1.29496726e-20 3.53401273e-05 1.20538181e-03 3.07912739e-03\n",
      " 1.36372864e-03 1.38800009e-04 2.46904044e-04 1.98940253e-04] [[8.49324629e+000 7.75446883e+001 2.32434936e+001 ... 5.47032551e-084\n",
      "  3.90451637e-038 1.68011817e-059]\n",
      " [1.61664407e+001 2.80149252e+003 2.82097694e+001 ... 5.57996060e-013\n",
      "  6.70796424e-002 6.74992149e-004]\n",
      " [1.03669606e+001 7.50639686e+001 5.28565190e+000 ... 1.03832557e-101\n",
      "  6.11076707e-048 2.15025944e-069]\n",
      " ...\n",
      " [3.54548036e-155 4.90695386e-164 2.41087683e-161 ... 1.36088183e-032\n",
      "  2.96144843e+001 0.00000000e+000]\n",
      " [2.96446713e-098 1.37233537e-048 3.49268638e-059 ... 5.48245370e-032\n",
      "  1.58193634e+002 4.54275156e-036]\n",
      " [0.00000000e+000 8.43483574e-096 4.41066712e-163 ... 8.87008125e-052\n",
      "  1.02744644e+000 1.18813015e-099]] [[1.26953800e+05 1.18433981e+05 1.21278894e+05 ... 8.71913955e+03\n",
      "  6.31435327e+00 3.85115686e+01]\n",
      " [9.79518695e+04 8.24652275e+04 1.03089496e+05 ... 1.69651328e+03\n",
      "  2.66016904e+03 1.70432000e+02]\n",
      " [1.13807365e+05 1.15099793e+05 1.17610766e+05 ... 2.55823172e+00\n",
      "  7.36704645e+00 2.35813443e+03]\n",
      " ...\n",
      " [1.05379464e+01 1.04215263e+01 8.44424040e+00 ... 5.72087623e+04\n",
      "  1.21523350e+06 0.00000000e+00]\n",
      " [4.46053168e+02 1.19718899e+04 6.65278419e+02 ... 2.46284241e+02\n",
      "  1.05206809e+06 8.85069447e+00]\n",
      " [0.00000000e+00 4.22608572e+02 2.58431365e+00 ... 1.82361178e+05\n",
      "  2.99065594e+05 2.24185013e+04]]\n"
     ]
    },
    {
     "data": {
      "image/png": "[encoded data removed]",
      "text/plain": [
       "<Figure size 432x288 with 1 Axes>"
      ]
     },
     "metadata": {
      "needs_background": "light"
     },
     "output_type": "display_data"
    },
    {
     "name": "stderr",
     "output_type": "stream",
     "text": [
      "\r",
      " 60%|████████████████████████████████████████████████████████████████████████████████████████████████████████████████████████                                                                                | 60/100 [20:31<14:10, 21.26s/it]"
     ]
    },
    {
     "name": "stdout",
     "output_type": "stream",
     "text": [
      "[1.09989696e-02 1.75807930e-02 8.42080659e-03 5.03738653e-02\n",
      " 9.77530888e-02 5.10337002e-02 1.59965343e-02 3.41314037e-02\n",
      " 1.63217985e-02 2.54588173e-02 1.66546989e-02 2.55098992e-02\n",
      " 9.18558644e-03 2.10307210e-02 1.11994046e-02 4.50811013e-03\n",
      " 8.75517755e-03 6.24980390e-03 4.53122691e-01 2.92708664e-01\n",
      " 4.61203663e-01 2.15469021e-02 3.11261999e-02 1.93062628e-02\n",
      " 4.09166914e-03 8.25892142e-03 4.52473210e-03 7.40361733e-03\n",
      " 5.31610836e-03 6.02430331e-03 6.19987815e-03 4.22488293e-03\n",
      " 3.55815638e-03 7.02146084e-03 5.77137438e-03 4.41251716e-03\n",
      " 1.54827054e-03 4.30489581e-03 2.47621578e-03 1.68347571e-05\n",
      " 6.56590538e-21 3.53400659e-05 1.20538173e-03 3.07919594e-03\n",
      " 1.36371501e-03 1.38799490e-04 2.46903284e-04 1.98940254e-04] [[8.47804049e+000 7.75450059e+001 2.32430969e+001 ... 5.62755904e-085\n",
      "  1.20094387e-038 2.04918731e-060]\n",
      " [1.61629129e+001 2.80148842e+003 2.82094417e+001 ... 4.03185294e-013\n",
      "  6.70799427e-002 6.74993571e-004]\n",
      " [1.03701324e+001 7.50638630e+001 5.28563809e+000 ... 2.41868047e-103\n",
      "  1.28570338e-048 1.47096630e-070]\n",
      " ...\n",
      " [1.06609789e-157 1.06545753e-166 5.90713791e-164 ... 4.81627611e-033\n",
      "  2.96141872e+001 0.00000000e+000]\n",
      " [1.02392421e-099 2.45705677e-049 4.09517252e-060 ... 1.75940169e-032\n",
      "  1.58194350e+002 1.46488514e-036]\n",
      " [0.00000000e+000 2.59838208e-097 1.02941152e-165 ... 3.69902755e-052\n",
      "  1.02744846e+000 2.74197422e-101]] [[1.27005020e+05 1.18434525e+05 1.21277169e+05 ... 8.72009337e+03\n",
      "  6.31435646e+00 3.85113235e+01]\n",
      " [9.79535906e+04 8.24651271e+04 1.03088685e+05 ... 1.69885399e+03\n",
      "  2.66017169e+03 1.70432041e+02]\n",
      " [1.13811072e+05 1.15099617e+05 1.17610342e+05 ... 2.55823552e+00\n",
      "  7.36704844e+00 2.35813477e+03]\n",
      " ...\n",
      " [1.05333463e+01 1.04216173e+01 8.44424094e+00 ... 5.72068742e+04\n",
      "  1.21522148e+06 0.00000000e+00]\n",
      " [4.46404176e+02 1.19706030e+04 6.65187762e+02 ... 2.46298053e+02\n",
      "  1.05207335e+06 8.85069426e+00]\n",
      " [0.00000000e+00 4.22608615e+02 2.58422324e+00 ... 1.82361058e+05\n",
      "  2.99066206e+05 2.24184937e+04]]\n"
     ]
    },
    {
     "data": {
      "image/png": "[encoded data removed]",
      "text/plain": [
       "<Figure size 432x288 with 1 Axes>"
      ]
     },
     "metadata": {
      "needs_background": "light"
     },
     "output_type": "display_data"
    },
    {
     "name": "stderr",
     "output_type": "stream",
     "text": [
      "\r",
      " 61%|██████████████████████████████████████████████████████████████████████████████████████████████████████████████████████████                                                                              | 61/100 [20:54<14:14, 21.91s/it]"
     ]
    },
    {
     "name": "stdout",
     "output_type": "stream",
     "text": [
      "[1.09977348e-02 1.75808624e-02 8.42076075e-03 5.03739173e-02\n",
      " 9.76987767e-02 5.10641749e-02 1.59966413e-02 3.41264256e-02\n",
      " 1.63215962e-02 2.54557564e-02 1.66547022e-02 2.55098443e-02\n",
      " 9.18538415e-03 2.10299211e-02 1.11994148e-02 4.50752609e-03\n",
      " 8.75502600e-03 6.24981628e-03 4.53059973e-01 2.92708712e-01\n",
      " 4.61156134e-01 2.15466338e-02 3.11259388e-02 1.93062746e-02\n",
      " 4.09166328e-03 8.25886121e-03 4.52368596e-03 7.40362660e-03\n",
      " 5.31610081e-03 6.02429523e-03 6.19968854e-03 4.22486368e-03\n",
      " 3.55612112e-03 7.02145856e-03 5.77082685e-03 4.41254382e-03\n",
      " 1.54774555e-03 4.29777915e-03 2.47708299e-03 1.68089690e-05\n",
      " 3.32912618e-21 3.53400081e-05 1.20538166e-03 3.07925267e-03\n",
      " 1.36370172e-03 1.38798959e-04 2.46902621e-04 1.98940255e-04] [[8.46716108e+000 7.75446791e+001 2.32427175e+001 ... 5.79161484e-086\n",
      "  3.69379945e-039 2.49933260e-061]\n",
      " [1.61617086e+001 2.80141885e+003 2.82092152e+001 ... 2.91237426e-013\n",
      "  6.70802078e-002 6.74994692e-004]\n",
      " [1.03725597e+001 7.50635341e+001 5.28562633e+000 ... 5.63411438e-105\n",
      "  2.70508700e-049 1.00626983e-071]\n",
      " ...\n",
      " [3.20435379e-160 0.00000000e+000 1.37233662e-166 ... 1.70450739e-033\n",
      "  2.96144272e+001 0.00000000e+000]\n",
      " [3.52997469e-101 4.39922625e-050 4.80127279e-061 ... 5.64640434e-033\n",
      "  1.58193407e+002 4.72376383e-037]\n",
      " [0.00000000e+000 8.00437947e-099 0.00000000e+000 ... 1.54279864e-052\n",
      "  1.02744622e+000 6.32794662e-103]] [[1.27041128e+05 1.18434041e+05 1.21275549e+05 ... 8.72105065e+03\n",
      "  6.31435943e+00 3.85111285e+01]\n",
      " [9.79536696e+04 8.24630814e+04 1.03088210e+05 ... 1.70120259e+03\n",
      "  2.66017433e+03 1.70432073e+02]\n",
      " [1.13814805e+05 1.15099110e+05 1.17609971e+05 ... 2.55823933e+00\n",
      "  7.36704988e+00 2.35813487e+03]\n",
      " ...\n",
      " [1.05294399e+01 1.04216954e+01 8.44424144e+00 ... 5.72049908e+04\n",
      "  1.21523233e+06 0.00000000e+00]\n",
      " [4.46667744e+02 1.19694967e+04 6.65098026e+02 ... 2.46311952e+02\n",
      "  1.05206734e+06 8.85069412e+00]\n",
      " [0.00000000e+00 4.22608624e+02 2.58413245e+00 ... 1.82361179e+05\n",
      "  2.99065561e+05 2.24184922e+04]]\n"
     ]
    },
    {
     "data": {
      "image/png": "[encoded data removed]",
      "text/plain": [
       "<Figure size 432x288 with 1 Axes>"
      ]
     },
     "metadata": {
      "needs_background": "light"
     },
     "output_type": "display_data"
    },
    {
     "name": "stderr",
     "output_type": "stream",
     "text": [
      "\r",
      " 62%|████████████████████████████████████████████████████████████████████████████████████████████████████████████████████████████                                                                            | 62/100 [21:09<12:34, 19.86s/it]"
     ]
    },
    {
     "name": "stdout",
     "output_type": "stream",
     "text": [
      "[1.09966836e-02 1.75809095e-02 8.42068867e-03 5.03737303e-02\n",
      " 9.76388591e-02 5.10986058e-02 1.59966580e-02 3.41215301e-02\n",
      " 1.63214169e-02 2.54523449e-02 1.66547056e-02 2.55098512e-02\n",
      " 9.18522890e-03 2.10278679e-02 1.11994242e-02 4.50689118e-03\n",
      " 8.75488605e-03 6.24982800e-03 4.53000447e-01 2.92708755e-01\n",
      " 4.61082212e-01 2.15464157e-02 3.11256852e-02 1.93062854e-02\n",
      " 4.09165747e-03 8.25880653e-03 4.52290946e-03 7.40363556e-03\n",
      " 5.31609519e-03 6.02428949e-03 6.19948222e-03 4.22484002e-03\n",
      " 3.55521695e-03 7.02145687e-03 5.77028413e-03 4.41256883e-03\n",
      " 1.54738778e-03 4.29130695e-03 2.47812540e-03 1.67850429e-05\n",
      " 1.68797381e-21 3.53399537e-05 1.20538161e-03 3.07930999e-03\n",
      " 1.36368880e-03 1.38798425e-04 2.46902045e-04 1.98940255e-04] [[8.46015147e+000 7.75439765e+001 2.32424321e+001 ... 5.96279992e-087\n",
      "  1.13610710e-039 3.04836444e-062]\n",
      " [1.61613125e+001 2.80138535e+003 2.82087752e+001 ... 2.10308731e-013\n",
      "  6.70803973e-002 6.74995477e-004]\n",
      " [1.03741460e+001 7.50638754e+001 5.28562537e+000 ... 1.31242671e-106\n",
      "  5.69137688e-050 6.88376600e-073]\n",
      " ...\n",
      " [9.62771419e-163 0.00000000e+000 0.00000000e+000 ... 6.03229671e-034\n",
      "  2.96144539e+001 0.00000000e+000]\n",
      " [1.21547438e-102 7.87658589e-051 5.62875962e-062 ... 1.81215592e-033\n",
      "  1.58192643e+002 1.52325561e-037]\n",
      " [0.00000000e+000 2.46576016e-100 0.00000000e+000 ... 6.43562373e-053\n",
      "  1.02744716e+000 1.46036774e-104]] [[1.27063138e+05 1.18432935e+05 1.21274444e+05 ... 8.72200437e+03\n",
      "  6.31436225e+00 3.85109732e+01]\n",
      " [9.79521735e+04 8.24620475e+04 1.03086951e+05 ... 1.70353812e+03\n",
      "  2.66017581e+03 1.70432097e+02]\n",
      " [1.13818034e+05 1.15099626e+05 1.17609840e+05 ... 2.55824312e+00\n",
      "  7.36705150e+00 2.35813504e+03]\n",
      " ...\n",
      " [1.05260676e+01 0.00000000e+00 8.44424186e+00 ... 5.72030845e+04\n",
      "  1.21523288e+06 0.00000000e+00]\n",
      " [4.46871291e+02 1.19684777e+04 6.65009237e+02 ... 2.46325820e+02\n",
      "  1.05206192e+06 8.85069400e+00]\n",
      " [0.00000000e+00 4.22608638e+02 0.00000000e+00 ... 1.82360946e+05\n",
      "  2.99065858e+05 2.24184900e+04]]\n"
     ]
    },
    {
     "data": {
      "image/png": "[encoded data removed]",
      "text/plain": [
       "<Figure size 432x288 with 1 Axes>"
      ]
     },
     "metadata": {
      "needs_background": "light"
     },
     "output_type": "display_data"
    },
    {
     "name": "stderr",
     "output_type": "stream",
     "text": [
      "\r",
      " 63%|██████████████████████████████████████████████████████████████████████████████████████████████████████████████████████████████                                                                          | 63/100 [21:25<11:22, 18.46s/it]"
     ]
    },
    {
     "name": "stdout",
     "output_type": "stream",
     "text": [
      "[1.09956980e-02 1.75809430e-02 8.42057704e-03 5.03732954e-02\n",
      " 9.75783381e-02 5.11453742e-02 1.59966226e-02 3.41179763e-02\n",
      " 1.63212608e-02 2.54488550e-02 1.66547080e-02 2.55098896e-02\n",
      " 9.18510880e-03 2.10239507e-02 1.11994329e-02 4.50621063e-03\n",
      " 8.75475696e-03 6.24983864e-03 4.52944242e-01 2.92708803e-01\n",
      " 4.60980898e-01 2.15462421e-02 3.11254460e-02 1.93062949e-02\n",
      " 4.09165154e-03 8.25875660e-03 4.52185605e-03 7.40364420e-03\n",
      " 5.31608910e-03 6.02428543e-03 6.19926218e-03 4.22481228e-03\n",
      " 3.55478665e-03 7.02145562e-03 5.76976303e-03 4.41259211e-03\n",
      " 1.54714608e-03 4.28596698e-03 2.47936495e-03 1.67628409e-05\n",
      " 8.55856537e-22 3.53399022e-05 1.20538156e-03 3.07935323e-03\n",
      " 1.36367629e-03 1.38797896e-04 2.46901546e-04 1.98940255e-04] [[8.45592699e+000 7.75448065e+001 2.32419503e+001 ... 6.14141451e-088\n",
      "  3.49430489e-040 3.71800593e-063]\n",
      " [1.61609095e+001 2.80139195e+003 2.82086345e+001 ... 1.51822048e-013\n",
      "  6.70806012e-002 6.74996045e-004]\n",
      " [1.03751303e+001 7.50638587e+001 5.28561448e+000 ... 3.05721999e-108\n",
      "  1.19742759e-050 4.70909731e-074]\n",
      " ...\n",
      " [2.89079968e-165 0.00000000e+000 0.00000000e+000 ... 2.13482880e-034\n",
      "  2.96143192e+001 0.00000000e+000]\n",
      " [4.18179703e-104 1.41027313e-051 6.59845040e-063 ... 5.81614586e-034\n",
      "  1.58191868e+002 4.91198921e-038]\n",
      " [0.00000000e+000 7.59579200e-102 0.00000000e+000 ... 2.68492445e-053\n",
      "  1.02744603e+000 3.37024710e-106]] [[1.27076829e+05 1.18434172e+05 1.21272377e+05 ... 8.72294636e+03\n",
      "  6.31436491e+00 3.85108497e+01]\n",
      " [9.79490200e+04 8.24622048e+04 1.03086724e+05 ... 1.70583999e+03\n",
      "  2.66017770e+03 1.70432113e+02]\n",
      " [1.13820767e+05 1.15099613e+05 1.17609508e+05 ... 2.55824684e+00\n",
      "  7.36705288e+00 2.35813510e+03]\n",
      " ...\n",
      " [1.05231065e+01 0.00000000e+00 0.00000000e+00 ... 5.72011949e+04\n",
      "  1.21522715e+06 0.00000000e+00]\n",
      " [4.47033382e+02 1.19675753e+04 6.64921296e+02 ... 2.46339538e+02\n",
      "  1.05205646e+06 8.85069391e+00]\n",
      " [0.00000000e+00 4.22608672e+02 0.00000000e+00 ... 1.82360959e+05\n",
      "  2.99065533e+05 2.24184926e+04]]\n"
     ]
    },
    {
     "data": {
      "image/png": "[encoded data removed]",
      "text/plain": [
       "<Figure size 432x288 with 1 Axes>"
      ]
     },
     "metadata": {
      "needs_background": "light"
     },
     "output_type": "display_data"
    },
    {
     "name": "stderr",
     "output_type": "stream",
     "text": [
      "\r",
      " 64%|████████████████████████████████████████████████████████████████████████████████████████████████████████████████████████████████                                                                        | 64/100 [21:40<10:26, 17.40s/it]"
     ]
    },
    {
     "name": "stdout",
     "output_type": "stream",
     "text": [
      "[1.09946082e-02 1.75809819e-02 8.42040736e-03 5.03726389e-02\n",
      " 9.75218803e-02 5.12059274e-02 1.59965640e-02 3.41156380e-02\n",
      " 1.63211239e-02 2.54455540e-02 1.66547083e-02 2.55099410e-02\n",
      " 9.18501462e-03 2.10186962e-02 1.11994405e-02 4.50550237e-03\n",
      " 8.75463814e-03 6.24984786e-03 4.52891862e-01 2.92708855e-01\n",
      " 4.60861088e-01 2.15461062e-02 3.11252256e-02 1.93063032e-02\n",
      " 4.09164537e-03 8.25871315e-03 4.53921153e-03 7.40365254e-03\n",
      " 5.31608644e-03 6.02428259e-03 6.19903115e-03 4.22478278e-03\n",
      " 3.55455498e-03 7.02145467e-03 5.76928122e-03 4.41261365e-03\n",
      " 1.54698530e-03 4.28167296e-03 2.48081794e-03 1.67422359e-05\n",
      " 4.33946379e-22 3.53398536e-05 1.20538153e-03 3.07939065e-03\n",
      " 1.36366419e-03 1.38797378e-04 2.46901116e-04 1.98940256e-04] [[8.45336603e+000 7.75450020e+001 2.32414430e+001 ... 6.32775033e-089\n",
      "  1.07472678e-040 4.53475217e-064]\n",
      " [1.61604578e+001 2.80142624e+003 2.82085470e+001 ... 1.09567260e-013\n",
      "  6.70807995e-002 6.74996504e-004]\n",
      " [1.03757404e+001 7.50641337e+001 5.28560416e+000 ... 7.12164821e-110\n",
      "  2.51928421e-051 3.22143378e-075]\n",
      " ...\n",
      " [0.00000000e+000 0.00000000e+000 0.00000000e+000 ... 7.55510115e-035\n",
      "  2.96144413e+001 0.00000000e+000]\n",
      " [1.43788692e-105 2.52507469e-052 7.73472674e-064 ... 1.86676884e-034\n",
      "  1.58196300e+002 1.58395204e-038]\n",
      " [0.00000000e+000 2.33988591e-103 0.00000000e+000 ... 1.12029161e-053\n",
      "  1.02744709e+000 7.77788064e-108]] [[1.27084318e+05 1.18434522e+05 1.21270214e+05 ... 8.72386713e+03\n",
      "  6.31436742e+00 3.85107517e+01]\n",
      " [9.79456282e+04 8.24632103e+04 1.03086746e+05 ... 1.70808889e+03\n",
      "  2.66018026e+03 1.70432122e+02]\n",
      " [1.13822974e+05 1.15100015e+05 1.17609213e+05 ... 2.55825046e+00\n",
      "  7.36705419e+00 2.35813525e+03]\n",
      " ...\n",
      " [1.05204765e+01 0.00000000e+00 0.00000000e+00 ... 5.71993637e+04\n",
      "  1.21523262e+06 0.00000000e+00]\n",
      " [4.47165074e+02 1.19668133e+04 6.64834148e+02 ... 2.46352994e+02\n",
      "  1.05208559e+06 8.85069386e+00]\n",
      " [0.00000000e+00 4.22608716e+02 0.00000000e+00 ... 1.82360869e+05\n",
      "  2.99065847e+05 2.24184975e+04]]\n"
     ]
    },
    {
     "data": {
      "image/png": "[encoded data removed]",
      "text/plain": [
       "<Figure size 432x288 with 1 Axes>"
      ]
     },
     "metadata": {
      "needs_background": "light"
     },
     "output_type": "display_data"
    },
    {
     "name": "stderr",
     "output_type": "stream",
     "text": [
      "\r",
      " 65%|██████████████████████████████████████████████████████████████████████████████████████████████████████████████████████████████████                                                                      | 65/100 [22:08<12:04, 20.70s/it]"
     ]
    },
    {
     "name": "stdout",
     "output_type": "stream",
     "text": [
      "[1.09931143e-02 1.75810175e-02 8.42015560e-03 5.03718177e-02\n",
      " 9.74719523e-02 5.13119724e-02 1.59964965e-02 3.41113338e-02\n",
      " 1.63210054e-02 2.54425712e-02 1.66547088e-02 2.55099945e-02\n",
      " 9.18493940e-03 2.10135878e-02 1.11994474e-02 4.50479391e-03\n",
      " 8.75452745e-03 6.24985628e-03 4.52843858e-01 2.92708899e-01\n",
      " 4.60737226e-01 2.15460012e-02 3.11250293e-02 1.93063102e-02\n",
      " 4.09163891e-03 8.25867192e-03 4.53914114e-03 7.40366053e-03\n",
      " 5.31608512e-03 6.02428061e-03 6.19878939e-03 4.22474716e-03\n",
      " 3.55441308e-03 7.02145395e-03 5.76885237e-03 4.41263349e-03\n",
      " 1.54688114e-03 4.27816381e-03 2.48249265e-03 1.67231105e-05\n",
      " 2.20024479e-22 3.53398075e-05 1.20538150e-03 3.07942890e-03\n",
      " 1.36365253e-03 1.38796878e-04 2.46900752e-04 1.98940256e-04] [[8.45183311e+000 7.75449824e+001 2.32411020e+001 ... 6.52209297e-090\n",
      "  3.30545532e-041 5.53091847e-065]\n",
      " [1.61599462e+001 2.80140564e+003 2.82081381e+001 ... 7.90491630e-014\n",
      "  6.70809604e-002 6.74996815e-004]\n",
      " [1.03761302e+001 7.50642631e+001 5.28559469e+000 ... 1.65896215e-111\n",
      "  5.30031014e-052 2.20374166e-076]\n",
      " ...\n",
      " [0.00000000e+000 0.00000000e+000 0.00000000e+000 ... 2.67371043e-035\n",
      "  2.96141772e+001 0.00000000e+000]\n",
      " [4.94190399e-107 4.52117838e-053 9.06614912e-065 ... 5.99184516e-035\n",
      "  1.58190723e+002 5.10771496e-039]\n",
      " [0.00000000e+000 7.20801189e-105 0.00000000e+000 ... 4.67505268e-054\n",
      "  1.02744585e+000 1.79498436e-109]] [[1.27088790e+05 1.18434507e+05 1.21269024e+05 ... 8.72475954e+03\n",
      "  6.31436982e+00 3.85106736e+01]\n",
      " [9.79423504e+04 8.24626267e+04 1.03085635e+05 ... 1.71026730e+03\n",
      "  2.66018119e+03 1.70432135e+02]\n",
      " [1.13824668e+05 1.15100209e+05 1.17608957e+05 ... 2.55825396e+00\n",
      "  7.36705580e+00 2.35813529e+03]\n",
      " ...\n",
      " [0.00000000e+00 0.00000000e+00 0.00000000e+00 ... 5.71975847e+04\n",
      "  1.21522128e+06 0.00000000e+00]\n",
      " [4.47273363e+02 1.19662019e+04 6.64747614e+02 ... 2.46366080e+02\n",
      "  1.05204978e+06 8.85069380e+00]\n",
      " [0.00000000e+00 4.22608752e+02 0.00000000e+00 ... 1.82361047e+05\n",
      "  2.99065508e+05 2.24184948e+04]]\n"
     ]
    },
    {
     "data": {
      "image/png": "[encoded data removed]",
      "text/plain": [
       "<Figure size 432x288 with 1 Axes>"
      ]
     },
     "metadata": {
      "needs_background": "light"
     },
     "output_type": "display_data"
    },
    {
     "name": "stderr",
     "output_type": "stream",
     "text": [
      "\r",
      " 66%|████████████████████████████████████████████████████████████████████████████████████████████████████████████████████████████████████                                                                    | 66/100 [22:29<11:46, 20.78s/it]"
     ]
    },
    {
     "name": "stdout",
     "output_type": "stream",
     "text": [
      "[1.09907997e-02 1.75810337e-02 8.41979453e-03 5.03708966e-02\n",
      " 9.74306662e-02 5.14119921e-02 1.59964318e-02 3.41077853e-02\n",
      " 1.63209022e-02 2.54398593e-02 1.66547117e-02 2.55100439e-02\n",
      " 9.18487811e-03 2.10095592e-02 1.11994535e-02 4.50411542e-03\n",
      " 8.75442335e-03 6.24986334e-03 4.52800633e-01 2.92708935e-01\n",
      " 4.60619566e-01 2.15459209e-02 3.11248556e-02 1.93063161e-02\n",
      " 4.09163204e-03 8.25863472e-03 4.53982622e-03 7.40366820e-03\n",
      " 5.31608264e-03 6.02427925e-03 6.19853027e-03 4.22470654e-03\n",
      " 3.55431640e-03 7.02145339e-03 5.76848343e-03 4.41265168e-03\n",
      " 1.54681661e-03 4.27529530e-03 2.48439725e-03 1.67053562e-05\n",
      " 1.11559298e-22 3.53397638e-05 1.20538147e-03 3.07945720e-03\n",
      " 1.36364129e-03 1.38796400e-04 2.46900438e-04 1.98940256e-04] [[8.45088028e+000 7.75443569e+001 2.32407194e+001 ... 6.72472170e-091\n",
      "  1.01662460e-041 6.74591925e-066]\n",
      " [1.61593361e+001 2.80139803e+003 2.82078652e+001 ... 5.70147778e-014\n",
      "  6.70811087e-002 6.74997045e-004]\n",
      " [1.03764012e+001 7.50638382e+001 5.28558657e+000 ... 3.86451045e-113\n",
      "  1.11512027e-052 1.50755135e-077]\n",
      " ...\n",
      " [0.00000000e+000 0.00000000e+000 0.00000000e+000 ... 9.46204953e-036\n",
      "  2.96142775e+001 0.00000000e+000]\n",
      " [1.69790915e-108 8.09525988e-054 1.06261678e-065 ... 1.92328914e-035\n",
      "  1.58191149e+002 1.64706706e-039]\n",
      " [0.00000000e+000 2.22042196e-106 0.00000000e+000 ... 1.95116850e-054\n",
      "  1.02744593e+000 4.14247654e-111]] [[1.27091263e+05 1.18433561e+05 1.21267816e+05 ... 8.72561811e+03\n",
      "  6.31437208e+00 3.85106117e+01]\n",
      " [9.79389562e+04 8.24623944e+04 1.03084954e+05 ... 1.71236005e+03\n",
      "  2.66018314e+03 1.70432142e+02]\n",
      " [1.13825932e+05 1.15099566e+05 1.17608746e+05 ... 2.55825731e+00\n",
      "  7.36705714e+00 2.35813526e+03]\n",
      " ...\n",
      " [0.00000000e+00 0.00000000e+00 0.00000000e+00 ... 5.71958349e+04\n",
      "  1.21522630e+06 0.00000000e+00]\n",
      " [4.47363391e+02 1.19656801e+04 6.64661635e+02 ... 2.46378700e+02\n",
      "  1.05205120e+06 8.85069376e+00]\n",
      " [0.00000000e+00 4.22608768e+02 0.00000000e+00 ... 1.82361010e+05\n",
      "  2.99065520e+05 2.24184922e+04]]\n"
     ]
    },
    {
     "data": {
      "image/png": "[encoded data removed]",
      "text/plain": [
       "<Figure size 432x288 with 1 Axes>"
      ]
     },
     "metadata": {
      "needs_background": "light"
     },
     "output_type": "display_data"
    },
    {
     "name": "stderr",
     "output_type": "stream",
     "text": [
      "\r",
      " 67%|██████████████████████████████████████████████████████████████████████████████████████████████████████████████████████████████████████                                                                  | 67/100 [22:44<10:29, 19.07s/it]"
     ]
    },
    {
     "name": "stdout",
     "output_type": "stream",
     "text": [
      "[1.09875731e-02 1.75810428e-02 8.41930148e-03 5.03699041e-02\n",
      " 9.73974181e-02 5.14652531e-02 1.59963731e-02 3.41069233e-02\n",
      " 1.63208139e-02 2.54372473e-02 1.66547106e-02 2.55100864e-02\n",
      " 9.18482689e-03 2.10067714e-02 1.11994589e-02 4.50349261e-03\n",
      " 8.75432687e-03 6.24986960e-03 4.52762368e-01 2.92708954e-01\n",
      " 4.60510004e-01 2.15458598e-02 3.11247065e-02 1.93063210e-02\n",
      " 4.09162473e-03 8.25860122e-03 4.54011504e-03 7.40367554e-03\n",
      " 5.31608110e-03 6.02427833e-03 6.19823083e-03 4.22466118e-03\n",
      " 3.55424516e-03 7.02145296e-03 5.76817587e-03 4.41266835e-03\n",
      " 1.54677980e-03 4.27301843e-03 2.48655909e-03 1.66888730e-05\n",
      " 5.65640370e-23 3.53397223e-05 1.20538145e-03 3.07948897e-03\n",
      " 1.36363049e-03 1.38795950e-04 2.46900177e-04 1.98940256e-04] [[8.45027245e+000 7.75448598e+001 2.32402961e+001 ... 6.93590840e-092\n",
      "  3.12670007e-042 8.22782720e-067]\n",
      " [1.61588405e+001 2.80140807e+003 2.82076018e+001 ... 4.11107518e-014\n",
      "  6.70812502e-002 6.74997192e-004]\n",
      " [1.03765740e+001 7.50633561e+001 5.28558975e+000 ... 9.00231998e-115\n",
      "  2.34605753e-053 1.03129648e-078]\n",
      " ...\n",
      " [0.00000000e+000 0.00000000e+000 0.00000000e+000 ... 3.34852451e-036\n",
      "  2.96142981e+001 0.00000000e+000]\n",
      " [5.83198828e-110 1.44947998e-054 1.24539760e-066 ... 6.17364497e-036\n",
      "  1.58193799e+002 5.31123983e-040]\n",
      " [0.00000000e+000 6.83998615e-108 0.00000000e+000 ... 8.14430245e-055\n",
      "  1.02744587e+000 9.56003952e-113]] [[1.27092651e+05 1.18434280e+05 1.21266652e+05 ... 8.72643625e+03\n",
      "  6.31437424e+00 3.85105625e+01]\n",
      " [9.79366816e+04 8.24626825e+04 1.03084321e+05 ... 1.71435467e+03\n",
      "  2.66018446e+03 1.70432145e+02]\n",
      " [1.13826269e+05 1.15098815e+05 1.17608812e+05 ... 2.55826049e+00\n",
      "  7.36705867e+00 2.35813531e+03]\n",
      " ...\n",
      " [0.00000000e+00 0.00000000e+00 0.00000000e+00 ... 5.71941879e+04\n",
      "  1.21522672e+06 0.00000000e+00]\n",
      " [4.47439666e+02 1.19652394e+04 6.64576080e+02 ... 2.46390778e+02\n",
      "  1.05206864e+06 8.85069373e+00]\n",
      " [0.00000000e+00 4.22608786e+02 0.00000000e+00 ... 1.82361069e+05\n",
      "  2.99065511e+05 2.24185020e+04]]\n"
     ]
    },
    {
     "data": {
      "image/png": "[encoded data removed]",
      "text/plain": [
       "<Figure size 432x288 with 1 Axes>"
      ]
     },
     "metadata": {
      "needs_background": "light"
     },
     "output_type": "display_data"
    },
    {
     "name": "stderr",
     "output_type": "stream",
     "text": [
      "\r",
      " 68%|████████████████████████████████████████████████████████████████████████████████████████████████████████████████████████████████████████                                                                | 68/100 [22:59<09:27, 17.72s/it]"
     ]
    },
    {
     "name": "stdout",
     "output_type": "stream",
     "text": [
      "[1.09842285e-02 1.75810448e-02 8.41867036e-03 5.03687545e-02\n",
      " 9.73712906e-02 5.14847610e-02 1.59963209e-02 3.41039541e-02\n",
      " 1.63207367e-02 2.54345625e-02 1.66547108e-02 2.55101208e-02\n",
      " 9.18478310e-03 2.10049746e-02 1.11994636e-02 4.50294197e-03\n",
      " 8.75423575e-03 6.24987486e-03 4.52729014e-01 2.92708936e-01\n",
      " 4.60405270e-01 2.15458136e-02 3.11245793e-02 1.93063251e-02\n",
      " 4.09161693e-03 8.25857070e-03 4.54017363e-03 7.40368255e-03\n",
      " 5.31608078e-03 6.02427773e-03 6.19783274e-03 4.22460810e-03\n",
      " 3.55418962e-03 7.02145263e-03 5.76792619e-03 4.41268357e-03\n",
      " 1.54676227e-03 4.27126808e-03 2.48905168e-03 1.66735681e-05\n",
      " 2.86797180e-23 3.53396828e-05 1.20538144e-03 3.07951447e-03\n",
      " 1.36362012e-03 1.38795529e-04 2.46899960e-04 1.98940256e-04] [[8.44988420e+000 7.75451729e+001 2.32397535e+001 ... 7.15592197e-093\n",
      "  9.61630568e-043 1.00352756e-067]\n",
      " [1.61583789e+001 2.80138195e+003 2.82073446e+001 ... 2.96350834e-014\n",
      "  6.70813178e-002 6.74997369e-004]\n",
      " [1.03767427e+001 7.50638457e+001 5.28556041e+000 ... 2.09708599e-116\n",
      "  4.93573948e-054 7.05496601e-080]\n",
      " ...\n",
      " [0.00000000e+000 0.00000000e+000 0.00000000e+000 ... 1.18500169e-036\n",
      "  2.96142859e+001 0.00000000e+000]\n",
      " [2.00273755e-111 2.59535685e-055 1.45954909e-067 ... 1.98175907e-036\n",
      "  1.58192751e+002 1.71269704e-040]\n",
      " [0.00000000e+000 2.10704962e-109 0.00000000e+000 ... 3.39985695e-055\n",
      "  1.02744679e+000 2.20627221e-114]] [[1.27093507e+05 1.18434787e+05 1.21265176e+05 ... 8.72721055e+03\n",
      "  6.31437629e+00 3.85105237e+01]\n",
      " [9.79349874e+04 8.24619175e+04 1.03083729e+05 ... 1.71624136e+03\n",
      "  2.66018512e+03 1.70432154e+02]\n",
      " [1.13826110e+05 1.15099540e+05 1.17608184e+05 ... 2.55826349e+00\n",
      "  7.36706001e+00 2.35813525e+03]\n",
      " ...\n",
      " [0.00000000e+00 0.00000000e+00 0.00000000e+00 ... 5.71926007e+04\n",
      "  1.21522647e+06 0.00000000e+00]\n",
      " [4.47506634e+02 1.19648997e+04 6.64490920e+02 ... 2.46402244e+02\n",
      "  1.05206228e+06 8.85069372e+00]\n",
      " [0.00000000e+00 4.22608796e+02 0.00000000e+00 ... 1.82361113e+05\n",
      "  2.99065804e+05 2.24185013e+04]]\n"
     ]
    },
    {
     "data": {
      "image/png": "[encoded data removed]",
      "text/plain": [
       "<Figure size 432x288 with 1 Axes>"
      ]
     },
     "metadata": {
      "needs_background": "light"
     },
     "output_type": "display_data"
    },
    {
     "name": "stderr",
     "output_type": "stream",
     "text": [
      "\r",
      " 69%|██████████████████████████████████████████████████████████████████████████████████████████████████████████████████████████████████████████                                                              | 69/100 [23:16<09:09, 17.73s/it]"
     ]
    },
    {
     "name": "stdout",
     "output_type": "stream",
     "text": [
      "[1.09817027e-02 1.75810229e-02 8.41792593e-03 5.03671107e-02\n",
      " 9.73512065e-02 5.15030051e-02 1.59962764e-02 3.41018830e-02\n",
      " 1.63206712e-02 2.54317839e-02 1.66547105e-02 2.55101468e-02\n",
      " 9.18474459e-03 2.10038728e-02 1.11994677e-02 4.50246971e-03\n",
      " 8.75414969e-03 6.24987967e-03 4.52700334e-01 2.92708805e-01\n",
      " 4.60301593e-01 2.15457788e-02 3.11244735e-02 1.93063282e-02\n",
      " 4.09160847e-03 8.25854157e-03 4.54009394e-03 7.40368925e-03\n",
      " 5.31607930e-03 6.02427735e-03 6.19720785e-03 4.22454609e-03\n",
      " 3.55414459e-03 7.02145237e-03 5.76772823e-03 4.41269744e-03\n",
      " 1.54675803e-03 4.26995568e-03 2.49206465e-03 1.66593559e-05\n",
      " 1.45415003e-23 3.53396453e-05 1.20538143e-03 3.07954001e-03\n",
      " 1.36361017e-03 1.38795139e-04 2.46899784e-04 1.98940255e-04] [[8.44965793e+000 7.75454762e+001 2.32392283e+001 ... 7.38502743e-094\n",
      "  2.95751444e-043 1.22397780e-068]\n",
      " [1.61579907e+001 2.80138172e+003 2.82070533e+001 ... 2.13572462e-014\n",
      "  6.70813816e-002 6.74997519e-004]\n",
      " [1.03769398e+001 7.50638312e+001 5.28553687e+000 ... 4.88517069e-118\n",
      "  1.03839494e-054 4.82621092e-081]\n",
      " ...\n",
      " [0.00000000e+000 0.00000000e+000 0.00000000e+000 ... 4.19355397e-037\n",
      "  2.96142795e+001 0.00000000e+000]\n",
      " [6.87618268e-113 4.64711482e-056 1.71045039e-068 ... 6.36167170e-037\n",
      "  1.58190223e+002 5.52287458e-041]\n",
      " [0.00000000e+000 6.49074159e-111 0.00000000e+000 ... 1.41942152e-055\n",
      "  1.02744674e+000 5.09164765e-116]] [[1.27094227e+05 1.18435320e+05 1.21264106e+05 ... 8.72793683e+03\n",
      "  6.31437824e+00 3.85104931e+01]\n",
      " [9.79337883e+04 8.24618940e+04 1.03083045e+05 ... 1.71801319e+03\n",
      "  2.66018611e+03 1.70432152e+02]\n",
      " [1.13825469e+05 1.15099529e+05 1.17607712e+05 ... 2.55826630e+00\n",
      "  7.36706125e+00 2.35813517e+03]\n",
      " ...\n",
      " [0.00000000e+00 0.00000000e+00 0.00000000e+00 ... 5.71911288e+04\n",
      "  1.21522634e+06 0.00000000e+00]\n",
      " [4.47567904e+02 1.19646569e+04 6.64406281e+02 ... 2.46413052e+02\n",
      "  1.05204524e+06 8.85069372e+00]\n",
      " [0.00000000e+00 4.22608818e+02 0.00000000e+00 ... 1.82360913e+05\n",
      "  2.99065796e+05 2.24184936e+04]]\n"
     ]
    },
    {
     "data": {
      "image/png": "[encoded data removed]",
      "text/plain": [
       "<Figure size 432x288 with 1 Axes>"
      ]
     },
     "metadata": {
      "needs_background": "light"
     },
     "output_type": "display_data"
    },
    {
     "name": "stderr",
     "output_type": "stream",
     "text": [
      "\r",
      " 70%|████████████████████████████████████████████████████████████████████████████████████████████████████████████████████████████████████████████                                                            | 70/100 [23:34<08:47, 17.59s/it]"
     ]
    },
    {
     "name": "stdout",
     "output_type": "stream",
     "text": [
      "[1.09801318e-02 1.75809896e-02 8.41712718e-03 5.03641250e-02\n",
      " 9.73355454e-02 5.15198780e-02 1.59962396e-02 3.41007044e-02\n",
      " 1.63206146e-02 2.54291118e-02 1.66547092e-02 2.55101649e-02\n",
      " 9.18471002e-03 2.10031699e-02 1.11994714e-02 4.50207358e-03\n",
      " 8.75406822e-03 6.24988367e-03 4.52675964e-01 2.92708332e-01\n",
      " 4.60197350e-01 2.15457527e-02 3.11243859e-02 1.93063305e-02\n",
      " 4.09159941e-03 8.25851679e-03 4.53993415e-03 7.40369563e-03\n",
      " 5.31607708e-03 6.02427711e-03 6.19611878e-03 4.22447618e-03\n",
      " 3.55410703e-03 7.02145216e-03 5.76757368e-03 4.41271011e-03\n",
      " 1.54676282e-03 4.26897815e-03 2.49605668e-03 1.66461573e-05\n",
      " 7.37298629e-24 3.53396095e-05 1.20538141e-03 3.07956801e-03\n",
      " 1.36360063e-03 1.38794781e-04 2.46899645e-04 1.98940255e-04] [[8.44954662e+000 7.75457438e+001 2.32386101e+001 ... 7.62348994e-095\n",
      "  9.09582734e-044 1.49285573e-069]\n",
      " [1.61577307e+001 2.80146361e+003 2.82068111e+001 ... 1.53878822e-014\n",
      "  6.70814426e-002 6.74997595e-004]\n",
      " [1.03770991e+001 7.50640094e+001 5.28552609e+000 ... 1.13800672e-119\n",
      "  2.18458930e-055 3.30154838e-082]\n",
      " ...\n",
      " [0.00000000e+000 0.00000000e+000 0.00000000e+000 ... 1.48403165e-037\n",
      "  2.96141375e+001 0.00000000e+000]\n",
      " [2.36038085e-114 8.32095169e-057 2.00440219e-069 ... 2.04221706e-037\n",
      "  1.58192192e+002 1.78094216e-041]\n",
      " [0.00000000e+000 1.99946797e-112 0.00000000e+000 ... 5.92658335e-056\n",
      "  1.02744566e+000 1.17505381e-117]] [[1.27094910e+05 1.18435792e+05 1.21262853e+05 ... 8.72861375e+03\n",
      "  6.31438010e+00 3.85104686e+01]\n",
      " [9.79331137e+04 8.24643012e+04 1.03082542e+05 ... 1.71966594e+03\n",
      "  2.66018655e+03 1.70432155e+02]\n",
      " [1.13823898e+05 1.15099793e+05 1.17607532e+05 ... 2.55826890e+00\n",
      "  7.36706253e+00 2.35813520e+03]\n",
      " ...\n",
      " [0.00000000e+00 0.00000000e+00 0.00000000e+00 ... 5.71897329e+04\n",
      "  1.21522046e+06 0.00000000e+00]\n",
      " [4.47624330e+02 1.19645390e+04 6.64322587e+02 ... 2.46423171e+02\n",
      "  1.05205754e+06 8.85069369e+00]\n",
      " [0.00000000e+00 4.22608843e+02 0.00000000e+00 ... 1.82361083e+05\n",
      "  2.99065480e+05 2.24184936e+04]]\n"
     ]
    },
    {
     "data": {
      "image/png": "[encoded data removed]",
      "text/plain": [
       "<Figure size 432x288 with 1 Axes>"
      ]
     },
     "metadata": {
      "needs_background": "light"
     },
     "output_type": "display_data"
    },
    {
     "name": "stderr",
     "output_type": "stream",
     "text": [
      "\r",
      " 71%|██████████████████████████████████████████████████████████████████████████████████████████████████████████████████████████████████████████████                                                          | 71/100 [23:51<08:24, 17.40s/it]"
     ]
    },
    {
     "name": "stdout",
     "output_type": "stream",
     "text": [
      "[1.09792022e-02 1.75809516e-02 8.41635165e-03 5.03581015e-02\n",
      " 9.73237446e-02 5.15325710e-02 1.59962080e-02 3.40994920e-02\n",
      " 1.63205660e-02 2.54268386e-02 1.66547097e-02 2.55101756e-02\n",
      " 9.18467824e-03 2.10026990e-02 1.11994745e-02 4.50174613e-03\n",
      " 8.75399028e-03 6.24988682e-03 4.52655461e-01 2.92706890e-01\n",
      " 4.60093563e-01 2.15457331e-02 3.11243145e-02 1.93063316e-02\n",
      " 4.09158962e-03 8.25849465e-03 4.53973014e-03 7.40370169e-03\n",
      " 5.31607653e-03 6.02427698e-03 6.19425610e-03 4.22439599e-03\n",
      " 3.55407511e-03 7.02145199e-03 5.76745443e-03 4.41272163e-03\n",
      " 1.54677356e-03 4.26825239e-03 2.50180975e-03 1.66338989e-05\n",
      " 3.73832891e-24 3.53395754e-05 1.20538141e-03 3.07958290e-03\n",
      " 1.36359148e-03 1.38794456e-04 2.46899539e-04 1.98940255e-04] [[8.44948199e+000 7.75453510e+001 2.32379754e+001 ... 7.87157713e-096\n",
      "  2.79739890e-044 1.82079981e-070]\n",
      " [1.61576967e+001 2.80150202e+003 2.82067155e+001 ... 1.10844320e-014\n",
      "  6.70815003e-002 6.74997668e-004]\n",
      " [1.03772476e+001 7.50641416e+001 5.28551749e+000 ... 2.65100998e-121\n",
      "  4.59593746e-056 2.25854633e-083]\n",
      " ...\n",
      " [0.00000000e+000 0.00000000e+000 0.00000000e+000 ... 5.25172939e-038\n",
      "  2.96141095e+001 0.00000000e+000]\n",
      " [8.10055571e-116 1.48994722e-057 2.34878219e-070 ... 6.55604416e-038\n",
      "  1.58192090e+002 5.74294225e-042]\n",
      " [0.00000000e+000 6.15935743e-114 0.00000000e+000 ... 2.47477342e-056\n",
      "  1.02744886e+000 2.71179574e-119]] [[1.27095160e+05 1.18435224e+05 1.21261677e+05 ... 8.72924201e+03\n",
      "  6.31438189e+00 3.85104492e+01]\n",
      " [9.79335107e+04 8.24654876e+04 1.03082580e+05 ... 1.72119791e+03\n",
      "  2.66018756e+03 1.70432158e+02]\n",
      " [1.13822352e+05 1.15099989e+05 1.17607406e+05 ... 2.55827131e+00\n",
      "  7.36706407e+00 2.35813512e+03]\n",
      " ...\n",
      " [0.00000000e+00 0.00000000e+00 0.00000000e+00 ... 5.71884685e+04\n",
      "  1.21521989e+06 0.00000000e+00]\n",
      " [4.47673989e+02 1.19646266e+04 6.64240541e+02 ... 2.46432581e+02\n",
      "  1.05205720e+06 8.85069368e+00]\n",
      " [0.00000000e+00 4.22608870e+02 0.00000000e+00 ... 1.82361179e+05\n",
      "  2.99066423e+05 2.24184840e+04]]\n"
     ]
    },
    {
     "data": {
      "image/png": "[encoded data removed]",
      "text/plain": [
       "<Figure size 432x288 with 1 Axes>"
      ]
     },
     "metadata": {
      "needs_background": "light"
     },
     "output_type": "display_data"
    },
    {
     "name": "stderr",
     "output_type": "stream",
     "text": [
      "\r",
      " 72%|████████████████████████████████████████████████████████████████████████████████████████████████████████████████████████████████████████████████                                                        | 72/100 [24:05<07:44, 16.60s/it]"
     ]
    },
    {
     "name": "stdout",
     "output_type": "stream",
     "text": [
      "[1.09786239e-02 1.75808672e-02 8.41566712e-03 5.03467803e-02\n",
      " 9.73148420e-02 5.15408245e-02 1.59961826e-02 3.40969412e-02\n",
      " 1.63205250e-02 2.54251443e-02 1.66547105e-02 2.55101798e-02\n",
      " 9.18464871e-03 2.10023715e-02 1.11994773e-02 4.50147753e-03\n",
      " 8.75391610e-03 6.24988974e-03 4.52638358e-01 2.92703678e-01\n",
      " 4.59993068e-01 2.15457184e-02 3.11242555e-02 1.93063310e-02\n",
      " 4.09157904e-03 8.25847351e-03 4.53950334e-03 7.40370748e-03\n",
      " 5.31607696e-03 6.02427692e-03 6.19150581e-03 4.22430435e-03\n",
      " 3.55404760e-03 7.02145186e-03 5.76736361e-03 4.41273212e-03\n",
      " 1.54678806e-03 4.26770972e-03 2.50962089e-03 1.66225127e-05\n",
      " 1.89544625e-24 3.53395428e-05 1.20538140e-03 3.07960181e-03\n",
      " 1.36358273e-03 1.38794162e-04 2.46899459e-04 1.98940255e-04] [[8.44945213e+000 7.75453158e+001 2.32373146e+001 ... 8.12955623e-097\n",
      "  8.60327022e-045 2.22078542e-071]\n",
      " [1.61576145e+001 2.80138492e+003 2.82064951e+001 ... 7.98280925e-015\n",
      "  6.70815515e-002 6.74997685e-004]\n",
      " [1.03772596e+001 7.50642425e+001 5.28550704e+000 ... 6.17560083e-123\n",
      "  9.66886572e-057 1.54504222e-084]\n",
      " ...\n",
      " [0.00000000e+000 0.00000000e+000 0.00000000e+000 ... 1.85848760e-038\n",
      "  2.96142542e+001 0.00000000e+000]\n",
      " [2.77932269e-117 2.66792255e-058 2.75222752e-071 ... 2.10470042e-038\n",
      "  1.58191200e+002 1.85190662e-042]\n",
      " [0.00000000e+000 1.89739265e-115 0.00000000e+000 ... 1.03347818e-056\n",
      "  1.02744883e+000 6.25830034e-121]] [[1.27095244e+05 1.18435197e+05 1.21260373e+05 ... 8.72981936e+03\n",
      "  6.31438357e+00 3.85104336e+01]\n",
      " [9.79334206e+04 8.24620813e+04 1.03082177e+05 ... 1.72260966e+03\n",
      "  2.66018782e+03 1.70432160e+02]\n",
      " [1.13819918e+05 1.15100162e+05 1.17607230e+05 ... 2.55827352e+00\n",
      "  7.36706518e+00 2.35813519e+03]\n",
      " ...\n",
      " [0.00000000e+00 0.00000000e+00 0.00000000e+00 ... 5.71872970e+04\n",
      "  1.21522582e+06 0.00000000e+00]\n",
      " [4.47715412e+02 1.19649099e+04 6.64160832e+02 ... 2.46441283e+02\n",
      "  1.05205137e+06 8.85069366e+00]\n",
      " [0.00000000e+00 4.22608888e+02 0.00000000e+00 ... 1.82361173e+05\n",
      "  2.99066419e+05 2.24184845e+04]]\n"
     ]
    },
    {
     "data": {
      "image/png": "[encoded data removed]",
      "text/plain": [
       "<Figure size 432x288 with 1 Axes>"
      ]
     },
     "metadata": {
      "needs_background": "light"
     },
     "output_type": "display_data"
    },
    {
     "name": "stderr",
     "output_type": "stream",
     "text": [
      "\r",
      " 73%|██████████████████████████████████████████████████████████████████████████████████████████████████████████████████████████████████████████████████                                                      | 73/100 [24:20<07:15, 16.11s/it]"
     ]
    },
    {
     "name": "stdout",
     "output_type": "stream",
     "text": [
      "[1.09782271e-02 1.75807143e-02 8.41511037e-03 5.03296826e-02\n",
      " 9.73076819e-02 5.15449984e-02 1.59961624e-02 3.40961123e-02\n",
      " 1.63204904e-02 2.54240265e-02 1.66547113e-02 2.55101783e-02\n",
      " 9.18462066e-03 2.10021165e-02 1.11994795e-02 4.50125759e-03\n",
      " 8.75384430e-03 6.24989200e-03 4.52624192e-01 2.92699627e-01\n",
      " 4.59899219e-01 2.15457075e-02 3.11242091e-02 1.93063276e-02\n",
      " 4.09156758e-03 8.25845474e-03 4.53926636e-03 7.40371297e-03\n",
      " 5.31607621e-03 6.02427690e-03 6.18825230e-03 4.22419953e-03\n",
      " 3.55402369e-03 7.02145174e-03 5.76729558e-03 4.41274169e-03\n",
      " 1.54680477e-03 4.26730545e-03 2.51692385e-03 1.66119361e-05\n",
      " 9.61048534e-25 3.53395116e-05 1.20538140e-03 3.07961558e-03\n",
      " 1.36357433e-03 1.38793900e-04 2.46899408e-04 1.98940255e-04] [[8.44946802e+000 7.75460581e+001 2.32368435e+001 ... 8.39770431e-098\n",
      "  2.64587809e-045 2.70863842e-072]\n",
      " [1.61575402e+001 2.80134876e+003 2.82063183e+001 ... 5.74794435e-015\n",
      "  6.70815763e-002 6.74997683e-004]\n",
      " [1.03772729e+001 7.50642154e+001 5.28550309e+000 ... 1.43862718e-124\n",
      "  2.03410894e-057 1.05694333e-085]\n",
      " ...\n",
      " [0.00000000e+000 0.00000000e+000 0.00000000e+000 ... 6.57680726e-039\n",
      "  2.96144139e+001 0.00000000e+000]\n",
      " [9.53362442e-119 4.77716806e-059 3.22484478e-072 ... 6.75688151e-039\n",
      "  1.58192158e+002 5.97177888e-043]\n",
      " [0.00000000e+000 5.84495166e-117 0.00000000e+000 ... 4.31617494e-057\n",
      "  1.02744547e+000 1.44429545e-122]] [[1.27095601e+05 1.18436401e+05 1.21259863e+05 ... 8.73034903e+03\n",
      "  6.31438518e+00 3.85104213e+01]\n",
      " [9.79331956e+04 8.24609482e+04 1.03081885e+05 ... 1.72390349e+03\n",
      "  2.66018811e+03 1.70432162e+02]\n",
      " [1.13818158e+05 1.15100141e+05 1.17607186e+05 ... 2.55827554e+00\n",
      "  7.36706631e+00 2.35813532e+03]\n",
      " ...\n",
      " [0.00000000e+00 0.00000000e+00 0.00000000e+00 ... 5.71861907e+04\n",
      "  1.21523206e+06 0.00000000e+00]\n",
      " [4.47748744e+02 1.19653140e+04 6.64084033e+02 ... 2.46449282e+02\n",
      "  1.05205743e+06 8.85069365e+00]\n",
      " [0.00000000e+00 4.22608885e+02 0.00000000e+00 ... 1.82361102e+05\n",
      "  2.99065453e+05 2.24184961e+04]]\n"
     ]
    },
    {
     "data": {
      "image/png": "[encoded data removed]",
      "text/plain": [
       "<Figure size 432x288 with 1 Axes>"
      ]
     },
     "metadata": {
      "needs_background": "light"
     },
     "output_type": "display_data"
    },
    {
     "name": "stderr",
     "output_type": "stream",
     "text": [
      "\r",
      " 74%|████████████████████████████████████████████████████████████████████████████████████████████████████████████████████████████████████████████████████                                                    | 74/100 [24:39<07:15, 16.75s/it]"
     ]
    },
    {
     "name": "stdout",
     "output_type": "stream",
     "text": [
      "[1.09779259e-02 1.75805112e-02 8.41468586e-03 5.03106064e-02\n",
      " 9.73023400e-02 5.15443511e-02 1.59961442e-02 3.40946883e-02\n",
      " 1.63204611e-02 2.54233685e-02 1.66547112e-02 2.55101716e-02\n",
      " 9.18459397e-03 2.10019066e-02 1.11994816e-02 4.50107698e-03\n",
      " 8.75377570e-03 6.24989435e-03 4.52612527e-01 2.92696887e-01\n",
      " 4.59814791e-01 2.15456993e-02 3.11241714e-02 1.93063190e-02\n",
      " 4.09155525e-03 8.25843750e-03 4.53902692e-03 7.40371819e-03\n",
      " 5.31607595e-03 6.02427692e-03 6.18509463e-03 4.22407986e-03\n",
      " 3.55400278e-03 7.02145165e-03 5.76724422e-03 4.41275038e-03\n",
      " 1.54682257e-03 4.26699675e-03 2.52104615e-03 1.66021107e-05\n",
      " 4.87280530e-25 3.53394818e-05 1.20538139e-03 3.07963154e-03\n",
      " 1.36356629e-03 1.38793666e-04 2.46899379e-04 1.98940255e-04] [[8.44947147e+000 7.75458734e+001 2.32362763e+001 ... 8.67630012e-099\n",
      "  8.13716841e-046 3.30366117e-073]\n",
      " [1.61575531e+001 2.80137481e+003 2.82061561e+001 ... 4.13800107e-015\n",
      "  6.70816276e-002 6.74997664e-004]\n",
      " [1.03772639e+001 7.50642905e+001 5.28548114e+000 ... 3.35133911e-126\n",
      "  4.27927531e-058 7.23041151e-087]\n",
      " ...\n",
      " [0.00000000e+000 0.00000000e+000 0.00000000e+000 ... 2.32738955e-039\n",
      "  2.96144402e+001 0.00000000e+000]\n",
      " [3.26951459e-120 8.55404404e-060 3.77846118e-073 ... 2.16924765e-039\n",
      "  1.58193823e+002 1.92569877e-043]\n",
      " [0.00000000e+000 1.80056298e-118 0.00000000e+000 ... 1.80270929e-057\n",
      "  1.02744758e+000 3.33315247e-124]] [[1.27095532e+05 1.18436260e+05 1.21258593e+05 ... 8.73082956e+03\n",
      "  6.31438670e+00 3.85104116e+01]\n",
      " [9.79333483e+04 8.24616720e+04 1.03081588e+05 ... 1.72508335e+03\n",
      "  2.66018912e+03 1.70432163e+02]\n",
      " [1.13816720e+05 1.15100230e+05 1.17606701e+05 ... 2.55827737e+00\n",
      "  7.36706725e+00 2.35813530e+03]\n",
      " ...\n",
      " [0.00000000e+00 0.00000000e+00 0.00000000e+00 ... 5.71851769e+04\n",
      "  1.21523259e+06 0.00000000e+00]\n",
      " [4.47775379e+02 1.19660200e+04 6.64010229e+02 ... 2.46456600e+02\n",
      "  1.05206872e+06 8.85069364e+00]\n",
      " [0.00000000e+00 4.22608933e+02 0.00000000e+00 ... 1.82360965e+05\n",
      "  2.99066078e+05 2.24184814e+04]]\n"
     ]
    },
    {
     "data": {
      "image/png": "[encoded data removed]",
      "text/plain": [
       "<Figure size 432x288 with 1 Axes>"
      ]
     },
     "metadata": {
      "needs_background": "light"
     },
     "output_type": "display_data"
    },
    {
     "name": "stderr",
     "output_type": "stream",
     "text": [
      "\r",
      " 75%|██████████████████████████████████████████████████████████████████████████████████████████████████████████████████████████████████████████████████████                                                  | 75/100 [24:53<06:44, 16.18s/it]"
     ]
    },
    {
     "name": "stdout",
     "output_type": "stream",
     "text": [
      "[1.09776777e-02 1.75802208e-02 8.41437676e-03 5.02945969e-02\n",
      " 9.72979613e-02 5.15371237e-02 1.59961293e-02 3.40948181e-02\n",
      " 1.63204371e-02 2.54230286e-02 1.66547102e-02 2.55101607e-02\n",
      " 9.18456827e-03 2.10016664e-02 1.11994833e-02 4.50092766e-03\n",
      " 8.75371020e-03 6.24989601e-03 4.52602972e-01 2.92695544e-01\n",
      " 4.59741410e-01 2.15456931e-02 3.11241414e-02 1.93063006e-02\n",
      " 4.09154190e-03 8.25842199e-03 4.53878979e-03 7.40372315e-03\n",
      " 5.31607434e-03 6.02427695e-03 6.18237379e-03 4.22394482e-03\n",
      " 3.55398441e-03 7.02145157e-03 5.76720608e-03 4.41275831e-03\n",
      " 1.54684068e-03 4.26676812e-03 2.52383555e-03 1.65929826e-05\n",
      " 2.47065835e-25 3.53394532e-05 1.20538139e-03 3.07965213e-03\n",
      " 1.36355857e-03 1.38793460e-04 2.46899375e-04 1.98940255e-04] [[8.44950775e+000 7.75475782e+001 2.32358378e+001 ... 8.96563848e-100\n",
      "  2.50250015e-046 4.02939629e-074]\n",
      " [1.61575563e+001 2.80139613e+003 2.82060448e+001 ... 2.97849243e-015\n",
      "  6.70816615e-002 6.74997582e-004]\n",
      " [1.03772712e+001 7.50641972e+001 5.28547900e+000 ... 7.80709454e-128\n",
      "  9.00251340e-059 4.94623037e-088]\n",
      " ...\n",
      " [0.00000000e+000 0.00000000e+000 0.00000000e+000 ... 8.23610662e-040\n",
      "  2.96144504e+001 0.00000000e+000]\n",
      " [1.12105620e-121 1.53172628e-060 4.42691759e-074 ... 6.96430937e-040\n",
      "  1.58191044e+002 6.20973387e-044]\n",
      " [0.00000000e+000 5.54677458e-120 0.00000000e+000 ... 7.52972644e-058\n",
      "  1.02744862e+000 7.69227285e-126]] [[1.27095828e+05 1.18439002e+05 1.21257629e+05 ... 8.73126705e+03\n",
      "  6.31438819e+00 3.85104036e+01]\n",
      " [9.79333580e+04 8.24623064e+04 1.03081446e+05 ... 1.72615437e+03\n",
      "  2.66018884e+03 1.70432163e+02]\n",
      " [1.13815871e+05 1.15100064e+05 1.17606647e+05 ... 2.55827902e+00\n",
      "  7.36706869e+00 2.35813540e+03]\n",
      " ...\n",
      " [0.00000000e+00 0.00000000e+00 0.00000000e+00 ... 5.71842849e+04\n",
      "  1.21523280e+06 0.00000000e+00]\n",
      " [4.47796693e+02 1.19672128e+04 6.63939047e+02 ... 2.46463262e+02\n",
      "  1.05205085e+06 8.85069363e+00]\n",
      " [0.00000000e+00 4.22609010e+02 0.00000000e+00 ... 1.82361047e+05\n",
      "  2.99066388e+05 2.24184844e+04]]\n"
     ]
    },
    {
     "data": {
      "image/png": "[encoded data removed]",
      "text/plain": [
       "<Figure size 432x288 with 1 Axes>"
      ]
     },
     "metadata": {
      "needs_background": "light"
     },
     "output_type": "display_data"
    },
    {
     "name": "stderr",
     "output_type": "stream",
     "text": [
      " 76%|████████████████████████████████████████████████████████████████████████████████████████████████████████████████████████████████████████████████████████                                                | 76/100 [25:23<08:01, 20.05s/it]\n"
     ]
    },
    {
     "ename": "KeyboardInterrupt",
     "evalue": "",
     "output_type": "error",
     "traceback": [
      "\u001b[0;31m---------------------------------------------------------------------------\u001b[0m",
      "\u001b[0;31mKeyboardInterrupt\u001b[0m                         Traceback (most recent call last)",
      "\u001b[0;32m/var/folders/5l/jdr1h_pn3x3_7nt8kgthzmv00000gn/T/ipykernel_20956/3558213369.py\u001b[0m in \u001b[0;36m<module>\u001b[0;34m\u001b[0m\n\u001b[0;32m----> 1\u001b[0;31m \u001b[0mnu\u001b[0m\u001b[0;34m,\u001b[0m\u001b[0malpha\u001b[0m\u001b[0;34m,\u001b[0m\u001b[0mbeta\u001b[0m \u001b[0;34m=\u001b[0m \u001b[0mem\u001b[0m\u001b[0;34m(\u001b[0m\u001b[0mtimes\u001b[0m\u001b[0;34m,\u001b[0m\u001b[0mevents\u001b[0m\u001b[0;34m)\u001b[0m\u001b[0;34m\u001b[0m\u001b[0;34m\u001b[0m\u001b[0m\n\u001b[0m",
      "\u001b[0;32m/var/folders/5l/jdr1h_pn3x3_7nt8kgthzmv00000gn/T/ipykernel_20956/2873065089.py\u001b[0m in \u001b[0;36mem\u001b[0;34m(times, events, T, iters)\u001b[0m\n\u001b[1;32m     41\u001b[0m         \u001b[0mnext_t\u001b[0m \u001b[0;34m=\u001b[0m \u001b[0mT\u001b[0m\u001b[0;34m\u001b[0m\u001b[0;34m\u001b[0m\u001b[0m\n\u001b[1;32m     42\u001b[0m         \u001b[0;32mfor\u001b[0m \u001b[0mi\u001b[0m\u001b[0;34m,\u001b[0m\u001b[0;34m(\u001b[0m\u001b[0mt\u001b[0m\u001b[0;34m,\u001b[0m\u001b[0me\u001b[0m\u001b[0;34m)\u001b[0m \u001b[0;32min\u001b[0m \u001b[0mreversed\u001b[0m\u001b[0;34m(\u001b[0m\u001b[0mlist\u001b[0m\u001b[0;34m(\u001b[0m\u001b[0menumerate\u001b[0m\u001b[0;34m(\u001b[0m\u001b[0mzip\u001b[0m\u001b[0;34m(\u001b[0m\u001b[0mtimes\u001b[0m\u001b[0;34m,\u001b[0m\u001b[0mevents\u001b[0m\u001b[0;34m)\u001b[0m\u001b[0;34m)\u001b[0m\u001b[0;34m)\u001b[0m\u001b[0;34m)\u001b[0m\u001b[0;34m:\u001b[0m\u001b[0;34m\u001b[0m\u001b[0;34m\u001b[0m\u001b[0m\n\u001b[0;32m---> 43\u001b[0;31m             \u001b[0msum_j_B_i_j\u001b[0m \u001b[0;34m*=\u001b[0m \u001b[0mnp\u001b[0m\u001b[0;34m.\u001b[0m\u001b[0mexp\u001b[0m\u001b[0;34m(\u001b[0m\u001b[0;34m-\u001b[0m\u001b[0mbeta\u001b[0m\u001b[0;34m*\u001b[0m\u001b[0;34m(\u001b[0m\u001b[0mnext_t\u001b[0m\u001b[0;34m-\u001b[0m\u001b[0mt\u001b[0m\u001b[0;34m)\u001b[0m\u001b[0;34m)\u001b[0m\u001b[0;34m\u001b[0m\u001b[0;34m\u001b[0m\u001b[0m\n\u001b[0m\u001b[1;32m     44\u001b[0m             \u001b[0mbackwards_pass\u001b[0m\u001b[0;34m[\u001b[0m\u001b[0me\u001b[0m\u001b[0;34m,\u001b[0m\u001b[0;34m:\u001b[0m\u001b[0;34m]\u001b[0m \u001b[0;34m+=\u001b[0m \u001b[0mt\u001b[0m\u001b[0;34m*\u001b[0m\u001b[0msum_j_B_i_j\u001b[0m\u001b[0;34m[\u001b[0m\u001b[0me\u001b[0m\u001b[0;34m,\u001b[0m\u001b[0;34m:\u001b[0m\u001b[0;34m]\u001b[0m\u001b[0;34m\u001b[0m\u001b[0;34m\u001b[0m\u001b[0m\n\u001b[1;32m     45\u001b[0m             \u001b[0msum_j_B_i_j\u001b[0m\u001b[0;34m[\u001b[0m\u001b[0;34m:\u001b[0m\u001b[0;34m,\u001b[0m\u001b[0me\u001b[0m\u001b[0;34m]\u001b[0m \u001b[0;34m+=\u001b[0m \u001b[0malpha\u001b[0m\u001b[0;34m[\u001b[0m\u001b[0;34m:\u001b[0m\u001b[0;34m,\u001b[0m\u001b[0me\u001b[0m\u001b[0;34m]\u001b[0m\u001b[0;34m/\u001b[0m\u001b[0mintensities\u001b[0m\u001b[0;34m[\u001b[0m\u001b[0mi\u001b[0m\u001b[0;34m]\u001b[0m\u001b[0;34m\u001b[0m\u001b[0;34m\u001b[0m\u001b[0m\n",
      "\u001b[0;31mKeyboardInterrupt\u001b[0m: "
     ]
    }
   ],
   "source": [
    "nu,alpha,beta = em(times,events)"
   ]
  },
  {
   "cell_type": "code",
   "execution_count": null,
   "id": "4495c02b",
   "metadata": {},
   "outputs": [],
   "source": [
    "nu,alpha,beta"
   ]
  },
  {
   "cell_type": "code",
   "execution_count": null,
   "id": "f2e58a36",
   "metadata": {},
   "outputs": [],
   "source": []
  }
 ],
 "metadata": {
  "kernelspec": {
   "display_name": "Python 3 (ipykernel)",
   "language": "python",
   "name": "python3"
  },
  "language_info": {
   "codemirror_mode": {
    "name": "ipython",
    "version": 3
   },
   "file_extension": ".py",
   "mimetype": "text/x-python",
   "name": "python",
   "nbconvert_exporter": "python",
   "pygments_lexer": "ipython3",
   "version": "3.9.0"
  }
 },
 "nbformat": 4,
 "nbformat_minor": 5
}
