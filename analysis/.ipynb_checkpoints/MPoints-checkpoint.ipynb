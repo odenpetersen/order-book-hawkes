{
 "cells": [
  {
   "cell_type": "code",
   "execution_count": 57,
   "id": "e6ddae50",
   "metadata": {},
   "outputs": [],
   "source": [
    "import mpoints\n",
    "import mpoints.hybrid_hawkes_exp\n",
    "import numpy as np\n",
    "import mpoints.plot_tools\n",
    "import matplotlib.pyplot as plt\n",
    "import scipy as sp\n",
    "import scipy.stats\n",
    "\n",
    "import sys\n",
    "sys.path.append('../code')\n",
    "import sampler_multivariate"
   ]
  },
  {
   "cell_type": "code",
   "execution_count": 58,
   "id": "a33af2fa",
   "metadata": {},
   "outputs": [],
   "source": [
    "n_events = 2  # number of event types, $d_e$\n",
    "n_states = 2  # number of possible states, $d_x$\n",
    "events_labels = ['A', 'B']  # names of the event types\n",
    "states_labels = ['1', '2']  # names of the states"
   ]
  },
  {
   "cell_type": "code",
   "execution_count": 59,
   "id": "466e201d",
   "metadata": {},
   "outputs": [],
   "source": [
    "model = mpoints.hybrid_hawkes_exp.HybridHawkesExp(n_events, n_states, events_labels, states_labels)"
   ]
  },
  {
   "cell_type": "code",
   "execution_count": 245,
   "id": "ecacc396",
   "metadata": {},
   "outputs": [],
   "source": [
    "# The transition probabilities $\\phi$\n",
    "phis = np.zeros((n_states, n_events, n_states))\n",
    "phis[0, 0, 0] = 0.7\n",
    "phis[0, 0, 1] = 0.3\n",
    "phis[1, 0, 0] = 0.6\n",
    "phis[1, 0, 1] = 0.4  # $\\phi_0(1, 1)$, probability of transitioning from state 1 to 1 when an event of type 0 occurs\n",
    "phis[0, 1, 0] = 0.2\n",
    "phis[0, 1, 1] = 0.8\n",
    "phis[1, 1, 0] = 0.4\n",
    "phis[1, 1, 1] = 0.6\n",
    "\n",
    "# The base rates $\\nu$\n",
    "nus = np.ones(n_events)\n",
    "\n",
    "# The impact coefficients $\\alpha$\n",
    "alphas = np.zeros((n_events, n_states, n_events))\n",
    "alphas[0, 0, 0] = 2\n",
    "alphas[0, 0, 1] = 1\n",
    "alphas[1, 0, 0] = 1\n",
    "alphas[1, 0, 1] = 4\n",
    "alphas[0, 1, 0] = 2\n",
    "alphas[0, 1, 1] = 10\n",
    "alphas[1, 1, 0] = 5\n",
    "alphas[1, 1, 1] = 1\n",
    "\n",
    "# The decay coefficients $\\beta$\n",
    "betas = np.zeros((n_events, n_states, n_events))\n",
    "betas[0, 0, 0] = 4\n",
    "betas[0, 0, 1] = 12\n",
    "betas[1, 0, 0] = 14\n",
    "betas[1, 0, 1] = 10\n",
    "betas[0, 1, 0] = 14\n",
    "betas[0, 1, 1] = 15\n",
    "betas[1, 1, 0] = 10\n",
    "betas[1, 1, 1] = 14\n",
    "\n",
    "#betas *= 10000"
   ]
  },
  {
   "cell_type": "code",
   "execution_count": 246,
   "id": "59ba399b",
   "metadata": {},
   "outputs": [],
   "source": [
    "model.set_transition_probabilities(phis)"
   ]
  },
  {
   "cell_type": "code",
   "execution_count": 247,
   "id": "c561c666",
   "metadata": {},
   "outputs": [],
   "source": [
    "model.set_hawkes_parameters(nus, alphas, betas)"
   ]
  },
  {
   "cell_type": "code",
   "execution_count": null,
   "id": "e4b9a0a5",
   "metadata": {},
   "outputs": [],
   "source": [
    "time_start = 0\n",
    "time_end = 30\n",
    "def get_tuple():\n",
    "    times, events, states = model.simulate(time_start, time_end)\n",
    "    return times,events,states\n",
    "(lambda x : (np.mean([len(x_) for x_ in x]),np.std([len(x_) for x_ in x])/np.sqrt(len(x)),np.mean([min(x_) for x_ in x if len(x_)>0])))([get_tuple()[0] for _ in range(100)])"
   ]
  },
  {
   "cell_type": "code",
   "execution_count": null,
   "id": "6c8bea95",
   "metadata": {},
   "outputs": [],
   "source": [
    "nus_ = np.stack([nus,nus]).T\n",
    "alphas_,betas_ = map(lambda x : np.expand_dims(x,-1).swapaxes(-3,-2), (alphas,betas))\n",
    "phis_ = phis.swapaxes(0,1)\n",
    "\n",
    "def get_tuple():\n",
    "    events_ = sampler_multivariate.generate_events(nus_, alphas_, betas_, phis_, maxtime=30)\n",
    "    if len(events_) == 0:\n",
    "        return [],[],[]\n",
    "    times, events, states = map(np.array,zip(*[(e['time'], e['type'], e['new_state']) for e in events_]))\n",
    "    return times,events,states\n",
    "(lambda x : (np.mean([len(x_) for x_ in x]),np.std([len(x_) for x_ in x])/np.sqrt(len(x)),np.mean([min(x_) for x_ in x if len(x_)>0])))([get_tuple()[0] for _ in range(100)])"
   ]
  },
  {
   "cell_type": "code",
   "execution_count": 65,
   "id": "ed6969d0",
   "metadata": {},
   "outputs": [
    {
     "data": {
      "text/plain": [
       "<matplotlib.collections.PathCollection at 0x7f8658057f70>"
      ]
     },
     "execution_count": 65,
     "metadata": {},
     "output_type": "execute_result"
    },
    {
     "data": {
      "image/png": "[encoded data removed]",
      "text/plain": [
       "<Figure size 432x288 with 1 Axes>"
      ]
     },
     "metadata": {
      "needs_background": "light"
     },
     "output_type": "display_data"
    }
   ],
   "source": [
    "plt.scatter(times,events)"
   ]
  },
  {
   "cell_type": "code",
   "execution_count": 68,
   "id": "35433c5a",
   "metadata": {},
   "outputs": [
    {
     "data": {
      "text/plain": [
       "[<matplotlib.lines.Line2D at 0x7f8658144be0>,\n",
       " <matplotlib.lines.Line2D at 0x7f8658144c10>]"
      ]
     },
     "execution_count": 68,
     "metadata": {},
     "output_type": "execute_result"
    },
    {
     "data": {
      "image/png": "[encoded data removed]",
      "text/plain": [
       "<Figure size 432x288 with 1 Axes>"
      ]
     },
     "metadata": {
      "needs_background": "light"
     },
     "output_type": "display_data"
    }
   ],
   "source": [
    "plt.plot(times,[e['total_intensity'] for e in events_])"
   ]
  },
  {
   "cell_type": "code",
   "execution_count": 69,
   "id": "7690e138",
   "metadata": {
    "scrolled": true
   },
   "outputs": [
    {
     "data": {
      "text/plain": [
       "<matplotlib.collections.PathCollection at 0x7f865824b490>"
      ]
     },
     "execution_count": 69,
     "metadata": {},
     "output_type": "execute_result"
    },
    {
     "data": {
      "image/png": "[encoded data removed]",
      "text/plain": [
       "<Figure size 432x288 with 1 Axes>"
      ]
     },
     "metadata": {
      "needs_background": "light"
     },
     "output_type": "display_data"
    }
   ],
   "source": [
    "plt.scatter(times,events)"
   ]
  },
  {
   "cell_type": "code",
   "execution_count": 70,
   "id": "6bfa430d",
   "metadata": {},
   "outputs": [
    {
     "ename": "AssertionError",
     "evalue": "",
     "output_type": "error",
     "traceback": [
      "\u001b[0;31m---------------------------------------------------------------------------\u001b[0m",
      "\u001b[0;31mAssertionError\u001b[0m                            Traceback (most recent call last)",
      "\u001b[0;32m/var/folders/5l/jdr1h_pn3x3_7nt8kgthzmv00000gn/T/ipykernel_67973/118030673.py\u001b[0m in \u001b[0;36m<module>\u001b[0;34m\u001b[0m\n\u001b[0;32m----> 1\u001b[0;31m \u001b[0mmodel\u001b[0m\u001b[0;34m.\u001b[0m\u001b[0marray_to_parameters\u001b[0m\u001b[0;34m(\u001b[0m\u001b[0mmodel\u001b[0m\u001b[0;34m.\u001b[0m\u001b[0mestimate_hawkes_parameters\u001b[0m\u001b[0;34m(\u001b[0m\u001b[0mtimes\u001b[0m\u001b[0;34m,\u001b[0m \u001b[0mevents\u001b[0m\u001b[0;34m,\u001b[0m \u001b[0mstates\u001b[0m\u001b[0;34m,\u001b[0m \u001b[0;36m0\u001b[0m\u001b[0;34m,\u001b[0m \u001b[0;36m18\u001b[0m\u001b[0;34m)\u001b[0m\u001b[0;34m[\u001b[0m\u001b[0;36m0\u001b[0m\u001b[0;34m]\u001b[0m\u001b[0;34m.\u001b[0m\u001b[0mx\u001b[0m\u001b[0;34m,\u001b[0m \u001b[0mn_events\u001b[0m\u001b[0;34m,\u001b[0m \u001b[0mn_states\u001b[0m\u001b[0;34m)\u001b[0m\u001b[0;34m\u001b[0m\u001b[0;34m\u001b[0m\u001b[0m\n\u001b[0m",
      "\u001b[0;32m/Library/Frameworks/Python.framework/Versions/3.9/lib/python3.9/site-packages/mpoints/hybrid_hawkes_exp.py\u001b[0m in \u001b[0;36mestimate_hawkes_parameters\u001b[0;34m(self, times, events, states, time_start, time_end, maximum_number_of_iterations, method, parameters_lower_bound, parameters_upper_bound, given_guesses, number_of_random_guesses, min_decay_coefficient, max_decay_coefficient, parallel_estimation)\u001b[0m\n\u001b[1;32m    352\u001b[0m                                                                       :, e:e + 1],\n\u001b[1;32m    353\u001b[0m                                                          guess_betas[:, :, e:e + 1])\n\u001b[0;32m--> 354\u001b[0;31m                     o = opt.minimize(likelihood_minus, g_partial, method=method,\n\u001b[0m\u001b[1;32m    355\u001b[0m                                      \u001b[0mbounds\u001b[0m\u001b[0;34m=\u001b[0m\u001b[0mbounds\u001b[0m\u001b[0;34m,\u001b[0m \u001b[0mjac\u001b[0m\u001b[0;34m=\u001b[0m\u001b[0mgradient_of_likelihood_minus\u001b[0m\u001b[0;34m,\u001b[0m\u001b[0;34m\u001b[0m\u001b[0;34m\u001b[0m\u001b[0m\n\u001b[1;32m    356\u001b[0m                                      options={'maxiter': maximum_number_of_iterations})\n",
      "\u001b[0;32m/Library/Frameworks/Python.framework/Versions/3.9/lib/python3.9/site-packages/scipy/optimize/_minimize.py\u001b[0m in \u001b[0;36mminimize\u001b[0;34m(fun, x0, args, method, jac, hess, hessp, bounds, constraints, tol, callback, options)\u001b[0m\n\u001b[1;32m    618\u001b[0m                                 callback=callback, **options)\n\u001b[1;32m    619\u001b[0m     \u001b[0;32melif\u001b[0m \u001b[0mmeth\u001b[0m \u001b[0;34m==\u001b[0m \u001b[0;34m'tnc'\u001b[0m\u001b[0;34m:\u001b[0m\u001b[0;34m\u001b[0m\u001b[0;34m\u001b[0m\u001b[0m\n\u001b[0;32m--> 620\u001b[0;31m         return _minimize_tnc(fun, x0, args, jac, bounds, callback=callback,\n\u001b[0m\u001b[1;32m    621\u001b[0m                              **options)\n\u001b[1;32m    622\u001b[0m     \u001b[0;32melif\u001b[0m \u001b[0mmeth\u001b[0m \u001b[0;34m==\u001b[0m \u001b[0;34m'cobyla'\u001b[0m\u001b[0;34m:\u001b[0m\u001b[0;34m\u001b[0m\u001b[0;34m\u001b[0m\u001b[0m\n",
      "\u001b[0;32m/Library/Frameworks/Python.framework/Versions/3.9/lib/python3.9/site-packages/scipy/optimize/tnc.py\u001b[0m in \u001b[0;36m_minimize_tnc\u001b[0;34m(fun, x0, args, jac, bounds, eps, scale, offset, mesg_num, maxCGit, maxiter, eta, stepmx, accuracy, minfev, ftol, xtol, gtol, rescale, disp, callback, finite_diff_rel_step, maxfun, **unknown_options)\u001b[0m\n\u001b[1;32m    412\u001b[0m             \u001b[0mmaxfun\u001b[0m \u001b[0;34m=\u001b[0m \u001b[0mmax\u001b[0m\u001b[0;34m(\u001b[0m\u001b[0;36m100\u001b[0m\u001b[0;34m,\u001b[0m \u001b[0;36m10\u001b[0m\u001b[0;34m*\u001b[0m\u001b[0mlen\u001b[0m\u001b[0;34m(\u001b[0m\u001b[0mx0\u001b[0m\u001b[0;34m)\u001b[0m\u001b[0;34m)\u001b[0m\u001b[0;34m\u001b[0m\u001b[0;34m\u001b[0m\u001b[0m\n\u001b[1;32m    413\u001b[0m \u001b[0;34m\u001b[0m\u001b[0m\n\u001b[0;32m--> 414\u001b[0;31m     rc, nf, nit, x = moduleTNC.minimize(func_and_grad, x0, low, up, scale,\n\u001b[0m\u001b[1;32m    415\u001b[0m                                         \u001b[0moffset\u001b[0m\u001b[0;34m,\u001b[0m \u001b[0mmessages\u001b[0m\u001b[0;34m,\u001b[0m \u001b[0mmaxCGit\u001b[0m\u001b[0;34m,\u001b[0m \u001b[0mmaxfun\u001b[0m\u001b[0;34m,\u001b[0m\u001b[0;34m\u001b[0m\u001b[0;34m\u001b[0m\u001b[0m\n\u001b[1;32m    416\u001b[0m                                         \u001b[0meta\u001b[0m\u001b[0;34m,\u001b[0m \u001b[0mstepmx\u001b[0m\u001b[0;34m,\u001b[0m \u001b[0maccuracy\u001b[0m\u001b[0;34m,\u001b[0m \u001b[0mfmin\u001b[0m\u001b[0;34m,\u001b[0m \u001b[0mftol\u001b[0m\u001b[0;34m,\u001b[0m\u001b[0;34m\u001b[0m\u001b[0;34m\u001b[0m\u001b[0m\n",
      "\u001b[0;32m/Library/Frameworks/Python.framework/Versions/3.9/lib/python3.9/site-packages/scipy/optimize/_differentiable_functions.py\u001b[0m in \u001b[0;36mfun_and_grad\u001b[0;34m(self, x)\u001b[0m\n\u001b[1;32m    199\u001b[0m             \u001b[0mself\u001b[0m\u001b[0;34m.\u001b[0m\u001b[0m_update_x_impl\u001b[0m\u001b[0;34m(\u001b[0m\u001b[0mx\u001b[0m\u001b[0;34m)\u001b[0m\u001b[0;34m\u001b[0m\u001b[0;34m\u001b[0m\u001b[0m\n\u001b[1;32m    200\u001b[0m         \u001b[0mself\u001b[0m\u001b[0;34m.\u001b[0m\u001b[0m_update_fun\u001b[0m\u001b[0;34m(\u001b[0m\u001b[0;34m)\u001b[0m\u001b[0;34m\u001b[0m\u001b[0;34m\u001b[0m\u001b[0m\n\u001b[0;32m--> 201\u001b[0;31m         \u001b[0mself\u001b[0m\u001b[0;34m.\u001b[0m\u001b[0m_update_grad\u001b[0m\u001b[0;34m(\u001b[0m\u001b[0;34m)\u001b[0m\u001b[0;34m\u001b[0m\u001b[0;34m\u001b[0m\u001b[0m\n\u001b[0m\u001b[1;32m    202\u001b[0m         \u001b[0;32mreturn\u001b[0m \u001b[0mself\u001b[0m\u001b[0;34m.\u001b[0m\u001b[0mf\u001b[0m\u001b[0;34m,\u001b[0m \u001b[0mself\u001b[0m\u001b[0;34m.\u001b[0m\u001b[0mg\u001b[0m\u001b[0;34m\u001b[0m\u001b[0;34m\u001b[0m\u001b[0m\n\u001b[1;32m    203\u001b[0m \u001b[0;34m\u001b[0m\u001b[0m\n",
      "\u001b[0;32m/Library/Frameworks/Python.framework/Versions/3.9/lib/python3.9/site-packages/scipy/optimize/_differentiable_functions.py\u001b[0m in \u001b[0;36m_update_grad\u001b[0;34m(self)\u001b[0m\n\u001b[1;32m    169\u001b[0m     \u001b[0;32mdef\u001b[0m \u001b[0m_update_grad\u001b[0m\u001b[0;34m(\u001b[0m\u001b[0mself\u001b[0m\u001b[0;34m)\u001b[0m\u001b[0;34m:\u001b[0m\u001b[0;34m\u001b[0m\u001b[0;34m\u001b[0m\u001b[0m\n\u001b[1;32m    170\u001b[0m         \u001b[0;32mif\u001b[0m \u001b[0;32mnot\u001b[0m \u001b[0mself\u001b[0m\u001b[0;34m.\u001b[0m\u001b[0mg_updated\u001b[0m\u001b[0;34m:\u001b[0m\u001b[0;34m\u001b[0m\u001b[0;34m\u001b[0m\u001b[0m\n\u001b[0;32m--> 171\u001b[0;31m             \u001b[0mself\u001b[0m\u001b[0;34m.\u001b[0m\u001b[0m_update_grad_impl\u001b[0m\u001b[0;34m(\u001b[0m\u001b[0;34m)\u001b[0m\u001b[0;34m\u001b[0m\u001b[0;34m\u001b[0m\u001b[0m\n\u001b[0m\u001b[1;32m    172\u001b[0m             \u001b[0mself\u001b[0m\u001b[0;34m.\u001b[0m\u001b[0mg_updated\u001b[0m \u001b[0;34m=\u001b[0m \u001b[0;32mTrue\u001b[0m\u001b[0;34m\u001b[0m\u001b[0;34m\u001b[0m\u001b[0m\n\u001b[1;32m    173\u001b[0m \u001b[0;34m\u001b[0m\u001b[0m\n",
      "\u001b[0;32m/Library/Frameworks/Python.framework/Versions/3.9/lib/python3.9/site-packages/scipy/optimize/_differentiable_functions.py\u001b[0m in \u001b[0;36mupdate_grad\u001b[0;34m()\u001b[0m\n\u001b[1;32m     83\u001b[0m \u001b[0;34m\u001b[0m\u001b[0m\n\u001b[1;32m     84\u001b[0m             \u001b[0;32mdef\u001b[0m \u001b[0mupdate_grad\u001b[0m\u001b[0;34m(\u001b[0m\u001b[0;34m)\u001b[0m\u001b[0;34m:\u001b[0m\u001b[0;34m\u001b[0m\u001b[0;34m\u001b[0m\u001b[0m\n\u001b[0;32m---> 85\u001b[0;31m                 \u001b[0mself\u001b[0m\u001b[0;34m.\u001b[0m\u001b[0mg\u001b[0m \u001b[0;34m=\u001b[0m \u001b[0mgrad_wrapped\u001b[0m\u001b[0;34m(\u001b[0m\u001b[0mself\u001b[0m\u001b[0;34m.\u001b[0m\u001b[0mx\u001b[0m\u001b[0;34m)\u001b[0m\u001b[0;34m\u001b[0m\u001b[0;34m\u001b[0m\u001b[0m\n\u001b[0m\u001b[1;32m     86\u001b[0m \u001b[0;34m\u001b[0m\u001b[0m\n\u001b[1;32m     87\u001b[0m         \u001b[0;32melif\u001b[0m \u001b[0mgrad\u001b[0m \u001b[0;32min\u001b[0m \u001b[0mFD_METHODS\u001b[0m\u001b[0;34m:\u001b[0m\u001b[0;34m\u001b[0m\u001b[0;34m\u001b[0m\u001b[0m\n",
      "\u001b[0;32m/Library/Frameworks/Python.framework/Versions/3.9/lib/python3.9/site-packages/scipy/optimize/_differentiable_functions.py\u001b[0m in \u001b[0;36mgrad_wrapped\u001b[0;34m(x)\u001b[0m\n\u001b[1;32m     80\u001b[0m             \u001b[0;32mdef\u001b[0m \u001b[0mgrad_wrapped\u001b[0m\u001b[0;34m(\u001b[0m\u001b[0mx\u001b[0m\u001b[0;34m)\u001b[0m\u001b[0;34m:\u001b[0m\u001b[0;34m\u001b[0m\u001b[0;34m\u001b[0m\u001b[0m\n\u001b[1;32m     81\u001b[0m                 \u001b[0mself\u001b[0m\u001b[0;34m.\u001b[0m\u001b[0mngev\u001b[0m \u001b[0;34m+=\u001b[0m \u001b[0;36m1\u001b[0m\u001b[0;34m\u001b[0m\u001b[0;34m\u001b[0m\u001b[0m\n\u001b[0;32m---> 82\u001b[0;31m                 \u001b[0;32mreturn\u001b[0m \u001b[0mnp\u001b[0m\u001b[0;34m.\u001b[0m\u001b[0matleast_1d\u001b[0m\u001b[0;34m(\u001b[0m\u001b[0mgrad\u001b[0m\u001b[0;34m(\u001b[0m\u001b[0mx\u001b[0m\u001b[0;34m,\u001b[0m \u001b[0;34m*\u001b[0m\u001b[0margs\u001b[0m\u001b[0;34m)\u001b[0m\u001b[0;34m)\u001b[0m\u001b[0;34m\u001b[0m\u001b[0;34m\u001b[0m\u001b[0m\n\u001b[0m\u001b[1;32m     83\u001b[0m \u001b[0;34m\u001b[0m\u001b[0m\n\u001b[1;32m     84\u001b[0m             \u001b[0;32mdef\u001b[0m \u001b[0mupdate_grad\u001b[0m\u001b[0;34m(\u001b[0m\u001b[0;34m)\u001b[0m\u001b[0;34m:\u001b[0m\u001b[0;34m\u001b[0m\u001b[0;34m\u001b[0m\u001b[0m\n",
      "\u001b[0;32m/Library/Frameworks/Python.framework/Versions/3.9/lib/python3.9/site-packages/mpoints/hybrid_hawkes_exp.py\u001b[0m in \u001b[0;36mgradient_of_likelihood_minus\u001b[0;34m(parameters)\u001b[0m\n\u001b[1;32m    339\u001b[0m                 \u001b[0;32mdef\u001b[0m \u001b[0mgradient_of_likelihood_minus\u001b[0m\u001b[0;34m(\u001b[0m\u001b[0mparameters\u001b[0m\u001b[0;34m)\u001b[0m\u001b[0;34m:\u001b[0m\u001b[0;34m\u001b[0m\u001b[0;34m\u001b[0m\u001b[0m\n\u001b[1;32m    340\u001b[0m                     \u001b[0mresult\u001b[0m \u001b[0;34m=\u001b[0m \u001b[0;34m-\u001b[0m\u001b[0;31m \u001b[0m\u001b[0;31m\\\u001b[0m\u001b[0;34m\u001b[0m\u001b[0;34m\u001b[0m\u001b[0m\n\u001b[0;32m--> 341\u001b[0;31m                         self.gradient_partial(\n\u001b[0m\u001b[1;32m    342\u001b[0m                             e, parameters, times, events, states, time_start, time_end)\n\u001b[1;32m    343\u001b[0m                     \u001b[0;32mreturn\u001b[0m \u001b[0mresult\u001b[0m\u001b[0;34m\u001b[0m\u001b[0;34m\u001b[0m\u001b[0m\n",
      "\u001b[0;32m/Library/Frameworks/Python.framework/Versions/3.9/lib/python3.9/site-packages/mpoints/hybrid_hawkes_exp.py\u001b[0m in \u001b[0;36mgradient_partial\u001b[0;34m(self, event_type, parameters, times, events, states, time_start, time_end)\u001b[0m\n\u001b[1;32m    749\u001b[0m                 parameters, number_of_event_types, number_of_states, 1)\n\u001b[1;32m    750\u001b[0m         \u001b[0mg_base_rate\u001b[0m\u001b[0;34m,\u001b[0m \u001b[0mg_impact_coefficients\u001b[0m\u001b[0;34m,\u001b[0m \u001b[0mg_decay_coefficients\u001b[0m \u001b[0;34m=\u001b[0m\u001b[0;31m \u001b[0m\u001b[0;31m\\\u001b[0m\u001b[0;34m\u001b[0m\u001b[0;34m\u001b[0m\u001b[0m\n\u001b[0;32m--> 751\u001b[0;31m             cy.gradient_partial(event_type, float(base_rate[0]), impact_coefficients[:, :, 0], decay_coefficients[:, :, 0],\n\u001b[0m\u001b[1;32m    752\u001b[0m                                 \u001b[0mnumber_of_event_types\u001b[0m\u001b[0;34m,\u001b[0m\u001b[0;34m\u001b[0m\u001b[0;34m\u001b[0m\u001b[0m\n\u001b[1;32m    753\u001b[0m                                 number_of_states, times, events, states, float(time_start), float(time_end))\n",
      "\u001b[0;32mhybrid_hawkes_exp_cython.pyx\u001b[0m in \u001b[0;36mhybrid_hawkes_exp_cython.gradient_partial\u001b[0;34m()\u001b[0m\n",
      "\u001b[0;31mAssertionError\u001b[0m: "
     ]
    }
   ],
   "source": [
    "model.array_to_parameters(model.estimate_hawkes_parameters(times, events, states, 0, 18)[0].x, n_events, n_states)"
   ]
  },
  {
   "cell_type": "markdown",
   "id": "54671449",
   "metadata": {},
   "source": [
    "# Distribution"
   ]
  },
  {
   "cell_type": "code",
   "execution_count": null,
   "id": "dd78e932",
   "metadata": {},
   "outputs": [],
   "source": [
    "#distribution = model.proportion_of_events_and_states(events, states, n_events, n_states)\n",
    "\n",
    "distribution = np.unique(np.stack([events,states]),axis=1,return_counts=True)[1].reshape(n_events,n_events)\n",
    "distribution = distribution/distribution.sum()"
   ]
  },
  {
   "cell_type": "markdown",
   "id": "677cb6f9",
   "metadata": {},
   "source": [
    "# Transition Probabilities"
   ]
  },
  {
   "cell_type": "code",
   "execution_count": null,
   "id": "9d6e1734",
   "metadata": {},
   "outputs": [],
   "source": [
    "np.stack([events,states])"
   ]
  },
  {
   "cell_type": "code",
   "execution_count": null,
   "id": "51141a64",
   "metadata": {},
   "outputs": [],
   "source": []
  },
  {
   "cell_type": "code",
   "execution_count": null,
   "id": "944791d5",
   "metadata": {},
   "outputs": [],
   "source": []
  },
  {
   "cell_type": "code",
   "execution_count": null,
   "id": "b673ed79",
   "metadata": {},
   "outputs": [],
   "source": []
  },
  {
   "cell_type": "code",
   "execution_count": 24,
   "id": "df510708",
   "metadata": {},
   "outputs": [
    {
     "data": {
      "text/plain": [
       "array([[[18, 14],\n",
       "        [ 7, 11]],\n",
       "\n",
       "       [[ 4, 10],\n",
       "        [17, 12]]])"
      ]
     },
     "execution_count": 24,
     "metadata": {},
     "output_type": "execute_result"
    }
   ],
   "source": [
    "x = np.unique(np.stack([events[:-1],states[:-1],states[1:]]),axis=1,return_counts=True)[1].reshape(n_events,n_states,n_states)\n",
    "x"
   ]
  },
  {
   "cell_type": "code",
   "execution_count": 40,
   "id": "bdaf8112",
   "metadata": {},
   "outputs": [
    {
     "data": {
      "text/plain": [
       "array([0.72, 0.56])"
      ]
     },
     "execution_count": 40,
     "metadata": {},
     "output_type": "execute_result"
    }
   ],
   "source": [
    "x[0][0]/25"
   ]
  },
  {
   "cell_type": "code",
   "execution_count": 20,
   "id": "961c675d",
   "metadata": {},
   "outputs": [
    {
     "data": {
      "text/plain": [
       "array([[[0.67857143, 0.32142857],\n",
       "        [0.16666667, 0.83333333]],\n",
       "\n",
       "       [[0.60869565, 0.39130435],\n",
       "        [0.41666667, 0.58333333]]])"
      ]
     },
     "execution_count": 20,
     "metadata": {},
     "output_type": "execute_result"
    }
   ],
   "source": [
    "phis_hat = model.estimate_transition_probabilities(events, states)\n",
    "phis_hat"
   ]
  },
  {
   "cell_type": "code",
   "execution_count": null,
   "id": "f66db4f8",
   "metadata": {},
   "outputs": [],
   "source": []
  },
  {
   "cell_type": "code",
   "execution_count": 62,
   "id": "2894f75f",
   "metadata": {},
   "outputs": [],
   "source": [
    "e = [0,0,0,0,0,0,1,1,1,1,1,1]\n",
    "s = [0,0,1,0,1,1,1,1,0,1,0,0]"
   ]
  },
  {
   "cell_type": "code",
   "execution_count": 63,
   "id": "a98a3d7c",
   "metadata": {},
   "outputs": [],
   "source": [
    "?model.estimate_transition_probabilities"
   ]
  },
  {
   "cell_type": "code",
   "execution_count": 64,
   "id": "5aec049d",
   "metadata": {},
   "outputs": [
    {
     "data": {
      "text/plain": [
       "array([[[0.33333333, 0.66666667],\n",
       "        [0.5       , 0.5       ]],\n",
       "\n",
       "       [[0.5       , 0.5       ],\n",
       "        [0.5       , 0.5       ]]])"
      ]
     },
     "execution_count": 64,
     "metadata": {},
     "output_type": "execute_result"
    }
   ],
   "source": [
    "model.estimate_transition_probabilities(e, s)"
   ]
  },
  {
   "cell_type": "code",
   "execution_count": 65,
   "id": "0bcff597",
   "metadata": {},
   "outputs": [
    {
     "data": {
      "text/plain": [
       "array([[0, 0, 0],\n",
       "       [0, 0, 1],\n",
       "       [0, 1, 0],\n",
       "       [0, 0, 1],\n",
       "       [0, 1, 1],\n",
       "       [1, 1, 1],\n",
       "       [1, 1, 1],\n",
       "       [1, 1, 0],\n",
       "       [1, 0, 1],\n",
       "       [1, 1, 0],\n",
       "       [1, 0, 0]])"
      ]
     },
     "execution_count": 65,
     "metadata": {},
     "output_type": "execute_result"
    }
   ],
   "source": [
    "np.stack([e[1:],s[:-1],s[1:]]).T"
   ]
  },
  {
   "cell_type": "code",
   "execution_count": 66,
   "id": "a3e87919",
   "metadata": {},
   "outputs": [
    {
     "data": {
      "text/plain": [
       "array([[[1, 2],\n",
       "        [1, 1]],\n",
       "\n",
       "       [[1, 1],\n",
       "        [2, 2]]])"
      ]
     },
     "execution_count": 66,
     "metadata": {},
     "output_type": "execute_result"
    }
   ],
   "source": [
    "np.unique(np.stack([e[1:],s[:-1],s[1:]]),axis=1,return_counts=True)[1].reshape(n_events,n_states,n_states)"
   ]
  },
  {
   "cell_type": "code",
   "execution_count": null,
   "id": "b0454716",
   "metadata": {},
   "outputs": [],
   "source": []
  },
  {
   "cell_type": "code",
   "execution_count": null,
   "id": "a4c7d88a",
   "metadata": {},
   "outputs": [],
   "source": []
  },
  {
   "cell_type": "code",
   "execution_count": null,
   "id": "e95cbce4",
   "metadata": {},
   "outputs": [],
   "source": []
  },
  {
   "cell_type": "code",
   "execution_count": 15,
   "id": "eda6c778",
   "metadata": {},
   "outputs": [
    {
     "data": {
      "text/plain": [
       "array([[[1, 2],\n",
       "        [2, 1]],\n",
       "\n",
       "       [[1, 1],\n",
       "        [1, 2]]])"
      ]
     },
     "execution_count": 15,
     "metadata": {},
     "output_type": "execute_result"
    }
   ],
   "source": [
    "e = np.array([0,0,0,0,0,0,1,1,1,1,1,1])\n",
    "s = np.array([0,1,0,0,1,1,0,1,1,1,0,0])\n",
    "np.unique(np.stack([e[:-1],s[:-1],s[1:]]),axis=1,return_counts=True)[1].reshape(n_events,n_states,n_states)"
   ]
  },
  {
   "cell_type": "code",
   "execution_count": 18,
   "id": "2c8d7e44",
   "metadata": {},
   "outputs": [],
   "source": [
    "?model.estimate_transition_probabilities"
   ]
  },
  {
   "cell_type": "markdown",
   "id": "1de9075a",
   "metadata": {},
   "source": [
    "# MLE"
   ]
  },
  {
   "cell_type": "code",
   "execution_count": 11,
   "id": "3d03510c",
   "metadata": {},
   "outputs": [],
   "source": [
    "opt_result, initial_guess, initial_guess_kind = model.estimate_hawkes_parameters(times, events, states, time_start, time_end)"
   ]
  },
  {
   "cell_type": "code",
   "execution_count": 12,
   "id": "49df54dd",
   "metadata": {},
   "outputs": [],
   "source": [
    "# the maximum likelihood estimate in a 1D array\n",
    "mle_estimate = opt_result.x\n",
    "# tranform it to the usual format\n",
    "nus_hat, alphas_hat, betas_hat = model.array_to_parameters(mle_estimate, n_events, n_states)"
   ]
  },
  {
   "cell_type": "code",
   "execution_count": 13,
   "id": "974c5989",
   "metadata": {},
   "outputs": [
    {
     "name": "stdout",
     "output_type": "stream",
     "text": [
      "[1. 1.]\n",
      "[0.72390406 1.08284349]\n"
     ]
    }
   ],
   "source": [
    "print(nus)\n",
    "print(nus_hat)"
   ]
  },
  {
   "cell_type": "code",
   "execution_count": null,
   "id": "cdd40668",
   "metadata": {},
   "outputs": [],
   "source": [
    "def em(times, events, states, theta_guess = [0.5,0.5,0.5], steps=1000, learning_rate=0.01):\n",
    "    mu,alpha,beta = theta_guess\n",
    "    n = len(events)\n",
    "    \n",
    "    loglikelihood_opt = None\n",
    "    theta_opt = None\n",
    "    for _ in range(steps):\n",
    "        def intensity(alpha,beta,mu):\n",
    "            branching_matrix = jnp.triu(alpha*jnp.exp(beta*(times.reshape(-1,1)-times.reshape(1,-1))), k=1)\n",
    "            return jnp.stack([jnp.array([mu]*n),branching_matrix.sum(axis=0)]).T\n",
    "        \n",
    "        print(\"E\")\n",
    "        #E step\n",
    "        print(\"Normalise\")\n",
    "        intensity_normal = intensity(alpha,beta,mu)\n",
    "        print(intensity_normal)\n",
    "        c = intensity_normal.sum(axis=1)\n",
    "        intensity_normal /= c.reshape(-1,1)\n",
    "        \n",
    "        plt.imshow(intensity_normal[:10].T)\n",
    "        plt.show()\n",
    "        \n",
    "        logbeta = np.log(beta)\n",
    "        \n",
    "        print(\"M\")\n",
    "        @jax.jit\n",
    "        def sum_residuals(alpha,beta,mu):\n",
    "            return mu*T + (alpha/beta)*(1-jnp.exp(beta*(times-T))).sum()\n",
    "        \n",
    "        @jax.jit\n",
    "        def sum_expected_event_ll(alpha,beta,mu):\n",
    "            intensity_new = intensity(alpha,beta,mu)\n",
    "            return jnp.where(intensity_normal>0,intensity_normal*jnp.log(intensity_new),0).sum()\n",
    "        \n",
    "        #M step\n",
    "        #@jax.jit\n",
    "        def q(logbeta):\n",
    "            beta = jnp.exp(logbeta)\n",
    "            alpha = beta * intensity_normal[:,1].sum() / (1-jnp.exp(beta*(times-T))).sum()\n",
    "            mu = (1/T) * intensity_normal[:,0].sum()\n",
    "            #assert np.allclose([branching_matrix[i,0]+sum([branching_matrix[i,j] for j in range(1,i)]) for i in range(1,n+1)],1)\n",
    "\n",
    "            return sum_expected_event_ll(alpha,beta,mu) - sum_residuals(alpha,beta,mu)\n",
    "        \n",
    "        logbeta = scipy.optimize.minimize(lambda logbeta : -q(logbeta), 1, args=(), method='Nelder-Mead').x\n",
    "        \n",
    "        print(\"q\")\n",
    "        loglikelihood = q(logbeta)\n",
    "        print(loglikelihood)\n",
    "#         gradient_step = np.array(jax.grad(q)(logbeta))\n",
    "#         step_size = learning_rate * np.linalg.norm(gradient_step)**-2\n",
    "#         logbeta += step_size * gradient_step\n",
    "\n",
    "#         print(\"Newton Step\")\n",
    "#         print(jax.grad(q)(logbeta), jax.hessian(q)(logbeta))\n",
    "#         newton_step = -jax.grad(q)(logbeta) / jax.hessian(q)(logbeta)\n",
    "#         logbeta += newton_step\n",
    "        \n",
    "        print(\"Beta,mu,alpha\")\n",
    "        beta = np.exp(logbeta)\n",
    "        mu = (1/T) * intensity_normal[:,0].sum()\n",
    "        alpha = beta * intensity_normal[:,1].sum() / (1-jnp.exp(beta*(times-T))).sum()\n",
    "        \n",
    "        print(\"Update loglikelihood_opt\")\n",
    "        if loglikelihood_opt is None or loglikelihood > loglikelihood_opt:\n",
    "            theta_opt = mu,alpha,beta\n",
    "            loglikelihood_opt = loglikelihood\n",
    "        \n",
    "        \"\"\"\n",
    "        newton_step = -np.linalg.solve(jax.hessian(q)([logalpha,beta]), jax.grad(q)([logalpha,beta]))\n",
    "        gradient_step = np.array(jax.grad(q)([logalpha,beta]))\n",
    "        print(f'{logalpha,beta=}, {newton_step=}, {gradient_step=}')\n",
    "        if all((newton_step*gradient_step)>0):\n",
    "            print('newton')\n",
    "            logalpha,beta = np.array([logalpha,beta]) + newton_step\n",
    "        else:\n",
    "            print('gradient')\n",
    "            logalpha,beta = np.array([logalpha,beta]) + step_size * gradient_step\n",
    "        \"\"\"\n",
    "        \n",
    "        \n",
    "    return theta_opt"
   ]
  },
  {
   "cell_type": "markdown",
   "id": "fde07b6d",
   "metadata": {},
   "source": [
    "# Residuals"
   ]
  },
  {
   "cell_type": "code",
   "execution_count": 14,
   "id": "dc8323d6",
   "metadata": {},
   "outputs": [],
   "source": [
    "model.set_transition_probabilities(phis_hat)\n",
    "model.set_hawkes_parameters(nus_hat, alphas_hat, betas_hat)"
   ]
  },
  {
   "cell_type": "code",
   "execution_count": 15,
   "id": "e393b552",
   "metadata": {},
   "outputs": [],
   "source": [
    "residuals = model.compute_events_residuals(times, events, states, time_start)"
   ]
  },
  {
   "cell_type": "code",
   "execution_count": 16,
   "id": "26063cb3",
   "metadata": {},
   "outputs": [],
   "source": [
    "n_states_poisson = 1  # no state process under this naive model\n",
    "model_poisson = mpoints.hybrid_hawkes_exp.HybridHawkesExp(n_events, n_states_poisson, events_labels, ['no state'])\n",
    "# the transition probabilities are then trivial\n",
    "model_poisson.set_transition_probabilities(np.ones((n_states_poisson, n_events, n_states_poisson)))\n",
    "# compute the mean arrival rate and use it as the base rate\n",
    "nus_poisson = np.zeros(n_events)\n",
    "for e in range(n_events):\n",
    "    nus_poisson[e] = (events == e).sum() / (time_end - time_start)\n",
    "# impact coefficients set to null to get a Poisson process\n",
    "alphas_poisson = np.zeros((n_events, n_states_poisson, n_events))\n",
    "# deceay coefficents, their value does not matter here\n",
    "betas_poisson = np.ones((n_events, n_states_poisson, n_events))\n",
    "# set the parameters that govern the arrival rates of events (intensities)\n",
    "model_poisson.set_hawkes_parameters(nus_poisson, alphas_poisson, betas_poisson)\n",
    "# compute the event residuals under this naive model\n",
    "states_poisson = np.zeros(len(times), dtype='int')  # we create a fake trivial state process\n",
    "residuals_poisson = model_poisson.compute_events_residuals(times, events, states_poisson, time_start)"
   ]
  },
  {
   "cell_type": "code",
   "execution_count": 17,
   "id": "c3ded7fb",
   "metadata": {},
   "outputs": [],
   "source": [
    "residuals_total = model.compute_total_residuals(times, events, states, time_start)\n",
    "product_labels = model.generate_product_labels()"
   ]
  },
  {
   "cell_type": "code",
   "execution_count": 152,
   "id": "79aaca4a",
   "metadata": {},
   "outputs": [
    {
     "data": {
      "image/png": "[encoded data removed]",
      "text/plain": [
       "<Figure size 432x288 with 1 Axes>"
      ]
     },
     "metadata": {
      "needs_background": "light"
     },
     "output_type": "display_data"
    }
   ],
   "source": [
    "for x in residuals:\n",
    "    plt.scatter(sp.stats.expon.cdf(x),x)"
   ]
  },
  {
   "cell_type": "code",
   "execution_count": 151,
   "id": "eb396a51",
   "metadata": {},
   "outputs": [
    {
     "data": {
      "image/png": "[encoded data removed]",
      "text/plain": [
       "<Figure size 432x288 with 1 Axes>"
      ]
     },
     "metadata": {
      "needs_background": "light"
     },
     "output_type": "display_data"
    }
   ],
   "source": [
    "for x in residuals_total:\n",
    "    plt.scatter(sp.stats.expon.cdf(x),x)"
   ]
  }
 ],
 "metadata": {
  "kernelspec": {
   "display_name": "Python 3 (ipykernel)",
   "language": "python",
   "name": "python3"
  },
  "language_info": {
   "codemirror_mode": {
    "name": "ipython",
    "version": 3
   },
   "file_extension": ".py",
   "mimetype": "text/x-python",
   "name": "python",
   "nbconvert_exporter": "python",
   "pygments_lexer": "ipython3",
   "version": "3.9.0"
  }
 },
 "nbformat": 4,
 "nbformat_minor": 5
}
