{
 "cells": [
  {
   "cell_type": "code",
   "execution_count": 1,
   "id": "91b84c33",
   "metadata": {},
   "outputs": [],
   "source": [
    "import mpoints.hybrid_hawkes_exp\n",
    "import numpy as np"
   ]
  },
  {
   "cell_type": "markdown",
   "id": "7e80b602",
   "metadata": {},
   "source": [
    "# Simulate"
   ]
  },
  {
   "cell_type": "code",
   "execution_count": 27,
   "id": "d76fdadb",
   "metadata": {},
   "outputs": [],
   "source": [
    "model = mpoints.hybrid_hawkes_exp.HybridHawkesExp(4,3,[0,1,2,3],[0,1,2])"
   ]
  },
  {
   "cell_type": "code",
   "execution_count": 28,
   "id": "3f83a7a4",
   "metadata": {},
   "outputs": [],
   "source": [
    "model.transition_probabilities = np.random.uniform(size=model.transition_probabilities.shape)"
   ]
  },
  {
   "cell_type": "code",
   "execution_count": 85,
   "id": "26a9e73f",
   "metadata": {},
   "outputs": [],
   "source": [
    "model.set_hawkes_parameters(np.random.exponential(size=model.base_rates.shape), np.random.exponential(size=model.impact_coefficients.shape), 60*np.random.exponential(size=model.decay_coefficients.shape))"
   ]
  },
  {
   "cell_type": "code",
   "execution_count": 111,
   "id": "db6e244d",
   "metadata": {},
   "outputs": [],
   "source": [
    "times, events, states = model.simulate(0,500)"
   ]
  },
  {
   "cell_type": "code",
   "execution_count": 112,
   "id": "e5b36722",
   "metadata": {},
   "outputs": [
    {
     "data": {
      "text/plain": [
       "4631"
      ]
     },
     "execution_count": 112,
     "metadata": {},
     "output_type": "execute_result"
    }
   ],
   "source": [
    "len(times)"
   ]
  },
  {
   "cell_type": "markdown",
   "id": "86fb306c",
   "metadata": {},
   "source": [
    "# Fit"
   ]
  },
  {
   "cell_type": "code",
   "execution_count": 113,
   "id": "541d3fb6",
   "metadata": {},
   "outputs": [],
   "source": [
    "import torch"
   ]
  },
  {
   "cell_type": "code",
   "execution_count": 144,
   "id": "18c3f206",
   "metadata": {},
   "outputs": [],
   "source": [
    "base_rates, impact_coefficients, initial_endo_intensity, decay_coefficients = [torch.tensor(np.random.exponential(size=x.shape),requires_grad=True) for x in (model.base_rates,model.impact_coefficients,model.impact_coefficients,model.decay_coefficients)]"
   ]
  },
  {
   "cell_type": "code",
   "execution_count": 145,
   "id": "9a59a007",
   "metadata": {},
   "outputs": [],
   "source": [
    "optim = torch.optim.Adam(params=[base_rates,impact_coefficients,initial_endo_intensity,decay_coefficients])"
   ]
  },
  {
   "cell_type": "code",
   "execution_count": 146,
   "id": "ab010a52",
   "metadata": {},
   "outputs": [],
   "source": [
    "import tqdm"
   ]
  },
  {
   "cell_type": "code",
   "execution_count": 154,
   "id": "f7f6aaf1",
   "metadata": {},
   "outputs": [
    {
     "name": "stderr",
     "output_type": "stream",
     "text": [
      "100%|██████████████████████████████████████████████████████████████████████████████████████████████████████████████████████████████████████████████████████████████████████████████████████████████████████████████████████████████████████████████████████████████████████████████████| 1000/1000 [00:42<00:00, 23.44it/s]\n"
     ]
    }
   ],
   "source": [
    "for _ in tqdm.trange(1000):\n",
    "    prev_t = 0\n",
    "    ll = torch.tensor(0.0)\n",
    "    endo_intensity = initial_endo_intensity.clone()\n",
    "    optim.zero_grad()\n",
    "    for t,e,s in zip(times[:100],events,states):\n",
    "        time_diff = t-prev_t\n",
    "        compensator += base_rates*time_diff\n",
    "        endo_intensity *= torch.exp(-decay_coefficients*time_diff)\n",
    "        endo_intensity[e,s,:] += impact_coefficients[e,s,:]\n",
    "        ll += torch.log(base_rates[e]+endo_intensity[:,:,e].sum()) - (impact_coefficients/decay_coefficients).sum()\n",
    "    (-ll).backward()\n",
    "    optim.step()\n",
    "    with torch.no_grad():\n",
    "        base_rates.clamp_(0, None)\n",
    "        base_rates.nan_to_num_(0)\n",
    "        impact_coefficients.clamp_(0, None)\n",
    "        impact_coefficients.nan_to_num_(0)\n",
    "        initial_endo_intensity.clamp_(0, None)\n",
    "        initial_endo_intensity.nan_to_num_(0)\n",
    "        decay_coefficients.clamp_(impact_coefficients, None)\n",
    "        decay_coefficients.nan_to_num_(0)\n",
    "    prev_t = t"
   ]
  },
  {
   "cell_type": "code",
   "execution_count": 167,
   "id": "488ef168",
   "metadata": {},
   "outputs": [
    {
     "data": {
      "text/plain": [
       "tensor([[[0.0000, 0.2679, 0.0000, 0.0000],\n",
       "         [0.0000, 0.0000, 0.0000, 0.0000],\n",
       "         [0.0000, 0.0000, 0.0000, 0.0000]],\n",
       "\n",
       "        [[0.0000, 0.0000, 0.0000, 0.0000],\n",
       "         [0.0000, 0.0000, 0.0000, 0.0000],\n",
       "         [0.0000, 0.0000, 0.0000, 0.0000]],\n",
       "\n",
       "        [[0.0000, 3.1689, 0.0000, 0.0000],\n",
       "         [0.0000, 0.0000, 0.0000, 0.0000],\n",
       "         [0.0000, 0.0000, 0.0000, 0.0000]],\n",
       "\n",
       "        [[0.0000, 0.0000, 0.0000, 0.0000],\n",
       "         [0.0000, 0.9601, 0.0000, 0.0000],\n",
       "         [0.0000, 0.0000, 0.0000, 0.0000]]], dtype=torch.float64,\n",
       "       requires_grad=True)"
      ]
     },
     "execution_count": 167,
     "metadata": {},
     "output_type": "execute_result"
    }
   ],
   "source": [
    "impact_coefficients"
   ]
  },
  {
   "cell_type": "code",
   "execution_count": 168,
   "id": "9a954551",
   "metadata": {},
   "outputs": [
    {
     "data": {
      "text/plain": [
       "array([[[4.01818816e-01, 6.82134062e-01, 8.55629000e-01, 2.53865902e+00],\n",
       "        [9.25906647e-01, 1.77952203e-01, 1.07726438e+00, 1.87435792e+00],\n",
       "        [2.86680910e-01, 1.67919025e+00, 2.34928118e-01, 9.69451046e-03]],\n",
       "\n",
       "       [[8.05238366e+00, 4.12738059e-01, 2.81014679e+00, 3.92482330e-02],\n",
       "        [2.98992187e-02, 8.29021602e-01, 1.40681085e-01, 2.26714876e-01],\n",
       "        [3.07772585e+00, 1.28036887e+00, 1.80525639e-01, 6.69377533e-02]],\n",
       "\n",
       "       [[4.02470052e-02, 7.74943062e-01, 4.77077394e-03, 3.04805754e-01],\n",
       "        [6.25886175e-01, 9.52707860e-01, 6.75667430e-01, 2.83536187e+00],\n",
       "        [4.68970886e+00, 9.97236597e-01, 1.46157718e+00, 1.35527009e+00]],\n",
       "\n",
       "       [[3.87901187e-01, 3.01839229e-01, 1.56068791e+00, 1.87257021e+00],\n",
       "        [3.49368799e-01, 3.18099783e-02, 1.83247744e+00, 6.49485140e-01],\n",
       "        [3.60863067e-01, 7.28575387e-01, 4.30658415e-01, 1.57415615e+00]]])"
      ]
     },
     "execution_count": 168,
     "metadata": {},
     "output_type": "execute_result"
    }
   ],
   "source": [
    "model.impact_coefficients"
   ]
  },
  {
   "cell_type": "code",
   "execution_count": 169,
   "id": "5e590e65",
   "metadata": {},
   "outputs": [
    {
     "data": {
      "text/plain": [
       "tensor([[[0.0000, 5.3991, 0.0000, 0.0000],\n",
       "         [0.0000, 2.0459, 0.0000, 0.0000],\n",
       "         [0.0000, 1.6002, 0.0000, 0.0000]],\n",
       "\n",
       "        [[0.0000, 3.3141, 0.0000, 0.0000],\n",
       "         [0.0000, 0.4304, 0.0000, 0.0000],\n",
       "         [0.0000, 1.5612, 0.0000, 0.0000]],\n",
       "\n",
       "        [[0.0000, 3.8327, 0.0000, 0.0000],\n",
       "         [0.0000, 3.0938, 0.0000, 0.0000],\n",
       "         [0.0000, 0.7980, 0.0000, 0.0000]],\n",
       "\n",
       "        [[0.0000, 0.1053, 0.0000, 0.0000],\n",
       "         [0.0000, 4.4116, 0.0000, 0.0000],\n",
       "         [0.0000, 2.0006, 0.0000, 0.0000]]], dtype=torch.float64,\n",
       "       requires_grad=True)"
      ]
     },
     "execution_count": 169,
     "metadata": {},
     "output_type": "execute_result"
    }
   ],
   "source": [
    "decay_coefficients"
   ]
  },
  {
   "cell_type": "code",
   "execution_count": 170,
   "id": "6066db7d",
   "metadata": {},
   "outputs": [
    {
     "data": {
      "text/plain": [
       "array([[[149.58260479,  37.1189172 ,  58.25088515,  91.89887187],\n",
       "        [  4.14403012,  22.94247236,  26.42739271,   1.76351923],\n",
       "        [ 23.27120181, 146.24042916,  19.28794975,  15.38577535]],\n",
       "\n",
       "       [[ 26.39244469,  72.30012118,   2.0534134 ,  46.62901948],\n",
       "        [ 41.73557367,  17.04206495,  36.05031098,  44.4459263 ],\n",
       "        [ 10.03528571,  83.34770941,  76.04858073,  72.69321569]],\n",
       "\n",
       "       [[  9.93609067,  41.580563  ,  27.93039715,   2.79479661],\n",
       "        [170.87047453,  59.93485686,  17.04556129,  32.8890258 ],\n",
       "        [ 64.42239462,  58.30625731,  23.260157  , 169.65730901]],\n",
       "\n",
       "       [[150.5077581 , 132.51112832,  32.38837814,  48.72487767],\n",
       "        [ 39.4058926 ,  71.57374197,   8.66052867,   1.34626895],\n",
       "        [ 28.75292683,  99.89284754,  18.97569092,  10.69582698]]])"
      ]
     },
     "execution_count": 170,
     "metadata": {},
     "output_type": "execute_result"
    }
   ],
   "source": [
    "model.decay_coefficients"
   ]
  },
  {
   "cell_type": "code",
   "execution_count": 159,
   "id": "ac609681",
   "metadata": {},
   "outputs": [
    {
     "data": {
      "text/plain": [
       "tensor([0.0000, 2.2006, 0.0000, 0.0000], dtype=torch.float64,\n",
       "       requires_grad=True)"
      ]
     },
     "execution_count": 159,
     "metadata": {},
     "output_type": "execute_result"
    }
   ],
   "source": [
    "base_rates"
   ]
  },
  {
   "cell_type": "code",
   "execution_count": 160,
   "id": "6a3bb15a",
   "metadata": {},
   "outputs": [
    {
     "data": {
      "text/plain": [
       "array([0.82556017, 0.44901124, 3.81648707, 1.83798344])"
      ]
     },
     "execution_count": 160,
     "metadata": {},
     "output_type": "execute_result"
    }
   ],
   "source": [
    "model.base_rates"
   ]
  },
  {
   "cell_type": "code",
   "execution_count": null,
   "id": "e8306e9f",
   "metadata": {},
   "outputs": [],
   "source": []
  }
 ],
 "metadata": {
  "kernelspec": {
   "display_name": "Python 3 (ipykernel)",
   "language": "python",
   "name": "python3"
  },
  "language_info": {
   "codemirror_mode": {
    "name": "ipython",
    "version": 3
   },
   "file_extension": ".py",
   "mimetype": "text/x-python",
   "name": "python",
   "nbconvert_exporter": "python",
   "pygments_lexer": "ipython3",
   "version": "3.9.0"
  }
 },
 "nbformat": 4,
 "nbformat_minor": 5
}
