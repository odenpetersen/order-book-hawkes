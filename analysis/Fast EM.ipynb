{
 "cells": [
  {
   "cell_type": "code",
   "execution_count": 1,
   "id": "83acf3c8",
   "metadata": {},
   "outputs": [],
   "source": [
    "import pandas as pd\n",
    "import matplotlib.pyplot as plt"
   ]
  },
  {
   "cell_type": "code",
   "execution_count": 2,
   "id": "1722a5de",
   "metadata": {},
   "outputs": [],
   "source": [
    "trades = pd.read_csv('../data/2023-06-11/trades.csv')\n",
    "\n",
    "trades.index = pd.to_datetime(trades.DATE+' '+trades.TIME_M)\n",
    "del trades['DATE'], trades['TIME_M']"
   ]
  },
  {
   "cell_type": "code",
   "execution_count": 3,
   "id": "3043a50c",
   "metadata": {},
   "outputs": [],
   "source": [
    "times = trades.index.to_series().astype(int).values*1e-9"
   ]
  },
  {
   "cell_type": "code",
   "execution_count": 167,
   "id": "9931d6f2",
   "metadata": {},
   "outputs": [],
   "source": [
    "events = trades.EX.factorize()[0]#*3 + (np.sign(trades.PRICE.diff().fillna(0))+1).astype(int).values"
   ]
  },
  {
   "cell_type": "markdown",
   "id": "1b30a739",
   "metadata": {},
   "source": [
    "# Quasi EM"
   ]
  },
  {
   "cell_type": "markdown",
   "id": "e1e7c19d",
   "metadata": {},
   "source": [
    "\\begin{equation}\n",
    "\\log L(\\mathcal T;\\nu,\\alpha,\\beta,B) = \\sum_{t\\in \\mathcal T}\\log\\lambda(t) - \\int_0^T \\lambda(t)dt\n",
    "\\\\= \\sum_{j}B_{0,j}\\log\\nu + \\sum_{j}\\sum_{i>0} B_{i,j} \\left(\\log(\\alpha) + \\beta (t_i-t_j)\\right) - T\\nu - \\sum_{t\\in\\mathcal T} \\int_t^T \\alpha\\exp\\left(-\\beta(s-t)\\right)ds\n",
    "\\\\= \\sum_{j}B_{0,j}\\log\\nu + \\sum_{j}\\sum_{i>0} B_{i,j} \\left(\\log(\\alpha) + \\beta (t_i-t_j)\\right) - T\\nu - \\sum_{t\\in\\mathcal T} \\left[-\\frac{\\alpha}{\\beta}\\exp\\left(-\\beta(s-t)\\right)\\right]_t^T\n",
    "\\\\= \\sum_{j}B_{0,j}\\log\\nu + \\sum_{j}\\sum_{i>0} B_{i,j} \\left(\\log(\\alpha) + \\beta (t_i-t_j)\\right) - T\\nu + \\frac{\\alpha}{\\beta}\\sum_{t\\in\\mathcal T} \\left[\\exp\\left(-\\beta(s-t)\\right)\\right]_t^T\n",
    "\\\\\\approx \\sum_{j}B_{0,j}\\log\\nu + \\sum_{j}\\sum_{i>0} B_{i,j} \\left(\\log(\\alpha) + \\beta (t_i-t_j)\\right) - T\\nu - \\frac{\\alpha}{\\beta}N_T \\text{ (quasi-EM approximation)}\n",
    "\\\\= \\log(\\nu) \\left(\\sum_{j}B_{0,j}\\right) + \\log(\\alpha) \\left(\\sum_{j}\\sum_{i>0} B_{i,j}\\right) + \\beta \\left(\\sum_{j}\\sum_{i>0} B_{i,j}(t_i-t_j)\\right) -\\nu (T)- \\frac{\\alpha}{\\beta}\\left(N_T\\right)\n",
    "\\end{equation}\n",
    "\n",
    "where\n",
    "\\begin{equation}\n",
    "B_{i,j} = \\frac{1}{\\lambda(t_j)} \\cdot \\begin{cases}\\alpha\\exp(-\\beta(t_j-t_i)), & i>0\\\\ \\nu, & i=0\\end{cases}\n",
    "\\end{equation}\n",
    "\n",
    "implying\n",
    "\n",
    "\\begin{equation}\n",
    "\\nu = \\frac{\\sum_{j}B_{0,j}}{T} \\\\\n",
    "\\frac{\\alpha}{\\beta} = \\frac{\\sum_{j}\\sum_{i>0} B_{i,j}}{N_T} \\\\\n",
    "\\frac{\\alpha}{\\beta^2} = -\\frac{\\sum_{j}\\sum_{i>0} B_{i,j}(t_i-t_j)}{N_T}\n",
    "\\end{equation}\n",
    "\n",
    "i.e.\n",
    "\n",
    "\\begin{equation}\n",
    "\\nu = \\frac{\\sum_{j}B_{0,j}}{T} \\\\\n",
    "\\beta = -\\frac{\\sum_{j}\\sum_{i>0} B_{i,j}}{\\sum_{j}\\sum_{i>0} B_{i,j}(t_i-t_j)} \\\\\n",
    "\\alpha = -\\frac{\\left(\\sum_{j}\\sum_{i>0} B_{i,j}\\right)^2}{N_T\\sum_{j}\\sum_{i>0} B_{i,j}(t_i-t_j)}\n",
    "\\end{equation}\n"
   ]
  },
  {
   "cell_type": "markdown",
   "id": "6b1f7a00",
   "metadata": {},
   "source": [
    "Note that $$\\sum_j\\sum_i B_{i,j}(t_i-t_j)$$ can be computed in linear time with a backwards and forwards pass, since\n",
    "\n",
    "\\begin{equation}\n",
    "\\sum_j\\sum_{i<j} B_{i,j}(t_i-t_j)\n",
    "\\\\= \\sum_i t_i\\sum_{j>i} B_{i,j} - \\sum_j t_j\\sum_{0<i<j} B_{i,j}\n",
    "\\\\= \\sum_i t_i\\sum_{j>i} \\frac{\\alpha}{\\lambda(t_j)}\\exp\\left(-\\beta(t_j-t_i)\\right) - \\sum_j t_j\\sum_{0<i<j} \\frac{\\alpha}{\\lambda(t_j)}\\exp\\left(-\\beta(t_j-t_i)\\right)\n",
    "\\\\= \\sum_i t_i\\sum_{j>i} \\frac{\\alpha}{\\lambda(t_j)}\\exp\\left(-\\beta(t_j-t_i)\\right) - \\sum_j t_j \\frac{\\alpha}{\\lambda(t_j)}\\sum_{0<i<j}\\exp\\left(-\\beta(t_j-t_i)\\right)\n",
    "\\\\= \\text{backwards} - \\text{forwards}\n",
    "\\end{equation}\n",
    "\n",
    "with $B_{i,j}$ computed recursively each time (using the final intensity from the forwards pass as the initial intensity for the backwards pass). There is some risk here of catastrophic cancellation."
   ]
  },
  {
   "cell_type": "markdown",
   "id": "92e528ee",
   "metadata": {},
   "source": [
    "## Univariate"
   ]
  },
  {
   "cell_type": "code",
   "execution_count": 83,
   "id": "31bd76d2",
   "metadata": {},
   "outputs": [],
   "source": [
    "import jax\n",
    "import jax.numpy as jnp\n",
    "import numpy as np\n",
    "import scipy as sp\n",
    "import scipy.optimize\n",
    "import tqdm\n",
    "def em(times, T=None, iters=100):\n",
    "    times = times.copy() - times[0]\n",
    "    if T is None:\n",
    "        T = times[-1]\n",
    "    N_T = len(times)\n",
    "        \n",
    "    nu = np.float64(1.0)\n",
    "    alpha = np.float64(1.0)\n",
    "    beta = np.float64(2.0)\n",
    "    \n",
    "    for _ in tqdm.trange(iters):\n",
    "        #E step\n",
    "        sum_j_B_0_j = 0\n",
    "        sum_j_sum_i_B_i_j = 0\n",
    "        forwards_pass = 0\n",
    "        backwards_pass = 0\n",
    "        \n",
    "        intensities = np.zeros_like(times)\n",
    "        endo_intensity = 0\n",
    "        prev_t = 0\n",
    "        for i,t in enumerate(times):\n",
    "            endo_intensity *= np.exp(-beta*(t-prev_t))\n",
    "            intensities[i] = nu+endo_intensity\n",
    "            B_0_j = nu/intensities[i]\n",
    "            sum_j_B_0_j += B_0_j\n",
    "            sum_i_B_i_j = endo_intensity/intensities[i]\n",
    "            sum_j_sum_i_B_i_j += sum_i_B_i_j\n",
    "            forwards_pass += t*sum_i_B_i_j\n",
    "            endo_intensity += alpha\n",
    "            prev_t = t\n",
    "\n",
    "        sum_j_B_i_j = 0\n",
    "        next_t = T\n",
    "        for i,t in reversed(list(enumerate(times))):\n",
    "            sum_j_B_i_j *= np.exp(-beta*(next_t-t))\n",
    "            backwards_pass += t*sum_j_B_i_j\n",
    "            sum_j_B_i_j += alpha/intensities[i]\n",
    "            next_t = t\n",
    "            \n",
    "            \n",
    "        constants = np.array([sum_j_B_0_j, sum_j_sum_i_B_i_j, backwards_pass, forwards_pass, T, N_T])\n",
    "        #constants /= np.std(constants)\n",
    "        sum_j_B_0_j, sum_j_sum_i_B_i_j, backwards_pass, forwards_pass, T, N_T = constants\n",
    "        \n",
    "        #M step\n",
    "#         def partial_ll(log_nu,log_alpha,log_beta):\n",
    "#             return log_nu*(sum_j_B_0_j) + log_alpha*sum_j_sum_i_B_i_j + jnp.exp(log_beta)*(backwards_pass-forwards_pass) - jnp.exp(log_nu)*T - jnp.exp(log_alpha-log_beta)*N_T\n",
    "        \n",
    "#         print(sum_j_B_0_j, sum_j_sum_i_B_i_j, backwards_pass, forwards_pass, T, N_T)\n",
    "        \n",
    "#         starting_partial_ll = partial_ll(log_nu,log_alpha,log_beta)\n",
    "#         def loss(params):\n",
    "#             return -partial_ll(*params)/starting_partial_ll\n",
    "        \n",
    "#         print(intensities)\n",
    "#         print(loss([log_nu,log_alpha,log_beta]))\n",
    "#         print(jax.grad(loss)([log_nu,log_alpha,log_beta]))\n",
    "#         print(log_nu,log_alpha,log_beta)\n",
    "        \n",
    "        \n",
    "#         constraint = sp.optimize.LinearConstraint([[0,-1,1]], lb=[0], ub=[np.inf], keep_feasible=False)\n",
    "#         sol=sp.optimize.minimize(loss, jac=jax.grad(loss), x0=[log_nu,log_alpha,log_beta], constraints=constraint, method='trust-constr',options=dict(maxiter=2))\n",
    "#         print(sol)\n",
    "#         log_nu,log_alpha,log_beta = sol.x\n",
    "\n",
    "        assert backwards_pass<forwards_pass, (backwards_pass,forwards_pass)\n",
    "        nu = sum_j_B_0_j/T\n",
    "        alpha = -sum_j_sum_i_B_i_j**2/(N_T*(backwards_pass-forwards_pass))\n",
    "        beta = -sum_j_sum_i_B_i_j/(backwards_pass-forwards_pass)\n",
    "        print(nu,alpha,beta)\n",
    "        \n",
    "    return nu,alpha,beta"
   ]
  },
  {
   "cell_type": "code",
   "execution_count": 85,
   "id": "f6fc0a6b",
   "metadata": {},
   "outputs": [
    {
     "name": "stderr",
     "output_type": "stream",
     "text": [
      "  1%|██                                                                                                                                                                                                       | 1/100 [00:01<02:53,  1.75s/it]"
     ]
    },
    {
     "name": "stdout",
     "output_type": "stream",
     "text": [
      "0.6514700338268925 3.0441386001158555 3.4829597509139463\n"
     ]
    },
    {
     "name": "stderr",
     "output_type": "stream",
     "text": [
      "\r",
      "  2%|████                                                                                                                                                                                                     | 2/100 [00:05<04:29,  2.75s/it]"
     ]
    },
    {
     "name": "stdout",
     "output_type": "stream",
     "text": [
      "0.37941400962270616 5.649282654772688 6.096633323369974\n"
     ]
    },
    {
     "name": "stderr",
     "output_type": "stream",
     "text": [
      "\r",
      "  3%|██████                                                                                                                                                                                                   | 3/100 [00:09<05:16,  3.26s/it]"
     ]
    },
    {
     "name": "stdout",
     "output_type": "stream",
     "text": [
      "0.34965898082895625 9.91746630391001 10.636746581153275\n"
     ]
    },
    {
     "name": "stderr",
     "output_type": "stream",
     "text": [
      "\r",
      "  4%|████████                                                                                                                                                                                                 | 4/100 [00:11<04:49,  3.01s/it]"
     ]
    },
    {
     "name": "stdout",
     "output_type": "stream",
     "text": [
      "0.4578452149886453 17.145979261970243 18.811654484028303\n"
     ]
    },
    {
     "name": "stderr",
     "output_type": "stream",
     "text": [
      "\r",
      "  5%|██████████                                                                                                                                                                                               | 5/100 [00:12<03:45,  2.38s/it]"
     ]
    },
    {
     "name": "stdout",
     "output_type": "stream",
     "text": [
      "0.6539888332073709 30.99745959278329 35.48560831709483\n"
     ]
    },
    {
     "name": "stderr",
     "output_type": "stream",
     "text": [
      "\r",
      "  6%|████████████                                                                                                                                                                                             | 6/100 [00:14<03:12,  2.05s/it]"
     ]
    },
    {
     "name": "stdout",
     "output_type": "stream",
     "text": [
      "0.8846757821262076 62.10303202028686 74.9214690894854\n"
     ]
    },
    {
     "name": "stderr",
     "output_type": "stream",
     "text": [
      "\r",
      "  7%|██████████████                                                                                                                                                                                           | 7/100 [00:15<02:55,  1.88s/it]"
     ]
    },
    {
     "name": "stdout",
     "output_type": "stream",
     "text": [
      "1.1079515731525382 138.23296899050064 175.9297996758537\n"
     ]
    },
    {
     "name": "stderr",
     "output_type": "stream",
     "text": [
      "\r",
      "  8%|████████████████                                                                                                                                                                                         | 8/100 [00:17<02:42,  1.77s/it]"
     ]
    },
    {
     "name": "stdout",
     "output_type": "stream",
     "text": [
      "1.2952721884429803 311.97285923591545 416.2406539285096\n"
     ]
    },
    {
     "name": "stderr",
     "output_type": "stream",
     "text": [
      "\r",
      "  9%|██████████████████                                                                                                                                                                                       | 9/100 [00:18<02:32,  1.67s/it]"
     ]
    },
    {
     "name": "stdout",
     "output_type": "stream",
     "text": [
      "1.4344479328788955 622.3440290819066 861.2741127388559\n"
     ]
    },
    {
     "name": "stderr",
     "output_type": "stream",
     "text": [
      "\r",
      " 10%|████████████████████                                                                                                                                                                                    | 10/100 [00:20<02:33,  1.71s/it]"
     ]
    },
    {
     "name": "stdout",
     "output_type": "stream",
     "text": [
      "1.537294045173328 1043.5033592366763 1485.0009365781943\n"
     ]
    },
    {
     "name": "stderr",
     "output_type": "stream",
     "text": [
      "\r",
      " 11%|██████████████████████                                                                                                                                                                                  | 11/100 [00:22<02:24,  1.62s/it]"
     ]
    },
    {
     "name": "stdout",
     "output_type": "stream",
     "text": [
      "1.6118527900126078 1503.8457382561248 2184.9452901811824\n"
     ]
    },
    {
     "name": "stderr",
     "output_type": "stream",
     "text": [
      "\r",
      " 12%|████████████████████████                                                                                                                                                                                | 12/100 [00:23<02:14,  1.53s/it]"
     ]
    },
    {
     "name": "stdout",
     "output_type": "stream",
     "text": [
      "1.665196390541888 1929.7216828788744 2846.3660185316826\n"
     ]
    },
    {
     "name": "stderr",
     "output_type": "stream",
     "text": [
      "\r",
      " 13%|██████████████████████████                                                                                                                                                                              | 13/100 [00:24<02:11,  1.51s/it]"
     ]
    },
    {
     "name": "stdout",
     "output_type": "stream",
     "text": [
      "1.7037389464362005 2289.469021636931 3414.539946594609\n"
     ]
    },
    {
     "name": "stderr",
     "output_type": "stream",
     "text": [
      "\r",
      " 14%|████████████████████████████                                                                                                                                                                            | 14/100 [00:26<02:09,  1.50s/it]"
     ]
    },
    {
     "name": "stdout",
     "output_type": "stream",
     "text": [
      "1.731035938813934 2577.3749459312776 3874.4306527819317\n"
     ]
    },
    {
     "name": "stderr",
     "output_type": "stream",
     "text": [
      "\r",
      " 15%|██████████████████████████████                                                                                                                                                                          | 15/100 [00:28<02:10,  1.54s/it]"
     ]
    },
    {
     "name": "stdout",
     "output_type": "stream",
     "text": [
      "1.750368007398624 2799.0119715783985 4231.387127440961\n"
     ]
    },
    {
     "name": "stderr",
     "output_type": "stream",
     "text": [
      "\r",
      " 16%|████████████████████████████████                                                                                                                                                                        | 16/100 [00:29<02:14,  1.60s/it]"
     ]
    },
    {
     "name": "stdout",
     "output_type": "stream",
     "text": [
      "1.7641562318642043 2965.940540529296 4501.888116925212\n"
     ]
    },
    {
     "name": "stderr",
     "output_type": "stream",
     "text": [
      "\r",
      " 17%|██████████████████████████████████                                                                                                                                                                      | 17/100 [00:33<03:05,  2.24s/it]"
     ]
    },
    {
     "name": "stdout",
     "output_type": "stream",
     "text": [
      "1.7740466373584454 3090.1621767639635 4704.096780238626\n"
     ]
    },
    {
     "name": "stderr",
     "output_type": "stream",
     "text": [
      "\r",
      " 18%|████████████████████████████████████                                                                                                                                                                    | 18/100 [00:35<02:48,  2.06s/it]"
     ]
    },
    {
     "name": "stdout",
     "output_type": "stream",
     "text": [
      "1.7811739147035806 3182.0151330540325 4854.108112650902\n"
     ]
    },
    {
     "name": "stderr",
     "output_type": "stream",
     "text": [
      "\r",
      " 19%|██████████████████████████████████████                                                                                                                                                                  | 19/100 [00:36<02:36,  1.93s/it]"
     ]
    },
    {
     "name": "stdout",
     "output_type": "stream",
     "text": [
      "1.786330185216009 3249.6454451490813 4964.829484168831\n"
     ]
    },
    {
     "name": "stderr",
     "output_type": "stream",
     "text": [
      "\r",
      " 20%|████████████████████████████████████████                                                                                                                                                                | 20/100 [00:38<02:42,  2.03s/it]"
     ]
    },
    {
     "name": "stdout",
     "output_type": "stream",
     "text": [
      "1.7900695877622008 3299.3554884798377 5046.352427630929\n"
     ]
    },
    {
     "name": "stderr",
     "output_type": "stream",
     "text": [
      "\r",
      " 21%|██████████████████████████████████████████                                                                                                                                                              | 21/100 [00:40<02:28,  1.88s/it]"
     ]
    },
    {
     "name": "stdout",
     "output_type": "stream",
     "text": [
      "1.7927885224200322 3335.8466633227417 5106.272276363961\n"
     ]
    },
    {
     "name": "stderr",
     "output_type": "stream",
     "text": [
      "\r",
      " 22%|████████████████████████████████████████████                                                                                                                                                            | 22/100 [00:42<02:24,  1.85s/it]"
     ]
    },
    {
     "name": "stdout",
     "output_type": "stream",
     "text": [
      "1.7947689947381888 3362.5869998368116 5150.223961929643\n"
     ]
    },
    {
     "name": "stderr",
     "output_type": "stream",
     "text": [
      "\r",
      " 23%|██████████████████████████████████████████████                                                                                                                                                          | 23/100 [00:43<02:17,  1.79s/it]"
     ]
    },
    {
     "name": "stdout",
     "output_type": "stream",
     "text": [
      "1.796212263764344 3382.1777066154928 5182.445125997617\n"
     ]
    },
    {
     "name": "stderr",
     "output_type": "stream",
     "text": [
      "\r",
      " 24%|████████████████████████████████████████████████                                                                                                                                                        | 24/100 [00:45<02:14,  1.77s/it]"
     ]
    },
    {
     "name": "stdout",
     "output_type": "stream",
     "text": [
      "1.7972653127992635 3396.5206556184444 5206.047122321802\n"
     ]
    },
    {
     "name": "stderr",
     "output_type": "stream",
     "text": [
      "\r",
      " 25%|██████████████████████████████████████████████████                                                                                                                                                      | 25/100 [00:48<02:28,  1.98s/it]"
     ]
    },
    {
     "name": "stdout",
     "output_type": "stream",
     "text": [
      "1.7980340159225714 3407.020788309489 5223.331506807876\n"
     ]
    },
    {
     "name": "stderr",
     "output_type": "stream",
     "text": [
      "\r",
      " 26%|████████████████████████████████████████████████████                                                                                                                                                    | 26/100 [00:51<02:48,  2.27s/it]"
     ]
    },
    {
     "name": "stdout",
     "output_type": "stream",
     "text": [
      "1.7985955386609425 3414.7114991336075 5235.993932544099\n"
     ]
    },
    {
     "name": "stderr",
     "output_type": "stream",
     "text": [
      "\r",
      " 27%|██████████████████████████████████████████████████████                                                                                                                                                  | 27/100 [00:54<03:01,  2.48s/it]"
     ]
    },
    {
     "name": "stdout",
     "output_type": "stream",
     "text": [
      "1.7990061420211478 3420.352449611831 5245.282236826642\n"
     ]
    },
    {
     "name": "stderr",
     "output_type": "stream",
     "text": [
      "\r",
      " 28%|████████████████████████████████████████████████████████                                                                                                                                                | 28/100 [00:55<02:40,  2.23s/it]"
     ]
    },
    {
     "name": "stdout",
     "output_type": "stream",
     "text": [
      "1.7993069140323505 3424.477484872158 5252.076687198012\n"
     ]
    },
    {
     "name": "stderr",
     "output_type": "stream",
     "text": [
      "\r",
      " 29%|█████████████████████████████████████████████████████████▉                                                                                                                                              | 29/100 [00:57<02:26,  2.07s/it]"
     ]
    },
    {
     "name": "stdout",
     "output_type": "stream",
     "text": [
      "1.7995267315362449 3427.5147989315633 5257.0777347311005\n"
     ]
    },
    {
     "name": "stderr",
     "output_type": "stream",
     "text": [
      "\r",
      " 30%|████████████████████████████████████████████████████████████                                                                                                                                            | 30/100 [00:59<02:22,  2.04s/it]"
     ]
    },
    {
     "name": "stdout",
     "output_type": "stream",
     "text": [
      "1.7996883803457202 3429.715726003101 5260.705735250913\n"
     ]
    },
    {
     "name": "stderr",
     "output_type": "stream",
     "text": [
      "\r",
      " 31%|██████████████████████████████████████████████████████████████                                                                                                                                          | 31/100 [01:01<02:17,  2.00s/it]"
     ]
    },
    {
     "name": "stdout",
     "output_type": "stream",
     "text": [
      "1.7998056379898755 3431.3421316401223 5263.383492970632\n"
     ]
    },
    {
     "name": "stderr",
     "output_type": "stream",
     "text": [
      "\r",
      " 32%|████████████████████████████████████████████████████████████████                                                                                                                                        | 32/100 [01:03<02:18,  2.04s/it]"
     ]
    },
    {
     "name": "stdout",
     "output_type": "stream",
     "text": [
      "1.7998921051952337 3432.5230702234044 5265.330009844201\n"
     ]
    },
    {
     "name": "stderr",
     "output_type": "stream",
     "text": [
      "\r",
      " 33%|██████████████████████████████████████████████████████████████████                                                                                                                                      | 33/100 [01:05<02:10,  1.94s/it]"
     ]
    },
    {
     "name": "stdout",
     "output_type": "stream",
     "text": [
      "1.799954970698601 3433.3827422211234 5266.746929168057\n"
     ]
    },
    {
     "name": "stderr",
     "output_type": "stream",
     "text": [
      "\r",
      " 34%|████████████████████████████████████████████████████████████████████                                                                                                                                    | 34/100 [01:09<02:59,  2.73s/it]"
     ]
    },
    {
     "name": "stdout",
     "output_type": "stream",
     "text": [
      "1.800000721348353 3433.999524187785 5267.76455864468\n"
     ]
    },
    {
     "name": "stderr",
     "output_type": "stream",
     "text": [
      "\r",
      " 35%|██████████████████████████████████████████████████████████████████████                                                                                                                                  | 35/100 [01:16<04:22,  4.04s/it]"
     ]
    },
    {
     "name": "stdout",
     "output_type": "stream",
     "text": [
      "1.8000335882815242 3434.4511586417307 5268.508738076484\n"
     ]
    },
    {
     "name": "stderr",
     "output_type": "stream",
     "text": [
      "\r",
      " 36%|████████████████████████████████████████████████████████████████████████                                                                                                                                | 36/100 [01:19<03:48,  3.57s/it]"
     ]
    },
    {
     "name": "stdout",
     "output_type": "stream",
     "text": [
      "1.8000576076358672 3434.800573459185 5269.082293239087\n"
     ]
    },
    {
     "name": "stderr",
     "output_type": "stream",
     "text": [
      "\r",
      " 37%|██████████████████████████████████████████████████████████████████████████                                                                                                                              | 37/100 [01:20<03:06,  2.96s/it]"
     ]
    },
    {
     "name": "stdout",
     "output_type": "stream",
     "text": [
      "1.8000760887941856 3435.0525109585383 5269.4976644938515\n"
     ]
    },
    {
     "name": "stderr",
     "output_type": "stream",
     "text": [
      "\r",
      " 38%|████████████████████████████████████████████████████████████████████████████                                                                                                                            | 38/100 [01:22<02:45,  2.67s/it]"
     ]
    },
    {
     "name": "stdout",
     "output_type": "stream",
     "text": [
      "1.8000894967008565 3435.2320322491496 5269.7940189121255\n"
     ]
    },
    {
     "name": "stderr",
     "output_type": "stream",
     "text": [
      "\r",
      " 39%|██████████████████████████████████████████████████████████████████████████████                                                                                                                          | 39/100 [01:25<02:41,  2.65s/it]"
     ]
    },
    {
     "name": "stdout",
     "output_type": "stream",
     "text": [
      "1.8000990674449824 3435.3540239360746 5269.996123092219\n"
     ]
    },
    {
     "name": "stderr",
     "output_type": "stream",
     "text": [
      "\r",
      " 40%|████████████████████████████████████████████████████████████████████████████████                                                                                                                        | 40/100 [01:27<02:28,  2.47s/it]"
     ]
    },
    {
     "name": "stdout",
     "output_type": "stream",
     "text": [
      "1.8001056038428913 3435.462197879473 5270.172286957559\n"
     ]
    },
    {
     "name": "stderr",
     "output_type": "stream",
     "text": [
      "\r",
      " 41%|██████████████████████████████████████████████████████████████████████████████████                                                                                                                      | 41/100 [01:29<02:15,  2.29s/it]"
     ]
    },
    {
     "name": "stdout",
     "output_type": "stream",
     "text": [
      "1.8001112603497427 3435.534635331232 5270.292254040727\n"
     ]
    },
    {
     "name": "stderr",
     "output_type": "stream",
     "text": [
      "\r",
      " 42%|████████████████████████████████████████████████████████████████████████████████████                                                                                                                    | 42/100 [01:31<02:11,  2.27s/it]"
     ]
    },
    {
     "name": "stdout",
     "output_type": "stream",
     "text": [
      "1.8001151395832677 3435.5759181788467 5270.3616496836585\n"
     ]
    },
    {
     "name": "stderr",
     "output_type": "stream",
     "text": [
      "\r",
      " 43%|██████████████████████████████████████████████████████████████████████████████████████                                                                                                                  | 43/100 [01:33<02:02,  2.16s/it]"
     ]
    },
    {
     "name": "stdout",
     "output_type": "stream",
     "text": [
      "1.800117397244622 3435.618550838429 5270.430580646406\n"
     ]
    },
    {
     "name": "stderr",
     "output_type": "stream",
     "text": [
      "\r",
      " 44%|████████████████████████████████████████████████████████████████████████████████████████                                                                                                                | 44/100 [01:35<01:55,  2.07s/it]"
     ]
    },
    {
     "name": "stdout",
     "output_type": "stream",
     "text": [
      "1.8001196037128646 3435.6725867695936 5270.516924920289\n"
     ]
    },
    {
     "name": "stderr",
     "output_type": "stream",
     "text": [
      "\r",
      " 45%|██████████████████████████████████████████████████████████████████████████████████████████                                                                                                              | 45/100 [01:37<01:50,  2.01s/it]"
     ]
    },
    {
     "name": "stdout",
     "output_type": "stream",
     "text": [
      "1.8001223535076423 3435.678189926445 5270.529820205609\n"
     ]
    },
    {
     "name": "stderr",
     "output_type": "stream",
     "text": [
      "\r",
      " 46%|████████████████████████████████████████████████████████████████████████████████████████████                                                                                                            | 46/100 [01:38<01:44,  1.94s/it]"
     ]
    },
    {
     "name": "stdout",
     "output_type": "stream",
     "text": [
      "1.8001228188732028 3435.6997480767545 5270.563619335421\n"
     ]
    },
    {
     "name": "stderr",
     "output_type": "stream",
     "text": [
      "\r",
      " 47%|██████████████████████████████████████████████████████████████████████████████████████████████                                                                                                          | 47/100 [01:40<01:40,  1.89s/it]"
     ]
    },
    {
     "name": "stdout",
     "output_type": "stream",
     "text": [
      "1.8001238862582882 3435.7022870127694 5270.56918324526\n"
     ]
    },
    {
     "name": "stderr",
     "output_type": "stream",
     "text": [
      "\r",
      " 48%|████████████████████████████████████████████████████████████████████████████████████████████████                                                                                                        | 48/100 [01:42<01:35,  1.84s/it]"
     ]
    },
    {
     "name": "stdout",
     "output_type": "stream",
     "text": [
      "1.8001240843573159 3435.7055305557637 5270.574468792254\n"
     ]
    },
    {
     "name": "stderr",
     "output_type": "stream",
     "text": [
      "\r",
      " 49%|██████████████████████████████████████████████████████████████████████████████████████████████████                                                                                                      | 49/100 [01:44<01:33,  1.84s/it]"
     ]
    },
    {
     "name": "stdout",
     "output_type": "stream",
     "text": [
      "1.800124254107988 3435.7181728235837 5270.5941282097965\n"
     ]
    },
    {
     "name": "stderr",
     "output_type": "stream",
     "text": [
      "\r",
      " 50%|████████████████████████████████████████████████████████████████████████████████████████████████████                                                                                                    | 50/100 [01:46<01:30,  1.81s/it]"
     ]
    },
    {
     "name": "stdout",
     "output_type": "stream",
     "text": [
      "1.8001248726737153 3435.695205362045 5270.559861999007\n"
     ]
    },
    {
     "name": "stderr",
     "output_type": "stream",
     "text": [
      "\r",
      " 51%|██████████████████████████████████████████████████████████████████████████████████████████████████████                                                                                                  | 51/100 [01:47<01:28,  1.80s/it]"
     ]
    },
    {
     "name": "stdout",
     "output_type": "stream",
     "text": [
      "1.800123815182245 3435.7120396805285 5270.584033271404\n"
     ]
    },
    {
     "name": "stderr",
     "output_type": "stream",
     "text": [
      "\r",
      " 52%|████████████████████████████████████████████████████████████████████████████████████████████████████████                                                                                                | 52/100 [01:49<01:24,  1.77s/it]"
     ]
    },
    {
     "name": "stdout",
     "output_type": "stream",
     "text": [
      "1.8001245470966938 3435.699427498367 5270.565829912371\n"
     ]
    },
    {
     "name": "stderr",
     "output_type": "stream",
     "text": [
      "\r",
      " 53%|██████████████████████████████████████████████████████████████████████████████████████████████████████████                                                                                              | 53/100 [01:51<01:24,  1.79s/it]"
     ]
    },
    {
     "name": "stdout",
     "output_type": "stream",
     "text": [
      "1.800123994435663 3435.708471657455 5270.578840007151\n"
     ]
    },
    {
     "name": "stderr",
     "output_type": "stream",
     "text": [
      "\r",
      " 54%|████████████████████████████████████████████████████████████████████████████████████████████████████████████                                                                                            | 54/100 [01:53<01:21,  1.77s/it]"
     ]
    },
    {
     "name": "stdout",
     "output_type": "stream",
     "text": [
      "1.8001243887594092 3435.706600256771 5270.576585760232\n"
     ]
    },
    {
     "name": "stderr",
     "output_type": "stream",
     "text": [
      "\r",
      " 55%|██████████████████████████████████████████████████████████████████████████████████████████████████████████████                                                                                          | 55/100 [01:54<01:18,  1.75s/it]"
     ]
    },
    {
     "name": "stdout",
     "output_type": "stream",
     "text": [
      "1.8001243271823775 3435.702188789988 5270.56972202417\n"
     ]
    },
    {
     "name": "stderr",
     "output_type": "stream",
     "text": [
      "\r",
      " 56%|████████████████████████████████████████████████████████████████████████████████████████████████████████████████                                                                                        | 56/100 [01:56<01:14,  1.69s/it]"
     ]
    },
    {
     "name": "stdout",
     "output_type": "stream",
     "text": [
      "1.800124111168641 3435.7124148532243 5270.585071633649\n"
     ]
    },
    {
     "name": "stderr",
     "output_type": "stream",
     "text": [
      "\r",
      " 57%|█████████████████████████████████████████████████████████████████████████████████████████████████████████████████▉                                                                                      | 57/100 [01:59<01:37,  2.27s/it]"
     ]
    },
    {
     "name": "stdout",
     "output_type": "stream",
     "text": [
      "1.8001245862538433 3435.714115176831 5270.588422907813\n"
     ]
    },
    {
     "name": "stderr",
     "output_type": "stream",
     "text": [
      "\r",
      " 58%|███████████████████████████████████████████████████████████████████████████████████████████████████████████████████▉                                                                                    | 58/100 [02:05<02:20,  3.35s/it]"
     ]
    },
    {
     "name": "stdout",
     "output_type": "stream",
     "text": [
      "1.8001247017808173 3435.7279355970177 5270.6098048960575\n"
     ]
    },
    {
     "name": "stderr",
     "output_type": "stream",
     "text": [
      "\r",
      " 59%|██████████████████████████████████████████████████████████████████████████████████████████████████████████████████████                                                                                  | 59/100 [02:13<03:04,  4.50s/it]"
     ]
    },
    {
     "name": "stdout",
     "output_type": "stream",
     "text": [
      "1.8001253729829592 3435.722208144162 5270.60206818774\n"
     ]
    },
    {
     "name": "stderr",
     "output_type": "stream",
     "text": [
      "\r",
      " 60%|████████████████████████████████████████████████████████████████████████████████████████████████████████████████████████                                                                                | 60/100 [02:19<03:23,  5.08s/it]"
     ]
    },
    {
     "name": "stdout",
     "output_type": "stream",
     "text": [
      "1.8001251462326786 3435.7361036731195 5270.623030189681\n"
     ]
    },
    {
     "name": "stderr",
     "output_type": "stream",
     "text": [
      "\r",
      " 61%|██████████████████████████████████████████████████████████████████████████████████████████████████████████████████████████                                                                              | 61/100 [02:23<03:09,  4.85s/it]"
     ]
    },
    {
     "name": "stdout",
     "output_type": "stream",
     "text": [
      "1.8001257965664288 3435.735578550695 5270.623241536597\n"
     ]
    },
    {
     "name": "stderr",
     "output_type": "stream",
     "text": [
      "\r",
      " 62%|████████████████████████████████████████████████████████████████████████████████████████████████████████████████████████████                                                                            | 62/100 [02:26<02:35,  4.10s/it]"
     ]
    },
    {
     "name": "stdout",
     "output_type": "stream",
     "text": [
      "1.8001258178714825 3435.7172979170236 5270.595231268616\n"
     ]
    },
    {
     "name": "stderr",
     "output_type": "stream",
     "text": [
      "\r",
      " 63%|██████████████████████████████████████████████████████████████████████████████████████████████████████████████████████████████                                                                          | 63/100 [02:28<02:07,  3.45s/it]"
     ]
    },
    {
     "name": "stdout",
     "output_type": "stream",
     "text": [
      "1.800124942503462 3435.719171413301 5270.596736532059\n"
     ]
    },
    {
     "name": "stderr",
     "output_type": "stream",
     "text": [
      "\r",
      " 64%|████████████████████████████████████████████████████████████████████████████████████████████████████████████████████████████████                                                                        | 64/100 [02:30<01:54,  3.18s/it]"
     ]
    },
    {
     "name": "stdout",
     "output_type": "stream",
     "text": [
      "1.8001249697896045 3435.7246314117233 5270.6051551595165\n"
     ]
    },
    {
     "name": "stderr",
     "output_type": "stream",
     "text": [
      "\r",
      " 65%|██████████████████████████████████████████████████████████████████████████████████████████████████████████████████████████████████                                                                      | 65/100 [02:33<01:44,  2.98s/it]"
     ]
    },
    {
     "name": "stdout",
     "output_type": "stream",
     "text": [
      "1.80012523364753 3435.732366974556 5270.617434561199\n"
     ]
    },
    {
     "name": "stderr",
     "output_type": "stream",
     "text": [
      "\r",
      " 66%|████████████████████████████████████████████████████████████████████████████████████████████████████████████████████████████████████                                                                    | 66/100 [02:35<01:33,  2.75s/it]"
     ]
    },
    {
     "name": "stdout",
     "output_type": "stream",
     "text": [
      "1.8001256235731387 3435.717071285588 5270.5945797828535\n"
     ]
    },
    {
     "name": "stderr",
     "output_type": "stream",
     "text": [
      "\r",
      " 67%|██████████████████████████████████████████████████████████████████████████████████████████████████████████████████████████████████████                                                                  | 67/100 [02:37<01:24,  2.57s/it]"
     ]
    },
    {
     "name": "stdout",
     "output_type": "stream",
     "text": [
      "1.8001249177413512 3435.729452500823 5270.612469609198\n"
     ]
    },
    {
     "name": "stderr",
     "output_type": "stream",
     "text": [
      "\r",
      " 68%|████████████████████████████████████████████████████████████████████████████████████████████████████████████████████████████████████████                                                                | 68/100 [02:39<01:14,  2.34s/it]"
     ]
    },
    {
     "name": "stdout",
     "output_type": "stream",
     "text": [
      "1.8001254611858517 3435.7239854912623 5270.604932664759\n"
     ]
    },
    {
     "name": "stderr",
     "output_type": "stream",
     "text": [
      "\r",
      " 69%|██████████████████████████████████████████████████████████████████████████████████████████████████████████████████████████████████████████                                                              | 69/100 [02:42<01:19,  2.56s/it]"
     ]
    },
    {
     "name": "stdout",
     "output_type": "stream",
     "text": [
      "1.8001252377950283 3435.728533148009 5270.611559728741\n"
     ]
    },
    {
     "name": "stderr",
     "output_type": "stream",
     "text": [
      "\r",
      " 70%|████████████████████████████████████████████████████████████████████████████████████████████████████████████████████████████████████████████                                                            | 70/100 [02:45<01:19,  2.66s/it]"
     ]
    },
    {
     "name": "stdout",
     "output_type": "stream",
     "text": [
      "1.8001254399675797 3435.710862449677 5270.584767959894\n"
     ]
    },
    {
     "name": "stderr",
     "output_type": "stream",
     "text": [
      "\r",
      " 71%|██████████████████████████████████████████████████████████████████████████████████████████████████████████████████████████████████████████████                                                          | 71/100 [02:46<01:08,  2.36s/it]"
     ]
    },
    {
     "name": "stdout",
     "output_type": "stream",
     "text": [
      "1.8001246067868173 3435.7161194279724 5270.591529654483\n"
     ]
    },
    {
     "name": "stderr",
     "output_type": "stream",
     "text": [
      "\r",
      " 72%|████████████████████████████████████████████████████████████████████████████████████████████████████████████████████████████████████████████████                                                        | 72/100 [02:48<00:59,  2.13s/it]"
     ]
    },
    {
     "name": "stdout",
     "output_type": "stream",
     "text": [
      "1.8001247993895126 3435.7361880183007 5270.622617227281\n"
     ]
    },
    {
     "name": "stderr",
     "output_type": "stream",
     "text": [
      "\r",
      " 73%|██████████████████████████████████████████████████████████████████████████████████████████████████████████████████████████████████████████████████                                                      | 73/100 [02:50<00:54,  2.01s/it]"
     ]
    },
    {
     "name": "stdout",
     "output_type": "stream",
     "text": [
      "1.8001257758155729 3435.743805416805 5270.63582959196\n"
     ]
    },
    {
     "name": "stderr",
     "output_type": "stream",
     "text": [
      "\r",
      " 74%|████████████████████████████████████████████████████████████████████████████████████████████████████████████████████████████████████████████████████                                                    | 74/100 [02:52<00:51,  2.00s/it]"
     ]
    },
    {
     "name": "stdout",
     "output_type": "stream",
     "text": [
      "1.800126211015809 3435.7428292434356 5270.635012600684\n"
     ]
    },
    {
     "name": "stderr",
     "output_type": "stream",
     "text": [
      "\r",
      " 75%|██████████████████████████████████████████████████████████████████████████████████████████████████████████████████████████████████████████████████████                                                  | 75/100 [02:53<00:46,  1.86s/it]"
     ]
    },
    {
     "name": "stdout",
     "output_type": "stream",
     "text": [
      "1.8001261953042589 3435.733075390956 5270.620025039183\n"
     ]
    },
    {
     "name": "stderr",
     "output_type": "stream",
     "text": [
      "\r",
      " 76%|████████████████████████████████████████████████████████████████████████████████████████████████████████████████████████████████████████████████████████                                                | 76/100 [02:55<00:43,  1.83s/it]"
     ]
    },
    {
     "name": "stdout",
     "output_type": "stream",
     "text": [
      "1.8001257263060335 3435.7331418764625 5270.619393668081\n"
     ]
    },
    {
     "name": "stderr",
     "output_type": "stream",
     "text": [
      "\r",
      " 77%|██████████████████████████████████████████████████████████████████████████████████████████████████████████████████████████████████████████████████████████                                              | 77/100 [02:57<00:41,  1.82s/it]"
     ]
    },
    {
     "name": "stdout",
     "output_type": "stream",
     "text": [
      "1.8001256959653187 3435.753220363971 5270.6501478209\n"
     ]
    },
    {
     "name": "stderr",
     "output_type": "stream",
     "text": [
      "\r",
      " 78%|████████████████████████████████████████████████████████████████████████████████████████████████████████████████████████████████████████████████████████████                                            | 78/100 [02:58<00:38,  1.73s/it]"
     ]
    },
    {
     "name": "stdout",
     "output_type": "stream",
     "text": [
      "1.8001266569242884 3435.74307671964 5270.636089505514\n"
     ]
    },
    {
     "name": "stderr",
     "output_type": "stream",
     "text": [
      "\r",
      " 79%|██████████████████████████████████████████████████████████████████████████████████████████████████████████████████████████████████████████████████████████████                                          | 79/100 [03:00<00:36,  1.74s/it]"
     ]
    },
    {
     "name": "stdout",
     "output_type": "stream",
     "text": [
      "1.800126239054558 3435.7349433724935 5270.622959046455\n"
     ]
    },
    {
     "name": "stderr",
     "output_type": "stream",
     "text": [
      "\r",
      " 80%|████████████████████████████████████████████████████████████████████████████████████████████████████████████████████████████████████████████████████████████████                                        | 80/100 [03:02<00:33,  1.67s/it]"
     ]
    },
    {
     "name": "stdout",
     "output_type": "stream",
     "text": [
      "1.8001258190377538 3435.7325080203454 5270.618566297924\n"
     ]
    },
    {
     "name": "stderr",
     "output_type": "stream",
     "text": [
      "\r",
      " 81%|██████████████████████████████████████████████████████████████████████████████████████████████████████████████████████████████████████████████████████████████████                                      | 81/100 [03:03<00:31,  1.66s/it]"
     ]
    },
    {
     "name": "stdout",
     "output_type": "stream",
     "text": [
      "1.8001256721900196 3435.7365438074257 5270.624527812077\n"
     ]
    },
    {
     "name": "stderr",
     "output_type": "stream",
     "text": [
      "\r",
      " 82%|████████████████████████████████████████████████████████████████████████████████████████████████████████████████████████████████████████████████████████████████████                                    | 82/100 [03:05<00:30,  1.67s/it]"
     ]
    },
    {
     "name": "stdout",
     "output_type": "stream",
     "text": [
      "1.800125855280974 3435.7307438516914 5270.6159166310235\n"
     ]
    },
    {
     "name": "stderr",
     "output_type": "stream",
     "text": [
      "\r",
      " 83%|██████████████████████████████████████████████████████████████████████████████████████████████████████████████████████████████████████████████████████████████████████                                  | 83/100 [03:07<00:29,  1.73s/it]"
     ]
    },
    {
     "name": "stdout",
     "output_type": "stream",
     "text": [
      "1.8001255901570992 3435.7222102184837 5270.602410960231\n"
     ]
    },
    {
     "name": "stderr",
     "output_type": "stream",
     "text": [
      "\r",
      " 84%|████████████████████████████████████████████████████████████████████████████████████████████████████████████████████████████████████████████████████████████████████████                                | 84/100 [03:09<00:28,  1.79s/it]"
     ]
    },
    {
     "name": "stdout",
     "output_type": "stream",
     "text": [
      "1.8001251618586822 3435.7351821937777 5270.621641019702\n"
     ]
    },
    {
     "name": "stderr",
     "output_type": "stream",
     "text": [
      "\r",
      " 85%|██████████████████████████████████████████████████████████████████████████████████████████████████████████████████████████████████████████████████████████████████████████                              | 85/100 [03:11<00:26,  1.80s/it]"
     ]
    },
    {
     "name": "stdout",
     "output_type": "stream",
     "text": [
      "1.80012575348186 3435.7298838354636 5270.614438133417\n"
     ]
    },
    {
     "name": "stderr",
     "output_type": "stream",
     "text": [
      "\r",
      " 86%|████████████████████████████████████████████████████████████████████████████████████████████████████████████████████████████████████████████████████████████████████████████                            | 86/100 [03:12<00:25,  1.82s/it]"
     ]
    },
    {
     "name": "stdout",
     "output_type": "stream",
     "text": [
      "1.8001255416257 3435.7265793239812 5270.6090375402655\n"
     ]
    },
    {
     "name": "stderr",
     "output_type": "stream",
     "text": [
      "\r",
      " 87%|██████████████████████████████████████████████████████████████████████████████████████████████████████████████████████████████████████████████████████████████████████████████                          | 87/100 [03:14<00:22,  1.75s/it]"
     ]
    },
    {
     "name": "stdout",
     "output_type": "stream",
     "text": [
      "1.8001253679677238 3435.7375198515524 5270.625549414464\n"
     ]
    },
    {
     "name": "stderr",
     "output_type": "stream",
     "text": [
      "\r",
      " 88%|████████████████████████████████████████████████████████████████████████████████████████████████████████████████████████████████████████████████████████████████████████████████                        | 88/100 [03:16<00:20,  1.73s/it]"
     ]
    },
    {
     "name": "stdout",
     "output_type": "stream",
     "text": [
      "1.800125880350496 3435.7306037830263 5270.615740957534\n"
     ]
    },
    {
     "name": "stderr",
     "output_type": "stream",
     "text": [
      "\r",
      " 89%|██████████████████████████████████████████████████████████████████████████████████████████████████████████████████████████████████████████████████████████████████████████████████                      | 89/100 [03:17<00:19,  1.75s/it]"
     ]
    },
    {
     "name": "stdout",
     "output_type": "stream",
     "text": [
      "1.8001255852304867 3435.716348798106 5270.5934114887805\n"
     ]
    },
    {
     "name": "stderr",
     "output_type": "stream",
     "text": [
      "\r",
      " 90%|████████████████████████████████████████████████████████████████████████████████████████████████████████████████████████████████████████████████████████████████████████████████████                    | 90/100 [03:19<00:18,  1.81s/it]"
     ]
    },
    {
     "name": "stdout",
     "output_type": "stream",
     "text": [
      "1.800124880343604 3435.7072883679643 5270.5784100387655\n"
     ]
    },
    {
     "name": "stderr",
     "output_type": "stream",
     "text": [
      "\r",
      " 91%|██████████████████████████████████████████████████████████████████████████████████████████████████████████████████████████████████████████████████████████████████████████████████████                  | 91/100 [03:24<00:22,  2.49s/it]"
     ]
    },
    {
     "name": "stdout",
     "output_type": "stream",
     "text": [
      "1.8001243953346362 3435.7139706189196 5270.587902612226\n"
     ]
    },
    {
     "name": "stderr",
     "output_type": "stream",
     "text": [
      "\r",
      " 92%|████████████████████████████████████████████████████████████████████████████████████████████████████████████████████████████████████████████████████████████████████████████████████████                | 92/100 [03:27<00:23,  2.92s/it]"
     ]
    },
    {
     "name": "stdout",
     "output_type": "stream",
     "text": [
      "1.8001246811973508 3435.708317074906 5270.579676737112\n"
     ]
    },
    {
     "name": "stderr",
     "output_type": "stream",
     "text": [
      "\r",
      " 93%|██████████████████████████████████████████████████████████████████████████████████████████████████████████████████████████████████████████████████████████████████████████████████████████              | 93/100 [03:31<00:21,  3.09s/it]"
     ]
    },
    {
     "name": "stdout",
     "output_type": "stream",
     "text": [
      "1.800124430442611 3435.701711401657 5270.569151147001\n"
     ]
    },
    {
     "name": "stderr",
     "output_type": "stream",
     "text": [
      "\r",
      " 94%|████████████████████████████████████████████████████████████████████████████████████████████████████████████████████████████████████████████████████████████████████████████████████████████            | 94/100 [03:34<00:18,  3.11s/it]"
     ]
    },
    {
     "name": "stdout",
     "output_type": "stream",
     "text": [
      "1.8001240956513267 3435.7011484592244 5270.567764058172\n"
     ]
    },
    {
     "name": "stderr",
     "output_type": "stream",
     "text": [
      "\r",
      " 95%|██████████████████████████████████████████████████████████████████████████████████████████████████████████████████████████████████████████████████████████████████████████████████████████████          | 95/100 [03:36<00:13,  2.78s/it]"
     ]
    },
    {
     "name": "stdout",
     "output_type": "stream",
     "text": [
      "1.8001240447128448 3435.6974270029536 5270.561975474308\n"
     ]
    },
    {
     "name": "stderr",
     "output_type": "stream",
     "text": [
      "\r",
      " 96%|████████████████████████████████████████████████████████████████████████████████████████████████████████████████████████████████████████████████████████████████████████████████████████████████        | 96/100 [03:38<00:09,  2.45s/it]"
     ]
    },
    {
     "name": "stdout",
     "output_type": "stream",
     "text": [
      "1.8001238625582032 3435.7100749176225 5270.5810932899685\n"
     ]
    },
    {
     "name": "stderr",
     "output_type": "stream",
     "text": [
      "\r",
      " 97%|██████████████████████████████████████████████████████████████████████████████████████████████████████████████████████████████████████████████████████████████████████████████████████████████████      | 97/100 [03:40<00:06,  2.30s/it]"
     ]
    },
    {
     "name": "stdout",
     "output_type": "stream",
     "text": [
      "1.8001244562369922 3435.709042562841 5270.580437914861\n"
     ]
    },
    {
     "name": "stderr",
     "output_type": "stream",
     "text": [
      "\r",
      " 98%|████████████████████████████████████████████████████████████████████████████████████████████████████████████████████████████████████████████████████████████████████████████████████████████████████    | 98/100 [03:42<00:04,  2.18s/it]"
     ]
    },
    {
     "name": "stdout",
     "output_type": "stream",
     "text": [
      "1.8001244491601995 3435.7191985723775 5270.5960067665865\n"
     ]
    },
    {
     "name": "stderr",
     "output_type": "stream",
     "text": [
      "\r",
      " 99%|██████████████████████████████████████████████████████████████████████████████████████████████████████████████████████████████████████████████████████████████████████████████████████████████████████  | 99/100 [03:44<00:02,  2.15s/it]"
     ]
    },
    {
     "name": "stdout",
     "output_type": "stream",
     "text": [
      "1.8001249358219233 3435.7288818689813 5270.61162249851\n"
     ]
    },
    {
     "name": "stderr",
     "output_type": "stream",
     "text": [
      "100%|███████████████████████████████████████████████████████████████████████████████████████████████████████████████████████████████████████████████████████████████████████████████████████████████████████| 100/100 [03:46<00:00,  2.26s/it]"
     ]
    },
    {
     "name": "stdout",
     "output_type": "stream",
     "text": [
      "1.8001254351062614 3435.7359595820553 5270.6232608516675\n"
     ]
    },
    {
     "name": "stderr",
     "output_type": "stream",
     "text": [
      "\n"
     ]
    }
   ],
   "source": [
    "nu,alpha,beta = em(times)"
   ]
  },
  {
   "cell_type": "code",
   "execution_count": 86,
   "id": "372410d9",
   "metadata": {},
   "outputs": [
    {
     "data": {
      "text/plain": [
       "(297794.9981630469, 297795)"
      ]
     },
     "execution_count": 86,
     "metadata": {},
     "output_type": "execute_result"
    }
   ],
   "source": [
    "#https://math.stackexchange.com/a/4498377\n",
    "expected_number_events = nu*(times[-1]-times[0])/(1-alpha/beta) + (alpha*nu/(alpha-beta)**2)*(np.exp(-(times[-1]-times[0])*(beta-alpha))-1)\n",
    "expected_number_events, len(times)"
   ]
  },
  {
   "cell_type": "markdown",
   "id": "04fc876d",
   "metadata": {},
   "source": [
    "# Multivariate"
   ]
  },
  {
   "cell_type": "markdown",
   "id": "33ff780a",
   "metadata": {},
   "source": [
    "\\begin{equation}\n",
    "\\log L(\\mathcal T;\\nu,\\alpha,\\beta,B) \\approx \\sum_{e}\\left(\\log(\\nu_e) \\left(\\sum_{j}B_{0,j} \\delta_{e,e_j}\\right) + \\sum_{e'} \\left(\\log(\\alpha_{e',e}) \\left(\\sum_{j}\\sum_{i>0} B_{i,j}\\delta_{e',e_i}\\delta_{e,e_j}\\right) + \\beta_{e',e} \\left(\\sum_{j}\\sum_{i>0} B_{i,j}(t_i-t_j)\\delta_{e',e_i}\\delta_{e,e_j}\\right) -\\nu_e (T)- \\frac{\\alpha_{e',e}}{\\beta_{e',e}}\\sum_i \\delta_{e',e_i}\\right)\\right)\n",
    "\\end{equation}\n",
    "\n",
    "where\n",
    "\\begin{equation}\n",
    "B_{i,j} = \\frac{1}{\\lambda_{e_j}(t_j)} \\cdot \\begin{cases}\\alpha_{e_i,e_j}\\exp(-\\beta_{e_i,e_j}(t_j-t_i)), & i>0\\\\ \\nu_{e_j}, & i=0\\end{cases}\n",
    "\\end{equation}"
   ]
  },
  {
   "cell_type": "code",
   "execution_count": 159,
   "id": "8979e59d",
   "metadata": {},
   "outputs": [],
   "source": [
    "import jax\n",
    "import jax.numpy as jnp\n",
    "import numpy as np\n",
    "import scipy as sp\n",
    "import scipy.optimize\n",
    "import tqdm\n",
    "def em(times, events, T=None, iters=100):\n",
    "    assert len(times) == len(events), (len(times),len(events))\n",
    "    times = times.copy() - times[0]\n",
    "    if T is None:\n",
    "        T = times[-1]\n",
    "    N_T = len(times)\n",
    "    num_event_types = len(set(events))\n",
    "        \n",
    "    nu = np.ones(num_event_types)\n",
    "    alpha = np.ones((num_event_types,num_event_types))\n",
    "    beta = 2*np.ones((num_event_types,num_event_types))\n",
    "    \n",
    "    for _ in tqdm.trange(iters):\n",
    "        #E step\n",
    "        sum_j_B_0_j = np.zeros(num_event_types)\n",
    "        sum_j_sum_i_B_i_j = np.zeros((num_event_types,num_event_types))\n",
    "        forwards_pass = np.zeros((num_event_types,num_event_types))\n",
    "        backwards_pass = np.zeros((num_event_types,num_event_types))\n",
    "        \n",
    "        intensities = np.zeros_like(times)\n",
    "        endo_intensity = np.zeros((num_event_types,num_event_types))\n",
    "        prev_t = 0\n",
    "        for j,(t,e) in enumerate(zip(times,events)):\n",
    "            endo_intensity *= np.exp(-beta*(t-prev_t))\n",
    "            intensities[j] = nu[e]+endo_intensity[:,e].sum()\n",
    "            B_0_j = nu[e]/intensities[j]\n",
    "            sum_j_B_0_j[e] += B_0_j\n",
    "            sum_i_B_i_j = endo_intensity[:,e]/intensities[j]\n",
    "            sum_j_sum_i_B_i_j[:,e] += sum_i_B_i_j\n",
    "            forwards_pass[:,e] += t*sum_i_B_i_j\n",
    "            endo_intensity[e,:] += alpha[e,:]\n",
    "            prev_t = t\n",
    "\n",
    "        sum_j_B_i_j = np.zeros((num_event_types,num_event_types))\n",
    "        next_t = T\n",
    "        for i,(t,e) in reversed(list(enumerate(zip(times,events)))):\n",
    "            sum_j_B_i_j *= np.exp(-beta*(next_t-t))\n",
    "            backwards_pass[e,:] += t*sum_j_B_i_j[e,:]\n",
    "            sum_j_B_i_j[:,e] += alpha[:,e]/intensities[i]\n",
    "            next_t = t\n",
    "            \n",
    "        #M step\n",
    "#         def partial_ll(log_nu,log_alpha,log_beta):\n",
    "#             return log_nu*(sum_j_B_0_j) + log_alpha*sum_j_sum_i_B_i_j + jnp.exp(log_beta)*(backwards_pass-forwards_pass) - jnp.exp(log_nu)*T - jnp.exp(log_alpha-log_beta)*N_T\n",
    "        \n",
    "#         print(sum_j_B_0_j, sum_j_sum_i_B_i_j, backwards_pass, forwards_pass, T, N_T)\n",
    "        \n",
    "#         starting_partial_ll = partial_ll(log_nu,log_alpha,log_beta)\n",
    "#         def loss(params):\n",
    "#             return -partial_ll(*params)/starting_partial_ll\n",
    "        \n",
    "#         print(intensities)\n",
    "#         print(loss([log_nu,log_alpha,log_beta]))\n",
    "#         print(jax.grad(loss)([log_nu,log_alpha,log_beta]))\n",
    "#         print(log_nu,log_alpha,log_beta)\n",
    "        \n",
    "        \n",
    "#         constraint = sp.optimize.LinearConstraint([[0,-1,1]], lb=[0], ub=[np.inf], keep_feasible=False)\n",
    "#         sol=sp.optimize.minimize(loss, jac=jax.grad(loss), x0=[log_nu,log_alpha,log_beta], constraints=constraint, method='trust-constr',options=dict(maxiter=2))\n",
    "#         print(sol)\n",
    "#         log_nu,log_alpha,log_beta = sol.x\n",
    "        beta_coef = backwards_pass-forwards_pass\n",
    "        #assert np.all(beta_coef<0), (beta_coef,beta_coef.max())\n",
    "        \n",
    "        nu = sum_j_B_0_j/T\n",
    "        alpha = np.nan_to_num(np.where(beta_coef<0,-sum_j_sum_i_B_i_j**2/(N_T*beta_coef),0))\n",
    "        beta = np.nan_to_num(np.where(beta_coef<0,-sum_j_sum_i_B_i_j/beta_coef,0))\n",
    "        beta = beta.clip(alpha,np.inf)\n",
    "\n",
    "        print(nu,alpha,beta)\n",
    "        plt.imshow(alpha/beta)\n",
    "        plt.show()\n",
    "        \n",
    "    return nu,alpha,beta"
   ]
  },
  {
   "cell_type": "code",
   "execution_count": 155,
   "id": "c41f9c5f",
   "metadata": {},
   "outputs": [
    {
     "data": {
      "text/plain": [
       "(array([1.80012544]), array([[3435.73595958]]), array([[5270.62326085]]))"
      ]
     },
     "execution_count": 155,
     "metadata": {},
     "output_type": "execute_result"
    }
   ],
   "source": [
    "nu,alpha,beta = em(times,np.zeros_like(times,dtype=int))"
   ]
  },
  {
   "cell_type": "code",
   "execution_count": null,
   "id": "9a1be5ff",
   "metadata": {},
   "outputs": [
    {
     "name": "stderr",
     "output_type": "stream",
     "text": [
      "\r",
      "  0%|                                                                                                                                                                                                                 | 0/100 [00:00<?, ?it/s]"
     ]
    },
    {
     "name": "stdout",
     "output_type": "stream",
     "text": [
      "[2.56404998e-02 1.06044364e-01 3.91378645e-02 2.50850067e-02\n",
      " 2.46146325e-02 8.49927550e-03 3.51767946e-01 2.44056585e-02\n",
      " 1.15249272e-02 8.71213522e-03 6.29459328e-03 9.06700482e-03\n",
      " 4.82859401e-03 9.50339254e-05 5.10634687e-03 6.46151645e-04] [[1.03359839e-01 4.96118394e-02 8.16659528e-02 6.08606836e-03\n",
      "  4.57045113e-02 1.47333197e-02 3.63079173e-02 1.08685568e-02\n",
      "  3.20328945e-02 2.18282603e-03 6.29446616e-04 2.55577909e-03\n",
      "  2.83809020e-03 8.78618126e-05 2.99803649e-02 2.63079685e-03]\n",
      " [2.77453886e-01 6.50877446e-01 2.58667417e-01 2.24528704e-02\n",
      "  2.38246413e-01 4.62588046e-02 1.05590709e-01 3.36281955e-02\n",
      "  1.63521786e-01 6.64327386e-03 4.01654702e-03 1.07080725e-02\n",
      "  2.86960738e-02 2.67063333e-04 9.01434735e-02 7.96167905e-03]\n",
      " [2.19863832e-02 3.66593745e-02 1.06929408e-01 6.32280638e-03\n",
      "  1.99203176e-02 1.02614792e-02 4.25596564e-02 1.27605733e-02\n",
      "  1.10277933e-02 2.07641085e-03 8.02366022e-04 2.45894444e-03\n",
      "  2.01834753e-03 8.20072211e-05 1.02063190e-02 2.66883214e-03]\n",
      " [7.70571291e-03 1.96848470e-02 8.45346859e-03 1.46372489e-02\n",
      "  7.39603632e-03 2.97563671e-03 2.34926245e-02 6.41416319e-03\n",
      "  3.70790611e-03 6.36532422e-03 1.44242580e-03 7.38761928e-03\n",
      "  1.20908291e-03 1.25513064e-04 2.65524264e-03 2.22718002e-04]\n",
      " [5.28986663e-02 4.88843064e-02 8.13539310e-02 6.71416947e-03\n",
      "  6.84924915e-02 1.51820418e-02 3.87989487e-02 1.16556725e-02\n",
      "  2.99922979e-02 2.32763666e-03 6.78459348e-04 3.29244757e-03\n",
      "  2.75054488e-03 7.67250845e-05 2.62466173e-02 2.84936212e-03]\n",
      " [4.93321632e-03 9.16100747e-03 1.47222410e-02 1.52318622e-03\n",
      "  5.15218024e-03 3.13687185e-03 1.12188972e-02 3.56324270e-03\n",
      "  2.74922910e-03 5.01904175e-04 2.06920884e-04 6.47858042e-04\n",
      "  5.93776681e-04 2.89265808e-05 1.98379531e-03 4.73719549e-04]\n",
      " [2.59170906e-02 9.14758431e-02 2.91303425e-02 2.00526023e-02\n",
      "  2.83113825e-02 9.04571436e-03 2.56407247e-01 2.32383787e-02\n",
      "  1.55611765e-02 6.37173236e-03 4.03565560e-03 7.35956433e-03\n",
      "  5.35495444e-03 1.62201719e-04 9.04546961e-03 8.36865023e-04]\n",
      " [7.08557963e-03 1.91597935e-02 8.19406520e-03 3.17918349e-03\n",
      "  6.95512105e-03 2.79922668e-03 2.65617806e-02 1.42680939e-02\n",
      "  3.89608745e-03 1.17685949e-03 4.42902070e-04 1.08367998e-03\n",
      "  1.18239383e-03 7.64915067e-05 3.14731150e-03 2.43513713e-04]\n",
      " [3.48078015e-02 2.54032051e-02 5.06661649e-02 3.38571826e-03\n",
      "  2.51404859e-02 9.36705835e-03 2.12761093e-02 6.78866326e-03\n",
      "  3.64578874e-02 1.15154783e-03 3.27711007e-04 1.33898467e-03\n",
      "  1.59372175e-03 5.23126610e-05 2.20097351e-02 2.10205950e-03]\n",
      " [2.05811893e-03 6.65553915e-03 3.20282179e-03 2.13200558e-03\n",
      "  1.94724530e-03 9.17124218e-04 8.42971314e-03 2.25729207e-03\n",
      "  1.23614422e-03 5.19418925e-03 3.84167882e-04 1.07358974e-03\n",
      "  4.02238136e-04 5.39500747e-06 6.75679820e-04 9.72037550e-05]\n",
      " [2.69968783e-03 7.77481264e-03 3.44946670e-03 3.26236789e-03\n",
      "  3.11597655e-03 8.77708179e-04 4.94575914e-03 1.93821201e-03\n",
      "  1.52553506e-03 1.48219904e-03 1.72208247e-02 2.50143461e-03\n",
      "  6.38039217e-04 8.20336641e-05 5.72734774e-04 1.41348925e-04]\n",
      " [4.73768994e-03 1.16174310e-02 5.62117410e-03 3.50897923e-03\n",
      "  4.29072258e-03 1.94352869e-03 1.04950120e-02 4.06568703e-03\n",
      "  2.66860670e-03 2.80784843e-03 4.07691188e-04 6.11635138e-03\n",
      "  7.90592530e-04 1.33515769e-05 2.04957386e-03 1.44499079e-04]\n",
      " [1.89928668e-02 4.48701446e-02 1.98209061e-02 1.42158215e-03\n",
      "  1.75309742e-02 3.67750706e-03 6.20873122e-03 2.30856609e-03\n",
      "  1.27391723e-02 3.70291311e-04 2.19998012e-04 7.22232065e-04\n",
      "  5.77352072e-03 2.16483724e-05 6.22699689e-03 9.01848044e-04]\n",
      " [1.05116682e-04 2.87236212e-04 5.79895826e-05 1.58959144e-05\n",
      "  6.88529645e-05 2.26399844e-05 1.27608124e-04 9.82089667e-05\n",
      "  4.69219192e-05 1.57054585e-06 6.29243300e-06 2.50055161e-06\n",
      "  1.15640293e-05 2.52651223e-04 1.22847844e-04 4.36792443e-07]\n",
      " [1.60677272e-02 1.33955025e-02 2.25348577e-02 1.49682828e-03\n",
      "  6.49793949e-03 5.14393641e-03 1.18329515e-02 3.56325384e-03\n",
      "  5.10647519e-03 5.54260051e-04 1.78894223e-04 5.99758867e-04\n",
      "  6.86928253e-04 1.72090793e-05 2.68098166e-02 6.20177782e-04]\n",
      " [6.95279910e-04 1.24090768e-03 1.57205689e-03 1.81069305e-04\n",
      "  6.61963407e-04 3.02849869e-04 1.56548196e-03 4.18231482e-04\n",
      "  4.04104963e-04 4.55788154e-05 2.35792531e-05 1.13941494e-04\n",
      "  6.64376951e-05 1.99801418e-06 2.64269299e-04 5.92434339e-04]] [[10.9087748   4.18811817  9.68823022  3.20280206  7.02615821  7.28583394\n",
      "   2.36487564  4.13543878  8.18688971  3.63646249  2.18570649  3.64705372\n",
      "   4.47110746  4.40809222 11.13537651  9.97219802]\n",
      " [11.28613014  8.75272539 10.15387403  3.55682376  9.51072713  7.69799337\n",
      "   2.31821354  4.27890439 11.22478104  3.47201686  3.15435059  4.20650285\n",
      "   8.30541291  4.5803922  11.89892094 10.81858326]\n",
      " [ 4.8440745   3.23653913  9.45890642  2.97968711  4.24413204  5.54076891\n",
      "   2.26992701  4.10146081  4.39567684  3.13926455  2.19416575  3.1645323\n",
      "   3.40696075  4.07313276  6.21931338  9.31124953]\n",
      " [ 4.13056493  3.28448231  4.11649021  4.8211474   3.69909662  4.24168878\n",
      "   2.27298944  3.60120623  3.85595966  6.40375537  3.48723821  6.29993053\n",
      "   3.41742234  8.23590653  4.75450327  3.86129405]\n",
      " [ 8.19331685  4.06769265  9.52989046  3.23969614  8.20572516  7.50349155\n",
      "   2.35625894  4.19013758  7.93138939  3.32863564  2.18960948  3.78951769\n",
      "   4.32323809  4.6329207  10.52251259  9.63935168]\n",
      " [ 4.37741528  3.15386386  7.0483345   2.88059739  4.21167213  5.30230238\n",
      "   2.23116931  4.11207767  4.24659836  3.00764845  2.18778866  3.13563483\n",
      "   3.5221427   5.65864127  5.17506363  6.08379739]\n",
      " [ 2.4927478   2.25903527  2.40509956  2.14181391  2.40533718  2.4548362\n",
      "   2.16365973  2.25237027  2.53490905  2.10897751  2.00845054  2.15290447\n",
      "   2.27521597  2.88325892  2.82441723  2.50328735]\n",
      " [ 3.77211209  3.10186921  3.73511619  2.54872458  3.41415771  3.90106448\n",
      "   2.21759527  4.59720981  3.71243996  2.77894307  2.20588229  2.47809911\n",
      "   3.19403028  6.53165693  4.750079    4.01721239]\n",
      " [ 8.79372294  3.99534444 10.18837435  3.18718566  6.94514456  7.6219107\n",
      "   2.38979736  4.41276953 11.09428188  3.33956796  2.06623776  3.48272253\n",
      "   4.52229982  4.68375922 12.30217546 12.81260665]\n",
      " [ 3.87807045  3.26155949  4.37613257  3.47435893  3.29885014  4.38511258\n",
      "   2.3011011   3.75527506  3.91229378  8.19457746  3.17616873  3.94351164\n",
      "   3.2948545   2.69774239  4.23458802  4.31136765]\n",
      " [ 5.15485045  4.26703213  5.31141195  5.56962565  4.92125455  4.71150199\n",
      "   2.2446681   4.30614826  5.10446731  7.27719262 16.64401396  7.62005071\n",
      "   4.92423416 17.13711206  4.55523633  6.43267389]\n",
      " [ 5.24064962  4.06272582  5.39551989  4.38583962  4.57052074  5.6599669\n",
      "   2.49011267  4.64344558  5.09927313  7.04870941  2.71912116  8.71060386\n",
      "   4.38578086  3.79397761  7.0994293   5.41883601]\n",
      " [12.61466834 10.38696657 12.72512883  3.86440628 11.07763437  9.52887394\n",
      "   2.45412237  4.66403779 13.43558478  3.52890641  3.29565044  4.52868941\n",
      "  13.94544955  7.01994508 13.33343394 15.85690534]\n",
      " [ 5.53149849  4.60559094  4.16783239  3.20736655  4.07208784  4.70966345\n",
      "   2.03352746  7.70570956  4.60698337  1.79584299  3.57329611  2.06404841\n",
      "   5.41302802 23.55223222 12.43277445  1.47175618]\n",
      " [ 7.8153434   3.91983182  9.02009772  2.88643086  4.62294111  7.65517846\n",
      "   2.36570728  4.25375579  5.60928666  3.34999462  2.23516117  3.40881374\n",
      "   3.78909703  3.80419254 17.18945635  9.44835906]\n",
      " [ 4.85920485  3.50411285  6.92373354  2.82050531  4.2153274   5.2476489\n",
      "   2.57502252  4.4808874   5.05574906  2.48657737  1.95084245  4.08895644\n",
      "   3.34805829  4.11754914  6.08675029 10.32435604]]\n"
     ]
    },
    {
     "data": {
      "image/png": "[encoded data removed]",
      "text/plain": [
       "<Figure size 432x288 with 1 Axes>"
      ]
     },
     "metadata": {
      "needs_background": "light"
     },
     "output_type": "display_data"
    },
    {
     "name": "stderr",
     "output_type": "stream",
     "text": [
      "\r",
      "  1%|██                                                                                                                                                                                                       | 1/100 [00:14<23:11, 14.06s/it]"
     ]
    },
    {
     "name": "stdout",
     "output_type": "stream",
     "text": [
      "[1.90262701e-02 9.67089269e-02 3.68011539e-02 3.98220320e-02\n",
      " 1.77715322e-02 9.43853534e-03 5.66877218e-01 3.63175690e-02\n",
      " 6.92647645e-03 1.40705836e-02 8.77144671e-03 1.35392235e-02\n",
      " 4.30058392e-03 9.66119082e-05 2.42022074e-03 4.05597089e-04] [[1.08452245e+00 2.65905766e-02 5.05083783e-01 5.51085630e-03\n",
      "  1.08140613e-01 5.22929444e-02 2.05759373e-02 1.91154409e-02\n",
      "  9.76965273e-02 2.95942873e-03 1.87706514e-04 2.64627679e-03\n",
      "  2.26175698e-03 1.31256740e-04 2.13438027e-01 1.42038569e-02]\n",
      " [4.61949674e+00 8.99523901e+00 4.31646535e+00 7.10395018e-02\n",
      "  3.39393738e+00 4.77379509e-01 1.48330825e-01 1.59366766e-01\n",
      "  3.01285047e+00 2.04105276e-02 7.63257397e-03 4.39864820e-02\n",
      "  3.68452922e-01 9.21727798e-04 1.72909105e+00 1.38369898e-01]\n",
      " [1.18578232e-02 1.14557490e-02 9.51974206e-01 5.37582662e-03\n",
      "  1.02093979e-02 1.84011215e-02 2.48370708e-02 2.52523993e-02\n",
      "  4.58322734e-03 2.09274701e-03 3.08537960e-04 2.06838026e-03\n",
      "  7.66122634e-04 8.18802801e-05 1.01277579e-02 1.50747199e-02]\n",
      " [2.53670676e-03 4.86051398e-03 2.33526882e-03 4.86404408e-02\n",
      "  1.83971333e-03 2.05402204e-03 5.71532585e-03 6.14717385e-03\n",
      "  6.23703517e-04 5.11505529e-02 1.06021734e-03 4.91522586e-02\n",
      "  4.57873240e-04 4.43271021e-04 9.10617520e-04 8.10307262e-05]\n",
      " [1.46724964e-01 2.39669346e-02 4.79348996e-01 6.70027139e-03\n",
      "  3.98032318e-01 5.81680174e-02 2.19276088e-02 2.12321935e-02\n",
      "  7.02242637e-02 2.79425011e-03 2.02756747e-04 4.67361731e-03\n",
      "  1.82867200e-03 1.04312713e-04 1.56420779e-01 1.83716519e-02]\n",
      " [6.20305172e-04 7.67057758e-04 1.09780003e-02 3.10701915e-04\n",
      "  7.46466065e-04 2.41899020e-03 1.59709140e-03 2.24312676e-03\n",
      "  3.06808795e-04 1.06272181e-04 1.92624908e-05 1.40224408e-04\n",
      "  9.12608935e-05 2.96561311e-05 4.05967654e-04 3.64063310e-04]\n",
      " [1.59748388e-02 6.96940757e-02 1.74964401e-02 2.93518675e-02\n",
      "  2.00759713e-02 9.11267115e-03 3.99940386e-01 3.42999863e-02\n",
      "  1.06050159e-02 8.75647264e-03 4.62571056e-03 1.00026830e-02\n",
      "  5.36407635e-03 2.43941472e-04 5.83759302e-03 5.39485163e-04]\n",
      " [1.45449915e-03 3.93015802e-03 1.52927184e-03 1.09828809e-03\n",
      "  1.29284365e-03 1.36974227e-03 7.11825909e-03 4.30128999e-02\n",
      "  7.14024097e-04 4.85229320e-04 7.81644390e-05 2.92053646e-04\n",
      "  3.74593848e-04 2.85187961e-04 1.38016279e-03 6.64055623e-05]\n",
      " [7.23132280e-02 6.49181175e-03 2.22810237e-01 1.75058887e-03\n",
      "  3.21757021e-02 2.73126272e-02 7.06183464e-03 8.65395766e-03\n",
      "  3.33217254e-01 7.11284995e-04 5.15978487e-05 6.75173710e-04\n",
      "  6.95544611e-04 7.75337520e-05 1.49599841e-01 2.00475996e-02]\n",
      " [1.55564520e-04 5.77876515e-04 3.67153151e-04 7.64200851e-04\n",
      "  1.07243692e-04 2.47451490e-04 7.62012017e-04 8.74769325e-04\n",
      "  8.62014243e-05 4.63698809e-02 8.11016285e-05 5.37014002e-04\n",
      "  5.22896906e-05 2.67453402e-07 3.57422969e-05 8.41942896e-06]\n",
      " [5.43515256e-04 1.09570865e-03 8.59747465e-04 5.48190801e-03\n",
      "  5.40901948e-04 2.16850398e-04 2.97654515e-04 8.81311001e-04\n",
      "  1.93031243e-04 5.17254994e-03 6.26805341e-01 1.53993050e-02\n",
      "  2.18632314e-04 8.97056924e-04 3.60382035e-05 7.37899056e-05]\n",
      " [1.21875649e-03 2.15776410e-03 1.68092077e-03 3.30404683e-03\n",
      "  6.95121600e-04 1.81636221e-03 1.39785685e-03 4.41242510e-03\n",
      "  4.33548224e-04 1.46226730e-02 7.87391516e-05 6.40884598e-02\n",
      "  2.50047963e-04 4.63837036e-06 9.53947770e-04 5.79513466e-05]\n",
      " [3.98945727e-02 1.11522235e-01 4.24214543e-02 3.99243346e-04\n",
      "  3.55692075e-02 6.18184680e-03 6.25260507e-04 1.09227775e-03\n",
      "  3.25056259e-02 7.14375211e-05 3.36118924e-05 2.59750403e-04\n",
      "  7.87651667e-02 2.63781842e-05 1.45751408e-02 6.58453409e-03]\n",
      " [4.33986689e-07 1.52204991e-06 7.43759379e-08 3.44747627e-08\n",
      "  1.16878893e-07 1.14165115e-07 2.00477850e-07 5.99638850e-06\n",
      "  1.52647582e-07 7.54101156e-10 1.87635229e-08 1.36660464e-09\n",
      "  1.70617603e-07 1.02917330e-02 6.31487663e-05 4.04039920e-10]\n",
      " [1.08162871e-02 1.91090092e-03 3.95568991e-02 3.17576567e-04\n",
      "  1.23194865e-03 9.74933230e-03 2.31156826e-03 2.44701890e-03\n",
      "  1.47408836e-03 1.87233878e-04 1.65720682e-05 1.51514072e-04\n",
      "  1.42873773e-04 3.47615200e-06 4.97990167e-01 8.51865720e-04]\n",
      " [1.64146337e-05 1.54223682e-05 1.19345094e-04 4.46579133e-06\n",
      "  1.18461802e-05 2.10022880e-05 4.19495007e-05 3.47470181e-05\n",
      "  8.78687534e-06 7.80960257e-07 2.45700539e-07 8.83465488e-06\n",
      "  1.05446387e-06 5.40260716e-08 7.24069369e-06 3.02440527e-03]] [[110.12036298   8.83737757  83.41432341   6.62097065  32.55336268\n",
      "   35.21767317   3.9493339   13.03122694  48.03464814  10.53826928\n",
      "    2.61941073   9.05731553  10.79226941   9.13785953  99.32337573\n",
      "   72.75105848]\n",
      " [ 95.2259918   61.4848898   86.98063672   8.38073728  68.04090051\n",
      "   40.82315421   3.64065603  13.45397429 101.81707342   8.60964289\n",
      "    5.89798369  12.28525019  54.70619954  10.08761732 113.50953075\n",
      "   93.1427724 ]\n",
      " [  9.92815716   4.53487765  80.99120075   5.50712335   7.72455593\n",
      "   17.31430743   3.48842681  12.62263924   7.63998789   6.99959907\n",
      "    2.58911539   6.23228432   4.92685658   7.3708518   19.85591997\n",
      "   61.63359969]\n",
      " [  9.49524564   5.82543279   8.96062941  18.94505614   6.59113639\n",
      "   10.84567413   3.1996308    9.17467035   6.35382846  49.329237\n",
      "    7.35284344  40.87158662   6.3368604   34.20229814  13.10072537\n",
      "    8.52423765]\n",
      " [ 44.22395863   7.92912653  78.70877142   6.88292573  54.20342599\n",
      "   39.04352619   3.87273407  13.10327253  38.75582782   8.18703317\n",
      "    2.59427325  10.12040744   9.10984784  12.34738018  88.26644665\n",
      "   72.76545369]\n",
      " [  8.22230712   4.48178499  34.81853543   5.14853461   7.99983051\n",
      "   17.05892274   3.29073121  13.60566075   7.23118531   5.85585066\n",
      "    2.60381759   5.95904324   6.22615882  26.17789609  13.77181546\n",
      "   23.64741301]\n",
      " [  2.74913701   2.3939253    2.5705332    2.29609728   2.56045296\n",
      "    2.7482547    2.48277014   2.4733395    2.89966774   2.23922698\n",
      "    2.0567749    2.28892822   2.44241973   3.57710087   3.53470017\n",
      "    2.81358924]\n",
      " [  6.49902778   4.77987648   6.17056182   3.65954296   4.99058714\n",
      "    8.0628743    3.02776756  18.66958521   6.05129906   4.64355491\n",
      "    2.6126551    3.27055839   5.23245339  33.96655881  13.39538514\n",
      "    7.84729176]\n",
      " [ 55.47256513   7.7266945  100.5799076    6.71919352  31.94983393\n",
      "   46.71010873   4.06777131  16.07392968 131.03283932   8.20953271\n",
      "    2.32330988   7.88096465  10.43957092  15.32978839 144.96668186\n",
      "  175.83307134]\n",
      " [  7.72674712   5.91222474  10.72901136   8.60971906   4.79868103\n",
      "   13.73049355   3.3669101   10.69554756   7.17384001  82.36746488\n",
      "    6.6154657   11.17646574   6.09336426   3.15990918   8.48541339\n",
      "    8.03011595]\n",
      " [ 20.65964225  11.79824654  23.68319187  38.79661789  15.30714667\n",
      "   14.40112117   3.26950538  15.88221066  14.23737544  80.76729717\n",
      "  306.51610915 106.4836559   16.93531878 256.54090821  10.25651115\n",
      "   43.05472998]\n",
      " [ 16.7625359    9.98386491  20.27374446  17.27585802  10.65533255\n",
      "   28.56642578   4.21209449  20.62291133  12.4177801   69.91075772\n",
      "    4.53029881  99.03127222  11.29822232   9.25640652  38.88288378\n",
      "   28.2529491 ]\n",
      " [150.05512706 129.87378129 158.49402199  11.26648444 120.2631345\n",
      "   84.42312287   4.38000909  18.91650354 180.34602836   8.79329284\n",
      "    7.43324132  15.34931776 276.75538527  62.48347788 183.53007483\n",
      "  346.04904056]\n",
      " [ 14.56816838  13.87891752   9.47586103   6.60744278   7.13891526\n",
      "   14.8544935    2.6999443   80.25116399  10.64685258   1.62448165\n",
      "    7.22338655   2.06361501  41.10741615 600.01872141 501.4020815\n",
      "    1.30545795]\n",
      " [ 35.78541867   7.52369299  72.85560974   5.18376845   9.77711558\n",
      "   47.62843472   4.05297087  15.32605031  15.78184128   8.92013383\n",
      "    2.79238316   7.87620593   8.07295837   6.42046819 329.5261353\n",
      "   70.54068297]\n",
      " [ 11.61213859   5.52866263  30.70788172   5.09121487   7.4079379\n",
      "   15.96903207   4.97823827  17.31872802  11.18076009   3.8815817\n",
      "    2.11280695  14.86771425   5.11130771   7.58522133  17.98675595\n",
      "  140.79065684]]\n"
     ]
    },
    {
     "data": {
      "image/png": "[encoded data removed]",
      "text/plain": [
       "<Figure size 432x288 with 1 Axes>"
      ]
     },
     "metadata": {
      "needs_background": "light"
     },
     "output_type": "display_data"
    },
    {
     "name": "stderr",
     "output_type": "stream",
     "text": [
      "\r",
      "  2%|████                                                                                                                                                                                                     | 2/100 [00:22<17:27, 10.68s/it]"
     ]
    },
    {
     "name": "stdout",
     "output_type": "stream",
     "text": [
      "[1.71481656e-02 8.99730711e-02 3.51833102e-02 4.19056431e-02\n",
      " 1.43150195e-02 9.89644692e-03 6.51216281e-01 3.69355315e-02\n",
      " 5.54698127e-03 1.23766515e-02 8.19152216e-03 1.12162422e-02\n",
      " 3.22269656e-03 6.66578972e-05 1.76883701e-03 3.25596409e-04] [[1.03742175e+01 9.10510144e-03 2.23357335e+00 5.78477262e-03\n",
      "  1.56817177e-01 1.74780415e-01 1.69877659e-02 5.25285474e-02\n",
      "  1.51735081e-01 7.73424403e-03 3.60824152e-05 3.06658446e-03\n",
      "  1.25793263e-03 1.75324976e-04 8.16037391e-01 4.00846519e-02]\n",
      " [3.36502809e+01 7.59898021e+01 3.85862252e+01 2.50504951e-01\n",
      "  2.47551020e+01 3.55564677e+00 2.65476484e-01 9.16236175e-01\n",
      "  2.49454457e+01 7.46126721e-02 1.20628865e-02 2.08864664e-01\n",
      "  3.07520053e+00 2.76936818e-03 1.18925577e+01 1.15979492e+00]\n",
      " [3.92351748e-03 2.36793102e-03 8.72648877e+00 4.73613139e-03\n",
      "  2.50425190e-03 2.27014548e-02 1.83253773e-02 7.30389700e-02\n",
      "  8.74815792e-04 2.69417619e-03 7.48188732e-05 1.53141958e-03\n",
      "  1.57904439e-04 4.65349137e-05 2.98256984e-03 3.50202468e-02]\n",
      " [1.89268687e-03 1.61341500e-03 7.70221237e-04 5.64387319e-01\n",
      "  5.08752991e-04 2.71645019e-03 1.41696125e-03 1.19092032e-02\n",
      "  9.20937227e-05 1.41859909e+00 1.09222665e-03 1.17122855e+00\n",
      "  2.30398398e-04 1.14650705e-03 7.09995791e-04 1.08210797e-04]\n",
      " [2.35866071e-01 6.59370223e-03 1.93454381e+00 8.36207712e-03\n",
      "  3.25659067e+00 2.05439145e-01 1.74137385e-02 5.85501935e-02\n",
      "  6.40229908e-02 4.68229528e-03 4.06997696e-05 9.02817400e-03\n",
      "  7.22344440e-04 2.50145471e-04 3.98196017e-01 6.03242781e-02]\n",
      " [6.41223811e-05 4.62940238e-05 1.00966540e-02 6.34295851e-05\n",
      "  6.35875739e-05 4.29389276e-03 2.63282414e-04 3.39806881e-03\n",
      "  2.38993270e-05 2.18614395e-05 1.15758030e-06 2.38809123e-05\n",
      "  1.25935624e-05 2.21331075e-04 6.58696727e-05 4.54627727e-04]\n",
      " [9.96691701e-03 4.64855396e-02 9.31842733e-03 2.91386716e-02\n",
      "  1.26005742e-02 7.76278483e-03 4.85821338e-01 3.35257515e-02\n",
      "  7.07974600e-03 6.92176921e-03 3.59086572e-03 7.64052143e-03\n",
      "  4.06254776e-03 1.66828375e-04 3.38788740e-03 3.90975574e-04]\n",
      " [3.60740347e-04 7.90784711e-04 1.89996480e-04 2.99773461e-04\n",
      "  1.85291118e-04 8.32746984e-04 1.90413579e-03 5.45125950e-01\n",
      "  1.20448798e-04 1.52251357e-04 9.53814872e-06 4.51967416e-05\n",
      "  1.19681184e-04 2.62695459e-03 1.21503284e-03 3.96765598e-05]\n",
      " [1.26183380e-01 9.06636855e-04 8.51315827e-01 1.06744208e-03\n",
      "  2.91358985e-02 1.25679388e-01 3.53080402e-03 2.39924621e-02\n",
      "  3.70710482e+00 5.88588541e-04 5.22944683e-06 3.23591925e-04\n",
      "  2.13755921e-04 3.58083669e-04 5.83856721e-01 1.03465514e-01]\n",
      " [1.85627167e-05 6.61373618e-05 6.89296471e-05 5.47751135e-04\n",
      "  5.11748217e-06 2.07113457e-04 7.18558363e-05 7.75316897e-04\n",
      "  5.51685484e-06 1.70758191e+00 2.00330502e-05 3.43280672e-04\n",
      "  8.02754602e-06 5.81575054e-09 9.66842749e-07 1.01461321e-06]\n",
      " [5.98423994e-04 3.48747709e-04 8.53381419e-04 1.20395515e-01\n",
      "  2.73476546e-04 1.39117224e-04 1.87074770e-05 1.42058250e-03\n",
      "  4.84887185e-05 9.13403513e-02 1.87124821e+01 4.48474093e-01\n",
      "  3.42558560e-04 8.05669690e-03 3.84952412e-06 1.73924988e-04]\n",
      " [7.83500956e-04 7.20329315e-04 1.06849652e-03 1.36923451e-02\n",
      "  1.30267292e-04 8.86283200e-03 2.48530848e-04 2.37412545e-02\n",
      "  8.18618923e-05 3.34231184e-01 1.40045812e-05 2.88908041e+00\n",
      "  1.59146218e-04 2.22555349e-06 1.53143350e-03 2.83123964e-04]\n",
      " [5.50877542e-02 2.42862454e+00 8.28236586e-02 2.24875041e-04\n",
      "  1.36980959e-01 2.57366521e-02 9.86024606e-05 1.23078218e-03\n",
      "  1.18627753e-01 1.90750416e-05 8.25199936e-06 1.45560606e-04\n",
      "  3.47721064e+00 2.15918130e-04 3.76296350e-02 3.73370643e-02]\n",
      " [3.73919624e-09 1.31250553e-08 2.36919841e-11 7.75748503e-11\n",
      "  1.02674536e-10 1.89281719e-09 3.19493416e-10 1.75427099e-06\n",
      "  6.84371101e-10 3.30062961e-13 9.15763514e-11 4.25912020e-13\n",
      "  4.97064908e-09 6.93517414e-01 8.59823524e-04 2.64216587e-13]\n",
      " [3.51668568e-03 1.66469187e-04 5.88878544e-02 6.18875665e-05\n",
      "  8.97192510e-05 8.25386269e-02 6.96224971e-04 3.62621418e-03\n",
      "  2.13300038e-04 9.58880577e-05 9.40252164e-07 3.34630491e-05\n",
      "  2.76705497e-05 5.22339515e-07 7.30908885e+00 1.58621660e-03]\n",
      " [2.19174430e-07 9.87853409e-08 5.11607991e-06 1.11066036e-07\n",
      "  9.17314490e-08 2.89043252e-06 2.00259894e-06 5.25732725e-06\n",
      "  9.57821409e-08 1.13417036e-08 1.45048365e-09 1.93736948e-06\n",
      "  7.72406154e-09 7.43395465e-10 8.45175793e-08 2.59539949e-02]] [[9.70198456e+02 1.42555332e+01 6.10287640e+02 1.73090904e+01\n",
      "  1.20730337e+02 1.90604307e+02 8.85997475e+00 6.13722566e+01\n",
      "  2.03149694e+02 5.47565866e+01 2.89229438e+00 3.10574909e+01\n",
      "  2.25663769e+01 1.83706519e+01 6.53648587e+02 4.17003522e+02]\n",
      " [6.11457221e+02 4.54774970e+02 6.33411192e+02 2.49397625e+01\n",
      "  4.27147809e+02 2.40774552e+02 7.27876970e+00 5.97067418e+01\n",
      "  7.33123769e+02 3.07290374e+01 1.21846559e+01 5.22113722e+01\n",
      "  3.94324919e+02 2.74895348e+01 6.57501904e+02 6.14684927e+02]\n",
      " [1.36875345e+01 4.80057511e+00 7.46269981e+02 1.21873556e+01\n",
      "  9.06134021e+00 4.81231343e+01 6.74740758e+00 5.65809592e+01\n",
      "  7.88981502e+00 2.34179594e+01 2.81860365e+00 1.47791263e+01\n",
      "  5.08030918e+00 1.24397935e+01 2.83122268e+01 2.09985142e+02]\n",
      " [2.92287769e+01 1.15457478e+01 1.95553185e+01 1.52533202e+02\n",
      "  1.17990177e+01 3.57606211e+01 5.15744000e+00 3.93627995e+01\n",
      "  8.79940402e+00 6.64505963e+02 2.10321923e+01 5.43619548e+02\n",
      "  1.37177271e+01 9.37132976e+01 4.42639883e+01 3.06054635e+01]\n",
      " [1.68635426e+02 1.08928841e+01 5.56088157e+02 1.92069167e+01\n",
      "  4.32878379e+02 2.24856544e+02 8.47970452e+00 6.14197211e+01\n",
      "  1.19526641e+02 3.08321394e+01 2.86255275e+00 4.14871965e+01\n",
      "  1.54328283e+01 6.19456414e+01 4.31117332e+02 3.77178697e+02]\n",
      " [1.24785756e+01 5.08865690e+00 1.78020924e+02 1.08163765e+01\n",
      "  1.09118089e+01 7.63551066e+01 5.88512406e+00 8.60666454e+01\n",
      "  8.74827239e+00 1.43447468e+01 2.84278921e+00 1.27735229e+01\n",
      "  1.02925511e+01 5.02647889e+02 2.59824555e+01 1.04440151e+02]\n",
      " [2.80996420e+00 2.36888508e+00 2.54663196e+00 2.41162794e+00\n",
      "  2.48126064e+00 2.88864647e+00 2.91153107e+00 2.61612746e+00\n",
      "  2.98475150e+00 2.34511732e+00 2.06482543e+00 2.38059579e+00\n",
      "  2.45816458e+00 3.43486485e+00 3.69607840e+00 3.00342550e+00]\n",
      " [1.06365363e+01 6.96696992e+00 7.85588230e+00 5.39113024e+00\n",
      "  5.96189161e+00 1.78667105e+01 4.68373884e+00 1.87122764e+02\n",
      "  8.28872142e+00 8.62771409e+00 2.96131890e+00 4.19244645e+00\n",
      "  8.58804099e+00 2.33134070e+02 4.43449078e+01 2.00040737e+01]\n",
      " [3.08007402e+02 1.05042980e+01 9.20436873e+02 1.81203228e+01\n",
      "  1.33205377e+02 4.14481243e+02 9.55476831e+00 1.05284459e+02\n",
      "  1.15395453e+03 3.11542350e+01 2.36380305e+00 2.28162170e+01\n",
      "  2.06669106e+01 1.10572491e+02 1.01096833e+03 1.04229703e+03]\n",
      " [1.73095322e+01 1.17559044e+01 3.07877339e+01 3.53732863e+01\n",
      "  6.16562786e+00 7.41227881e+01 5.73490336e+00 5.27568468e+01\n",
      "  1.05025385e+01 1.32552049e+03 1.67385518e+01 4.18048746e+01\n",
      "  1.28300944e+01 3.30828160e+00 9.66741024e+00 1.68860199e+01]\n",
      " [1.71167189e+02 4.34448303e+01 1.77309419e+02 9.51881368e+02\n",
      "  7.80398511e+01 6.49396172e+01 5.49718859e+00 1.20576294e+02\n",
      "  4.95129373e+01 1.31877989e+03 5.55329786e+03 1.69274980e+03\n",
      "  1.27787186e+02 1.01432168e+03 2.53619856e+01 2.69419043e+02]\n",
      " [6.68085758e+01 3.08117532e+01 9.03014585e+01 1.54732833e+02\n",
      "  2.50563257e+01 2.57427207e+02 9.32950790e+00 2.10245955e+02\n",
      "  2.97732618e+01 1.04353480e+03 8.78589349e+00 1.72424302e+03\n",
      "  4.21609294e+01 2.30206666e+01 3.39701530e+02 5.10039201e+02]\n",
      " [6.72510161e+02 3.99281653e+03 1.43451967e+03 5.38926868e+01\n",
      "  1.19433653e+03 9.22000384e+02 1.09492216e+01 1.41742778e+02\n",
      "  2.22571137e+03 3.42614282e+01 2.57850689e+01 8.31724769e+01\n",
      "  5.42662990e+03 1.23502963e+03 1.73921053e+03 2.30879394e+03]\n",
      " [3.12353294e+01 4.83184831e+01 1.27701515e+01 1.54921015e+01\n",
      "  7.21973424e+00 1.15055769e+02 4.09963025e+00 8.10221863e+02\n",
      "  2.46266337e+01 1.53553980e+00 2.52645474e+01 1.85198975e+00\n",
      "  1.75601017e+02 1.47669368e+04 9.38055455e+03 9.74314710e-01]\n",
      " [1.02015310e+02 1.06391113e+01 4.90935767e+02 1.03789293e+01\n",
      "  1.14824696e+01 7.26243428e+02 9.68898011e+00 9.67324279e+01\n",
      "  2.75622331e+01 3.81541125e+01 3.09003352e+00 2.10897471e+01\n",
      "  1.57010468e+01 1.37676334e+01 3.08723662e+03 5.65011547e+02]\n",
      " [1.84111938e+01 5.88783305e+00 7.78649144e+01 1.10923189e+01\n",
      "  7.84344416e+00 8.08831999e+01 1.42096243e+01 1.01100646e+02\n",
      "  1.44921184e+01 7.80615959e+00 2.07106853e+00 1.13636716e+02\n",
      "  5.41720019e+00 1.05977243e+01 2.36200028e+01 1.25625481e+03]]\n"
     ]
    },
    {
     "data": {
      "image/png": "[encoded data removed]",
      "text/plain": [
       "<Figure size 432x288 with 1 Axes>"
      ]
     },
     "metadata": {
      "needs_background": "light"
     },
     "output_type": "display_data"
    },
    {
     "name": "stderr",
     "output_type": "stream",
     "text": [
      "\r",
      "  3%|██████                                                                                                                                                                                                   | 3/100 [00:30<15:35,  9.64s/it]"
     ]
    },
    {
     "name": "stdout",
     "output_type": "stream",
     "text": [
      "[2.05307685e-02 1.06038658e-01 4.09110566e-02 3.56916983e-02\n",
      " 1.61931210e-02 1.08546189e-02 6.87749955e-01 3.24839544e-02\n",
      " 6.40048253e-03 9.70944953e-03 8.73351359e-03 8.74361689e-03\n",
      " 3.25033888e-03 5.55459809e-05 2.17161254e-03 3.49464052e-04] [[6.39043114e+01 9.78178171e-03 4.36467425e+00 6.51341757e-03\n",
      "  1.73669911e-01 5.01479459e-01 2.49007859e-02 1.85210943e-01\n",
      "  2.11421156e-01 3.86603566e-02 7.36970156e-06 3.51517539e-03\n",
      "  2.04236971e-03 1.46764849e-04 2.13112446e+00 8.52878086e-02]\n",
      " [9.16435471e+01 3.69807808e+02 1.00242867e+02 8.05649333e-01\n",
      "  8.63654777e+01 1.25129836e+01 7.07827941e-01 3.85093755e+00\n",
      "  7.29292702e+01 1.91032643e-01 2.96010103e-02 6.29967150e-01\n",
      "  1.13363816e+01 8.51851953e-03 2.94679181e+01 3.15814935e+00]\n",
      " [3.94655507e-03 1.38283377e-03 5.67035594e+01 4.33278735e-03\n",
      "  1.73369231e-03 3.38466466e-02 2.02392196e-02 2.62901318e-01\n",
      "  4.76322640e-04 4.07936898e-03 2.16169229e-05 1.31065039e-03\n",
      "  6.19838331e-05 1.22925714e-05 3.12179304e-03 5.18697908e-02]\n",
      " [5.19568134e-03 1.55968828e-03 7.18711436e-04 7.98526460e+00\n",
      "  4.16653987e-04 1.26128920e-02 4.45926822e-04 6.25521189e-02\n",
      "  2.92819635e-05 7.56856229e+00 5.61204137e-03 1.03481078e+01\n",
      "  4.03233029e-04 2.01116748e-03 3.15392031e-03 9.95879070e-04]\n",
      " [4.15572921e-01 5.57504286e-03 3.70737993e+00 1.48229669e-02\n",
      "  2.44906222e+01 6.10227368e-01 2.53838080e-02 1.92104403e-01\n",
      "  5.87074825e-02 1.07181739e-02 9.25270482e-06 2.10453405e-02\n",
      "  7.42119362e-04 1.38995378e-03 6.19569764e-01 1.41995718e-01]\n",
      " [1.98212400e-05 7.12063331e-06 3.94582289e-02 1.31823521e-05\n",
      "  1.36497912e-05 3.95223638e-02 5.90060394e-05 1.85515343e-02\n",
      "  4.67689097e-06 4.36433128e-06 8.00909687e-08 4.47850303e-06\n",
      "  4.32013905e-06 5.99303187e-03 3.68407365e-05 4.17137107e-03]\n",
      " [1.09655515e-02 4.75437916e-02 7.96289068e-03 2.21764432e-02\n",
      "  1.25815618e-02 7.90724349e-03 5.53989989e-01 2.68665506e-02\n",
      "  7.81262204e-03 4.25194246e-03 3.35894923e-03 4.49247565e-03\n",
      "  4.24645510e-03 1.22767641e-04 4.13302041e-03 4.73620190e-04]\n",
      " [2.46539964e-04 3.66057582e-04 5.30098899e-05 6.52722629e-05\n",
      "  5.50181879e-05 1.23815723e-03 5.99185885e-04 1.00103689e+01\n",
      "  5.11407120e-05 3.86124794e-05 1.46202627e-06 5.83898922e-06\n",
      "  9.74902044e-05 2.87133602e-02 5.57373241e-03 8.42828260e-05]\n",
      " [5.03490194e-01 3.83660541e-04 1.35770417e+00 8.08788618e-04\n",
      "  5.41377947e-02 5.87441419e-01 3.54414392e-03 1.25791969e-01\n",
      "  3.83669869e+01 5.61999169e-04 5.95242860e-07 1.65517652e-04\n",
      "  2.45887216e-04 5.27208032e-03 1.24319294e+00 1.89906882e-01]\n",
      " [7.37646336e-06 2.07629576e-05 5.20072822e-05 9.45215197e-04\n",
      "  4.79904399e-07 1.36070076e-03 9.12994033e-06 1.78451885e-03\n",
      "  8.79331749e-07 1.72257907e+01 1.95497721e-05 5.10056054e-04\n",
      "  4.88855697e-06 1.25877617e-10 7.58614823e-08 3.50183160e-07]\n",
      " [5.14117234e-03 4.41793922e-04 8.56548344e-03 3.72303461e+00\n",
      "  1.07799012e-03 4.36728099e-04 1.54118222e-06 8.42856704e-03\n",
      "  6.58759284e-05 2.83253926e-01 9.33536554e+01 2.62641200e+00\n",
      "  3.49318652e-03 1.04918702e-02 1.22429287e-06 2.03132830e-03]\n",
      " [1.94100870e-03 8.85632005e-04 4.37364204e-03 2.32478530e-01\n",
      "  7.06204575e-05 9.46975983e-02 8.90746372e-05 2.75732209e-01\n",
      "  5.49632579e-05 1.62270978e+00 6.70954770e-06 2.20413325e+01\n",
      "  9.49883513e-04 1.53542506e-06 1.11350294e-02 7.98282875e-03]\n",
      " [2.67853880e-01 4.60323773e+01 8.05147519e-02 2.89053901e-04\n",
      "  1.00692730e+00 8.64867937e-02 3.31676830e-05 1.78814307e-03\n",
      "  3.07857883e-01 4.82932110e-06 1.06461526e-05 6.84860612e-05\n",
      "  3.41020872e+01 6.84844618e-04 9.79866516e-02 3.99090791e-02]\n",
      " [7.16013817e-11 3.67986706e-10 1.95350653e-14 1.61313838e-13\n",
      "  1.80536809e-13 1.32655428e-09 6.06273605e-13 9.48784898e-07\n",
      "  4.92529682e-12 2.79576332e-16 7.27670703e-13 7.15717827e-17\n",
      "  2.06242003e-10 1.24322502e+00 7.01923845e-03 2.63267879e-16]\n",
      " [2.50375884e-03 4.60498063e-05 1.02648257e-01 8.71688705e-06\n",
      "  1.70015627e-05 9.06202487e-01 4.09516870e-04 1.24690002e-02\n",
      "  9.00479760e-05 4.99275937e-05 5.64454080e-08 4.55791102e-06\n",
      "  1.57718751e-05 2.49567613e-07 1.00224635e+02 1.25225385e-02]\n",
      " [6.28374932e-09 1.78967458e-09 4.08243061e-07 2.72160172e-09\n",
      "  1.77550088e-09 1.38783011e-06 2.38507705e-07 1.12816025e-06\n",
      "  2.35710047e-09 1.55083661e-10 8.91759052e-12 1.35934126e-06\n",
      "  1.02307801e-10 3.35151875e-12 3.24722141e-09 4.44910348e-01]] [[4.74500382e+03 2.67496214e+01 1.72858750e+03 4.76540115e+01\n",
      "  2.11623780e+02 7.05848649e+02 2.62023312e+01 3.14263972e+02\n",
      "  4.62734933e+02 3.87926281e+02 2.90305690e+00 1.09765079e+02\n",
      "  6.01827010e+01 2.38668614e+01 2.44623129e+03 1.62377009e+03]\n",
      " [1.75712308e+03 2.24762957e+03 1.63498847e+03 7.79909358e+01\n",
      "  1.53842136e+03 8.21673946e+02 1.82174754e+01 2.34941129e+02\n",
      "  2.19840825e+03 1.04294224e+02 3.01748590e+01 1.97270405e+02\n",
      "  1.56650884e+03 8.32500574e+01 1.70494419e+03 1.57608922e+03]\n",
      " [2.16303651e+01 6.59679809e+00 4.10846361e+03 2.87072266e+01\n",
      "  1.23965243e+01 1.07016859e+02 1.62859481e+01 2.88099208e+02\n",
      "  1.03574727e+01 9.23810894e+01 2.91956854e+00 3.85151133e+01\n",
      "  5.89203756e+00 1.26116379e+01 4.01592086e+01 3.92031009e+02]\n",
      " [9.50267986e+01 2.91797489e+01 5.05936996e+01 1.00870434e+03\n",
      "  2.71435987e+01 1.75571866e+02 9.61829317e+00 2.46952263e+02\n",
      "  1.39282775e+01 2.26614778e+03 1.15428970e+02 3.05987678e+03\n",
      "  4.37630675e+01 1.94225842e+02 1.68513288e+02 2.38604140e+02]\n",
      " [3.84490466e+02 1.81696153e+01 1.63837271e+03 6.87205501e+01\n",
      "  2.51122235e+03 9.15899639e+02 2.55388128e+01 3.02690191e+02\n",
      "  2.00956894e+02 1.49198437e+02 2.94879113e+00 1.98477044e+02\n",
      "  3.29206831e+01 4.42212023e+02 1.15872736e+03 1.31990095e+03]\n",
      " [2.21749371e+01 7.23200718e+00 9.59913802e+02 2.46411474e+01\n",
      "  1.65379827e+01 5.66679372e+02 1.26195938e+01 8.94480481e+02\n",
      "  1.28355103e+01 3.51795705e+01 2.93929360e+00 3.03473571e+01\n",
      "  2.11824573e+01 5.56424463e+03 5.21788115e+01 1.02599153e+03]\n",
      " [3.05820100e+00 2.47911200e+00 2.69173864e+00 2.46128158e+00\n",
      "  2.51646941e+00 3.14499931e+00 3.42224485e+00 2.68601503e+00\n",
      "  3.23549241e+00 2.30722266e+00 2.07057945e+00 2.35498876e+00\n",
      "  2.50676384e+00 3.05615940e+00 4.20517167e+00 3.33828081e+00]\n",
      " [1.99021893e+01 1.20908635e+01 1.16499052e+01 7.70219027e+00\n",
      "  8.14052576e+00 5.36864303e+01 8.06550686e+00 1.52357807e+03\n",
      "  1.37479068e+01 1.50958836e+01 3.34303284e+00 5.47035678e+00\n",
      "  1.88359362e+01 1.39845493e+03 1.44037607e+02 6.90187103e+01]\n",
      " [1.53284095e+03 1.73687532e+01 2.56932606e+03 5.75460312e+01\n",
      "  4.22546871e+02 2.10307964e+03 3.19659297e+01 7.82117595e+02\n",
      "  8.55168434e+03 1.45027423e+02 2.22476217e+00 6.86086196e+01\n",
      "  6.41727733e+01 1.10519201e+03 3.11486122e+03 2.36443665e+03]\n",
      " [4.76724536e+01 2.94572694e+01 1.16609267e+02 1.95060630e+02\n",
      "  8.80470166e+00 7.74078992e+02 1.16135789e+01 3.18284443e+02\n",
      "  1.80841972e+01 7.56343569e+03 6.58975169e+01 2.05652326e+02\n",
      "  4.86783795e+01 3.17340339e+00 1.23862968e+01 4.89459883e+01]\n",
      " [1.31662008e+03 1.81361301e+02 1.78513203e+03 5.99293208e+03\n",
      "  5.87330437e+02 4.58074154e+02 1.07864858e+01 1.00802640e+03\n",
      "  2.56980979e+02 2.76723280e+03 2.71217562e+04 5.54899089e+03\n",
      "  8.56669098e+02 1.14542029e+03 6.17468577e+01 1.62271448e+03]\n",
      " [2.46878444e+02 1.10295817e+02 5.65600947e+02 1.68913502e+03\n",
      "  6.53302676e+01 1.08945290e+03 2.93204106e+01 1.23644473e+03\n",
      "  9.33312963e+01 3.00194282e+03 2.59595709e+01 7.09476454e+03\n",
      "  3.52772697e+02 5.03768666e+01 1.58988796e+03 4.78762245e+03]\n",
      " [4.59198751e+03 2.80039554e+04 3.20102778e+03 3.28330321e+02\n",
      "  5.24964598e+03 2.24832396e+03 3.95891165e+01 7.75715723e+02\n",
      "  5.77762283e+03 1.27731265e+02 1.79164281e+02 3.82745780e+02\n",
      "  2.73232452e+04 2.33887560e+03 5.13767944e+03 2.99565756e+03]\n",
      " [5.79866586e+01 1.64806894e+02 1.86613974e+01 3.48458104e+01\n",
      "  7.34431196e+00 6.15105379e+03 7.12719779e+00 3.14924654e+03\n",
      "  4.06521022e+01 1.73867156e+00 5.77826071e+01 1.25290229e+00\n",
      "  3.34328626e+02 2.38160826e+04 1.08612174e+04 8.66063487e-01]\n",
      " [2.20151055e+02 1.87085947e+01 1.76014207e+03 1.78517644e+01\n",
      "  1.47614245e+01 3.99237340e+03 3.16742317e+01 7.84842304e+02\n",
      "  4.67563298e+01 1.63054372e+02 3.11079649e+00 4.21988569e+01\n",
      "  3.86105077e+01 1.23543197e+02 2.51385803e+04 4.24966351e+03]\n",
      " [2.76002461e+01 8.09760174e+00 1.71588065e+02 2.69579402e+01\n",
      "  9.91154748e+00 4.62836198e+02 5.92142092e+01 5.90431082e+02\n",
      "  2.04345974e+01 1.76386360e+01 1.82924717e+00 1.04298091e+03\n",
      "  6.57826507e+00 7.90716039e+00 2.99005726e+01 1.16488132e+04]]\n"
     ]
    },
    {
     "data": {
      "image/png": "[encoded data removed]",
      "text/plain": [
       "<Figure size 432x288 with 1 Axes>"
      ]
     },
     "metadata": {
      "needs_background": "light"
     },
     "output_type": "display_data"
    },
    {
     "name": "stderr",
     "output_type": "stream",
     "text": [
      "\r",
      "  4%|████████                                                                                                                                                                                                 | 4/100 [00:39<15:05,  9.43s/it]"
     ]
    },
    {
     "name": "stdout",
     "output_type": "stream",
     "text": [
      "[2.23831469e-02 1.19634237e-01 4.56006733e-02 3.46353491e-02\n",
      " 1.82009338e-02 1.10146816e-02 7.05589064e-01 3.19333906e-02\n",
      " 7.10367041e-03 1.03073170e-02 8.83600275e-03 9.66450502e-03\n",
      " 3.35495478e-03 5.48388799e-05 2.35493277e-03 3.27020227e-04] [[2.69195132e+02 2.93769942e-02 4.65405841e+00 1.14968071e-02\n",
      "  2.22619249e-01 1.17055932e+00 6.04863852e-02 5.28521737e-01\n",
      "  3.66031277e-01 2.83072915e-01 1.51381431e-06 1.65775142e-02\n",
      "  1.00253242e-02 7.82491152e-05 3.90487930e+00 1.29381393e-01]\n",
      " [1.35591640e+02 1.13625194e+03 1.12485983e+02 1.82922221e+00\n",
      "  1.49990344e+02 2.15705583e+01 2.41059314e+00 7.37346764e+00\n",
      "  1.05053873e+02 4.61514615e-01 9.74275570e-02 1.32882628e+00\n",
      "  2.44738633e+01 1.88399398e-02 3.32879760e+01 3.84631405e+00]\n",
      " [6.89067380e-03 1.83078230e-03 3.34620339e+02 5.80736754e-03\n",
      "  2.48279011e-03 6.26516729e-02 3.12864526e-02 7.36271782e-01\n",
      "  5.25948351e-04 2.48746092e-02 6.48417415e-06 3.21959917e-03\n",
      "  4.13591351e-05 2.83239232e-06 5.77157170e-03 8.78626237e-02]\n",
      " [2.78728220e-02 3.80637835e-03 1.65133260e-03 3.06894740e+01\n",
      "  7.54264608e-04 1.11153670e-01 1.98637310e-04 3.87584202e-01\n",
      "  1.50782220e-05 9.86587536e+00 1.15631744e-01 2.58493617e+01\n",
      "  2.65332234e-03 1.41819024e-03 2.17845563e-02 2.05537821e-02]\n",
      " [8.97003112e-01 1.29864860e-02 4.25199946e+00 5.47750912e-02\n",
      "  1.36959105e+02 1.18398829e+00 7.20203120e-02 4.45907278e-01\n",
      "  8.47548235e-02 6.42650372e-02 2.13585430e-06 1.27468147e-01\n",
      "  2.53528523e-03 1.08476112e-02 9.39210498e-01 2.14092876e-01]\n",
      " [9.75333583e-06 2.37257213e-06 3.72937371e-01 4.27462299e-06\n",
      "  6.14782205e-06 4.91930253e-01 1.69933967e-05 2.34108356e-01\n",
      "  1.65257260e-06 2.08800452e-06 5.49976262e-09 2.54631888e-06\n",
      "  3.64469616e-06 4.71739700e-02 3.78732066e-05 7.11467105e-02]\n",
      " [1.24946470e-02 5.43770049e-02 8.09240619e-03 1.88342810e-02\n",
      "  1.39668419e-02 8.45496659e-03 6.02337265e-01 2.38210382e-02\n",
      "  9.54512746e-03 3.75442849e-03 3.19669020e-03 4.14005319e-03\n",
      "  4.83099979e-03 1.18951869e-04 5.37330068e-03 5.23651831e-04]\n",
      " [2.77367329e-04 3.45816176e-04 3.14475802e-05 1.80931032e-05\n",
      "  2.65879843e-05 4.18229898e-03 2.23031852e-04 4.98611099e+01\n",
      "  3.80846516e-05 2.07190941e-05 2.43493163e-07 1.43634929e-06\n",
      "  2.39900842e-04 1.04065727e-01 2.71484312e-02 4.31086842e-04]\n",
      " [2.77336709e+00 4.69396892e-04 1.10559727e+00 1.32254208e-03\n",
      "  2.58431250e-01 1.06763842e+00 7.22950432e-03 4.79608999e-01\n",
      "  3.32237584e+02 1.65055299e-03 7.07507316e-08 2.18433886e-04\n",
      "  1.13659173e-03 3.10750772e-02 1.82807054e+00 1.66311955e-01]\n",
      " [5.85187538e-06 1.62140254e-05 1.18305526e-04 6.34179741e-03\n",
      "  6.87391329e-08 2.16545648e-02 1.80809590e-06 7.03976381e-03\n",
      "  2.15721232e-07 4.98831648e+01 3.71906921e-05 5.02627255e-03\n",
      "  1.49150550e-05 5.58887191e-12 9.02370519e-09 1.45365891e-07]\n",
      " [8.45969539e-02 1.82749311e-03 1.18780732e-01 9.03499035e+00\n",
      "  1.83984064e-02 3.03139101e-03 1.85741907e-07 3.21050938e-02\n",
      "  6.24364364e-04 2.79130774e-01 1.76852062e+02 2.95906271e+00\n",
      "  2.70087118e-02 4.43084790e-03 4.99982852e-07 7.02262000e-03]\n",
      " [1.27130867e-02 2.66934919e-03 3.49677641e-02 4.19716681e+00\n",
      "  8.11172914e-05 3.13264218e-01 8.19551048e-05 9.86244985e-01\n",
      "  8.74679881e-05 1.88887908e+00 1.02186693e-05 4.27273631e+01\n",
      "  2.33830542e-02 1.77880605e-06 5.04048108e-02 2.10134700e-02]\n",
      " [6.21985287e-01 1.40551826e+02 7.05585899e-02 1.06853901e-03\n",
      "  1.68094758e+00 1.03503270e-01 2.25149518e-05 1.74155782e-03\n",
      "  4.89567350e-01 2.14667100e-06 9.15934599e-05 4.72625273e-05\n",
      "  1.17857869e+02 4.80298103e-04 1.19301513e-01 3.26153457e-02]\n",
      " [2.24590001e-12 2.07335547e-11 4.23732613e-17 2.73958834e-16\n",
      "  6.85229942e-16 1.13441346e-08 1.45662446e-15 4.36811733e-07\n",
      "  3.57539854e-14 3.44886791e-19 2.43813533e-15 2.42833042e-20\n",
      "  1.01620435e-11 1.47933158e+00 2.53644673e-02 2.57649497e-19]\n",
      " [3.27762015e-03 3.97709039e-05 2.22762708e-01 9.55538170e-07\n",
      "  7.28657953e-06 2.07263076e+00 4.27284377e-04 6.67444733e-02\n",
      "  7.17952348e-05 6.82845935e-05 3.62218362e-09 9.47272181e-07\n",
      "  2.99487347e-05 3.16838891e-07 9.85976325e+02 2.56231888e-02]\n",
      " [2.83334887e-10 8.13493947e-11 6.13282287e-08 1.02932530e-10\n",
      "  7.28749691e-11 9.50882807e-07 5.34364615e-08 3.37722233e-07\n",
      "  1.66732145e-10 3.76266951e-12 5.97736377e-14 1.05945183e-05\n",
      "  4.79879304e-12 9.82389468e-15 1.74313790e-10 2.93174061e+00]] [[1.37228164e+04 6.19899034e+01 2.33288920e+03 1.46418468e+02\n",
      "  2.62645766e+02 1.63731149e+03 9.29779962e+01 9.87696052e+02\n",
      "  8.09604822e+02 1.57181977e+03 2.79640157e+00 6.07753690e+02\n",
      "  1.83571037e+02 2.19565405e+01 5.05360700e+03 2.72806483e+03]\n",
      " [2.99125828e+03 7.07657501e+03 2.08330194e+03 1.97743773e+02\n",
      "  2.90046679e+03 1.45594291e+03 5.13295533e+01 5.17930237e+02\n",
      "  3.52062630e+03 2.72247258e+02 9.35520540e+01 4.75987266e+02\n",
      "  3.67681123e+03 1.94354698e+02 2.40611586e+03 1.95459606e+03]\n",
      " [3.93857240e+01 1.26836398e+01 1.54981971e+04 7.07797794e+01\n",
      "  2.11312424e+01 1.71132753e+02 4.59600934e+01 9.12373869e+02\n",
      "  1.80273271e+01 5.86159063e+02 2.98377797e+00 1.14237031e+02\n",
      "  8.75200945e+00 9.34007390e+00 6.49460837e+01 6.71638774e+02]\n",
      " [2.96897778e+02 8.88902572e+01 1.49983416e+02 3.06889031e+03\n",
      "  7.41699631e+01 6.97349261e+02 2.12555281e+01 7.80454922e+02\n",
      "  2.56784163e+01 3.09508656e+03 8.09704409e+02 6.87490425e+03\n",
      "  2.10830297e+02 2.15496506e+02 5.25183113e+02 1.74100864e+03]\n",
      " [7.50866829e+02 4.11094423e+01 2.35085438e+03 2.93405490e+02\n",
      "  1.02247608e+04 1.82092972e+03 1.02251936e+02 8.46542356e+02\n",
      "  2.74030631e+02 7.41652976e+02 2.94372667e+00 9.84458198e+02\n",
      "  1.01166098e+02 2.40027167e+03 2.24611518e+03 1.99203899e+03]\n",
      " [4.14571625e+01 1.41148258e+01 3.97014240e+03 5.99793136e+01\n",
      "  3.06433942e+01 2.41898731e+03 3.06613583e+01 4.69971006e+03\n",
      "  2.34936117e+01 9.69452209e+01 2.93496855e+00 8.58283235e+01\n",
      "  5.85141436e+01 1.05663790e+04 1.12244839e+02 8.06701629e+03]\n",
      " [3.42998677e+00 2.73921528e+00 3.01990239e+00 2.50172293e+00\n",
      "  2.65879090e+00 3.56481934e+00 3.97204089e+00 2.74088345e+00\n",
      "  3.68676323e+00 2.30360460e+00 2.08807876e+00 2.39263883e+00\n",
      "  2.63418624e+00 2.81072140e+00 5.09577607e+00 3.64255741e+00]\n",
      " [4.04717943e+01 2.67974967e+01 2.20502949e+01 1.13939218e+01\n",
      "  1.37106653e+01 1.70200264e+02 1.50846941e+01 5.08066599e+03\n",
      "  2.72642449e+01 3.14157780e+01 3.80435109e+00 7.87102125e+00\n",
      "  6.42347065e+01 3.81343148e+03 2.98228297e+02 2.87064605e+02]\n",
      " [6.57555007e+03 4.00956188e+01 3.19332208e+03 2.41501495e+02\n",
      "  1.45243212e+03 3.43782788e+03 1.38006938e+02 2.45244017e+03\n",
      "  4.42171862e+04 8.10193246e+02 2.07796269e+00 2.15087176e+02\n",
      "  2.30670008e+02 3.10823488e+03 5.96073497e+03 2.69482659e+03]\n",
      " [1.35218002e+02 8.96639849e+01 4.54928471e+02 1.06055864e+03\n",
      "  1.50994782e+01 3.93469930e+03 2.88408279e+01 1.17376075e+03\n",
      "  3.38293766e+01 1.92187166e+04 2.24839495e+02 1.28730280e+03\n",
      "  3.04597378e+02 3.67375961e+00 1.96899153e+01 1.37529955e+02]\n",
      " [5.13201682e+03 8.28663921e+02 5.37431495e+03 8.13639776e+03\n",
      "  3.44152839e+03 1.99607358e+03 2.51660476e+01 1.94909093e+03\n",
      "  2.35250542e+03 2.91280877e+03 5.24865463e+04 6.75456304e+03\n",
      "  1.81283326e+03 9.23700591e+02 1.69275437e+02 2.41305722e+03]\n",
      " [1.04412519e+03 3.55567106e+02 1.73180211e+03 8.36632273e+03\n",
      "  1.78091083e+02 1.67789598e+03 1.25842204e+02 1.97514526e+03\n",
      "  2.88180620e+02 3.59257399e+03 1.17176836e+02 1.35508315e+04\n",
      "  2.17898551e+03 1.11269399e+02 2.95886878e+03 6.17945961e+03]\n",
      " [8.35173748e+03 6.11602307e+04 4.68736832e+03 1.90706923e+03\n",
      "  5.82594595e+03 2.52548209e+03 1.76376882e+02 1.74924519e+03\n",
      "  8.20552603e+03 3.95820032e+02 1.90034784e+03 1.37591126e+03\n",
      "  7.23299757e+04 2.62954101e+03 5.90285679e+03 3.11696560e+03]\n",
      " [1.23924237e+02 4.66813608e+02 2.90392349e+01 4.76473233e+01\n",
      "  9.48730957e+00 1.12202044e+05 1.46583072e+01 5.50739152e+03\n",
      "  5.66099180e+01 1.96190438e+00 6.99331979e+01 9.19787613e-01\n",
      "  5.11440735e+02 2.93819436e+04 1.11141205e+04 8.43347222e-01]\n",
      " [4.24828388e+02 4.52977276e+01 3.83913063e+03 2.17191620e+01\n",
      "  2.44168553e+01 5.87415504e+03 1.21087034e+02 3.04868662e+03\n",
      "  7.67975745e+01 8.10200751e+02 3.09265173e+00 6.68578718e+01\n",
      "  1.40046857e+02 1.13437908e+03 1.30805830e+05 5.44225474e+03]\n",
      " [4.54547783e+01 1.60793578e+01 3.11160220e+02 7.80641363e+01\n",
      "  1.63707940e+01 1.22980039e+03 2.39690864e+02 2.95369349e+03\n",
      "  4.30061993e+01 3.87147698e+01 1.63502297e+00 1.11278257e+04\n",
      "  1.46274285e+01 3.53228047e+00 4.12756833e+01 3.37163606e+04]]\n"
     ]
    },
    {
     "data": {
      "image/png": "[encoded data removed]",
      "text/plain": [
       "<Figure size 432x288 with 1 Axes>"
      ]
     },
     "metadata": {
      "needs_background": "light"
     },
     "output_type": "display_data"
    },
    {
     "name": "stderr",
     "output_type": "stream",
     "text": [
      "\r",
      "  5%|██████████                                                                                                                                                                                               | 5/100 [00:48<14:27,  9.13s/it]"
     ]
    },
    {
     "name": "stdout",
     "output_type": "stream",
     "text": [
      "[2.28077174e-02 1.27554413e-01 4.82835287e-02 3.67970173e-02\n",
      " 1.92562547e-02 1.08629419e-02 7.23221449e-01 3.34217390e-02\n",
      " 7.45216707e-03 1.10217429e-02 8.44251727e-03 1.05370200e-02\n",
      " 3.16301933e-03 5.71983955e-05 2.35306407e-03 3.11428674e-04] [[7.89170341e+02 1.78476718e-01 3.95932307e+00 5.15740993e-02\n",
      "  3.50649148e-01 1.91954924e+00 1.63031119e-01 9.27660550e-01\n",
      "  6.44096442e-01 7.38525292e-01 3.30288643e-07 1.19936384e-01\n",
      "  5.32413284e-02 4.90378761e-05 5.37766344e+00 1.46708651e-01]\n",
      " [1.41455736e+02 2.46318023e+03 8.51832515e+01 3.10861452e+00\n",
      "  1.64427040e+02 2.50828093e+01 7.34025377e+00 9.17761237e+00\n",
      "  9.47091025e+01 9.15907495e-01 3.65179700e-01 2.10725538e+00\n",
      "  3.90173776e+01 5.24806639e-02 2.65813547e+01 3.83951490e+00]\n",
      " [1.71043070e-02 5.25079607e-03 1.82934721e+03 1.69508169e-02\n",
      "  5.40476583e-03 1.03832305e-01 5.77209864e-02 1.54420990e+00\n",
      "  1.05178492e-03 2.49099119e-01 1.72813545e-06 1.52322944e-02\n",
      "  4.19460432e-05 2.73873558e-06 1.06295850e-02 1.62568763e-01]\n",
      " [1.70635590e-01 2.01875905e-02 6.93578989e-03 5.56159953e+01\n",
      "  2.46195229e-03 4.13746304e-01 1.53108791e-04 1.09770260e+00\n",
      "  1.20170263e-05 9.60711936e+00 1.04862231e+00 3.75478722e+01\n",
      "  2.66544794e-02 6.77995731e-04 9.37406722e-02 6.25272819e-02]\n",
      " [1.65398466e+00 6.93094678e-02 3.79729632e+00 3.07840422e-01\n",
      "  5.39166052e+02 1.60669530e+00 2.57094034e-01 6.73932382e-01\n",
      "  1.30474264e-01 2.59512387e-01 5.21918459e-07 6.07015508e-01\n",
      "  1.38238689e-02 2.27251795e-02 1.62559136e+00 2.87763076e-01]\n",
      " [6.53442094e-06 1.67045381e-06 1.92406049e+00 3.54549276e-06\n",
      "  4.02000340e-06 1.68500816e+00 5.83709779e-06 1.33169957e+00\n",
      "  1.03429148e-06 2.86374553e-06 3.71349590e-10 4.23077665e-06\n",
      "  5.89489072e-06 1.03540577e-01 5.68960509e-05 4.35313024e-01]\n",
      " [1.40091604e-02 6.33267683e-02 8.68911326e-03 1.89839966e-02\n",
      "  1.51447594e-02 9.08270320e-03 6.39491629e-01 2.38659973e-02\n",
      "  1.16113430e-02 3.62458714e-03 2.95923714e-03 4.23672715e-03\n",
      "  5.13981385e-03 1.33048214e-04 6.48158278e-03 5.39901807e-04]\n",
      " [4.37360154e-04 6.73031172e-04 2.91221640e-05 8.22983395e-06\n",
      "  2.00469136e-05 1.96669665e-02 1.04131174e-04 1.04965554e+02\n",
      "  4.35749063e-05 2.59697479e-05 4.06764745e-08 5.99235020e-07\n",
      "  1.68715535e-03 1.13975794e-01 6.40611014e-02 2.37983041e-03]\n",
      " [9.63845965e+00 1.45796821e-03 7.51043610e-01 9.46677293e-03\n",
      "  1.53533070e+00 1.18024162e+00 1.58864171e-02 7.76140217e-01\n",
      "  2.60009582e+03 6.31595075e-03 9.00925765e-09 1.08687950e-03\n",
      "  8.13508366e-03 4.51626205e-02 2.19019980e+00 1.30745036e-01]\n",
      " [6.55791637e-06 2.69120791e-05 5.32981263e-04 9.23786168e-02\n",
      "  1.51454034e-08 2.17785050e-01 6.56323474e-07 2.83401178e-02\n",
      "  6.91844649e-08 1.00593569e+02 5.17936636e-05 8.97122045e-02\n",
      "  4.21618917e-05 3.37354521e-13 1.26495755e-09 8.78643897e-08]\n",
      " [6.32998590e-01 1.49699368e-02 4.33122440e-01 9.04756207e+00\n",
      "  4.40702452e-01 1.98072265e-02 3.90340997e-08 6.88136189e-02\n",
      "  7.63087709e-03 2.48687291e-01 2.42044037e+02 2.66428247e+00\n",
      "  6.98282599e-02 1.92298433e-03 1.58347052e-07 6.23497289e-03]\n",
      " [1.18301407e-01 1.70543253e-02 1.42802159e-01 1.76264136e+01\n",
      "  1.90852756e-04 3.65580921e-01 1.40253388e-04 1.19376134e+00\n",
      "  2.92480463e-04 1.71016653e+00 2.85813435e-05 5.81239373e+01\n",
      "  2.09235817e-01 6.41256495e-06 1.03370685e-01 1.22021309e-02]\n",
      " [7.83905037e-01 1.82785063e+02 6.37222835e-02 6.18979967e-03\n",
      "  1.75425764e+00 9.07349251e-02 1.28380817e-05 1.39308653e-03\n",
      "  5.34607755e-01 9.68661195e-07 6.35951280e-03 3.55487796e-05\n",
      "  2.61010694e+02 1.32174854e-04 1.07728247e-01 2.37094896e-02]\n",
      " [1.16193091e-13 3.49120594e-12 2.58498669e-19 6.45189064e-19\n",
      "  3.32995703e-18 2.43496465e-08 4.67672234e-18 2.38915265e-07\n",
      "  2.25264969e-16 4.59206271e-22 2.60296631e-18 1.04203691e-23\n",
      "  8.19971696e-13 1.59474594e+00 3.46443230e-02 2.54338581e-22]\n",
      " [5.61026426e-03 7.63840881e-05 3.18288961e-01 1.39750197e-07\n",
      "  3.98116485e-06 2.48576631e+00 4.31604840e-04 1.79838771e-01\n",
      "  7.14462438e-05 2.12151935e-04 2.67982726e-10 3.14137044e-07\n",
      "  1.39723778e-04 3.36543570e-07 4.53739092e+03 2.89244053e-02]\n",
      " [2.07146750e-11 9.30826450e-12 1.17821332e-08 7.88055446e-12\n",
      "  4.04827853e-12 3.26402440e-07 9.74564869e-09 1.11390468e-07\n",
      "  3.38951065e-11 1.88486631e-13 4.20734263e-16 1.07518580e-04\n",
      "  6.00383192e-13 9.31625734e-17 6.76936222e-12 1.09368414e+01]] [[2.88437905e+04 1.54177725e+02 2.49392439e+03 5.57708672e+02\n",
      "  3.23186375e+02 2.38754751e+03 2.80808231e+02 1.64907681e+03\n",
      "  1.24932627e+03 2.45862678e+03 2.74447327e+00 1.98782715e+03\n",
      "  3.93059893e+02 1.95441510e+01 6.85667900e+03 3.11211225e+03]\n",
      " [3.82924088e+03 1.56360947e+04 2.13739462e+03 3.55483264e+02\n",
      "  3.66942111e+03 1.74710290e+03 1.33785582e+02 7.47636450e+02\n",
      "  4.07251905e+03 5.21881259e+02 3.40266812e+02 7.68084900e+02\n",
      "  6.14706345e+03 6.07308647e+02 2.55343710e+03 2.03208601e+03]\n",
      " [7.48050899e+01 3.23070400e+01 5.07832625e+04 2.06514498e+02\n",
      "  3.94698808e+01 2.31788349e+02 1.33524122e+02 1.76239993e+03\n",
      "  3.75294521e+01 2.62420226e+03 2.95807724e+00 3.36426727e+02\n",
      "  1.68647978e+01 1.02157482e+01 9.49658609e+01 1.15036634e+03]\n",
      " [7.77683371e+02 2.72032094e+02 4.12706236e+02 5.64364759e+03\n",
      "  1.93388035e+02 1.18980565e+03 5.84402849e+01 1.22774074e+03\n",
      "  5.44293795e+01 3.34080553e+03 2.66307124e+03 9.96193475e+03\n",
      "  6.79023715e+02 1.71512247e+02 1.12299712e+03 2.34247358e+03]\n",
      " [1.15083777e+03 1.09317836e+02 2.49666101e+03 9.67795743e+02\n",
      "  2.75345108e+04 2.43310338e+03 3.39693974e+02 1.33597249e+03\n",
      "  3.32788011e+02 1.71898252e+03 2.99460388e+00 2.81811234e+03\n",
      "  2.54570648e+02 3.13606431e+03 3.82460742e+03 2.58663197e+03]\n",
      " [7.63142691e+01 3.58946467e+01 9.05398813e+03 1.84609876e+02\n",
      "  5.74804962e+01 4.29446766e+03 7.84057131e+01 7.89643151e+03\n",
      "  5.18980838e+01 3.89091659e+02 2.89905158e+00 3.07996312e+02\n",
      "  1.77669812e+02 1.30397681e+04 2.46811104e+02 1.94630639e+04]\n",
      " [3.90222894e+00 3.11284236e+00 3.50956946e+00 2.61337227e+00\n",
      "  2.84546222e+00 4.08094372e+00 4.54723723e+00 2.85209590e+00\n",
      "  4.27195760e+00 2.36306872e+00 2.10816159e+00 2.51059194e+00\n",
      "  2.78793192e+00 2.71967194e+00 6.22130681e+00 3.80991017e+00]\n",
      " [8.11420541e+01 7.15856496e+01 4.34518549e+01 1.90190610e+01\n",
      "  2.79042752e+01 4.22330629e+02 3.06130771e+01 9.47506428e+03\n",
      "  5.77112938e+01 8.72028831e+01 4.28425405e+00 1.37645754e+01\n",
      "  2.71675018e+02 3.99381801e+03 4.18661759e+02 6.61653423e+02]\n",
      " [1.72624343e+04 1.11905884e+02 3.21153946e+03 1.52939148e+03\n",
      "  4.91801546e+03 3.83950443e+03 4.16784309e+02 3.51006362e+03\n",
      "  1.88992474e+05 2.38077841e+03 2.02952736e+00 1.08067299e+03\n",
      "  6.20675239e+02 3.54212383e+03 8.19319711e+03 2.73350361e+03]\n",
      " [3.39200333e+02 2.61976031e+02 1.47705145e+03 3.46148596e+03\n",
      "  3.12495951e+01 9.56767697e+03 8.60925235e+01 2.52138325e+03\n",
      "  6.44973312e+01 3.81712363e+04 4.37556510e+02 4.17353600e+03\n",
      "  7.32471379e+02 4.96461317e+00 3.54608079e+01 4.65884581e+02]\n",
      " [1.18152748e+04 2.48152787e+03 7.69116635e+03 8.60715097e+03\n",
      "  1.17785960e+04 4.15091717e+03 7.18416244e+01 2.52525628e+03\n",
      "  5.66198062e+03 2.88818951e+03 7.35138278e+04 6.73320819e+03\n",
      "  2.41523288e+03 6.65634178e+02 3.55019711e+02 2.00080291e+03]\n",
      " [3.42953854e+03 1.07243190e+03 2.33880864e+03 1.97560014e+04\n",
      "  5.26172825e+02 1.82268442e+03 4.24079769e+02 2.06448488e+03\n",
      "  8.29460770e+02 3.65188392e+03 4.62638911e+02 1.96688625e+04\n",
      "  4.21209004e+03 4.95109981e+02 4.53685050e+03 5.95788285e+03]\n",
      " [1.05986913e+04 8.13636292e+04 6.00969720e+03 4.71589145e+03\n",
      "  5.71741462e+03 2.74107288e+03 4.75257013e+02 3.07930329e+03\n",
      "  9.15423401e+03 7.44984342e+02 2.00707021e+04 3.15990465e+03\n",
      "  1.47653006e+05 2.75436368e+03 5.29342574e+03 2.89636092e+03]\n",
      " [2.83773993e+02 1.62057400e+03 6.11037763e+01 6.65142639e+01\n",
      "  1.31332539e+01 1.67739908e+05 3.33896298e+01 9.22864251e+03\n",
      "  7.04481648e+01 2.24211890e+00 6.46967146e+01 7.14474903e-01\n",
      "  1.12675055e+03 3.23004428e+04 1.04996609e+04 8.41413692e-01]\n",
      " [7.47079479e+02 1.18479766e+02 4.91330415e+03 2.40807814e+01\n",
      "  3.92091832e+01 6.48506800e+03 3.31691987e+02 4.15290096e+03\n",
      "  1.12590937e+02 2.99997067e+03 3.20494093e+00 1.05461019e+02\n",
      "  5.19817910e+02 3.18540532e+03 4.17713708e+05 6.13989359e+03]\n",
      " [8.29070002e+01 4.36727828e+01 5.11110087e+02 2.30901267e+02\n",
      "  2.79483386e+01 1.36308616e+03 5.77084645e+02 7.77022283e+03\n",
      "  1.17553332e+02 9.87243010e+01 1.52466784e+00 2.48828526e+04\n",
      "  5.28828713e+01 2.29588373e+00 4.88810177e+01 7.63799358e+04]]\n"
     ]
    },
    {
     "data": {
      "image/png": "[encoded data removed]",
      "text/plain": [
       "<Figure size 432x288 with 1 Axes>"
      ]
     },
     "metadata": {
      "needs_background": "light"
     },
     "output_type": "display_data"
    },
    {
     "name": "stderr",
     "output_type": "stream",
     "text": [
      "\r",
      "  6%|████████████                                                                                                                                                                                             | 6/100 [00:58<14:33,  9.29s/it]"
     ]
    },
    {
     "name": "stdout",
     "output_type": "stream",
     "text": [
      "[2.28483199e-02 1.28355359e-01 4.97031102e-02 3.83387035e-02\n",
      " 1.98690075e-02 1.08923545e-02 7.48727102e-01 3.50692855e-02\n",
      " 7.59615493e-03 1.16473764e-02 8.51557443e-03 1.09545358e-02\n",
      " 2.84484444e-03 5.55748810e-05 2.42562177e-03 3.13982174e-04] [[1.58882391e+03 1.12209101e+00 3.54115676e+00 3.22642943e-01\n",
      "  5.51169606e-01 2.48643646e+00 3.35487831e-01 1.12467348e+00\n",
      "  1.12084750e+00 9.38372109e-01 8.48271115e-08 4.23818318e-01\n",
      "  1.68625634e-01 5.60430046e-05 7.21225938e+00 1.42660421e-01]\n",
      " [1.26466395e+02 4.27578386e+03 5.81200231e+01 4.15835350e+00\n",
      "  1.44347749e+02 2.59889550e+01 1.34973580e+01 9.85391289e+00\n",
      "  7.16592872e+01 1.34957453e+00 9.60411256e-01 2.70175695e+00\n",
      "  5.23619460e+01 1.30034882e-01 2.40185203e+01 3.67259340e+00]\n",
      " [4.81365035e-02 2.40840525e-02 5.82603451e+03 8.21131181e-02\n",
      "  1.43727094e-02 1.51453932e-01 9.80532496e-02 2.52665693e+00\n",
      "  2.88261711e-03 1.05306744e+00 5.59312427e-07 5.78366984e-02\n",
      "  7.18743872e-05 4.10315183e-06 1.63439845e-02 4.12475325e-01]\n",
      " [5.52088371e-01 1.75479781e-01 3.62923999e-02 8.27319613e+01\n",
      "  1.30898861e-02 6.44928157e-01 2.54931118e-04 1.61758580e+00\n",
      "  1.69784196e-05 9.00398892e+00 1.81394483e+00 4.46713638e+01\n",
      "  1.59606458e-01 3.75170318e-04 2.14659070e-01 8.13239068e-02]\n",
      " [2.62386075e+00 4.84141987e-01 3.54332628e+00 1.08023346e+00\n",
      "  1.45970279e+03 1.84908421e+00 6.88223671e-01 7.80213227e-01\n",
      "  1.85046620e-01 4.61279384e-01 1.48215670e-07 1.53182484e+00\n",
      "  5.56196653e-02 1.99128920e-02 3.05947617e+00 3.41331697e-01]\n",
      " [5.87214163e-06 1.86434793e-06 4.62402717e+00 9.90483915e-06\n",
      "  3.28526673e-06 2.99687162e+00 2.40162067e-06 2.67585345e+00\n",
      "  1.01665191e-06 1.72464279e-05 2.86652658e-11 2.00046229e-05\n",
      "  1.56152239e-05 1.05780384e-01 1.40268941e-04 1.15998780e+00]\n",
      " [1.57436844e-02 7.04853803e-02 9.64440216e-03 2.03164107e-02\n",
      "  1.61963301e-02 9.94778666e-03 6.95336259e-01 2.49049561e-02\n",
      "  1.35956970e-02 3.65026742e-03 2.93670255e-03 4.48260653e-03\n",
      "  5.11004752e-03 1.44851639e-04 7.81491293e-03 5.63473424e-04]\n",
      " [9.16866862e-04 2.22622759e-03 3.61191668e-05 5.83493441e-06\n",
      "  2.31357931e-05 8.22355455e-02 7.83599516e-05 1.58727744e+02\n",
      "  7.14114585e-05 7.99508901e-05 7.52530604e-09 4.28139445e-07\n",
      "  2.18668236e-02 1.10146625e-01 9.00113345e-02 4.55949874e-03]\n",
      " [1.89883592e+01 7.10654643e-03 5.51928411e-01 1.56744059e-01\n",
      "  5.52575254e+00 1.15291547e+00 2.61205626e-02 8.34377562e-01\n",
      "  1.00580187e+04 1.49677593e-02 1.39958411e-09 3.00093447e-02\n",
      "  6.41716714e-02 3.79225355e-02 2.50915242e+00 9.91083191e-02]\n",
      " [6.99366972e-06 7.71877747e-05 3.39630864e-03 7.81257090e-01\n",
      "  5.99908548e-09 5.61050585e-01 4.24222524e-07 8.51469383e-02\n",
      "  2.80547437e-08 1.70344524e+02 7.47585014e-05 4.03696493e-01\n",
      "  6.52098199e-05 3.95123020e-14 2.03099270e-10 8.70171467e-07]\n",
      " [1.29904076e+00 1.61623238e-01 5.84080686e-01 8.46454313e+00\n",
      "  1.69957354e+00 8.04899341e-02 1.61691518e-08 1.00763417e-01\n",
      "  5.45100769e-02 2.18757845e-01 2.86008360e+02 2.46667491e+00\n",
      "  8.31112494e-02 1.38735716e-03 4.54569934e-08 5.16340235e-03]\n",
      " [4.66979741e-01 1.59703627e-01 2.72487916e-01 3.16371062e+01\n",
      "  9.27046443e-04 3.10533518e-01 3.23473153e-04 1.06389632e+00\n",
      "  1.91266668e-03 1.52486194e+00 2.86908613e-04 7.35868143e+01\n",
      "  3.12457596e-01 7.96489423e-05 1.30943648e-01 3.97463688e-03]\n",
      " [9.19621645e-01 1.93724879e+02 6.04021177e-02 2.56405436e-02\n",
      "  1.67532839e+00 8.05293732e-02 3.96555146e-06 1.19603215e-03\n",
      "  5.63344486e-01 3.54695088e-07 4.20070203e-01 1.21844238e-05\n",
      "  3.61522528e+02 1.79734162e-05 1.02104015e-01 1.96568301e-02]\n",
      " [7.61996259e-15 7.55480155e-13 2.45253901e-21 2.47020547e-21\n",
      "  1.79790147e-20 1.30073459e-08 1.89245711e-20 1.26839413e-07\n",
      "  1.09948633e-18 6.15412216e-25 1.00428658e-21 5.57648001e-27\n",
      "  7.97544240e-14 1.61226691e+00 3.11412759e-02 2.54607123e-25]\n",
      " [1.00738075e-02 2.02283527e-04 3.42880830e-01 2.85647710e-08\n",
      "  2.13430444e-06 2.54562224e+00 3.03854248e-04 2.73324875e-01\n",
      "  6.80517969e-05 9.10537856e-04 2.46073277e-11 1.73302654e-07\n",
      "  2.40893127e-03 1.93863277e-07 1.22409471e+04 2.87291170e-02]\n",
      " [2.10356019e-12 1.73244187e-12 3.35958879e-09 1.10403310e-12\n",
      "  2.45173546e-13 8.96410419e-08 1.30617547e-09 4.31085442e-08\n",
      "  1.27993380e-11 1.03780271e-14 3.20809829e-18 7.31253452e-04\n",
      "  1.53647434e-13 4.49044515e-18 2.02326094e-13 2.91896632e+01]] [[4.73039572e+04 3.43133433e+02 2.51005112e+03 1.74058187e+03\n",
      "  4.05009680e+02 2.81451062e+03 5.73428248e+02 1.96400550e+03\n",
      "  1.86926334e+03 2.73675966e+03 2.82255791e+00 3.73766472e+03\n",
      "  6.39301386e+02 2.31921746e+01 7.82083907e+03 3.18055778e+03]\n",
      " [4.20670633e+03 2.77118152e+04 2.00617746e+03 4.92132345e+02\n",
      "  3.88878851e+03 1.85400018e+03 2.35705393e+02 8.75577687e+02\n",
      "  4.04374707e+03 7.47442270e+02 8.91440042e+02 9.99152417e+02\n",
      "  8.51034132e+03 1.45909702e+03 2.55483659e+03 2.03901457e+03]\n",
      " [1.32345118e+02 8.35286087e+01 1.24169813e+05 5.99595024e+02\n",
      "  6.95127335e+01 2.96322627e+02 2.85700285e+02 2.47609563e+03\n",
      "  7.55238513e+01 5.45669840e+03 3.15728058e+00 6.63658780e+02\n",
      "  4.19829811e+01 1.39069467e+01 1.22202070e+02 2.49210262e+03]\n",
      " [1.44638051e+03 7.81661859e+02 8.96060633e+02 8.86924972e+03\n",
      "  4.73997149e+02 1.37267750e+03 1.89308507e+02 1.39324675e+03\n",
      "  1.38285419e+02 3.37037278e+03 3.93489288e+03 1.21561204e+04\n",
      "  1.57464963e+03 1.26990520e+02 1.79748414e+03 2.49486794e+03]\n",
      " [1.59595905e+03 2.72042920e+02 2.48060881e+03 1.99256765e+03\n",
      "  5.48637399e+04 2.78845285e+03 7.07006693e+02 1.56844462e+03\n",
      "  3.82180326e+02 2.21063658e+03 3.17842229e+00 5.03919651e+03\n",
      "  4.60688861e+02 3.28131622e+03 5.79751609e+03 2.99576725e+03]\n",
      " [1.39868105e+02 9.18522821e+01 1.47227577e+04 7.74717794e+02\n",
      "  1.01532487e+02 5.81984541e+03 1.80825248e+02 8.84962366e+03\n",
      "  1.19195646e+02 2.29873849e+03 2.96553185e+00 1.25326357e+03\n",
      "  5.04017026e+02 1.33863476e+04 5.55316813e+02 2.72400157e+04]\n",
      " [4.46567861e+00 3.53330868e+00 4.15314926e+00 2.81143188e+00\n",
      "  3.04844837e+00 4.65835008e+00 5.22095583e+00 3.00833224e+00\n",
      "  4.94254877e+00 2.47330838e+00 2.14010478e+00 2.69629224e+00\n",
      "  2.90044944e+00 2.73028701e+00 7.58483937e+00 3.92151867e+00]\n",
      " [1.58965876e+02 1.93620340e+02 8.10007561e+01 3.55242475e+01\n",
      "  6.04032995e+01 7.98407502e+02 7.32272369e+01 1.40120171e+04\n",
      "  1.21175119e+02 2.80816989e+02 4.91355127e+00 2.90033450e+01\n",
      "  1.05664069e+03 3.91414568e+03 4.79769242e+02 6.66592051e+02]\n",
      " [2.68562226e+04 3.04521229e+02 3.11201312e+03 6.69838008e+03\n",
      "  1.21369564e+04 3.92286974e+03 8.33769496e+02 3.86699557e+03\n",
      "  5.28257588e+05 3.50910539e+03 2.12514351e+00 8.84146153e+03\n",
      "  1.70965841e+03 3.55068720e+03 9.30251946e+03 2.63786519e+03]\n",
      " [6.28939401e+02 7.37715535e+02 3.76559537e+03 6.47602392e+03\n",
      "  7.59094009e+01 1.18659577e+04 2.41735016e+02 3.64065272e+03\n",
      "  1.22704230e+02 6.60612384e+04 5.79315426e+02 5.57051069e+03\n",
      "  1.11753172e+03 9.89371955e+00 6.42557816e+01 5.33270188e+03]\n",
      " [1.93253865e+04 5.98983246e+03 8.78385184e+03 8.73063237e+03\n",
      "  1.68974767e+04 6.16922970e+03 2.20450051e+02 2.73543514e+03\n",
      "  7.77020778e+03 2.77982446e+03 8.86097916e+04 6.53351761e+03\n",
      "  2.78099630e+03 5.50974091e+02 6.74203627e+02 1.79318542e+03]\n",
      " [6.23804474e+03 2.77353186e+03 2.37075773e+03 3.01410455e+04\n",
      "  1.57422705e+03 1.83205685e+03 1.00927138e+03 1.98469118e+03\n",
      "  2.51526946e+03 3.60415884e+03 2.36393205e+03 2.61455391e+04\n",
      "  4.52211299e+03 2.47281270e+03 5.64180036e+03 5.46452829e+03]\n",
      " [1.26119756e+04 9.16278087e+04 7.10846095e+03 6.01516770e+03\n",
      "  5.62711861e+03 2.97741084e+03 8.06812372e+02 5.39958444e+03\n",
      "  9.67744423e+03 1.00374271e+03 3.61383250e+04 3.69105541e+03\n",
      "  2.01998063e+05 2.76728872e+03 4.96587679e+03 2.78130737e+03]\n",
      " [5.23689853e+02 3.14834017e+03 1.19361869e+02 1.09917381e+02\n",
      "  1.87091461e+01 1.68035942e+05 6.80515905e+01 1.26776725e+04\n",
      "  7.79060866e+01 2.52609049e+00 4.40573263e+01 6.17093134e-01\n",
      "  1.97803741e+03 3.35963967e+04 9.69163002e+03 8.45716678e-01]\n",
      " [1.18468993e+03 2.93146529e+02 5.02828846e+03 2.81105308e+01\n",
      "  5.49871328e+01 6.73138910e+03 6.24646612e+02 4.31280806e+03\n",
      "  1.47047031e+02 5.38983897e+03 3.53223727e+00 1.77041311e+02\n",
      "  3.08465199e+03 5.34011367e+03 1.06140038e+06 6.49538695e+03]\n",
      " [1.56746313e+02 1.14831363e+02 9.87161421e+02 6.74591050e+02\n",
      "  4.17246329e+01 1.31071289e+03 1.06312403e+03 1.36638349e+04\n",
      "  3.23247220e+02 1.68944123e+02 1.43966177e+00 3.20588886e+04\n",
      "  1.65979396e+02 3.34042829e+00 5.38453980e+01 1.55044413e+05]]\n"
     ]
    },
    {
     "data": {
      "image/png": "[encoded data removed]",
      "text/plain": [
       "<Figure size 432x288 with 1 Axes>"
      ]
     },
     "metadata": {
      "needs_background": "light"
     },
     "output_type": "display_data"
    },
    {
     "name": "stderr",
     "output_type": "stream",
     "text": [
      "\r",
      "  7%|██████████████                                                                                                                                                                                           | 7/100 [01:06<14:12,  9.16s/it]"
     ]
    },
    {
     "name": "stdout",
     "output_type": "stream",
     "text": [
      "[2.28665883e-02 1.25016320e-01 5.03422624e-02 3.90676879e-02\n",
      " 2.02302343e-02 1.10264330e-02 7.75361012e-01 3.65735535e-02\n",
      " 7.69666263e-03 1.22025854e-02 8.65261526e-03 1.11805657e-02\n",
      " 2.63437916e-03 5.22773685e-05 2.56954378e-03 3.19915040e-04] [[2.31052890e+03 3.40703886e+00 3.84161549e+00 1.03602630e+00\n",
      "  8.07010030e-01 2.86118652e+00 5.70391109e-01 1.17282957e+00\n",
      "  2.08547111e+00 9.32810297e-01 2.63641795e-08 8.41883761e-01\n",
      "  3.16003615e-01 6.39754367e-05 9.46926542e+00 1.22300413e-01]\n",
      " [1.13167282e+02 6.75020094e+03 5.13707273e+01 4.76235045e+00\n",
      "  1.22344274e+02 2.61975321e+01 1.72736884e+01 9.99211991e+00\n",
      "  6.74987540e+01 1.62635138e+00 1.98932795e+00 3.00458822e+00\n",
      "  6.61646656e+01 1.63711259e-01 2.39738463e+01 3.41834920e+00]\n",
      " [1.17725629e-01 9.32538086e-02 1.13795548e+04 4.23387919e-01\n",
      "  3.54914299e-02 2.07998590e-01 1.53350001e-01 3.47351351e+00\n",
      "  8.90727342e-03 2.19297405e+00 2.11566817e-07 1.31885658e-01\n",
      "  2.31594246e-04 6.22191319e-06 2.16734547e-02 1.71956375e+00]\n",
      " [9.21258316e-01 1.17780328e+00 1.49545184e-01 1.13502217e+02\n",
      "  8.83219111e-02 7.20742382e-01 7.40014825e-04 1.84648951e+00\n",
      "  3.91943408e-05 8.61025698e+00 2.09156265e+00 4.82152438e+01\n",
      "  3.71134831e-01 2.43054893e-04 3.48434190e-01 8.31459258e-02]\n",
      " [4.09262810e+00 2.08182557e+00 3.97877397e+00 2.04118788e+00\n",
      "  2.47515684e+03 1.96851154e+00 1.38448678e+00 8.09451259e-01\n",
      "  2.47123363e-01 5.57108758e-01 4.66122396e-08 2.64182437e+00\n",
      "  1.33285113e-01 1.18350838e-02 5.13136775e+00 3.55256903e-01]\n",
      " [6.66409036e-06 2.05014178e-06 8.37645262e+00 1.00798588e-04\n",
      "  3.16734441e-06 4.14171962e+00 1.15250367e-06 3.43202821e+00\n",
      "  1.42910717e-06 2.28654977e-04 2.44516731e-12 3.31109183e-04\n",
      "  9.66343427e-05 8.56913867e-02 6.89693393e-04 2.19296743e+00]\n",
      " [1.77193491e-02 7.40047951e-02 1.10212481e-02 2.21034641e-02\n",
      "  1.71703797e-02 1.10202409e-02 7.87101595e-01 2.65003205e-02\n",
      "  1.57386529e-02 3.79753218e-03 2.91562174e-03 4.85882462e-03\n",
      "  5.01579911e-03 1.47319741e-04 9.36458158e-03 5.79623172e-04]\n",
      " [2.78758015e-03 9.39596483e-03 5.29055868e-05 6.85065884e-06\n",
      "  3.58068597e-05 2.00129553e-01 1.06870894e-04 2.18579706e+02\n",
      "  1.59615287e-04 4.96669723e-04 1.48372232e-09 5.05337110e-07\n",
      "  2.05947617e-01 1.09873488e-01 1.04537090e-01 5.12209861e-03]\n",
      " [2.82594962e+01 4.06201191e-02 5.01061877e-01 1.01489449e+00\n",
      "  1.21551731e+01 1.11158830e+00 3.71558927e-02 8.15581621e-01\n",
      "  2.43434323e+04 2.43399975e-02 2.41103772e-10 4.33991631e-01\n",
      "  2.60567920e-01 2.97496267e-02 2.73249960e+00 7.49709712e-02]\n",
      " [7.39008671e-06 2.53294648e-04 2.59854274e-02 1.58349822e+00\n",
      "  4.03350950e-09 7.55193878e-01 3.94417873e-07 1.87377464e-01\n",
      "  1.41697390e-08 2.57315149e+02 1.08136019e-04 5.76356763e-01\n",
      "  8.55902120e-05 8.59122801e-15 3.31683275e-11 1.29550348e-04]\n",
      " [1.84968917e+00 1.19585252e+00 6.41292775e-01 8.03613345e+00\n",
      "  2.09997047e+00 1.36733938e-01 1.01158751e-08 1.20844212e-01\n",
      "  1.48621145e-01 2.03643777e-01 3.08022097e+02 2.35765257e+00\n",
      "  7.69834379e-02 1.34553349e-03 1.72892953e-08 4.63846748e-03]\n",
      " [7.38118164e-01 9.85430599e-01 3.34915876e-01 3.85461118e+01\n",
      "  6.96139304e-03 2.56135018e-01 8.19659840e-04 9.39722047e-01\n",
      "  1.46605892e-02 1.40322892e+00 1.09160284e-02 8.73537109e+01\n",
      "  2.80210070e-01 4.23349493e-04 1.21745559e-01 1.06974120e-03]\n",
      " [1.01518413e+00 2.02848748e+02 6.00861385e-02 7.76191762e-02\n",
      "  1.60991832e+00 7.54405738e-02 8.12044084e-07 1.17825551e-03\n",
      "  5.74545967e-01 1.11215865e-07 3.60487592e+00 2.87440286e-06\n",
      "  4.07755469e+02 1.73406893e-06 9.88442131e-02 1.79222468e-02]\n",
      " [6.48998787e-16 1.35532306e-13 1.95702881e-23 1.34979768e-23\n",
      "  1.12170248e-22 4.36839762e-09 9.40362616e-23 5.46988014e-08\n",
      "  4.22370549e-21 8.15024622e-28 6.25734870e-25 3.22439956e-30\n",
      "  5.46167243e-15 1.58758129e+00 2.76489834e-02 2.49631562e-28]\n",
      " [2.03047060e-02 5.75693330e-04 3.65124935e-01 7.07781501e-09\n",
      "  1.06596326e-06 2.51922043e+00 1.82612569e-04 3.32777742e-01\n",
      "  6.03301003e-05 7.33041477e-03 2.82602909e-12 1.56604610e-07\n",
      "  6.16746145e-02 6.49569826e-08 2.90543648e+04 2.77489867e-02]\n",
      " [2.93074389e-13 2.55275367e-13 1.68238317e-09 3.27146720e-13\n",
      "  1.36075554e-14 2.40620629e-08 1.49556144e-10 1.42999809e-08\n",
      "  7.41083963e-12 5.13324360e-16 2.48165176e-20 3.28896810e-03\n",
      "  4.05713462e-14 2.77911556e-19 5.23331606e-15 5.66594373e+01]] [[6.26507995e+04 6.02416299e+02 2.56900025e+03 3.12730033e+03\n",
      "  5.13941637e+02 3.04747184e+03 9.16948794e+02 2.06188210e+03\n",
      "  2.93655334e+03 2.76790390e+03 3.22858711e+00 5.59822777e+03\n",
      "  8.79660981e+02 2.75307402e+01 8.33575350e+03 3.09219663e+03]\n",
      " [4.31482089e+03 4.47562267e+04 1.91086421e+03 5.83752822e+02\n",
      "  3.83071363e+03 1.89738957e+03 3.09705726e+02 9.28990837e+02\n",
      "  3.98646470e+03 8.96092972e+02 1.89392583e+03 1.13621209e+03\n",
      "  1.10134172e+04 1.69594893e+03 2.55633683e+03 2.01418606e+03]\n",
      " [2.04279499e+02 1.62285889e+02 2.34323518e+05 1.60521773e+03\n",
      "  1.03769450e+02 3.75540453e+02 4.70246762e+02 2.95804455e+03\n",
      "  1.30721976e+02 7.71007247e+03 3.65567769e+00 1.00190726e+03\n",
      "  1.13088745e+02 1.87886118e+01 1.47149068e+02 7.24834029e+03]\n",
      " [2.06068334e+03 1.67798114e+03 1.41659334e+03 1.26542665e+04\n",
      "  1.02881052e+03 1.42361429e+03 5.04499176e+02 1.42639252e+03\n",
      "  3.45916487e+02 3.34829039e+03 4.63428094e+03 1.34579835e+04\n",
      "  2.57922725e+03 9.63432055e+01 2.62905313e+03 2.52373230e+03]\n",
      " [2.27960868e+03 5.46246493e+02 2.52882026e+03 2.92787344e+03\n",
      "  7.92733909e+04 2.98067106e+03 1.10911634e+03 1.63596279e+03\n",
      "  4.34300308e+02 2.37351466e+03 3.59052905e+00 7.27094349e+03\n",
      "  6.62333382e+02 3.29053774e+03 7.35507315e+03 3.16713793e+03]\n",
      " [2.56839413e+02 1.90975428e+02 1.95317087e+04 3.69624953e+03\n",
      "  1.77967261e+02 7.08040363e+03 3.43442456e+02 8.89383309e+03\n",
      "  2.56103218e+02 7.64698933e+03 3.21013722e+00 6.22147404e+03\n",
      "  1.77205154e+03 1.25668425e+04 1.56209904e+03 3.46940985e+04]\n",
      " [5.10101306e+00 3.95247299e+00 4.98148400e+00 3.07668783e+00\n",
      "  3.26267735e+00 5.29767144e+00 6.09072302e+00 3.20502863e+00\n",
      "  5.71472743e+00 2.62312102e+00 2.19602224e+00 2.94155783e+00\n",
      "  2.95500346e+00 2.73541226e+00 9.20421004e+00 4.01596315e+00]\n",
      " [3.36316761e+02 4.67604596e+02 1.39331012e+02 7.47339208e+01\n",
      "  1.22738932e+02 1.12929724e+03 1.88579393e+02 1.95380306e+04\n",
      "  2.47149440e+02 8.07198815e+02 5.99345956e+00 6.50750813e+01\n",
      "  3.31089635e+03 3.88991936e+03 5.20040341e+02 5.03052820e+02]\n",
      " [3.31963109e+04 8.34403603e+02 3.10175002e+03 1.19911037e+04\n",
      "  2.07262995e+04 3.94829995e+03 1.34336485e+03 3.96640008e+03\n",
      "  1.24398023e+06 3.84387885e+03 2.35116482e+00 2.16139741e+04\n",
      "  3.35677122e+03 3.46940879e+03 9.63829476e+03 2.50338886e+03]\n",
      " [9.94721071e+02 1.74728222e+03 8.07390217e+03 7.37984306e+03\n",
      "  1.94136578e+02 1.24013080e+04 5.46698786e+02 4.37257260e+03\n",
      "  2.33112014e+02 1.02787599e+05 7.09559192e+02 5.15627211e+03\n",
      "  1.57152271e+03 2.56972110e+01 1.02975766e+02 5.87315819e+04]\n",
      " [2.93255993e+04 1.19742555e+04 9.88426459e+03 8.72449919e+03\n",
      "  1.75782575e+04 6.83660914e+03 5.28148843e+02 2.71980726e+03\n",
      "  8.18711754e+03 2.69306816e+03 9.64559158e+04 6.31879993e+03\n",
      "  3.18119647e+03 5.20966288e+02 1.45743870e+03 1.72799211e+03]\n",
      " [7.81995687e+03 5.10988830e+03 2.27563118e+03 3.64306567e+04\n",
      "  4.00190582e+03 1.83532510e+03 1.79741208e+03 1.88355672e+03\n",
      "  5.17377586e+03 3.52434083e+03 1.19608413e+04 3.18714201e+04\n",
      "  4.50687119e+03 2.55928208e+03 5.94939664e+03 5.15759313e+03]\n",
      " [1.42036194e+04 9.96620229e+04 8.06177255e+03 6.17851317e+03\n",
      "  5.58243392e+03 3.19653217e+03 1.04998463e+03 9.02693030e+03\n",
      "  1.00785336e+04 1.15559555e+03 3.60422900e+04 3.50265923e+03\n",
      "  2.33335101e+05 2.72778870e+03 4.85841036e+03 2.73261030e+03]\n",
      " [9.34071067e+02 4.41849263e+03 1.70146917e+02 1.87639116e+02\n",
      "  2.81278620e+01 1.68203435e+05 1.24939246e+02 1.32702334e+04\n",
      "  7.87186713e+01 2.78985272e+00 2.90178578e+01 5.53185482e-01\n",
      "  2.01780958e+03 3.43149144e+04 9.24574025e+03 8.53822227e-01]\n",
      " [1.94885584e+03 7.23832043e+02 5.04341068e+03 3.44392432e+01\n",
      "  6.91157751e+01 6.86154105e+03 9.91440974e+02 4.28939455e+03\n",
      "  1.74903196e+02 9.84179440e+03 4.38609372e+00 3.06836383e+02\n",
      "  1.14722541e+04 6.22070764e+03 2.61602090e+06 6.64583201e+03]\n",
      " [3.15340218e+02 2.23678130e+02 2.43028905e+03 2.14250645e+03\n",
      "  5.36724967e+01 1.27604162e+03 1.62469619e+03 1.70215510e+04\n",
      "  7.57292550e+02 2.03360930e+02 1.38296615e+00 3.20077954e+04\n",
      "  2.61864511e+02 5.74792567e+00 5.85293361e+01 2.69004187e+05]]\n"
     ]
    },
    {
     "data": {
      "image/png": "[encoded data removed]",
      "text/plain": [
       "<Figure size 432x288 with 1 Axes>"
      ]
     },
     "metadata": {
      "needs_background": "light"
     },
     "output_type": "display_data"
    },
    {
     "name": "stderr",
     "output_type": "stream",
     "text": [
      "\r",
      "  8%|████████████████                                                                                                                                                                                         | 8/100 [01:15<13:46,  8.99s/it]"
     ]
    },
    {
     "name": "stdout",
     "output_type": "stream",
     "text": [
      "[2.29576797e-02 1.24365417e-01 5.10180448e-02 3.97083394e-02\n",
      " 2.03305912e-02 1.12390234e-02 7.96784646e-01 3.78741199e-02\n",
      " 7.81738468e-03 1.26423559e-02 8.82085678e-03 1.13410613e-02\n",
      " 2.55537492e-03 4.97338910e-05 2.75698383e-03 3.18147555e-04] [[2.76065960e+03 5.58446743e+00 4.24920814e+00 1.80929439e+00\n",
      "  1.14220003e+00 3.08621703e+00 8.25855810e-01 1.17208721e+00\n",
      "  4.34125526e+00 8.88384799e-01 1.06738164e-08 1.25313635e+00\n",
      "  4.58772655e-01 7.26855485e-05 1.15531502e+01 9.25279535e-02]\n",
      " [1.06134364e+02 9.44250799e+03 5.10682242e+01 5.03149004e+00\n",
      "  1.11503452e+02 2.62265212e+01 1.91042451e+01 9.95023422e+00\n",
      "  6.95995894e+01 1.78190966e+00 2.86887815e+00 3.11344347e+00\n",
      "  7.97932099e+01 1.74658959e-01 2.38776952e+01 2.99152930e+00]\n",
      " [2.18579461e-01 2.68171820e-01 1.84866089e+04 1.15786886e+00\n",
      "  7.12980085e-02 2.82347516e-01 2.32770396e-01 4.27800399e+00\n",
      "  2.48029946e-02 3.27355948e+00 9.26442234e-08 2.12761725e-01\n",
      "  9.89971388e-04 9.03515347e-06 2.89193963e-02 6.28968990e+00]\n",
      " [1.19716446e+00 2.83887332e+00 3.47064294e-01 1.41874598e+02\n",
      "  4.04148783e-01 7.27068280e-01 2.79301298e-03 1.93443099e+00\n",
      "  1.26944306e-04 8.44233005e+00 2.23144560e+00 4.97279930e+01\n",
      "  5.39396018e-01 1.72652592e-04 5.02274418e-01 8.00847594e-02]\n",
      " [6.76361913e+00 4.81490332e+00 4.53610349e+00 2.84616337e+00\n",
      "  3.17053302e+03 2.01569251e+00 2.17786897e+00 8.10243642e-01\n",
      "  2.99899499e-01 5.89515997e-01 1.66112358e-08 3.62247554e+00\n",
      "  2.31883601e-01 6.72740567e-03 7.03493673e+00 3.25814043e-01]\n",
      " [9.75026221e-06 2.40260709e-06 1.22825815e+01 1.84917518e-03\n",
      "  4.04615870e-06 5.08684853e+00 6.25098972e-07 3.70260507e+00\n",
      "  2.67749313e-06 6.12181567e-03 2.35598491e-13 9.39479873e-03\n",
      "  2.93740595e-03 7.37250590e-02 9.68704035e-03 3.16746430e+00]\n",
      " [1.99613669e-02 7.91309571e-02 1.30648224e-02 2.44381031e-02\n",
      "  1.79152986e-02 1.23399779e-02 9.15561437e-01 2.83599990e-02\n",
      "  1.79391752e-02 4.01574564e-03 2.94913047e-03 5.35799576e-03\n",
      "  5.01680353e-03 1.47782880e-04 1.16254371e-02 5.86424423e-04]\n",
      " [1.25271739e-02 5.73962577e-02 8.94384733e-05 1.43537929e-05\n",
      "  6.74318768e-05 3.08882202e-01 2.20783375e-04 3.03716318e+02\n",
      "  4.95264152e-04 4.33386966e-03 3.27317838e-10 8.62501987e-07\n",
      "  5.92459330e-01 1.11188652e-01 1.12488432e-01 5.66009926e-03]\n",
      " [3.67078968e+01 3.07706916e-01 4.76686512e-01 1.89790986e+00\n",
      "  1.98960587e+01 1.07750211e+00 4.79563605e-02 7.90090657e-01\n",
      "  6.27034573e+04 3.39541208e-02 4.53787221e-11 9.55239891e-01\n",
      "  4.76351580e-01 2.57219678e-02 2.76812343e+00 5.58452546e-02]\n",
      " [8.61908790e-06 7.16343777e-04 1.62110580e-01 1.81829027e+00\n",
      "  3.97229314e-09 8.26227779e-01 4.34075963e-07 3.06474887e-01\n",
      "  1.02614830e-08 3.60588550e+02 1.63755649e-04 6.13662813e-01\n",
      "  1.24350068e-04 1.54411075e-15 5.23349510e-12 8.92652351e-03]\n",
      " [2.40793894e+00 2.78433744e+00 6.82191516e-01 7.70889068e+00\n",
      "  2.23810100e+00 1.51821454e-01 7.23843845e-09 1.31566769e-01\n",
      "  2.04484444e-01 2.00086590e-01 3.16747174e+02 2.29806736e+00\n",
      "  7.37060223e-02 1.40632585e-03 8.01598940e-09 4.39261706e-03]\n",
      " [8.08551641e-01 2.09223111e+00 3.37551052e-01 3.99521649e+01\n",
      "  4.64752443e-02 2.17933745e-01 2.00405721e-03 8.68322767e-01\n",
      "  7.08261086e-02 1.34992115e+00 3.67234430e-01 9.69146103e+01\n",
      "  2.42721894e-01 1.89531939e-03 1.00064068e-01 2.65143328e-04]\n",
      " [1.06470395e+00 2.10412495e+02 6.44106737e-02 1.80855311e-01\n",
      "  1.53949016e+00 7.28193621e-02 1.34675314e-07 1.11317211e-03\n",
      "  5.86794955e-01 3.15395698e-08 4.90964224e+00 6.58471392e-07\n",
      "  4.19529137e+02 1.59528631e-07 9.64433633e-02 1.79720228e-02]\n",
      " [1.02647811e-16 2.11862215e-14 1.07627807e-25 1.61119494e-25\n",
      "  7.95364516e-25 1.16733626e-09 6.27439386e-25 2.18957783e-08\n",
      "  1.39967339e-23 1.03610729e-30 8.33989319e-28 1.90593351e-33\n",
      "  3.78026706e-16 1.58338497e+00 2.57561917e-02 2.40301386e-31]\n",
      " [4.81682255e-02 2.91684407e-03 3.72832571e-01 1.95985373e-09\n",
      "  4.89097479e-07 2.47792966e+00 1.03623871e-04 3.68681724e-01\n",
      "  5.02096132e-05 3.69054471e-02 4.69899878e-13 2.30665784e-07\n",
      "  2.11215807e-01 1.86048045e-08 6.80149882e+04 2.66091765e-02]\n",
      " [4.78131279e-14 2.95699845e-14 1.12379076e-09 2.27871820e-13\n",
      "  6.55561944e-16 6.39423187e-09 1.58545707e-11 3.44726456e-09\n",
      "  3.91397206e-12 2.33364878e-17 2.18575732e-22 1.20629004e-02\n",
      "  1.08708753e-14 2.92929841e-20 1.36898272e-16 8.92066258e+01]] [[7.24419291e+04 8.79653353e+02 2.63024646e+03 4.22657600e+03\n",
      "  6.71004942e+02 3.16583710e+03 1.22934016e+03 2.07891581e+03\n",
      "  5.04868409e+03 2.74228508e+03 4.16840719e+00 7.33497634e+03\n",
      "  1.12326475e+03 3.20454450e+01 8.57075620e+03 2.90933686e+03]\n",
      " [4.32577505e+03 6.37606126e+04 1.87792843e+03 6.36883519e+02\n",
      "  3.75396281e+03 1.91777117e+03 3.55301644e+02 9.46495059e+02\n",
      "  3.96327116e+03 9.83298076e+02 2.80992450e+03 1.20378239e+03\n",
      "  1.35399759e+04 1.74573562e+03 2.54673734e+03 1.97033446e+03]\n",
      " [2.75190053e+02 2.46416695e+02 3.87765699e+05 2.73730656e+03\n",
      "  1.34611473e+02 4.82427120e+02 6.80214474e+02 3.26458542e+03\n",
      "  1.91943391e+02 9.40982549e+03 4.50915647e+00 1.32583378e+03\n",
      "  2.21115088e+02 2.33252376e+01 1.69971539e+02 1.47674237e+04]\n",
      " [2.63529100e+03 2.29736492e+03 1.68079139e+03 1.62439073e+04\n",
      "  1.73129011e+03 1.43238761e+03 1.03212073e+03 1.42428942e+03\n",
      "  7.46785547e+02 3.33166227e+03 5.03623550e+03 1.41184478e+04\n",
      "  3.56308180e+03 7.24740134e+01 3.54091506e+03 2.51739374e+03]\n",
      " [3.52512628e+03 8.90455241e+02 2.59518536e+03 3.79366790e+03\n",
      "  9.61910262e+04 3.08010120e+03 1.43726769e+03 1.64223305e+03\n",
      "  4.86114858e+02 2.41270030e+03 4.29458153e+00 9.11881155e+03\n",
      "  8.57721244e+02 3.30054336e+03 8.18565527e+03 3.18935540e+03]\n",
      " [4.94885744e+02 3.57430814e+02 2.30798492e+04 1.02386001e+04\n",
      "  3.49083797e+02 8.14163628e+03 5.78550792e+02 8.65608246e+03\n",
      "  5.13438883e+02 2.34370769e+04 3.65289955e+00 1.67407734e+04\n",
      "  1.14531772e+04 1.18987028e+04 6.23774556e+03 4.18513569e+04]\n",
      " [5.81058954e+00 4.40494809e+00 6.05233538e+00 3.39944060e+00\n",
      "  3.47920548e+00 6.01889564e+00 7.22282524e+00 3.43452899e+00\n",
      "  6.57623090e+00 2.80885505e+00 2.27472461e+00 3.24865925e+00\n",
      "  2.97933820e+00 2.74613630e+00 1.12551742e+01 4.09325181e+00]\n",
      " [7.46197617e+02 1.11750006e+03 2.29943457e+02 1.74135256e+02\n",
      "  2.35086324e+02 1.34232984e+03 4.28376136e+02 2.77586413e+04\n",
      "  4.86754101e+02 1.78372051e+03 7.71814822e+00 1.33813824e+02\n",
      "  5.89458592e+03 3.89765864e+03 5.37174487e+02 4.41934950e+02]\n",
      " [3.74368364e+04 2.26927334e+03 3.11269425e+03 1.36574888e+04\n",
      "  2.75770195e+04 3.95768558e+03 1.86073324e+03 3.98216036e+03\n",
      "  3.35852887e+06 3.90605278e+03 2.69452234e+00 2.42504335e+04\n",
      "  4.41278246e+03 3.40692873e+03 9.71029603e+03 2.31076086e+03]\n",
      " [1.48696340e+03 3.17819371e+03 1.30054963e+04 6.92014444e+03\n",
      "  4.82668811e+02 1.25392254e+04 1.00635977e+03 4.71227644e+03\n",
      "  4.92621691e+02 1.48807670e+05 8.54469742e+02 4.58666371e+03\n",
      "  2.13875673e+03 3.48477389e+01 1.44902865e+02 6.55266684e+04]\n",
      " [4.11571126e+04 1.61634263e+04 1.11193478e+04 8.61311389e+03\n",
      "  1.88201593e+04 6.84095519e+03 9.59302640e+02 2.63201014e+03\n",
      "  7.96495140e+03 2.69364397e+03 9.98525189e+04 6.15052318e+03\n",
      "  3.69323641e+03 5.13768440e+02 2.83561248e+03 1.71108310e+03]\n",
      " [8.44303192e+03 6.33710461e+03 2.23479132e+03 3.91941963e+04\n",
      "  7.22866679e+03 1.83607866e+03 2.60451778e+03 1.79851747e+03\n",
      "  7.02780308e+03 3.49213833e+03 2.65624215e+04 3.58298146e+04\n",
      "  4.39178786e+03 2.60743871e+03 5.83463020e+03 5.19977116e+03]\n",
      " [1.54199892e+04 1.06039275e+05 8.56357493e+03 5.93441626e+03\n",
      "  5.63592802e+03 3.35206965e+03 1.18882235e+03 1.24645642e+04\n",
      "  1.04902962e+04 1.22580889e+03 3.39363119e+04 3.30985869e+03\n",
      "  2.47401493e+05 2.69658882e+03 4.86063831e+03 2.75029980e+03]\n",
      " [2.26519043e+03 5.41964693e+03 1.96724433e+02 3.96687021e+02\n",
      "  4.20565477e+01 1.68323320e+05 2.37759049e+02 1.30268029e+04\n",
      "  7.64120794e+01 2.99355805e+00 2.50475243e+01 4.97624968e-01\n",
      "  2.02018187e+03 3.47006762e+04 9.06766272e+03 8.63480081e-01]\n",
      " [3.54567902e+03 2.20236062e+03 5.06032541e+03 4.30891626e+01\n",
      "  8.06054748e+01 6.93968029e+03 1.41711520e+03 4.25202305e+03\n",
      "  2.00004499e+02 1.34367778e+04 6.41020368e+00 5.65942505e+02\n",
      "  1.45456542e+04 6.47576696e+03 6.38999596e+06 6.72637961e+03]\n",
      " [5.77279100e+02 3.68973975e+02 5.26567517e+03 7.26166617e+03\n",
      "  6.20869497e+01 1.25727503e+03 2.20725230e+03 1.72103106e+04\n",
      "  1.23561659e+03 2.14320812e+02 1.40909016e+00 2.98781268e+04\n",
      "  3.35445834e+02 1.33026611e+01 6.67133183e+01 4.20470137e+05]]\n"
     ]
    },
    {
     "data": {
      "image/png": "[encoded data removed]",
      "text/plain": [
       "<Figure size 432x288 with 1 Axes>"
      ]
     },
     "metadata": {
      "needs_background": "light"
     },
     "output_type": "display_data"
    },
    {
     "name": "stderr",
     "output_type": "stream",
     "text": [
      "\r",
      "  9%|██████████████████                                                                                                                                                                                       | 9/100 [01:25<14:12,  9.37s/it]"
     ]
    },
    {
     "name": "stdout",
     "output_type": "stream",
     "text": [
      "[2.31106055e-02 1.25346499e-01 5.11368445e-02 4.02955163e-02\n",
      " 2.04541046e-02 1.14780316e-02 8.13924175e-01 3.87600087e-02\n",
      " 8.13559693e-03 1.29436070e-02 8.94195696e-03 1.14353174e-02\n",
      " 2.51943312e-03 4.76900690e-05 2.94456717e-03 3.14572987e-04] [[2.99763033e+03 7.25581648e+00 4.55305342e+00 2.39350471e+00\n",
      "  1.52995081e+00 3.21048023e+00 1.03156546e+00 1.16611497e+00\n",
      "  8.97286549e+00 8.55073473e-01 6.27369393e-09 1.58630493e+00\n",
      "  5.99782945e-01 8.14848134e-05 1.29623301e+01 6.86386944e-02]\n",
      " [1.02509020e+02 1.17249343e+04 5.22805721e+01 5.15609294e+00\n",
      "  1.07584199e+02 2.61962782e+01 2.00119630e+01 9.90131602e+00\n",
      "  7.00500613e+01 1.87727560e+00 3.47468297e+00 3.13550691e+00\n",
      "  9.26340960e+01 1.78967253e-01 2.34708915e+01 2.47380819e+00]\n",
      " [3.19374049e-01 5.80199085e-01 2.53547977e+04 1.92811255e+00\n",
      "  1.15373240e-01 3.91934695e-01 3.45369566e-01 4.91515886e+00\n",
      "  5.30682077e-02 4.09075434e+00 4.87287638e-08 2.90888001e-01\n",
      "  5.31334152e-03 1.18381152e-05 3.47110609e-02 1.47366180e+01]\n",
      " [1.42028609e+00 3.61121783e+00 5.02077129e-01 1.65561082e+02\n",
      "  9.23866086e-01 7.15013594e-01 1.11169726e-02 1.96685737e+00\n",
      "  7.18164417e-04 8.39945242e+00 2.29363093e+00 5.03365131e+01\n",
      "  6.79253856e-01 1.35304039e-04 5.84113043e-01 7.87033577e-02]\n",
      " [1.19057238e+01 8.06662009e+00 4.98034487e+00 3.50541910e+00\n",
      "  3.52974964e+03 2.02412723e+00 2.83555203e+00 8.06205336e-01\n",
      "  3.34551432e-01 6.02003457e-01 7.05896401e-09 4.24945542e+00\n",
      "  3.50944123e-01 3.80981246e-03 8.31383817e+00 2.77898795e-01]\n",
      " [1.99519281e-05 3.58884340e-06 1.58048479e+01 3.23466253e-02\n",
      "  8.15237359e-06 5.88032453e+00 3.72825311e-07 3.72705505e+00\n",
      "  7.12110973e-06 1.59841089e-01 2.56165304e-14 1.44176307e-01\n",
      "  1.29510804e-01 6.63245204e-02 7.83280430e-02 3.63521753e+00]\n",
      " [2.25163410e-02 8.64050220e-02 1.57396196e-02 2.72520452e-02\n",
      "  1.84875419e-02 1.39350856e-02 1.08434173e+00 3.02027018e-02\n",
      "  2.08747971e-02 4.29540162e-03 3.02104914e-03 5.97013504e-03\n",
      "  5.08639774e-03 1.47171426e-04 1.44446924e-02 5.85198660e-04]\n",
      " [6.05534215e-02 4.06116203e-01 1.75771315e-04 5.43563389e-05\n",
      "  1.56884261e-04 3.76174289e-01 6.01261982e-04 3.74360612e+02\n",
      "  2.80127580e-03 3.40385557e-02 8.55738998e-11 1.78426998e-06\n",
      "  8.61435787e-01 1.12045782e-01 1.18764104e-01 6.23059906e-03]\n",
      " [4.33949771e+01 1.82284851e+00 4.54511741e-01 2.28895709e+00\n",
      "  2.76056524e+01 1.05206790e+00 5.65485762e-02 7.72500133e-01\n",
      "  1.54360085e+05 4.23703532e-02 9.49134850e-12 1.28477627e+00\n",
      "  6.31704526e-01 2.37523762e-02 2.68440937e+00 4.36197908e-02]\n",
      " [1.05224256e-05 1.99205090e-03 4.36161308e-01 1.82158521e+00\n",
      "  4.54976689e-09 8.47316656e-01 4.67427284e-07 4.03712742e-01\n",
      "  1.09107034e-08 5.08071933e+02 2.56248445e-04 6.07232138e-01\n",
      "  2.28673630e-04 2.18878332e-16 7.39358721e-13 1.59767468e-01]\n",
      " [2.87482081e+00 3.47261612e+00 7.08646945e-01 7.49429346e+00\n",
      "  2.43633350e+00 1.52992056e-01 4.66245895e-09 1.36856751e-01\n",
      "  2.64909682e-01 1.98884207e-01 3.19809766e+02 2.26939984e+00\n",
      "  7.84871240e-02 1.46853392e-03 3.19565344e-09 4.34493940e-03]\n",
      " [7.93736455e-01 2.49999609e+00 3.03802673e-01 3.91877323e+01\n",
      "  1.55327754e-01 1.93644645e-01 4.67731902e-03 8.32482104e-01\n",
      "  1.77831047e-01 1.33103584e+00 9.74951672e-01 1.02721997e+02\n",
      "  2.22162528e-01 5.56158713e-03 7.45028973e-02 6.82049316e-05]\n",
      " [1.09237971e+00 2.14931083e+02 6.65887248e-02 3.25595502e-01\n",
      "  1.40080619e+00 7.13465136e-02 2.01144910e-08 9.44394515e-04\n",
      "  6.05051338e-01 8.48436750e-09 4.94800426e+00 1.56527405e-07\n",
      "  4.17135687e+02 1.46161413e-08 9.40026843e-02 1.93839510e-02]\n",
      " [3.35613666e-17 3.22102689e-15 4.60455115e-28 3.99580676e-27\n",
      "  5.52473633e-27 2.77041583e-10 6.27918475e-27 8.59207509e-09\n",
      "  5.74140899e-26 1.26193021e-33 2.31110330e-30 1.14139175e-36\n",
      "  2.62537320e-17 1.58444252e+00 2.44932663e-02 2.31265279e-34]\n",
      " [1.19653428e-01 2.62641169e-02 3.67915832e-01 5.79319627e-10\n",
      "  2.03380368e-07 2.44135036e+00 5.47656172e-05 3.86552505e-01\n",
      "  4.52351875e-05 6.57203382e-02 1.41741597e-13 4.81104938e-07\n",
      "  2.78181409e-01 5.09430367e-09 1.06594429e+05 2.57438668e-02]\n",
      " [8.02227263e-15 3.12519190e-15 8.11805992e-10 2.01529720e-13\n",
      "  2.71118658e-17 1.66924116e-09 1.60528190e-12 6.67878243e-10\n",
      "  1.06190125e-12 1.02037899e-18 2.18601783e-24 2.89913729e-02\n",
      "  2.83930349e-15 7.76865364e-21 3.58505154e-18 1.24026976e+02]] [[7.79671341e+04 1.17176542e+03 2.68325370e+03 5.08899147e+03\n",
      "  8.81005379e+02 3.22089588e+03 1.45419971e+03 2.07204612e+03\n",
      "  8.51894565e+03 2.71505262e+03 6.41106711e+00 8.73478388e+03\n",
      "  1.37460059e+03 3.66011405e+01 8.66605153e+03 2.72159115e+03]\n",
      " [4.30899993e+03 8.01680525e+04 1.87525404e+03 6.66815631e+02\n",
      "  3.72325145e+03 1.92801348e+03 3.84152720e+02 9.50242922e+02\n",
      "  3.94701041e+03 1.03563199e+03 3.46740422e+03 1.23146100e+03\n",
      "  1.59700036e+04 1.75877740e+03 2.53879761e+03 1.91081234e+03]\n",
      " [3.35407273e+02 3.18782439e+02 5.43634406e+05 3.62044861e+03\n",
      "  1.59085601e+02 6.37792988e+02 9.13368682e+02 3.44944586e+03\n",
      "  2.40969198e+02 1.05480137e+04 6.04853612e+00 1.66854734e+03\n",
      "  3.89821620e+02 2.60668785e+01 1.86864014e+02 2.17137055e+04]\n",
      " [3.19714345e+03 2.55993622e+03 1.74598044e+03 1.93048045e+04\n",
      "  2.38832285e+03 1.42787220e+03 1.67027939e+03 1.41766672e+03\n",
      "  1.99296393e+03 3.32465744e+03 5.20480754e+03 1.44227588e+04\n",
      "  4.54111488e+03 5.50499311e+01 4.03512495e+03 2.50937302e+03]\n",
      " [5.77727354e+03 1.28527090e+03 2.65791842e+03 4.63123515e+03\n",
      "  1.05646517e+05 3.13016832e+03 1.65138958e+03 1.63120529e+03\n",
      "  5.29747204e+02 2.41532807e+03 5.58688812e+00 1.02360098e+04\n",
      "  1.05867752e+03 3.31182928e+03 8.54749955e+03 3.10979424e+03]\n",
      " [1.03714337e+03 6.90703275e+02 2.57358834e+04 1.62755867e+04\n",
      "  8.05365504e+02 9.08843342e+03 9.05428184e+02 8.30858086e+03\n",
      "  1.06963968e+03 4.44094115e+04 4.38042242e+00 2.00271328e+04\n",
      "  3.36972313e+04 1.16198546e+04 9.65412033e+03 4.76969825e+04]\n",
      " [6.61020713e+00 4.91694536e+00 7.41003743e+00 3.78100657e+00\n",
      "  3.69027264e+00 6.85093786e+00 8.68574692e+00 3.69512669e+00\n",
      "  7.57375275e+00 3.02977031e+00 2.37115510e+00 3.62475793e+00\n",
      "  3.00124965e+00 2.78204790e+00 1.38666311e+01 4.13805910e+00]\n",
      " [1.42624904e+03 2.34366185e+03 3.74477200e+02 4.35945419e+02\n",
      "  4.44482078e+02 1.46733878e+03 8.55605508e+02 3.47665659e+04\n",
      "  1.12519434e+03 2.89270621e+03 1.07170366e+01 2.36335299e+02\n",
      "  7.52848029e+03 3.90570836e+03 5.58179511e+02 4.33423137e+02]\n",
      " [4.03135841e+04 4.56268304e+03 3.12056385e+03 1.41131142e+04\n",
      "  3.27948371e+04 3.95966522e+03 2.32185879e+03 3.98547302e+03\n",
      "  8.54077549e+06 3.86816246e+03 3.21964395e+00 2.53822142e+04\n",
      "  5.00902639e+03 3.36792704e+03 9.71315548e+03 2.11077274e+03]\n",
      " [2.10556467e+03 5.16242507e+03 1.47128789e+04 6.23361229e+03\n",
      "  9.41732632e+02 1.26200891e+04 1.48919665e+03 4.79701695e+03\n",
      "  1.11904484e+03 2.17412877e+05 1.01124546e+03 4.16720169e+03\n",
      "  3.23259613e+03 3.57424129e+01 1.81472660e+02 6.55376465e+04]\n",
      " [5.19296523e+04 1.82786685e+04 1.21324366e+04 8.47642664e+03\n",
      "  2.18627448e+04 6.76348875e+03 1.31731440e+03 2.54945274e+03\n",
      "  8.01662974e+03 2.72339928e+03 1.01189348e+05 6.05000342e+03\n",
      "  4.38868296e+03 5.12761169e+02 4.03705457e+03 1.71092465e+03]\n",
      " [8.64887996e+03 6.73972022e+03 2.22174393e+03 3.98454837e+04\n",
      "  8.84575120e+03 1.83258383e+03 3.39094849e+03 1.75545749e+03\n",
      "  7.82773435e+03 3.48773884e+03 2.34320715e+04 3.82330871e+04\n",
      "  4.17755781e+03 2.73260598e+03 5.45092977e+03 5.62709599e+03]\n",
      " [1.64516787e+04 1.09786377e+05 8.86259717e+03 5.66361083e+03\n",
      "  5.86420469e+03 3.45302223e+03 1.25708325e+03 1.47455190e+04\n",
      "  1.08880620e+04 1.25245787e+03 3.32649341e+04 3.19817814e+03\n",
      "  2.52562846e+05 2.68038391e+03 4.99170105e+03 2.80340053e+03]\n",
      " [6.26410800e+03 6.73030367e+03 2.10298475e+02 1.01603995e+03\n",
      "  5.32661354e+01 1.68398078e+05 5.01747056e+02 1.29337728e+04\n",
      "  8.32223795e+01 3.12918542e+00 3.13383024e+01 4.45500255e-01\n",
      "  2.02076201e+03 3.48925801e+04 8.97804873e+03 8.71148810e-01]\n",
      " [6.51822842e+03 6.36734436e+03 5.07511503e+03 5.40794790e+01\n",
      "  8.86980794e+01 6.98954850e+03 1.82833775e+03 4.22665610e+03\n",
      "  2.28973659e+02 1.26696590e+04 1.21666277e+01 1.08867860e+03\n",
      "  1.43064625e+04 6.53732359e+03 1.01968520e+07 6.75090485e+03]\n",
      " [9.22162062e+02 5.66657492e+02 8.91633495e+03 1.41510697e+04\n",
      "  6.63812860e+01 1.24395164e+03 2.78754679e+03 1.59298831e+04\n",
      "  1.31116763e+03 2.16739816e+02 1.52561691e+00 2.59938703e+04\n",
      "  4.03416353e+02 4.59063942e+01 8.00507608e+01 6.06957361e+05]]\n"
     ]
    },
    {
     "data": {
      "image/png": "[encoded data removed]",
      "text/plain": [
       "<Figure size 432x288 with 1 Axes>"
      ]
     },
     "metadata": {
      "needs_background": "light"
     },
     "output_type": "display_data"
    },
    {
     "name": "stderr",
     "output_type": "stream",
     "text": [
      "\r",
      " 10%|████████████████████                                                                                                                                                                                    | 10/100 [01:36<14:45,  9.83s/it]"
     ]
    },
    {
     "name": "stdout",
     "output_type": "stream",
     "text": [
      "[2.33037448e-02 1.26125112e-01 5.11643794e-02 4.07277699e-02\n",
      " 2.07521816e-02 1.17185880e-02 8.29215641e-01 3.94329889e-02\n",
      " 8.36864474e-03 1.30428071e-02 9.05721736e-03 1.14504559e-02\n",
      " 2.45873749e-03 4.64409633e-05 3.11961452e-03 3.13600161e-04] [[3.11394912e+03 8.57040380e+00 4.78645659e+00 2.80456237e+00\n",
      "  1.97691246e+00 3.26958418e+00 1.15487168e+00 1.16157816e+00\n",
      "  1.55876694e+01 8.37182094e-01 5.73292786e-09 1.82956817e+00\n",
      "  7.37899968e-01 9.02278055e-05 1.38307877e+01 5.64564786e-02]\n",
      " [1.00120696e+02 1.33662023e+04 5.43660307e+01 5.23510212e+00\n",
      "  1.06325748e+02 2.61213072e+01 2.05126416e+01 9.88102488e+00\n",
      "  6.94434666e+01 1.94892168e+00 3.93367550e+00 3.12972490e+00\n",
      "  1.04706282e+02 1.81063358e-01 2.31865656e+01 2.10293989e+00]\n",
      " [3.97016967e-01 9.83674704e-01 3.08724741e+04 2.53846705e+00\n",
      "  1.60485794e-01 5.69256790e-01 4.94548616e-01 5.39364686e+00\n",
      "  8.67685560e-02 4.62138101e+00 3.28241113e-08 3.76298579e-01\n",
      "  2.91090006e-02 1.42759651e-05 3.73880617e-02 2.21629025e+01]\n",
      " [1.60747613e+00 3.79864569e+00 5.77681777e-01 1.82599951e+02\n",
      "  1.38901946e+00 6.99966881e-01 4.30732992e-02 1.97684114e+00\n",
      "  6.42205667e-03 8.42398605e+00 2.30817986e+00 5.05728551e+01\n",
      "  7.94714148e-01 1.20403212e-04 6.04118359e-01 7.92330913e-02]\n",
      " [2.20694218e+01 1.12569269e+01 5.32716329e+00 4.08874547e+00\n",
      "  3.68819814e+03 2.01135902e+00 3.26718763e+00 8.02879545e-01\n",
      "  3.49962254e-01 6.12175628e-01 3.73991921e-09 4.57795992e+00\n",
      "  4.85906051e-01 2.16090379e-03 9.09690336e+00 2.45657642e-01]\n",
      " [5.50401672e-05 7.42936952e-06 1.89586587e+01 3.69289326e-01\n",
      "  2.32038482e-05 6.58879798e+00 2.30494535e-07 3.68814604e+00\n",
      "  3.56015883e-05 6.79000871e-01 3.12252962e-15 6.66502620e-01\n",
      "  7.09758220e-01 5.93143514e-02 1.97863189e-01 3.74661400e+00]\n",
      " [2.53827120e-02 9.45066138e-02 1.92829152e-02 3.04510213e-02\n",
      "  1.91143667e-02 1.58456524e-02 1.30151844e+00 3.21719709e-02\n",
      "  2.36851218e-02 4.57840903e-03 3.12899064e-03 6.69432619e-03\n",
      "  5.13614707e-03 1.47124882e-04 1.76415923e-02 5.86181371e-04]\n",
      " [1.80845673e-01 1.57235841e+00 3.98557276e-04 3.85767260e-04\n",
      "  4.60159883e-04 4.10914801e-01 1.84748510e-03 4.05796845e+02\n",
      "  2.83886813e-02 1.32752425e-01 2.90523050e-11 4.39775487e-06\n",
      "  1.00305876e+00 1.12444103e-01 1.20433753e-01 6.71380264e-03]\n",
      " [4.78016406e+01 4.99539511e+00 4.37923291e-01 2.40101833e+00\n",
      "  3.42441504e+01 1.03264255e+00 6.20194707e-02 7.62140947e-01\n",
      "  1.96138735e+05 4.55469035e-02 2.20300681e-12 1.45534067e+00\n",
      "  7.34282541e-01 2.27661217e-02 2.57625689e+00 3.86117892e-02]\n",
      " [1.29270677e-05 5.57593558e-03 6.29925370e-01 1.75864469e+00\n",
      "  4.84222032e-09 8.50284057e-01 4.61462153e-07 4.66752057e-01\n",
      "  1.74037480e-08 6.57270388e+02 3.96536341e-04 5.85937186e-01\n",
      "  7.78203496e-04 3.02151835e-17 9.46655712e-14 2.26917130e-01]\n",
      " [3.14548382e+00 3.75613463e+00 7.22645782e-01 7.35632825e+00\n",
      "  2.80402149e+00 1.51996477e-01 2.62791182e-09 1.39856773e-01\n",
      "  3.09528031e-01 1.92479323e-01 3.20767939e+02 2.25716144e+00\n",
      "  9.34183669e-02 1.50756400e-03 9.29077270e-10 4.43091232e-03]\n",
      " [7.59796058e-01 2.56560187e+00 2.65220424e-01 3.77496120e+01\n",
      "  2.90218229e-01 1.77727680e-01 1.04824107e-02 8.13156545e-01\n",
      "  2.57626427e-01 1.32832400e+00 1.04777159e+00 1.06021332e+02\n",
      "  2.09166281e-01 9.85410911e-03 5.54948098e-02 1.98243864e-05]\n",
      " [1.10701868e+00 2.17759830e+02 6.78999260e-02 4.65114018e-01\n",
      "  1.26235748e+00 7.05110361e-02 2.85906121e-09 7.41511050e-04\n",
      "  5.99763562e-01 2.24042580e-09 4.84594101e+00 3.88813159e-08\n",
      "  4.10775501e+02 1.34107983e-09 9.18971729e-02 2.11157343e-02]\n",
      " [6.40065757e-18 4.91239162e-16 1.74855462e-30 3.18783190e-28\n",
      "  3.87327864e-29 6.22601270e-11 7.69327115e-29 3.30446483e-09\n",
      "  2.41922509e-28 1.48287432e-36 9.00309995e-33 6.92233847e-40\n",
      "  1.80560894e-18 1.58549910e+00 2.34314262e-02 2.25238595e-37]\n",
      " [2.39411435e-01 2.05286773e-01 3.62976091e-01 1.75698077e-10\n",
      "  7.89148764e-08 2.41475229e+00 2.65323952e-05 3.94387588e-01\n",
      "  3.73359161e-05 7.28438452e-02 8.19911978e-14 6.17024197e-07\n",
      "  3.00184034e-01 1.37766499e-09 1.17906894e+05 2.55774712e-02]\n",
      " [1.50851974e-15 3.12781613e-16 5.17065439e-10 1.16702881e-13\n",
      "  1.02691518e-18 4.26127793e-10 1.56743676e-13 1.19583570e-10\n",
      "  1.86670313e-13 4.39829031e-20 2.33877713e-26 2.66622676e-02\n",
      "  7.53549097e-16 1.44211295e-21 9.04397050e-20 1.56579468e+02]] [[8.09208296e+04 1.47181130e+03 2.72768367e+03 5.78629018e+03\n",
      "  1.15050127e+03 3.24326805e+03 1.59463381e+03 2.06161721e+03\n",
      "  1.24059064e+04 2.69630331e+03 1.20075174e+01 9.78795398e+03\n",
      "  1.63901905e+03 4.09084359e+01 8.69401616e+03 2.60561230e+03]\n",
      " [4.28683383e+03 9.21673576e+04 1.88859733e+03 6.84629573e+02\n",
      "  3.71908622e+03 1.93208406e+03 4.04595546e+02 9.50599377e+02\n",
      "  3.95360395e+03 1.07055186e+03 3.97467368e+03 1.24052044e+03\n",
      "  1.82945315e+04 1.76341143e+03 2.54265552e+03 1.85716350e+03]\n",
      " [3.82413413e+02 3.75174143e+02 6.78734567e+05 4.32695730e+03\n",
      "  1.78854887e+02 8.77465784e+02 1.15815400e+03 3.55926924e+03\n",
      "  2.77552935e+02 1.11681022e+04 9.14002172e+00 2.13072144e+03\n",
      "  6.53573791e+02 2.73864319e+01 1.99968329e+02 2.56481784e+04]\n",
      " [3.73650381e+03 2.69261459e+03 1.74034239e+03 2.15495789e+04\n",
      "  3.00610035e+03 1.41937673e+03 2.32526333e+03 1.41329310e+03\n",
      "  5.15376286e+03 3.32600760e+03 5.25852902e+03 1.45550045e+04\n",
      "  5.41665615e+03 4.43313944e+01 4.22608606e+03 2.50552462e+03]\n",
      " [9.67215148e+03 1.69752609e+03 2.70934641e+03 5.43869957e+03\n",
      "  1.10187911e+05 3.15443604e+03 1.77585478e+03 1.61947476e+03\n",
      "  5.81832305e+02 2.41505729e+03 8.10255095e+00 1.08212625e+04\n",
      "  1.26604139e+03 3.32086294e+03 8.68923096e+03 3.00706828e+03]\n",
      " [2.12459502e+03 1.42964346e+03 2.77843384e+04 1.94930396e+04\n",
      "  1.68410383e+03 1.00118988e+04 1.30155714e+03 8.04073589e+03\n",
      "  2.99033721e+03 4.07134388e+04 5.51885181e+00 2.09129964e+04\n",
      "  3.96007422e+04 1.16944576e+04 9.82908762e+03 5.18567862e+04]\n",
      " [7.51129933e+00 5.49093342e+00 9.11929708e+00 4.22679423e+00\n",
      "  3.90051796e+00 7.82899458e+00 1.05745377e+01 3.99054316e+00\n",
      "  8.69367800e+00 3.27840413e+00 2.48124515e+00 4.08225694e+00\n",
      "  3.02804809e+00 2.83084192e+00 1.70957169e+01 4.16698371e+00]\n",
      " [2.02438205e+03 3.46679087e+03 6.01250913e+02 1.15745337e+03\n",
      "  8.13254975e+02 1.53842011e+03 1.45186591e+03 3.80958420e+04\n",
      "  3.28132715e+03 3.40803410e+03 1.67398936e+01 3.97333534e+02\n",
      "  8.64148904e+03 3.90987244e+03 5.83945997e+02 4.39369673e+02]\n",
      " [4.23016711e+04 6.46744840e+03 3.12933560e+03 1.42026351e+04\n",
      "  3.65507129e+04 3.95888584e+03 2.72110906e+03 3.99103920e+03\n",
      "  1.09215262e+07 3.74878962e+03 4.01569429e+00 2.59430000e+04\n",
      "  5.38485097e+03 3.34441225e+03 9.70431045e+03 1.99966476e+03]\n",
      " [2.86367321e+03 7.71255444e+03 1.44701494e+04 5.63361534e+03\n",
      "  1.34419019e+03 1.27332659e+04 1.89968221e+03 4.76454294e+03\n",
      "  2.92621412e+03 2.90785025e+05 1.18039165e+03 3.88570616e+03\n",
      "  7.51848605e+03 3.56812185e+01 2.10038934e+02 6.57288005e+04]\n",
      " [5.89739875e+04 1.98094651e+04 1.27053878e+04 8.36075536e+03\n",
      "  2.70274211e+04 6.71646369e+03 1.54446855e+03 2.49390812e+03\n",
      "  8.39251333e+03 2.74524365e+03 1.01697746e+05 5.99794662e+03\n",
      "  5.57879162e+03 5.13483267e+02 4.40070129e+03 1.72280929e+03]\n",
      " [8.67021384e+03 6.96962378e+03 2.21506730e+03 3.92648574e+04\n",
      "  9.26599653e+03 1.82478514e+03 4.16805211e+03 1.74056292e+03\n",
      "  8.01550027e+03 3.49702586e+03 1.93587366e+04 3.95985779e+04\n",
      "  3.92656691e+03 2.98043089e+03 5.07329343e+03 6.69231217e+03]\n",
      " [1.73445666e+04 1.11687435e+05 9.05551310e+03 5.48976694e+03\n",
      "  6.15200287e+03 3.51923818e+03 1.28658291e+03 1.60688363e+04\n",
      "  1.11223136e+04 1.26250436e+03 3.28726980e+04 3.13734097e+03\n",
      "  2.53942149e+05 2.67214373e+03 5.30604903e+03 2.83665600e+03]\n",
      " [6.63025872e+03 8.44341085e+03 2.18770244e+02 4.42218080e+03\n",
      "  6.05219648e+01 1.68437680e+05 9.11587454e+02 1.28963532e+04\n",
      "  9.29456874e+01 3.20465858e+00 4.48082015e+01 3.94779301e-01\n",
      "  2.02101585e+03 3.49847935e+04 8.90731229e+03 8.77336776e-01]\n",
      " [1.02184058e+04 1.12452316e+04 5.12894500e+03 6.67976094e+01\n",
      "  9.42243100e+01 7.02798290e+03 2.15843480e+03 4.21253262e+03\n",
      "  2.52935989e+02 1.02778885e+04 2.85901057e+01 1.37196511e+03\n",
      "  1.38212908e+04 6.54774459e+03 1.13411086e+07 6.72530162e+03]\n",
      " [1.49822542e+03 8.22885044e+02 1.11794983e+04 1.47762259e+04\n",
      "  6.81582469e+01 1.23178105e+03 3.34304166e+03 1.46757350e+04\n",
      "  1.23244999e+03 2.17217420e+02 1.71157472e+00 1.78378153e+04\n",
      "  4.94885409e+02 5.82477224e+01 9.91056642e+01 7.99032972e+05]]\n"
     ]
    },
    {
     "data": {
      "image/png": "[encoded data removed]",
      "text/plain": [
       "<Figure size 432x288 with 1 Axes>"
      ]
     },
     "metadata": {
      "needs_background": "light"
     },
     "output_type": "display_data"
    },
    {
     "name": "stderr",
     "output_type": "stream",
     "text": [
      "\r",
      " 11%|██████████████████████                                                                                                                                                                                  | 11/100 [01:47<15:00, 10.12s/it]"
     ]
    },
    {
     "name": "stdout",
     "output_type": "stream",
     "text": [
      "[2.35713690e-02 1.27305359e-01 5.11917117e-02 4.10202502e-02\n",
      " 2.11331046e-02 1.19582385e-02 8.44439381e-01 4.00565843e-02\n",
      " 8.58237586e-03 1.31054816e-02 9.15354906e-03 1.14928604e-02\n",
      " 2.39532588e-03 4.58699322e-05 3.29010736e-03 3.13924637e-04] [[3.16773374e+03 9.62458390e+00 4.95553205e+00 3.09364770e+00\n",
      "  2.53194357e+00 3.28403054e+00 1.20324562e+00 1.15661205e+00\n",
      "  2.35019575e+01 8.29070354e-01 9.08084157e-09 1.99777594e+00\n",
      "  8.68394704e-01 9.84793761e-05 1.43796912e+01 5.12398904e-02]\n",
      " [9.79629548e+01 1.44569888e+04 5.66170526e+01 5.29748500e+00\n",
      "  1.05858916e+02 2.59779610e+01 2.08354359e+01 9.86421825e+00\n",
      "  6.90693387e+01 1.99998605e+00 4.30537602e+00 3.11838042e+00\n",
      "  1.15741260e+02 1.82362507e-01 2.30108276e+01 1.92083093e+00]\n",
      " [4.49624304e-01 1.41382137e+00 3.58932602e+04 2.98066101e+00\n",
      "  2.02764265e-01 8.80310701e-01 6.72667054e-01 5.72970934e+00\n",
      "  1.18378541e-01 4.93341541e+00 3.24456205e-08 4.72703390e-01\n",
      "  9.49435961e-02 1.62793431e-05 3.85052036e-02 2.58853268e+01]\n",
      " [1.75709175e+00 3.82017787e+00 6.08212492e-01 1.93728162e+02\n",
      "  1.74768518e+00 6.84218260e-01 1.59079798e-01 1.97752006e+00\n",
      "  5.26073620e-02 8.45723955e+00 2.31045399e+00 5.06403303e+01\n",
      "  8.84914137e-01 1.19005126e-04 6.05842013e-01 8.01036095e-02]\n",
      " [4.16296827e+01 1.39563607e+01 5.57855122e+00 4.60227007e+00\n",
      "  3.75381693e+03 1.98470402e+00 3.50269974e+00 7.99163813e-01\n",
      "  3.66633339e-01 6.19989001e-01 2.71971527e-09 4.74252156e+00\n",
      "  6.18835684e-01 1.22985059e-03 9.58881533e+00 2.33498758e-01]\n",
      " [2.02043522e-04 2.10750194e-05 2.17621163e+01 1.29147089e+00\n",
      "  7.01817709e-05 7.28164407e+00 1.38678492e-07 3.64433582e+00\n",
      "  4.21421575e-04 9.50411537e-01 4.34011627e-16 1.09854322e+00\n",
      "  9.78934242e-01 5.23369881e-02 2.78360600e-01 3.81499513e+00]\n",
      " [2.86538830e-02 1.03721073e-01 2.39271393e-02 3.40201554e-02\n",
      "  1.98362723e-02 1.81338406e-02 1.57986363e+00 3.43959827e-02\n",
      "  2.63696288e-02 4.89162571e-03 3.25788266e-03 7.58092330e-03\n",
      "  5.16834160e-03 1.47611035e-04 2.12650022e-02 5.88938613e-04]\n",
      " [3.11556624e-01 2.74870146e+00 1.02090347e-03 3.92149851e-03\n",
      "  1.50309603e-03 4.26766148e-01 5.52155933e-03 4.17145130e+02\n",
      "  2.58863313e-01 2.44417483e-01 1.45299591e-11 1.38670182e-05\n",
      "  1.11786129e+00 1.12638898e-01 1.21167588e-01 7.02644188e-03]\n",
      " [4.99035580e+01 8.10164326e+00 4.24950595e-01 2.40754916e+00\n",
      "  3.93987642e+01 1.01550178e+00 6.43074131e-02 7.55866689e-01\n",
      "  2.02878386e+05 4.41417406e-02 5.72060052e-13 1.53753425e+00\n",
      "  7.95858849e-01 2.22761135e-02 2.48160621e+00 3.76271358e-02]\n",
      " [1.80991269e-05 1.47681363e-02 7.12028498e-01 1.67960482e+00\n",
      "  4.72692775e-09 8.45135503e-01 4.18145690e-07 5.01981268e-01\n",
      "  3.02724809e-08 7.81435717e+02 6.31461984e-04 5.61466044e-01\n",
      "  5.29581905e-03 4.12616072e-18 1.15378274e-14 2.34146894e-01]\n",
      " [3.29605210e+00 3.91293899e+00 7.30342716e-01 7.26457912e+00\n",
      "  3.44320374e+00 1.51033706e-01 1.34200037e-09 1.41565667e-01\n",
      "  3.13088495e-01 1.84909382e-01 3.20979527e+02 2.25180924e+00\n",
      "  1.31723329e-01 1.52004422e-03 2.22213882e-10 4.53729886e-03]\n",
      " [7.28156539e-01 2.56692339e+00 2.37822649e-01 3.61900453e+01\n",
      "  3.88844216e-01 1.66189506e-01 2.23005590e-02 8.01211928e-01\n",
      "  2.91613857e-01 1.33008425e+00 1.02204902e+00 1.07905105e+02\n",
      "  1.98477517e-01 1.30964723e-02 4.31711049e-02 6.78289146e-06]\n",
      " [1.10978867e+00 2.18902204e+02 6.88897280e-02 5.61472680e-01\n",
      "  1.16897225e+00 7.00931841e-02 3.97952184e-10 5.53792951e-04\n",
      "  5.89233587e-01 5.91666561e-10 4.76458163e+00 1.01284329e-08\n",
      "  4.03965015e+02 1.23285866e-10 8.99838175e-02 2.24038856e-02]\n",
      " [1.17484873e-18 7.39520782e-17 6.30351959e-33 2.12237165e-28\n",
      "  2.93644165e-31 1.36927471e-11 8.19508306e-31 1.24563459e-09\n",
      "  1.02927558e-30 1.71037228e-39 4.91598760e-35 4.26402402e-43\n",
      "  1.23596689e-19 1.58601707e+00 2.25035653e-02 2.20265893e-40]\n",
      " [3.32664026e-01 8.33924816e-01 3.58786214e-01 5.28209701e-11\n",
      "  2.93659654e-08 2.39636686e+00 1.18532217e-05 3.97082559e-01\n",
      "  2.89918339e-05 7.51291655e-02 8.55726299e-14 5.04945192e-07\n",
      "  3.07430954e-01 3.71742333e-10 1.19679554e+05 2.58975472e-02]\n",
      " [3.88879601e-16 3.16433929e-17 2.99391533e-10 6.58617701e-14\n",
      "  3.76448648e-20 1.06178286e-10 1.47356828e-14 2.10242930e-11\n",
      "  2.91045936e-14 1.89987832e-21 2.60720122e-28 2.28983944e-02\n",
      "  2.20609567e-16 2.12503295e-22 2.32151644e-21 1.75598150e+02]] [[8.24678757e+04 1.77297997e+03 2.76152202e+03 6.34813563e+03\n",
      "  1.49924427e+03 3.24993499e+03 1.67634937e+03 2.05359055e+03\n",
      "  1.61861627e+04 2.68416222e+03 2.74382874e+01 1.05767380e+04\n",
      "  1.92787529e+03 4.47836577e+01 8.69707001e+03 2.54444416e+03]\n",
      " [4.26611030e+03 1.00249631e+05 1.90556255e+03 6.96589774e+02\n",
      "  3.72201309e+03 1.93009653e+03 4.21424248e+02 9.50834451e+02\n",
      "  3.96951045e+03 1.09539186e+03 4.39217928e+03 1.24274708e+03\n",
      "  2.04543486e+04 1.76566241e+03 2.54803697e+03 1.82463214e+03]\n",
      " [4.18109492e+02 4.21349307e+02 8.08897625e+05 4.91499917e+03\n",
      "  1.95961152e+02 1.26545357e+03 1.39390087e+03 3.62581607e+03\n",
      "  3.04788805e+02 1.15253119e+04 1.67341853e+01 2.74377033e+03\n",
      "  8.96779769e+02 2.80410540e+01 2.12867284e+02 2.71560370e+04]\n",
      " [4.19953913e+03 2.78358539e+03 1.72602666e+03 2.30490230e+04\n",
      "  3.62482047e+03 1.40880162e+03 2.98156133e+03 1.41143722e+03\n",
      "  8.97118730e+03 3.33375528e+03 5.26107638e+03 1.46070755e+04\n",
      "  6.12965354e+03 3.87453646e+01 4.30020002e+03 2.50394278e+03]\n",
      " [1.57883683e+04 2.09743126e+03 2.74666499e+03 6.18092325e+03\n",
      "  1.12225302e+05 3.16443384e+03 1.84647014e+03 1.61084683e+03\n",
      "  6.55146399e+02 2.42185118e+03 1.37605304e+01 1.11522536e+04\n",
      "  1.48023330e+03 3.32840366e+03 8.74537936e+03 2.93455202e+03]\n",
      " [3.96634230e+03 2.88454861e+03 2.93936885e+04 1.89510851e+04\n",
      "  2.68309600e+03 1.10070917e+04 1.69666128e+03 7.87501605e+03\n",
      "  1.05958669e+04 3.10606195e+04 7.39131144e+00 2.12549369e+04\n",
      "  3.39715281e+04 1.19208110e+04 9.54301359e+03 5.45890555e+04]\n",
      " [8.53785459e+00 6.13122034e+00 1.12585069e+01 4.74357218e+00\n",
      "  4.11686224e+00 8.99874206e+00 1.30295721e+01 4.32643140e+00\n",
      "  9.92592002e+00 3.55938538e+00 2.60289242e+00 4.63941138e+00\n",
      "  3.05190643e+00 2.87235955e+00 2.09150616e+01 4.19097104e+00]\n",
      " [2.36557452e+03 3.90087462e+03 9.36037812e+02 2.50218195e+03\n",
      "  1.30329495e+03 1.57497325e+03 2.05748526e+03 3.93951965e+04\n",
      "  8.91973814e+03 3.30151392e+03 3.07962989e+01 6.97429020e+02\n",
      "  9.86715660e+03 3.91177496e+03 6.11434689e+02 4.45517584e+02]\n",
      " [4.36487248e+04 7.75845883e+03 3.13590022e+03 1.41671888e+04\n",
      "  3.91974283e+04 3.95648036e+03 3.07478443e+03 4.00034681e+03\n",
      "  1.13379801e+07 3.62439098e+03 5.27066100e+00 2.62302922e+04\n",
      "  5.68143905e+03 3.33086299e+03 9.69986089e+03 1.95973418e+03]\n",
      " [3.95720502e+03 1.00685830e+04 1.39643640e+04 5.15373978e+03\n",
      "  1.62442748e+03 1.28982359e+04 2.22926916e+03 4.69192906e+03\n",
      "  6.97620741e+03 3.55110119e+05 1.40134899e+03 3.69516085e+03\n",
      "  2.07901607e+04 3.55351659e+01 2.29287624e+02 6.60062077e+04]\n",
      " [6.32868339e+04 2.08880190e+04 1.29557707e+04 8.27845490e+03\n",
      "  3.51758441e+04 6.69824613e+03 1.68185421e+03 2.45811251e+03\n",
      "  8.49250195e+03 2.77212887e+03 1.01889276e+05 5.97189551e+03\n",
      "  8.22928922e+03 5.14628764e+02 4.36520513e+03 1.73362451e+03]\n",
      " [8.58389463e+03 7.16484335e+03 2.22802929e+03 3.80723743e+04\n",
      "  9.32171597e+03 1.81110058e+03 4.92636039e+03 1.73703207e+03\n",
      "  8.20382847e+03 3.51836417e+03 1.72726894e+04 4.03815290e+04\n",
      "  3.71032061e+03 3.22756748e+03 4.78161470e+03 8.89960540e+03]\n",
      " [1.80519133e+04 1.12291488e+05 9.19210337e+03 5.41558018e+03\n",
      "  6.38145483e+03 3.56427669e+03 1.29703836e+03 1.67737926e+04\n",
      "  1.12404597e+04 1.26589020e+03 3.26065308e+04 3.09865652e+03\n",
      "  2.53849171e+05 2.66680248e+03 5.61456237e+03 2.84235844e+03]\n",
      " [6.63194270e+03 1.01452734e+04 2.24960126e+02 4.50699437e+04\n",
      "  6.69433123e+01 1.68455141e+05 1.19592065e+03 1.28601105e+04\n",
      "  1.04555853e+02 3.23575290e+00 7.55028181e+01 3.44353071e-01\n",
      "  2.02125408e+03 3.50297327e+04 8.84763049e+03 8.81531136e-01]\n",
      " [1.22101216e+04 1.36449219e+04 5.19300054e+03 7.99931007e+01\n",
      "  9.81960996e+01 7.06365294e+03 2.39262702e+03 4.20673087e+03\n",
      "  2.74872438e+02 8.72147704e+03 7.10490555e+01 1.29937160e+03\n",
      "  1.34660047e+04 6.54750186e+03 1.15354956e+07 6.67592467e+03]\n",
      " [2.87190172e+03 1.17103655e+03 1.20997653e+04 1.47816439e+04\n",
      "  6.91429286e+01 1.21916620e+03 3.84430464e+03 1.37858600e+04\n",
      "  1.17701527e+03 2.17789049e+02 1.96837596e+00 1.32832296e+04\n",
      "  6.55900876e+02 5.83245358e+01 1.26839531e+02 9.18479119e+05]]\n"
     ]
    },
    {
     "data": {
      "image/png": "[encoded data removed]",
      "text/plain": [
       "<Figure size 432x288 with 1 Axes>"
      ]
     },
     "metadata": {
      "needs_background": "light"
     },
     "output_type": "display_data"
    },
    {
     "name": "stderr",
     "output_type": "stream",
     "text": [
      "\r",
      " 12%|████████████████████████                                                                                                                                                                                | 12/100 [01:56<14:28,  9.87s/it]"
     ]
    },
    {
     "name": "stdout",
     "output_type": "stream",
     "text": [
      "[2.39011575e-02 1.28822660e-01 5.12166830e-02 4.13537963e-02\n",
      " 2.15274336e-02 1.22070318e-02 8.60574619e-01 4.06718788e-02\n",
      " 8.85148252e-03 1.31849100e-02 9.23372910e-03 1.15619119e-02\n",
      " 2.35457823e-03 4.56245821e-05 3.46727877e-03 3.14279260e-04] [[3.18826797e+03 1.06045050e+01 5.08605561e+00 3.29806007e+00\n",
      "  3.25666446e+00 3.26265708e+00 1.19663514e+00 1.15151749e+00\n",
      "  3.14852046e+01 8.27486273e-01 2.65216432e-08 2.10894407e+00\n",
      "  9.96969442e-01 1.06046247e-04 1.47176266e+01 4.89917037e-02]\n",
      " [9.55320887e+01 1.51605106e+04 5.87774608e+01 5.35090497e+00\n",
      "  1.05529442e+02 2.57339717e+01 2.10791940e+01 9.84955581e+00\n",
      "  6.85629723e+01 2.03538809e+00 4.63245067e+00 3.11206687e+00\n",
      "  1.24927291e+02 1.83299901e-01 2.28809912e+01 1.84404553e+00]\n",
      " [4.83110512e-01 1.84072861e+00 4.11015370e+04 3.29562597e+00\n",
      "  2.40679519e-01 1.49803299e+00 8.61030103e-01 5.95670110e+00\n",
      "  1.42719752e-01 5.09552287e+00 5.67147449e-08 5.94685709e-01\n",
      "  1.81601550e-01 1.78231569e-05 3.90331369e-02 2.72638900e+01]\n",
      " [1.88095298e+00 3.81766905e+00 6.21878335e-01 2.00865491e+02\n",
      "  2.04742348e+00 6.66777232e-01 5.26484701e-01 1.97554987e+00\n",
      "  2.41941872e-01 8.48369162e+00 2.30659683e+00 5.06274961e+01\n",
      "  9.41509213e-01 1.23963025e-04 6.03707262e-01 8.06613383e-02]\n",
      " [7.65628248e+01 1.61693489e+01 5.75866386e+00 5.02083904e+00\n",
      "  3.78090000e+03 1.94527370e+00 3.60156027e+00 7.95249233e-01\n",
      "  3.94580744e-01 6.26337477e-01 3.21970636e-09 4.82002006e+00\n",
      "  7.41843740e-01 7.02207093e-04 9.89619038e+00 2.31426264e-01]\n",
      " [9.69143464e-04 7.81433273e-05 2.42800176e+01 1.80848329e+00\n",
      "  2.14257084e-04 8.03445799e+00 7.86934389e-08 3.60963389e+00\n",
      "  7.59094868e-03 1.07217572e+00 7.29971759e-17 1.26975289e+00\n",
      "  9.45336651e-01 4.61198960e-02 3.13372177e-01 3.90179197e+00]\n",
      " [3.24176356e-02 1.14317690e-01 2.98680401e-02 3.80393016e-02\n",
      "  2.06500189e-02 2.08783476e-02 1.93911989e+00 3.69436760e-02\n",
      "  2.93027049e-02 5.25791655e-03 3.40295964e-03 8.66701935e-03\n",
      "  5.20974475e-03 1.47878936e-04 2.53715246e-02 5.90967874e-04]\n",
      " [3.92099528e-01 3.29323379e+00 2.78400544e-03 4.48559356e-02\n",
      "  4.91074012e-03 4.32289596e-01 1.52495613e-02 4.21100389e+02\n",
      "  6.80995897e-01 3.07341722e-01 1.20331049e-11 5.68011916e-05\n",
      "  1.21389856e+00 1.12764425e-01 1.21742019e-01 7.17520609e-03]\n",
      " [4.99523440e+01 1.01891043e+01 4.14635565e-01 2.38369334e+00\n",
      "  4.31302516e+01 9.97232532e-01 6.36332869e-02 7.51824405e-01\n",
      "  2.04115872e+05 4.14989785e-02 1.72949623e-13 1.57569774e+00\n",
      "  8.31159517e-01 2.20408365e-02 2.40406940e+00 3.80865828e-02]\n",
      " [4.00319422e-05 3.48867546e-02 7.44243749e-01 1.60020416e+00\n",
      "  4.36841373e-09 8.34832937e-01 3.48260424e-07 5.19784538e-01\n",
      "  1.70343759e-08 8.78868273e+02 1.07901199e-03 5.44412991e-01\n",
      "  4.07281876e-02 5.53609832e-19 1.38037243e-15 2.35750611e-01]\n",
      " [3.38363275e+00 4.01076355e+00 7.38258847e-01 7.20104408e+00\n",
      "  4.41627360e+00 1.50269710e-01 6.30197555e-10 1.42418460e-01\n",
      "  3.10079293e-01 1.81752487e-01 3.20937377e+02 2.24963523e+00\n",
      "  2.33590224e-01 1.51186292e-03 4.72825347e-11 4.60460559e-03]\n",
      " [7.06025106e-01 2.56609285e+00 2.21001924e-01 3.47289767e+01\n",
      "  4.40045492e-01 1.57007877e-01 4.30490213e-02 7.93191582e-01\n",
      "  2.91035589e-01 1.33464466e+00 9.94834071e-01 1.08928959e+02\n",
      "  1.91346771e-01 1.53531446e-02 3.50494080e-02 2.53842532e-06]\n",
      " [1.10430587e+00 2.19026174e+02 6.98340883e-02 6.12613431e-01\n",
      "  1.11238019e+00 6.99907853e-02 5.50384642e-11 3.99672644e-04\n",
      "  5.75066461e-01 1.56256369e-10 4.70734211e+00 2.78115592e-09\n",
      "  3.97938997e+02 1.13488932e-11 8.82029719e-02 2.31275625e-02]\n",
      " [2.20037628e-19 1.07816013e-17 2.20653474e-35 6.70258926e-29\n",
      "  2.30303547e-33 2.99595603e-12 7.55994114e-33 4.60071826e-10\n",
      "  4.69467719e-33 1.95143643e-42 4.36942323e-37 2.66473670e-46\n",
      "  8.44609661e-21 1.58616898e+00 2.17836894e-02 2.14881604e-43]\n",
      " [3.74592551e-01 1.64586473e+00 3.55891410e-01 1.56810639e-11\n",
      "  1.06512448e-08 2.38213613e+00 4.93876703e-06 3.97228689e-01\n",
      "  2.19033619e-05 7.68478862e-02 1.24775293e-13 3.88178165e-07\n",
      "  3.10856169e-01 1.00343817e-10 1.19902576e+05 2.62940406e-02]\n",
      " [1.48858364e-16 3.63369586e-18 1.68896675e-10 3.79225273e-14\n",
      "  1.37988309e-21 2.57952252e-11 1.32589349e-15 3.69802803e-12\n",
      "  4.42858139e-15 8.24249146e-23 3.02483234e-30 2.43564662e-02\n",
      "  8.36348745e-17 3.06287638e-23 6.16740639e-23 1.83500614e+02]] [[8.32600804e+04 2.07427713e+03 2.78737138e+03 6.79615992e+03\n",
      "  1.95526563e+03 3.24950376e+03 1.72212603e+03 2.04859511e+03\n",
      "  1.94926508e+04 2.67732545e+03 7.00029955e+01 1.11154622e+04\n",
      "  2.26572359e+03 4.83045539e+01 8.69083330e+03 2.51469147e+03]\n",
      " [4.24345282e+03 1.05508584e+05 1.92205585e+03 7.05876188e+02\n",
      "  3.72311379e+03 1.92120666e+03 4.37225750e+02 9.51613523e+02\n",
      "  3.98046196e+03 1.11371273e+03 4.76495509e+03 1.24329039e+03\n",
      "  2.22784017e+04 1.76709061e+03 2.55220492e+03 1.80969248e+03]\n",
      " [4.44997735e+02 4.64406215e+02 9.48176467e+05 5.41670455e+03\n",
      "  2.11553713e+02 1.95682260e+03 1.60097639e+03 3.66673834e+03\n",
      "  3.23681830e+02 1.16944439e+04 3.86337751e+01 3.57554006e+03\n",
      "  1.03094306e+03 2.84111892e+01 2.26256714e+02 2.75688157e+04]\n",
      " [4.58032975e+03 2.85578408e+03 1.72050000e+03 2.40308970e+04\n",
      "  4.26266716e+03 1.39492098e+03 3.58199139e+03 1.41160163e+03\n",
      "  1.18334231e+04 3.34272110e+03 5.23789342e+03 1.46185309e+04\n",
      "  6.57155207e+03 3.60751929e+01 4.33241672e+03 2.50407681e+03]\n",
      " [2.42445549e+04 2.47024290e+03 2.77264139e+03 6.80979873e+03\n",
      "  1.13131338e+05 3.16392640e+03 1.88922200e+03 1.60497340e+03\n",
      "  7.57066362e+02 2.43412912e+03 2.90217536e+01 1.13236332e+04\n",
      "  1.71533203e+03 3.33497851e+03 8.76615650e+03 2.89221403e+03]\n",
      " [6.63026943e+03 5.48648554e+03 3.06751752e+04 1.69060420e+04\n",
      "  3.67389315e+03 1.21870889e+04 2.03385425e+03 7.78089866e+03\n",
      "  2.49279899e+04 2.68364758e+04 1.08772412e+01 2.13304844e+04\n",
      "  2.73607016e+04 1.21361325e+04 9.33314564e+03 5.63291115e+04]\n",
      " [9.72171689e+00 6.85240363e+00 1.38994191e+01 5.33861250e+00\n",
      "  4.34386930e+00 1.04196425e+01 1.62648642e+01 4.71130068e+00\n",
      "  1.13273889e+01 3.87663237e+00 2.73545131e+00 5.32482079e+00\n",
      "  3.07080923e+00 2.90132848e+00 2.52966631e+01 4.21046857e+00]\n",
      " [2.53090068e+03 3.97073216e+03 1.36477679e+03 4.42448053e+03\n",
      "  1.81126543e+03 1.58865903e+03 2.56741026e+03 3.98767628e+04\n",
      "  1.34518884e+04 3.01987446e+03 6.62918551e+01 1.25918948e+03\n",
      "  1.10655340e+04 3.91268940e+03 6.37940202e+02 4.48865057e+02]\n",
      " [4.43891679e+04 8.66143112e+03 3.14041509e+03 1.40945789e+04\n",
      "  4.10576260e+04 3.95206016e+03 3.39989870e+03 4.01207119e+03\n",
      "  1.14182128e+07 3.53078315e+03 7.44655095e+00 2.63605444e+04\n",
      "  5.95415320e+03 3.32372957e+03 9.70025435e+03 1.95146286e+03]\n",
      " [6.05633217e+03 1.14811235e+04 1.36140697e+04 4.77292195e+03\n",
      "  1.80806658e+03 1.31089221e+04 2.48798237e+03 4.61697610e+03\n",
      "  8.56983720e+03 4.07325903e+05 1.74067006e+03 3.57592069e+03\n",
      "  4.17634443e+04 3.54184238e+01 2.38655433e+02 6.61526971e+04]\n",
      " [6.59524732e+04 2.15690940e+04 1.30431610e+04 8.22652564e+03\n",
      "  4.71474602e+04 6.69170582e+03 1.76328395e+03 2.43507177e+03\n",
      "  8.54204816e+03 2.81843747e+03 1.01963393e+05 5.95927370e+03\n",
      "  1.49403318e+04 5.15646128e+02 4.22558263e+03 1.73950317e+03]\n",
      " [8.45698520e+03 7.32389827e+03 2.25518470e+03 3.67016185e+04\n",
      "  9.25309676e+03 1.79096922e+03 5.59621395e+03 1.73773026e+03\n",
      "  8.54391484e+03 3.54867838e+03 1.61582888e+04 4.08035604e+04\n",
      "  3.56373095e+03 3.41245768e+03 4.56241021e+03 1.19887735e+04]\n",
      " [1.84942328e+04 1.12156676e+05 9.29724589e+03 5.35522467e+03\n",
      "  6.53129734e+03 3.59561452e+03 1.29954535e+03 1.71167129e+04\n",
      "  1.13114598e+04 1.26560509e+03 3.24172992e+04 3.06863790e+03\n",
      "  2.53281594e+05 2.66251120e+03 5.84395209e+03 2.83907909e+03]\n",
      " [6.63190607e+03 1.14693965e+04 2.29869782e+02 5.10847876e+04\n",
      "  7.19045650e+01 1.68462192e+05 1.33397401e+03 1.28159605e+04\n",
      "  1.20903741e+02 3.23870987e+00 1.58442497e+02 2.94421355e-01\n",
      "  2.02143062e+03 3.50534058e+04 8.81690872e+03 8.83453056e-01]\n",
      " [1.29595647e+04 1.36017266e+04 5.25946488e+03 9.33957068e+01\n",
      "  1.01081292e+02 7.09939086e+03 2.54353495e+03 4.20568250e+03\n",
      "  2.95821509e+02 8.03151257e+03 1.46360812e+02 1.21257050e+03\n",
      "  1.32503134e+04 6.54655316e+03 1.15616869e+07 6.63182458e+03]\n",
      " [6.12326911e+03 1.71611349e+03 1.24398937e+04 1.47240065e+04\n",
      "  7.03861450e+01 1.20545534e+03 4.26878041e+03 1.32178483e+04\n",
      "  1.15080500e+03 2.18933966e+02 2.31818066e+00 1.22002936e+04\n",
      "  1.03263437e+03 5.83324725e+01 1.65183962e+02 9.71059443e+05]]\n"
     ]
    },
    {
     "data": {
      "image/png": "[encoded data removed]",
      "text/plain": [
       "<Figure size 432x288 with 1 Axes>"
      ]
     },
     "metadata": {
      "needs_background": "light"
     },
     "output_type": "display_data"
    },
    {
     "name": "stderr",
     "output_type": "stream",
     "text": [
      "\r",
      " 13%|██████████████████████████                                                                                                                                                                              | 13/100 [02:06<14:08,  9.75s/it]"
     ]
    },
    {
     "name": "stdout",
     "output_type": "stream",
     "text": [
      "[2.42485183e-02 1.30443632e-01 5.12312909e-02 4.16874275e-02\n",
      " 2.19047418e-02 1.24794036e-02 8.78043982e-01 4.12924187e-02\n",
      " 9.17478036e-03 1.32700638e-02 9.30236737e-03 1.16474216e-02\n",
      " 2.32945563e-03 4.55420490e-05 3.64287820e-03 3.14674566e-04] [[3.18904279e+03 1.15686456e+01 5.20459539e+00 3.44936268e+00\n",
      "  4.22201420e+00 3.20302584e+00 1.15163610e+00 1.14688620e+00\n",
      "  3.84207265e+01 8.29511251e-01 1.20614941e-07 2.17895706e+00\n",
      "  1.13490942e+00 1.13150495e-04 1.49305540e+01 4.78510848e-02]\n",
      " [9.27027876e+01 1.56074801e+04 6.08221316e+01 5.40312549e+00\n",
      "  1.05142724e+02 2.53784021e+01 2.12825998e+01 9.84177847e+00\n",
      "  6.80803089e+01 2.06077931e+00 4.93330006e+00 3.11313837e+00\n",
      "  1.32229266e+02 1.83994702e-01 2.27961608e+01 1.81159985e+00]\n",
      " [5.06024230e-01 2.25317065e+00 4.67570275e+04 3.53829094e+00\n",
      "  2.73593895e-01 2.99134042e+00 1.03632193e+00 6.10756160e+00\n",
      "  1.59584767e-01 5.17251591e+00 1.65753232e-07 7.52711556e-01\n",
      "  2.55284242e-01 1.89499994e-05 3.93069566e-02 2.77025166e+01]\n",
      " [1.97814663e+00 3.82068979e+00 6.32299566e-01 2.05586724e+02\n",
      "  2.32382348e+00 6.47627414e-01 1.37537761e+00 1.97349243e+00\n",
      "  5.21385535e-01 8.50494771e+00 2.29917984e+00 5.05805042e+01\n",
      "  9.63990190e-01 1.31074163e-04 6.01017550e-01 8.09406257e-02]\n",
      " [1.31335507e+02 1.79652327e+01 5.89629097e+00 5.34537955e+00\n",
      "  3.79265119e+03 1.88957472e+00 3.61007835e+00 7.91563697e-01\n",
      "  4.41817543e-01 6.32360256e-01 7.12278829e-09 4.85495082e+00\n",
      "  8.62801537e-01 4.01807914e-04 1.00930946e+01 2.32715619e-01]\n",
      " [4.82962373e-03 3.72296571e-04 2.65905096e+01 1.91262871e+00\n",
      "  6.69960065e-04 8.92838383e+00 4.17898549e-08 3.58574216e+00\n",
      "  1.17220927e-01 1.12879102e+00 1.67251325e-17 1.31812177e+00\n",
      "  8.69453063e-01 4.08489771e-02 3.26265746e-01 3.98773945e+00]\n",
      " [3.67082411e-02 1.26457745e-01 3.72289765e-02 4.24809683e-02\n",
      "  2.15544874e-02 2.41840848e-02 2.41031022e+00 3.98860080e-02\n",
      "  3.26771885e-02 5.67525704e-03 3.56238855e-03 9.99709566e-03\n",
      "  5.25245857e-03 1.47781733e-04 2.99325477e-02 5.92454800e-04]\n",
      " [4.30913622e-01 3.46473083e+00 7.64031549e-03 3.35049260e-01\n",
      "  1.51367746e-02 4.32937742e-01 3.85973437e-02 4.22508622e+02\n",
      "  9.23149264e-01 3.30104209e-01 1.74016250e-11 2.71417205e-04\n",
      "  1.27051677e+00 1.12846886e-01 1.22156654e-01 7.22649217e-03]\n",
      " [4.84664893e+01 1.13836273e+01 4.06159125e-01 2.35554382e+00\n",
      "  4.56998165e+01 9.74524922e-01 6.03010359e-02 7.48924666e-01\n",
      "  2.04103007e+05 3.91803544e-02 6.61626251e-14 1.59288631e+00\n",
      "  8.52853179e-01 2.19295563e-02 2.34382123e+00 3.88036354e-02]\n",
      " [1.14177418e-04 7.27348855e-02 7.62541739e-01 1.53374637e+00\n",
      "  3.91710086e-09 8.20575164e-01 2.63601532e-07 5.27993189e-01\n",
      "  5.18077824e-09 9.50153129e+02 2.07630070e-03 5.33438219e-01\n",
      "  1.68486547e-01 7.28199359e-20 1.65809273e-16 2.36369246e-01]\n",
      " [3.43345461e+00 4.06593173e+00 7.56275333e-01 7.16827183e+00\n",
      "  5.37204979e+00 1.49571682e-01 2.69906175e-10 1.42677399e-01\n",
      "  3.10501391e-01 1.82551864e-01 3.20812410e+02 2.24850723e+00\n",
      "  4.12391643e-01 1.49144985e-03 9.22877805e-12 4.63223363e-03]\n",
      " [6.94238976e-01 2.56646931e+00 2.11365517e-01 3.34707093e+01\n",
      "  4.59157539e-01 1.49468877e-01 7.00238066e-02 7.87373432e-01\n",
      "  2.56277396e-01 1.34066390e+00 9.74799012e-01 1.09467215e+02\n",
      "  1.87695356e-01 1.70183311e-02 2.94384272e-02 9.21885072e-07]\n",
      " [1.09058712e+00 2.18636672e+02 7.09271917e-02 6.39574334e-01\n",
      "  1.07742646e+00 7.01546991e-02 7.61502400e-12 2.80932404e-04\n",
      "  5.58474229e-01 4.12238090e-11 4.66406632e+00 8.11434011e-10\n",
      "  3.93228240e+02 1.04543134e-12 8.66375628e-02 2.34758174e-02]\n",
      " [4.22622357e-20 1.52937458e-18 7.54048468e-38 1.21908749e-29\n",
      "  1.78461074e-35 6.58160668e-13 6.33638942e-35 1.66409304e-10\n",
      "  2.42863141e-35 2.20823469e-45 4.20156816e-39 1.69982599e-49\n",
      "  5.74610575e-22 1.58615309e+00 2.11897218e-02 2.09115519e-46]\n",
      " [3.93456963e-01 2.16832354e+00 3.55582465e-01 4.54991746e-12\n",
      "  3.80832344e-09 2.36693216e+00 1.93124320e-06 3.96102762e-01\n",
      "  1.63941384e-05 7.75824665e-02 1.90543067e-13 2.96646626e-07\n",
      "  3.12744670e-01 2.70995179e-11 1.20153972e+05 2.65850904e-02]\n",
      " [5.21476538e-17 5.06579277e-19 9.60914030e-11 2.25685477e-14\n",
      "  5.14124819e-23 6.10447070e-12 1.13579630e-16 6.53181225e-13\n",
      "  6.80557071e-16 3.58348212e-24 3.67748647e-32 2.72364036e-02\n",
      "  6.83442996e-17 4.33910628e-24 1.68946088e-24 1.86572438e+02]] [[8.36158241e+04 2.36912779e+03 2.80939715e+03 7.16021234e+03\n",
      "  2.55229239e+03 3.24341501e+03 1.74624026e+03 2.04588483e+03\n",
      "  2.20946094e+04 2.67433564e+03 1.58557592e+02 1.14567344e+04\n",
      "  2.66422433e+03 5.15981585e+01 8.68261687e+03 2.49982978e+03]\n",
      " [4.21518247e+03 1.08870177e+05 1.93736312e+03 7.14477043e+02\n",
      "  3.71953457e+03 1.90781697e+03 4.53389716e+02 9.53031995e+02\n",
      "  3.98572570e+03 1.12706219e+03 5.11106706e+03 1.24478765e+03\n",
      "  2.37416970e+04 1.76812356e+03 2.55562344e+03 1.80360813e+03]\n",
      " [4.66280027e+02 5.07749661e+02 1.10300896e+06 5.87040172e+03\n",
      "  2.26073064e+02 3.38580502e+03 1.76888185e+03 3.69212945e+03\n",
      "  3.35706434e+02 1.17478977e+04 8.94259135e+01 4.68980508e+03\n",
      "  1.07267260e+03 2.86449268e+01 2.40103363e+02 2.76244991e+04]\n",
      " [4.86579702e+03 2.91546063e+03 1.72600984e+03 2.46894636e+04\n",
      "  4.92677602e+03 1.37815959e+03 3.96960749e+03 1.41318291e+03\n",
      "  1.29030400e+04 3.34978171e+03 5.20220300e+03 1.46126948e+04\n",
      "  6.72576646e+03 3.47999443e+01 4.34890051e+03 2.50533047e+03]\n",
      " [3.43767996e+04 2.80622360e+03 2.79103161e+03 7.31118656e+03\n",
      "  1.13554363e+05 3.15275809e+03 1.91940714e+03 1.60100211e+03\n",
      "  9.00042696e+02 2.44733237e+03 7.30079709e+01 1.14108235e+04\n",
      "  1.97926647e+03 3.34045909e+03 8.77280634e+03 2.86793334e+03]\n",
      " [9.02554654e+03 1.00838653e+04 3.17090618e+04 1.53788448e+04\n",
      "  4.68714754e+03 1.36914046e+04 2.29349443e+03 7.73245717e+03\n",
      "  3.82298345e+04 2.51192776e+04 1.86864182e+01 2.13311798e+04\n",
      "  2.28065959e+04 1.22998223e+04 9.23575381e+03 5.74431466e+04]\n",
      " [1.10869891e+01 7.67298457e+00 1.70913702e+01 6.02272832e+00\n",
      "  4.58480706e+00 1.21691399e+01 2.06153994e+01 5.15666459e+00\n",
      "  1.29588130e+01 4.23432877e+00 2.87899910e+00 6.17565988e+00\n",
      "  3.08727727e+00 2.91871435e+00 3.02474473e+01 4.22622252e+00]\n",
      " [2.61349908e+03 3.93092403e+03 1.84533668e+03 5.95843300e+03\n",
      "  2.26499091e+03 1.59115444e+03 2.95768495e+03 4.00555580e+04\n",
      "  1.61009716e+04 2.75653676e+03 1.56126095e+02 2.10116813e+03\n",
      "  1.18788481e+04 3.91290329e+03 6.62336081e+02 4.50095581e+02]\n",
      " [4.45271007e+04 9.33583388e+03 3.14347359e+03 1.40188315e+04\n",
      "  4.23755967e+04 3.94451937e+03 3.71148039e+03 4.02449918e+03\n",
      "  1.14200431e+07 3.46808176e+03 1.18333754e+01 2.64126632e+04\n",
      "  6.18214752e+03 3.32007871e+03 9.70645411e+03 1.95178178e+03]\n",
      " [8.47367008e+03 1.20146660e+04 1.34440247e+04 4.48148193e+03\n",
      "  1.92646932e+03 1.33472758e+04 2.67884588e+03 4.55447104e+03\n",
      "  8.53396102e+03 4.46480119e+05 2.34103078e+03 3.50622144e+03\n",
      "  5.78475124e+04 3.53368628e+01 2.39536029e+02 6.62193020e+04]\n",
      " [6.75982007e+04 2.19532577e+04 1.30463219e+04 8.20619464e+03\n",
      "  5.88774493e+04 6.68082632e+03 1.80265220e+03 2.42018478e+03\n",
      "  8.58779116e+03 2.87607501e+03 1.01993998e+05 5.95356406e+03\n",
      "  2.65571488e+04 5.16326547e+02 4.06878917e+03 1.74155771e+03]\n",
      " [8.33486128e+03 7.44251098e+03 2.28740684e+03 3.54094667e+04\n",
      "  9.11516122e+03 1.76872801e+03 6.06341810e+03 1.73988395e+03\n",
      "  8.69583353e+03 3.57863334e+03 1.54961888e+04 4.10259214e+04\n",
      "  3.48018236e+03 3.54874880e+03 4.39294232e+03 1.47056628e+04]\n",
      " [1.85647862e+04 1.11698203e+05 9.38234763e+03 5.30734869e+03\n",
      "  6.62252630e+03 3.61747140e+03 1.30055104e+03 1.72517549e+04\n",
      "  1.14133253e+04 1.26377781e+03 3.22708515e+04 3.04232889e+03\n",
      "  2.52666649e+05 2.65895166e+03 6.00594067e+03 2.83683849e+03]\n",
      " [6.63183676e+03 1.23716489e+04 2.34012479e+02 5.10754560e+04\n",
      "  7.48186393e+01 1.68462444e+05 1.39243300e+03 1.27645258e+04\n",
      "  1.46250206e+02 3.22508903e+00 2.50830772e+02 2.47007335e-01\n",
      "  2.02145199e+03 3.50673544e+04 8.80442365e+03 8.83940433e-01]\n",
      " [1.33801683e+04 1.27707793e+04 5.33476278e+03 1.06690714e+02\n",
      "  1.03154651e+02 7.13542796e+03 2.62497788e+03 4.20698354e+03\n",
      "  3.16475663e+02 7.74540055e+03 2.27583737e+02 1.15869663e+03\n",
      "  1.31102028e+04 6.54642749e+03 1.15864117e+07 6.60227158e+03]\n",
      " [8.97917278e+03 2.58850983e+03 1.25882341e+04 1.46834634e+04\n",
      "  7.24032924e+01 1.19087759e+03 4.61315414e+03 1.28704528e+04\n",
      "  1.14237708e+03 2.20749807e+02 2.80256846e+00 1.20144005e+04\n",
      "  2.78338832e+03 5.83387226e+01 2.14607433e+02 9.92127306e+05]]\n"
     ]
    },
    {
     "data": {
      "image/png": "[encoded data removed]",
      "text/plain": [
       "<Figure size 432x288 with 1 Axes>"
      ]
     },
     "metadata": {
      "needs_background": "light"
     },
     "output_type": "display_data"
    },
    {
     "name": "stderr",
     "output_type": "stream",
     "text": [
      "\r",
      " 14%|████████████████████████████                                                                                                                                                                            | 14/100 [02:15<13:41,  9.56s/it]"
     ]
    },
    {
     "name": "stdout",
     "output_type": "stream",
     "text": [
      "[2.45991309e-02 1.32079036e-01 5.12829883e-02 4.20392024e-02\n",
      " 2.22539017e-02 1.27804791e-02 8.97142343e-01 4.19260660e-02\n",
      " 9.51489892e-03 1.33565371e-02 9.36295953e-03 1.17497584e-02\n",
      " 2.31390261e-03 4.55460332e-05 3.81238950e-03 3.15102501e-04] [[3.17832507e+03 1.25040567e+01 5.32239871e+00 3.57381639e+00\n",
      "  5.52419406e+00 3.09212491e+00 1.08061418e+00 1.14285427e+00\n",
      "  4.38240043e+01 8.32388486e-01 6.63765680e-07 2.22104732e+00\n",
      "  1.28735100e+00 1.20121359e-04 1.50679274e+01 4.71263169e-02]\n",
      " [8.97075094e+01 1.58910057e+04 6.27236982e+01 5.45547791e+00\n",
      "  1.04672837e+02 2.48767673e+01 2.14551721e+01 9.84281936e+00\n",
      "  6.76817955e+01 2.07937991e+00 5.21160302e+00 3.12109255e+00\n",
      "  1.37852767e+02 1.84516864e-01 2.27469516e+01 1.79681847e+00]\n",
      " [5.23295095e-01 2.64673393e+00 5.30162657e+04 3.74774579e+00\n",
      "  3.01240370e-01 7.14210624e+00 1.17905982e+00 6.20712406e+00\n",
      "  1.71007044e-01 5.20668048e+00 6.90524203e-07 9.48715553e-01\n",
      "  3.05511830e-01 1.97325642e-05 3.94225687e-02 2.78246136e+01]\n",
      " [2.05010788e+00 3.82823036e+00 6.43139980e-01 2.09002185e+02\n",
      "  2.59497091e+00 6.30287796e-01 2.56474897e+00 1.97190593e+00\n",
      "  6.84531056e-01 8.52119310e+00 2.29006346e+00 5.05357104e+01\n",
      "  9.63801586e-01 1.38285250e-04 5.98292095e-01 8.10830062e-02]\n",
      " [2.06214200e+02 1.94006382e+01 6.01017181e+00 5.59734057e+00\n",
      "  3.79796181e+03 1.80794137e+00 3.55601225e+00 7.88240726e-01\n",
      "  5.20112495e-01 6.37705197e-01 2.79403149e-08 4.86935608e+00\n",
      "  9.88480324e-01 2.30257415e-04 1.02219772e+01 2.34678995e-01]\n",
      " [2.06593027e-02 2.05523563e-03 2.87939265e+01 1.89991549e+00\n",
      "  2.13805049e-03 1.00034478e+01 2.08011943e-08 3.57028371e+00\n",
      "  6.29737287e-01 1.15374383e+00 6.26416409e-18 1.32430818e+00\n",
      "  8.21493069e-01 3.64316489e-02 3.30455505e-01 4.06058090e+00]\n",
      " [4.16045346e-02 1.40361025e-01 4.60566685e-02 4.72930529e-02\n",
      "  2.25463868e-02 2.81918866e-02 3.04263191e+00 4.33126055e-02\n",
      "  3.66280828e-02 6.14652717e-03 3.73541718e-03 1.16313105e-02\n",
      "  5.28870878e-03 1.47401286e-04 3.49562197e-02 5.93663829e-04]\n",
      " [4.49066575e-01 3.49860867e+00 1.99703753e-02 8.87366162e-01\n",
      "  4.07274786e-02 4.33609219e-01 8.89097634e-02 4.23032609e+02\n",
      "  1.04844022e+00 3.34221841e-01 5.20648173e-11 1.36896563e-03\n",
      "  1.29908706e+00 1.12901039e-01 1.22311450e-01 7.23538840e-03]\n",
      " [4.61606857e+01 1.20347297e+01 3.98810614e-01 2.32387339e+00\n",
      "  4.73955848e+01 9.43209641e-01 5.49981157e-02 7.46498789e-01\n",
      "  2.04078977e+05 3.75276566e-02 3.71397153e-14 1.60015472e+00\n",
      "  8.66477360e-01 2.18767664e-02 2.29786053e+00 3.94124349e-02]\n",
      " [3.00790421e-04 1.33158445e-01 7.76947716e-01 1.47827218e+00\n",
      "  3.46516994e-09 8.03416468e-01 1.79364099e-07 5.31275892e-01\n",
      "  1.33847950e-09 1.00009987e+03 4.75704252e-03 5.26482308e-01\n",
      "  2.88984165e-01 9.40623170e-21 2.03681790e-17 2.36629471e-01]\n",
      " [3.46031004e+00 4.09049717e+00 7.95807591e-01 7.14570653e+00\n",
      "  5.87509338e+00 1.48774750e-01 1.04568725e-10 1.42514382e-01\n",
      "  3.12976354e-01 1.84465854e-01 3.20664186e+02 2.24756599e+00\n",
      "  7.11226172e-01 1.46520406e-03 1.68044240e-12 4.63678397e-03]\n",
      " [6.93944071e-01 2.56556928e+00 2.06095475e-01 3.24336416e+01\n",
      "  4.61308668e-01 1.43255827e-01 9.23312335e-02 7.82719229e-01\n",
      "  2.25021029e-01 1.34576586e+00 9.61187192e-01 1.09742869e+02\n",
      "  1.85765599e-01 1.83254978e-02 2.53795175e-02 3.23529349e-07]\n",
      " [1.07891749e+00 2.18024401e+02 7.24145478e-02 6.56945956e-01\n",
      "  1.05301688e+00 7.05483738e-02 1.05598439e-12 1.92948352e-04\n",
      "  5.33939715e-01 1.08565276e-11 4.62896246e+00 2.53552908e-10\n",
      "  3.89726527e+02 9.63389873e-14 8.52958658e-02 2.36271798e-02]\n",
      " [8.37754676e-21 2.14313771e-19 2.51401770e-40 6.81603265e-31\n",
      "  1.35505668e-37 1.45849572e-13 4.85884918e-37 5.88980590e-11\n",
      "  1.48991306e-37 2.48547636e-48 3.11379424e-41 1.12556570e-52\n",
      "  3.88840903e-23 1.58608877e+00 2.06614573e-02 2.03179875e-49]\n",
      " [4.04327911e-01 2.39908422e+00 3.60703879e-01 1.26776858e-12\n",
      "  1.35241256e-09 2.34358131e+00 7.10886750e-07 3.94275082e-01\n",
      "  1.21743075e-05 7.74593067e-02 2.52510484e-13 2.23715619e-07\n",
      "  3.13272906e-01 7.32166771e-12 1.20138176e+05 2.67580463e-02]\n",
      " [1.41064645e-17 8.57809234e-20 5.57447604e-11 1.39957936e-14\n",
      "  1.95573512e-24 1.41041827e-12 9.23278628e-18 1.15791438e-13\n",
      "  1.08525185e-16 1.55817784e-25 4.75264676e-34 3.04188183e-02\n",
      "  2.16418843e-16 6.06921859e-25 4.74160087e-26 1.87778947e+02]] [[8.37124324e+04 2.65058392e+03 2.82990175e+03 7.48920628e+03\n",
      "  3.33391674e+03 3.22851758e+03 1.75701649e+03 2.04463687e+03\n",
      "  2.40245964e+04 2.67328623e+03 2.83562600e+02 1.16647948e+04\n",
      "  3.12060707e+03 5.47804916e+01 8.67539970e+03 2.49142648e+03]\n",
      " [4.18151065e+03 1.11012249e+05 1.95109183e+03 7.23440476e+02\n",
      "  3.71167474e+03 1.89564998e+03 4.70704275e+02 9.55062406e+02\n",
      "  3.98700615e+03 1.13681807e+03 5.43330898e+03 1.24835834e+03\n",
      "  2.48770502e+04 1.76891560e+03 2.55872749e+03 1.80123048e+03]\n",
      " [4.83984116e+02 5.52219214e+02 1.27787514e+06 6.32104567e+03\n",
      "  2.39566677e+02 6.40900512e+03 1.89702858e+03 3.70801087e+03\n",
      "  3.43524217e+02 1.17498925e+04 1.81741611e+02 6.10863365e+03\n",
      "  1.06042411e+03 2.88061835e+01 2.54011111e+02 2.75921125e+04]\n",
      " [5.06958894e+03 2.96493935e+03 1.73888751e+03 2.51737381e+04\n",
      "  5.62759426e+03 1.36555417e+03 4.02473000e+03 1.41569925e+03\n",
      "  1.27900842e+04 3.35471668e+03 5.16219895e+03 1.46059044e+04\n",
      "  6.68484768e+03 3.41558142e+01 4.35747200e+03 2.50713613e+03]\n",
      " [4.55115305e+04 3.10122074e+03 2.80620973e+03 7.71637403e+03\n",
      "  1.13764825e+05 3.12600312e+03 1.94525376e+03 1.59822792e+03\n",
      "  1.10893586e+03 2.45872243e+03 1.81520401e+02 1.14578395e+04\n",
      "  2.27075330e+03 3.34486723e+03 8.77485033e+03 2.85364534e+03]\n",
      " [1.04486550e+04 1.67842517e+04 3.26017221e+04 1.45405265e+04\n",
      "  5.73716370e+03 1.56251993e+04 2.47790677e+03 7.71205758e+03\n",
      "  4.06226101e+04 2.43497551e+04 3.99866888e+01 2.13091194e+04\n",
      "  2.04976912e+04 1.24201349e+04 9.20882744e+03 5.81712095e+04]\n",
      " [1.26561953e+01 8.61404945e+00 2.08513631e+01 6.80541772e+00\n",
      "  4.84204114e+00 1.43439991e+01 2.66103133e+01 5.67769234e+00\n",
      "  1.49022842e+01 4.63819334e+00 3.03408394e+00 7.23848182e+00\n",
      "  3.10114250e+00 2.92697962e+00 3.58069431e+01 4.23919259e+00]\n",
      " [2.66196767e+03 3.87055547e+03 2.31664097e+03 6.00077250e+03\n",
      "  2.59591507e+03 1.59583597e+03 3.22873316e+03 4.01243207e+04\n",
      "  1.81580666e+04 2.55978788e+03 4.34671802e+02 3.15218515e+03\n",
      "  1.23344886e+04 3.91266605e+03 6.83651301e+02 4.50344754e+02]\n",
      " [4.41449842e+04 9.86838631e+03 3.14546303e+03 1.39359473e+04\n",
      "  4.33253824e+04 3.92919959e+03 4.03041067e+03 4.03658551e+03\n",
      "  1.14190057e+07 3.42945499e+03 2.26158245e+01 2.64282673e+04\n",
      "  6.34425340e+03 3.31816986e+03 9.71877829e+03 1.95292914e+03]\n",
      " [1.00766433e+04 1.19905754e+04 1.34092222e+04 4.27487332e+03\n",
      "  2.00182147e+03 1.35833578e+04 2.80539770e+03 4.50808604e+03\n",
      "  8.39406954e+03 4.74406246e+05 3.51425370e+03 3.47155476e+03\n",
      "  5.76360209e+04 3.52825196e+01 2.34951971e+02 6.62481465e+04]\n",
      " [6.86225337e+04 2.21447917e+04 1.29955922e+04 8.20351425e+03\n",
      "  6.52627548e+04 6.65233414e+03 1.80851864e+03 2.41062242e+03\n",
      "  8.62478386e+03 2.92621742e+03 1.02007681e+05 5.95020672e+03\n",
      "  4.79135261e+04 5.16714866e+02 3.91837081e+03 1.74182021e+03]\n",
      " [8.25944632e+03 7.52625304e+03 2.31953551e+03 3.43014890e+04\n",
      "  8.93273850e+03 1.74452368e+03 6.30283064e+03 1.74247934e+03\n",
      "  9.32381131e+03 3.60223960e+03 1.50831504e+04 4.11431082e+04\n",
      "  3.43555236e+03 3.65347283e+03 4.25438177e+03 1.69227685e+04]\n",
      " [1.84390004e+04 1.11162905e+05 9.45588006e+03 5.27706220e+03\n",
      "  6.67793595e+03 3.63248390e+03 1.30391601e+03 1.72648347e+04\n",
      "  1.15325253e+04 1.26144231e+03 3.21502180e+04 3.01810348e+03\n",
      "  2.52133055e+05 2.65603328e+03 6.11386814e+03 2.83681615e+03]\n",
      " [6.63180285e+03 1.29651361e+04 2.37627825e+02 5.09097909e+04\n",
      "  7.63628018e+01 1.68460927e+05 1.40368017e+03 1.27079118e+04\n",
      "  1.84618601e+02 3.20254119e+00 2.74681699e+02 2.05713240e-01\n",
      "  2.02138300e+03 3.50763613e+04 8.79927552e+03 8.83853898e-01]\n",
      " [1.36998150e+04 1.19574147e+04 5.43513190e+03 1.19125635e+02\n",
      "  1.04655799e+02 7.16909900e+03 2.64792121e+03 4.20934184e+03\n",
      "  3.35796508e+02 7.62179563e+03 2.71750181e+02 1.13139699e+03\n",
      "  1.29963052e+04 6.54693916e+03 1.15853263e+07 6.58491405e+03]\n",
      " [9.93526061e+03 3.85049981e+03 1.26602684e+04 1.46741695e+04\n",
      "  7.53181570e+01 1.17876082e+03 4.88341750e+03 1.26600200e+04\n",
      "  1.14945071e+03 2.23186520e+02 3.50219713e+00 1.20287069e+04\n",
      "  1.36875373e+04 5.83433343e+01 2.74809191e+02 1.00041243e+06]]\n"
     ]
    },
    {
     "data": {
      "image/png": "[encoded data removed]",
      "text/plain": [
       "<Figure size 432x288 with 1 Axes>"
      ]
     },
     "metadata": {
      "needs_background": "light"
     },
     "output_type": "display_data"
    },
    {
     "name": "stderr",
     "output_type": "stream",
     "text": [
      "\r",
      " 15%|██████████████████████████████                                                                                                                                                                          | 15/100 [02:24<13:26,  9.49s/it]"
     ]
    }
   ],
   "source": [
    "nu,alpha,beta = em(times,events)"
   ]
  },
  {
   "cell_type": "code",
   "execution_count": null,
   "id": "d0e12c73",
   "metadata": {},
   "outputs": [],
   "source": [
    "nu,alpha,beta"
   ]
  },
  {
   "cell_type": "code",
   "execution_count": null,
   "id": "ce4d33fb",
   "metadata": {},
   "outputs": [],
   "source": []
  }
 ],
 "metadata": {
  "kernelspec": {
   "display_name": "Python 3 (ipykernel)",
   "language": "python",
   "name": "python3"
  },
  "language_info": {
   "codemirror_mode": {
    "name": "ipython",
    "version": 3
   },
   "file_extension": ".py",
   "mimetype": "text/x-python",
   "name": "python",
   "nbconvert_exporter": "python",
   "pygments_lexer": "ipython3",
   "version": "3.9.0"
  }
 },
 "nbformat": 4,
 "nbformat_minor": 5
}
